{
 "cells": [
  {
   "cell_type": "raw",
   "metadata": {},
   "source": [
    "---\n",
    "title: Biostat/Biomath M257 Homework 5\n",
    "subtitle: 'Due May 24 @ 11:59PM'\n",
    "author: Yanlong Bai, 605667857\n",
    "date: today\n",
    "format:\n",
    "  html:\n",
    "    theme: cosmo\n",
    "    embed-resources: true\n",
    "    number-sections: true\n",
    "    toc: true\n",
    "    toc-depth: 4\n",
    "    toc-location: left\n",
    "---"
   ]
  },
  {
   "cell_type": "markdown",
   "metadata": {},
   "source": [
    "System information (for reproducibility):"
   ]
  },
  {
   "cell_type": "code",
   "execution_count": 1,
   "metadata": {
    "scrolled": true,
    "tags": []
   },
   "outputs": [
    {
     "name": "stdout",
     "output_type": "stream",
     "text": [
      "Julia Version 1.10.2\n",
      "Commit bd47eca2c8a (2024-03-01 10:14 UTC)\n",
      "Build Info:\n",
      "  Official https://julialang.org/ release\n",
      "Platform Info:\n",
      "  OS: macOS (x86_64-apple-darwin22.4.0)\n",
      "  CPU: 11 × Apple M3 Pro\n",
      "  WORD_SIZE: 64\n",
      "  LIBM: libopenlibm\n",
      "  LLVM: libLLVM-15.0.7 (ORCJIT, westmere)\n",
      "Threads: 1 default, 0 interactive, 1 GC (on 11 virtual cores)\n"
     ]
    }
   ],
   "source": [
    "versioninfo()"
   ]
  },
  {
   "cell_type": "markdown",
   "metadata": {},
   "source": [
    "Load packages:"
   ]
  },
  {
   "cell_type": "code",
   "execution_count": 2,
   "metadata": {
    "scrolled": true,
    "tags": []
   },
   "outputs": [
    {
     "name": "stderr",
     "output_type": "stream",
     "text": [
      "\u001b[32m\u001b[1m  Activating\u001b[22m\u001b[39m project at `~/Documents/GitHub/biostat-m257-2024-spring/hw5`\n"
     ]
    },
    {
     "name": "stdout",
     "output_type": "stream",
     "text": [
      "\u001b[32m\u001b[1mStatus\u001b[22m\u001b[39m `~/Documents/GitHub/biostat-m257-2024-spring/hw5/Project.toml`\n",
      "  \u001b[90m[1e616198] \u001b[39mCOSMO v0.8.9\n",
      "  \u001b[90m[61c947e1] \u001b[39mClarabel v0.8.1\n",
      "  \u001b[90m[f65535da] \u001b[39mConvex v0.16.0\n",
      "  \u001b[90m[a93c6f00] \u001b[39mDataFrames v1.6.1\n",
      "  \u001b[90m[60bf3e95] \u001b[39mGLPK v1.2.1\n",
      "\u001b[32m⌃\u001b[39m \u001b[90m[2e9cd046] \u001b[39mGurobi v1.2.3\n",
      "  \u001b[90m[87dc4568] \u001b[39mHiGHS v1.9.0\n",
      "  \u001b[90m[b99e6be6] \u001b[39mHypatia v0.8.1\n",
      "  \u001b[90m[4076af6c] \u001b[39mJuMP v1.22.1\n",
      "  \u001b[90m[67920dd8] \u001b[39mKNITRO v0.14.2\n",
      "\u001b[32m⌃\u001b[39m \u001b[90m[b8f27783] \u001b[39mMathOptInterface v1.29.0\n",
      "  \u001b[90m[1ec41992] \u001b[39mMosekTools v0.15.1\n",
      "  \u001b[90m[2f354839] \u001b[39mPajarito v0.8.2\n",
      "  \u001b[90m[46dd5b70] \u001b[39mPardiso v0.5.7\n",
      "  \u001b[90m[08abe8d2] \u001b[39mPrettyTables v2.3.1\n",
      "  \u001b[90m[c946c3f1] \u001b[39mSCS v2.0.0\n",
      "  \u001b[90m[3eaba693] \u001b[39mStatsModels v0.7.3\n",
      "\u001b[36m\u001b[1mInfo\u001b[22m\u001b[39m Packages marked with \u001b[32m⌃\u001b[39m have new versions available and may be upgradable.\n"
     ]
    }
   ],
   "source": [
    "using Pkg\n",
    "\n",
    "Pkg.activate(pwd())\n",
    "Pkg.instantiate()\n",
    "Pkg.status()"
   ]
  },
  {
   "cell_type": "markdown",
   "metadata": {},
   "source": [
    "In this exercise, we practice using disciplined convex programming (SDP in particular) to solve optimal design problems.\n",
    "\n",
    "## Introduction to optimal design\n",
    "\n",
    "Consider a linear model\n",
    "\\begin{eqnarray*}\n",
    "\ty_i = \\mathbf{x}_i^T \\boldsymbol{\\beta} + \\epsilon_i, \\quad i = 1,\\ldots, n,\n",
    "\\end{eqnarray*}\n",
    "where $\\epsilon_i$ are independent Gaussian noises with common variance $\\sigma^2$. It is well known that the least squares estimate $\\hat{\\boldsymbol{\\beta}}$ is unbiased and has covariance $\\sigma^2 (\\sum_{i=1}^n \\mathbf{x}_i \\mathbf{x}_i^T)^{-1}$. \n",
    "\n",
    "In **exact optimal design**, given total number of $n$ allowable experiments, we want to choose among a list of $m$ candidate design points $\\{\\mathbf{x}_1, \\ldots, \\mathbf{x}_m\\}$ such that the covariance matrix is minimized in some sense. In mathematical terms, we want to find an integer vector $\\mathbf{n} = (n_1, \\ldots, n_m)$ such that $n_i \\ge 0$, $\\sum_{i=1}^m n_i = n$, and the matrix $\\mathbf{V} = \\left( \\sum_{i=1}^m n_i \\mathbf{x}_i \\mathbf{x}_i^T \\right)^{-1}$ is \"small\".\n",
    "\n",
    "In **approximate optimal design**,  we want to find a probability vector $\\mathbf{p} = (p_1, \\ldots, p_m)$ such that $p_i \\ge 0$, $\\sum_{i=1}^m p_i = 1$, and the matrix $\\mathbf{V} = \\left( \\sum_{i=1}^m p_i \\mathbf{x}_i \\mathbf{x}_i^T \\right)^{-1}$ is \"small\".\n",
    "\n",
    "Commonly used optimal design criteria include:\n",
    "\n",
    "- In **$D$-optimal design**, we minimize the determinant of $\\mathbf{V}$\n",
    "\\begin{eqnarray*}\n",
    "\t&\\text{minimize}& \\det \\left( \\sum_{i=1}^m p_i \\mathbf{x}_i \\mathbf{x}_i^T \\right)^{-1} \\\\\n",
    "\t&\\text{subject to}& p_i \\ge 0, \\sum_{i=1}^m p_i = 1.\n",
    "\\end{eqnarray*}\n",
    "\n",
    "- In **$E$-optimal design**, we minimize the spectral norm, i.e., the maximum eigenvalue of $\\mathbf{V}$\n",
    "\\begin{eqnarray*}\n",
    "\t&\\text{minimize}& \\lambda_{\\text{max}} \\left( \\sum_{i=1}^m p_i \\mathbf{x}_i \\mathbf{x}_i^T \\right)^{-1} \\\\\n",
    "\t&\\text{subject to}& p_i \\ge 0, \\sum_{i=1}^m p_i = 1.\t\n",
    "\\end{eqnarray*}\n",
    "Statistically we are minimizing the maximum variance of $\\sum_{j=1}^p a_j \\text{var}(\\hat \\beta_j)$ over all vectors $\\mathbf{a}$ with unit norm.\n",
    "\n",
    "- In **$A$-optimal design**, we minimize the trace of $\\mathbf{V}$\n",
    "\\begin{eqnarray*}\n",
    "\t&\\text{minimize}& \\text{tr} \\left( \\sum_{i=1}^m p_i \\mathbf{x}_i \\mathbf{x}_i^T \\right)^{-1} \\\\\n",
    "\t&\\text{subject to}& p_i \\ge 0, \\sum_{i=1}^m p_i = 1.\n",
    "\\end{eqnarray*}\n",
    "Statistically we are minimizing the total variance $\\sum_{j=1}^p \\text{var}(\\hat \\beta_j)$."
   ]
  },
  {
   "cell_type": "markdown",
   "metadata": {},
   "source": [
    "## Q1 (10 pts) 3x4 factorial design\n",
    "\n",
    "A drug company ask you to help design a two factor clinical trial, in which treatment A has three levels (A1, A2, and A3) and treatment B has four levels (B1, B2, B3, and B4). Drug company also tells you that the treatment combination A3:B4 has undesirable side effects so we ignore this design point. \n",
    "\n",
    "Using dummy coding with A1 and B1 as the baseline levels, find the matrix $C$ with each row a unique design point."
   ]
  },
  {
   "cell_type": "markdown",
   "metadata": {},
   "source": [
    "### Solution"
   ]
  },
  {
   "cell_type": "code",
   "execution_count": 67,
   "metadata": {},
   "outputs": [],
   "source": [
    "using DataFrames, MosekTools, MathOptInterface, LinearAlgebra, JuMP, Pajarito, Gurobi, Convex"
   ]
  },
  {
   "cell_type": "code",
   "execution_count": 4,
   "metadata": {},
   "outputs": [
    {
     "data": {
      "text/html": [
       "<div><div style = \"float: left;\"><span>11×7 DataFrame</span></div><div style = \"clear: both;\"></div></div><div class = \"data-frame\" style = \"overflow-x: scroll;\"><table class = \"data-frame\" style = \"margin-bottom: 6px;\"><thead><tr class = \"header\"><th class = \"rowNumber\" style = \"font-weight: bold; text-align: right;\">Row</th><th style = \"text-align: left;\">treatment</th><th style = \"text-align: left;\">intercept</th><th style = \"text-align: left;\">A2</th><th style = \"text-align: left;\">A3</th><th style = \"text-align: left;\">B2</th><th style = \"text-align: left;\">B3</th><th style = \"text-align: left;\">B4</th></tr><tr class = \"subheader headerLastRow\"><th class = \"rowNumber\" style = \"font-weight: bold; text-align: right;\"></th><th title = \"String\" style = \"text-align: left;\">String</th><th title = \"Float64\" style = \"text-align: left;\">Float64</th><th title = \"Int64\" style = \"text-align: left;\">Int64</th><th title = \"Int64\" style = \"text-align: left;\">Int64</th><th title = \"Int64\" style = \"text-align: left;\">Int64</th><th title = \"Int64\" style = \"text-align: left;\">Int64</th><th title = \"Int64\" style = \"text-align: left;\">Int64</th></tr></thead><tbody><tr><td class = \"rowNumber\" style = \"font-weight: bold; text-align: right;\">1</td><td style = \"text-align: left;\">A1:B1</td><td style = \"text-align: right;\">1.0</td><td style = \"text-align: right;\">0</td><td style = \"text-align: right;\">0</td><td style = \"text-align: right;\">0</td><td style = \"text-align: right;\">0</td><td style = \"text-align: right;\">0</td></tr><tr><td class = \"rowNumber\" style = \"font-weight: bold; text-align: right;\">2</td><td style = \"text-align: left;\">A2:B1</td><td style = \"text-align: right;\">1.0</td><td style = \"text-align: right;\">1</td><td style = \"text-align: right;\">0</td><td style = \"text-align: right;\">0</td><td style = \"text-align: right;\">0</td><td style = \"text-align: right;\">0</td></tr><tr><td class = \"rowNumber\" style = \"font-weight: bold; text-align: right;\">3</td><td style = \"text-align: left;\">A3:B1</td><td style = \"text-align: right;\">1.0</td><td style = \"text-align: right;\">0</td><td style = \"text-align: right;\">1</td><td style = \"text-align: right;\">0</td><td style = \"text-align: right;\">0</td><td style = \"text-align: right;\">0</td></tr><tr><td class = \"rowNumber\" style = \"font-weight: bold; text-align: right;\">4</td><td style = \"text-align: left;\">A1:B2</td><td style = \"text-align: right;\">1.0</td><td style = \"text-align: right;\">0</td><td style = \"text-align: right;\">0</td><td style = \"text-align: right;\">1</td><td style = \"text-align: right;\">0</td><td style = \"text-align: right;\">0</td></tr><tr><td class = \"rowNumber\" style = \"font-weight: bold; text-align: right;\">5</td><td style = \"text-align: left;\">A2:B2</td><td style = \"text-align: right;\">1.0</td><td style = \"text-align: right;\">1</td><td style = \"text-align: right;\">0</td><td style = \"text-align: right;\">1</td><td style = \"text-align: right;\">0</td><td style = \"text-align: right;\">0</td></tr><tr><td class = \"rowNumber\" style = \"font-weight: bold; text-align: right;\">6</td><td style = \"text-align: left;\">A3:B2</td><td style = \"text-align: right;\">1.0</td><td style = \"text-align: right;\">0</td><td style = \"text-align: right;\">1</td><td style = \"text-align: right;\">1</td><td style = \"text-align: right;\">0</td><td style = \"text-align: right;\">0</td></tr><tr><td class = \"rowNumber\" style = \"font-weight: bold; text-align: right;\">7</td><td style = \"text-align: left;\">A1:B3</td><td style = \"text-align: right;\">1.0</td><td style = \"text-align: right;\">0</td><td style = \"text-align: right;\">0</td><td style = \"text-align: right;\">0</td><td style = \"text-align: right;\">1</td><td style = \"text-align: right;\">0</td></tr><tr><td class = \"rowNumber\" style = \"font-weight: bold; text-align: right;\">8</td><td style = \"text-align: left;\">A2:B3</td><td style = \"text-align: right;\">1.0</td><td style = \"text-align: right;\">1</td><td style = \"text-align: right;\">0</td><td style = \"text-align: right;\">0</td><td style = \"text-align: right;\">1</td><td style = \"text-align: right;\">0</td></tr><tr><td class = \"rowNumber\" style = \"font-weight: bold; text-align: right;\">9</td><td style = \"text-align: left;\">A3:B3</td><td style = \"text-align: right;\">1.0</td><td style = \"text-align: right;\">0</td><td style = \"text-align: right;\">1</td><td style = \"text-align: right;\">0</td><td style = \"text-align: right;\">1</td><td style = \"text-align: right;\">0</td></tr><tr><td class = \"rowNumber\" style = \"font-weight: bold; text-align: right;\">10</td><td style = \"text-align: left;\">A1:B4</td><td style = \"text-align: right;\">1.0</td><td style = \"text-align: right;\">0</td><td style = \"text-align: right;\">0</td><td style = \"text-align: right;\">0</td><td style = \"text-align: right;\">0</td><td style = \"text-align: right;\">1</td></tr><tr><td class = \"rowNumber\" style = \"font-weight: bold; text-align: right;\">11</td><td style = \"text-align: left;\">A2:B4</td><td style = \"text-align: right;\">1.0</td><td style = \"text-align: right;\">1</td><td style = \"text-align: right;\">0</td><td style = \"text-align: right;\">0</td><td style = \"text-align: right;\">0</td><td style = \"text-align: right;\">1</td></tr></tbody></table></div>"
      ],
      "text/latex": [
       "\\begin{tabular}{r|ccccccc}\n",
       "\t& treatment & intercept & A2 & A3 & B2 & B3 & B4\\\\\n",
       "\t\\hline\n",
       "\t& String & Float64 & Int64 & Int64 & Int64 & Int64 & Int64\\\\\n",
       "\t\\hline\n",
       "\t1 & A1:B1 & 1.0 & 0 & 0 & 0 & 0 & 0 \\\\\n",
       "\t2 & A2:B1 & 1.0 & 1 & 0 & 0 & 0 & 0 \\\\\n",
       "\t3 & A3:B1 & 1.0 & 0 & 1 & 0 & 0 & 0 \\\\\n",
       "\t4 & A1:B2 & 1.0 & 0 & 0 & 1 & 0 & 0 \\\\\n",
       "\t5 & A2:B2 & 1.0 & 1 & 0 & 1 & 0 & 0 \\\\\n",
       "\t6 & A3:B2 & 1.0 & 0 & 1 & 1 & 0 & 0 \\\\\n",
       "\t7 & A1:B3 & 1.0 & 0 & 0 & 0 & 1 & 0 \\\\\n",
       "\t8 & A2:B3 & 1.0 & 1 & 0 & 0 & 1 & 0 \\\\\n",
       "\t9 & A3:B3 & 1.0 & 0 & 1 & 0 & 1 & 0 \\\\\n",
       "\t10 & A1:B4 & 1.0 & 0 & 0 & 0 & 0 & 1 \\\\\n",
       "\t11 & A2:B4 & 1.0 & 1 & 0 & 0 & 0 & 1 \\\\\n",
       "\\end{tabular}\n"
      ],
      "text/plain": [
       "\u001b[1m11×7 DataFrame\u001b[0m\n",
       "\u001b[1m Row \u001b[0m│\u001b[1m treatment \u001b[0m\u001b[1m intercept \u001b[0m\u001b[1m A2    \u001b[0m\u001b[1m A3    \u001b[0m\u001b[1m B2    \u001b[0m\u001b[1m B3    \u001b[0m\u001b[1m B4    \u001b[0m\n",
       "     │\u001b[90m String    \u001b[0m\u001b[90m Float64   \u001b[0m\u001b[90m Int64 \u001b[0m\u001b[90m Int64 \u001b[0m\u001b[90m Int64 \u001b[0m\u001b[90m Int64 \u001b[0m\u001b[90m Int64 \u001b[0m\n",
       "─────┼─────────────────────────────────────────────────────────\n",
       "   1 │ A1:B1            1.0      0      0      0      0      0\n",
       "   2 │ A2:B1            1.0      1      0      0      0      0\n",
       "   3 │ A3:B1            1.0      0      1      0      0      0\n",
       "   4 │ A1:B2            1.0      0      0      1      0      0\n",
       "   5 │ A2:B2            1.0      1      0      1      0      0\n",
       "   6 │ A3:B2            1.0      0      1      1      0      0\n",
       "   7 │ A1:B3            1.0      0      0      0      1      0\n",
       "   8 │ A2:B3            1.0      1      0      0      1      0\n",
       "   9 │ A3:B3            1.0      0      1      0      1      0\n",
       "  10 │ A1:B4            1.0      0      0      0      0      1\n",
       "  11 │ A2:B4            1.0      1      0      0      0      1"
      ]
     },
     "execution_count": 4,
     "metadata": {},
     "output_type": "execute_result"
    }
   ],
   "source": [
    "treatment = [\"A1:B1\", \"A2:B1\", \"A3:B1\", \"A1:B2\", \"A2:B2\", \n",
    "                         \"A3:B2\", \"A1:B3\", \"A2:B3\", \"A3:B3\", \"A1:B4\", \"A2:B4\"]\n",
    "A2 = [0, 1, 0, 0, 1, 0, 0, 1, 0, 0, 1]\n",
    "A3 = [0, 0, 1, 0, 0, 1, 0, 0, 1, 0, 0]\n",
    "B2 = [0, 0, 0, 1, 1, 1, 0, 0, 0, 0, 0]\n",
    "B3 = [0, 0, 0, 0, 0, 0, 1, 1, 1, 0, 0]\n",
    "B4 = [0, 0, 0, 0, 0, 0, 0, 0, 0, 1, 1]\n",
    "\n",
    "df = DataFrame(treatment = treatment, intercept = ones(11),\n",
    "               A2 = A2, A3 = A3, B2 = B2, B3 = B3, B4 = B4)\n",
    "df"
   ]
  },
  {
   "cell_type": "markdown",
   "metadata": {},
   "source": [
    "## Q2 (30 pts) Find approximate optimal designs\n",
    "\n",
    "Using semidefinite programming (SDP) software to find the approximate D-, E-, and A-optimal designs for this clinical trial.\n",
    "\n",
    "Hint: This is what I got (using Hypatia solver), which may or may not be correct.\n",
    "\n",
    "```\n",
    "Approximate Optimal Design\n",
    "┌───────────┬─────────┬─────────┬─────────┬─────────┬─────────┬─────────┐\n",
    "│ design_pt │   D_opt │   E_opt │   A_opt │ D_opt_n │ E_opt_n │ A_opt_n │\n",
    "│    String │ Float64 │ Float64 │ Float64 │ Float64 │ Float64 │ Float64 │\n",
    "├───────────┼─────────┼─────────┼─────────┼─────────┼─────────┼─────────┤\n",
    "│      A1B1 │   0.082 │   0.271 │   0.200 │   8.000 │  27.000 │  20.000 │\n",
    "│      A2B1 │   0.082 │   0.150 │   0.101 │   8.000 │  15.000 │  10.000 │\n",
    "│      A3B1 │   0.097 │   0.118 │   0.104 │  10.000 │  12.000 │  10.000 │\n",
    "│      A1B2 │   0.082 │   0.058 │   0.086 │   8.000 │   6.000 │   9.000 │\n",
    "│      A2B2 │   0.082 │   0.037 │   0.051 │   8.000 │   4.000 │   5.000 │\n",
    "│      A3B2 │   0.097 │   0.059 │   0.068 │  10.000 │   6.000 │   7.000 │\n",
    "│      A1B3 │   0.082 │   0.058 │   0.086 │   8.000 │   6.000 │   9.000 │\n",
    "│      A2B3 │   0.082 │   0.037 │   0.051 │   8.000 │   3.000 │   5.000 │\n",
    "│      A3B3 │   0.097 │   0.059 │   0.068 │  10.000 │   6.000 │   7.000 │\n",
    "│      A1B4 │   0.109 │   0.079 │   0.106 │  11.000 │   8.000 │  10.000 │\n",
    "│      A2B4 │   0.109 │   0.075 │   0.080 │  11.000 │   7.000 │   8.000 │\n",
    "│       Obj │   8.987 │  13.000 │  38.925 │   8.988 │  13.028 │  38.946 │\n",
    "└───────────┴─────────┴─────────┴─────────┴─────────┴─────────┴─────────┘\n",
    "```"
   ]
  },
  {
   "cell_type": "code",
   "execution_count": 5,
   "metadata": {},
   "outputs": [
    {
     "data": {
      "text/plain": [
       "11×6 Matrix{Float64}:\n",
       " 1.0  0.0  0.0  0.0  0.0  0.0\n",
       " 1.0  1.0  0.0  0.0  0.0  0.0\n",
       " 1.0  0.0  1.0  0.0  0.0  0.0\n",
       " 1.0  0.0  0.0  1.0  0.0  0.0\n",
       " 1.0  1.0  0.0  1.0  0.0  0.0\n",
       " 1.0  0.0  1.0  1.0  0.0  0.0\n",
       " 1.0  0.0  0.0  0.0  1.0  0.0\n",
       " 1.0  1.0  0.0  0.0  1.0  0.0\n",
       " 1.0  0.0  1.0  0.0  1.0  0.0\n",
       " 1.0  0.0  0.0  0.0  0.0  1.0\n",
       " 1.0  1.0  0.0  0.0  0.0  1.0"
      ]
     },
     "execution_count": 5,
     "metadata": {},
     "output_type": "execute_result"
    }
   ],
   "source": [
    "X = hcat(ones(11), A2, A3, B2, B3, B4)\n",
    "X"
   ]
  },
  {
   "cell_type": "code",
   "execution_count": 6,
   "metadata": {
    "scrolled": true
   },
   "outputs": [
    {
     "name": "stderr",
     "output_type": "stream",
     "text": [
      "\u001b[33m\u001b[1m┌ \u001b[22m\u001b[39m\u001b[33m\u001b[1mWarning: \u001b[22m\u001b[39mConcatenating collections of constraints together with `+` or `+=` to produce a new list of constraints is deprecated. Instead, use `vcat` to concatenate collections of constraints.\n",
      "\u001b[33m\u001b[1m└ \u001b[22m\u001b[39m\u001b[90m@ Convex ~/.julia/packages/Convex/y7lu0/src/deprecations.jl:129\u001b[39m\n"
     ]
    },
    {
     "data": {
      "text/plain": [
       "Problem statistics\n",
       "  problem is DCP         : true\n",
       "  number of variables    : 1 (11 scalar elements)\n",
       "  number of constraints  : 2 (12 scalar elements)\n",
       "  number of coefficients : 145\n",
       "  number of atoms        : 9\n",
       "\n",
       "Solution summary\n",
       "  termination status : OPTIMIZE_NOT_CALLED\n",
       "  primal status      : NO_SOLUTION\n",
       "  dual status        : NO_SOLUTION\n",
       "\n",
       "Expression graph\n",
       "  maximize\n",
       "   └─ logdet (concave; real)\n",
       "      └─ * (affine; real)\n",
       "         ├─ * (affine; real)\n",
       "         │  ├─ …\n",
       "         │  └─ …\n",
       "         └─ 11×6 Matrix{Float64}\n",
       "  subject to\n",
       "   ├─ == constraint (affine)\n",
       "   │  └─ + (affine; real)\n",
       "   │     ├─ sum (affine; real)\n",
       "   │     │  └─ …\n",
       "   │     └─ [-1;;]\n",
       "   └─ ≥ constraint (affine)\n",
       "      └─ + (affine; real)\n",
       "         ├─ 11-element real variable (id: 612…722)\n",
       "         └─ Convex.NegateAtom (constant; negative)\n",
       "            └─ …\n"
      ]
     },
     "execution_count": 6,
     "metadata": {},
     "output_type": "execute_result"
    }
   ],
   "source": [
    "#D-opt\n",
    "p = Variable(size(X, 1))\n",
    "D_problem = maximize(logdet(transpose(X) * Diagonal(p) * X)) # objective\n",
    "D_problem.constraints += sum(p) == 1; # constraint\n",
    "D_problem.constraints += p >= 0;\n",
    "D_problem"
   ]
  },
  {
   "cell_type": "code",
   "execution_count": 7,
   "metadata": {},
   "outputs": [
    {
     "name": "stderr",
     "output_type": "stream",
     "text": [
      "\u001b[36m\u001b[1m[ \u001b[22m\u001b[39m\u001b[36m\u001b[1mInfo: \u001b[22m\u001b[39m[Convex.jl] Compilation finished: 4.7 seconds, 871.186 MiB of memory allocated\n"
     ]
    },
    {
     "name": "stdout",
     "output_type": "stream",
     "text": [
      "Problem\n",
      "  Name                   :                 \n",
      "  Objective sense        : maximize        \n",
      "  Type                   : CONIC (conic optimization problem)\n",
      "  Constraints            : 13              \n",
      "  Affine conic cons.     : 7 (96 rows)\n",
      "  Disjunctive cons.      : 0               \n",
      "  Cones                  : 0               \n",
      "  Scalar variables       : 39              \n",
      "  Matrix variables       : 0               \n",
      "  Integer variables      : 0               \n",
      "\n",
      "Optimizer started.\n",
      "Presolve started.\n",
      "Linear dependency checker started.\n",
      "Linear dependency checker terminated.\n",
      "Eliminator started.\n",
      "Freed constraints in eliminator : 0\n",
      "Eliminator terminated.\n",
      "Eliminator - tries                  : 1                 time                   : 0.00            \n",
      "Lin. dep.  - tries                  : 1                 time                   : 0.00            \n",
      "Lin. dep.  - primal attempts        : 1                 successes              : 1               \n",
      "Lin. dep.  - dual attempts          : 0                 successes              : 0               \n",
      "Lin. dep.  - primal deps.           : 0                 dual deps.             : 0               \n",
      "Presolve terminated. Time: 0.00    \n",
      "Optimizer  - threads                : 11              \n",
      "Optimizer  - solved problem         : the primal      \n",
      "Optimizer  - Constraints            : 79              \n",
      "Optimizer  - Cones                  : 7               \n",
      "Optimizer  - Scalar variables       : 45                conic                  : 34              \n",
      "Optimizer  - Semi-definite variables: 1                 scalarized             : 78              \n",
      "Factor     - setup time             : 0.00            \n",
      "Factor     - dense det. time        : 0.00              GP order time          : 0.00            \n",
      "Factor     - nonzeros before factor : 3098              after factor           : 3098            \n",
      "Factor     - dense dim.             : 0                 flops                  : 1.85e+05        \n",
      "ITE PFEAS    DFEAS    GFEAS    PRSTATUS   POBJ              DOBJ              MU       TIME  \n",
      "0   1.0e+00  1.3e+00  1.1e+01  0.00e+00   -4.967030394e+00  4.830612010e+00   1.0e+00  0.02  \n",
      "1   3.3e-01  4.3e-01  2.7e+00  3.69e-01   -2.603021048e+00  1.570537220e+00   3.3e-01  0.02  \n",
      "2   1.1e-01  1.4e-01  6.0e-01  5.92e-01   -4.019341083e+00  -2.391396162e+00  1.1e-01  0.02  \n",
      "3   3.4e-02  4.4e-02  1.6e-01  4.96e-01   -5.900819485e+00  -5.227545580e+00  3.4e-02  0.02  \n",
      "4   7.7e-03  1.0e-02  1.8e-02  8.04e-01   -7.785007796e+00  -7.620118530e+00  7.7e-03  0.02  \n",
      "5   2.3e-03  2.9e-03  3.3e-03  7.70e-01   -8.557485352e+00  -8.505084130e+00  2.3e-03  0.02  \n",
      "6   2.3e-04  3.0e-04  1.2e-04  9.27e-01   -8.931383232e+00  -8.925887066e+00  2.3e-04  0.02  \n",
      "7   2.9e-05  3.8e-05  5.4e-06  9.71e-01   -8.979431388e+00  -8.978743444e+00  2.9e-05  0.02  \n",
      "8   1.5e-06  1.9e-06  6.4e-08  9.92e-01   -8.986433782e+00  -8.986398522e+00  1.5e-06  0.02  \n",
      "9   6.7e-08  8.7e-08  6.1e-10  9.99e-01   -8.986814156e+00  -8.986812582e+00  6.7e-08  0.03  \n",
      "10  6.5e-09  8.4e-09  1.8e-11  1.00e+00   -8.986830208e+00  -8.986830056e+00  6.5e-09  0.03  \n",
      "11  1.2e-09  3.3e-09  1.3e-12  1.00e+00   -8.986831610e+00  -8.986831584e+00  1.1e-09  0.03  \n",
      "Optimizer terminated. Time: 0.03    \n",
      "\n"
     ]
    },
    {
     "data": {
      "text/plain": [
       "(MathOptInterface.OPTIMAL, -8.98683161003414, [0.082, 0.082, 0.097, 0.082, 0.082, 0.097, 0.082, 0.082, 0.097, 0.109, 0.109])"
      ]
     },
     "execution_count": 7,
     "metadata": {},
     "output_type": "execute_result"
    }
   ],
   "source": [
    "using MosekTools, MathOptInterface\n",
    "const MOI = MathOptInterface\n",
    "\n",
    "#solver = Mosek.Optimizer()\n",
    "#MOI.set(solver, MOI.RawOptimizerAttribute(\"LOG\"), 0)\n",
    "\n",
    "solver = MOI.OptimizerWithAttributes(Mosek.Optimizer, \"LOG\" => 1)\n",
    "\n",
    "solve!(D_problem, solver)\n",
    "D_opt = vec(round.(p.value, digits = 3))\n",
    "D_problem.status, D_problem.optval, D_opt"
   ]
  },
  {
   "cell_type": "code",
   "execution_count": 9,
   "metadata": {},
   "outputs": [
    {
     "data": {
      "text/plain": [
       "11-element Vector{Float64}:\n",
       "  8.0\n",
       "  8.0\n",
       " 10.0\n",
       "  8.0\n",
       "  8.0\n",
       " 10.0\n",
       "  8.0\n",
       "  8.0\n",
       " 10.0\n",
       " 11.0\n",
       " 11.0"
      ]
     },
     "execution_count": 9,
     "metadata": {},
     "output_type": "execute_result"
    }
   ],
   "source": [
    "D_opt_n = vec(round.(D_opt .* 100))"
   ]
  },
  {
   "cell_type": "markdown",
   "metadata": {},
   "source": [
    "For E-opt, note that minimize $\\lambda_{max}\\left(\\sum_{i=1}^mp_ix_ix_i^T \\right)^{-1} = $ minimize $1/\\lambda_{min}\\left(\\sum_{i=1}^mp_ix_ix_i^T \\right) = $ maximize $\\lambda_{min}\\left(\\sum_{i=1}^mp_ix_ix_i^T \\right)$"
   ]
  },
  {
   "cell_type": "code",
   "execution_count": 10,
   "metadata": {
    "scrolled": true
   },
   "outputs": [
    {
     "data": {
      "text/plain": [
       "Problem statistics\n",
       "  problem is DCP         : true\n",
       "  number of variables    : 1 (11 scalar elements)\n",
       "  number of constraints  : 2 (12 scalar elements)\n",
       "  number of coefficients : 145\n",
       "  number of atoms        : 9\n",
       "\n",
       "Solution summary\n",
       "  termination status : OPTIMIZE_NOT_CALLED\n",
       "  primal status      : NO_SOLUTION\n",
       "  dual status        : NO_SOLUTION\n",
       "\n",
       "Expression graph\n",
       "  maximize\n",
       "   └─ eigmin (concave; real)\n",
       "      └─ * (affine; real)\n",
       "         ├─ * (affine; real)\n",
       "         │  ├─ …\n",
       "         │  └─ …\n",
       "         └─ 11×6 Matrix{Float64}\n",
       "  subject to\n",
       "   ├─ == constraint (affine)\n",
       "   │  └─ + (affine; real)\n",
       "   │     ├─ sum (affine; real)\n",
       "   │     │  └─ …\n",
       "   │     └─ [-1;;]\n",
       "   └─ ≥ constraint (affine)\n",
       "      └─ + (affine; real)\n",
       "         ├─ 11-element real variable (id: 208…890)\n",
       "         └─ Convex.NegateAtom (constant; negative)\n",
       "            └─ …\n"
      ]
     },
     "execution_count": 10,
     "metadata": {},
     "output_type": "execute_result"
    }
   ],
   "source": [
    "#E-opt\n",
    "p = Variable(size(X, 1))\n",
    "E_problem = maximize(eigmin((transpose(X) * Diagonal(p) * X))) # objective\n",
    "E_problem.constraints += sum(p) == 1; # constraint\n",
    "E_problem.constraints += p >= 0;\n",
    "E_problem"
   ]
  },
  {
   "cell_type": "code",
   "execution_count": 11,
   "metadata": {},
   "outputs": [
    {
     "name": "stdout",
     "output_type": "stream",
     "text": [
      "Problem\n",
      "  Name                   :                 \n",
      "  Objective sense        : maximize        \n",
      "  Type                   : CONIC (conic optimization problem)\n",
      "  Constraints            : 12              \n",
      "  Affine conic cons.     : 1 (21 rows)\n",
      "  Disjunctive cons.      : 0               \n",
      "  Cones                  : 0               \n",
      "  Scalar variables       : 12              \n",
      "  Matrix variables       : 0               \n",
      "  Integer variables      : 0               \n",
      "\n",
      "Optimizer started.\n",
      "Presolve started.\n",
      "Linear dependency checker started.\n",
      "Linear dependency checker terminated.\n",
      "Eliminator started.\n",
      "Freed constraints in eliminator : 0\n",
      "Eliminator terminated.\n",
      "Eliminator - tries                  : 1                 time                   : 0.00            \n",
      "Lin. dep.  - tries                  : 1                 time                   : 0.00            \n",
      "Lin. dep.  - primal attempts        : 1                 successes              : 1               \n",
      "Lin. dep.  - dual attempts          : 0                 successes              : 0               \n",
      "Lin. dep.  - primal deps.           : 0                 dual deps.             : 0               \n",
      "Presolve terminated. Time: 0.00    \n",
      "Optimizer  - threads                : 11              \n",
      "Optimizer  - solved problem         : the primal      \n",
      "Optimizer  - Constraints            : 22              \n",
      "Optimizer  - Cones                  : 1               \n",
      "Optimizer  - Scalar variables       : 13                conic                  : 2               \n",
      "Optimizer  - Semi-definite variables: 1                 scalarized             : 21              \n",
      "Factor     - setup time             : 0.00            \n",
      "Factor     - dense det. time        : 0.00              GP order time          : 0.00            \n",
      "Factor     - nonzeros before factor : 248               after factor           : 248             \n",
      "Factor     - dense dim.             : 0                 flops                  : 5.77e+03        \n",
      "ITE PFEAS    DFEAS    GFEAS    PRSTATUS   POBJ              DOBJ              MU       TIME  \n",
      "0   1.0e+00  1.0e+00  1.0e+00  0.00e+00   -0.000000000e+00  -0.000000000e+00  1.0e+00  0.00  \n",
      "1   4.6e-01  4.6e-01  7.9e-02  1.75e+00   2.619985844e-02   2.648914728e-01   4.6e-01  0.00  \n",
      "2   2.0e-01  2.0e-01  2.3e-02  2.40e+00   1.145081670e-01   1.737759918e-01   2.0e-01  0.00  \n",
      "3   4.9e-02  4.9e-02  3.0e-03  1.46e+00   7.501336960e-02   8.534192244e-02   4.9e-02  0.00  \n",
      "4   7.4e-03  7.4e-03  1.7e-04  1.20e+00   7.736388266e-02   7.878743953e-02   7.4e-03  0.00  \n",
      "5   5.1e-04  5.1e-04  3.0e-06  1.04e+00   7.696644479e-02   7.706275346e-02   5.1e-04  0.00  \n",
      "6   1.7e-05  1.7e-05  1.8e-08  1.00e+00   7.692402823e-02   7.692721544e-02   1.7e-05  0.00  \n",
      "7   4.6e-07  4.6e-07  8.0e-11  1.00e+00   7.692308547e-02   7.692317227e-02   4.6e-07  0.00  \n",
      "8   1.2e-08  1.2e-08  3.3e-13  1.00e+00   7.692307673e-02   7.692307895e-02   1.2e-08  0.00  \n",
      "Optimizer terminated. Time: 0.00    \n",
      "\n"
     ]
    },
    {
     "name": "stderr",
     "output_type": "stream",
     "text": [
      "\u001b[36m\u001b[1m[ \u001b[22m\u001b[39m\u001b[36m\u001b[1mInfo: \u001b[22m\u001b[39m[Convex.jl] Compilation finished: 0.69 seconds, 170.672 MiB of memory allocated\n"
     ]
    },
    {
     "data": {
      "text/plain": [
       "(MathOptInterface.OPTIMAL, 0.07692307672536335, [0.271, 0.156, 0.111, 0.057, 0.042, 0.056, 0.057, 0.042, 0.056, 0.081, 0.073])"
      ]
     },
     "execution_count": 11,
     "metadata": {},
     "output_type": "execute_result"
    }
   ],
   "source": [
    "const MOI = MathOptInterface\n",
    "\n",
    "#solver = Mosek.Optimizer()\n",
    "#MOI.set(solver, MOI.RawOptimizerAttribute(\"LOG\"), 0)\n",
    "\n",
    "solver = MOI.OptimizerWithAttributes(Mosek.Optimizer, \"LOG\" => 1)\n",
    "\n",
    "solve!(E_problem, solver)\n",
    "E_opt = vec(round.(p.value, digits = 3))\n",
    "E_problem.status, E_problem.optval, E_opt"
   ]
  },
  {
   "cell_type": "code",
   "execution_count": 13,
   "metadata": {},
   "outputs": [
    {
     "data": {
      "text/plain": [
       "11-element Vector{Float64}:\n",
       " 27.0\n",
       " 16.0\n",
       " 11.0\n",
       "  6.0\n",
       "  4.0\n",
       "  6.0\n",
       "  6.0\n",
       "  4.0\n",
       "  6.0\n",
       "  8.0\n",
       "  7.0"
      ]
     },
     "execution_count": 13,
     "metadata": {},
     "output_type": "execute_result"
    }
   ],
   "source": [
    "E_opt_n = vec(round.(E_opt .* 100))"
   ]
  },
  {
   "cell_type": "markdown",
   "metadata": {},
   "source": [
    "For A-opt, as we are not able to derive the $tr(V) =$ $tr\\left(\\sum_{i=1}^mp_ix_ix_i^T \\right)^{-1}$ directly, I consider to use Schur's complement instead. Note that the Schur complement for a matrix $\\begin{bmatrix}A & B \\\\ C & D \\end{bmatrix}$ is $A - BD^{-1}C$ with respect to $D$ if $D$ is invertible, and this matrix is positive-semi definite is equivalent to $A$ is PSD and $A - BD^{-1}C$ is also PSD. Hence, I construct a new matrix $M = \\begin{bmatrix}Y & I \\\\ I & V^{-1} \\end{bmatrix}$, where $V^{-1} = \\sum_{i=1}^mp_ix_ix_i^T$. Now if we add a constraint on that as $M$ is PSD, we can derive that $Y - V$ is PSD, which can be used to infer that $tr(Y) \\geq tr(V)$. Therefore, if we can minimize $tr(Y)$, then $tr(V)$ will also be minimized."
   ]
  },
  {
   "cell_type": "code",
   "execution_count": 27,
   "metadata": {
    "scrolled": true
   },
   "outputs": [
    {
     "data": {
      "text/plain": [
       "Problem statistics\n",
       "  problem is DCP         : true\n",
       "  number of variables    : 2 (47 scalar elements)\n",
       "  number of constraints  : 4 (192 scalar elements)\n",
       "  number of coefficients : 217\n",
       "  number of atoms        : 13\n",
       "\n",
       "Solution summary\n",
       "  termination status : OPTIMIZE_NOT_CALLED\n",
       "  primal status      : NO_SOLUTION\n",
       "  dual status        : NO_SOLUTION\n",
       "\n",
       "Expression graph\n",
       "  minimize\n",
       "   └─ sum (affine; real)\n",
       "      └─ diag (affine; real)\n",
       "         └─ 6×6 real variable (id: 338…672)\n",
       "  subject to\n",
       "   ├─ == constraint (affine)\n",
       "   │  └─ + (affine; real)\n",
       "   │     ├─ sum (affine; real)\n",
       "   │     │  └─ …\n",
       "   │     └─ [-1;;]\n",
       "   ├─ ≥ constraint (affine)\n",
       "   │  └─ + (affine; real)\n",
       "   │     ├─ 11-element real variable (id: 175…220)\n",
       "   │     └─ Convex.NegateAtom (constant; negative)\n",
       "   │        └─ …\n",
       "   ├─ PSD constraint (convex)\n",
       "   │  └─ vcat (affine; real)\n",
       "   │     ├─ hcat (affine; real)\n",
       "   │     │  ├─ …\n",
       "   │     │  └─ …\n",
       "   │     └─ hcat (affine; real)\n",
       "   │        ├─ …\n",
       "   │        └─ …\n",
       "   ⋮\n"
      ]
     },
     "execution_count": 27,
     "metadata": {},
     "output_type": "execute_result"
    }
   ],
   "source": [
    "#A-opt\n",
    "p = Variable(size(X, 1))\n",
    "Y = Semidefinite(size(X, 2))\n",
    "schur_matrix = [Y I(size(X, 2)); I(size(X, 2)) (transpose(X) * Diagonal(p) * X)]\n",
    "A_problem = minimize(tr(Y)) # objective\n",
    "A_problem.constraints += sum(p) == 1; # constraint\n",
    "A_problem.constraints += p >= 0;\n",
    "A_problem.constraints += schur_matrix in :SDP;\n",
    "A_problem"
   ]
  },
  {
   "cell_type": "code",
   "execution_count": 28,
   "metadata": {},
   "outputs": [
    {
     "name": "stdout",
     "output_type": "stream",
     "text": [
      "Problem\n",
      "  Name                   :                 \n",
      "  Objective sense        : minimize        \n",
      "  Type                   : CONIC (conic optimization problem)\n",
      "  Constraints            : 42              \n",
      "  Affine conic cons.     : 2 (99 rows)\n",
      "  Disjunctive cons.      : 0               \n",
      "  Cones                  : 0               \n",
      "  Scalar variables       : 47              \n",
      "  Matrix variables       : 0               \n",
      "  Integer variables      : 0               \n",
      "\n",
      "Optimizer started.\n",
      "Presolve started.\n",
      "Linear dependency checker started.\n",
      "Linear dependency checker terminated.\n",
      "Eliminator started.\n",
      "Freed constraints in eliminator : 15\n",
      "Eliminator terminated.\n",
      "Eliminator started.\n",
      "Freed constraints in eliminator : 0\n",
      "Eliminator terminated.\n",
      "Eliminator - tries                  : 2                 time                   : 0.00            \n",
      "Lin. dep.  - tries                  : 1                 time                   : 0.00            \n",
      "Lin. dep.  - primal attempts        : 1                 successes              : 1               \n",
      "Lin. dep.  - dual attempts          : 0                 successes              : 0               \n",
      "Lin. dep.  - primal deps.           : 15                dual deps.             : 0               \n",
      "Presolve terminated. Time: 0.00    \n",
      "Optimizer  - threads                : 11              \n",
      "Optimizer  - solved problem         : the primal      \n",
      "Optimizer  - Constraints            : 100             \n",
      "Optimizer  - Cones                  : 1               \n",
      "Optimizer  - Scalar variables       : 33                conic                  : 22              \n",
      "Optimizer  - Semi-definite variables: 2                 scalarized             : 99              \n",
      "Factor     - setup time             : 0.00            \n",
      "Factor     - dense det. time        : 0.00              GP order time          : 0.00            \n",
      "Factor     - nonzeros before factor : 3770              after factor           : 3770            \n",
      "Factor     - dense dim.             : 0                 flops                  : 2.11e+05        \n",
      "ITE PFEAS    DFEAS    GFEAS    PRSTATUS   POBJ              DOBJ              MU       TIME  \n",
      "0   1.4e+00  1.0e+00  1.0e+00  0.00e+00   0.000000000e+00   0.000000000e+00   1.0e+00  0.00  \n",
      "1   3.2e-01  2.3e-01  2.1e-01  -9.45e-02  5.299143870e+00   5.732744584e+00   2.3e-01  0.01  \n",
      "2   6.2e-02  4.4e-02  4.2e-02  -2.99e-02  1.474000032e+01   1.547984799e+01   4.4e-02  0.01  \n",
      "3   2.1e-02  1.5e-02  1.2e-02  2.61e-01   2.143372552e+01   2.197166090e+01   1.5e-02  0.01  \n",
      "4   5.8e-03  4.1e-03  2.7e-03  1.10e-01   2.933589789e+01   2.973223217e+01   4.1e-03  0.01  \n",
      "5   1.3e-03  9.1e-04  3.5e-04  6.11e-01   3.529792658e+01   3.543859082e+01   9.1e-04  0.01  \n",
      "6   2.1e-04  1.5e-04  2.8e-05  6.89e-01   3.819566259e+01   3.822743559e+01   1.5e-04  0.01  \n",
      "7   5.4e-06  3.8e-06  1.1e-07  9.61e-01   3.890538014e+01   3.890614108e+01   3.8e-06  0.01  \n",
      "8   1.1e-07  7.4e-08  3.0e-10  9.97e-01   3.892442037e+01   3.892443535e+01   7.4e-08  0.01  \n",
      "9   4.0e-09  2.9e-09  2.2e-12  1.00e+00   3.892479918e+01   3.892479976e+01   2.9e-09  0.01  \n",
      "10  1.3e-10  2.7e-09  1.4e-14  1.00e+00   3.892481412e+01   3.892481414e+01   9.5e-11  0.01  \n",
      "Optimizer terminated. Time: 0.01    \n",
      "\n"
     ]
    },
    {
     "name": "stderr",
     "output_type": "stream",
     "text": [
      "\u001b[36m\u001b[1m[ \u001b[22m\u001b[39m\u001b[36m\u001b[1mInfo: \u001b[22m\u001b[39m[Convex.jl] Compilation finished: 0.01 seconds, 384.312 KiB of memory allocated\n"
     ]
    },
    {
     "data": {
      "text/plain": [
       "(MathOptInterface.OPTIMAL, 38.92481411736323, [0.2, 0.101, 0.104, 0.086, 0.051, 0.068, 0.086, 0.051, 0.068, 0.106, 0.08])"
      ]
     },
     "execution_count": 28,
     "metadata": {},
     "output_type": "execute_result"
    }
   ],
   "source": [
    "const MOI = MathOptInterface\n",
    "\n",
    "#solver = Mosek.Optimizer()\n",
    "#MOI.set(solver, MOI.RawOptimizerAttribute(\"LOG\"), 0)\n",
    "\n",
    "solver = MOI.OptimizerWithAttributes(Mosek.Optimizer, \"LOG\" => 1)\n",
    "\n",
    "solve!(A_problem, solver)\n",
    "A_opt = vec(round.(p.value, digits = 3))\n",
    "A_problem.status, A_problem.optval, A_opt"
   ]
  },
  {
   "cell_type": "code",
   "execution_count": 168,
   "metadata": {},
   "outputs": [
    {
     "data": {
      "text/plain": [
       "11-element Vector{Float64}:\n",
       " 20.0\n",
       " 10.0\n",
       " 10.0\n",
       "  9.0\n",
       "  5.0\n",
       "  7.0\n",
       "  9.0\n",
       "  5.0\n",
       "  7.0\n",
       " 11.0\n",
       "  8.0"
      ]
     },
     "execution_count": 168,
     "metadata": {},
     "output_type": "execute_result"
    }
   ],
   "source": [
    "A_opt_n = vec(round.(A_opt .* 100))"
   ]
  },
  {
   "cell_type": "markdown",
   "metadata": {},
   "source": [
    "### Summary table for Q2"
   ]
  },
  {
   "cell_type": "code",
   "execution_count": 31,
   "metadata": {},
   "outputs": [
    {
     "name": "stdout",
     "output_type": "stream",
     "text": [
      "\u001b[1m11×7 DataFrame\u001b[0m\n",
      "\u001b[1m Row \u001b[0m│\u001b[1m treatment \u001b[0m\u001b[1m D_opt   \u001b[0m\u001b[1m E_opt   \u001b[0m\u001b[1m A_opt   \u001b[0m\u001b[1m D_opt_n \u001b[0m\u001b[1m E_opt_n \u001b[0m\u001b[1m A_opt_n \u001b[0m\n",
      "     │\u001b[90m String    \u001b[0m\u001b[90m Float64 \u001b[0m\u001b[90m Float64 \u001b[0m\u001b[90m Float64 \u001b[0m\u001b[90m Float64 \u001b[0m\u001b[90m Float64 \u001b[0m\u001b[90m Float64 \u001b[0m\n",
      "─────┼─────────────────────────────────────────────────────────────────\n",
      "   1 │ A1:B1        0.082    0.271    0.2        8.0     27.0     20.0\n",
      "   2 │ A2:B1        0.082    0.156    0.101      8.0     16.0     10.0\n",
      "   3 │ A3:B1        0.097    0.111    0.104     10.0     11.0     10.0\n",
      "   4 │ A1:B2        0.082    0.057    0.086      8.0      6.0      9.0\n",
      "   5 │ A2:B2        0.082    0.042    0.051      8.0      4.0      5.0\n",
      "   6 │ A3:B2        0.097    0.056    0.068     10.0      6.0      7.0\n",
      "   7 │ A1:B3        0.082    0.057    0.086      8.0      6.0      9.0\n",
      "   8 │ A2:B3        0.082    0.042    0.051      8.0      4.0      5.0\n",
      "   9 │ A3:B3        0.097    0.056    0.068     10.0      6.0      7.0\n",
      "  10 │ A1:B4        0.109    0.081    0.106     11.0      8.0     11.0\n",
      "  11 │ A2:B4        0.109    0.073    0.08      11.0      7.0      8.0\n",
      "The obj for D_opt, E_opt and A_opt are shown below:\n",
      "8.987 13.0 38.925\n"
     ]
    }
   ],
   "source": [
    "df_q2 = DataFrame(treatment = treatment, \n",
    "               D_opt = D_opt, E_opt = E_opt, A_opt = A_opt,\n",
    "               D_opt_n = D_opt_n, E_opt_n = E_opt_n, A_opt_n = A_opt_n)\n",
    "println(df_q2)\n",
    "println(\"The obj for D_opt, E_opt and A_opt are shown below:\")\n",
    "println(round(-D_problem.optval, digits = 3), \" \", round(1/E_problem.optval, digits = 3), \n",
    "    \" \", round(A_problem.optval, digits = 3))"
   ]
  },
  {
   "cell_type": "markdown",
   "metadata": {},
   "source": [
    "## Q3 (30 pts) Find exact optimal designs\n",
    "\n",
    "Using mixed-integer semidefinite programming (SDP) software to find the exact D-, E-, and A-optimal designs for this clinical trial **with $n=100$**.\n",
    "\n",
    "Hint: This is what I got using Pajarito with Gurobi as the `oa_solver` and Mosek as the `conic_solver`.\n",
    "\n",
    "```\n",
    "Exact Optimal Design\n",
    "┌───────────┬─────────┬─────────┬─────────┐\n",
    "│ design_pt │   D_opt │   E_opt │   A_opt │\n",
    "│    String │ Float64 │ Float64 │ Float64 │\n",
    "├───────────┼─────────┼─────────┼─────────┤\n",
    "│      A1B1 │   8.000 │  34.000 │  20.000 │\n",
    "│      A2B1 │   8.000 │  10.000 │  10.000 │\n",
    "│      A3B1 │  10.000 │  10.000 │  10.000 │\n",
    "│      A1B2 │   8.000 │   9.000 │   9.000 │\n",
    "│      A2B2 │   8.000 │   0.000 │   5.000 │\n",
    "│      A3B2 │  10.000 │   6.000 │   7.000 │\n",
    "│      A1B3 │   8.000 │   8.000 │   9.000 │\n",
    "│      A2B3 │   8.000 │   4.000 │   5.000 │\n",
    "│      A3B3 │  10.000 │   4.000 │   7.000 │\n",
    "│      A1B4 │  11.000 │   9.000 │  10.000 │\n",
    "│      A2B4 │  11.000 │   6.000 │   8.000 │\n",
    "│       Obj │   8.988 │  13.011 │  38.946 │\n",
    "└───────────┴─────────┴─────────┴─────────┘\n",
    "```"
   ]
  },
  {
   "cell_type": "code",
   "execution_count": 106,
   "metadata": {},
   "outputs": [
    {
     "data": {
      "text/plain": [
       "11×6 Matrix{Int64}:\n",
       " 1  0  0  0  0  0\n",
       " 1  1  0  0  0  0\n",
       " 1  0  1  0  0  0\n",
       " 1  0  0  1  0  0\n",
       " 1  1  0  1  0  0\n",
       " 1  0  1  1  0  0\n",
       " 1  0  0  0  1  0\n",
       " 1  1  0  0  1  0\n",
       " 1  0  1  0  1  0\n",
       " 1  0  0  0  0  1\n",
       " 1  1  0  0  0  1"
      ]
     },
     "execution_count": 106,
     "metadata": {},
     "output_type": "execute_result"
    }
   ],
   "source": [
    "X = Int64.(X)\n",
    "X"
   ]
  },
  {
   "cell_type": "code",
   "execution_count": 71,
   "metadata": {
    "collapsed": true
   },
   "outputs": [
    {
     "data": {
      "text/plain": [
       "Problem statistics\n",
       "  problem is DCP         : true\n",
       "  number of variables    : 1 (11 scalar elements)\n",
       "  number of constraints  : 2 (12 scalar elements)\n",
       "  number of coefficients : 145\n",
       "  number of atoms        : 9\n",
       "\n",
       "Solution summary\n",
       "  termination status : OPTIMIZE_NOT_CALLED\n",
       "  primal status      : NO_SOLUTION\n",
       "  dual status        : NO_SOLUTION\n",
       "\n",
       "Expression graph\n",
       "  maximize\n",
       "   └─ logdet (concave; real)\n",
       "      └─ * (affine; real)\n",
       "         ├─ * (affine; real)\n",
       "         │  ├─ …\n",
       "         │  └─ …\n",
       "         └─ 11×6 Matrix{Int64}\n",
       "  subject to\n",
       "   ├─ == constraint (affine)\n",
       "   │  └─ + (affine; real)\n",
       "   │     ├─ sum (affine; real)\n",
       "   │     │  └─ …\n",
       "   │     └─ [-100;;]\n",
       "   └─ ≥ constraint (affine)\n",
       "      └─ + (affine; real)\n",
       "         ├─ 11-element real variable (id: 473…664)\n",
       "         └─ Convex.NegateAtom (constant; negative)\n",
       "            └─ …\n"
      ]
     },
     "execution_count": 71,
     "metadata": {},
     "output_type": "execute_result"
    }
   ],
   "source": [
    "# define problem\n",
    "N = Variable(size(X, 1), :Int)\n",
    "# D-opt\n",
    "D_problem = maximize(logdet(transpose(X) * Diagonal(N) * X))# objective\n",
    "D_problem.constraints += sum(N) == 100; # constraint\n",
    "D_problem.constraints += N >= 0; # constraint\n",
    "D_problem"
   ]
  },
  {
   "cell_type": "code",
   "execution_count": 107,
   "metadata": {
    "scrolled": true
   },
   "outputs": [
    {
     "data": {
      "text/plain": [
       "Problem statistics\n",
       "  problem is DCP         : true\n",
       "  number of variables    : 1 (11 scalar elements)\n",
       "  number of constraints  : 2 (12 scalar elements)\n",
       "  number of coefficients : 146\n",
       "  number of atoms        : 10\n",
       "\n",
       "Solution summary\n",
       "  termination status : OPTIMIZE_NOT_CALLED\n",
       "  primal status      : NO_SOLUTION\n",
       "  dual status        : NO_SOLUTION\n",
       "\n",
       "Expression graph\n",
       "  maximize\n",
       "   └─ logdet (concave; real)\n",
       "      └─ * (affine; real)\n",
       "         ├─ * (affine; real)\n",
       "         │  ├─ …\n",
       "         │  └─ …\n",
       "         └─ 11×6 Matrix{Int64}\n",
       "  subject to\n",
       "   ├─ == constraint (affine)\n",
       "   │  └─ + (affine; real)\n",
       "   │     ├─ sum (affine; real)\n",
       "   │     │  └─ …\n",
       "   │     └─ [-100;;]\n",
       "   └─ ≥ constraint (affine)\n",
       "      └─ + (affine; real)\n",
       "         ├─ 11-element real variable (id: 128…381)\n",
       "         └─ Convex.NegateAtom (constant; negative)\n",
       "            └─ …\n"
      ]
     },
     "execution_count": 107,
     "metadata": {},
     "output_type": "execute_result"
    }
   ],
   "source": [
    "# define problem\n",
    "N = Variable(size(X, 1), :Int)\n",
    "# D-opt\n",
    "D_problem = maximize(logdet(transpose(X) * Diagonal(N ./ 100) * X))# objective\n",
    "D_problem.constraints += sum(N) == 100; # constraint\n",
    "D_problem.constraints += N >= 0; # constraint\n",
    "D_problem"
   ]
  },
  {
   "cell_type": "code",
   "execution_count": 112,
   "metadata": {},
   "outputs": [
    {
     "data": {
      "text/plain": [
       "MathOptInterface.OptimizerWithAttributes(Pajarito.Optimizer, Pair{MathOptInterface.AbstractOptimizerAttribute, Any}[MathOptInterface.RawOptimizerAttribute(\"oa_solver\") => MathOptInterface.OptimizerWithAttributes(Gurobi.Optimizer, Pair{MathOptInterface.AbstractOptimizerAttribute, Any}[MathOptInterface.Silent() => true]), MathOptInterface.RawOptimizerAttribute(\"conic_solver\") => MathOptInterface.OptimizerWithAttributes(Mosek.Optimizer, Pair{MathOptInterface.AbstractOptimizerAttribute, Any}[MathOptInterface.Silent() => true]), MathOptInterface.RawOptimizerAttribute(\"time_limit\") => 60])"
      ]
     },
     "execution_count": 112,
     "metadata": {},
     "output_type": "execute_result"
    }
   ],
   "source": [
    "misdp_solver = MOI.OptimizerWithAttributes(\n",
    "    Pajarito.Optimizer, \n",
    "    \"oa_solver\" => MOI.OptimizerWithAttributes(Gurobi.Optimizer, MOI.Silent() => true), \n",
    "    \"conic_solver\" => MOI.OptimizerWithAttributes(Mosek.Optimizer, MOI.Silent() => true),\n",
    "    \"time_limit\" => 60\n",
    ")"
   ]
  },
  {
   "cell_type": "code",
   "execution_count": 113,
   "metadata": {
    "scrolled": true
   },
   "outputs": [
    {
     "name": "stdout",
     "output_type": "stream",
     "text": [
      "Set parameter Username\n",
      "Academic license - for non-commercial use only - expires 2025-05-22\n",
      "solving continuous relaxation\n",
      "continuous relaxation status is OPTIMAL\n",
      "separated 0 rays before imposing integrality\n",
      "starting one tree method\n",
      "continuous subproblem status is INFEASIBLE\n",
      "subproblem cuts could not be added\n",
      "continuous subproblem status is SLOW_PROGRESS\n",
      "continuous subproblem status is SLOW_PROGRESS\n",
      "cached subproblem cuts could not be added\n"
     ]
    },
    {
     "name": "stderr",
     "output_type": "stream",
     "text": [
      "\u001b[36m\u001b[1m[ \u001b[22m\u001b[39m\u001b[36m\u001b[1mInfo: \u001b[22m\u001b[39m[Convex.jl] Compilation finished: 0.01 seconds, 349.109 KiB of memory allocated\n",
      "\u001b[33m\u001b[1m┌ \u001b[22m\u001b[39m\u001b[33m\u001b[1mWarning: \u001b[22m\u001b[39mcontinuous subproblem status SLOW_PROGRESS is not handled\n",
      "\u001b[33m\u001b[1m└ \u001b[22m\u001b[39m\u001b[90m@ Pajarito ~/.julia/packages/Pajarito/gSNvz/src/algorithms.jl:396\u001b[39m\n",
      "\u001b[33m\u001b[1m┌ \u001b[22m\u001b[39m\u001b[33m\u001b[1mWarning: \u001b[22m\u001b[39mcontinuous subproblem status SLOW_PROGRESS is not handled\n",
      "\u001b[33m\u001b[1m└ \u001b[22m\u001b[39m\u001b[90m@ Pajarito ~/.julia/packages/Pajarito/gSNvz/src/algorithms.jl:396\u001b[39m\n"
     ]
    },
    {
     "name": "stdout",
     "output_type": "stream",
     "text": [
      "continuous subproblem status is SLOW_PROGRESS\n",
      "subproblem cuts could not be added\n",
      "continuous subproblem status is OPTIMAL\n",
      "cached subproblem cuts could not be added\n",
      "continuous subproblem status is OPTIMAL\n",
      "cached subproblem cuts could not be added\n",
      "cached subproblem cuts could not be added\n",
      "heuristic cb status was: HEURISTIC_SOLUTION_ACCEPTED\n",
      "continuous subproblem status is SLOW_PROGRESS\n",
      "continuous subproblem status is OPTIMAL\n",
      "continuous subproblem status is OPTIMAL\n",
      "continuous subproblem status is OPTIMAL\n",
      "heuristic cb status was: HEURISTIC_SOLUTION_ACCEPTED\n",
      "continuous subproblem status is OPTIMAL\n",
      "continuous subproblem status is OPTIMAL\n",
      "continuous subproblem status is OPTIMAL\n",
      "heuristic cb status was: HEURISTIC_SOLUTION_ACCEPTED\n"
     ]
    },
    {
     "name": "stderr",
     "output_type": "stream",
     "text": [
      "\u001b[33m\u001b[1m┌ \u001b[22m\u001b[39m\u001b[33m\u001b[1mWarning: \u001b[22m\u001b[39mcontinuous subproblem status SLOW_PROGRESS is not handled\n",
      "\u001b[33m\u001b[1m└ \u001b[22m\u001b[39m\u001b[90m@ Pajarito ~/.julia/packages/Pajarito/gSNvz/src/algorithms.jl:396\u001b[39m\n",
      "\u001b[33m\u001b[1m┌ \u001b[22m\u001b[39m\u001b[33m\u001b[1mWarning: \u001b[22m\u001b[39mcontinuous subproblem status SLOW_PROGRESS is not handled\n",
      "\u001b[33m\u001b[1m└ \u001b[22m\u001b[39m\u001b[90m@ Pajarito ~/.julia/packages/Pajarito/gSNvz/src/algorithms.jl:396\u001b[39m\n"
     ]
    },
    {
     "name": "stdout",
     "output_type": "stream",
     "text": [
      "continuous subproblem status is OPTIMAL\n",
      "continuous subproblem status is OPTIMAL\n",
      "continuous subproblem status is OPTIMAL\n",
      "heuristic cb status was: HEURISTIC_SOLUTION_ACCEPTED\n",
      "continuous subproblem status is OPTIMAL\n",
      "continuous subproblem status is OPTIMAL\n",
      "continuous subproblem status is OPTIMAL\n",
      "continuous subproblem status is OPTIMAL\n",
      "heuristic cb status was: HEURISTIC_SOLUTION_ACCEPTED\n",
      "cached subproblem cuts could not be added\n",
      "separation cuts could not be added\n",
      "continuous subproblem status is OPTIMAL\n",
      "continuous subproblem status is OPTIMAL\n",
      "continuous subproblem status is OPTIMAL\n",
      "continuous subproblem status is OPTIMAL\n",
      "continuous subproblem status is OPTIMAL\n",
      "continuous subproblem status is OPTIMAL\n",
      "continuous subproblem status is OPTIMAL\n",
      "continuous subproblem status is OPTIMAL\n",
      "heuristic cb status was: HEURISTIC_SOLUTION_ACCEPTED\n",
      "continuous subproblem status is OPTIMAL\n",
      "heuristic cb status was: HEURISTIC_SOLUTION_ACCEPTED\n",
      "continuous subproblem status is OPTIMAL\n",
      "continuous subproblem status is OPTIMAL\n",
      "continuous subproblem status is OPTIMAL\n",
      "continuous subproblem status is OPTIMAL\n",
      "heuristic cb status was: HEURISTIC_SOLUTION_ACCEPTED\n",
      "continuous subproblem status is OPTIMAL\n",
      "continuous subproblem status is OPTIMAL\n",
      "continuous subproblem status is OPTIMAL\n",
      "continuous subproblem status is OPTIMAL\n",
      "continuous subproblem status is OPTIMAL\n",
      "continuous subproblem status is OPTIMAL\n",
      "heuristic cb status was: HEURISTIC_SOLUTION_ACCEPTED\n",
      "continuous subproblem status is OPTIMAL\n",
      "continuous subproblem status is OPTIMAL\n",
      "continuous subproblem status is OPTIMAL\n",
      "heuristic cb status was: HEURISTIC_SOLUTION_ACCEPTED\n",
      "continuous subproblem status is OPTIMAL\n",
      "heuristic cb status was: HEURISTIC_SOLUTION_ACCEPTED\n",
      "continuous subproblem status is OPTIMAL\n",
      "continuous subproblem status is OPTIMAL\n",
      "continuous subproblem status is OPTIMAL\n",
      "continuous subproblem status is OPTIMAL\n",
      "continuous subproblem status is OPTIMAL\n",
      "continuous subproblem status is OPTIMAL\n",
      "continuous subproblem status is OPTIMAL\n",
      "continuous subproblem status is OPTIMAL\n",
      "continuous subproblem status is OPTIMAL\n",
      "continuous subproblem status is OPTIMAL\n",
      "heuristic cb status was: HEURISTIC_SOLUTION_ACCEPTED\n",
      "continuous subproblem status is OPTIMAL\n",
      "continuous subproblem status is OPTIMAL\n",
      "continuous subproblem status is OPTIMAL\n",
      "heuristic cb status was: HEURISTIC_SOLUTION_ACCEPTED\n",
      "continuous subproblem status is OPTIMAL\n",
      "continuous subproblem status is OPTIMAL\n",
      "continuous subproblem status is OPTIMAL\n",
      "continuous subproblem status is OPTIMAL\n",
      "continuous subproblem status is OPTIMAL\n",
      "continuous subproblem status is OPTIMAL\n",
      "continuous subproblem status is OPTIMAL\n",
      "continuous subproblem status is OPTIMAL\n",
      "continuous subproblem status is OPTIMAL\n",
      "continuous subproblem status is OPTIMAL\n",
      "continuous subproblem status is OPTIMAL\n",
      "continuous subproblem status is OPTIMAL\n",
      "continuous subproblem status is OPTIMAL\n",
      "heuristic cb status was: HEURISTIC_SOLUTION_ACCEPTED\n",
      "continuous subproblem status is OPTIMAL\n",
      "continuous subproblem status is OPTIMAL\n",
      "heuristic cb status was: HEURISTIC_SOLUTION_ACCEPTED\n",
      "continuous subproblem status is OPTIMAL\n",
      "continuous subproblem status is OPTIMAL\n",
      "continuous subproblem status is OPTIMAL\n",
      "continuous subproblem status is OPTIMAL\n",
      "continuous subproblem status is OPTIMAL\n",
      "continuous subproblem status is OPTIMAL\n",
      "continuous subproblem status is OPTIMAL\n",
      "continuous subproblem status is OPTIMAL\n",
      "continuous subproblem status is OPTIMAL\n",
      "continuous subproblem status is OPTIMAL\n",
      "continuous subproblem status is OPTIMAL\n",
      "continuous subproblem status is OPTIMAL\n",
      "continuous subproblem status is OPTIMAL\n",
      "continuous subproblem status is OPTIMAL\n",
      "continuous subproblem status is OPTIMAL\n",
      "continuous subproblem status is OPTIMAL\n",
      "continuous subproblem status is OPTIMAL\n",
      "heuristic cb status was: HEURISTIC_SOLUTION_ACCEPTED\n",
      "cached subproblem cuts could not be added\n",
      "separation cuts could not be added\n",
      "continuous subproblem status is OPTIMAL\n",
      "continuous subproblem status is OPTIMAL\n",
      "continuous subproblem status is OPTIMAL\n",
      "continuous subproblem status is OPTIMAL\n",
      "continuous subproblem status is OPTIMAL\n",
      "continuous subproblem status is OPTIMAL\n",
      "continuous subproblem status is OPTIMAL\n",
      "continuous subproblem status is OPTIMAL\n",
      "continuous subproblem status is OPTIMAL\n",
      "continuous subproblem status is OPTIMAL\n",
      "continuous subproblem status is OPTIMAL\n",
      "continuous subproblem status is OPTIMAL\n",
      "continuous subproblem status is OPTIMAL\n",
      "continuous subproblem status is OPTIMAL\n",
      "continuous subproblem status is OPTIMAL\n",
      "continuous subproblem status is OPTIMAL\n",
      "continuous subproblem status is OPTIMAL\n",
      "continuous subproblem status is OPTIMAL\n",
      "continuous subproblem status is OPTIMAL\n",
      "continuous subproblem status is OPTIMAL\n",
      "continuous subproblem status is OPTIMAL\n",
      "heuristic cb status was: HEURISTIC_SOLUTION_ACCEPTED\n",
      "cached subproblem cuts could not be added\n",
      "separation cuts could not be added\n",
      "continuous subproblem status is OPTIMAL\n",
      "continuous subproblem status is OPTIMAL\n",
      "continuous subproblem status is OPTIMAL\n",
      "continuous subproblem status is OPTIMAL\n",
      "continuous subproblem status is OPTIMAL\n",
      "continuous subproblem status is OPTIMAL\n",
      "continuous subproblem status is OPTIMAL\n",
      "continuous subproblem status is OPTIMAL\n",
      "heuristic cb status was: HEURISTIC_SOLUTION_ACCEPTED\n",
      "continuous subproblem status is OPTIMAL\n",
      "heuristic cb status was: HEURISTIC_SOLUTION_ACCEPTED\n",
      "continuous subproblem status is OPTIMAL\n",
      "continuous subproblem status is OPTIMAL\n",
      "continuous subproblem status is OPTIMAL\n",
      "continuous subproblem status is OPTIMAL\n",
      "continuous subproblem status is OPTIMAL\n",
      "continuous subproblem status is OPTIMAL\n",
      "continuous subproblem status is OPTIMAL\n",
      "continuous subproblem status is OPTIMAL\n",
      "continuous subproblem status is OPTIMAL\n",
      "continuous subproblem status is OPTIMAL\n",
      "continuous subproblem status is OPTIMAL\n",
      "continuous subproblem status is OPTIMAL\n",
      "continuous subproblem status is OPTIMAL\n",
      "continuous subproblem status is OPTIMAL\n",
      "continuous subproblem status is OPTIMAL\n",
      "continuous subproblem status is OPTIMAL\n",
      "continuous subproblem status is OPTIMAL\n",
      "continuous subproblem status is OPTIMAL\n",
      "continuous subproblem status is OPTIMAL\n",
      "continuous subproblem status is OPTIMAL\n",
      "continuous subproblem status is OPTIMAL\n",
      "continuous subproblem status is OPTIMAL\n",
      "continuous subproblem status is OPTIMAL\n",
      "continuous subproblem status is OPTIMAL\n",
      "continuous subproblem status is OPTIMAL\n",
      "continuous subproblem status is OPTIMAL\n",
      "continuous subproblem status is OPTIMAL\n",
      "OA solver finished with status OPTIMAL, after 2.0512959957122803 seconds and 1183 cuts\n",
      "one tree method used 6092 lazy callbacks and 5911 heuristic callbacks\n",
      "\n"
     ]
    },
    {
     "data": {
      "text/plain": [
       "(MathOptInterface.OPTIMAL, -8.987798403845265, [8.0; 8.0; … ; 11.0; 11.0;;])"
      ]
     },
     "execution_count": 113,
     "metadata": {},
     "output_type": "execute_result"
    }
   ],
   "source": [
    "solve!(D_problem, misdp_solver)\n",
    "# Check the status, optimal value, and minimizer of the problem\n",
    "D_problem.status, D_problem.optval, N.value"
   ]
  },
  {
   "cell_type": "code",
   "execution_count": 111,
   "metadata": {
    "scrolled": true
   },
   "outputs": [
    {
     "data": {
      "text/plain": [
       "8.988"
      ]
     },
     "execution_count": 111,
     "metadata": {},
     "output_type": "execute_result"
    }
   ],
   "source": [
    "-round(D_problem.optval, digits = 3)"
   ]
  },
  {
   "cell_type": "code",
   "execution_count": 114,
   "metadata": {
    "scrolled": false
   },
   "outputs": [
    {
     "data": {
      "text/plain": [
       "11-element Vector{Float64}:\n",
       "  8.0\n",
       "  8.0\n",
       " 10.0\n",
       "  8.0\n",
       "  8.0\n",
       " 10.0\n",
       "  8.0\n",
       "  8.0\n",
       " 10.0\n",
       " 11.0\n",
       " 11.0"
      ]
     },
     "execution_count": 114,
     "metadata": {},
     "output_type": "execute_result"
    }
   ],
   "source": [
    "D_opt_n = vec(N.value)"
   ]
  },
  {
   "cell_type": "code",
   "execution_count": 115,
   "metadata": {
    "scrolled": true
   },
   "outputs": [
    {
     "data": {
      "text/plain": [
       "Problem statistics\n",
       "  problem is DCP         : true\n",
       "  number of variables    : 1 (11 scalar elements)\n",
       "  number of constraints  : 2 (12 scalar elements)\n",
       "  number of coefficients : 146\n",
       "  number of atoms        : 10\n",
       "\n",
       "Solution summary\n",
       "  termination status : OPTIMIZE_NOT_CALLED\n",
       "  primal status      : NO_SOLUTION\n",
       "  dual status        : NO_SOLUTION\n",
       "\n",
       "Expression graph\n",
       "  maximize\n",
       "   └─ eigmin (concave; real)\n",
       "      └─ * (affine; real)\n",
       "         ├─ * (affine; real)\n",
       "         │  ├─ …\n",
       "         │  └─ …\n",
       "         └─ 11×6 Matrix{Int64}\n",
       "  subject to\n",
       "   ├─ == constraint (affine)\n",
       "   │  └─ + (affine; real)\n",
       "   │     ├─ sum (affine; real)\n",
       "   │     │  └─ …\n",
       "   │     └─ [-100;;]\n",
       "   └─ ≥ constraint (affine)\n",
       "      └─ + (affine; real)\n",
       "         ├─ 11-element real variable (id: 163…655)\n",
       "         └─ Convex.NegateAtom (constant; negative)\n",
       "            └─ …\n"
      ]
     },
     "execution_count": 115,
     "metadata": {},
     "output_type": "execute_result"
    }
   ],
   "source": [
    "#E-opt\n",
    "N = Variable(size(X, 1), :Int)\n",
    "E_problem = maximize(eigmin((transpose(X) * Diagonal(N ./ 100) * X))) # objective\n",
    "E_problem.constraints += sum(N) == 100; # constraint\n",
    "E_problem.constraints += N >= 0;\n",
    "E_problem"
   ]
  },
  {
   "cell_type": "code",
   "execution_count": 116,
   "metadata": {},
   "outputs": [
    {
     "name": "stdout",
     "output_type": "stream",
     "text": [
      "Set parameter Username\n",
      "Academic license - for non-commercial use only - expires 2025-05-22\n",
      "solving continuous relaxation\n",
      "continuous relaxation status is OPTIMAL\n",
      "separated 0 rays before imposing integrality\n",
      "starting one tree method\n",
      "continuous subproblem status is OPTIMAL\n",
      "subproblem cuts could not be added\n",
      "separation cuts could not be added\n",
      "new incumbent\n",
      "continuous subproblem status is OPTIMAL\n",
      "cached subproblem cuts could not be added\n",
      "separation cuts could not be added\n",
      "continuous subproblem status is OPTIMAL\n",
      "continuous subproblem status is OPTIMAL"
     ]
    },
    {
     "name": "stderr",
     "output_type": "stream",
     "text": [
      "\u001b[36m\u001b[1m[ \u001b[22m\u001b[39m\u001b[36m\u001b[1mInfo: \u001b[22m\u001b[39m[Convex.jl] Compilation finished: 0.01 seconds, 304.625 KiB of memory allocated\n"
     ]
    },
    {
     "name": "stdout",
     "output_type": "stream",
     "text": [
      "\n",
      "continuous subproblem status is OPTIMAL\n",
      "continuous subproblem status is OPTIMAL\n",
      "continuous subproblem status is OPTIMAL\n",
      "continuous subproblem status is OPTIMAL\n",
      "cached subproblem cuts could not be added\n",
      "separation cuts could not be added\n",
      "continuous subproblem status is OPTIMAL\n",
      "continuous subproblem status is OPTIMAL\n",
      "continuous subproblem status is OPTIMAL\n",
      "continuous subproblem status is OPTIMAL\n",
      "continuous subproblem status is OPTIMAL\n",
      "heuristic cb status was: HEURISTIC_SOLUTION_ACCEPTED\n",
      "cached subproblem cuts could not be added\n",
      "separation cuts could not be added\n",
      "continuous subproblem status is OPTIMAL\n",
      "continuous subproblem status is OPTIMAL\n",
      "continuous subproblem status is OPTIMAL\n",
      "continuous subproblem status is OPTIMAL\n",
      "continuous subproblem status is OPTIMAL\n",
      "continuous subproblem status is OPTIMAL\n",
      "heuristic cb status was: HEURISTIC_SOLUTION_ACCEPTED\n",
      "continuous subproblem status is OPTIMAL\n",
      "cached subproblem cuts could not be added\n",
      "separation cuts could not be added\n",
      "continuous subproblem status is OPTIMAL\n",
      "continuous subproblem status is OPTIMAL\n",
      "continuous subproblem status is OPTIMAL\n",
      "continuous subproblem status is OPTIMAL\n",
      "continuous subproblem status is OPTIMAL\n",
      "continuous subproblem status is OPTIMAL\n",
      "continuous subproblem status is OPTIMAL\n",
      "continuous subproblem status is OPTIMAL\n",
      "continuous subproblem status is OPTIMAL\n",
      "continuous subproblem status is OPTIMAL\n",
      "continuous subproblem status is OPTIMAL\n",
      "continuous subproblem status is OPTIMAL\n",
      "continuous subproblem status is OPTIMAL\n",
      "continuous subproblem status is OPTIMAL\n",
      "continuous subproblem status is OPTIMAL\n",
      "continuous subproblem status is OPTIMAL\n",
      "continuous subproblem status is OPTIMAL\n",
      "heuristic cb status was: HEURISTIC_SOLUTION_ACCEPTED\n",
      "cached subproblem cuts could not be added\n",
      "separation cuts could not be added\n",
      "continuous subproblem status is OPTIMAL\n",
      "continuous subproblem status is OPTIMAL\n",
      "continuous subproblem status is OPTIMAL\n",
      "continuous subproblem status is OPTIMAL\n",
      "continuous subproblem status is OPTIMAL\n",
      "heuristic cb status was: HEURISTIC_SOLUTION_ACCEPTED\n",
      "cached subproblem cuts could not be added\n",
      "separation cuts could not be added\n",
      "continuous subproblem status is OPTIMAL\n",
      "continuous subproblem status is OPTIMAL\n",
      "heuristic cb status was: HEURISTIC_SOLUTION_ACCEPTED\n",
      "cached subproblem cuts could not be added\n",
      "separation cuts could not be added\n",
      "continuous subproblem status is OPTIMAL\n",
      "continuous subproblem status is OPTIMAL\n",
      "continuous subproblem status is OPTIMAL\n",
      "continuous subproblem status is OPTIMAL\n",
      "continuous subproblem status is OPTIMAL\n",
      "continuous subproblem status is OPTIMAL\n",
      "continuous subproblem status is OPTIMAL\n",
      "continuous subproblem status is OPTIMAL\n",
      "continuous subproblem status is OPTIMAL\n",
      "heuristic cb status was: HEURISTIC_SOLUTION_ACCEPTED\n",
      "cached subproblem cuts could not be added\n",
      "separation cuts could not be added\n",
      "continuous subproblem status is OPTIMAL\n",
      "continuous subproblem status is OPTIMAL\n",
      "heuristic cb status was: HEURISTIC_SOLUTION_ACCEPTED\n",
      "cached subproblem cuts could not be added\n",
      "separation cuts could not be added\n",
      "continuous subproblem status is OPTIMAL\n",
      "continuous subproblem status is OPTIMAL\n",
      "continuous subproblem status is OPTIMAL\n",
      "continuous subproblem status is OPTIMAL\n",
      "heuristic cb status was: HEURISTIC_SOLUTION_ACCEPTED\n",
      "continuous subproblem status is OPTIMAL\n",
      "cached subproblem cuts could not be added\n",
      "separation cuts could not be added\n",
      "continuous subproblem status is OPTIMAL\n",
      "continuous subproblem status is OPTIMAL\n",
      "continuous subproblem status is OPTIMAL\n",
      "continuous subproblem status is OPTIMAL\n",
      "continuous subproblem status is OPTIMAL\n",
      "continuous subproblem status is OPTIMAL\n",
      "continuous subproblem status is OPTIMAL\n",
      "continuous subproblem status is OPTIMAL\n",
      "continuous subproblem status is OPTIMAL\n",
      "continuous subproblem status is OPTIMAL\n",
      "continuous subproblem status is OPTIMAL\n",
      "continuous subproblem status is OPTIMAL\n",
      "continuous subproblem status is OPTIMAL\n",
      "continuous subproblem status is OPTIMAL\n",
      "heuristic cb status was: HEURISTIC_SOLUTION_ACCEPTED\n",
      "cached subproblem cuts could not be added\n",
      "separation cuts could not be added\n",
      "continuous subproblem status is OPTIMAL\n",
      "continuous subproblem status is OPTIMAL\n",
      "continuous subproblem status is OPTIMAL\n",
      "continuous subproblem status is OPTIMAL\n",
      "continuous subproblem status is OPTIMAL\n",
      "continuous subproblem status is OPTIMAL\n",
      "continuous subproblem status is OPTIMAL\n",
      "continuous subproblem status is OPTIMAL\n",
      "continuous subproblem status is OPTIMAL\n",
      "continuous subproblem status is OPTIMAL\n",
      "heuristic cb status was: HEURISTIC_SOLUTION_ACCEPTED\n",
      "cached subproblem cuts could not be added\n",
      "separation cuts could not be added\n",
      "continuous subproblem status is OPTIMAL\n",
      "continuous subproblem status is OPTIMAL\n",
      "heuristic cb status was: HEURISTIC_SOLUTION_ACCEPTED\n",
      "cached subproblem cuts could not be added\n",
      "separation cuts could not be added\n",
      "continuous subproblem status is OPTIMAL\n",
      "continuous subproblem status is OPTIMAL\n",
      "continuous subproblem status is OPTIMAL\n",
      "continuous subproblem status is OPTIMAL\n",
      "continuous subproblem status is OPTIMAL\n",
      "continuous subproblem status is OPTIMAL\n",
      "continuous subproblem status is OPTIMAL\n",
      "continuous subproblem status is OPTIMAL\n",
      "continuous subproblem status is OPTIMAL\n",
      "continuous subproblem status is OPTIMAL\n",
      "continuous subproblem status is OPTIMAL\n",
      "heuristic cb status was: HEURISTIC_SOLUTION_ACCEPTED\n",
      "cached subproblem cuts could not be added\n",
      "separation cuts could not be added\n",
      "continuous subproblem status is OPTIMAL\n",
      "continuous subproblem status is OPTIMAL\n",
      "continuous subproblem status is OPTIMAL\n",
      "continuous subproblem status is OPTIMAL\n",
      "continuous subproblem status is OPTIMAL\n",
      "continuous subproblem status is OPTIMAL\n",
      "continuous subproblem status is OPTIMAL\n",
      "continuous subproblem status is OPTIMAL\n",
      "heuristic cb status was: HEURISTIC_SOLUTION_ACCEPTED\n",
      "cached subproblem cuts could not be added\n",
      "separation cuts could not be added\n",
      "continuous subproblem status is OPTIMAL\n",
      "continuous subproblem status is OPTIMAL\n",
      "continuous subproblem status is OPTIMAL\n",
      "heuristic cb status was: HEURISTIC_SOLUTION_ACCEPTED\n",
      "cached subproblem cuts could not be added\n",
      "separation cuts could not be added\n",
      "continuous subproblem status is OPTIMAL\n",
      "continuous subproblem status is OPTIMAL\n",
      "continuous subproblem status is OPTIMAL\n",
      "continuous subproblem status is OPTIMAL\n",
      "continuous subproblem status is OPTIMAL\n",
      "continuous subproblem status is OPTIMAL\n",
      "heuristic cb status was: HEURISTIC_SOLUTION_ACCEPTED\n",
      "cached subproblem cuts could not be added\n",
      "separation cuts could not be added\n",
      "continuous subproblem status is OPTIMAL\n",
      "continuous subproblem status is OPTIMAL\n",
      "heuristic cb status was: HEURISTIC_SOLUTION_ACCEPTED\n",
      "cached subproblem cuts could not be added\n",
      "separation cuts could not be added\n",
      "continuous subproblem status is OPTIMAL\n",
      "continuous subproblem status is OPTIMAL\n",
      "continuous subproblem status is OPTIMAL\n",
      "continuous subproblem status is OPTIMAL\n",
      "continuous subproblem status is OPTIMAL\n",
      "continuous subproblem status is OPTIMAL\n",
      "continuous subproblem status is OPTIMAL\n",
      "continuous subproblem status is OPTIMAL\n",
      "continuous subproblem status is OPTIMAL\n",
      "continuous subproblem status is OPTIMAL\n",
      "continuous subproblem status is OPTIMAL\n",
      "continuous subproblem status is OPTIMAL\n",
      "continuous subproblem status is OPTIMAL\n",
      "continuous subproblem status is OPTIMAL\n",
      "continuous subproblem status is OPTIMAL\n",
      "continuous subproblem status is OPTIMAL\n",
      "continuous subproblem status is OPTIMAL\n",
      "continuous subproblem status is OPTIMAL\n",
      "continuous subproblem status is OPTIMAL\n",
      "continuous subproblem status is OPTIMAL\n",
      "continuous subproblem status is OPTIMAL\n",
      "continuous subproblem status is OPTIMAL\n",
      "continuous subproblem status is OPTIMAL\n",
      "continuous subproblem status is OPTIMAL\n",
      "continuous subproblem status is OPTIMAL\n",
      "continuous subproblem status is OPTIMAL\n",
      "continuous subproblem status is OPTIMAL\n",
      "continuous subproblem status is OPTIMAL\n",
      "continuous subproblem status is OPTIMAL\n",
      "continuous subproblem status is OPTIMAL\n",
      "continuous subproblem status is OPTIMAL\n",
      "heuristic cb status was: HEURISTIC_SOLUTION_ACCEPTED\n",
      "cached subproblem cuts could not be added\n",
      "separation cuts could not be added\n",
      "continuous subproblem status is OPTIMAL\n",
      "continuous subproblem status is OPTIMAL\n",
      "continuous subproblem status is OPTIMAL\n",
      "heuristic cb status was: HEURISTIC_SOLUTION_ACCEPTED\n",
      "cached subproblem cuts could not be added\n",
      "separation cuts could not be added\n",
      "continuous subproblem status is OPTIMAL\n",
      "continuous subproblem status is OPTIMAL\n",
      "continuous subproblem status is OPTIMAL\n",
      "continuous subproblem status is OPTIMAL\n",
      "continuous subproblem status is OPTIMAL\n",
      "continuous subproblem status is OPTIMAL\n",
      "continuous subproblem status is OPTIMAL\n",
      "continuous subproblem status is OPTIMAL\n",
      "continuous subproblem status is OPTIMAL\n",
      "continuous subproblem status is OPTIMAL\n"
     ]
    },
    {
     "name": "stdout",
     "output_type": "stream",
     "text": [
      "continuous subproblem status is OPTIMAL\n",
      "continuous subproblem status is OPTIMAL\n",
      "heuristic cb status was: HEURISTIC_SOLUTION_ACCEPTED\n",
      "cached subproblem cuts could not be added\n",
      "separation cuts could not be added\n",
      "continuous subproblem status is OPTIMAL\n",
      "continuous subproblem status is OPTIMAL\n",
      "continuous subproblem status is OPTIMAL\n",
      "continuous subproblem status is OPTIMAL\n",
      "continuous subproblem status is OPTIMAL\n",
      "continuous subproblem status is OPTIMAL\n",
      "continuous subproblem status is OPTIMAL\n",
      "continuous subproblem status is OPTIMAL\n",
      "continuous subproblem status is OPTIMAL\n",
      "continuous subproblem status is OPTIMAL\n",
      "continuous subproblem status is OPTIMAL\n",
      "continuous subproblem status is OPTIMAL\n",
      "continuous subproblem status is OPTIMAL\n",
      "continuous subproblem status is OPTIMAL\n",
      "continuous subproblem status is OPTIMAL\n",
      "continuous subproblem status is OPTIMAL\n",
      "continuous subproblem status is OPTIMAL\n",
      "continuous subproblem status is OPTIMAL\n",
      "continuous subproblem status is OPTIMAL\n",
      "continuous subproblem status is OPTIMAL\n",
      "continuous subproblem status is OPTIMAL\n",
      "continuous subproblem status is OPTIMAL\n",
      "continuous subproblem status is OPTIMAL\n",
      "continuous subproblem status is OPTIMAL\n",
      "continuous subproblem status is OPTIMAL\n",
      "continuous subproblem status is OPTIMAL\n",
      "continuous subproblem status is OPTIMAL\n",
      "continuous subproblem status is OPTIMAL\n",
      "continuous subproblem status is OPTIMAL\n",
      "continuous subproblem status is OPTIMAL\n",
      "continuous subproblem status is OPTIMAL\n",
      "continuous subproblem status is OPTIMAL\n",
      "continuous subproblem status is OPTIMAL\n",
      "continuous subproblem status is OPTIMAL\n",
      "continuous subproblem status is OPTIMAL\n",
      "continuous subproblem status is OPTIMAL\n",
      "continuous subproblem status is OPTIMAL\n",
      "continuous subproblem status is OPTIMAL\n",
      "continuous subproblem status is OPTIMAL\n",
      "continuous subproblem status is OPTIMAL\n",
      "continuous subproblem status is OPTIMAL\n",
      "continuous subproblem status is OPTIMAL\n",
      "continuous subproblem status is OPTIMAL\n",
      "continuous subproblem status is OPTIMAL\n",
      "continuous subproblem status is OPTIMAL\n",
      "continuous subproblem status is OPTIMAL\n",
      "continuous subproblem status is OPTIMAL\n",
      "continuous subproblem status is OPTIMAL\n",
      "continuous subproblem status is OPTIMAL\n",
      "continuous subproblem status is OPTIMAL\n",
      "continuous subproblem status is OPTIMAL\n",
      "continuous subproblem status is OPTIMAL\n",
      "continuous subproblem status is OPTIMAL\n",
      "continuous subproblem status is OPTIMAL\n",
      "continuous subproblem status is OPTIMAL\n",
      "heuristic cb status was: HEURISTIC_SOLUTION_ACCEPTED\n",
      "cached subproblem cuts could not be added\n",
      "separation cuts could not be added\n",
      "continuous subproblem status is OPTIMAL\n",
      "continuous subproblem status is OPTIMAL\n",
      "continuous subproblem status is OPTIMAL\n",
      "continuous subproblem status is OPTIMAL\n",
      "continuous subproblem status is OPTIMAL\n",
      "continuous subproblem status is OPTIMAL\n",
      "continuous subproblem status is OPTIMAL\n",
      "continuous subproblem status is OPTIMAL\n",
      "continuous subproblem status is OPTIMAL\n",
      "continuous subproblem status is OPTIMAL\n",
      "continuous subproblem status is OPTIMAL\n",
      "continuous subproblem status is OPTIMAL\n",
      "continuous subproblem status is OPTIMAL\n",
      "continuous subproblem status is OPTIMAL\n",
      "continuous subproblem status is OPTIMAL\n",
      "continuous subproblem status is OPTIMAL\n",
      "heuristic cb status was: HEURISTIC_SOLUTION_ACCEPTED\n",
      "cached subproblem cuts could not be added\n",
      "separation cuts could not be added\n",
      "continuous subproblem status is OPTIMAL\n",
      "continuous subproblem status is OPTIMAL\n",
      "continuous subproblem status is OPTIMAL\n",
      "continuous subproblem status is OPTIMAL\n",
      "continuous subproblem status is OPTIMAL\n",
      "continuous subproblem status is OPTIMAL\n",
      "continuous subproblem status is OPTIMAL\n",
      "continuous subproblem status is OPTIMAL\n",
      "continuous subproblem status is OPTIMAL\n",
      "continuous subproblem status is OPTIMAL\n",
      "continuous subproblem status is OPTIMAL\n",
      "continuous subproblem status is OPTIMAL\n",
      "continuous subproblem status is OPTIMAL\n",
      "continuous subproblem status is OPTIMAL\n",
      "continuous subproblem status is OPTIMAL\n",
      "continuous subproblem status is OPTIMAL\n",
      "continuous subproblem status is OPTIMAL\n",
      "continuous subproblem status is OPTIMAL\n",
      "continuous subproblem status is OPTIMAL\n",
      "continuous subproblem status is OPTIMAL\n",
      "continuous subproblem status is OPTIMAL\n",
      "continuous subproblem status is OPTIMAL\n",
      "continuous subproblem status is OPTIMAL\n",
      "continuous subproblem status is OPTIMAL\n",
      "continuous subproblem status is OPTIMAL\n",
      "continuous subproblem status is OPTIMAL\n",
      "continuous subproblem status is OPTIMAL\n",
      "continuous subproblem status is OPTIMAL\n",
      "continuous subproblem status is OPTIMAL\n",
      "continuous subproblem status is OPTIMAL\n",
      "continuous subproblem status is OPTIMAL\n",
      "continuous subproblem status is OPTIMAL\n",
      "continuous subproblem status is OPTIMAL\n",
      "continuous subproblem status is OPTIMAL\n",
      "continuous subproblem status is OPTIMAL\n",
      "continuous subproblem status is OPTIMAL\n",
      "continuous subproblem status is OPTIMAL\n",
      "continuous subproblem status is OPTIMAL\n",
      "continuous subproblem status is OPTIMAL\n",
      "continuous subproblem status is OPTIMAL\n",
      "continuous subproblem status is OPTIMAL\n",
      "continuous subproblem status is OPTIMAL\n",
      "continuous subproblem status is OPTIMAL\n",
      "continuous subproblem status is OPTIMAL\n",
      "continuous subproblem status is OPTIMAL\n",
      "continuous subproblem status is OPTIMAL\n",
      "continuous subproblem status is OPTIMAL\n",
      "continuous subproblem status is OPTIMAL\n",
      "continuous subproblem status is OPTIMAL\n",
      "continuous subproblem status is OPTIMAL\n",
      "continuous subproblem status is OPTIMAL\n",
      "continuous subproblem status is OPTIMAL\n",
      "heuristic cb status was: HEURISTIC_SOLUTION_REJECTED\n",
      "continuous subproblem status is OPTIMAL\n",
      "continuous subproblem status is OPTIMAL\n",
      "continuous subproblem status is OPTIMAL\n",
      "continuous subproblem status is OPTIMAL\n",
      "continuous subproblem status is OPTIMAL\n",
      "continuous subproblem status is OPTIMAL\n",
      "continuous subproblem status is OPTIMAL\n",
      "continuous subproblem status is OPTIMAL\n",
      "continuous subproblem status is OPTIMAL\n",
      "continuous subproblem status is OPTIMAL\n",
      "continuous subproblem status is OPTIMAL\n",
      "continuous subproblem status is OPTIMAL\n",
      "continuous subproblem status is OPTIMAL\n",
      "continuous subproblem status is OPTIMAL\n",
      "continuous subproblem status is OPTIMAL\n",
      "continuous subproblem status is OPTIMAL\n",
      "continuous subproblem status is OPTIMAL\n",
      "continuous subproblem status is OPTIMAL\n",
      "continuous subproblem status is OPTIMAL\n",
      "continuous subproblem status is OPTIMAL\n",
      "continuous subproblem status is OPTIMAL\n",
      "continuous subproblem status is OPTIMAL\n",
      "continuous subproblem status is OPTIMAL\n",
      "continuous subproblem status is OPTIMAL\n",
      "continuous subproblem status is OPTIMAL\n",
      "continuous subproblem status is OPTIMAL\n",
      "continuous subproblem status is OPTIMAL\n",
      "continuous subproblem status is OPTIMAL\n",
      "continuous subproblem status is OPTIMAL\n",
      "continuous subproblem status is OPTIMAL\n",
      "continuous subproblem status is OPTIMAL\n",
      "continuous subproblem status is OPTIMAL\n",
      "continuous subproblem status is OPTIMAL\n",
      "continuous subproblem status is OPTIMAL\n",
      "continuous subproblem status is OPTIMAL\n",
      "continuous subproblem status is OPTIMAL\n",
      "continuous subproblem status is OPTIMAL\n",
      "continuous subproblem status is OPTIMAL\n",
      "continuous subproblem status is OPTIMAL\n",
      "continuous subproblem status is OPTIMAL\n",
      "continuous subproblem status is OPTIMAL\n",
      "continuous subproblem status is OPTIMAL\n",
      "continuous subproblem status is OPTIMAL\n",
      "continuous subproblem status is OPTIMAL\n",
      "continuous subproblem status is OPTIMAL\n",
      "continuous subproblem status is OPTIMAL\n",
      "continuous subproblem status is OPTIMAL\n",
      "continuous subproblem status is OPTIMAL\n",
      "continuous subproblem status is OPTIMAL\n",
      "continuous subproblem status is OPTIMAL\n",
      "continuous subproblem status is OPTIMAL\n",
      "continuous subproblem status is OPTIMAL\n",
      "continuous subproblem status is OPTIMAL\n",
      "continuous subproblem status is OPTIMAL\n",
      "continuous subproblem status is OPTIMAL\n",
      "continuous subproblem status is OPTIMAL\n",
      "continuous subproblem status is OPTIMAL\n",
      "continuous subproblem status is OPTIMAL\n",
      "continuous subproblem status is OPTIMAL\n",
      "continuous subproblem status is OPTIMAL\n",
      "continuous subproblem status is OPTIMAL\n",
      "continuous subproblem status is OPTIMAL\n",
      "continuous subproblem status is OPTIMAL\n",
      "continuous subproblem status is OPTIMAL\n",
      "heuristic cb status was: HEURISTIC_SOLUTION_REJECTED\n",
      "continuous subproblem status is OPTIMAL\n",
      "continuous subproblem status is OPTIMAL\n",
      "continuous subproblem status is OPTIMAL\n",
      "continuous subproblem status is OPTIMAL\n",
      "continuous subproblem status is OPTIMAL\n"
     ]
    },
    {
     "name": "stdout",
     "output_type": "stream",
     "text": [
      "continuous subproblem status is OPTIMAL\n",
      "continuous subproblem status is OPTIMAL\n",
      "continuous subproblem status is OPTIMAL\n",
      "continuous subproblem status is OPTIMAL\n",
      "continuous subproblem status is OPTIMAL\n",
      "continuous subproblem status is OPTIMAL\n",
      "continuous subproblem status is OPTIMAL\n",
      "continuous subproblem status is OPTIMAL\n",
      "continuous subproblem status is OPTIMAL\n",
      "continuous subproblem status is OPTIMAL\n",
      "continuous subproblem status is OPTIMAL\n",
      "continuous subproblem status is OPTIMAL\n",
      "heuristic cb status was: HEURISTIC_SOLUTION_REJECTED\n",
      "continuous subproblem status is OPTIMAL\n",
      "continuous subproblem status is OPTIMAL\n",
      "continuous subproblem status is OPTIMAL\n",
      "OA solver finished with status OPTIMAL, after 32.30571007728577 seconds and 410 cuts\n",
      "one tree method used 990800 lazy callbacks and 990407 heuristic callbacks\n",
      "\n"
     ]
    },
    {
     "data": {
      "text/plain": [
       "(MathOptInterface.OPTIMAL, 0.0768574959315009, [29.0; 15.0; … ; 8.0; 7.0;;])"
      ]
     },
     "execution_count": 116,
     "metadata": {},
     "output_type": "execute_result"
    }
   ],
   "source": [
    "solve!(E_problem, misdp_solver)\n",
    "\n",
    "\n",
    "# Check the status, optimal value, and minimizer of the problem\n",
    "E_problem.status, E_problem.optval, N.value"
   ]
  },
  {
   "cell_type": "code",
   "execution_count": 118,
   "metadata": {},
   "outputs": [
    {
     "data": {
      "text/plain": [
       "13.011"
      ]
     },
     "execution_count": 118,
     "metadata": {},
     "output_type": "execute_result"
    }
   ],
   "source": [
    "round(1/E_problem.optval, digits = 3)"
   ]
  },
  {
   "cell_type": "code",
   "execution_count": 119,
   "metadata": {
    "scrolled": false
   },
   "outputs": [
    {
     "data": {
      "text/plain": [
       "11-element Vector{Float64}:\n",
       " 29.0\n",
       " 15.0\n",
       " 10.0\n",
       "  7.0\n",
       "  2.0\n",
       "  6.0\n",
       "  6.0\n",
       "  6.0\n",
       "  4.0\n",
       "  8.0\n",
       "  7.0"
      ]
     },
     "execution_count": 119,
     "metadata": {},
     "output_type": "execute_result"
    }
   ],
   "source": [
    "E_opt_n = vec(N.value)"
   ]
  },
  {
   "cell_type": "code",
   "execution_count": 120,
   "metadata": {
    "scrolled": true
   },
   "outputs": [
    {
     "data": {
      "text/plain": [
       "Problem statistics\n",
       "  problem is DCP         : true\n",
       "  number of variables    : 2 (47 scalar elements)\n",
       "  number of constraints  : 4 (192 scalar elements)\n",
       "  number of coefficients : 218\n",
       "  number of atoms        : 14\n",
       "\n",
       "Solution summary\n",
       "  termination status : OPTIMIZE_NOT_CALLED\n",
       "  primal status      : NO_SOLUTION\n",
       "  dual status        : NO_SOLUTION\n",
       "\n",
       "Expression graph\n",
       "  minimize\n",
       "   └─ sum (affine; real)\n",
       "      └─ diag (affine; real)\n",
       "         └─ 6×6 real variable (id: 875…947)\n",
       "  subject to\n",
       "   ├─ == constraint (affine)\n",
       "   │  └─ + (affine; real)\n",
       "   │     ├─ sum (affine; real)\n",
       "   │     │  └─ …\n",
       "   │     └─ [-100;;]\n",
       "   ├─ ≥ constraint (affine)\n",
       "   │  └─ + (affine; real)\n",
       "   │     ├─ 11-element real variable (id: 181…116)\n",
       "   │     └─ Convex.NegateAtom (constant; negative)\n",
       "   │        └─ …\n",
       "   ├─ PSD constraint (convex)\n",
       "   │  └─ vcat (affine; real)\n",
       "   │     ├─ hcat (affine; real)\n",
       "   │     │  ├─ …\n",
       "   │     │  └─ …\n",
       "   │     └─ hcat (affine; real)\n",
       "   │        ├─ …\n",
       "   │        └─ …\n",
       "   ⋮\n"
      ]
     },
     "execution_count": 120,
     "metadata": {},
     "output_type": "execute_result"
    }
   ],
   "source": [
    "#A-opt\n",
    "N = Variable(size(X, 1), :Int)\n",
    "Y = Semidefinite(size(X, 2))\n",
    "schur_matrix = [Y I(size(X, 2)); I(size(X, 2)) (transpose(X) * Diagonal(N ./ 100) * X)]\n",
    "A_problem = minimize(tr(Y)) # objective\n",
    "A_problem.constraints += sum(N) == 100; # constraint\n",
    "A_problem.constraints += N >= 0;\n",
    "A_problem.constraints += schur_matrix in :SDP;\n",
    "A_problem"
   ]
  },
  {
   "cell_type": "code",
   "execution_count": 121,
   "metadata": {
    "scrolled": true
   },
   "outputs": [
    {
     "name": "stdout",
     "output_type": "stream",
     "text": [
      "Set parameter Username\n",
      "Academic license - for non-commercial use only - expires 2025-05-22\n",
      "solving continuous relaxation\n",
      "continuous relaxation status is OPTIMAL\n",
      "separated 0 rays before imposing integrality\n",
      "starting one tree method\n",
      "continuous subproblem status is SLOW_PROGRESS"
     ]
    },
    {
     "name": "stderr",
     "output_type": "stream",
     "text": [
      "\u001b[36m\u001b[1m[ \u001b[22m\u001b[39m\u001b[36m\u001b[1mInfo: \u001b[22m\u001b[39m[Convex.jl] Compilation finished: 0.01 seconds, 459.078 KiB of memory allocated\n"
     ]
    },
    {
     "name": "stdout",
     "output_type": "stream",
     "text": [
      "\n",
      "continuous subproblem status is SLOW_PROGRESS\n",
      "norm of dual is 1.4066599980675527e14\n",
      "continuous subproblem status is SLOW_PROGRESS\n",
      "norm of dual is 1.1089518537806377e11\n",
      "continuous subproblem status is SLOW_PROGRESS\n",
      "norm of dual is 1.3335343872161983e11\n",
      "continuous subproblem status is SLOW_PROGRESS\n",
      "norm of dual is 2.2216932557820862e11\n"
     ]
    },
    {
     "name": "stderr",
     "output_type": "stream",
     "text": [
      "\u001b[33m\u001b[1m┌ \u001b[22m\u001b[39m\u001b[33m\u001b[1mWarning: \u001b[22m\u001b[39mcontinuous subproblem status SLOW_PROGRESS is not handled\n",
      "\u001b[33m\u001b[1m└ \u001b[22m\u001b[39m\u001b[90m@ Pajarito ~/.julia/packages/Pajarito/gSNvz/src/algorithms.jl:396\u001b[39m\n",
      "\u001b[33m\u001b[1m┌ \u001b[22m\u001b[39m\u001b[33m\u001b[1mWarning: \u001b[22m\u001b[39mcontinuous subproblem status SLOW_PROGRESS is not handled\n",
      "\u001b[33m\u001b[1m└ \u001b[22m\u001b[39m\u001b[90m@ Pajarito ~/.julia/packages/Pajarito/gSNvz/src/algorithms.jl:396\u001b[39m\n",
      "\u001b[33m\u001b[1m┌ \u001b[22m\u001b[39m\u001b[33m\u001b[1mWarning: \u001b[22m\u001b[39mcontinuous subproblem status SLOW_PROGRESS is not handled\n",
      "\u001b[33m\u001b[1m└ \u001b[22m\u001b[39m\u001b[90m@ Pajarito ~/.julia/packages/Pajarito/gSNvz/src/algorithms.jl:396\u001b[39m\n",
      "\u001b[33m\u001b[1m┌ \u001b[22m\u001b[39m\u001b[33m\u001b[1mWarning: \u001b[22m\u001b[39mcontinuous subproblem status SLOW_PROGRESS is not handled\n",
      "\u001b[33m\u001b[1m└ \u001b[22m\u001b[39m\u001b[90m@ Pajarito ~/.julia/packages/Pajarito/gSNvz/src/algorithms.jl:396\u001b[39m\n",
      "\u001b[33m\u001b[1m┌ \u001b[22m\u001b[39m\u001b[33m\u001b[1mWarning: \u001b[22m\u001b[39mcontinuous subproblem status SLOW_PROGRESS is not handled\n",
      "\u001b[33m\u001b[1m└ \u001b[22m\u001b[39m\u001b[90m@ Pajarito ~/.julia/packages/Pajarito/gSNvz/src/algorithms.jl:396\u001b[39m\n",
      "\u001b[33m\u001b[1m┌ \u001b[22m\u001b[39m\u001b[33m\u001b[1mWarning: \u001b[22m\u001b[39minteger variable solution is not integral to tolerance tol_feas\n",
      "\u001b[33m\u001b[1m└ \u001b[22m\u001b[39m\u001b[90m@ Pajarito ~/.julia/packages/Pajarito/gSNvz/src/algorithms.jl:441\u001b[39m\n"
     ]
    },
    {
     "name": "stdout",
     "output_type": "stream",
     "text": [
      "continuous subproblem status is SLOW_PROGRESS\n",
      "norm of dual is 2.6429977067841425e11\n",
      "continuous subproblem status is SLOW_PROGRESS\n",
      "continuous subproblem status is OPTIMAL\n",
      "heuristic cb status was: HEURISTIC_SOLUTION_ACCEPTED\n",
      "continuous subproblem status is SLOW_PROGRESS\n",
      "continuous subproblem status is SLOW_PROGRESS\n"
     ]
    },
    {
     "name": "stderr",
     "output_type": "stream",
     "text": [
      "\u001b[33m\u001b[1m┌ \u001b[22m\u001b[39m\u001b[33m\u001b[1mWarning: \u001b[22m\u001b[39mcontinuous subproblem status SLOW_PROGRESS is not handled\n",
      "\u001b[33m\u001b[1m└ \u001b[22m\u001b[39m\u001b[90m@ Pajarito ~/.julia/packages/Pajarito/gSNvz/src/algorithms.jl:396\u001b[39m\n",
      "\u001b[33m\u001b[1m┌ \u001b[22m\u001b[39m\u001b[33m\u001b[1mWarning: \u001b[22m\u001b[39minteger variable solution is not integral to tolerance tol_feas\n",
      "\u001b[33m\u001b[1m└ \u001b[22m\u001b[39m\u001b[90m@ Pajarito ~/.julia/packages/Pajarito/gSNvz/src/algorithms.jl:441\u001b[39m\n",
      "\u001b[33m\u001b[1m┌ \u001b[22m\u001b[39m\u001b[33m\u001b[1mWarning: \u001b[22m\u001b[39mcontinuous subproblem status SLOW_PROGRESS is not handled\n",
      "\u001b[33m\u001b[1m└ \u001b[22m\u001b[39m\u001b[90m@ Pajarito ~/.julia/packages/Pajarito/gSNvz/src/algorithms.jl:396\u001b[39m\n",
      "\u001b[33m\u001b[1m┌ \u001b[22m\u001b[39m\u001b[33m\u001b[1mWarning: \u001b[22m\u001b[39minteger variable solution is not integral to tolerance tol_feas\n",
      "\u001b[33m\u001b[1m└ \u001b[22m\u001b[39m\u001b[90m@ Pajarito ~/.julia/packages/Pajarito/gSNvz/src/algorithms.jl:441\u001b[39m\n",
      "\u001b[33m\u001b[1m┌ \u001b[22m\u001b[39m\u001b[33m\u001b[1mWarning: \u001b[22m\u001b[39mcontinuous subproblem status SLOW_PROGRESS is not handled\n",
      "\u001b[33m\u001b[1m└ \u001b[22m\u001b[39m\u001b[90m@ Pajarito ~/.julia/packages/Pajarito/gSNvz/src/algorithms.jl:396\u001b[39m\n",
      "\u001b[33m\u001b[1m┌ \u001b[22m\u001b[39m\u001b[33m\u001b[1mWarning: \u001b[22m\u001b[39mcontinuous subproblem status SLOW_PROGRESS is not handled\n",
      "\u001b[33m\u001b[1m└ \u001b[22m\u001b[39m\u001b[90m@ Pajarito ~/.julia/packages/Pajarito/gSNvz/src/algorithms.jl:396\u001b[39m\n"
     ]
    },
    {
     "name": "stdout",
     "output_type": "stream",
     "text": [
      "continuous subproblem status is SLOW_PROGRESS\n",
      "norm of dual is 1.0912589597822809e11\n",
      "cached subproblem cuts could not be added\n",
      "continuous subproblem status is SLOW_PROGRESS\n",
      "norm of dual is 2.2014916333303555e11\n",
      "cached subproblem cuts could not be added\n",
      "cached subproblem cuts could not be added\n",
      "continuous subproblem status is SLOW_PROGRESS\n",
      "cached subproblem cuts could not be added\n",
      "cached subproblem cuts could not be added\n"
     ]
    },
    {
     "name": "stderr",
     "output_type": "stream",
     "text": [
      "\u001b[33m\u001b[1m┌ \u001b[22m\u001b[39m\u001b[33m\u001b[1mWarning: \u001b[22m\u001b[39mcontinuous subproblem status SLOW_PROGRESS is not handled\n",
      "\u001b[33m\u001b[1m└ \u001b[22m\u001b[39m\u001b[90m@ Pajarito ~/.julia/packages/Pajarito/gSNvz/src/algorithms.jl:396\u001b[39m\n",
      "\u001b[33m\u001b[1m┌ \u001b[22m\u001b[39m\u001b[33m\u001b[1mWarning: \u001b[22m\u001b[39mcontinuous subproblem status SLOW_PROGRESS is not handled\n",
      "\u001b[33m\u001b[1m└ \u001b[22m\u001b[39m\u001b[90m@ Pajarito ~/.julia/packages/Pajarito/gSNvz/src/algorithms.jl:396\u001b[39m\n",
      "\u001b[33m\u001b[1m┌ \u001b[22m\u001b[39m\u001b[33m\u001b[1mWarning: \u001b[22m\u001b[39mcontinuous subproblem status SLOW_PROGRESS is not handled\n",
      "\u001b[33m\u001b[1m└ \u001b[22m\u001b[39m\u001b[90m@ Pajarito ~/.julia/packages/Pajarito/gSNvz/src/algorithms.jl:396\u001b[39m\n"
     ]
    },
    {
     "name": "stdout",
     "output_type": "stream",
     "text": [
      "continuous subproblem status is SLOW_PROGRESS\n",
      "norm of dual is 2.94018695621969e11\n",
      "continuous subproblem status is SLOW_PROGRESS\n",
      "norm of dual is 1.4179314202902806e14\n",
      "continuous subproblem status is SLOW_PROGRESS\n",
      "norm of dual is 1.5823276109264084e12\n",
      "continuous subproblem status is SLOW_PROGRESS\n",
      "norm of dual is 2.0667388058312897e11\n"
     ]
    },
    {
     "name": "stderr",
     "output_type": "stream",
     "text": [
      "\u001b[33m\u001b[1m┌ \u001b[22m\u001b[39m\u001b[33m\u001b[1mWarning: \u001b[22m\u001b[39mcontinuous subproblem status SLOW_PROGRESS is not handled\n",
      "\u001b[33m\u001b[1m└ \u001b[22m\u001b[39m\u001b[90m@ Pajarito ~/.julia/packages/Pajarito/gSNvz/src/algorithms.jl:396\u001b[39m\n",
      "\u001b[33m\u001b[1m┌ \u001b[22m\u001b[39m\u001b[33m\u001b[1mWarning: \u001b[22m\u001b[39mcontinuous subproblem status SLOW_PROGRESS is not handled\n",
      "\u001b[33m\u001b[1m└ \u001b[22m\u001b[39m\u001b[90m@ Pajarito ~/.julia/packages/Pajarito/gSNvz/src/algorithms.jl:396\u001b[39m\n",
      "\u001b[33m\u001b[1m┌ \u001b[22m\u001b[39m\u001b[33m\u001b[1mWarning: \u001b[22m\u001b[39mcontinuous subproblem status SLOW_PROGRESS is not handled\n",
      "\u001b[33m\u001b[1m└ \u001b[22m\u001b[39m\u001b[90m@ Pajarito ~/.julia/packages/Pajarito/gSNvz/src/algorithms.jl:396\u001b[39m\n",
      "\u001b[33m\u001b[1m┌ \u001b[22m\u001b[39m\u001b[33m\u001b[1mWarning: \u001b[22m\u001b[39mcontinuous subproblem status SLOW_PROGRESS is not handled\n",
      "\u001b[33m\u001b[1m└ \u001b[22m\u001b[39m\u001b[90m@ Pajarito ~/.julia/packages/Pajarito/gSNvz/src/algorithms.jl:396\u001b[39m\n"
     ]
    },
    {
     "name": "stdout",
     "output_type": "stream",
     "text": [
      "continuous subproblem status is SLOW_PROGRESS\n",
      "norm of dual is 2.881255489694645e11\n",
      "continuous subproblem status is SLOW_PROGRESS\n",
      "norm of dual is 7.255506271778524e11\n",
      "continuous subproblem status is SLOW_PROGRESS\n",
      "norm of dual is 2.116908900279598e11\n",
      "continuous subproblem status is OPTIMAL\n",
      "heuristic cb status was: HEURISTIC_SOLUTION_ACCEPTED\n",
      "continuous subproblem status is OPTIMAL\n",
      "continuous subproblem status is OPTIMAL\n"
     ]
    },
    {
     "name": "stderr",
     "output_type": "stream",
     "text": [
      "\u001b[33m\u001b[1m┌ \u001b[22m\u001b[39m\u001b[33m\u001b[1mWarning: \u001b[22m\u001b[39mcontinuous subproblem status SLOW_PROGRESS is not handled\n",
      "\u001b[33m\u001b[1m└ \u001b[22m\u001b[39m\u001b[90m@ Pajarito ~/.julia/packages/Pajarito/gSNvz/src/algorithms.jl:396\u001b[39m\n",
      "\u001b[33m\u001b[1m┌ \u001b[22m\u001b[39m\u001b[33m\u001b[1mWarning: \u001b[22m\u001b[39mcontinuous subproblem status SLOW_PROGRESS is not handled\n",
      "\u001b[33m\u001b[1m└ \u001b[22m\u001b[39m\u001b[90m@ Pajarito ~/.julia/packages/Pajarito/gSNvz/src/algorithms.jl:396\u001b[39m\n",
      "\u001b[33m\u001b[1m┌ \u001b[22m\u001b[39m\u001b[33m\u001b[1mWarning: \u001b[22m\u001b[39mcontinuous subproblem status SLOW_PROGRESS is not handled\n",
      "\u001b[33m\u001b[1m└ \u001b[22m\u001b[39m\u001b[90m@ Pajarito ~/.julia/packages/Pajarito/gSNvz/src/algorithms.jl:396\u001b[39m\n",
      "\u001b[33m\u001b[1m┌ \u001b[22m\u001b[39m\u001b[33m\u001b[1mWarning: \u001b[22m\u001b[39minteger variable solution is not integral to tolerance tol_feas\n",
      "\u001b[33m\u001b[1m└ \u001b[22m\u001b[39m\u001b[90m@ Pajarito ~/.julia/packages/Pajarito/gSNvz/src/algorithms.jl:441\u001b[39m\n"
     ]
    },
    {
     "name": "stdout",
     "output_type": "stream",
     "text": [
      "continuous subproblem status is OPTIMAL\n",
      "heuristic cb status was: HEURISTIC_SOLUTION_ACCEPTED\n",
      "continuous subproblem status is OPTIMAL\n",
      "continuous subproblem status is SLOW_PROGRESS\n",
      "norm of dual is 2.7862784541454254e11\n",
      "continuous subproblem status is OPTIMAL\n",
      "heuristic cb status was: HEURISTIC_SOLUTION_ACCEPTED\n",
      "continuous subproblem status is OPTIMAL\n",
      "continuous subproblem status is SLOW_PROGRESS\n",
      "norm of dual is 7.346892253678202e13\n",
      "continuous subproblem status is OPTIMAL\n"
     ]
    },
    {
     "name": "stderr",
     "output_type": "stream",
     "text": [
      "\u001b[33m\u001b[1m┌ \u001b[22m\u001b[39m\u001b[33m\u001b[1mWarning: \u001b[22m\u001b[39mcontinuous subproblem status SLOW_PROGRESS is not handled\n",
      "\u001b[33m\u001b[1m└ \u001b[22m\u001b[39m\u001b[90m@ Pajarito ~/.julia/packages/Pajarito/gSNvz/src/algorithms.jl:396\u001b[39m\n",
      "\u001b[33m\u001b[1m┌ \u001b[22m\u001b[39m\u001b[33m\u001b[1mWarning: \u001b[22m\u001b[39minteger variable solution is not integral to tolerance tol_feas\n",
      "\u001b[33m\u001b[1m└ \u001b[22m\u001b[39m\u001b[90m@ Pajarito ~/.julia/packages/Pajarito/gSNvz/src/algorithms.jl:441\u001b[39m\n",
      "\u001b[33m\u001b[1m┌ \u001b[22m\u001b[39m\u001b[33m\u001b[1mWarning: \u001b[22m\u001b[39mcontinuous subproblem status SLOW_PROGRESS is not handled\n",
      "\u001b[33m\u001b[1m└ \u001b[22m\u001b[39m\u001b[90m@ Pajarito ~/.julia/packages/Pajarito/gSNvz/src/algorithms.jl:396\u001b[39m\n"
     ]
    },
    {
     "name": "stdout",
     "output_type": "stream",
     "text": [
      "continuous subproblem status is SLOW_PROGRESS\n",
      "norm of dual is 1.6014056568764755e11\n",
      "continuous subproblem status is OPTIMAL\n",
      "heuristic cb status was: HEURISTIC_SOLUTION_ACCEPTED\n",
      "continuous subproblem status is OPTIMAL\n",
      "continuous subproblem status is SLOW_PROGRESS\n",
      "norm of dual is 4.551000590251171e12\n",
      "continuous subproblem status is OPTIMAL\n",
      "continuous subproblem status is OPTIMAL\n",
      "continuous subproblem status is OPTIMAL\n",
      "continuous subproblem status is OPTIMAL\n"
     ]
    },
    {
     "name": "stderr",
     "output_type": "stream",
     "text": [
      "\u001b[33m\u001b[1m┌ \u001b[22m\u001b[39m\u001b[33m\u001b[1mWarning: \u001b[22m\u001b[39mcontinuous subproblem status SLOW_PROGRESS is not handled\n",
      "\u001b[33m\u001b[1m└ \u001b[22m\u001b[39m\u001b[90m@ Pajarito ~/.julia/packages/Pajarito/gSNvz/src/algorithms.jl:396\u001b[39m\n",
      "\u001b[33m\u001b[1m┌ \u001b[22m\u001b[39m\u001b[33m\u001b[1mWarning: \u001b[22m\u001b[39mcontinuous subproblem status SLOW_PROGRESS is not handled\n",
      "\u001b[33m\u001b[1m└ \u001b[22m\u001b[39m\u001b[90m@ Pajarito ~/.julia/packages/Pajarito/gSNvz/src/algorithms.jl:396\u001b[39m\n"
     ]
    },
    {
     "name": "stdout",
     "output_type": "stream",
     "text": [
      "continuous subproblem status is SLOW_PROGRESS\n",
      "norm of dual is 4.033694675746758e13\n",
      "continuous subproblem status is OPTIMAL\n",
      "continuous subproblem status is OPTIMAL\n",
      "continuous subproblem status is OPTIMAL\n",
      "continuous subproblem status is OPTIMAL\n",
      "continuous subproblem status is OPTIMAL\n",
      "continuous subproblem status is OPTIMAL\n"
     ]
    },
    {
     "name": "stderr",
     "output_type": "stream",
     "text": [
      "\u001b[33m\u001b[1m┌ \u001b[22m\u001b[39m\u001b[33m\u001b[1mWarning: \u001b[22m\u001b[39mcontinuous subproblem status SLOW_PROGRESS is not handled\n",
      "\u001b[33m\u001b[1m└ \u001b[22m\u001b[39m\u001b[90m@ Pajarito ~/.julia/packages/Pajarito/gSNvz/src/algorithms.jl:396\u001b[39m\n"
     ]
    },
    {
     "name": "stdout",
     "output_type": "stream",
     "text": [
      "continuous subproblem status is SLOW_PROGRESS\n",
      "norm of dual is 7.095768878791023e13\n",
      "continuous subproblem status is OPTIMAL\n",
      "continuous subproblem status is OPTIMAL\n",
      "continuous subproblem status is OPTIMAL\n",
      "continuous subproblem status is OPTIMAL\n",
      "heuristic cb status was: HEURISTIC_SOLUTION_ACCEPTED\n",
      "continuous subproblem status is OPTIMAL\n",
      "heuristic cb status was: HEURISTIC_SOLUTION_ACCEPTED\n",
      "cached subproblem cuts could not be added\n",
      "separation cuts could not be added\n",
      "continuous subproblem status is OPTIMAL\n"
     ]
    },
    {
     "name": "stderr",
     "output_type": "stream",
     "text": [
      "\u001b[33m\u001b[1m┌ \u001b[22m\u001b[39m\u001b[33m\u001b[1mWarning: \u001b[22m\u001b[39mcontinuous subproblem status SLOW_PROGRESS is not handled\n",
      "\u001b[33m\u001b[1m└ \u001b[22m\u001b[39m\u001b[90m@ Pajarito ~/.julia/packages/Pajarito/gSNvz/src/algorithms.jl:396\u001b[39m\n"
     ]
    },
    {
     "name": "stdout",
     "output_type": "stream",
     "text": [
      "continuous subproblem status is OPTIMAL\n",
      "heuristic cb status was: HEURISTIC_SOLUTION_ACCEPTED\n",
      "continuous subproblem status is OPTIMAL\n",
      "heuristic cb status was: HEURISTIC_SOLUTION_ACCEPTED\n",
      "continuous subproblem status is OPTIMAL\n",
      "continuous subproblem status is OPTIMAL\n",
      "continuous subproblem status is OPTIMAL\n",
      "continuous subproblem status is OPTIMAL\n",
      "continuous subproblem status is OPTIMAL\n",
      "continuous subproblem status is OPTIMAL\n",
      "continuous subproblem status is OPTIMAL\n",
      "continuous subproblem status is OPTIMAL\n",
      "continuous subproblem status is OPTIMAL\n",
      "heuristic cb status was: HEURISTIC_SOLUTION_ACCEPTED\n",
      "continuous subproblem status is OPTIMAL\n",
      "continuous subproblem status is OPTIMAL\n",
      "continuous subproblem status is OPTIMAL\n",
      "continuous subproblem status is OPTIMAL\n",
      "continuous subproblem status is OPTIMAL\n",
      "continuous subproblem status is OPTIMAL\n",
      "heuristic cb status was: HEURISTIC_SOLUTION_ACCEPTED\n",
      "continuous subproblem status is OPTIMAL\n",
      "continuous subproblem status is OPTIMAL\n",
      "continuous subproblem status is OPTIMAL\n",
      "continuous subproblem status is OPTIMAL\n",
      "continuous subproblem status is OPTIMAL\n",
      "continuous subproblem status is OPTIMAL\n",
      "continuous subproblem status is OPTIMAL\n",
      "continuous subproblem status is OPTIMAL\n",
      "continuous subproblem status is OPTIMAL\n",
      "continuous subproblem status is OPTIMAL\n",
      "continuous subproblem status is OPTIMAL\n",
      "heuristic cb status was: HEURISTIC_SOLUTION_ACCEPTED\n",
      "continuous subproblem status is OPTIMAL\n",
      "continuous subproblem status is OPTIMAL\n",
      "continuous subproblem status is OPTIMAL\n",
      "continuous subproblem status is OPTIMAL\n",
      "continuous subproblem status is OPTIMAL\n",
      "continuous subproblem status is OPTIMAL\n",
      "continuous subproblem status is OPTIMAL\n",
      "continuous subproblem status is OPTIMAL\n",
      "continuous subproblem status is OPTIMAL\n",
      "continuous subproblem status is OPTIMAL\n",
      "continuous subproblem status is OPTIMAL\n",
      "continuous subproblem status is OPTIMAL\n",
      "continuous subproblem status is OPTIMAL\n",
      "continuous subproblem status is OPTIMAL\n",
      "continuous subproblem status is OPTIMAL\n",
      "continuous subproblem status is OPTIMAL\n",
      "continuous subproblem status is OPTIMAL\n",
      "continuous subproblem status is OPTIMAL\n",
      "continuous subproblem status is OPTIMAL\n",
      "continuous subproblem status is OPTIMAL\n",
      "continuous subproblem status is OPTIMAL\n",
      "continuous subproblem status is OPTIMAL\n",
      "continuous subproblem status is OPTIMAL\n",
      "continuous subproblem status is OPTIMAL\n",
      "continuous subproblem status is OPTIMAL\n",
      "continuous subproblem status is OPTIMAL\n",
      "continuous subproblem status is OPTIMAL\n",
      "continuous subproblem status is OPTIMAL\n",
      "continuous subproblem status is OPTIMAL\n",
      "continuous subproblem status is OPTIMAL\n",
      "continuous subproblem status is OPTIMAL\n",
      "continuous subproblem status is OPTIMAL\n",
      "continuous subproblem status is OPTIMAL\n",
      "continuous subproblem status is OPTIMAL\n",
      "continuous subproblem status is OPTIMAL\n",
      "continuous subproblem status is OPTIMAL\n",
      "continuous subproblem status is OPTIMAL\n",
      "continuous subproblem status is OPTIMAL\n",
      "continuous subproblem status is OPTIMAL\n",
      "continuous subproblem status is OPTIMAL\n",
      "continuous subproblem status is OPTIMAL\n",
      "continuous subproblem status is OPTIMAL\n",
      "continuous subproblem status is OPTIMAL\n",
      "continuous subproblem status is OPTIMAL\n",
      "continuous subproblem status is OPTIMAL\n",
      "continuous subproblem status is OPTIMAL\n",
      "continuous subproblem status is OPTIMAL\n",
      "continuous subproblem status is OPTIMAL\n",
      "continuous subproblem status is OPTIMAL\n",
      "continuous subproblem status is OPTIMAL\n",
      "continuous subproblem status is OPTIMAL\n",
      "continuous subproblem status is OPTIMAL\n",
      "continuous subproblem status is OPTIMAL\n",
      "heuristic cb status was: HEURISTIC_SOLUTION_ACCEPTED\n",
      "continuous subproblem status is OPTIMAL\n",
      "continuous subproblem status is OPTIMAL\n",
      "continuous subproblem status is OPTIMAL\n",
      "continuous subproblem status is OPTIMAL\n",
      "continuous subproblem status is OPTIMAL\n",
      "continuous subproblem status is OPTIMAL\n",
      "continuous subproblem status is OPTIMAL\n",
      "continuous subproblem status is OPTIMAL\n",
      "continuous subproblem status is OPTIMAL\n",
      "continuous subproblem status is OPTIMAL\n",
      "heuristic cb status was: HEURISTIC_SOLUTION_ACCEPTED\n",
      "cached subproblem cuts could not be added\n",
      "separation cuts could not be added\n",
      "continuous subproblem status is OPTIMAL\n",
      "continuous subproblem status is OPTIMAL\n",
      "continuous subproblem status is OPTIMAL\n",
      "heuristic cb status was: HEURISTIC_SOLUTION_ACCEPTED\n",
      "continuous subproblem status is OPTIMAL\n",
      "heuristic cb status was: HEURISTIC_SOLUTION_ACCEPTED\n",
      "continuous subproblem status is OPTIMAL\n",
      "continuous subproblem status is OPTIMAL\n",
      "continuous subproblem status is OPTIMAL\n",
      "continuous subproblem status is OPTIMAL\n",
      "continuous subproblem status is OPTIMAL\n",
      "heuristic cb status was: HEURISTIC_SOLUTION_ACCEPTED\n",
      "continuous subproblem status is OPTIMAL\n",
      "continuous subproblem status is OPTIMAL\n",
      "continuous subproblem status is OPTIMAL\n",
      "continuous subproblem status is OPTIMAL\n",
      "heuristic cb status was: HEURISTIC_SOLUTION_ACCEPTED\n",
      "continuous subproblem status is OPTIMAL\n",
      "continuous subproblem status is OPTIMAL\n",
      "continuous subproblem status is OPTIMAL\n",
      "continuous subproblem status is OPTIMAL\n",
      "continuous subproblem status is OPTIMAL\n",
      "continuous subproblem status is OPTIMAL\n",
      "continuous subproblem status is OPTIMAL\n",
      "continuous subproblem status is OPTIMAL\n",
      "continuous subproblem status is OPTIMAL\n",
      "continuous subproblem status is OPTIMAL\n",
      "continuous subproblem status is OPTIMAL\n",
      "continuous subproblem status is OPTIMAL\n",
      "continuous subproblem status is OPTIMAL\n",
      "continuous subproblem status is OPTIMAL\n",
      "continuous subproblem status is OPTIMAL\n",
      "continuous subproblem status is OPTIMAL\n",
      "continuous subproblem status is OPTIMAL\n",
      "cached subproblem cuts could not be added\n",
      "cached subproblem cuts could not be added\n",
      "cached subproblem cuts could not be added\n",
      "continuous subproblem status is OPTIMAL\n",
      "continuous subproblem status is OPTIMAL\n",
      "continuous subproblem status is OPTIMAL\n",
      "continuous subproblem status is OPTIMAL\n",
      "continuous subproblem status is OPTIMAL\n",
      "continuous subproblem status is OPTIMAL\n",
      "cached subproblem cuts could not be added\n",
      "cached subproblem cuts could not be added\n",
      "cached subproblem cuts could not be added\n",
      "continuous subproblem status is OPTIMAL\n",
      "continuous subproblem status is OPTIMAL\n",
      "continuous subproblem status is OPTIMAL\n",
      "continuous subproblem status is OPTIMAL\n",
      "heuristic cb status was: HEURISTIC_SOLUTION_ACCEPTED\n",
      "cached subproblem cuts could not be added\n",
      "separation cuts could not be added\n",
      "continuous subproblem status is OPTIMAL\n",
      "continuous subproblem status is OPTIMAL\n",
      "continuous subproblem status is OPTIMAL\n",
      "heuristic cb status was: HEURISTIC_SOLUTION_ACCEPTED\n",
      "continuous subproblem status is OPTIMAL\n",
      "heuristic cb status was: HEURISTIC_SOLUTION_ACCEPTED\n",
      "continuous subproblem status is OPTIMAL\n",
      "continuous subproblem status is OPTIMAL\n",
      "continuous subproblem status is OPTIMAL\n",
      "continuous subproblem status is OPTIMAL\n",
      "continuous subproblem status is OPTIMAL\n",
      "continuous subproblem status is OPTIMAL\n",
      "continuous subproblem status is OPTIMAL\n",
      "continuous subproblem status is OPTIMAL\n",
      "continuous subproblem status is OPTIMAL\n",
      "continuous subproblem status is OPTIMAL\n",
      "continuous subproblem status is OPTIMAL\n",
      "heuristic cb status was: HEURISTIC_SOLUTION_ACCEPTED\n",
      "cached subproblem cuts could not be added\n",
      "separation cuts could not be added\n",
      "continuous subproblem status is OPTIMAL\n",
      "heuristic cb status was: HEURISTIC_SOLUTION_ACCEPTED\n",
      "continuous subproblem status is OPTIMAL\n",
      "continuous subproblem status is OPTIMAL\n",
      "continuous subproblem status is OPTIMAL\n",
      "heuristic cb status was: HEURISTIC_SOLUTION_ACCEPTED\n",
      "continuous subproblem status is OPTIMAL\n",
      "continuous subproblem status is OPTIMAL\n",
      "continuous subproblem status is OPTIMAL\n",
      "continuous subproblem status is OPTIMAL\n",
      "continuous subproblem status is OPTIMAL\n",
      "continuous subproblem status is OPTIMAL\n",
      "continuous subproblem status is OPTIMAL\n",
      "continuous subproblem status is OPTIMAL\n",
      "heuristic cb status was: HEURISTIC_SOLUTION_ACCEPTED\n",
      "cached subproblem cuts could not be added\n",
      "separation cuts could not be added\n",
      "continuous subproblem status is OPTIMAL\n",
      "continuous subproblem status is OPTIMAL\n",
      "continuous subproblem status is OPTIMAL\n",
      "continuous subproblem status is OPTIMAL\n",
      "heuristic cb status was: HEURISTIC_SOLUTION_ACCEPTED\n",
      "continuous subproblem status is OPTIMAL\n",
      "continuous subproblem status is OPTIMAL\n",
      "heuristic cb status was: HEURISTIC_SOLUTION_ACCEPTED\n",
      "continuous subproblem status is OPTIMAL\n",
      "continuous subproblem status is OPTIMAL\n",
      "continuous subproblem status is OPTIMAL\n",
      "continuous subproblem status is OPTIMAL\n",
      "continuous subproblem status is OPTIMAL\n"
     ]
    },
    {
     "name": "stdout",
     "output_type": "stream",
     "text": [
      "continuous subproblem status is OPTIMAL\n",
      "heuristic cb status was: HEURISTIC_SOLUTION_ACCEPTED\n",
      "cached subproblem cuts could not be added\n",
      "separation cuts could not be added\n",
      "continuous subproblem status is OPTIMAL\n",
      "continuous subproblem status is OPTIMAL\n",
      "continuous subproblem status is OPTIMAL\n",
      "continuous subproblem status is OPTIMAL\n",
      "continuous subproblem status is OPTIMAL\n",
      "heuristic cb status was: HEURISTIC_SOLUTION_ACCEPTED\n",
      "continuous subproblem status is OPTIMAL\n",
      "continuous subproblem status is OPTIMAL\n",
      "continuous subproblem status is OPTIMAL\n",
      "continuous subproblem status is OPTIMAL\n",
      "heuristic cb status was: HEURISTIC_SOLUTION_ACCEPTED\n",
      "cached subproblem cuts could not be added\n",
      "separation cuts could not be added\n",
      "continuous subproblem status is OPTIMAL\n",
      "continuous subproblem status is OPTIMAL\n",
      "heuristic cb status was: HEURISTIC_SOLUTION_ACCEPTED\n",
      "continuous subproblem status is OPTIMAL\n",
      "continuous subproblem status is OPTIMAL\n",
      "continuous subproblem status is OPTIMAL\n",
      "continuous subproblem status is OPTIMAL\n",
      "continuous subproblem status is OPTIMAL\n",
      "continuous subproblem status is OPTIMAL\n",
      "continuous subproblem status is OPTIMAL\n",
      "continuous subproblem status is OPTIMAL\n",
      "continuous subproblem status is OPTIMAL\n",
      "continuous subproblem status is OPTIMAL\n",
      "continuous subproblem status is OPTIMAL\n",
      "continuous subproblem status is OPTIMAL\n",
      "heuristic cb status was: HEURISTIC_SOLUTION_ACCEPTED\n",
      "continuous subproblem status is OPTIMAL\n",
      "continuous subproblem status is OPTIMAL\n",
      "continuous subproblem status is OPTIMAL\n",
      "continuous subproblem status is OPTIMAL\n",
      "continuous subproblem status is OPTIMAL\n",
      "continuous subproblem status is OPTIMAL\n",
      "continuous subproblem status is OPTIMAL\n",
      "heuristic cb status was: HEURISTIC_SOLUTION_ACCEPTED\n",
      "continuous subproblem status is OPTIMAL\n",
      "continuous subproblem status is OPTIMAL\n",
      "continuous subproblem status is OPTIMAL\n",
      "continuous subproblem status is OPTIMAL\n",
      "continuous subproblem status is OPTIMAL\n",
      "continuous subproblem status is OPTIMAL\n",
      "continuous subproblem status is OPTIMAL\n",
      "continuous subproblem status is OPTIMAL\n",
      "continuous subproblem status is OPTIMAL\n",
      "heuristic cb status was: HEURISTIC_SOLUTION_ACCEPTED\n",
      "continuous subproblem status is OPTIMAL\n",
      "heuristic cb status was: HEURISTIC_SOLUTION_ACCEPTED\n",
      "cached subproblem cuts could not be added\n",
      "separation cuts could not be added\n",
      "continuous subproblem status is OPTIMAL\n",
      "continuous subproblem status is OPTIMAL\n",
      "continuous subproblem status is OPTIMAL\n",
      "continuous subproblem status is OPTIMAL\n",
      "continuous subproblem status is OPTIMAL\n",
      "continuous subproblem status is OPTIMAL\n",
      "continuous subproblem status is OPTIMAL\n",
      "continuous subproblem status is OPTIMAL\n",
      "continuous subproblem status is OPTIMAL\n",
      "continuous subproblem status is OPTIMAL\n",
      "continuous subproblem status is OPTIMAL\n",
      "continuous subproblem status is OPTIMAL\n",
      "continuous subproblem status is OPTIMAL\n",
      "continuous subproblem status is OPTIMAL\n",
      "continuous subproblem status is OPTIMAL\n",
      "continuous subproblem status is OPTIMAL\n",
      "continuous subproblem status is OPTIMAL\n",
      "continuous subproblem status is OPTIMAL\n",
      "continuous subproblem status is OPTIMAL\n",
      "heuristic cb status was: HEURISTIC_SOLUTION_ACCEPTED\n",
      "cached subproblem cuts could not be added\n",
      "separation cuts could not be added\n",
      "continuous subproblem status is OPTIMAL\n",
      "continuous subproblem status is OPTIMAL\n",
      "continuous subproblem status is OPTIMAL\n",
      "heuristic cb status was: HEURISTIC_SOLUTION_ACCEPTED\n",
      "cached subproblem cuts could not be added\n",
      "separation cuts could not be added\n",
      "continuous subproblem status is OPTIMAL\n",
      "continuous subproblem status is OPTIMAL\n",
      "continuous subproblem status is OPTIMAL\n",
      "continuous subproblem status is OPTIMAL\n",
      "continuous subproblem status is OPTIMAL\n",
      "continuous subproblem status is OPTIMAL\n",
      "continuous subproblem status is OPTIMAL\n",
      "continuous subproblem status is OPTIMAL\n",
      "continuous subproblem status is OPTIMAL\n",
      "continuous subproblem status is OPTIMAL\n",
      "continuous subproblem status is OPTIMAL\n",
      "continuous subproblem status is OPTIMAL\n",
      "continuous subproblem status is OPTIMAL\n",
      "continuous subproblem status is OPTIMAL\n",
      "continuous subproblem status is OPTIMAL\n",
      "continuous subproblem status is OPTIMAL\n",
      "continuous subproblem status is OPTIMAL\n",
      "OA solver finished with status OPTIMAL, after 8.85394287109375 seconds and 1891 cuts\n",
      "one tree method used 17881 lazy callbacks and 17522 heuristic callbacks\n",
      "\n"
     ]
    },
    {
     "data": {
      "text/plain": [
       "(MathOptInterface.OPTIMAL, 38.94574261248154, [20.0; 10.0; … ; 10.0; 8.0;;])"
      ]
     },
     "execution_count": 121,
     "metadata": {},
     "output_type": "execute_result"
    }
   ],
   "source": [
    "solve!(A_problem, misdp_solver)\n",
    "# Check the status, optimal value, and minimizer of the problem\n",
    "A_problem.status, A_problem.optval, N.value"
   ]
  },
  {
   "cell_type": "code",
   "execution_count": 123,
   "metadata": {},
   "outputs": [
    {
     "data": {
      "text/plain": [
       "38.946"
      ]
     },
     "execution_count": 123,
     "metadata": {},
     "output_type": "execute_result"
    }
   ],
   "source": [
    "round(A_problem.optval, digits = 3)"
   ]
  },
  {
   "cell_type": "code",
   "execution_count": 124,
   "metadata": {},
   "outputs": [
    {
     "data": {
      "text/plain": [
       "11-element Vector{Float64}:\n",
       " 20.0\n",
       " 10.0\n",
       " 10.0\n",
       "  9.0\n",
       "  5.0\n",
       "  7.0\n",
       "  9.0\n",
       "  5.0\n",
       "  7.0\n",
       " 10.0\n",
       "  8.0"
      ]
     },
     "execution_count": 124,
     "metadata": {},
     "output_type": "execute_result"
    }
   ],
   "source": [
    "A_opt_n = vec(N.value)"
   ]
  },
  {
   "cell_type": "markdown",
   "metadata": {},
   "source": [
    "### Summary table for Q3"
   ]
  },
  {
   "cell_type": "code",
   "execution_count": 126,
   "metadata": {},
   "outputs": [
    {
     "name": "stdout",
     "output_type": "stream",
     "text": [
      "\u001b[1m11×4 DataFrame\u001b[0m\n",
      "\u001b[1m Row \u001b[0m│\u001b[1m treatment \u001b[0m\u001b[1m D_opt_n \u001b[0m\u001b[1m E_opt_n \u001b[0m\u001b[1m A_opt_n \u001b[0m\n",
      "     │\u001b[90m String    \u001b[0m\u001b[90m Int64   \u001b[0m\u001b[90m Int64   \u001b[0m\u001b[90m Int64   \u001b[0m\n",
      "─────┼──────────────────────────────────────\n",
      "   1 │ A1:B1            8       29       20\n",
      "   2 │ A2:B1            8       15       10\n",
      "   3 │ A3:B1           10       10       10\n",
      "   4 │ A1:B2            8        7        9\n",
      "   5 │ A2:B2            8        2        5\n",
      "   6 │ A3:B2           10        6        7\n",
      "   7 │ A1:B3            8        6        9\n",
      "   8 │ A2:B3            8        6        5\n",
      "   9 │ A3:B3           10        4        7\n",
      "  10 │ A1:B4           11        8       10\n",
      "  11 │ A2:B4           11        7        8\n",
      "The obj for D_opt, E_opt and A_opt are shown below:\n",
      "8.988 13.011 38.946\n"
     ]
    }
   ],
   "source": [
    "df = DataFrame(treatment = treatment, \n",
    "               D_opt_n = Int64.(D_opt_n), E_opt_n = Int64.(E_opt_n), A_opt_n = Int64.(A_opt_n))\n",
    "println(df)\n",
    "println(\"The obj for D_opt, E_opt and A_opt are shown below:\")\n",
    "println(round(-D_problem.optval, digits = 3), \" \", round(1/E_problem.optval, digits = 3), \n",
    "    \" \", round(A_problem.optval, digits = 3))"
   ]
  },
  {
   "cell_type": "markdown",
   "metadata": {},
   "source": [
    "## Q4 (30 bonus points) Optimal design with nuisance parameters\n",
    "\n",
    "Suppose the regression coefficients of linear model $\\boldsymbol{\\beta}$ is partitioned as $\\boldsymbol{\\beta} = (\\boldsymbol{\\beta}_0^T, \\boldsymbol{\\beta}_1^T)^T$, where $\\boldsymbol{\\beta}_0$ are nuisance parameters and $\\boldsymbol{\\beta}_1$ are parameters of primary interest. Given an approximate design $\\mathbf{p} = (p_1, \\ldots, p_m)$, let the information matrix be partitioned accordingly\n",
    "$$\n",
    "\\mathbf{I}(\\mathbf{p}) = \\sum_{i=1}^m p_i \\mathbf{x}_i \\mathbf{x}_i^T =  \\begin{pmatrix}\n",
    "\\mathbf{I}_{00} & \\mathbf{I}_{01} \\\\\n",
    "\\mathbf{I}_{10} & \\mathbf{I}_{11}\n",
    "\\end{pmatrix}.\n",
    "$$\n",
    "Then the information matrix for $\\boldsymbol{\\beta}_1$ adjusted for nuisance parameter $\\boldsymbol{\\beta}_0$ is\n",
    "$$\n",
    "\\mathbf{I}_{1 \\mid 0}(\\mathbf{p}) = \\mathbf{I}_{11} - \\mathbf{I}_{10} \\mathbf{I}_{00}^{-1} \\mathbf{I}_{01}.\n",
    "$$\n",
    "\n",
    "Revisiting the 3x4 factorial design problem in Q1, suppose the drug company only cares about the estimation of A treatment effects. Find the approximate D-, E-, and A-optimal designs."
   ]
  },
  {
   "cell_type": "markdown",
   "metadata": {},
   "source": [
    "### Solution"
   ]
  },
  {
   "cell_type": "markdown",
   "metadata": {},
   "source": [
    "During May 23rd lecture, Dr. Zhou introduced a way for E- and A-opt designs. Consider constructing a matrix as $\\begin{bmatrix}I_{00} & I_{01} & 0_{p_0p_1} \\\\ I_{10} & I_{11} & \\mathbb{I}_{p_1} \\\\ 0_{p_1p_0} & \\mathbb{I}_{p_1} & Y \\end{bmatrix}$, where $Y$ is a $p_1\\times p_1$ matrix, $\\mathbb{I}_{p_1}$ is a $p_1\\times p_1$ identity matrix. Then if we add a positive semi-definite constraint on this matrix, we can derive that $\\begin{bmatrix}I_{11} & \\mathbb{I}_{p_1} \\\\ \\mathbb{I}_{p_1} & Y \\end{bmatrix} - \\begin{bmatrix} I_{10} \\\\ 0\\end{bmatrix}I_{00}^{-1}\\begin{bmatrix}I_{01} & 0\\end{bmatrix}\\geq 0$ from Schur complement. This implies that $\\begin{bmatrix}I_{11} - I_{10}I_{00}^{-1}I_{01} & \\mathbb{I}_{p_1} \\\\ \\mathbb{I}_{p_1} & Y \\end{bmatrix} \\geq 0$. Then similarly by Schur complement, we can further derive that $Y-(I_{11} - I_{10}I_{00}^{-1}I_{01})^{-1} \\geq 0$. Therefore, E-opt is going to minimize $\\lambda_{max}(Y)$ and A-opt is going to minimize $tr(Y)$.\n",
    "\n",
    "For D-opt design, we can prove that $det(Y)\\geq det(I_{11} - I_{10}I_{00}^{-1}I_{01})^{-1}$ always holds. Now as $(I_{11} - I_{10}I_{00}^{-1}I_{01})^{-1} \\geq 0$, if $det(I_{11} - I_{10}I_{00}^{-1}I_{01})^{-1} =0$, then as we have contraint that $Y\\geq 0$, problem solved. Otherwise suppose $det(I_{11} - I_{10}I_{00}^{-1}I_{01})^{-1} > 0$, then we let $A = (I_{11} - I_{10}I_{00}^{-1}I_{01})^{-1}$, and define $Z = A^{-1/2}(Y-A)A^{-1/2}$. We have $Z$ is also PSD as $Y-A$ is PSD from the given constraint. Hence eigenvalues of $Z$ are all non-negative, which means $det(I+Z) \\geq 1$. Therefore, we can derive that $Y = A^{1/2}(I+Z)A^{1/2} \\Rightarrow$ $det(Y) = det(A) det(I+Z)\\geq det(A)$. This conclusion implies that D-opt is going to minimize $logdet(Y)$. However, as logdet function is concave, it is impossible to minimize logdet($Y$) here. Thus we consider to construct a new matrix as $\\begin{bmatrix}I_{00} &I_{01} \\\\ I_{10} & I_{11}-Y \\end{bmatrix}$, then similarly if we add a PSD constraint on that, we can derive that $I_{11}- Y -I_{10}I_{00}^{-1}I_{01} \\geq 0$ $\\Rightarrow$ $I_{11} - I_{10}I_{00}^{-1}I_{01}\\geq Y$. Then from previous proof we can derive that $det(I_{11}- I_{10}I_{00}^{-1}I_{01}) \\geq det(Y)$ $\\Rightarrow$ $det(I_{11}-I_{10}I_{00}^{-1}I_{01})^{-1} \\leq det(Y^{-1})$. Therefore, D-opt is going to minimize $logdet(Y^{-1})$, which is equivalent to maximize $logdet(Y)$. Now as logdet is a concave function, we can solve it."
   ]
  },
  {
   "cell_type": "code",
   "execution_count": 134,
   "metadata": {
    "scrolled": true
   },
   "outputs": [
    {
     "data": {
      "text/plain": [
       "2"
      ]
     },
     "execution_count": 134,
     "metadata": {},
     "output_type": "execute_result"
    }
   ],
   "source": [
    "#Data cleaning\n",
    "I_0 = X[:, [1, 4, 5, 6]]\n",
    "I_1 = X[:, 2:3]\n",
    "I_com = hcat(I_0, I_1)\n",
    "p0 = size(I_0, 2)\n",
    "p1 = size(I_1, 2)"
   ]
  },
  {
   "cell_type": "code",
   "execution_count": 143,
   "metadata": {
    "scrolled": true
   },
   "outputs": [
    {
     "data": {
      "text/plain": [
       "Problem statistics\n",
       "  problem is DCP         : true\n",
       "  number of variables    : 2 (15 scalar elements)\n",
       "  number of constraints  : 4 (80 scalar elements)\n",
       "  number of coefficients : 169\n",
       "  number of atoms        : 13\n",
       "\n",
       "Solution summary\n",
       "  termination status : OPTIMIZE_NOT_CALLED\n",
       "  primal status      : NO_SOLUTION\n",
       "  dual status        : NO_SOLUTION\n",
       "\n",
       "Expression graph\n",
       "  minimize\n",
       "   └─ sum (affine; real)\n",
       "      └─ diag (affine; real)\n",
       "         └─ 2×2 real variable (id: 182…886)\n",
       "  subject to\n",
       "   ├─ == constraint (affine)\n",
       "   │  └─ + (affine; real)\n",
       "   │     ├─ sum (affine; real)\n",
       "   │     │  └─ …\n",
       "   │     └─ [-1;;]\n",
       "   ├─ ≥ constraint (affine)\n",
       "   │  └─ + (affine; real)\n",
       "   │     ├─ 11-element real variable (id: 155…358)\n",
       "   │     └─ Convex.NegateAtom (constant; negative)\n",
       "   │        └─ …\n",
       "   ├─ PSD constraint (convex)\n",
       "   │  └─ vcat (affine; real)\n",
       "   │     ├─ hcat (affine; real)\n",
       "   │     │  ├─ …\n",
       "   │     │  └─ …\n",
       "   │     └─ hcat (affine; real)\n",
       "   │        ├─ …\n",
       "   │        └─ …\n",
       "   ⋮\n"
      ]
     },
     "execution_count": 143,
     "metadata": {},
     "output_type": "execute_result"
    }
   ],
   "source": [
    "#A-opt\n",
    "X = Float64.(X)\n",
    "p = Variable(size(X, 1))\n",
    "Y = Semidefinite(size(I_1, 2))\n",
    "schur_matrix = [(transpose(X) * Diagonal(p) * X) [zeros(p0, p1); I(p1)]; [zeros(p1, p0) I(p1)] Y]\n",
    "A_problem = minimize(tr(Y)) # objective\n",
    "A_problem.constraints += sum(p) == 1; # constraint\n",
    "A_problem.constraints += p >= 0;\n",
    "A_problem.constraints += schur_matrix in :SDP;\n",
    "A_problem"
   ]
  },
  {
   "cell_type": "code",
   "execution_count": 145,
   "metadata": {
    "scrolled": true
   },
   "outputs": [
    {
     "name": "stdout",
     "output_type": "stream",
     "text": [
      "Problem\n",
      "  Name                   :                 \n",
      "  Objective sense        : minimize        \n",
      "  Type                   : CONIC (conic optimization problem)\n",
      "  Constraints            : 14              \n",
      "  Affine conic cons.     : 2 (39 rows)\n",
      "  Disjunctive cons.      : 0               \n",
      "  Cones                  : 0               \n",
      "  Scalar variables       : 15              \n",
      "  Matrix variables       : 0               \n",
      "  Integer variables      : 0               \n",
      "\n",
      "Optimizer started.\n",
      "Presolve started.\n",
      "Linear dependency checker started.\n",
      "Linear dependency checker terminated.\n",
      "Eliminator started.\n",
      "Freed constraints in eliminator : 0\n",
      "Eliminator terminated.\n",
      "Eliminator - tries                  : 1                 time                   : 0.00            \n",
      "Lin. dep.  - tries                  : 1                 time                   : 0.00            \n",
      "Lin. dep.  - primal attempts        : 1                 successes              : 1               \n",
      "Lin. dep.  - dual attempts          : 0                 successes              : 0               \n",
      "Lin. dep.  - primal deps.           : 0                 dual deps.             : 0               \n",
      "Presolve terminated. Time: 0.00    \n",
      "Optimizer  - threads                : 11              \n",
      "Optimizer  - solved problem         : the primal      \n",
      "Optimizer  - Constraints            : 40              \n",
      "Optimizer  - Cones                  : 2               \n",
      "Optimizer  - Scalar variables       : 18                conic                  : 7               \n",
      "Optimizer  - Semi-definite variables: 1                 scalarized             : 36              \n",
      "Factor     - setup time             : 0.00            \n",
      "Factor     - dense det. time        : 0.00              GP order time          : 0.00            \n",
      "Factor     - nonzeros before factor : 698               after factor           : 698             \n",
      "Factor     - dense dim.             : 0                 flops                  : 2.19e+04        \n",
      "ITE PFEAS    DFEAS    GFEAS    PRSTATUS   POBJ              DOBJ              MU       TIME  \n",
      "0   1.4e+00  1.0e+00  1.0e+00  0.00e+00   0.000000000e+00   0.000000000e+00   1.0e+00  0.00  \n",
      "1   3.7e-01  2.6e-01  2.1e-01  2.91e-01   1.193242965e+00   1.467742298e+00   2.6e-01  0.00  \n",
      "2   1.5e-01  1.0e-01  9.2e-02  2.35e-02   3.224386912e+00   3.726530915e+00   1.0e-01  0.00  \n",
      "3   4.8e-02  3.4e-02  1.9e-02  4.92e-01   5.851988228e+00   6.047241631e+00   3.4e-02  0.00  \n",
      "4   2.3e-02  1.6e-02  9.5e-03  3.46e-01   7.580973650e+00   7.833129149e+00   1.6e-02  0.00  \n",
      "5   6.1e-03  4.3e-03  1.4e-03  7.56e-01   1.003090063e+01   1.010456898e+01   4.3e-03  0.00  \n",
      "6   2.2e-03  1.5e-03  3.7e-04  6.47e-01   1.098388173e+01   1.103238281e+01   1.5e-03  0.00  \n",
      "7   3.1e-04  2.2e-04  2.1e-05  9.50e-01   1.155506504e+01   1.156250715e+01   2.2e-04  0.00  \n",
      "8   3.8e-05  2.7e-05  9.1e-07  9.64e-01   1.164429246e+01   1.164528192e+01   2.7e-05  0.00  \n",
      "9   5.6e-07  4.0e-07  1.7e-09  9.93e-01   1.165666879e+01   1.165668387e+01   4.0e-07  0.00  \n",
      "10  2.4e-08  1.7e-08  1.5e-11  1.00e+00   1.165684627e+01   1.165684691e+01   1.7e-08  0.00  \n",
      "11  2.5e-09  2.8e-09  4.9e-13  1.00e+00   1.165685344e+01   1.165685350e+01   1.7e-09  0.00  \n",
      "Optimizer terminated. Time: 0.00    \n",
      "\n"
     ]
    },
    {
     "name": "stderr",
     "output_type": "stream",
     "text": [
      "\u001b[36m\u001b[1m[ \u001b[22m\u001b[39m\u001b[36m\u001b[1mInfo: \u001b[22m\u001b[39m[Convex.jl] Compilation finished: 0.0 seconds, 238.609 KiB of memory allocated\n"
     ]
    },
    {
     "data": {
      "text/plain": [
       "(MathOptInterface.OPTIMAL, 11.656853437386626, [0.209, 0.206, 0.0, 0.0, 0.0, 0.0, 0.147, 0.145, 0.0, 0.147, 0.145])"
      ]
     },
     "execution_count": 145,
     "metadata": {},
     "output_type": "execute_result"
    }
   ],
   "source": [
    "solver = MOI.OptimizerWithAttributes(Mosek.Optimizer, \"LOG\" => 1)\n",
    "\n",
    "solve!(A_problem, solver)\n",
    "A_opt = vec(round.(p.value, digits = 3))\n",
    "A_problem.status, A_problem.optval, A_opt"
   ]
  },
  {
   "cell_type": "code",
   "execution_count": 146,
   "metadata": {},
   "outputs": [
    {
     "data": {
      "text/plain": [
       "11.657"
      ]
     },
     "execution_count": 146,
     "metadata": {},
     "output_type": "execute_result"
    }
   ],
   "source": [
    "round(A_problem.optval, digits = 3)"
   ]
  },
  {
   "cell_type": "code",
   "execution_count": 142,
   "metadata": {
    "scrolled": true
   },
   "outputs": [
    {
     "data": {
      "text/plain": [
       "11-element Vector{Float64}:\n",
       " 21.0\n",
       " 21.0\n",
       "  0.0\n",
       "  0.0\n",
       "  0.0\n",
       "  0.0\n",
       " 15.0\n",
       " 15.0\n",
       "  0.0\n",
       " 15.0\n",
       " 15.0"
      ]
     },
     "execution_count": 142,
     "metadata": {},
     "output_type": "execute_result"
    }
   ],
   "source": [
    "A_opt_n = vec(round.(p.value * 100))"
   ]
  },
  {
   "cell_type": "code",
   "execution_count": 150,
   "metadata": {
    "scrolled": true
   },
   "outputs": [
    {
     "data": {
      "text/plain": [
       "Problem statistics\n",
       "  problem is DCP         : true\n",
       "  number of variables    : 2 (15 scalar elements)\n",
       "  number of constraints  : 4 (80 scalar elements)\n",
       "  number of coefficients : 169\n",
       "  number of atoms        : 12\n",
       "\n",
       "Solution summary\n",
       "  termination status : OPTIMIZE_NOT_CALLED\n",
       "  primal status      : NO_SOLUTION\n",
       "  dual status        : NO_SOLUTION\n",
       "\n",
       "Expression graph\n",
       "  minimize\n",
       "   └─ eigmax (convex; real)\n",
       "      └─ 2×2 real variable (id: 189…184)\n",
       "  subject to\n",
       "   ├─ == constraint (affine)\n",
       "   │  └─ + (affine; real)\n",
       "   │     ├─ sum (affine; real)\n",
       "   │     │  └─ …\n",
       "   │     └─ [-1;;]\n",
       "   ├─ ≥ constraint (affine)\n",
       "   │  └─ + (affine; real)\n",
       "   │     ├─ 11-element real variable (id: 147…063)\n",
       "   │     └─ Convex.NegateAtom (constant; negative)\n",
       "   │        └─ …\n",
       "   ├─ PSD constraint (convex)\n",
       "   │  └─ vcat (affine; real)\n",
       "   │     ├─ hcat (affine; real)\n",
       "   │     │  ├─ …\n",
       "   │     │  └─ …\n",
       "   │     └─ hcat (affine; real)\n",
       "   │        ├─ …\n",
       "   │        └─ …\n",
       "   ⋮\n"
      ]
     },
     "execution_count": 150,
     "metadata": {},
     "output_type": "execute_result"
    }
   ],
   "source": [
    "#E-opt\n",
    "X = Float64.(X)\n",
    "p = Variable(size(X, 1))\n",
    "Y = Semidefinite(size(I_1, 2))\n",
    "schur_matrix = [(transpose(X) * Diagonal(p) * X) [zeros(p0, p1); I(p1)]; [zeros(p1, p0) I(p1)] Y]\n",
    "E_problem = minimize(eigmax(Y)) # objective\n",
    "E_problem.constraints += sum(p) == 1; # constraint\n",
    "E_problem.constraints += p >= 0;\n",
    "E_problem.constraints += schur_matrix in :SDP;\n",
    "E_problem"
   ]
  },
  {
   "cell_type": "code",
   "execution_count": 151,
   "metadata": {
    "scrolled": true
   },
   "outputs": [
    {
     "name": "stdout",
     "output_type": "stream",
     "text": [
      "Problem\n",
      "  Name                   :                 \n",
      "  Objective sense        : minimize        \n",
      "  Type                   : CONIC (conic optimization problem)\n",
      "  Constraints            : 15              \n",
      "  Affine conic cons.     : 3 (42 rows)\n",
      "  Disjunctive cons.      : 0               \n",
      "  Cones                  : 0               \n",
      "  Scalar variables       : 16              \n",
      "  Matrix variables       : 0               \n",
      "  Integer variables      : 0               \n",
      "\n",
      "Optimizer started.\n",
      "Presolve started.\n",
      "Linear dependency checker started.\n",
      "Linear dependency checker terminated.\n",
      "Eliminator started.\n",
      "Freed constraints in eliminator : 0\n",
      "Eliminator terminated.\n",
      "Eliminator - tries                  : 1                 time                   : 0.00            \n",
      "Lin. dep.  - tries                  : 1                 time                   : 0.00            \n",
      "Lin. dep.  - primal attempts        : 1                 successes              : 1               \n",
      "Lin. dep.  - dual attempts          : 0                 successes              : 0               \n",
      "Lin. dep.  - primal deps.           : 0                 dual deps.             : 0               \n",
      "Presolve terminated. Time: 0.00    \n",
      "Optimizer  - threads                : 11              \n",
      "Optimizer  - solved problem         : the primal      \n",
      "Optimizer  - Constraints            : 43              \n",
      "Optimizer  - Cones                  : 3               \n",
      "Optimizer  - Scalar variables       : 22                conic                  : 11              \n",
      "Optimizer  - Semi-definite variables: 1                 scalarized             : 36              \n",
      "Factor     - setup time             : 0.00            \n",
      "Factor     - dense det. time        : 0.00              GP order time          : 0.00            \n",
      "Factor     - nonzeros before factor : 722               after factor           : 722             \n",
      "Factor     - dense dim.             : 0                 flops                  : 2.23e+04        \n",
      "ITE PFEAS    DFEAS    GFEAS    PRSTATUS   POBJ              DOBJ              MU       TIME  \n",
      "0   1.4e+00  1.0e+00  1.0e+00  0.00e+00   0.000000000e+00   0.000000000e+00   1.0e+00  0.00  \n",
      "1   4.0e-01  2.8e-01  2.4e-01  2.32e-01   8.984172502e-01   1.183765638e+00   2.8e-01  0.00  \n",
      "2   1.2e-01  8.5e-02  6.2e-02  2.66e-01   2.377947140e+00   2.705206992e+00   8.5e-02  0.00  \n",
      "3   4.7e-02  3.3e-02  1.8e-02  5.08e-01   3.885683959e+00   4.071445360e+00   3.3e-02  0.00  \n",
      "4   2.8e-02  2.0e-02  1.1e-02  2.89e-01   4.709942639e+00   4.941178541e+00   2.0e-02  0.00  \n",
      "5   7.7e-03  5.4e-03  1.5e-03  6.93e-01   6.603392892e+00   6.655236927e+00   5.4e-03  0.00  \n",
      "6   2.9e-03  2.1e-03  4.7e-04  6.12e-01   7.339536800e+00   7.379865725e+00   2.1e-03  0.00  \n",
      "7   3.1e-04  2.2e-04  1.7e-05  9.56e-01   7.915056804e+00   7.919628275e+00   2.2e-04  0.00  \n",
      "8   3.6e-05  2.5e-05  6.8e-07  9.70e-01   7.989369410e+00   7.989938257e+00   2.5e-05  0.00  \n",
      "9   2.3e-06  1.6e-06  1.1e-08  9.90e-01   7.999295560e+00   7.999333492e+00   1.6e-06  0.00  \n",
      "10  2.5e-08  1.8e-08  1.3e-11  9.99e-01   7.999992431e+00   7.999992844e+00   1.8e-08  0.00  \n",
      "11  2.6e-09  5.4e-09  4.3e-13  1.00e+00   7.999999240e+00   7.999999283e+00   1.9e-09  0.00  \n",
      "Optimizer terminated. Time: 0.00    \n",
      "\n"
     ]
    },
    {
     "name": "stderr",
     "output_type": "stream",
     "text": [
      "\u001b[36m\u001b[1m[ \u001b[22m\u001b[39m\u001b[36m\u001b[1mInfo: \u001b[22m\u001b[39m[Convex.jl] Compilation finished: 0.01 seconds, 247.281 KiB of memory allocated\n"
     ]
    },
    {
     "data": {
      "text/plain": [
       "(MathOptInterface.OPTIMAL, 7.999999240048968, [0.203, 0.195, 0.102, 0.0, 0.0, 0.0, 0.076, 0.072, 0.102, 0.127, 0.123])"
      ]
     },
     "execution_count": 151,
     "metadata": {},
     "output_type": "execute_result"
    }
   ],
   "source": [
    "solver = MOI.OptimizerWithAttributes(Mosek.Optimizer, \"LOG\" => 1)\n",
    "\n",
    "solve!(E_problem, solver)\n",
    "E_opt = vec(round.(p.value, digits = 3))\n",
    "E_problem.status, E_problem.optval, E_opt"
   ]
  },
  {
   "cell_type": "code",
   "execution_count": 152,
   "metadata": {},
   "outputs": [
    {
     "data": {
      "text/plain": [
       "8.0"
      ]
     },
     "execution_count": 152,
     "metadata": {},
     "output_type": "execute_result"
    }
   ],
   "source": [
    "round(E_problem.optval, digits = 3)"
   ]
  },
  {
   "cell_type": "code",
   "execution_count": 153,
   "metadata": {},
   "outputs": [
    {
     "data": {
      "text/plain": [
       "11-element Vector{Float64}:\n",
       " 20.0\n",
       " 20.0\n",
       " 10.0\n",
       "  0.0\n",
       "  0.0\n",
       "  0.0\n",
       "  8.0\n",
       "  7.0\n",
       " 10.0\n",
       " 13.0\n",
       " 12.0"
      ]
     },
     "execution_count": 153,
     "metadata": {},
     "output_type": "execute_result"
    }
   ],
   "source": [
    "E_opt_n = vec(round.(p.value * 100))"
   ]
  },
  {
   "cell_type": "code",
   "execution_count": 154,
   "metadata": {
    "scrolled": true
   },
   "outputs": [
    {
     "data": {
      "text/plain": [
       "Problem statistics\n",
       "  problem is DCP         : true\n",
       "  number of variables    : 2 (15 scalar elements)\n",
       "  number of constraints  : 4 (52 scalar elements)\n",
       "  number of coefficients : 177\n",
       "  number of atoms        : 14\n",
       "\n",
       "Solution summary\n",
       "  termination status : OPTIMIZE_NOT_CALLED\n",
       "  primal status      : NO_SOLUTION\n",
       "  dual status        : NO_SOLUTION\n",
       "\n",
       "Expression graph\n",
       "  maximize\n",
       "   └─ logdet (concave; real)\n",
       "      └─ 2×2 real variable (id: 348…555)\n",
       "  subject to\n",
       "   ├─ == constraint (affine)\n",
       "   │  └─ + (affine; real)\n",
       "   │     ├─ sum (affine; real)\n",
       "   │     │  └─ …\n",
       "   │     └─ [-1;;]\n",
       "   ├─ ≥ constraint (affine)\n",
       "   │  └─ + (affine; real)\n",
       "   │     ├─ 11-element real variable (id: 607…275)\n",
       "   │     └─ Convex.NegateAtom (constant; negative)\n",
       "   │        └─ …\n",
       "   ├─ PSD constraint (convex)\n",
       "   │  └─ + (affine; real)\n",
       "   │     ├─ * (affine; real)\n",
       "   │     │  ├─ …\n",
       "   │     │  └─ …\n",
       "   │     └─ Convex.NegateAtom (affine; real)\n",
       "   │        └─ …\n",
       "   ⋮\n"
      ]
     },
     "execution_count": 154,
     "metadata": {},
     "output_type": "execute_result"
    }
   ],
   "source": [
    "#Data cleaning\n",
    "X = Float64.(X)\n",
    "I_0 = X[:, [1, 4, 5, 6]]\n",
    "I_1 = X[:, 2:3]\n",
    "I_com = hcat(I_0, I_1)\n",
    "p0 = size(I_0, 2)\n",
    "p1 = size(I_1, 2)\n",
    "#D-opt\n",
    "p = Variable(size(X, 1))\n",
    "Y = Semidefinite(size(I_1, 2))\n",
    "schur_matrix = (transpose(X) * Diagonal(p) * X) - [zeros(p0, p0+p1); zeros(p1, p0) Y]\n",
    "D_problem = maximize(logdet(Y)) # objective\n",
    "D_problem.constraints += sum(p) == 1; # constraint\n",
    "D_problem.constraints += p >= 0;\n",
    "D_problem.constraints += schur_matrix in :SDP;\n",
    "D_problem"
   ]
  },
  {
   "cell_type": "code",
   "execution_count": 155,
   "metadata": {
    "scrolled": true
   },
   "outputs": [
    {
     "name": "stdout",
     "output_type": "stream",
     "text": [
      "Problem\n",
      "  Name                   :                 \n",
      "  Objective sense        : maximize        \n",
      "  Type                   : CONIC (conic optimization problem)\n",
      "  Constraints            : 16              \n",
      "  Affine conic cons.     : 5 (40 rows)\n",
      "  Disjunctive cons.      : 0               \n",
      "  Cones                  : 0               \n",
      "  Scalar variables       : 21              \n",
      "  Matrix variables       : 0               \n",
      "  Integer variables      : 0               \n",
      "\n",
      "Optimizer started.\n",
      "Presolve started.\n",
      "Linear dependency checker started.\n",
      "Linear dependency checker terminated.\n",
      "Eliminator started.\n",
      "Freed constraints in eliminator : 0\n",
      "Eliminator terminated.\n",
      "Eliminator - tries                  : 1                 time                   : 0.00            \n",
      "Lin. dep.  - tries                  : 1                 time                   : 0.00            \n",
      "Lin. dep.  - primal attempts        : 1                 successes              : 1               \n",
      "Lin. dep.  - dual attempts          : 0                 successes              : 0               \n",
      "Lin. dep.  - primal deps.           : 0                 dual deps.             : 0               \n",
      "Presolve terminated. Time: 0.00    \n",
      "Optimizer  - threads                : 11              \n",
      "Optimizer  - solved problem         : the primal      \n",
      "Optimizer  - Constraints            : 35              \n",
      "Optimizer  - Cones                  : 4               \n",
      "Optimizer  - Scalar variables       : 25                conic                  : 14              \n",
      "Optimizer  - Semi-definite variables: 2                 scalarized             : 31              \n",
      "Factor     - setup time             : 0.00            \n",
      "Factor     - dense det. time        : 0.00              GP order time          : 0.00            \n",
      "Factor     - nonzeros before factor : 342               after factor           : 347             \n",
      "Factor     - dense dim.             : 0                 flops                  : 7.20e+03        \n",
      "ITE PFEAS    DFEAS    GFEAS    PRSTATUS   POBJ              DOBJ              MU       TIME  \n",
      "0   1.0e+00  1.3e+00  4.3e+00  0.00e+00   -1.655676798e+00  1.610204003e+00   1.0e+00  0.00  \n",
      "1   2.4e-01  3.0e-01  5.5e-01  6.05e-01   -5.354533044e-01  3.386512542e-01   2.4e-01  0.00  \n",
      "2   9.5e-02  1.2e-01  1.6e-01  8.08e-01   -1.485880008e+00  -1.110036570e+00  9.5e-02  0.00  \n",
      "3   4.0e-02  5.1e-02  6.0e-02  5.29e-01   -2.098309880e+00  -1.913046886e+00  4.0e-02  0.00  \n",
      "4   9.0e-03  1.2e-02  6.4e-03  9.68e-01   -2.932536743e+00  -2.889357063e+00  9.0e-03  0.00  \n",
      "5   1.2e-03  1.6e-03  4.3e-04  7.63e-01   -3.226435752e+00  -3.221527333e+00  1.2e-03  0.00  \n",
      "6   1.5e-04  1.9e-04  1.8e-05  9.78e-01   -3.288062817e+00  -3.287458817e+00  1.5e-04  0.00  \n",
      "7   5.5e-06  7.2e-06  1.3e-07  1.00e+00   -3.295547890e+00  -3.295524793e+00  5.5e-06  0.00  \n",
      "8   3.7e-07  4.8e-07  2.2e-09  1.00e+00   -3.295817190e+00  -3.295815631e+00  3.7e-07  0.00  \n",
      "9   4.7e-08  6.0e-08  9.7e-11  1.00e+00   -3.295834403e+00  -3.295834205e+00  4.7e-08  0.01  \n",
      "10  6.8e-09  8.8e-09  5.4e-12  1.00e+00   -3.295836504e+00  -3.295836475e+00  6.8e-09  0.01  \n",
      "Optimizer terminated. Time: 0.01    \n",
      "\n"
     ]
    },
    {
     "name": "stderr",
     "output_type": "stream",
     "text": [
      "\u001b[36m\u001b[1m[ \u001b[22m\u001b[39m\u001b[36m\u001b[1mInfo: \u001b[22m\u001b[39m[Convex.jl] Compilation finished: 0.03 seconds, 1.798 MiB of memory allocated\n"
     ]
    },
    {
     "data": {
      "text/plain": [
       "(MathOptInterface.OPTIMAL, -3.295836503848661, [0.172, 0.162, 0.0, 0.0, 0.0, 0.0, 0.171, 0.162, 0.0, 0.171, 0.162])"
      ]
     },
     "execution_count": 155,
     "metadata": {},
     "output_type": "execute_result"
    }
   ],
   "source": [
    "solver = MOI.OptimizerWithAttributes(Mosek.Optimizer, \"LOG\" => 1)\n",
    "\n",
    "solve!(D_problem, solver)\n",
    "D_opt = vec(round.(p.value, digits = 3))\n",
    "D_problem.status, D_problem.optval, D_opt"
   ]
  },
  {
   "cell_type": "code",
   "execution_count": 156,
   "metadata": {},
   "outputs": [
    {
     "data": {
      "text/plain": [
       "-3.296"
      ]
     },
     "execution_count": 156,
     "metadata": {},
     "output_type": "execute_result"
    }
   ],
   "source": [
    "round(D_problem.optval, digits = 3)"
   ]
  },
  {
   "cell_type": "code",
   "execution_count": 157,
   "metadata": {
    "scrolled": true
   },
   "outputs": [
    {
     "data": {
      "text/plain": [
       "11-element Vector{Float64}:\n",
       " 17.0\n",
       " 16.0\n",
       "  0.0\n",
       "  0.0\n",
       "  0.0\n",
       "  0.0\n",
       " 17.0\n",
       " 16.0\n",
       "  0.0\n",
       " 17.0\n",
       " 16.0"
      ]
     },
     "execution_count": 157,
     "metadata": {},
     "output_type": "execute_result"
    }
   ],
   "source": [
    "D_opt_n = vec(round.(p.value * 100))"
   ]
  }
 ],
 "metadata": {
  "@webio": {
   "lastCommId": null,
   "lastKernelId": null
  },
  "jupytext": {
   "formats": "ipynb,qmd"
  },
  "kernelspec": {
   "display_name": "Julia 1.10.2",
   "language": "julia",
   "name": "julia-1.10"
  },
  "language_info": {
   "file_extension": ".jl",
   "mimetype": "application/julia",
   "name": "julia",
   "version": "1.10.2"
  },
  "toc": {
   "colors": {
    "hover_highlight": "#DAA520",
    "running_highlight": "#FF0000",
    "selected_highlight": "#FFD700"
   },
   "moveMenuLeft": true,
   "nav_menu": {
    "height": "87px",
    "width": "252px"
   },
   "navigate_menu": true,
   "number_sections": false,
   "sideBar": true,
   "skip_h1_title": true,
   "threshold": 4,
   "toc_cell": false,
   "toc_section_display": "block",
   "toc_window_display": true,
   "widenNotebook": false
  }
 },
 "nbformat": 4,
 "nbformat_minor": 4
}
