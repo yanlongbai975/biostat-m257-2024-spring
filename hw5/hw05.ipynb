{
 "cells": [
  {
   "cell_type": "raw",
   "metadata": {},
   "source": [
    "---\n",
    "title: Biostat/Biomath M257 Homework 5\n",
    "subtitle: 'Due May 24 @ 11:59PM'\n",
    "author: Yanlong Bai, 605667857\n",
    "date: today\n",
    "format:\n",
    "  html:\n",
    "    theme: cosmo\n",
    "    embed-resources: true\n",
    "    number-sections: true\n",
    "    toc: true\n",
    "    toc-depth: 4\n",
    "    toc-location: left\n",
    "---"
   ]
  },
  {
   "cell_type": "markdown",
   "metadata": {},
   "source": [
    "System information (for reproducibility):"
   ]
  },
  {
   "cell_type": "code",
   "execution_count": 2,
   "metadata": {
    "tags": []
   },
   "outputs": [
    {
     "name": "stdout",
     "output_type": "stream",
     "text": [
      "Julia Version 1.10.2\n",
      "Commit bd47eca2c8a (2024-03-01 10:14 UTC)\n",
      "Build Info:\n",
      "  Official https://julialang.org/ release\n",
      "Platform Info:\n",
      "  OS: macOS (x86_64-apple-darwin22.4.0)\n",
      "  CPU: 11 × Apple M3 Pro\n",
      "  WORD_SIZE: 64\n",
      "  LIBM: libopenlibm\n",
      "  LLVM: libLLVM-15.0.7 (ORCJIT, westmere)\n",
      "Threads: 1 default, 0 interactive, 1 GC (on 11 virtual cores)\n"
     ]
    }
   ],
   "source": [
    "versioninfo()"
   ]
  },
  {
   "cell_type": "markdown",
   "metadata": {},
   "source": [
    "Load packages:"
   ]
  },
  {
   "cell_type": "code",
   "execution_count": 3,
   "metadata": {
    "tags": []
   },
   "outputs": [
    {
     "name": "stderr",
     "output_type": "stream",
     "text": [
      "\u001b[32m\u001b[1m  Activating\u001b[22m\u001b[39m project at `~/Documents/GitHub/biostat-m257-2024-spring/hw5`\n",
      "\u001b[32m\u001b[1mPrecompiling\u001b[22m\u001b[39m project...\n",
      "\u001b[33m  ? \u001b[39mConvex\n"
     ]
    },
    {
     "name": "stdout",
     "output_type": "stream",
     "text": [
      "\u001b[32m\u001b[1mStatus\u001b[22m\u001b[39m `~/Documents/GitHub/biostat-m257-2024-spring/hw5/Project.toml`\n",
      "  \u001b[90m[1e616198] \u001b[39mCOSMO v0.8.9\n",
      "  \u001b[90m[61c947e1] \u001b[39mClarabel v0.8.1\n",
      "\u001b[32m⌃\u001b[39m \u001b[90m[f65535da] \u001b[39mConvex v0.15.3\n",
      "  \u001b[90m[a93c6f00] \u001b[39mDataFrames v1.6.1\n",
      "  \u001b[90m[60bf3e95] \u001b[39mGLPK v1.2.1\n",
      "  \u001b[90m[2e9cd046] \u001b[39mGurobi v1.2.3\n",
      "  \u001b[90m[87dc4568] \u001b[39mHiGHS v1.9.0\n",
      "  \u001b[90m[b99e6be6] \u001b[39mHypatia v0.8.1\n",
      "  \u001b[90m[4076af6c] \u001b[39mJuMP v1.22.1\n",
      "  \u001b[90m[67920dd8] \u001b[39mKNITRO v0.14.2\n",
      "  \u001b[90m[b8f27783] \u001b[39mMathOptInterface v1.29.0\n",
      "  \u001b[90m[1ec41992] \u001b[39mMosekTools v0.15.1\n",
      "  \u001b[90m[2f354839] \u001b[39mPajarito v0.8.2\n",
      "  \u001b[90m[08abe8d2] \u001b[39mPrettyTables v2.3.1\n",
      "  \u001b[90m[c946c3f1] \u001b[39mSCS v2.0.0\n",
      "  \u001b[90m[3eaba693] \u001b[39mStatsModels v0.7.3\n",
      "\u001b[36m\u001b[1mInfo\u001b[22m\u001b[39m Packages marked with \u001b[32m⌃\u001b[39m have new versions available and may be upgradable.\n"
     ]
    }
   ],
   "source": [
    "using Pkg\n",
    "\n",
    "Pkg.activate(pwd())\n",
    "Pkg.instantiate()\n",
    "Pkg.status()"
   ]
  },
  {
   "cell_type": "markdown",
   "metadata": {},
   "source": [
    "In this exercise, we practice using disciplined convex programming (SDP in particular) to solve optimal design problems.\n",
    "\n",
    "## Introduction to optimal design\n",
    "\n",
    "Consider a linear model\n",
    "\\begin{eqnarray*}\n",
    "\ty_i = \\mathbf{x}_i^T \\boldsymbol{\\beta} + \\epsilon_i, \\quad i = 1,\\ldots, n,\n",
    "\\end{eqnarray*}\n",
    "where $\\epsilon_i$ are independent Gaussian noises with common variance $\\sigma^2$. It is well known that the least squares estimate $\\hat{\\boldsymbol{\\beta}}$ is unbiased and has covariance $\\sigma^2 (\\sum_{i=1}^n \\mathbf{x}_i \\mathbf{x}_i^T)^{-1}$. \n",
    "\n",
    "In **exact optimal design**, given total number of $n$ allowable experiments, we want to choose among a list of $m$ candidate design points $\\{\\mathbf{x}_1, \\ldots, \\mathbf{x}_m\\}$ such that the covariance matrix is minimized in some sense. In mathematical terms, we want to find an integer vector $\\mathbf{n} = (n_1, \\ldots, n_m)$ such that $n_i \\ge 0$, $\\sum_{i=1}^m n_i = n$, and the matrix $\\mathbf{V} = \\left( \\sum_{i=1}^m n_i \\mathbf{x}_i \\mathbf{x}_i^T \\right)^{-1}$ is \"small\".\n",
    "\n",
    "In **approximate optimal design**,  we want to find a probability vector $\\mathbf{p} = (p_1, \\ldots, p_m)$ such that $p_i \\ge 0$, $\\sum_{i=1}^m p_i = 1$, and the matrix $\\mathbf{V} = \\left( \\sum_{i=1}^m p_i \\mathbf{x}_i \\mathbf{x}_i^T \\right)^{-1}$ is \"small\".\n",
    "\n",
    "Commonly used optimal design criteria include:\n",
    "\n",
    "- In **$D$-optimal design**, we minimize the determinant of $\\mathbf{V}$\n",
    "\\begin{eqnarray*}\n",
    "\t&\\text{minimize}& \\det \\left( \\sum_{i=1}^m p_i \\mathbf{x}_i \\mathbf{x}_i^T \\right)^{-1} \\\\\n",
    "\t&\\text{subject to}& p_i \\ge 0, \\sum_{i=1}^m p_i = 1.\n",
    "\\end{eqnarray*}\n",
    "\n",
    "- In **$E$-optimal design**, we minimize the spectral norm, i.e., the maximum eigenvalue of $\\mathbf{V}$\n",
    "\\begin{eqnarray*}\n",
    "\t&\\text{minimize}& \\lambda_{\\text{max}} \\left( \\sum_{i=1}^m p_i \\mathbf{x}_i \\mathbf{x}_i^T \\right)^{-1} \\\\\n",
    "\t&\\text{subject to}& p_i \\ge 0, \\sum_{i=1}^m p_i = 1.\t\n",
    "\\end{eqnarray*}\n",
    "Statistically we are minimizing the maximum variance of $\\sum_{j=1}^p a_j \\text{var}(\\hat \\beta_j)$ over all vectors $\\mathbf{a}$ with unit norm.\n",
    "\n",
    "- In **$A$-optimal design**, we minimize the trace of $\\mathbf{V}$\n",
    "\\begin{eqnarray*}\n",
    "\t&\\text{minimize}& \\text{tr} \\left( \\sum_{i=1}^m p_i \\mathbf{x}_i \\mathbf{x}_i^T \\right)^{-1} \\\\\n",
    "\t&\\text{subject to}& p_i \\ge 0, \\sum_{i=1}^m p_i = 1.\n",
    "\\end{eqnarray*}\n",
    "Statistically we are minimizing the total variance $\\sum_{j=1}^p \\text{var}(\\hat \\beta_j)$."
   ]
  },
  {
   "cell_type": "markdown",
   "metadata": {},
   "source": [
    "## Q1 (10 pts) 3x4 factorial design\n",
    "\n",
    "A drug company ask you to help design a two factor clinical trial, in which treatment A has three levels (A1, A2, and A3) and treatment B has four levels (B1, B2, B3, and B4). Drug company also tells you that the treatment combination A3:B4 has undesirable side effects so we ignore this design point. \n",
    "\n",
    "Using dummy coding with A1 and B1 as the baseline levels, find the matrix $C$ with each row a unique design point."
   ]
  },
  {
   "cell_type": "markdown",
   "metadata": {},
   "source": [
    "### Solution"
   ]
  },
  {
   "cell_type": "code",
   "execution_count": 6,
   "metadata": {},
   "outputs": [],
   "source": [
    "using DataFrames, MosekTools, MathOptInterface, LinearAlgebra, JuMP, Pajarito, Gurobi, Convex"
   ]
  },
  {
   "cell_type": "code",
   "execution_count": 127,
   "metadata": {},
   "outputs": [
    {
     "data": {
      "text/html": [
       "<div><div style = \"float: left;\"><span>11×7 DataFrame</span></div><div style = \"clear: both;\"></div></div><div class = \"data-frame\" style = \"overflow-x: scroll;\"><table class = \"data-frame\" style = \"margin-bottom: 6px;\"><thead><tr class = \"header\"><th class = \"rowNumber\" style = \"font-weight: bold; text-align: right;\">Row</th><th style = \"text-align: left;\">treatment</th><th style = \"text-align: left;\">intercept</th><th style = \"text-align: left;\">A2</th><th style = \"text-align: left;\">A3</th><th style = \"text-align: left;\">B2</th><th style = \"text-align: left;\">B3</th><th style = \"text-align: left;\">B4</th></tr><tr class = \"subheader headerLastRow\"><th class = \"rowNumber\" style = \"font-weight: bold; text-align: right;\"></th><th title = \"String\" style = \"text-align: left;\">String</th><th title = \"Float64\" style = \"text-align: left;\">Float64</th><th title = \"Int64\" style = \"text-align: left;\">Int64</th><th title = \"Int64\" style = \"text-align: left;\">Int64</th><th title = \"Int64\" style = \"text-align: left;\">Int64</th><th title = \"Int64\" style = \"text-align: left;\">Int64</th><th title = \"Int64\" style = \"text-align: left;\">Int64</th></tr></thead><tbody><tr><td class = \"rowNumber\" style = \"font-weight: bold; text-align: right;\">1</td><td style = \"text-align: left;\">A1:B1</td><td style = \"text-align: right;\">1.0</td><td style = \"text-align: right;\">0</td><td style = \"text-align: right;\">0</td><td style = \"text-align: right;\">0</td><td style = \"text-align: right;\">0</td><td style = \"text-align: right;\">0</td></tr><tr><td class = \"rowNumber\" style = \"font-weight: bold; text-align: right;\">2</td><td style = \"text-align: left;\">A2:B1</td><td style = \"text-align: right;\">1.0</td><td style = \"text-align: right;\">1</td><td style = \"text-align: right;\">0</td><td style = \"text-align: right;\">0</td><td style = \"text-align: right;\">0</td><td style = \"text-align: right;\">0</td></tr><tr><td class = \"rowNumber\" style = \"font-weight: bold; text-align: right;\">3</td><td style = \"text-align: left;\">A3:B1</td><td style = \"text-align: right;\">1.0</td><td style = \"text-align: right;\">0</td><td style = \"text-align: right;\">1</td><td style = \"text-align: right;\">0</td><td style = \"text-align: right;\">0</td><td style = \"text-align: right;\">0</td></tr><tr><td class = \"rowNumber\" style = \"font-weight: bold; text-align: right;\">4</td><td style = \"text-align: left;\">A1:B2</td><td style = \"text-align: right;\">1.0</td><td style = \"text-align: right;\">0</td><td style = \"text-align: right;\">0</td><td style = \"text-align: right;\">1</td><td style = \"text-align: right;\">0</td><td style = \"text-align: right;\">0</td></tr><tr><td class = \"rowNumber\" style = \"font-weight: bold; text-align: right;\">5</td><td style = \"text-align: left;\">A2:B2</td><td style = \"text-align: right;\">1.0</td><td style = \"text-align: right;\">1</td><td style = \"text-align: right;\">0</td><td style = \"text-align: right;\">1</td><td style = \"text-align: right;\">0</td><td style = \"text-align: right;\">0</td></tr><tr><td class = \"rowNumber\" style = \"font-weight: bold; text-align: right;\">6</td><td style = \"text-align: left;\">A3:B2</td><td style = \"text-align: right;\">1.0</td><td style = \"text-align: right;\">0</td><td style = \"text-align: right;\">1</td><td style = \"text-align: right;\">1</td><td style = \"text-align: right;\">0</td><td style = \"text-align: right;\">0</td></tr><tr><td class = \"rowNumber\" style = \"font-weight: bold; text-align: right;\">7</td><td style = \"text-align: left;\">A1:B3</td><td style = \"text-align: right;\">1.0</td><td style = \"text-align: right;\">0</td><td style = \"text-align: right;\">0</td><td style = \"text-align: right;\">0</td><td style = \"text-align: right;\">1</td><td style = \"text-align: right;\">0</td></tr><tr><td class = \"rowNumber\" style = \"font-weight: bold; text-align: right;\">8</td><td style = \"text-align: left;\">A2:B3</td><td style = \"text-align: right;\">1.0</td><td style = \"text-align: right;\">1</td><td style = \"text-align: right;\">0</td><td style = \"text-align: right;\">0</td><td style = \"text-align: right;\">1</td><td style = \"text-align: right;\">0</td></tr><tr><td class = \"rowNumber\" style = \"font-weight: bold; text-align: right;\">9</td><td style = \"text-align: left;\">A3:B3</td><td style = \"text-align: right;\">1.0</td><td style = \"text-align: right;\">0</td><td style = \"text-align: right;\">1</td><td style = \"text-align: right;\">0</td><td style = \"text-align: right;\">1</td><td style = \"text-align: right;\">0</td></tr><tr><td class = \"rowNumber\" style = \"font-weight: bold; text-align: right;\">10</td><td style = \"text-align: left;\">A1:B4</td><td style = \"text-align: right;\">1.0</td><td style = \"text-align: right;\">0</td><td style = \"text-align: right;\">0</td><td style = \"text-align: right;\">0</td><td style = \"text-align: right;\">0</td><td style = \"text-align: right;\">1</td></tr><tr><td class = \"rowNumber\" style = \"font-weight: bold; text-align: right;\">11</td><td style = \"text-align: left;\">A2:B4</td><td style = \"text-align: right;\">1.0</td><td style = \"text-align: right;\">1</td><td style = \"text-align: right;\">0</td><td style = \"text-align: right;\">0</td><td style = \"text-align: right;\">0</td><td style = \"text-align: right;\">1</td></tr></tbody></table></div>"
      ],
      "text/latex": [
       "\\begin{tabular}{r|ccccccc}\n",
       "\t& treatment & intercept & A2 & A3 & B2 & B3 & B4\\\\\n",
       "\t\\hline\n",
       "\t& String & Float64 & Int64 & Int64 & Int64 & Int64 & Int64\\\\\n",
       "\t\\hline\n",
       "\t1 & A1:B1 & 1.0 & 0 & 0 & 0 & 0 & 0 \\\\\n",
       "\t2 & A2:B1 & 1.0 & 1 & 0 & 0 & 0 & 0 \\\\\n",
       "\t3 & A3:B1 & 1.0 & 0 & 1 & 0 & 0 & 0 \\\\\n",
       "\t4 & A1:B2 & 1.0 & 0 & 0 & 1 & 0 & 0 \\\\\n",
       "\t5 & A2:B2 & 1.0 & 1 & 0 & 1 & 0 & 0 \\\\\n",
       "\t6 & A3:B2 & 1.0 & 0 & 1 & 1 & 0 & 0 \\\\\n",
       "\t7 & A1:B3 & 1.0 & 0 & 0 & 0 & 1 & 0 \\\\\n",
       "\t8 & A2:B3 & 1.0 & 1 & 0 & 0 & 1 & 0 \\\\\n",
       "\t9 & A3:B3 & 1.0 & 0 & 1 & 0 & 1 & 0 \\\\\n",
       "\t10 & A1:B4 & 1.0 & 0 & 0 & 0 & 0 & 1 \\\\\n",
       "\t11 & A2:B4 & 1.0 & 1 & 0 & 0 & 0 & 1 \\\\\n",
       "\\end{tabular}\n"
      ],
      "text/plain": [
       "\u001b[1m11×7 DataFrame\u001b[0m\n",
       "\u001b[1m Row \u001b[0m│\u001b[1m treatment \u001b[0m\u001b[1m intercept \u001b[0m\u001b[1m A2    \u001b[0m\u001b[1m A3    \u001b[0m\u001b[1m B2    \u001b[0m\u001b[1m B3    \u001b[0m\u001b[1m B4    \u001b[0m\n",
       "     │\u001b[90m String    \u001b[0m\u001b[90m Float64   \u001b[0m\u001b[90m Int64 \u001b[0m\u001b[90m Int64 \u001b[0m\u001b[90m Int64 \u001b[0m\u001b[90m Int64 \u001b[0m\u001b[90m Int64 \u001b[0m\n",
       "─────┼─────────────────────────────────────────────────────────\n",
       "   1 │ A1:B1            1.0      0      0      0      0      0\n",
       "   2 │ A2:B1            1.0      1      0      0      0      0\n",
       "   3 │ A3:B1            1.0      0      1      0      0      0\n",
       "   4 │ A1:B2            1.0      0      0      1      0      0\n",
       "   5 │ A2:B2            1.0      1      0      1      0      0\n",
       "   6 │ A3:B2            1.0      0      1      1      0      0\n",
       "   7 │ A1:B3            1.0      0      0      0      1      0\n",
       "   8 │ A2:B3            1.0      1      0      0      1      0\n",
       "   9 │ A3:B3            1.0      0      1      0      1      0\n",
       "  10 │ A1:B4            1.0      0      0      0      0      1\n",
       "  11 │ A2:B4            1.0      1      0      0      0      1"
      ]
     },
     "execution_count": 127,
     "metadata": {},
     "output_type": "execute_result"
    }
   ],
   "source": [
    "treatment = [\"A1:B1\", \"A2:B1\", \"A3:B1\", \"A1:B2\", \"A2:B2\", \n",
    "                         \"A3:B2\", \"A1:B3\", \"A2:B3\", \"A3:B3\", \"A1:B4\", \"A2:B4\"]\n",
    "A2 = [0, 1, 0, 0, 1, 0, 0, 1, 0, 0, 1]\n",
    "A3 = [0, 0, 1, 0, 0, 1, 0, 0, 1, 0, 0]\n",
    "B2 = [0, 0, 0, 1, 1, 1, 0, 0, 0, 0, 0]\n",
    "B3 = [0, 0, 0, 0, 0, 0, 1, 1, 1, 0, 0]\n",
    "B4 = [0, 0, 0, 0, 0, 0, 0, 0, 0, 1, 1]\n",
    "\n",
    "df = DataFrame(treatment = treatment, intercept = ones(11),\n",
    "               A2 = A2, A3 = A3, B2 = B2, B3 = B3, B4 = B4)\n",
    "df"
   ]
  },
  {
   "cell_type": "markdown",
   "metadata": {},
   "source": [
    "## Q2 (30 pts) Find approximate optimal designs\n",
    "\n",
    "Using semidefinite programming (SDP) software to find the approximate D-, E-, and A-optimal designs for this clinical trial.\n",
    "\n",
    "Hint: This is what I got (using Hypatia solver), which may or may not be correct.\n",
    "\n",
    "```\n",
    "Approximate Optimal Design\n",
    "┌───────────┬─────────┬─────────┬─────────┬─────────┬─────────┬─────────┐\n",
    "│ design_pt │   D_opt │   E_opt │   A_opt │ D_opt_n │ E_opt_n │ A_opt_n │\n",
    "│    String │ Float64 │ Float64 │ Float64 │ Float64 │ Float64 │ Float64 │\n",
    "├───────────┼─────────┼─────────┼─────────┼─────────┼─────────┼─────────┤\n",
    "│      A1B1 │   0.082 │   0.271 │   0.200 │   8.000 │  27.000 │  20.000 │\n",
    "│      A2B1 │   0.082 │   0.150 │   0.101 │   8.000 │  15.000 │  10.000 │\n",
    "│      A3B1 │   0.097 │   0.118 │   0.104 │  10.000 │  12.000 │  10.000 │\n",
    "│      A1B2 │   0.082 │   0.058 │   0.086 │   8.000 │   6.000 │   9.000 │\n",
    "│      A2B2 │   0.082 │   0.037 │   0.051 │   8.000 │   4.000 │   5.000 │\n",
    "│      A3B2 │   0.097 │   0.059 │   0.068 │  10.000 │   6.000 │   7.000 │\n",
    "│      A1B3 │   0.082 │   0.058 │   0.086 │   8.000 │   6.000 │   9.000 │\n",
    "│      A2B3 │   0.082 │   0.037 │   0.051 │   8.000 │   3.000 │   5.000 │\n",
    "│      A3B3 │   0.097 │   0.059 │   0.068 │  10.000 │   6.000 │   7.000 │\n",
    "│      A1B4 │   0.109 │   0.079 │   0.106 │  11.000 │   8.000 │  10.000 │\n",
    "│      A2B4 │   0.109 │   0.075 │   0.080 │  11.000 │   7.000 │   8.000 │\n",
    "│       Obj │   8.987 │  13.000 │  38.925 │   8.988 │  13.028 │  38.946 │\n",
    "└───────────┴─────────┴─────────┴─────────┴─────────┴─────────┴─────────┘\n",
    "```"
   ]
  },
  {
   "cell_type": "code",
   "execution_count": 177,
   "metadata": {},
   "outputs": [
    {
     "data": {
      "text/plain": [
       "11×6 Matrix{Float64}:\n",
       " 1.0  0.0  0.0  0.0  0.0  0.0\n",
       " 1.0  1.0  0.0  0.0  0.0  0.0\n",
       " 1.0  0.0  1.0  0.0  0.0  0.0\n",
       " 1.0  0.0  0.0  1.0  0.0  0.0\n",
       " 1.0  1.0  0.0  1.0  0.0  0.0\n",
       " 1.0  0.0  1.0  1.0  0.0  0.0\n",
       " 1.0  0.0  0.0  0.0  1.0  0.0\n",
       " 1.0  1.0  0.0  0.0  1.0  0.0\n",
       " 1.0  0.0  1.0  0.0  1.0  0.0\n",
       " 1.0  0.0  0.0  0.0  0.0  1.0\n",
       " 1.0  1.0  0.0  0.0  0.0  1.0"
      ]
     },
     "execution_count": 177,
     "metadata": {},
     "output_type": "execute_result"
    }
   ],
   "source": [
    "X = hcat(ones(11), A2, A3, B2, B3, B4)\n",
    "X"
   ]
  },
  {
   "cell_type": "code",
   "execution_count": 160,
   "metadata": {
    "scrolled": true
   },
   "outputs": [
    {
     "data": {
      "text/plain": [
       "maximize\n",
       "└─ logdet (concave; real)\n",
       "   └─ * (affine; real)\n",
       "      ├─ * (affine; real)\n",
       "      │  ├─ …\n",
       "      │  └─ …\n",
       "      └─ 11×6 Matrix{Float64}\n",
       "subject to\n",
       "├─ == constraint (affine)\n",
       "│  ├─ sum (affine; real)\n",
       "│  │  └─ 11-element real variable (id: 174…097)\n",
       "│  └─ 1\n",
       "└─ >= constraint (affine)\n",
       "   ├─ 11-element real variable (id: 174…097)\n",
       "   └─ 0\n",
       "\n",
       "status: `solve!` not called yet"
      ]
     },
     "execution_count": 160,
     "metadata": {},
     "output_type": "execute_result"
    }
   ],
   "source": [
    "#D-opt\n",
    "p = Variable(size(X, 1))\n",
    "D_problem = maximize(logdet(transpose(X) * Diagonal(p) * X)) # objective\n",
    "D_problem.constraints += sum(p) == 1; # constraint\n",
    "D_problem.constraints += p >= 0;\n",
    "D_problem"
   ]
  },
  {
   "cell_type": "code",
   "execution_count": 161,
   "metadata": {},
   "outputs": [
    {
     "data": {
      "text/plain": [
       "(MathOptInterface.OPTIMAL, -8.986831543894127, [0.082, 0.082, 0.097, 0.082, 0.082, 0.097, 0.082, 0.082, 0.097, 0.109, 0.109])"
      ]
     },
     "execution_count": 161,
     "metadata": {},
     "output_type": "execute_result"
    }
   ],
   "source": [
    "using MosekTools, MathOptInterface\n",
    "const MOI = MathOptInterface\n",
    "\n",
    "solver = Mosek.Optimizer()\n",
    "MOI.set(solver, MOI.RawOptimizerAttribute(\"LOG\"), 0)\n",
    "\n",
    "solve!(D_problem, solver)\n",
    "D_opt = vec(round.(p.value, digits = 3))\n",
    "D_problem.status, D_problem.optval, D_opt"
   ]
  },
  {
   "cell_type": "code",
   "execution_count": 162,
   "metadata": {},
   "outputs": [
    {
     "data": {
      "text/plain": [
       "11-element Vector{Float64}:\n",
       "  8.0\n",
       "  8.0\n",
       " 10.0\n",
       "  8.0\n",
       "  8.0\n",
       " 10.0\n",
       "  8.0\n",
       "  8.0\n",
       " 10.0\n",
       " 11.0\n",
       " 11.0"
      ]
     },
     "execution_count": 162,
     "metadata": {},
     "output_type": "execute_result"
    }
   ],
   "source": [
    "D_opt_n = vec(round.(D_opt .* 100))"
   ]
  },
  {
   "cell_type": "markdown",
   "metadata": {},
   "source": [
    "For E-opt, note that minimize $\\lambda_{max}\\left(\\sum_{i=1}^mp_ix_ix_i^T \\right)^{-1} = $ minimize $1/\\lambda_{min}\\left(\\sum_{i=1}^mp_ix_ix_i^T \\right) = $ maximize $\\lambda_{min}\\left(\\sum_{i=1}^mp_ix_ix_i^T \\right)$"
   ]
  },
  {
   "cell_type": "code",
   "execution_count": 163,
   "metadata": {
    "scrolled": false
   },
   "outputs": [
    {
     "data": {
      "text/plain": [
       "maximize\n",
       "└─ eigmin (concave; real)\n",
       "   └─ * (affine; real)\n",
       "      ├─ * (affine; real)\n",
       "      │  ├─ …\n",
       "      │  └─ …\n",
       "      └─ 11×6 Matrix{Float64}\n",
       "subject to\n",
       "├─ == constraint (affine)\n",
       "│  ├─ sum (affine; real)\n",
       "│  │  └─ 11-element real variable (id: 150…253)\n",
       "│  └─ 1\n",
       "└─ >= constraint (affine)\n",
       "   ├─ 11-element real variable (id: 150…253)\n",
       "   └─ 0\n",
       "\n",
       "status: `solve!` not called yet"
      ]
     },
     "execution_count": 163,
     "metadata": {},
     "output_type": "execute_result"
    }
   ],
   "source": [
    "#E-opt\n",
    "p = Variable(size(X, 1))\n",
    "E_problem = maximize(eigmin((transpose(X) * Diagonal(p) * X))) # objective\n",
    "E_problem.constraints += sum(p) == 1; # constraint\n",
    "E_problem.constraints += p >= 0;\n",
    "E_problem"
   ]
  },
  {
   "cell_type": "code",
   "execution_count": 164,
   "metadata": {},
   "outputs": [
    {
     "data": {
      "text/plain": [
       "(MathOptInterface.OPTIMAL, 0.07692307672536335, [0.271, 0.156, 0.111, 0.057, 0.042, 0.056, 0.057, 0.042, 0.056, 0.081, 0.073])"
      ]
     },
     "execution_count": 164,
     "metadata": {},
     "output_type": "execute_result"
    }
   ],
   "source": [
    "using MosekTools, MathOptInterface\n",
    "const MOI = MathOptInterface\n",
    "\n",
    "solver = Mosek.Optimizer()\n",
    "MOI.set(solver, MOI.RawOptimizerAttribute(\"LOG\"), 0)\n",
    "\n",
    "solve!(E_problem, solver)\n",
    "E_opt = vec(round.(p.value, digits = 3))\n",
    "E_problem.status, E_problem.optval, E_opt"
   ]
  },
  {
   "cell_type": "code",
   "execution_count": 165,
   "metadata": {},
   "outputs": [
    {
     "data": {
      "text/plain": [
       "11-element Vector{Float64}:\n",
       " 27.0\n",
       " 16.0\n",
       " 11.0\n",
       "  6.0\n",
       "  4.0\n",
       "  6.0\n",
       "  6.0\n",
       "  4.0\n",
       "  6.0\n",
       "  8.0\n",
       "  7.0"
      ]
     },
     "execution_count": 165,
     "metadata": {},
     "output_type": "execute_result"
    }
   ],
   "source": [
    "E_opt_n = vec(round.(E_opt .* 100))"
   ]
  },
  {
   "cell_type": "markdown",
   "metadata": {},
   "source": [
    "For A-opt, as we are not able to derive the $tr(V) =$ $tr\\left(\\sum_{i=1}^mp_ix_ix_i^T \\right)^{-1}$ directly, I consider to use Schur's complement instead. Note that the Schur complement for a matrix $\\begin{bmatrix}A & B \\\\ C & D \\end{bmatrix}$ is $A - BD^{-1}C$ with respect to $D$ if $D$ is invertible, and this matrix is positive-semi definite is equivalent to $A$ is PSD and $A - BD^{-1}C$ is also PSD. Hence, I construct a new matrix $M = \\begin{bmatrix}Y & I \\\\ I & V^{-1} \\end{bmatrix}$, where $V^{-1} = \\sum_{i=1}^mp_ix_ix_i^T$. Now if we add a constraint on that as $M$ is PSD, we can derive that $Y - V$ is PSD, which can be used to infer that $tr(Y) \\geq tr(V)$. Therefore, if we can minimize $tr(Y)$, then $tr(V)$ will also be minimized."
   ]
  },
  {
   "cell_type": "code",
   "execution_count": 166,
   "metadata": {},
   "outputs": [
    {
     "data": {
      "text/plain": [
       "minimize\n",
       "└─ sum (affine; real)\n",
       "   └─ diag (affine; real)\n",
       "      └─ 6×6 real variable (id: 181…195)\n",
       "subject to\n",
       "├─ == constraint (affine)\n",
       "│  ├─ sum (affine; real)\n",
       "│  │  └─ 11-element real variable (id: 120…727)\n",
       "│  └─ 1\n",
       "├─ >= constraint (affine)\n",
       "│  ├─ 11-element real variable (id: 120…727)\n",
       "│  └─ 0\n",
       "└─ sdp constraint (affine)\n",
       "   └─ transpose (affine; real)\n",
       "      └─ hcat (affine; real)\n",
       "         ├─ …\n",
       "         └─ …\n",
       "\n",
       "status: `solve!` not called yet"
      ]
     },
     "execution_count": 166,
     "metadata": {},
     "output_type": "execute_result"
    }
   ],
   "source": [
    "#A-opt\n",
    "p = Variable(size(X, 1))\n",
    "Y = Semidefinite(size(X, 2))\n",
    "schur_matrix = [Y I(size(X, 2)); I(size(X, 2)) (transpose(X) * Diagonal(p) * X)]\n",
    "A_problem = minimize(tr(Y)) # objective\n",
    "A_problem.constraints += sum(p) == 1; # constraint\n",
    "A_problem.constraints += p >= 0;\n",
    "A_problem.constraints += schur_matrix in :SDP;\n",
    "A_problem"
   ]
  },
  {
   "cell_type": "code",
   "execution_count": 167,
   "metadata": {},
   "outputs": [
    {
     "data": {
      "text/plain": [
       "(MathOptInterface.OPTIMAL, 38.92481411736323, [0.2, 0.101, 0.104, 0.086, 0.051, 0.068, 0.086, 0.051, 0.068, 0.106, 0.08])"
      ]
     },
     "execution_count": 167,
     "metadata": {},
     "output_type": "execute_result"
    }
   ],
   "source": [
    "using MosekTools, MathOptInterface\n",
    "const MOI = MathOptInterface\n",
    "\n",
    "solver = Mosek.Optimizer()\n",
    "MOI.set(solver, MOI.RawOptimizerAttribute(\"LOG\"), 0)\n",
    "\n",
    "solve!(A_problem, solver)\n",
    "A_opt = vec(round.(p.value, digits = 3))\n",
    "A_problem.status, A_problem.optval, A_opt"
   ]
  },
  {
   "cell_type": "code",
   "execution_count": 168,
   "metadata": {},
   "outputs": [
    {
     "data": {
      "text/plain": [
       "11-element Vector{Float64}:\n",
       " 20.0\n",
       " 10.0\n",
       " 10.0\n",
       "  9.0\n",
       "  5.0\n",
       "  7.0\n",
       "  9.0\n",
       "  5.0\n",
       "  7.0\n",
       " 11.0\n",
       "  8.0"
      ]
     },
     "execution_count": 168,
     "metadata": {},
     "output_type": "execute_result"
    }
   ],
   "source": [
    "A_opt_n = vec(round.(A_opt .* 100))"
   ]
  },
  {
   "cell_type": "markdown",
   "metadata": {},
   "source": [
    "### Summary table for Q2"
   ]
  },
  {
   "cell_type": "code",
   "execution_count": 174,
   "metadata": {},
   "outputs": [
    {
     "name": "stdout",
     "output_type": "stream",
     "text": [
      "\u001b[1m11×7 DataFrame\u001b[0m\n",
      "\u001b[1m Row \u001b[0m│\u001b[1m treatment \u001b[0m\u001b[1m D_opt   \u001b[0m\u001b[1m E_opt   \u001b[0m\u001b[1m A_opt   \u001b[0m\u001b[1m D_opt_n \u001b[0m\u001b[1m E_opt_n \u001b[0m\u001b[1m A_opt_n \u001b[0m\n",
      "     │\u001b[90m String    \u001b[0m\u001b[90m Float64 \u001b[0m\u001b[90m Float64 \u001b[0m\u001b[90m Float64 \u001b[0m\u001b[90m Float64 \u001b[0m\u001b[90m Float64 \u001b[0m\u001b[90m Float64 \u001b[0m\n",
      "─────┼─────────────────────────────────────────────────────────────────\n",
      "   1 │ A1:B1        0.082    0.271    0.2        8.0     27.0     20.0\n",
      "   2 │ A2:B1        0.082    0.156    0.101      8.0     16.0     10.0\n",
      "   3 │ A3:B1        0.097    0.111    0.104     10.0     11.0     10.0\n",
      "   4 │ A1:B2        0.082    0.057    0.086      8.0      6.0      9.0\n",
      "   5 │ A2:B2        0.082    0.042    0.051      8.0      4.0      5.0\n",
      "   6 │ A3:B2        0.097    0.056    0.068     10.0      6.0      7.0\n",
      "   7 │ A1:B3        0.082    0.057    0.086      8.0      6.0      9.0\n",
      "   8 │ A2:B3        0.082    0.042    0.051      8.0      4.0      5.0\n",
      "   9 │ A3:B3        0.097    0.056    0.068     10.0      6.0      7.0\n",
      "  10 │ A1:B4        0.109    0.081    0.106     11.0      8.0     11.0\n",
      "  11 │ A2:B4        0.109    0.073    0.08      11.0      7.0      8.0\n",
      "-8.987 0.077 38.925\n"
     ]
    }
   ],
   "source": [
    "df_q2 = DataFrame(treatment = treatment, \n",
    "               D_opt = D_opt, E_opt = E_opt, A_opt = A_opt,\n",
    "               D_opt_n = D_opt_n, E_opt_n = E_opt_n, A_opt_n = A_opt_n)\n",
    "println(df_q2)\n",
    "println(round(D_problem.optval, digits = 3), \" \", round(E_problem.optval, digits = 3), \n",
    "    \" \", round(A_problem.optval, digits = 3))"
   ]
  },
  {
   "cell_type": "markdown",
   "metadata": {},
   "source": [
    "## Q3 (30 pts) Find exact optimal designs\n",
    "\n",
    "Using mixed-integer semidefinite programming (SDP) software to find the exact D-, E-, and A-optimal designs for this clinical trial **with $n=100$**.\n",
    "\n",
    "Hint: This is what I got using Pajarito with Gurobi as the `oa_solver` and Mosek as the `conic_solver`.\n",
    "\n",
    "```\n",
    "Exact Optimal Design\n",
    "┌───────────┬─────────┬─────────┬─────────┐\n",
    "│ design_pt │   D_opt │   E_opt │   A_opt │\n",
    "│    String │ Float64 │ Float64 │ Float64 │\n",
    "├───────────┼─────────┼─────────┼─────────┤\n",
    "│      A1B1 │   8.000 │  34.000 │  20.000 │\n",
    "│      A2B1 │   8.000 │  10.000 │  10.000 │\n",
    "│      A3B1 │  10.000 │  10.000 │  10.000 │\n",
    "│      A1B2 │   8.000 │   9.000 │   9.000 │\n",
    "│      A2B2 │   8.000 │   0.000 │   5.000 │\n",
    "│      A3B2 │  10.000 │   6.000 │   7.000 │\n",
    "│      A1B3 │   8.000 │   8.000 │   9.000 │\n",
    "│      A2B3 │   8.000 │   4.000 │   5.000 │\n",
    "│      A3B3 │  10.000 │   4.000 │   7.000 │\n",
    "│      A1B4 │  11.000 │   9.000 │  10.000 │\n",
    "│      A2B4 │  11.000 │   6.000 │   8.000 │\n",
    "│       Obj │   8.988 │  13.011 │  38.946 │\n",
    "└───────────┴─────────┴─────────┴─────────┘\n",
    "```"
   ]
  },
  {
   "cell_type": "code",
   "execution_count": 183,
   "metadata": {},
   "outputs": [
    {
     "data": {
      "text/plain": [
       "11×6 Matrix{Int64}:\n",
       " 1  0  0  0  0  0\n",
       " 1  1  0  0  0  0\n",
       " 1  0  1  0  0  0\n",
       " 1  0  0  1  0  0\n",
       " 1  1  0  1  0  0\n",
       " 1  0  1  1  0  0\n",
       " 1  0  0  0  1  0\n",
       " 1  1  0  0  1  0\n",
       " 1  0  1  0  1  0\n",
       " 1  0  0  0  0  1\n",
       " 1  1  0  0  0  1"
      ]
     },
     "execution_count": 183,
     "metadata": {},
     "output_type": "execute_result"
    }
   ],
   "source": [
    "X = Int64.(X)\n",
    "X"
   ]
  },
  {
   "cell_type": "code",
   "execution_count": 190,
   "metadata": {},
   "outputs": [
    {
     "data": {
      "text/plain": [
       "maximize\n",
       "└─ logdet (concave; real)\n",
       "   └─ * (affine; real)\n",
       "      ├─ * (affine; real)\n",
       "      │  ├─ …\n",
       "      │  └─ …\n",
       "      └─ 11×6 Matrix{Int64}\n",
       "subject to\n",
       "├─ == constraint (affine)\n",
       "│  ├─ sum (affine; real)\n",
       "│  │  └─ 11-element real variable (id: 159…800)\n",
       "│  └─ 100\n",
       "└─ >= constraint (affine)\n",
       "   ├─ 11-element real variable (id: 159…800)\n",
       "   └─ 0\n",
       "\n",
       "status: `solve!` not called yet"
      ]
     },
     "execution_count": 190,
     "metadata": {},
     "output_type": "execute_result"
    }
   ],
   "source": [
    "# define problem\n",
    "N = Variable(size(X, 1), :Int)\n",
    "# D-opt\n",
    "D_problem = maximize(logdet(transpose(X) * Diagonal(N) * X))# objective\n",
    "D_problem.constraints += sum(N) == 100; # constraint\n",
    "D_problem.constraints += N >= 0; # constraint\n",
    "D_problem"
   ]
  },
  {
   "cell_type": "code",
   "execution_count": 191,
   "metadata": {},
   "outputs": [
    {
     "name": "stdout",
     "output_type": "stream",
     "text": [
      "Set parameter Username\n",
      "Academic license - for non-commercial use only - expires 2025-05-22\n"
     ]
    },
    {
     "name": "stderr",
     "output_type": "stream",
     "text": [
      "\u001b[33m\u001b[1m┌ \u001b[22m\u001b[39m\u001b[33m\u001b[1mWarning: \u001b[22m\u001b[39mcontinuous subproblem status SLOW_PROGRESS is not handled\n",
      "\u001b[33m\u001b[1m└ \u001b[22m\u001b[39m\u001b[90m@ Pajarito ~/.julia/packages/Pajarito/gSNvz/src/algorithms.jl:396\u001b[39m\n",
      "\u001b[33m\u001b[1m┌ \u001b[22m\u001b[39m\u001b[33m\u001b[1mWarning: \u001b[22m\u001b[39mcontinuous subproblem status SLOW_PROGRESS is not handled\n",
      "\u001b[33m\u001b[1m└ \u001b[22m\u001b[39m\u001b[90m@ Pajarito ~/.julia/packages/Pajarito/gSNvz/src/algorithms.jl:396\u001b[39m\n",
      "\u001b[33m\u001b[1m┌ \u001b[22m\u001b[39m\u001b[33m\u001b[1mWarning: \u001b[22m\u001b[39mcontinuous subproblem status SLOW_PROGRESS is not handled\n",
      "\u001b[33m\u001b[1m└ \u001b[22m\u001b[39m\u001b[90m@ Pajarito ~/.julia/packages/Pajarito/gSNvz/src/algorithms.jl:396\u001b[39m\n",
      "\u001b[33m\u001b[1m┌ \u001b[22m\u001b[39m\u001b[33m\u001b[1mWarning: \u001b[22m\u001b[39mcontinuous subproblem status SLOW_PROGRESS is not handled\n",
      "\u001b[33m\u001b[1m└ \u001b[22m\u001b[39m\u001b[90m@ Pajarito ~/.julia/packages/Pajarito/gSNvz/src/algorithms.jl:396\u001b[39m\n",
      "\u001b[33m\u001b[1m┌ \u001b[22m\u001b[39m\u001b[33m\u001b[1mWarning: \u001b[22m\u001b[39mcontinuous subproblem status SLOW_PROGRESS is not handled\n",
      "\u001b[33m\u001b[1m└ \u001b[22m\u001b[39m\u001b[90m@ Pajarito ~/.julia/packages/Pajarito/gSNvz/src/algorithms.jl:396\u001b[39m\n",
      "\u001b[33m\u001b[1m┌ \u001b[22m\u001b[39m\u001b[33m\u001b[1mWarning: \u001b[22m\u001b[39mcontinuous subproblem status SLOW_PROGRESS is not handled\n",
      "\u001b[33m\u001b[1m└ \u001b[22m\u001b[39m\u001b[90m@ Pajarito ~/.julia/packages/Pajarito/gSNvz/src/algorithms.jl:396\u001b[39m\n"
     ]
    },
    {
     "data": {
      "text/plain": [
       "(MathOptInterface.OPTIMAL, 18.64208131074323, [9.0; 8.0; … ; 11.0; 11.0;;])"
      ]
     },
     "execution_count": 191,
     "metadata": {},
     "output_type": "execute_result"
    }
   ],
   "source": [
    "# define solver\n",
    "misdp_solver = optimizer_with_attributes(\n",
    "        Pajarito.Optimizer,\n",
    "    \"oa_solver\" => optimizer_with_attributes(\n",
    "        Gurobi.Optimizer,\n",
    "        MOI.Silent() => true),\n",
    "    \"conic_solver\" => optimizer_with_attributes(\n",
    "        MosekTools.Optimizer, \n",
    "        MOI.Silent() => true),\n",
    ")\n",
    "set_attribute(misdp_solver, \"time_limit\", 60)\n",
    "MOI.set(misdp_solver, MOI.RawOptimizerAttribute(\"verbose\"), 0)\n",
    "solve!(D_problem, misdp_solver)\n",
    "# Check the status, optimal value, and minimizer of the problem\n",
    "D_problem.status, D_problem.optval, N.value"
   ]
  },
  {
   "cell_type": "code",
   "execution_count": 192,
   "metadata": {},
   "outputs": [
    {
     "data": {
      "text/plain": [
       "11-element Vector{Float64}:\n",
       "  9.0\n",
       "  8.0\n",
       "  9.0\n",
       "  8.0\n",
       "  8.0\n",
       " 10.0\n",
       "  8.0\n",
       "  8.0\n",
       " 10.0\n",
       " 11.0\n",
       " 11.0"
      ]
     },
     "execution_count": 192,
     "metadata": {},
     "output_type": "execute_result"
    }
   ],
   "source": [
    "D_opt_n = vec(N.value)"
   ]
  },
  {
   "cell_type": "code",
   "execution_count": 194,
   "metadata": {},
   "outputs": [
    {
     "data": {
      "text/plain": [
       "maximize\n",
       "└─ eigmin (concave; real)\n",
       "   └─ * (affine; real)\n",
       "      ├─ * (affine; real)\n",
       "      │  ├─ …\n",
       "      │  └─ …\n",
       "      └─ 11×6 Matrix{Int64}\n",
       "subject to\n",
       "├─ == constraint (affine)\n",
       "│  ├─ sum (affine; real)\n",
       "│  │  └─ 11-element real variable (id: 947…723)\n",
       "│  └─ 100\n",
       "└─ >= constraint (affine)\n",
       "   ├─ 11-element real variable (id: 947…723)\n",
       "   └─ 0\n",
       "\n",
       "status: `solve!` not called yet"
      ]
     },
     "execution_count": 194,
     "metadata": {},
     "output_type": "execute_result"
    }
   ],
   "source": [
    "#E-opt\n",
    "N = Variable(size(X, 1), :Int)\n",
    "E_problem = maximize(eigmin((transpose(X) * Diagonal(N) * X))) # objective\n",
    "E_problem.constraints += sum(N) == 100; # constraint\n",
    "E_problem.constraints += N >= 0;\n",
    "E_problem"
   ]
  },
  {
   "cell_type": "code",
   "execution_count": 195,
   "metadata": {},
   "outputs": [
    {
     "name": "stdout",
     "output_type": "stream",
     "text": [
      "Set parameter Username\n",
      "Academic license - for non-commercial use only - expires 2025-05-22\n",
      "new incumbent\n",
      "new incumbent\n",
      "new incumbent\n"
     ]
    },
    {
     "data": {
      "text/plain": [
       "(MathOptInterface.OPTIMAL, 7.685749750491152, [29.0; 15.0; … ; 7.0; 8.0;;])"
      ]
     },
     "execution_count": 195,
     "metadata": {},
     "output_type": "execute_result"
    }
   ],
   "source": [
    "const MOI = MathOptInterface\n",
    "\n",
    "MOI.set(misdp_solver, MOI.RawOptimizerAttribute(\"verbose\"), 0)\n",
    "solve!(E_problem, misdp_solver)\n",
    "# Check the status, optimal value, and minimizer of the problem\n",
    "E_problem.status, E_problem.optval, N.value"
   ]
  },
  {
   "cell_type": "code",
   "execution_count": 196,
   "metadata": {},
   "outputs": [
    {
     "data": {
      "text/plain": [
       "11-element Vector{Float64}:\n",
       " 29.0\n",
       " 15.0\n",
       " 10.0\n",
       "  6.0\n",
       "  6.0\n",
       "  4.0\n",
       "  8.0\n",
       "  1.0\n",
       "  6.0\n",
       "  7.0\n",
       "  8.0"
      ]
     },
     "execution_count": 196,
     "metadata": {},
     "output_type": "execute_result"
    }
   ],
   "source": [
    "E_opt_n = vec(N.value)"
   ]
  },
  {
   "cell_type": "code",
   "execution_count": 212,
   "metadata": {},
   "outputs": [
    {
     "data": {
      "text/plain": [
       "minimize\n",
       "└─ sum (affine; real)\n",
       "   └─ diag (affine; real)\n",
       "      └─ 6×6 real variable (id: 311…845)\n",
       "subject to\n",
       "├─ == constraint (affine)\n",
       "│  ├─ sum (affine; real)\n",
       "│  │  └─ 11-element real variable (id: 171…965)\n",
       "│  └─ 100\n",
       "├─ >= constraint (affine)\n",
       "│  ├─ 11-element real variable (id: 171…965)\n",
       "│  └─ 0\n",
       "└─ sdp constraint (affine)\n",
       "   └─ transpose (affine; real)\n",
       "      └─ hcat (affine; real)\n",
       "         ├─ …\n",
       "         └─ …\n",
       "\n",
       "status: `solve!` not called yet"
      ]
     },
     "execution_count": 212,
     "metadata": {},
     "output_type": "execute_result"
    }
   ],
   "source": [
    "#A-opt\n",
    "N = Variable(size(X, 1), :Int)\n",
    "Y = Semidefinite(size(X, 2))\n",
    "schur_matrix = [Y I(size(X, 2)); I(size(X, 2)) (transpose(X) * Diagonal(N) * X)]\n",
    "A_problem = minimize(tr(Y)) # objective\n",
    "A_problem.constraints += sum(N) == 100; # constraint\n",
    "A_problem.constraints += N >= 0;\n",
    "A_problem.constraints += schur_matrix in :SDP;\n",
    "A_problem"
   ]
  },
  {
   "cell_type": "code",
   "execution_count": 213,
   "metadata": {
    "scrolled": true
   },
   "outputs": [
    {
     "name": "stdout",
     "output_type": "stream",
     "text": [
      "Set parameter Username\n",
      "Academic license - for non-commercial use only - expires 2025-05-22\n"
     ]
    },
    {
     "name": "stderr",
     "output_type": "stream",
     "text": [
      "\u001b[33m\u001b[1m┌ \u001b[22m\u001b[39m\u001b[33m\u001b[1mWarning: \u001b[22m\u001b[39mcontinuous subproblem status SLOW_PROGRESS is not handled\n",
      "\u001b[33m\u001b[1m└ \u001b[22m\u001b[39m\u001b[90m@ Pajarito ~/.julia/packages/Pajarito/gSNvz/src/algorithms.jl:396\u001b[39m\n",
      "\u001b[33m\u001b[1m┌ \u001b[22m\u001b[39m\u001b[33m\u001b[1mWarning: \u001b[22m\u001b[39mcontinuous subproblem status SLOW_PROGRESS is not handled\n",
      "\u001b[33m\u001b[1m└ \u001b[22m\u001b[39m\u001b[90m@ Pajarito ~/.julia/packages/Pajarito/gSNvz/src/algorithms.jl:396\u001b[39m\n"
     ]
    },
    {
     "name": "stdout",
     "output_type": "stream",
     "text": [
      "norm of dual is 1.545274139962598e14\n"
     ]
    },
    {
     "name": "stderr",
     "output_type": "stream",
     "text": [
      "\u001b[33m\u001b[1m┌ \u001b[22m\u001b[39m\u001b[33m\u001b[1mWarning: \u001b[22m\u001b[39mcontinuous subproblem status SLOW_PROGRESS is not handled\n",
      "\u001b[33m\u001b[1m└ \u001b[22m\u001b[39m\u001b[90m@ Pajarito ~/.julia/packages/Pajarito/gSNvz/src/algorithms.jl:396\u001b[39m\n",
      "\u001b[33m\u001b[1m┌ \u001b[22m\u001b[39m\u001b[33m\u001b[1mWarning: \u001b[22m\u001b[39mcontinuous subproblem status SLOW_PROGRESS is not handled\n",
      "\u001b[33m\u001b[1m└ \u001b[22m\u001b[39m\u001b[90m@ Pajarito ~/.julia/packages/Pajarito/gSNvz/src/algorithms.jl:396\u001b[39m\n",
      "\u001b[33m\u001b[1m┌ \u001b[22m\u001b[39m\u001b[33m\u001b[1mWarning: \u001b[22m\u001b[39minteger variable solution is not integral to tolerance tol_feas\n",
      "\u001b[33m\u001b[1m└ \u001b[22m\u001b[39m\u001b[90m@ Pajarito ~/.julia/packages/Pajarito/gSNvz/src/algorithms.jl:441\u001b[39m\n",
      "\u001b[33m\u001b[1m┌ \u001b[22m\u001b[39m\u001b[33m\u001b[1mWarning: \u001b[22m\u001b[39mcontinuous subproblem status SLOW_PROGRESS is not handled\n",
      "\u001b[33m\u001b[1m└ \u001b[22m\u001b[39m\u001b[90m@ Pajarito ~/.julia/packages/Pajarito/gSNvz/src/algorithms.jl:396\u001b[39m\n",
      "\u001b[33m\u001b[1m┌ \u001b[22m\u001b[39m\u001b[33m\u001b[1mWarning: \u001b[22m\u001b[39minteger variable solution is not integral to tolerance tol_feas\n",
      "\u001b[33m\u001b[1m└ \u001b[22m\u001b[39m\u001b[90m@ Pajarito ~/.julia/packages/Pajarito/gSNvz/src/algorithms.jl:441\u001b[39m\n",
      "\u001b[33m\u001b[1m┌ \u001b[22m\u001b[39m\u001b[33m\u001b[1mWarning: \u001b[22m\u001b[39mcontinuous subproblem status SLOW_PROGRESS is not handled\n",
      "\u001b[33m\u001b[1m└ \u001b[22m\u001b[39m\u001b[90m@ Pajarito ~/.julia/packages/Pajarito/gSNvz/src/algorithms.jl:396\u001b[39m\n"
     ]
    },
    {
     "name": "stdout",
     "output_type": "stream",
     "text": [
      "new incumbent\n"
     ]
    },
    {
     "name": "stderr",
     "output_type": "stream",
     "text": [
      "\u001b[33m\u001b[1m┌ \u001b[22m\u001b[39m\u001b[33m\u001b[1mWarning: \u001b[22m\u001b[39mcontinuous subproblem status SLOW_PROGRESS is not handled\n",
      "\u001b[33m\u001b[1m└ \u001b[22m\u001b[39m\u001b[90m@ Pajarito ~/.julia/packages/Pajarito/gSNvz/src/algorithms.jl:396\u001b[39m\n",
      "\u001b[33m\u001b[1m┌ \u001b[22m\u001b[39m\u001b[33m\u001b[1mWarning: \u001b[22m\u001b[39mcontinuous subproblem status SLOW_PROGRESS is not handled\n",
      "\u001b[33m\u001b[1m└ \u001b[22m\u001b[39m\u001b[90m@ Pajarito ~/.julia/packages/Pajarito/gSNvz/src/algorithms.jl:396\u001b[39m\n"
     ]
    },
    {
     "name": "stdout",
     "output_type": "stream",
     "text": [
      "new incumbent\n"
     ]
    },
    {
     "data": {
      "text/plain": [
       "(MathOptInterface.OPTIMAL, 0.38945777084334887, [20.0; 10.0; … ; 10.0; 8.0;;])"
      ]
     },
     "execution_count": 213,
     "metadata": {},
     "output_type": "execute_result"
    }
   ],
   "source": [
    "const MOI = MathOptInterface\n",
    "\n",
    "MOI.set(misdp_solver, MOI.RawOptimizerAttribute(\"verbose\"), 0)\n",
    "solve!(A_problem, misdp_solver)\n",
    "# Check the status, optimal value, and minimizer of the problem\n",
    "A_problem.status, A_problem.optval, N.value"
   ]
  },
  {
   "cell_type": "code",
   "execution_count": 214,
   "metadata": {},
   "outputs": [
    {
     "data": {
      "text/plain": [
       "11-element Vector{Float64}:\n",
       " 20.0\n",
       " 10.0\n",
       " 10.0\n",
       "  9.0\n",
       "  5.0\n",
       "  7.0\n",
       "  9.0\n",
       "  5.0\n",
       "  7.0\n",
       " 10.0\n",
       "  8.0"
      ]
     },
     "execution_count": 214,
     "metadata": {},
     "output_type": "execute_result"
    }
   ],
   "source": [
    "A_opt_n = vec(N.value)"
   ]
  },
  {
   "cell_type": "markdown",
   "metadata": {},
   "source": [
    "### Summary table for Q3"
   ]
  },
  {
   "cell_type": "code",
   "execution_count": 217,
   "metadata": {},
   "outputs": [
    {
     "data": {
      "text/html": [
       "<div><div style = \"float: left;\"><span>11×4 DataFrame</span></div><div style = \"clear: both;\"></div></div><div class = \"data-frame\" style = \"overflow-x: scroll;\"><table class = \"data-frame\" style = \"margin-bottom: 6px;\"><thead><tr class = \"header\"><th class = \"rowNumber\" style = \"font-weight: bold; text-align: right;\">Row</th><th style = \"text-align: left;\">treatment</th><th style = \"text-align: left;\">D_opt_n</th><th style = \"text-align: left;\">E_opt_n</th><th style = \"text-align: left;\">A_opt_n</th></tr><tr class = \"subheader headerLastRow\"><th class = \"rowNumber\" style = \"font-weight: bold; text-align: right;\"></th><th title = \"String\" style = \"text-align: left;\">String</th><th title = \"Int64\" style = \"text-align: left;\">Int64</th><th title = \"Int64\" style = \"text-align: left;\">Int64</th><th title = \"Int64\" style = \"text-align: left;\">Int64</th></tr></thead><tbody><tr><td class = \"rowNumber\" style = \"font-weight: bold; text-align: right;\">1</td><td style = \"text-align: left;\">A1:B1</td><td style = \"text-align: right;\">9</td><td style = \"text-align: right;\">29</td><td style = \"text-align: right;\">20</td></tr><tr><td class = \"rowNumber\" style = \"font-weight: bold; text-align: right;\">2</td><td style = \"text-align: left;\">A2:B1</td><td style = \"text-align: right;\">8</td><td style = \"text-align: right;\">15</td><td style = \"text-align: right;\">10</td></tr><tr><td class = \"rowNumber\" style = \"font-weight: bold; text-align: right;\">3</td><td style = \"text-align: left;\">A3:B1</td><td style = \"text-align: right;\">9</td><td style = \"text-align: right;\">10</td><td style = \"text-align: right;\">10</td></tr><tr><td class = \"rowNumber\" style = \"font-weight: bold; text-align: right;\">4</td><td style = \"text-align: left;\">A1:B2</td><td style = \"text-align: right;\">8</td><td style = \"text-align: right;\">6</td><td style = \"text-align: right;\">9</td></tr><tr><td class = \"rowNumber\" style = \"font-weight: bold; text-align: right;\">5</td><td style = \"text-align: left;\">A2:B2</td><td style = \"text-align: right;\">8</td><td style = \"text-align: right;\">6</td><td style = \"text-align: right;\">5</td></tr><tr><td class = \"rowNumber\" style = \"font-weight: bold; text-align: right;\">6</td><td style = \"text-align: left;\">A3:B2</td><td style = \"text-align: right;\">10</td><td style = \"text-align: right;\">4</td><td style = \"text-align: right;\">7</td></tr><tr><td class = \"rowNumber\" style = \"font-weight: bold; text-align: right;\">7</td><td style = \"text-align: left;\">A1:B3</td><td style = \"text-align: right;\">8</td><td style = \"text-align: right;\">8</td><td style = \"text-align: right;\">9</td></tr><tr><td class = \"rowNumber\" style = \"font-weight: bold; text-align: right;\">8</td><td style = \"text-align: left;\">A2:B3</td><td style = \"text-align: right;\">8</td><td style = \"text-align: right;\">1</td><td style = \"text-align: right;\">5</td></tr><tr><td class = \"rowNumber\" style = \"font-weight: bold; text-align: right;\">9</td><td style = \"text-align: left;\">A3:B3</td><td style = \"text-align: right;\">10</td><td style = \"text-align: right;\">6</td><td style = \"text-align: right;\">7</td></tr><tr><td class = \"rowNumber\" style = \"font-weight: bold; text-align: right;\">10</td><td style = \"text-align: left;\">A1:B4</td><td style = \"text-align: right;\">11</td><td style = \"text-align: right;\">7</td><td style = \"text-align: right;\">10</td></tr><tr><td class = \"rowNumber\" style = \"font-weight: bold; text-align: right;\">11</td><td style = \"text-align: left;\">A2:B4</td><td style = \"text-align: right;\">11</td><td style = \"text-align: right;\">8</td><td style = \"text-align: right;\">8</td></tr></tbody></table></div>"
      ],
      "text/latex": [
       "\\begin{tabular}{r|cccc}\n",
       "\t& treatment & D\\_opt\\_n & E\\_opt\\_n & A\\_opt\\_n\\\\\n",
       "\t\\hline\n",
       "\t& String & Int64 & Int64 & Int64\\\\\n",
       "\t\\hline\n",
       "\t1 & A1:B1 & 9 & 29 & 20 \\\\\n",
       "\t2 & A2:B1 & 8 & 15 & 10 \\\\\n",
       "\t3 & A3:B1 & 9 & 10 & 10 \\\\\n",
       "\t4 & A1:B2 & 8 & 6 & 9 \\\\\n",
       "\t5 & A2:B2 & 8 & 6 & 5 \\\\\n",
       "\t6 & A3:B2 & 10 & 4 & 7 \\\\\n",
       "\t7 & A1:B3 & 8 & 8 & 9 \\\\\n",
       "\t8 & A2:B3 & 8 & 1 & 5 \\\\\n",
       "\t9 & A3:B3 & 10 & 6 & 7 \\\\\n",
       "\t10 & A1:B4 & 11 & 7 & 10 \\\\\n",
       "\t11 & A2:B4 & 11 & 8 & 8 \\\\\n",
       "\\end{tabular}\n"
      ],
      "text/plain": [
       "\u001b[1m11×4 DataFrame\u001b[0m\n",
       "\u001b[1m Row \u001b[0m│\u001b[1m treatment \u001b[0m\u001b[1m D_opt_n \u001b[0m\u001b[1m E_opt_n \u001b[0m\u001b[1m A_opt_n \u001b[0m\n",
       "     │\u001b[90m String    \u001b[0m\u001b[90m Int64   \u001b[0m\u001b[90m Int64   \u001b[0m\u001b[90m Int64   \u001b[0m\n",
       "─────┼──────────────────────────────────────\n",
       "   1 │ A1:B1            9       29       20\n",
       "   2 │ A2:B1            8       15       10\n",
       "   3 │ A3:B1            9       10       10\n",
       "   4 │ A1:B2            8        6        9\n",
       "   5 │ A2:B2            8        6        5\n",
       "   6 │ A3:B2           10        4        7\n",
       "   7 │ A1:B3            8        8        9\n",
       "   8 │ A2:B3            8        1        5\n",
       "   9 │ A3:B3           10        6        7\n",
       "  10 │ A1:B4           11        7       10\n",
       "  11 │ A2:B4           11        8        8"
      ]
     },
     "execution_count": 217,
     "metadata": {},
     "output_type": "execute_result"
    }
   ],
   "source": [
    "df = DataFrame(treatment = treatment, \n",
    "               D_opt_n = Int64.(D_opt_n), E_opt_n = Int64.(E_opt_n), A_opt_n = Int64.(A_opt_n))\n",
    "df"
   ]
  },
  {
   "cell_type": "markdown",
   "metadata": {},
   "source": [
    "## Q4 (30 bonus points) Optimal design with nuisance parameters\n",
    "\n",
    "Suppose the regression coefficients of linear model $\\boldsymbol{\\beta}$ is partitioned as $\\boldsymbol{\\beta} = (\\boldsymbol{\\beta}_0^T, \\boldsymbol{\\beta}_1^T)^T$, where $\\boldsymbol{\\beta}_0$ are nuisance parameters and $\\boldsymbol{\\beta}_1$ are parameters of primary interest. Given an approximate design $\\mathbf{p} = (p_1, \\ldots, p_m)$, let the information matrix be partitioned accordingly\n",
    "$$\n",
    "\\mathbf{I}(\\mathbf{p}) = \\sum_{i=1}^m p_i \\mathbf{x}_i \\mathbf{x}_i^T =  \\begin{pmatrix}\n",
    "\\mathbf{I}_{00} & \\mathbf{I}_{01} \\\\\n",
    "\\mathbf{I}_{10} & \\mathbf{I}_{11}\n",
    "\\end{pmatrix}.\n",
    "$$\n",
    "Then the information matrix for $\\boldsymbol{\\beta}_1$ adjusted for nuisance parameter $\\boldsymbol{\\beta}_0$ is\n",
    "$$\n",
    "\\mathbf{I}_{1 \\mid 0}(\\mathbf{p}) = \\mathbf{I}_{11} - \\mathbf{I}_{10} \\mathbf{I}_{00}^{-1} \\mathbf{I}_{01}.\n",
    "$$\n",
    "\n",
    "Revisiting the 3x4 factorial design problem in Q1, suppose the drug company only cares about the estimation of A treatment effects. Find the approximate D-, E-, and A-optimal designs."
   ]
  },
  {
   "cell_type": "code",
   "execution_count": null,
   "metadata": {},
   "outputs": [],
   "source": []
  }
 ],
 "metadata": {
  "@webio": {
   "lastCommId": null,
   "lastKernelId": null
  },
  "jupytext": {
   "formats": "ipynb,qmd"
  },
  "kernelspec": {
   "display_name": "Julia 1.10.2",
   "language": "julia",
   "name": "julia-1.10"
  },
  "language_info": {
   "file_extension": ".jl",
   "mimetype": "application/julia",
   "name": "julia",
   "version": "1.10.2"
  },
  "toc": {
   "colors": {
    "hover_highlight": "#DAA520",
    "running_highlight": "#FF0000",
    "selected_highlight": "#FFD700"
   },
   "moveMenuLeft": true,
   "nav_menu": {
    "height": "87px",
    "width": "252px"
   },
   "navigate_menu": true,
   "number_sections": false,
   "sideBar": true,
   "skip_h1_title": true,
   "threshold": 4,
   "toc_cell": false,
   "toc_section_display": "block",
   "toc_window_display": true,
   "widenNotebook": false
  }
 },
 "nbformat": 4,
 "nbformat_minor": 4
}
