{
 "cells": [
  {
   "cell_type": "raw",
   "metadata": {
    "vscode": {
     "languageId": "raw"
    }
   },
   "source": [
    "---\n",
    "title: Biostat/Biomath M257 Homework 6\n",
    "subtitle: 'Due June 7 @ 11:59PM'\n",
    "author: Yanlong Bai, 605667857\n",
    "date: today\n",
    "format:\n",
    "  html:\n",
    "    theme: cosmo\n",
    "    embed-resources: true\n",
    "    number-sections: true\n",
    "    toc: true\n",
    "    toc-depth: 4\n",
    "    toc-location: left\n",
    "---"
   ]
  },
  {
   "cell_type": "markdown",
   "metadata": {},
   "source": [
    "System information (for reproducibility):"
   ]
  },
  {
   "cell_type": "code",
   "execution_count": 1,
   "metadata": {
    "scrolled": false,
    "tags": []
   },
   "outputs": [
    {
     "name": "stdout",
     "output_type": "stream",
     "text": [
      "Julia Version 1.10.2\n",
      "Commit bd47eca2c8a (2024-03-01 10:14 UTC)\n",
      "Build Info:\n",
      "  Official https://julialang.org/ release\n",
      "Platform Info:\n",
      "  OS: macOS (x86_64-apple-darwin22.4.0)\n",
      "  CPU: 11 × Apple M3 Pro\n",
      "  WORD_SIZE: 64\n",
      "  LIBM: libopenlibm\n",
      "  LLVM: libLLVM-15.0.7 (ORCJIT, westmere)\n",
      "Threads: 1 default, 0 interactive, 1 GC (on 11 virtual cores)\n"
     ]
    }
   ],
   "source": [
    "versioninfo()"
   ]
  },
  {
   "cell_type": "markdown",
   "metadata": {},
   "source": [
    "Load packages:"
   ]
  },
  {
   "cell_type": "code",
   "execution_count": 48,
   "metadata": {
    "tags": []
   },
   "outputs": [
    {
     "name": "stderr",
     "output_type": "stream",
     "text": [
      "\u001b[32m\u001b[1m  Activating\u001b[22m\u001b[39m project at `~/Documents/GitHub/biostat-m257-2024-spring/hw6`\n"
     ]
    },
    {
     "name": "stdout",
     "output_type": "stream",
     "text": [
      "\u001b[32m\u001b[1mStatus\u001b[22m\u001b[39m `~/Documents/GitHub/biostat-m257-2024-spring/hw6/Project.toml`\n",
      "  \u001b[90m[6e4b80f9] \u001b[39mBenchmarkTools v1.5.0\n",
      "  \u001b[90m[336ed68f] \u001b[39mCSV v0.10.14\n",
      "  \u001b[90m[a93c6f00] \u001b[39mDataFrames v1.6.1\n",
      "  \u001b[90m[8bb1440f] \u001b[39mDelimitedFiles v1.9.1\n",
      "  \u001b[90m[31c24e10] \u001b[39mDistributions v0.25.109\n",
      "  \u001b[90m[b6b21f68] \u001b[39mIpopt v1.6.2\n",
      "  \u001b[90m[67920dd8] \u001b[39mKNITRO v0.14.2\n",
      "  \u001b[90m[b8f27783] \u001b[39mMathOptInterface v1.30.0\n",
      "  \u001b[90m[ff71e718] \u001b[39mMixedModels v4.24.1\n",
      "  \u001b[90m[76087f3c] \u001b[39mNLopt v1.0.2\n",
      "  \u001b[90m[08abe8d2] \u001b[39mPrettyTables v2.3.2\n",
      "  \u001b[90m[6f49c342] \u001b[39mRCall v0.14.1\n",
      "  \u001b[90m[295af30f] \u001b[39mRevise v3.5.14\n",
      "  \u001b[90m[37e2e46d] \u001b[39mLinearAlgebra\n",
      "  \u001b[90m[9a3f8284] \u001b[39mRandom\n"
     ]
    }
   ],
   "source": [
    "using Pkg\n",
    "\n",
    "Pkg.activate(pwd())\n",
    "Pkg.instantiate()\n",
    "Pkg.status()"
   ]
  },
  {
   "cell_type": "markdown",
   "metadata": {},
   "source": [
    "In this assignment, we continue with the linear mixed effects model (LMM) considered in HW3\n",
    "$$\n",
    "    \\mathbf{Y}_i = \\mathbf{X}_i \\boldsymbol{\\beta} + \\mathbf{Z}_i \\boldsymbol{\\gamma} + \\boldsymbol{\\epsilon}_i, \\quad i=1,\\ldots,n,\n",
    "$$\n",
    "where   \n",
    "- $\\mathbf{Y}_i \\in \\mathbb{R}^{n_i}$ is the response vector of $i$-th individual,  \n",
    "- $\\mathbf{X}_i \\in \\mathbb{R}^{n_i \\times p}$ is the fixed effects predictor matrix of $i$-th individual,  \n",
    "- $\\mathbf{Z}_i \\in \\mathbb{R}^{n_i \\times q}$ is the random effects predictor matrix of $i$-th individual,  \n",
    "- $\\boldsymbol{\\epsilon}_i \\in \\mathbb{R}^{n_i}$ are multivariate normal $N(\\mathbf{0}_{n_i},\\sigma^2 \\mathbf{I}_{n_i})$,  \n",
    "- $\\boldsymbol{\\beta} \\in \\mathbb{R}^p$ are fixed effects, and  \n",
    "- $\\boldsymbol{\\gamma} \\in \\mathbb{R}^q$ are random effects assumed to be $N(\\mathbf{0}_q, \\boldsymbol{\\Sigma}_{q \\times q}$) independent of $\\boldsymbol{\\epsilon}_i$.\n",
    "\n",
    "The log-likelihood of the $i$-th datum $(\\mathbf{y}_i, \\mathbf{X}_i, \\mathbf{Z}_i)$ is \n",
    "$$\n",
    "    \\ell_i(\\boldsymbol{\\beta}, \\mathbf{L}, \\sigma_0^2) = - \\frac{n_i}{2} \\log (2\\pi) - \\frac{1}{2} \\log \\det \\boldsymbol{\\Omega}_i - \\frac{1}{2} (\\mathbf{y} - \\mathbf{X}_i \\boldsymbol{\\beta})^T \\boldsymbol{\\Omega}_i^{-1} (\\mathbf{y} - \\mathbf{X}_i \\boldsymbol{\\beta}),\n",
    "$$\n",
    "where\n",
    "$$\n",
    "    \\boldsymbol{\\Omega}_i = \\sigma^2 \\mathbf{I}_{n_i} + \\mathbf{Z}_i \\boldsymbol{\\Sigma} \\mathbf{Z}_i^T = \\sigma^2 \\mathbf{I}_{n_i} + \\mathbf{Z}_i \\mathbf{L} \\mathbf{L}^T \\mathbf{Z}_i^T.\n",
    "$$\n",
    "Because the variance component parameter $\\boldsymbol{\\Sigma}$ has to be positive semidefinite. We prefer to use its Cholesky factor $\\mathbf{L}$ as optimization variable. \n",
    "\n",
    "Given $m$ independent data tuples $(\\mathbf{y}_i, \\mathbf{X}_i, \\mathbf{Z}_i)$, $i=1,\\ldots,m$, we seek the maximum likelihood estimate (MLE) by maximizing the log-likelihood\n",
    "$$\n",
    "\\ell(\\boldsymbol{\\beta}, \\boldsymbol{\\Sigma}, \\sigma^2) = \\sum_{i=1}^m \\ell_i(\\boldsymbol{\\beta}, \\boldsymbol{\\Sigma}, \\sigma^2).\n",
    "$$\n",
    "In this assignment, we use the nonlinear programming (NLP) approach for optimization. In HW7, we will derive an EM (expectation-maximization) algorithm for the same problem. There is also an MM (minorization-maximization) algorithm for the same problem; see [this article](https://doi.org/10.1080/10618600.2018.1529601)."
   ]
  },
  {
   "cell_type": "code",
   "execution_count": 49,
   "metadata": {
    "tags": []
   },
   "outputs": [
    {
     "data": {
      "text/plain": [
       "MathOptInterface"
      ]
     },
     "execution_count": 49,
     "metadata": {},
     "output_type": "execute_result"
    }
   ],
   "source": [
    "# load necessary packages; make sure install them first\n",
    "using BenchmarkTools, CSV, DataFrames, DelimitedFiles, Distributions\n",
    "using Ipopt, LinearAlgebra, MathOptInterface, MixedModels, NLopt\n",
    "using PrettyTables, Random, RCall, Revise\n",
    "\n",
    "const MOI = MathOptInterface"
   ]
  },
  {
   "cell_type": "markdown",
   "metadata": {},
   "source": [
    "## Q1. (Optional, 30 bonus pts) Derivatives\n",
    "\n",
    "NLP optimization solvers expect users to provide at least a function for evaluating objective value. If users can provide further information such as gradient and Hessian, the NLP solvers will be more stable and converge faster. Automatic differentiation tools are becoming more powerful but cannot apply to all problems yet.\n",
    "\n",
    "1. Show that the gradient of $\\ell_i$ is\n",
    "\\begin{eqnarray*}\n",
    "\\nabla_{\\boldsymbol{\\beta}} \\ell_i(\\boldsymbol{\\beta}, \\mathbf{L}, \\sigma^2) &=& \\mathbf{X}_i^T \\boldsymbol{\\Omega}_i^{-1} \\mathbf{r}_i, \\\\\n",
    "\\nabla_{\\sigma^2} \\ell_i(\\boldsymbol{\\beta}, \\mathbf{L}, \\sigma^2) &=& - \\frac{1}{2} \\operatorname{tr} (\\boldsymbol{\\Omega}_i^{-1}) + \\frac{1}{2} \\mathbf{r}_i^T \\boldsymbol{\\Omega}_i^{-2} \\mathbf{r}_i, \\\\\n",
    "\\frac{\\partial}{\\partial \\mathbf{L}} \\ell_i(\\boldsymbol{\\beta}, \\mathbf{L}, \\sigma^2) &=& - \\mathbf{Z}_i^T \\boldsymbol{\\Omega}_i^{-1} \\mathbf{Z}_i \\mathbf{L} + \\mathbf{Z}_i^T \\boldsymbol{\\Omega}_i^{-1} \\mathbf{r}_i \\mathbf{r}_i^T \\boldsymbol{\\Omega}_i^{-1} \\mathbf{Z}_i \\mathbf{L},\n",
    "\\end{eqnarray*}\n",
    "where $\\mathbf{r}_i = \\mathbf{y}_i - \\mathbf{X}_i \\boldsymbol{\\beta}$. \n",
    "\n",
    "2. Derive the observed information matrix and the expected (Fisher) information matrix.\n",
    "\n",
    "If you need a refresher on multivariate calculus, my [Biostat 216 lecture notes](https://ucla-biostat216-2019fall.github.io/slides/16-matrixcalc/16-matrixcalc.html) may be helpful.\n",
    "\n"
   ]
  },
  {
   "cell_type": "markdown",
   "metadata": {},
   "source": [
    "### Solution"
   ]
  },
  {
   "cell_type": "markdown",
   "metadata": {},
   "source": [
    "1. "
   ]
  },
  {
   "cell_type": "markdown",
   "metadata": {},
   "source": [
    "$$\n",
    "\\begin{eqnarray*}\n",
    "\\nabla_{\\boldsymbol{\\beta}} \\ell_i(\\boldsymbol{\\beta}, \\mathbf{L}, \\sigma^2) &=& \\frac{\\partial \\big[-\\frac{1}{2}(\\mathbf{y} - \\mathbf{X}_i \\boldsymbol{\\beta})^T \\boldsymbol{\\Omega}_i^{-1} (\\mathbf{y} - \\mathbf{X}_i \\boldsymbol{\\beta})\\big]}{\\partial \\beta} \n",
    "\\\\\n",
    "&=& -\\frac{1}{2}\\big[\\frac{\\partial (-2\\beta^T \\mathbf{X}_i^T \\boldsymbol{\\Omega}_i^{-1} \\mathbf{y})}{\\partial \\beta} + \\frac{\\partial(\\beta^T \\mathbf{X}_i^T \\boldsymbol{\\Omega}_i^{-1} \\mathbf{X}_i \\boldsymbol{\\beta})}{\\partial \\beta} \\big]\n",
    "\\\\\n",
    "&=& -\\frac{1}{2}\\big[-2 \\mathbf{X}_i^T \\boldsymbol{\\Omega}_i^{-1} \\mathbf{y} + 2\\mathbf{X}_i^T \\boldsymbol{\\Omega}_i^{-1} \\mathbf{X}_i \\boldsymbol{\\beta} \\big]\n",
    "\\\\\n",
    "&=& \\mathbf{X}_i^T \\boldsymbol{\\Omega}_i^{-1} \\mathbf{y}  - \\mathbf{X}_i^T \\boldsymbol{\\Omega}_i^{-1} \\mathbf{X}_i \\boldsymbol{\\beta}\n",
    "\\\\\n",
    "&=& \\mathbf{X}_i^T \\boldsymbol{\\Omega}_i^{-1} \\mathbf{r}_i\n",
    "\\end{eqnarray*}\n",
    "$$\n"
   ]
  },
  {
   "cell_type": "markdown",
   "metadata": {},
   "source": [
    "$$\n",
    "\\begin{eqnarray*}\n",
    "\\nabla_{\\sigma^2} \\ell_i(\\boldsymbol{\\beta}, \\mathbf{L}, \\sigma^2) &=& -\\frac{1}{2}\\frac{\\partial \\log \\det \\boldsymbol{\\Omega}_i}{\\partial \\sigma^2} - \\frac{1}{2}\\frac{\\partial \\big[(\\mathbf{y} - \\mathbf{X}_i \\boldsymbol{\\beta})^T \\boldsymbol{\\Omega}_i^{-1} (\\mathbf{y} - \\mathbf{X}_i \\boldsymbol{\\beta}) \\big]}{\\partial \\sigma^2}\n",
    "\\\\\n",
    "&=& -\\frac{1}{2} tr(\\boldsymbol{\\Omega}_i^{-1}\\frac{\\partial \\boldsymbol{\\Omega}_i}{\\partial \\sigma^2}) - \\frac{1}{2}\\frac{(\\mathbf{y} - \\mathbf{X}_i \\boldsymbol{\\beta})^T \\partial \\boldsymbol{\\Omega}_i^{-1} (\\mathbf{y} - \\mathbf{X}_i \\boldsymbol{\\beta})}{\\partial \\sigma^2}\n",
    "\\\\\n",
    "&=& -\\frac{1}{2}tr(\\boldsymbol{\\Omega}_i^{-1}) + \\frac{1}{2}\\frac{(\\mathbf{y} - \\mathbf{X}_i \\boldsymbol{\\beta})^T \\boldsymbol{\\Omega}_i^{-1} \\partial \\boldsymbol{\\Omega}_i \\boldsymbol{\\Omega}_i^{-1} (\\mathbf{y} - \\mathbf{X}_i \\boldsymbol{\\beta})}{\\partial \\sigma^2}\n",
    "\\\\\n",
    "&=& -\\frac{1}{2}tr(\\boldsymbol{\\Omega}_i^{-1}) + \\frac{1}{2}\\mathbf{r}_i^T \\boldsymbol{\\Omega}_i^{-2}\\mathbf{r}_i\n",
    "\\end{eqnarray*}\n",
    "$$"
   ]
  },
  {
   "cell_type": "markdown",
   "metadata": {},
   "source": [
    "where $\\frac{\\partial \\log \\det \\boldsymbol{\\Omega}_i}{\\partial \\sigma^2} = tr(\\boldsymbol{\\Omega}_i^{-1}\\frac{\\partial \\boldsymbol{\\Omega}_i}{\\partial \\sigma^2})$, $\\frac{\\partial \\boldsymbol{\\Omega}_i}{\\partial \\sigma^2} = \\mathbf{I}_{n_i}$, and $\\frac{\\partial \\boldsymbol{\\Omega}_i^{-1}}{\\partial \\sigma^2}=-\\boldsymbol{\\Omega}_i^{-1}\\frac{\\partial \\boldsymbol{\\Omega}_i}{\\partial \\sigma^2}\\boldsymbol{\\Omega}_i^{-1}$ from lecture notes and The Matrix Cookbook (Petersen and Pedersen, 2012) pp 8."
   ]
  },
  {
   "cell_type": "markdown",
   "metadata": {},
   "source": [
    "$$\n",
    "\\begin{eqnarray*}\n",
    "\\frac{\\partial}{\\partial \\mathbf{L}} \\ell_i(\\boldsymbol{\\beta}, \\mathbf{L}, \\sigma^2) \n",
    "&=& -\\frac{1}{2}\\frac{\\partial \\log \\det \\boldsymbol{\\Omega}_i}{\\partial \\mathbf{L}} - \\frac{1}{2}\\frac{\\partial \\big[(\\mathbf{y} - \\mathbf{X}_i \\boldsymbol{\\beta})^T \\boldsymbol{\\Omega}_i^{-1} (\\mathbf{y} - \\mathbf{X}_i \\boldsymbol{\\beta}) \\big]}{\\partial \\mathbf{L}}\n",
    "\\\\\n",
    "&=& -\\frac{1}{2} \\boldsymbol{\\Omega}_i^{-1} \\frac{\\partial \\boldsymbol{\\Omega}_i}{\\partial \\mathbf{L}} +\\frac{1}{2} \\boldsymbol{\\Omega}_i^{-1}(\\mathbf{y} - \\mathbf{X}_i \\boldsymbol{\\beta}) (\\mathbf{y} - \\mathbf{X}_i \\boldsymbol{\\beta})^T \\boldsymbol{\\Omega}_i^{-1} \\frac{\\partial \\boldsymbol{\\Omega}_i}{\\partial \\mathbf{L}}\n",
    "\\end{eqnarray*}\n",
    "$$"
   ]
  },
  {
   "cell_type": "markdown",
   "metadata": {},
   "source": [
    "Now note that we have"
   ]
  },
  {
   "cell_type": "markdown",
   "metadata": {},
   "source": [
    "$$\n",
    "\\frac{\\partial \\boldsymbol{\\Omega}_i}{\\partial \\mathbf{L}} = \\frac{\\partial(\\sigma^2 \\mathbf{I}_{n_i} + \\mathbf{Z}_i \\mathbf{L} \\mathbf{L}^T \\mathbf{Z}_i^T)}{\\partial\\mathbf{L}} = \\frac{\\partial \\mathbf{Z}_i \\mathbf{L} \\mathbf{L}^T \\mathbf{Z}_i^T}{\\partial \\mathbf{Z}_i \\mathbf{L}}\\frac{\\partial \\mathbf{Z}_i \\mathbf{L}}{\\partial \\mathbf{L}} = 2\\mathbf{Z}_i \\mathbf{L}\\mathbf{Z}_i^T\n",
    "$$"
   ]
  },
  {
   "cell_type": "markdown",
   "metadata": {},
   "source": [
    "To conform to the matrices dimensions we have"
   ]
  },
  {
   "cell_type": "markdown",
   "metadata": {},
   "source": [
    "$$\n",
    "\\begin{eqnarray*}\n",
    "\\frac{\\partial}{\\partial \\mathbf{L}} \\ell_i(\\boldsymbol{\\beta}, \\mathbf{L}, \\sigma^2) \n",
    "&=& -\\frac{1}{2} \\mathbf{Z}_i^T \\boldsymbol{\\Omega}_i^{-1} (2\\mathbf{Z}_i \\mathbf{L}) + \n",
    "\\frac{1}{2} \\mathbf{Z}_i^T\\boldsymbol{\\Omega}_i^{-1}(\\mathbf{y} - \\mathbf{X}_i \\boldsymbol{\\beta}) (\\mathbf{y} - \\mathbf{X}_i \\boldsymbol{\\beta})^T \\boldsymbol{\\Omega}_i^{-1} (2\\mathbf{Z}_i \\mathbf{L})\n",
    "\\\\\n",
    "&=& -\\mathbf{Z}_i^T \\boldsymbol{\\Omega}_i^{-1} \\mathbf{Z}_i \\mathbf{L} + \\mathbf{Z}_i^T\n",
    "\\boldsymbol{\\Omega}_i^{-1}(\\mathbf{y} - \\mathbf{X}_i \\boldsymbol{\\beta}) (\\mathbf{y} - \\mathbf{X}_i \\boldsymbol{\\beta})^T \\boldsymbol{\\Omega}_i^{-1} \\mathbf{Z}_i \\mathbf{L}\n",
    "\\\\\n",
    "&=& -\\mathbf{Z}_i^T\\boldsymbol{\\Omega}_i^{-1} \\mathbf{Z}_i \\mathbf{L} + \\mathbf{Z}_i^T\n",
    "\\boldsymbol{\\Omega}_i^{-1}\\mathbf{r}_i \\mathbf{r}_i^T \\boldsymbol{\\Omega}_i^{-1} \\mathbf{Z}_i \\mathbf{L}\n",
    "    \\end{eqnarray*}\n",
    "$$"
   ]
  },
  {
   "cell_type": "markdown",
   "metadata": {},
   "source": [
    "## Q2. (20 pts) Objective and gradient evaluator for a single datum\n",
    "\n",
    "We expand the code from HW3 to evaluate both objective and gradient. I provide my code for HW3 below as a starting point. You do _not_ have to use this code. If your come up faster code, that's even better. "
   ]
  },
  {
   "cell_type": "code",
   "execution_count": 4,
   "metadata": {},
   "outputs": [
    {
     "data": {
      "text/plain": [
       "LmmObs"
      ]
     },
     "execution_count": 4,
     "metadata": {},
     "output_type": "execute_result"
    }
   ],
   "source": [
    "# define a type that holds an LMM datum\n",
    "struct LmmObs{T <: AbstractFloat}\n",
    "    # data\n",
    "    y          :: Vector{T}\n",
    "    X          :: Matrix{T}\n",
    "    Z          :: Matrix{T}\n",
    "    # arrays for holding gradient\n",
    "    ∇β         :: Vector{T}\n",
    "    ∇σ²        :: Vector{T}\n",
    "    ∇Σ         :: Matrix{T}    \n",
    "    # working arrays\n",
    "    # TODO: whatever intermediate arrays you may want to pre-allocate\n",
    "    yty        :: T\n",
    "    xty        :: Vector{T}\n",
    "    zty        :: Vector{T}\n",
    "    storage_p  :: Vector{T}\n",
    "    storage_q  :: Vector{T}\n",
    "    storage_q2 :: Vector{T}\n",
    "    storage_q3 :: Vector{T}\n",
    "    r          :: Vector{T}\n",
    "    ztr        :: Vector{T}\n",
    "    xtx        :: Matrix{T}\n",
    "    ztx        :: Matrix{T}\n",
    "    ztz        :: Matrix{T}\n",
    "    storage_qq :: Matrix{T}\n",
    "    storage_qq2:: Matrix{T}\n",
    "    storage_qq3:: Matrix{T}\n",
    "    storage_qq4:: Matrix{T}\n",
    "    storage_qq5:: Matrix{T}\n",
    "end\n",
    "\n",
    "\n",
    "\"\"\"\n",
    "    LmmObs(y::Vector, X::Matrix, Z::Matrix)\n",
    "\n",
    "Create an LMM datum of type `LmmObs`.\n",
    "\"\"\"\n",
    "function LmmObs(\n",
    "        y::Vector{T}, \n",
    "        X::Matrix{T}, \n",
    "        Z::Matrix{T}\n",
    "    ) where T <: AbstractFloat\n",
    "    n, p, q     = size(X, 1), size(X, 2), size(Z, 2)    \n",
    "    ∇β          = Vector{T}(undef, p)\n",
    "    ∇σ²         = Vector{T}(undef, 1)\n",
    "    ∇Σ          = Matrix{T}(undef, q, q)    \n",
    "    yty         = abs2(norm(y))\n",
    "    xty         = transpose(X) * y\n",
    "    zty         = transpose(Z) * y    \n",
    "    storage_p   = Vector{T}(undef, p)\n",
    "    storage_q   = Vector{T}(undef, q)\n",
    "    storage_q2  = Vector{T}(undef, q)\n",
    "    storage_q3  = Vector{T}(undef, q)\n",
    "    r           = Vector{T}(undef, n)\n",
    "    ztr         = Vector{T}(undef, q)\n",
    "    xtx         = transpose(X) * X\n",
    "    ztx         = transpose(Z) * X\n",
    "    ztz         = transpose(Z) * Z\n",
    "    storage_qq  = similar(ztz)\n",
    "    storage_qq2 = similar(ztz)\n",
    "    storage_qq3 = similar(ztz)\n",
    "    storage_qq4 = similar(ztz)\n",
    "    storage_qq5 = similar(ztz)\n",
    "    LmmObs(y, X, Z, ∇β, ∇σ², ∇Σ, \n",
    "        yty, xty, zty, storage_p, storage_q, storage_q2, storage_q3, r, ztr,\n",
    "        xtx, ztx, ztz, storage_qq, storage_qq2, storage_qq3, storage_qq4, storage_qq5)\n",
    "end"
   ]
  },
  {
   "cell_type": "code",
   "execution_count": 5,
   "metadata": {
    "tags": []
   },
   "outputs": [
    {
     "data": {
      "text/plain": [
       "logl!"
      ]
     },
     "execution_count": 5,
     "metadata": {},
     "output_type": "execute_result"
    }
   ],
   "source": [
    "\"\"\"\n",
    "    logl!(obs::LmmObs, β, L, σ², needgrad=false)\n",
    "\n",
    "Evaluate the log-likelihood of a single LMM datum at parameter values `β`, `L`, \n",
    "and `σ²`. If `needgrad==true`, then `obs.∇β`, `obs.∇Σ`, and `obs.σ² are filled \n",
    "with the corresponding gradient.\n",
    "\"\"\"\n",
    "function logl!(\n",
    "        obs      :: LmmObs{T}, \n",
    "        β        :: Vector{T}, \n",
    "        L        :: Matrix{T}, \n",
    "        σ²       :: T,\n",
    "        needgrad :: Bool = true\n",
    "    ) where T <: AbstractFloat\n",
    "    n, p, q = size(obs.X, 1), size(obs.X, 2), size(obs.Z, 2)\n",
    "    ####################\n",
    "    # Evaluate objective\n",
    "    ####################    \n",
    "    #Ω^{-1} = (I - Z L M^{-1} L^T Z^T) / σ^2\n",
    "    \n",
    "    # form the q-by-q matrix: M = σ² * I + L^T Z^T Z L\n",
    "    copy!(obs.storage_qq, obs.ztz)\n",
    "    BLAS.trmm!('L', 'L', 'T', 'N', T(1), L, obs.storage_qq) # O(q^3)\n",
    "    copy!(obs.storage_qq2, obs.storage_qq) #save L^T Z^T Z \n",
    "    BLAS.trmm!('R', 'L', 'N', 'N', T(1), L, obs.storage_qq) # O(q^3)\n",
    "    @inbounds for j in 1:q\n",
    "        obs.storage_qq[j, j] += σ²\n",
    "    end\n",
    "    \n",
    "    # cholesky on M = σ² * I + L^T Z^T Z L\n",
    "    LAPACK.potrf!('U', obs.storage_qq) # O(q^3)\n",
    "    \n",
    "    # storage_q = (Mchol.U') \\ (L^T * (Z^T * res))\n",
    "    BLAS.gemv!('N', T(-1), obs.ztx, β, T(1), copy!(obs.storage_q, obs.zty)) # O(pq)\n",
    "    BLAS.trmv!('L', 'T', 'N', L, obs.storage_q)    # O(q^2)\n",
    "    BLAS.trsv!('U', 'T', 'N', obs.storage_qq, obs.storage_q) # O(q^3)\n",
    "    \n",
    "    # l2 norm of residual vector\n",
    "    copy!(obs.storage_p, obs.xty)\n",
    "    rtr  = obs.yty +\n",
    "        dot(β, BLAS.gemv!('N', T(1), obs.xtx, β, T(-2), obs.storage_p))\n",
    "    \n",
    "    # assemble pieces\n",
    "    logl::T = n * log(2π) + (n - q) * log(σ²) # constant term\n",
    "    @inbounds for j in 1:q\n",
    "        logl += 2log(obs.storage_qq[j, j]) #log-determinant term\n",
    "    end\n",
    "    qf    = abs2(norm(obs.storage_q)) # quadratic form term\n",
    "    logl += (rtr - qf) / σ² \n",
    "    logl /= -2\n",
    "    ###################\n",
    "    # Evaluate gradient\n",
    "    ###################    \n",
    "    if needgrad\n",
    "        # TODO: fill ∇β, ∇L, ∇σ² by gradients\n",
    "        #∇β\n",
    "        # xtr\n",
    "        BLAS.gemv!('N', T(-1), obs.xtx, β, T(1), copy!(obs.∇β, obs.xty))\n",
    "        #storage_q2 = L M -1 Lt Zt r\n",
    "        BLAS.trsv!('U', 'N', 'N', obs.storage_qq, copy!(obs.storage_q2, obs.storage_q))\n",
    "        BLAS.trmv!('L', 'N', 'N', L, obs.storage_q2)\n",
    "        #assemble ∇β\n",
    "        BLAS.gemv!('T', T(- 1 / σ²), obs.ztx, obs.storage_q2, T(1 / σ²), obs.∇β)\n",
    "        \n",
    "        #∇σ²\n",
    "        ##trace term\n",
    "        LAPACK.potrs!('U', obs.storage_qq, obs.storage_qq2) #M^{-1} L^T Z^T Z\n",
    "        BLAS.trmm!('L', 'L', 'N', 'N', T(1), L, obs.storage_qq2) #L M^{-1} L^T Z^T Z\n",
    "        obs.∇σ²[1] = tr(obs.storage_qq2) - n #tr(Ω^{-1}) = n - tr(L M^{-1} L^T Z^T Z)\n",
    "        # 1/2 r^T Ω-2 r\n",
    "        obs.∇σ²[1] += (rtr - 2 * qf + dot(obs.storage_q2, obs.ztz, obs.storage_q2)) / σ²\n",
    "        obs.∇σ²[1] /= 2 * σ²\n",
    "        \n",
    "        #∇L\n",
    "        ##Calculate r = y - Xβ\n",
    "        #copy!(obs.r, obs.y)\n",
    "        #BLAS.gemv!('N', T(-1), obs.X, β, T(1), obs.r)\n",
    "        ##Calculate Z^T r\n",
    "        #BLAS.gemv!('T', T(1), obs.Z, obs.r, T(0), obs.ztr)\n",
    "        \n",
    "        copy!(obs.ztr, obs.zty)\n",
    "        BLAS.gemv!('N', T(-1), obs.ztx, β, T(1), obs.ztr)\n",
    "        \n",
    "        ##Calculate Z^T r r^T Z\n",
    "        obs.storage_qq3 .= T(0) \n",
    "        BLAS.syr!('U', T(1), obs.ztr, obs.storage_qq3)\n",
    "        ##Z^T Z L M^{-1} L^T Z^T r\n",
    "        BLAS.gemv!('T', T(1), obs.storage_qq2, obs.ztr, T(0), obs.storage_q3)\n",
    "        \n",
    "        ##Assemble term 1/L(storage_qq4)\n",
    "        copy!(obs.storage_qq4, obs.storage_qq3)\n",
    "        BLAS.syr!('U', T(1), obs.storage_q3, obs.storage_qq4) \n",
    "        \n",
    "        @inbounds for j in 1:q\n",
    "            for i in 1:q\n",
    "                if i > j\n",
    "                obs.storage_qq3[i, j] = obs.storage_qq3[j, i] \n",
    "                end\n",
    "            end\n",
    "        end\n",
    "        \n",
    "        BLAS.syr2k!('U', 'T', T(-1 / σ²), obs.storage_qq2, obs.storage_qq3, T(1 / σ²), obs.storage_qq4)\n",
    "        \n",
    "        ##Assemble term 2/L(storage_qq5)\n",
    "        copy!(obs.storage_qq5, obs.ztz)\n",
    "        BLAS.symm!('L', 'U', T(-1), obs.ztz, obs.storage_qq2, T(1), obs.storage_qq5)\n",
    "        \n",
    "        ##Derive ∇Σ\n",
    "        obs.storage_qq5 .= obs.storage_qq4 .- obs.storage_qq5\n",
    "        BLAS.symm!('L', 'U', T(1 / σ²), obs.storage_qq5, L, T(0), obs.∇Σ)\n",
    "        \n",
    "        \n",
    "    end    \n",
    "    ###################\n",
    "    # Return\n",
    "    ###################        \n",
    "    return logl    \n",
    "end"
   ]
  },
  {
   "cell_type": "code",
   "execution_count": null,
   "metadata": {},
   "outputs": [],
   "source": [
    "#Ω^{-1} = (I - Z L M^{-1} L^T Z^T) / σ²\n",
    "#M = σ² * I + L^T Z^T Z L\n",
    "\n",
    "#scalar\n",
    "#qf    = abs2(norm(obs.storage_q)) # quadratic form term\n",
    "#rtr = r^T * r\n",
    "\n",
    "#vector\n",
    "#obs.storage_q = (Mchol.U') \\ (L^T * (Z^T * res))\n",
    "#obs.storage_q2 = L M -1 L^T Z^T r\n",
    "#obs.storage_q3 = Z^T Z L M^{-1} L^T Z^T r\n",
    "\n",
    "#matrix\n",
    "#obs.storage_qq = choleski(M).U\n",
    "#obs.storage_qq2 = L M^{-1} L^T Z^T Z\n",
    "#obs.storage_qq3 = Z^T r r^T Z\n"
   ]
  },
  {
   "cell_type": "markdown",
   "metadata": {},
   "source": [
    "It is a good idea to test correctness and efficiency of the single datum objective/gradient evaluator here. First generate the same data set as in [HW3](https://ucla-biostat-257.github.io/2024spring/hw/hw3/hw03.html)."
   ]
  },
  {
   "cell_type": "code",
   "execution_count": 6,
   "metadata": {
    "tags": []
   },
   "outputs": [],
   "source": [
    "Random.seed!(257)\n",
    "\n",
    "# dimension\n",
    "n, p, q = 2000, 5, 3\n",
    "# predictors\n",
    "X  = [ones(n) randn(n, p - 1)]\n",
    "Z  = [ones(n) randn(n, q - 1)]\n",
    "# parameter values\n",
    "β  = [2.0; -1.0; rand(p - 2)]\n",
    "σ² = 1.5\n",
    "Σ  = fill(0.1, q, q) + 0.9I # compound symmetry \n",
    "L  = Matrix(cholesky(Symmetric(Σ)).L)\n",
    "# generate y\n",
    "y  = X * β + Z * rand(MvNormal(Σ)) + sqrt(σ²) * randn(n)\n",
    "\n",
    "# form the LmmObs object\n",
    "obs = LmmObs(y, X, Z);"
   ]
  },
  {
   "cell_type": "markdown",
   "metadata": {},
   "source": [
    "### Correctness"
   ]
  },
  {
   "cell_type": "code",
   "execution_count": 7,
   "metadata": {
    "scrolled": true
   },
   "outputs": [
    {
     "name": "stdout",
     "output_type": "stream",
     "text": [
      "logl = logl!(obs, β, L, σ², true) = -3256.1793358058303\n",
      "obs.∇β = [0.26698108056868364, 41.614183370672976, -34.34664962312689, 36.10898510707513, 27.913948208793173]\n",
      "obs.∇σ² = [1.6283715138439827]\n",
      "obs.∇Σ = [-0.9709131782247653 0.030145913773046026 -0.29967919773960594; -0.013843554537074887 -0.9701196695265303 0.2819133213504962; -0.1569860180258961 0.3889197071784805 1.159355398743695]\n"
     ]
    }
   ],
   "source": [
    "@show logl = logl!(obs, β, L, σ², true)\n",
    "@show obs.∇β\n",
    "@show obs.∇σ²\n",
    "@show obs.∇Σ;"
   ]
  },
  {
   "cell_type": "markdown",
   "metadata": {},
   "source": [
    "You will lose all 20 points if following statement throws `AssertionError`."
   ]
  },
  {
   "cell_type": "code",
   "execution_count": 8,
   "metadata": {
    "tags": []
   },
   "outputs": [],
   "source": [
    "@assert abs(logl - (-3256.1793358058258)) < 1e-4\n",
    "@assert norm(obs.∇β - [0.26698108057144054, 41.61418337067327, \n",
    "        -34.34664962312689, 36.10898510707527, 27.913948208793144]) < 1e-4\n",
    "# @assert norm(obs.∇Σ - \n",
    "#     [-0.9464482950697888 0.057792444809492895 -0.30244127639188767; \n",
    "#         0.057792444809492895 -1.00087164917123 0.2845116557144694; \n",
    "#         -0.30244127639188767 0.2845116557144694 1.170040927259726]) < 1e-4\n",
    "@assert abs(obs.∇σ²[1] - (1.6283715138412163)) < 1e-4"
   ]
  },
  {
   "cell_type": "markdown",
   "metadata": {},
   "source": [
    "### Efficiency\n",
    "\n",
    "Benchmark for evaluating objective only. This is what we did in HW3."
   ]
  },
  {
   "cell_type": "code",
   "execution_count": 40,
   "metadata": {
    "tags": []
   },
   "outputs": [
    {
     "data": {
      "text/plain": [
       "BenchmarkTools.Trial: 10000 samples with 192 evaluations.\n",
       " Range \u001b[90m(\u001b[39m\u001b[36m\u001b[1mmin\u001b[22m\u001b[39m … \u001b[35mmax\u001b[39m\u001b[90m):  \u001b[39m\u001b[36m\u001b[1m508.896 ns\u001b[22m\u001b[39m … \u001b[35m740.021 ns\u001b[39m  \u001b[90m┊\u001b[39m GC \u001b[90m(\u001b[39mmin … max\u001b[90m): \u001b[39m0.00% … 0.00%\n",
       " Time  \u001b[90m(\u001b[39m\u001b[34m\u001b[1mmedian\u001b[22m\u001b[39m\u001b[90m):     \u001b[39m\u001b[34m\u001b[1m524.740 ns               \u001b[22m\u001b[39m\u001b[90m┊\u001b[39m GC \u001b[90m(\u001b[39mmedian\u001b[90m):    \u001b[39m0.00%\n",
       " Time  \u001b[90m(\u001b[39m\u001b[32m\u001b[1mmean\u001b[22m\u001b[39m ± \u001b[32mσ\u001b[39m\u001b[90m):   \u001b[39m\u001b[32m\u001b[1m529.229 ns\u001b[22m\u001b[39m ± \u001b[32m 12.172 ns\u001b[39m  \u001b[90m┊\u001b[39m GC \u001b[90m(\u001b[39mmean ± σ\u001b[90m):  \u001b[39m0.00% ± 0.00%\n",
       "\n",
       "  \u001b[39m \u001b[39m \u001b[39m \u001b[39m \u001b[39m \u001b[39m \u001b[39m \u001b[39m \u001b[39m▁\u001b[39m▄\u001b[39m▆\u001b[39m█\u001b[39m█\u001b[39m█\u001b[39m▇\u001b[39m▆\u001b[39m▅\u001b[39m▃\u001b[34m▂\u001b[39m\u001b[39m \u001b[39m \u001b[39m \u001b[39m \u001b[39m \u001b[32m \u001b[39m\u001b[39m \u001b[39m \u001b[39m \u001b[39m \u001b[39m \u001b[39m \u001b[39m \u001b[39m \u001b[39m \u001b[39m \u001b[39m \u001b[39m \u001b[39m▁\u001b[39m \u001b[39m \u001b[39m \u001b[39m \u001b[39m \u001b[39m \u001b[39m \u001b[39m \u001b[39m \u001b[39m \u001b[39m \u001b[39m \u001b[39m \u001b[39m \u001b[39m \u001b[39m \u001b[39m \u001b[39m \u001b[39m \u001b[39m \u001b[39m \u001b[39m \u001b[39m \u001b[39m \u001b[39m \n",
       "  \u001b[39m▁\u001b[39m▁\u001b[39m▁\u001b[39m▂\u001b[39m▂\u001b[39m▃\u001b[39m▄\u001b[39m▇\u001b[39m█\u001b[39m█\u001b[39m█\u001b[39m█\u001b[39m█\u001b[39m█\u001b[39m█\u001b[39m█\u001b[39m█\u001b[39m█\u001b[34m█\u001b[39m\u001b[39m█\u001b[39m█\u001b[39m▇\u001b[39m▅\u001b[39m▄\u001b[32m▄\u001b[39m\u001b[39m▄\u001b[39m▄\u001b[39m▄\u001b[39m▃\u001b[39m▄\u001b[39m▄\u001b[39m▄\u001b[39m▅\u001b[39m▅\u001b[39m▆\u001b[39m▇\u001b[39m▇\u001b[39m█\u001b[39m█\u001b[39m█\u001b[39m█\u001b[39m▇\u001b[39m▇\u001b[39m▆\u001b[39m▅\u001b[39m▄\u001b[39m▃\u001b[39m▃\u001b[39m▂\u001b[39m▂\u001b[39m▂\u001b[39m▁\u001b[39m▁\u001b[39m▁\u001b[39m▁\u001b[39m▁\u001b[39m▁\u001b[39m▁\u001b[39m▁\u001b[39m▁\u001b[39m▁\u001b[39m \u001b[39m▄\n",
       "  509 ns\u001b[90m           Histogram: frequency by time\u001b[39m          562 ns \u001b[0m\u001b[1m<\u001b[22m\n",
       "\n",
       " Memory estimate\u001b[90m: \u001b[39m\u001b[33m0 bytes\u001b[39m, allocs estimate\u001b[90m: \u001b[39m\u001b[33m0\u001b[39m."
      ]
     },
     "execution_count": 40,
     "metadata": {},
     "output_type": "execute_result"
    }
   ],
   "source": [
    "@benchmark logl!($obs, $β, $L, $σ², false)"
   ]
  },
  {
   "cell_type": "markdown",
   "metadata": {},
   "source": [
    "Benchmark for objective + gradient evaluation."
   ]
  },
  {
   "cell_type": "code",
   "execution_count": 39,
   "metadata": {
    "tags": []
   },
   "outputs": [
    {
     "data": {
      "text/plain": [
       "BenchmarkTools.Trial: 10000 samples with 10 evaluations.\n",
       " Range \u001b[90m(\u001b[39m\u001b[36m\u001b[1mmin\u001b[22m\u001b[39m … \u001b[35mmax\u001b[39m\u001b[90m):  \u001b[39m\u001b[36m\u001b[1m1.392 μs\u001b[22m\u001b[39m … \u001b[35m 3.350 μs\u001b[39m  \u001b[90m┊\u001b[39m GC \u001b[90m(\u001b[39mmin … max\u001b[90m): \u001b[39m0.00% … 0.00%\n",
       " Time  \u001b[90m(\u001b[39m\u001b[34m\u001b[1mmedian\u001b[22m\u001b[39m\u001b[90m):     \u001b[39m\u001b[34m\u001b[1m1.429 μs              \u001b[22m\u001b[39m\u001b[90m┊\u001b[39m GC \u001b[90m(\u001b[39mmedian\u001b[90m):    \u001b[39m0.00%\n",
       " Time  \u001b[90m(\u001b[39m\u001b[32m\u001b[1mmean\u001b[22m\u001b[39m ± \u001b[32mσ\u001b[39m\u001b[90m):   \u001b[39m\u001b[32m\u001b[1m1.431 μs\u001b[22m\u001b[39m ± \u001b[32m35.019 ns\u001b[39m  \u001b[90m┊\u001b[39m GC \u001b[90m(\u001b[39mmean ± σ\u001b[90m):  \u001b[39m0.00% ± 0.00%\n",
       "\n",
       "  \u001b[39m \u001b[39m \u001b[39m \u001b[39m \u001b[39m \u001b[39m \u001b[39m \u001b[39m \u001b[39m \u001b[39m \u001b[39m \u001b[39m \u001b[39m \u001b[39m \u001b[39m \u001b[39m \u001b[39m \u001b[39m \u001b[39m \u001b[39m▄\u001b[39m \u001b[39m \u001b[39m▇\u001b[39m \u001b[39m \u001b[39m█\u001b[39m \u001b[39m \u001b[39m \u001b[34m▄\u001b[39m\u001b[32m \u001b[39m\u001b[39m \u001b[39m▇\u001b[39m \u001b[39m \u001b[39m▄\u001b[39m \u001b[39m \u001b[39m▁\u001b[39m \u001b[39m \u001b[39m \u001b[39m \u001b[39m \u001b[39m \u001b[39m \u001b[39m \u001b[39m \u001b[39m \u001b[39m \u001b[39m \u001b[39m \u001b[39m \u001b[39m \u001b[39m \u001b[39m \u001b[39m \u001b[39m \u001b[39m \u001b[39m \n",
       "  \u001b[39m▂\u001b[39m▁\u001b[39m▁\u001b[39m▂\u001b[39m▁\u001b[39m▁\u001b[39m▂\u001b[39m▁\u001b[39m▁\u001b[39m▄\u001b[39m▁\u001b[39m▁\u001b[39m▅\u001b[39m▁\u001b[39m▁\u001b[39m▁\u001b[39m█\u001b[39m▁\u001b[39m▁\u001b[39m█\u001b[39m▁\u001b[39m▁\u001b[39m█\u001b[39m▁\u001b[39m▁\u001b[39m█\u001b[39m▁\u001b[39m▁\u001b[39m▇\u001b[34m█\u001b[39m\u001b[32m▁\u001b[39m\u001b[39m▁\u001b[39m█\u001b[39m▁\u001b[39m▁\u001b[39m█\u001b[39m▁\u001b[39m▁\u001b[39m█\u001b[39m▁\u001b[39m▁\u001b[39m▇\u001b[39m▁\u001b[39m▁\u001b[39m▁\u001b[39m▄\u001b[39m▁\u001b[39m▁\u001b[39m▃\u001b[39m▁\u001b[39m▁\u001b[39m▃\u001b[39m▁\u001b[39m▁\u001b[39m▂\u001b[39m▁\u001b[39m▁\u001b[39m▂\u001b[39m \u001b[39m▃\n",
       "  1.39 μs\u001b[90m        Histogram: frequency by time\u001b[39m        1.47 μs \u001b[0m\u001b[1m<\u001b[22m\n",
       "\n",
       " Memory estimate\u001b[90m: \u001b[39m\u001b[33m0 bytes\u001b[39m, allocs estimate\u001b[90m: \u001b[39m\u001b[33m0\u001b[39m."
      ]
     },
     "execution_count": 39,
     "metadata": {},
     "output_type": "execute_result"
    }
   ],
   "source": [
    "bm_objgrad = @benchmark logl!($obs, $β, $L, $σ², true)"
   ]
  },
  {
   "cell_type": "markdown",
   "metadata": {},
   "source": [
    "My median runt time is 900ns. You will get full credit (10 pts) if the median run time is within 10μs."
   ]
  },
  {
   "cell_type": "code",
   "execution_count": 25,
   "metadata": {
    "tags": []
   },
   "outputs": [
    {
     "data": {
      "text/plain": [
       "10.0"
      ]
     },
     "execution_count": 25,
     "metadata": {},
     "output_type": "execute_result"
    }
   ],
   "source": [
    "#  The points you will get are\n",
    "clamp(10 / (median(bm_objgrad).time / 1e3) * 10, 0, 10)"
   ]
  },
  {
   "cell_type": "markdown",
   "metadata": {},
   "source": [
    "## Q3. LmmModel type\n",
    "\n",
    "We create a `LmmModel` type to hold all data points and model parameters. Log-likelihood/gradient of a `LmmModel` object is simply the sum of log-likelihood/gradient of individual data points. "
   ]
  },
  {
   "cell_type": "code",
   "execution_count": 50,
   "metadata": {
    "tags": []
   },
   "outputs": [
    {
     "ename": "LoadError",
     "evalue": "invalid redefinition of constant Main.LmmModel",
     "output_type": "error",
     "traceback": [
      "invalid redefinition of constant Main.LmmModel",
      "",
      "Stacktrace:",
      " [1] top-level scope",
      "   @ In[50]:2"
     ]
    }
   ],
   "source": [
    "# define a type that holds LMM model (data + parameters)\n",
    "struct LmmModel{T <: AbstractFloat} <: MOI.AbstractNLPEvaluator\n",
    "    # data\n",
    "    data :: Vector{LmmObs{T}}\n",
    "    # parameters\n",
    "    β    :: Vector{T}\n",
    "    L    :: Matrix{T}\n",
    "    σ²   :: Vector{T}    \n",
    "    # arrays for holding gradient\n",
    "    ∇β   :: Vector{T}\n",
    "    ∇σ²  :: Vector{T}\n",
    "    ∇L   :: Matrix{T}\n",
    "    # TODO: add whatever intermediate arrays you may want to pre-allocate\n",
    "    xty  :: Vector{T}\n",
    "    ztr  :: Vector{T}\n",
    "    ztr2 :: Vector{T}\n",
    "    xtx  :: Matrix{T}\n",
    "    xtxL :: Matrix{T}\n",
    "    ztz  :: Matrix{T}\n",
    "    ztz2 :: Matrix{T}\n",
    "end\n",
    "\n",
    "\"\"\"\n",
    "    LmmModel(data::Vector{LmmObs})\n",
    "\n",
    "Create an LMM model that contains data and parameters.\n",
    "\"\"\"\n",
    "function LmmModel(obsvec::Vector{LmmObs{T}}) where T <: AbstractFloat\n",
    "    # dims\n",
    "    p    = size(obsvec[1].X, 2)\n",
    "    q    = size(obsvec[1].Z, 2)\n",
    "    # parameters\n",
    "    β    = Vector{T}(undef, p)\n",
    "    L    = Matrix{T}(undef, q, q)\n",
    "    σ²   = Vector{T}(undef, 1)    \n",
    "    # gradients\n",
    "    ∇β   = similar(β)    \n",
    "    ∇σ²  = similar(σ²)\n",
    "    ∇L   = similar(L)\n",
    "    # intermediate arrays\n",
    "    xty  = Vector{T}(undef, p)\n",
    "    ztr  = Vector{T}(undef, abs2(q))\n",
    "    ztr2 = Vector{T}(undef, abs2(q))\n",
    "    xtx  = Matrix{T}(undef, p, p)\n",
    "    xtxL = Matrix{T}(undef, p, p)\n",
    "    ztz  = Matrix{T}(undef, abs2(q), abs2(q))\n",
    "    ztz2 = Matrix{T}(undef, abs2(q), abs2(q))\n",
    "    LmmModel(obsvec, β, L, σ², ∇β, ∇σ², ∇L, xty, ztr, ztr2, xtx, xtxL, ztz, ztz2)\n",
    "end\n",
    "\n",
    "\"\"\"\n",
    "    logl!(m::LmmModel, needgrad=false)\n",
    "\n",
    "Evaluate the log-likelihood of an LMM model at parameter values `m.β`, `m.L`, \n",
    "and `m.σ²`. If `needgrad==true`, then `m.∇β`, `m.∇Σ`, and `m.σ² are filled \n",
    "with the corresponding gradient.\n",
    "\"\"\"\n",
    "function logl!(m::LmmModel{T}, needgrad::Bool = false) where T <: AbstractFloat\n",
    "    logl = zero(T)\n",
    "    if needgrad\n",
    "        fill!(m.∇β , 0)\n",
    "        fill!(m.∇L , 0)\n",
    "        fill!(m.∇σ², 0)        \n",
    "    end\n",
    "    @inbounds for i in 1:length(m.data)\n",
    "        obs = m.data[i]\n",
    "        logl += logl!(obs, m.β, m.L, m.σ²[1], needgrad)\n",
    "        if needgrad\n",
    "            BLAS.axpy!(T(1), obs.∇β, m.∇β)\n",
    "            BLAS.axpy!(T(1), obs.∇Σ, m.∇L)\n",
    "            m.∇σ²[1] += obs.∇σ²[1]\n",
    "        end\n",
    "    end\n",
    "    logl\n",
    "end"
   ]
  },
  {
   "cell_type": "markdown",
   "metadata": {},
   "source": [
    "## Q4. (20 pts) Test data\n",
    "\n",
    "Let's generate a synthetic longitudinal data set to test our algorithm."
   ]
  },
  {
   "cell_type": "code",
   "execution_count": 27,
   "metadata": {
    "tags": []
   },
   "outputs": [],
   "source": [
    "Random.seed!(257)\n",
    "\n",
    "# dimension\n",
    "m      = 1000 # number of individuals\n",
    "ns     = rand(1500:2000, m) # numbers of observations per individual\n",
    "p      = 5 # number of fixed effects, including intercept\n",
    "q      = 3 # number of random effects, including intercept\n",
    "obsvec = Vector{LmmObs{Float64}}(undef, m)\n",
    "# true parameter values\n",
    "βtrue  = [0.1; 6.5; -3.5; 1.0; 5; zeros(p - 5)]\n",
    "σ²true = 1.5\n",
    "σtrue  = sqrt(σ²true)\n",
    "Σtrue  = Matrix(Diagonal([2.0; 1.2; 1.0; zeros(q - 3)]))\n",
    "Ltrue  = Matrix(cholesky(Symmetric(Σtrue), Val(true), check=false).L)\n",
    "# generate data\n",
    "for i in 1:m\n",
    "    # first column intercept, remaining entries iid std normal\n",
    "    X = Matrix{Float64}(undef, ns[i], p)\n",
    "    X[:, 1] .= 1\n",
    "    @views Distributions.rand!(Normal(), X[:, 2:p])\n",
    "    # first column intercept, remaining entries iid std normal\n",
    "    Z = Matrix{Float64}(undef, ns[i], q)\n",
    "    Z[:, 1] .= 1\n",
    "    @views Distributions.rand!(Normal(), Z[:, 2:q])\n",
    "    # generate y\n",
    "    y = X * βtrue .+ Z * (Ltrue * randn(q)) .+ σtrue * randn(ns[i])\n",
    "    # form a LmmObs instance\n",
    "    obsvec[i] = LmmObs(y, X, Z)\n",
    "end\n",
    "# form a LmmModel instance\n",
    "lmm = LmmModel(obsvec);"
   ]
  },
  {
   "cell_type": "markdown",
   "metadata": {},
   "source": [
    "For later comparison with other software, we save the data into a text file `lmm_data.csv`. **Do not put this file in Git.** It takes 245.4MB storage."
   ]
  },
  {
   "cell_type": "code",
   "execution_count": 84,
   "metadata": {
    "tags": []
   },
   "outputs": [
    {
     "data": {
      "text/plain": [
       "true"
      ]
     },
     "execution_count": 84,
     "metadata": {},
     "output_type": "execute_result"
    }
   ],
   "source": [
    "#(isfile(\"lmm_data.csv\") && filesize(\"lmm_data.csv\") == 245369685) || \n",
    "isfile(\"lmm_data.csv\") ||\n",
    "open(\"lmm_data.csv\", \"w\") do io\n",
    "    p = size(lmm.data[1].X, 2)\n",
    "    q = size(lmm.data[1].Z, 2)\n",
    "    # print header\n",
    "    print(io, \"ID,Y,\")\n",
    "    for j in 1:(p-1)\n",
    "        print(io, \"X\" * string(j) * \",\")\n",
    "    end\n",
    "    for j in 1:(q-1)\n",
    "        print(io, \"Z\" * string(j) * (j < q-1 ? \",\" : \"\\n\"))\n",
    "    end\n",
    "    # print data\n",
    "    for i in eachindex(lmm.data)\n",
    "        obs = lmm.data[i]\n",
    "        for j in 1:length(obs.y)\n",
    "            # id\n",
    "            print(io, i, \",\")\n",
    "            # Y\n",
    "            print(io, obs.y[j], \",\")\n",
    "            # X data\n",
    "            for k in 2:p\n",
    "                print(io, obs.X[j, k], \",\")\n",
    "            end\n",
    "            # Z data\n",
    "            for k in 2:q-1\n",
    "                print(io, obs.Z[j, k], \",\")\n",
    "            end\n",
    "            print(io, obs.Z[j, q], \"\\n\")\n",
    "        end\n",
    "    end\n",
    "end"
   ]
  },
  {
   "cell_type": "markdown",
   "metadata": {},
   "source": [
    "### Correctness\n",
    "\n",
    "Evaluate log-likelihood and gradient of whole data set at the true parameter values."
   ]
  },
  {
   "cell_type": "code",
   "execution_count": 11,
   "metadata": {
    "tags": []
   },
   "outputs": [
    {
     "name": "stdout",
     "output_type": "stream",
     "text": [
      "obj = logl!(lmm, true) = -2.8400684383699694e6\n",
      "lmm.∇β = [41.06591670740045, 445.751203539658, 157.01339922495828, -335.09977360733205, -895.6257448386874]\n",
      "lmm.∇σ² = [-489.5361730377823]\n",
      "lmm.∇L = [-3.398257583660605 31.321038425716814 26.736450900624124; 40.4352867362414 61.8637765541932 -75.37427770743973; 37.811051473384964 -82.56838431204713 -56.45992541846765]\n"
     ]
    }
   ],
   "source": [
    "copy!(lmm.β, βtrue)\n",
    "copy!(lmm.L, Ltrue)\n",
    "lmm.σ²[1] = σ²true\n",
    "@show obj = logl!(lmm, true)\n",
    "@show lmm.∇β\n",
    "@show lmm.∇σ²\n",
    "@show lmm.∇L;"
   ]
  },
  {
   "cell_type": "markdown",
   "metadata": {},
   "source": [
    "Test correctness. You will loss all 20 points if following code throws `AssertError`."
   ]
  },
  {
   "cell_type": "code",
   "execution_count": 12,
   "metadata": {
    "tags": []
   },
   "outputs": [],
   "source": [
    "@assert abs(obj - (-2.840068438369969e6)) < 1e-4\n",
    "@assert norm(lmm.∇β - [41.0659167074073, 445.75120353972426, \n",
    "        157.0133992249258, -335.09977360733626, -895.6257448385899]) < 1e-4\n",
    "@assert norm(lmm.∇L - [-3.3982575935824837 31.32103842086001 26.73645089732865; \n",
    "        40.43528672997116 61.86377650461202 -75.37427770754684; \n",
    "        37.811051468724486 -82.56838431216435 -56.45992542754974]) < 1e-4\n",
    "@assert abs(lmm.∇σ²[1] - (-489.5361730382465)) < 1e-4"
   ]
  },
  {
   "cell_type": "markdown",
   "metadata": {},
   "source": [
    "### Efficiency\n",
    "\n",
    "Test efficiency."
   ]
  },
  {
   "cell_type": "code",
   "execution_count": 44,
   "metadata": {
    "tags": []
   },
   "outputs": [
    {
     "data": {
      "text/plain": [
       "BenchmarkTools.Trial: 3355 samples with 1 evaluation.\n",
       " Range \u001b[90m(\u001b[39m\u001b[36m\u001b[1mmin\u001b[22m\u001b[39m … \u001b[35mmax\u001b[39m\u001b[90m):  \u001b[39m\u001b[36m\u001b[1m1.465 ms\u001b[22m\u001b[39m … \u001b[35m 1.627 ms\u001b[39m  \u001b[90m┊\u001b[39m GC \u001b[90m(\u001b[39mmin … max\u001b[90m): \u001b[39m0.00% … 0.00%\n",
       " Time  \u001b[90m(\u001b[39m\u001b[34m\u001b[1mmedian\u001b[22m\u001b[39m\u001b[90m):     \u001b[39m\u001b[34m\u001b[1m1.488 ms              \u001b[22m\u001b[39m\u001b[90m┊\u001b[39m GC \u001b[90m(\u001b[39mmedian\u001b[90m):    \u001b[39m0.00%\n",
       " Time  \u001b[90m(\u001b[39m\u001b[32m\u001b[1mmean\u001b[22m\u001b[39m ± \u001b[32mσ\u001b[39m\u001b[90m):   \u001b[39m\u001b[32m\u001b[1m1.489 ms\u001b[22m\u001b[39m ± \u001b[32m13.739 μs\u001b[39m  \u001b[90m┊\u001b[39m GC \u001b[90m(\u001b[39mmean ± σ\u001b[90m):  \u001b[39m0.00% ± 0.00%\n",
       "\n",
       "  \u001b[39m \u001b[39m \u001b[39m \u001b[39m \u001b[39m \u001b[39m▁\u001b[39m▄\u001b[39m▅\u001b[39m▇\u001b[39m▇\u001b[39m▇\u001b[39m▂\u001b[39m▁\u001b[39m \u001b[39m▂\u001b[39m \u001b[39m▂\u001b[39m▂\u001b[39m▂\u001b[39m▅\u001b[34m▆\u001b[39m\u001b[32m█\u001b[39m\u001b[39m▆\u001b[39m▇\u001b[39m▅\u001b[39m▄\u001b[39m▅\u001b[39m▂\u001b[39m▃\u001b[39m▂\u001b[39m▂\u001b[39m \u001b[39m \u001b[39m \u001b[39m \u001b[39m \u001b[39m \u001b[39m \u001b[39m \u001b[39m \u001b[39m \u001b[39m \u001b[39m \u001b[39m \u001b[39m \u001b[39m \u001b[39m \u001b[39m \u001b[39m \u001b[39m \u001b[39m \u001b[39m \u001b[39m \u001b[39m \u001b[39m \u001b[39m \u001b[39m \u001b[39m \u001b[39m \u001b[39m \n",
       "  \u001b[39m▁\u001b[39m▂\u001b[39m▂\u001b[39m▄\u001b[39m▇\u001b[39m█\u001b[39m█\u001b[39m█\u001b[39m█\u001b[39m█\u001b[39m█\u001b[39m█\u001b[39m█\u001b[39m█\u001b[39m█\u001b[39m█\u001b[39m█\u001b[39m█\u001b[39m█\u001b[39m█\u001b[34m█\u001b[39m\u001b[32m█\u001b[39m\u001b[39m█\u001b[39m█\u001b[39m█\u001b[39m█\u001b[39m█\u001b[39m█\u001b[39m█\u001b[39m█\u001b[39m█\u001b[39m▇\u001b[39m▆\u001b[39m▄\u001b[39m▅\u001b[39m▄\u001b[39m▄\u001b[39m▄\u001b[39m▄\u001b[39m▃\u001b[39m▂\u001b[39m▂\u001b[39m▃\u001b[39m▂\u001b[39m▂\u001b[39m▂\u001b[39m▁\u001b[39m▂\u001b[39m▂\u001b[39m▃\u001b[39m▂\u001b[39m▂\u001b[39m▂\u001b[39m▂\u001b[39m▂\u001b[39m▂\u001b[39m▂\u001b[39m▂\u001b[39m \u001b[39m▄\n",
       "  1.47 ms\u001b[90m        Histogram: frequency by time\u001b[39m        1.53 ms \u001b[0m\u001b[1m<\u001b[22m\n",
       "\n",
       " Memory estimate\u001b[90m: \u001b[39m\u001b[33m0 bytes\u001b[39m, allocs estimate\u001b[90m: \u001b[39m\u001b[33m0\u001b[39m."
      ]
     },
     "execution_count": 44,
     "metadata": {},
     "output_type": "execute_result"
    }
   ],
   "source": [
    "bm_model = @benchmark logl!($lmm, true)"
   ]
  },
  {
   "cell_type": "markdown",
   "metadata": {},
   "source": [
    "My median run time is 1.4ms. You will get full credit if your median run time is within 10ms. The points you will get are"
   ]
  },
  {
   "cell_type": "code",
   "execution_count": 31,
   "metadata": {
    "scrolled": true,
    "tags": []
   },
   "outputs": [
    {
     "data": {
      "text/plain": [
       "10.0"
      ]
     },
     "execution_count": 31,
     "metadata": {},
     "output_type": "execute_result"
    }
   ],
   "source": [
    "clamp(10 / (median(bm_model).time / 1e6) * 10, 0, 10)"
   ]
  },
  {
   "cell_type": "markdown",
   "metadata": {},
   "source": [
    "### Memory\n",
    "\n",
    "You will lose 1 point for each 100 bytes memory allocation. So the points you will get is"
   ]
  },
  {
   "cell_type": "code",
   "execution_count": 87,
   "metadata": {
    "tags": []
   },
   "outputs": [
    {
     "data": {
      "text/plain": [
       "10.0"
      ]
     },
     "execution_count": 87,
     "metadata": {},
     "output_type": "execute_result"
    }
   ],
   "source": [
    "clamp(10 - median(bm_model).memory / 100, 0, 10)"
   ]
  },
  {
   "cell_type": "markdown",
   "metadata": {},
   "source": [
    "## Q5. (30 pts) Starting point\n",
    "\n",
    "For numerical optimization, a good starting point is critical. Let's start $\\boldsymbol{\\beta}$ and $\\sigma^2$ from the least squares solutions (ignoring intra-individual correlations)\n",
    "\\begin{eqnarray*}\n",
    "\\boldsymbol{\\beta}^{(0)} &=& \\left(\\sum_i \\mathbf{X}_i^T \\mathbf{X}_i\\right)^{-1} \\left(\\sum_i \\mathbf{X}_i^T \\mathbf{y}_i\\right) \\\\\n",
    "\\sigma^{2(0)} &=& \\frac{\\sum_i \\|\\mathbf{r}_i^{(0)}\\|_2^2}{\\sum_i n_i} = \\frac{\\sum_i \\|\\mathbf{y}_i - \\mathbf{X}_i \\boldsymbol{\\beta}^{(0)}\\|_2^2}{\\sum_i n_i}.\n",
    "\\end{eqnarray*}\n",
    "To get a reasonable starting point for $\\boldsymbol{\\Sigma} = \\mathbf{L} \\mathbf{L}^T$, we can minimize the least squares criterion (ignoring the noise variance component)\n",
    "$$\n",
    "    \\text{minimize} \\sum_i \\| \\mathbf{r}_i^{(0)} \\mathbf{r}_i^{(0)T} - \\mathbf{Z}_i \\boldsymbol{\\Sigma} \\mathbf{Z}_i^T \\|_{\\text{F}}^2.\n",
    "$$\n",
    "Derive the minimizer $\\boldsymbol{\\Sigma}^{(0)}$ (10 pts). \n",
    "\n",
    "We implement this start point strategy in the function `init_ls()`."
   ]
  },
  {
   "cell_type": "markdown",
   "metadata": {},
   "source": [
    "### Solution"
   ]
  },
  {
   "cell_type": "markdown",
   "metadata": {},
   "source": [
    "Firstly we derive the minimizer $\\boldsymbol{\\Sigma}^{(0)}$.\n",
    "$$\n",
    "\\begin{eqnarray*}\n",
    "\\frac{\\partial \\sum_i ||r_i^{(0)}r_i^{(0)T} - Z_i \\boldsymbol{\\Sigma} Z_i^T||_F^2}{\\partial \\boldsymbol{\\Sigma}}  \n",
    "&=& \\frac{\\partial \\sum_i tr\\big[(r_i^{(0)}r_i^{(0)T} - Z_i \\boldsymbol{\\Sigma} Z_i^T)^T (r_i^{(0)}r_i^{(0)T} - Z_i \\boldsymbol{\\Sigma} Z_i^T) \\big]}{\\partial \\boldsymbol{\\Sigma}}\n",
    "\\\\\n",
    "&=&\\sum_i\\frac{\\partial}{\\partial \\boldsymbol{\\Sigma}}tr\\big(r_i^{(0)}r_i^{(0)T}r_i^{(0)}r_i^{(0)T} - r_i^{(0)}r_i^{(0)T}Z_i \\boldsymbol{\\Sigma} Z_i^T - Z_i \\boldsymbol{\\Sigma} Z_i^T r_i^{(0)}r_i^{(0)T} + Z_i \\boldsymbol{\\Sigma} Z_i^T Z_i \\boldsymbol{\\Sigma} Z_i^T \\big)\n",
    "\\\\\n",
    "&=&\n",
    "\\sum_i \\big(-2 Z_i^T r_i^{(0)}r_i^{(0)T} Z_i + 2 Z_i^T Z_i \\boldsymbol{\\Sigma}Z_i^T Z_i \\big)\n",
    "\\end{eqnarray*}\n",
    "$$"
   ]
  },
  {
   "cell_type": "markdown",
   "metadata": {},
   "source": [
    "To find the minimizer $\\boldsymbol{\\Sigma}^{(0)}$, we let this first derivative to be 0, then we can obtain that\n",
    "$$\n",
    "\\begin{eqnarray*}\n",
    "\\sum_i \\big(-2 Z_i^T r_i^{(0)}r_i^{(0)T} Z_i + 2 Z_i^T Z_i \\boldsymbol{\\Sigma}Z_i^T Z_i \\big) &=& 0\n",
    "\\\\\n",
    "\\sum_i \\big(2 Z_i^T Z_i \\boldsymbol{\\Sigma}Z_i^T Z_i \\big) &=& \\sum_i \\big(2 Z_i^T r_i^{(0)}r_i^{(0)T} Z_i\\big)\n",
    "\\\\\n",
    "\\sum_i \\big(Z_i^T Z_i \\otimes Z_i^T Z_i \\big) Vec(\\boldsymbol{\\Sigma}) &=& \\sum_i \\big(Z_i^T r_i^{(0)} \\otimes Z_i^T r_i^{(0)}\\big)\n",
    "\\\\\n",
    "Vec(\\boldsymbol{\\Sigma}) &=& \\bigg(\\sum_i Z_i^T Z_i \\otimes Z_i^T Z_i \\bigg)^{-1}  \\sum_i \\big(Z_i^T r_i^{(0)} \\otimes Z_i^T r_i^{(0)}\\big)\n",
    "\\end{eqnarray*}\n",
    "$$"
   ]
  },
  {
   "cell_type": "code",
   "execution_count": 34,
   "metadata": {
    "tags": []
   },
   "outputs": [
    {
     "data": {
      "text/plain": [
       "init_ls!"
      ]
     },
     "execution_count": 34,
     "metadata": {},
     "output_type": "execute_result"
    }
   ],
   "source": [
    "\"\"\"\n",
    "    init_ls!(m::LmmModel)\n",
    "\n",
    "Initialize parameters of a `LmmModel` object from the least squares estimate. \n",
    "`m.β`, `m.L`, and `m.σ²` are overwritten with the least squares estimates.\n",
    "\"\"\"\n",
    "function init_ls!(m::LmmModel{T}) where T <: AbstractFloat\n",
    "    p, q = size(m.data[1].X, 2), size(m.data[1].Z, 2)\n",
    "    # TODO: fill m.β, m.L, m.σ² by LS estimates\n",
    "    \n",
    "    #β, σ²\n",
    "    m.xtx .= T(0)\n",
    "    m.xty .= T(0)\n",
    "    m.σ²[1] = T(0)\n",
    "    nsum = T(0)\n",
    "    for i in eachindex(m.data)\n",
    "        m.xtx .+= m.data[i].xtx\n",
    "        m.xty .+= m.data[i].xty\n",
    "        m.σ²[1] += m.data[i].yty\n",
    "        nsum += size(m.data[i].X, 1)\n",
    "    end\n",
    "    copy!(m.xtxL, m.xtx)\n",
    "    LAPACK.potrf!('U', m.xtxL)\n",
    "    copy!(m.β, m.xty)\n",
    "    LAPACK.potrs!('U', m.xtxL, m.β) #Derive β^0\n",
    "    \n",
    "    for ind in 1 : length(m.xty)\n",
    "        m.σ²[1] -= T(2) * m.xty[ind] * m.β[ind]\n",
    "    end\n",
    "    \n",
    "    m.σ²[1] += dot(m.β, m.xtx, m.β)\n",
    "    m.σ²[1] /= nsum #Derive σ²^0\n",
    "    \n",
    "    #Σ\n",
    "    m.ztz2 .= 0\n",
    "    m.ztr2 .= 0\n",
    "    for i in eachindex(m.data)\n",
    "        kron!(m.ztz, m.data[i].ztz, m.data[i].ztz)\n",
    "        m.ztz2 .+= m.ztz\n",
    "        \n",
    "        copy!(m.data[i].ztr, m.data[i].zty)\n",
    "        BLAS.gemv!('N', T(-1), m.data[i].ztx, m.β, T(1), m.data[i].ztr)\n",
    "        kron!(m.ztr, m.data[i].ztr, m.data[i].ztr)\n",
    "        m.ztr2 .+= m.ztr\n",
    "    end\n",
    "    LAPACK.potrf!('U', m.ztz2)\n",
    "    LAPACK.potrs!('U', m.ztz2, m.ztr2)\n",
    "    m.L .= reshape(m.ztr2, q, q) #In fact, this is Σ\n",
    "    #L (Choleski on Σ)\n",
    "    LAPACK.potrf!('L', m.L)\n",
    "\n",
    "    m\n",
    "end"
   ]
  },
  {
   "cell_type": "code",
   "execution_count": 36,
   "metadata": {
    "scrolled": true
   },
   "outputs": [
    {
     "data": {
      "text/plain": [
       "LmmModel{Float64}(LmmObs{Float64}[LmmObs{Float64}([9.521023249706317, 24.406297024789158, -1.992150634255256, -17.423290286034167, -0.07042445269216652, -0.8533569877048606, -1.8006116037339517, 5.881192242987713, -9.205036289728941, -11.29090470959752  …  -5.306584442829601, 9.922217469209349, -13.366464750701377, 1.8194598887663256, -29.149211701096906, -10.28621984730517, 20.92671261185714, -4.98169520954077, -9.437755084244507, 5.566113359971358], [1.0 0.20182117215418202 … 0.7977309681335266 0.7335699348334255; 1.0 1.5855722470104299 … 1.1978728298778125 1.431493659598604; … ; 1.0 -1.5722030632999366 … 0.24671153609354143 -1.4376990323846712; 1.0 1.5066232996699294 … -0.1306352688016911 -0.30435163849762226], [1.0 0.6854758119591305 -0.5696216887765592; 1.0 1.639624749319353 0.36905265564950396; … ; 1.0 -2.3048326615626253 0.17566746063933703; 1.0 0.6446481244682399 -0.019149020674580464], [1.5616e-319, 7.29290207864362e-304, 5.43230922614e-312, 2.211657532e-314, 5.0e-324], [0.0], [2.998767366e-314 2.5339164857e-314 2.5003702347e-314; 2.998767374e-314 2.3501514565e-314 2.5339164857e-314; 2.99876735e-314 2.5003702347e-314 2.76236e-318], 146309.77769609197, [723.8828087969728, 11466.574389201602, -6183.3934595750525, 2037.2894072211998, 8721.256939693056], [723.8828087969723, -1391.023901132781, -174.48179319410718], [-1261.3040130543761, -11351.486270682508, 6211.630738843175, -2144.8083010229648, -8707.184640480002], [10.928338089403802, -44.49791113971641, -13.992521955561031], [2.4647541964e-314, 2.845506084e-314, 2.211918873e-314], [NaN, 2.464971443e-314, 2.490955605e-314], [2.2119695956e-314, 2.212014283e-314, 2.2122558335e-314, 2.211919446e-314, 2.2119896705e-314, 2.2119213353e-314, 2.211921268e-314, 2.211935363e-314, 2.2119352956e-314, 2.21196673e-314  …  2.276784716e-314, 6.94068450192683e-310, 6.94068456183605e-310, 2.121995823e-314, 0.0, 4.152e-320, 2.69917864612e-311, 0.0, 0.0, 0.0], [537.4212042574028, -1832.2411705128768, -440.9888088429612], [1784.0 -23.162288746930813 … 44.23412390004318 17.301680902172976; -23.162288746930813 1771.0769409229893 … 10.88678775151986 19.92717576951886; … ; 44.23412390004318 10.88678775151986 … 1763.603340530562 -0.8004207268864931; 17.301680902172976 19.92717576951886 … -0.8004207268864931 1754.0036453976952], [1784.0 -23.162288746930813 … 44.23412390004318 17.301680902172976; 22.83729020171297 39.69827982105005 … -2.201347454263267 7.755962277009289; 11.878869735337405 93.48458185450201 … -92.6352976417118 -57.178013968581936], [1784.0 22.83729020171298 11.878869735337403; 22.83729020171298 1740.0569266748769 -0.2113979423081611; 11.878869735337403 -0.2113979423081611 1832.537594883946], [58.89849340401573 2.2344152267646766 1.5042801450373828; 131.60369049543164 46.465834160995435 -2.758126209519729; 88.5998342002761 -124.79744858524737 40.57412726749252], [2511.61024377574 121.8930815084114 91.1684472162318; 25.020474545664833 1969.7230546191006 -128.41547285907978; 11.544190135665586 -0.20544193973557023 1780.9070136667092], [2.4657914813e-314 2.4657914813e-314 2.4657914813e-314; 2.4657914813e-314 2.4657914813e-314 2.349288889e-314; 2.4657914813e-314 2.4657914813e-314 2.4657914813e-314], [2.5003744955e-314 2.48413802e-314 2.5339164857e-314; 2.5339164857e-314 2.5003744955e-314 2.999345889e-314; 2.5339164857e-314 2.5339164857e-314 2.5003744955e-314], [0.0 0.0 0.0; 0.0 0.0 0.0; 0.0 0.0 0.0]), LmmObs{Float64}([29.999085396317955, -14.77980263605757, -9.578381988755972, -2.40853494016714, 3.9262995067294564, -9.431333641198894, -4.216307455141835, -8.349192873609852, 21.700799433355375, -17.13567418458769  …  0.6420505638987768, -6.898336234317516, -15.036127969576015, -11.431366618536451, 3.9357548572159438, -1.604244463782763, 10.03827065445413, -0.26680997972651305, -5.393100376227626, -20.398561602656777], [1.0 2.7814038733367488 … 2.2262224490419196 1.201573471237309; 1.0 0.054615739747882905 … -1.285105734917364 -1.7593573840707482; … ; 1.0 -0.00641011339953309 … -1.227799908732964 -1.4919373523314294; 1.0 -1.3689529632899962 … -0.02953648807254162 -1.289972801478482], [1.0 -0.6464757869303711 -1.8179863477042448; 1.0 -2.001072485280337 -0.9906093944068047; … ; 1.0 0.7548888001126883 2.5806302497263682; 1.0 0.4466734377478559 -0.18219687300570672], [0.0, 2.5003703453e-314, 2.9979703866e-314, 0.0, 1.467197e-318], [0.0], [2.998769674e-314 0.0 2.5339164857e-314; 0.0 2.99876969e-314 5.0e-324; 2.998769682e-314 0.0 1.0e-323], 160019.99904241736, [-800.1572787220175, 12452.278552977448, -7179.850772476675, 1748.739224772032, 9753.27534369341], [-800.1572787220182, 446.3932080201934, -342.6333903033327], [1.265e-321, 0.0, 0.0, 0.0, 0.0], [2.211657923e-314, 2.2116588797e-314, 1.5e-323], [2.2119188926e-314, 2.211910541e-314, 2.211921181e-314], [2.988517994e-314, 2.9885180175e-314, 0.0], [3.5e-323, 3.5e-323, 2.3499442177e-314, 2.3499442493e-314, 4.0e-323, 4.0e-323, 2.349944281e-314, 2.3499443125e-314, 0.0, 0.0  …  NaN, 0.0, NaN, NaN, 0.0, NaN, NaN, 0.0, NaN, NaN], [-1594.5740857272071, 483.15583239009754, -495.3395898775833], [1970.0 21.114697871759567 … -5.637031757301731 46.43184357249843; 21.114697871759567 1876.961670302101 … 75.45875678057608 20.45894379132483; … ; -5.637031757301731 75.45875678057608 … 1988.397095808537 -119.06231955109965; 46.43184357249843 20.45894379132483 … -119.06231955109965 1940.7692473965567], [1970.0 21.114697871759567 … -5.637031757301731 46.43184357249843; 11.355225813575046 -30.70734380616107 … 18.75195120388186 1.407870126245335; 75.90323326874443 -3.627275588808068 … -106.89415934593227 -6.372918648417567], [1970.0 11.355225813575078 75.90323326874443; 11.355225813575078 2069.4064252642333 -13.180385552649835; 75.90323326874443 -13.180385552649835 2084.6166605414805], [2.330285496e-314 2.998864084e-314 2.998864108e-314; 2.9988640684e-314 2.3302855274e-314 2.998864116e-314; 2.3302855116e-314 2.330285543e-314 1.0573815e-317], [2.5003744955e-314 2.5003744955e-314 2.5003744955e-314; 2.5003744955e-314 2.5003702347e-314 2.5003744955e-314; 2.5003702347e-314 2.491885997e-314 1.0e-323], [2.330285654e-314 2.9988641553e-314 2.998864163e-314; 2.9988641474e-314 2.3302856697e-314 2.998864116e-314; 2.2117304125e-314 2.3302856065e-314 2.5003744955e-314], [2.5003744955e-314 2.5003744955e-314 2.5003744955e-314; 2.5003744955e-314 2.5003702347e-314 2.5003744955e-314; 2.998864195e-314 2.3302858594e-314 4.4e-323], [2.4657914813e-314 2.4657914813e-314 2.4657914813e-314; 2.4657914813e-314 2.4657914813e-314 2.4657914813e-314; 2.4657914813e-314 2.4657914813e-314 1.0e-323]), LmmObs{Float64}([8.905527361123497, -4.625933615939271, -14.650064682749301, 4.621946921525973, -6.654349698492063, 0.44082412431810236, -4.2990166726226775, 0.615909437411269, 6.328032107133916, 3.8557346253860434  …  -6.019366790510363, 9.860942590288504, 12.793728775285336, 15.171530392494443, -3.6844594988517274, -1.3968831082944064, -15.264962768934474, 10.937944861766475, 5.032178436749299, -24.229287572422102], [1.0 -0.17359899234814022 … 0.45233810216104653 -0.34781017470093506; 1.0 -0.7565835904240517 … 0.15570872937014388 -0.2538693129989486; … ; 1.0 0.3510724892761085 … -2.8332647855846984 0.3676021945637638; 1.0 -1.1813497815451937 … -0.8479759901595169 -1.7647299289112743], [1.0 0.5332259832746318 -0.6704875562536455; 1.0 -1.3856128611443521 0.7324973587942224; … ; 1.0 -0.6824301289609721 -1.5153053048875638; 1.0 0.5980502815654574 1.27773230868559], [2.1225351076e-314, 0.0, 4.0e-323, 0.0, 0.0], [2.2116591643e-314], [5.0e-324 5.0e-324 5.0e-324; 0.0 0.0 0.0; 0.0 5.0e-324 0.0], 145462.98482773127, [1391.9858979504684, 11476.482852094476, -5391.027793417286, 1313.7159019574774, 8825.855240368386], [1391.9858979504675, -2290.212642250831, -210.28794696504366], [5.0e-324, 1.5e-323, 2.997599047e-314, 2.9975990785e-314, 4.95825e-319], [6.0e-323, 6.4e-323, 0.0], [2.9877428167e-314, 2.845506084e-314, 2.845506084e-314], [2.988510484e-314, 2.211657532e-314, 2.9885105473e-314], [2.2116588797e-314, 2.211659022e-314, 2.2116591643e-314, 2.2116593066e-314, 2.211659449e-314, 2.211659591e-314, 2.2116597335e-314, 2.2116598757e-314, 2.211660018e-314, 2.2116601603e-314  …  0.17970061232482087, 0.3799043722607671, 0.18569668233085232, 0.5400884621391645, 0.3084130175542353, 0.6670592763921706, 0.29763261587087364, 0.43380436926510085, 0.3865309621545588, 0.09818243792938525], [1397.3465899730109, -1965.867295233994, -213.63461681821462], [1694.0 -3.979716777182537 … 24.152813942650553 -48.83514725945952; -3.979716777182537 1768.947442427399 … -25.320235640059067 36.12222682901489; … ; 24.152813942650553 -25.320235640059067 … 1662.7415602644935 -50.11481158467456; -48.83514725945952 36.12222682901489 … -50.11481158467456 1729.9988290189908], [1694.0 -3.9797167771825386 … 24.152813942650553 -48.83514725945952; -29.886441334951574 -3.653959372640367 … -18.146960217213792 -18.835643699186935; 8.539016582137481 -33.676853218815374 … 0.3941716627405487 35.70244145523761], [1694.0 -29.88644133495155 8.539016582137489; -29.88644133495155 1619.921344952489 23.08194253152393; 8.539016582137489 23.08194253152393 1685.4433411817954], [2.5003702347e-314 2.5003744955e-314 2.464786536e-314; 2.500370203e-314 2.5003702347e-314 2.5003744955e-314; 2.5003744955e-314 2.5003702347e-314 1.6e-322], [2.3302860966e-314 2.998864274e-314 2.3302865867e-314; 2.3302861124e-314 2.211730555e-314 2.9988643134e-314; 2.3302861914e-314 2.211730555e-314 1.33e-322], [2.5003702347e-314 2.5003744955e-314 2.9988644557e-314; 2.500370203e-314 2.998864021e-314 2.5003744955e-314; 2.5003744955e-314 2.998864021e-314 2.76236e-318], [2.4657914813e-314 2.4657914813e-314 2.4657914813e-314; 2.4657914813e-314 2.4657914813e-314 2.4657914813e-314; 2.4657914813e-314 2.4657914813e-314 0.0], [5.0e-324 0.0 5.0e-324; 5.0e-324 0.0 5.0e-324; 5.0e-324 5.0e-324 0.0]), LmmObs{Float64}([-8.493433832611812, 6.014957334960778, -10.166207227595827, 1.8128068520585936, -10.68887484527337, 1.9360522976513554, -9.693867480920808, 1.341993969931852, 6.023444137499421, 0.8641502809080513  …  16.59042424810945, -20.819486011821724, -3.620946806581436, -25.48230011069405, 9.810487212117755, 0.2813489493349307, -2.5957833331229763, 10.033492025988235, 11.79249474902705, 1.3817003556034877], [1.0 -0.691260794854421 … -0.4277423703597137 -0.20925065940816254; 1.0 -1.3623036591939857 … 0.2312032667968157 1.6688860287532052; … ; 1.0 0.2047183703232986 … 0.062008893538532096 0.2957520312036848; 1.0 -0.16209442413625336 … 0.12637733252186395 -0.16337544679283023], [1.0 -0.13537237156483042 0.6009514088769826; 1.0 -0.632362883745894 -0.1455329926300304; … ; 1.0 -0.7957342785267102 1.065925728309307; 1.0 -1.8836341000844428 -1.9426228842622764], [0.0, 1.0e-323, 1.0e-323, 2.5003744955e-314, 2.5003744955e-314], [2.2116641445e-314], [2.348925739e-314 2.348927897e-314 2.348928063e-314; 2.3489257626e-314 2.348927968e-314 2.3489280867e-314; 2.3489257863e-314 2.348928039e-314 2.3489281104e-314], 150237.0508485926, [277.17043332152696, 12163.805129240303, -6036.195147316015, 1772.299808141623, 8969.753092853676], [277.1704333215269, -1026.8798447112956, -449.36395817922335], [2.76236e-318, 0.0, 0.0, 0.0, 0.0], [2.987742943e-314, 2.4997160997e-314, 0.0], [2.9877429353e-314, 2.987742943e-314, 0.0], [4.0e-323, 4.4e-323, 6.0e-323], [2.2119695956e-314, 2.212014283e-314, 2.2122558335e-314, 2.211919446e-314, 2.2119896705e-314, 2.2119213353e-314, 2.211921268e-314, 2.211935363e-314, 2.2119352956e-314, 2.21196673e-314  …  8.4879831644e-314, NaN, 0.0, 0.0, 0.0, 0.0, 1.047e-321, 6.94068895284487e-310, 1.117e-321, 0.0], [-177.46816040234813, -906.7069072689225, -515.7322944295165], [1909.0 40.75213452296954 … -16.8135176351226 -34.400501814632726; 40.75213452296954 1884.5485192994734 … -30.56463674014761 9.40227125520278; … ; -16.8135176351226 -30.56463674014761 … 1873.007128716648 -8.943292347141211; -34.400501814632726 9.40227125520278 … -8.943292347141211 1835.5595670613782], [1909.0 40.75213452296954 … -16.8135176351226 -34.40050181463273; -52.41578330113774 -11.56973685598342 … -1.6970443123709638 13.761100316830179; -9.804075332900243 -14.570465721440339 … -47.078819995764604 67.17412051806355], [1909.0 -52.415783301137715 -9.804075332900243; -52.415783301137715 1878.6345035464608 45.40274193059985; -9.804075332900243 45.40274193059985 1956.87678291622], [2.348925739e-314 2.348927897e-314 2.348928063e-314; 2.3489257626e-314 2.348927968e-314 2.3489280867e-314; 2.3489257863e-314 2.348928039e-314 2.3489281104e-314], [2.3515248167e-314 2.9988685347e-314 2.9988685584e-314; 2.998868519e-314 2.3515248483e-314 2.9988685663e-314; 2.3515248325e-314 2.351524864e-314 4.4e-323], [2.5003744955e-314 2.5003744955e-314 2.5003744955e-314; 2.5003744955e-314 2.5003702347e-314 2.5003744955e-314; 2.5003702347e-314 2.491885997e-314 4.0e-323], [2.351524959e-314 2.998868606e-314 2.998868614e-314; 2.998868598e-314 2.351524975e-314 2.9988685663e-314; 2.2117304125e-314 2.3515249273e-314 0.0], [2.5003744955e-314 2.5003744955e-314 2.5003744955e-314; 2.5003744955e-314 2.5003702347e-314 2.5003744955e-314; 2.9988686454e-314 2.3515251487e-314 2.76236e-318]), LmmObs{Float64}([-2.685425982842493, -1.1571629062261435, 22.44353912729133, 0.9842072587217474, -13.970245059423227, 1.0412334626922757, -9.37056914391673, -14.640726626778537, -2.982531943407673, -8.408543541120354  …  15.043524212264492, -3.9666118769883068, 6.979268711391743, 0.07774296106445289, -5.103632302583038, 15.087706944279347, 10.843029800567141, -6.653336209414501, 9.974775725008895, -22.92866456403652], [1.0 0.04398527079058132 … -0.32012600306738453 0.018633902372880224; 1.0 -1.7861667512422907 … -1.321969224110812 1.4982005461486627; … ; 1.0 1.4266309575559464 … -1.9643455070794795 1.3248971655791837; 1.0 -1.6112090631302791 … -0.9822948235498755 -2.3268519130172765], [1.0 -0.1839520739482883 -1.3002547258339432; 1.0 0.8234965736332073 -0.6785676178715576; … ; 1.0 -0.7877951917688745 0.7644184545586709; 1.0 0.3438365079813982 -1.960750369187862], [4.0e-323, 2.465742367e-314, 2.997971426e-314, 1.0e-323, 2.782597e-318], [0.0], [2.4657914813e-314 2.4657914813e-314 2.4657914813e-314; 2.4657914813e-314 2.4657914813e-314 2.4657914813e-314; 2.4657914813e-314 2.4657914813e-314 0.0], 150744.94818907237, [3411.055550009203, 11713.389942548227, -6404.946601698786, 1094.6171364326158, 8155.8296097348775], [3411.0555500092037, -1508.806679464934, 1095.099320795688], [1.5616e-319, 7.750384244470473e-304, 5.43230922614e-312, 2.211657532e-314, 5.0e-324], [0.0, 0.0, 0.0], [2.2116578837e-314, 2.2116580655e-314, 0.0], [0.0, 0.0, 0.0], [4.243991582e-314, 6.9407031879358e-310, NaN, 0.0, 5.21501790992776e-310, 5.21501697595036e-310, 8.0e-323, 4.2439915821e-313, 4.5818707794606e-310, 0.0  …  6.9407030159725e-310, 2.121995791e-314, 2.54639494916e-313, 5.21501894159533e-310, 6.9407030159741e-310, 4.243991582e-314, 5.4e-323, 5.2e-322, 0.0, 6.94070301597605e-310], [3078.0299771490572, -1208.3505012411038, 991.2780609405668], [1797.0 -21.988233167393027 … -19.45784091205397 15.852404024069024; -21.988233167393027 1830.7268110244431 … -50.731522469390356 -26.91181841237907; … ; -19.45784091205397 -50.731522469390356 … 1716.5803810909408 -84.4061935764525; 15.852404024069024 -26.91181841237907 … -84.4061935764525 1729.9973129189198], [1797.0 -21.98823316739302 … -19.457840912053975 15.852404024069026; 44.09978015531986 -34.570730487043775 … 11.930483934884688 -1.2684357790849345; 18.957719919311316 -56.971407513685214 … -4.814272999850747 55.5705323579633], [1797.0 44.099780155319834 18.957719919311305; 44.099780155319834 1722.9617446370617 -38.55397468963915; 18.957719919311305 -38.55397468963915 1780.3842306792312], [2.3515252593e-314 2.9988687244e-314 2.351525354e-314; 2.351525275e-314 2.3515253226e-314 2.998868764e-314; 2.351525291e-314 2.3515253384e-314 2.76236e-318], [2.5003702347e-314 2.5003744955e-314 2.464786536e-314; 2.500370203e-314 2.5003702347e-314 2.5003744955e-314; 2.5003744955e-314 2.5003702347e-314 7.0e-323], [2.351525386e-314 2.9988687244e-314 2.35152586e-314; 2.3515254016e-314 2.211730555e-314 2.998868764e-314; 2.3515254807e-314 2.211730555e-314 0.0], [2.5003702347e-314 2.5003744955e-314 2.9988689063e-314; 2.500370203e-314 2.9988684715e-314 2.5003744955e-314; 2.5003744955e-314 2.9988684715e-314 1.5e-323], [2.4657914813e-314 2.4657914813e-314 2.4657914813e-314; 2.4657914813e-314 2.4657914813e-314 2.4657914813e-314; 2.4657914813e-314 2.4657914813e-314 0.0]), LmmObs{Float64}([-3.52652729208935, 13.70165373904941, -2.3539866802755993, -12.921738654144105, -21.577280096164902, 0.045093810498169296, 5.833915315282749, -4.083721431037551, -0.005301460880468123, -8.51726794280644  …  7.484479987174159, 0.11836563789621066, -0.5601980856010955, 2.3533937329590775, -5.499344179991263, -1.0534825780460029, 12.53560064235391, -11.891521419690307, -13.719693187076997, -0.05330358832008203], [1.0 -0.9380816790205055 … 2.0381605239028744 0.3900451243928331; 1.0 1.2618028426299024 … -0.025882739655705925 1.7361740555293694; … ; 1.0 -1.0329319164033819 … -0.6688569003045118 -0.5491187502218332; 1.0 -0.5599993714491734 … -0.07498087790975225 1.302773041066118], [1.0 -0.06253416599333525 -0.32169431998504516; 1.0 -0.7823221389711643 1.3220391132991725; … ; 1.0 -1.5963154285696486 -0.420206675494717; 1.0 1.542122750520972 0.12490829749949471], [1.2e-322, 0.0, 0.0, 0.0, 0.0], [0.0], [5.0e-324 0.0 5.0e-324; 5.0e-324 0.0 5.0e-324; 5.0e-324 5.0e-324 0.0], 151246.73073779914, [-2405.0097228399845, 11595.79982483782, -6419.751959418556, 2533.669517267802, 9044.576583426493], [-2405.009722839982, 205.51978340333784, -833.3404312175551], [0.0, 0.0, 0.0, 0.0, 0.0], [NaN, 2.4899365485e-314, 1.27e-321], [2.9885436694e-314, 2.9885436773e-314, 0.0], [2.2119190784e-314, 2.2119188926e-314, 0.0], [2.2119695956e-314, 2.212014283e-314, 2.2122558335e-314, 2.211919446e-314, 2.2119896705e-314, 2.2119213353e-314, 2.211921268e-314, 2.211935363e-314, 2.2119352956e-314, 2.21196673e-314  …  NaN, NaN, 6.9406887389524e-310, 6.9406885072862e-310, NaN, 6.9406889526504e-310, NaN, NaN, NaN, NaN], [-2197.078382829508, -645.11902803106, -920.5677600335404], [1785.0 -18.265709332544496 … 67.44673038120854 -90.68627514038043; -18.265709332544496 1750.5238370914383 … 21.65515326811513 20.89207703340753; … ; 67.44673038120854 21.65515326811513 … 1901.5320995247248 77.08305706929269; -90.68627514038043 20.89207703340753 … 77.08305706929269 1763.8883258559808], [1785.0 -18.265709332544496 … 67.44673038120852 -90.68627514038043; -17.311545073453907 38.91783178675058 … 49.97534457741439 76.23412797200517; 16.627051196549292 13.167477899307505 … -14.057003478383347 33.35856280860081], [1785.0 -17.3115450734539 16.627051196549285; -17.3115450734539 1818.6067378301054 0.07323951814215235; 16.627051196549285 0.07323951814215235 1780.7786115448414], [2.348521024e-314 2.348521095e-314 2.34852119e-314; 2.3485210477e-314 2.348521119e-314 2.3485212137e-314; 2.3485210714e-314 2.3485211426e-314 2.3485212375e-314], [4.083548764187966e233 4.083548764187966e233 4.083548764187966e233; 4.083548764187966e233 4.083548764187966e233 2.385955424255e-312; 4.083548764187966e233 4.083548764187966e233 2.76236e-318], [2.330285654e-314 2.9988641553e-314 2.998864163e-314; 2.9988641474e-314 2.3507842557e-314 2.998864116e-314; 2.2117304125e-314 2.3507842715e-314 1.48539705387e-313], [2.5003744955e-314 2.5003744955e-314 2.5003744955e-314; 2.5003744955e-314 2.5003702347e-314 2.5003744955e-314; 2.998864195e-314 2.3302858594e-314 0.0], [2.4657914813e-314 2.4657914813e-314 2.4657914813e-314; 2.4657914813e-314 2.4657914813e-314 2.4657914813e-314; 2.4657914813e-314 2.4657914813e-314 4.4e-323]), LmmObs{Float64}([8.40021291892152, -3.20851207560273, -5.916153000964284, -4.67698028565396, 12.2357263462453, -13.112724417879502, 5.205061700799168, 2.1291953312170406, -3.1819868146172574, 2.6498919446551756  …  1.0730515143517805, -4.345046542479958, 12.029347602853555, -3.83666781811093, -1.7853485858154228, -12.986126130906495, -4.285069603052282, 6.253381735319315, 0.4818463273873137, -18.622661001680033], [1.0 1.8158991692464344 … -0.8660368002298433 -1.2659356850690588; 1.0 -0.42265047114149457 … -1.6377037550454308 0.7859285187427357; … ; 1.0 0.37003571735015817 … -0.6487080766384429 1.0652580805460343; 1.0 -0.8507639394189159 … 1.1691798892538023 -1.8271952725845024], [1.0 1.555689663838621 1.1689225807458925; 1.0 0.3222197802754474 1.0028391713061686; … ; 1.0 1.3724748369542852 -0.8700065076819534; 1.0 0.3188608766099764 -0.47730850194739904], [1.255e-321, 1.6e-322, 1.6e-322, 0.0, 0.0], [0.0], [2.350784335e-314 2.998864274e-314 2.3302865867e-314; 2.3507843506e-314 2.211730555e-314 2.9988643134e-314; 2.3302861914e-314 2.211730555e-314 0.0], 168403.0512263919, [-2565.743701904153, 12541.590412125772, -6913.32997604668, 1708.1676737816965, 9565.360374436625], [-2565.7437019041545, -3105.263519590249, -1724.7875384470808], [2.0e-323, 3.5e-323, 4.4e-323, 5.0e-323, 6.0e-323], [0.0, 5.0e-324, 0.0], [2.988774576e-314, 2.988774584e-314, 0.0], [0.0, 0.0, 0.0], [2.2119695956e-314, 2.212014283e-314, 2.2122558335e-314, 2.211919446e-314, 2.2119896705e-314, 2.2119213353e-314, 2.211921268e-314, 2.211935363e-314, 2.2119352956e-314, 2.21196673e-314  …  0.0, 0.0, 0.0, 0.0, 0.0, 0.0, 0.0, 0.0, 0.0, 0.0], [-2183.68131531731, -3355.287380799136, -2158.7949616518085], [1854.0 -77.87978195686678 … 14.93780296742925 -50.92131808692543; -77.87978195686678 1903.7194942921824 … -3.3628661170558587 2.7630361798333; … ; 14.93780296742925 -3.3628661170558587 … 1823.7070051505555 -18.020489523525654; -50.92131808692543 2.7630361798333 … -18.020489523525654 1930.4968767642076], [1854.0 -77.87978195686676 … 14.937802967429246 -50.92131808692543; 21.34978403633936 41.140966421280304 … 0.1477415236585884 5.171224707341771; 13.289997016923545 12.28711197854549 … 57.47744079073874 62.42838687410816], [1854.0 21.349784036339294 13.289997016923536; 21.349784036339294 1802.5054982710403 -48.940863367427355; 13.289997016923536 -48.940863367427355 1883.8557835044428], [2.4657914813e-314 2.4657914813e-314 2.4657914813e-314; 2.4657914813e-314 2.4657914813e-314 2.4657914813e-314; 2.4657914813e-314 2.4657914813e-314 2.76236e-318], [2.348925739e-314 2.348927897e-314 2.348928063e-314; 2.3489257626e-314 2.348927968e-314 2.3489280867e-314; 2.3489257863e-314 2.348928039e-314 2.3489281104e-314], [2.351524959e-314 2.998868606e-314 2.998868614e-314; 2.998868598e-314 2.3507641453e-314 2.9988685663e-314; 2.2117304125e-314 2.3507641927e-314 0.0], [2.5003744955e-314 2.5003744955e-314 2.5003744955e-314; 2.5003744955e-314 2.5003702347e-314 2.5003744955e-314; 2.9988686454e-314 2.3515251487e-314 2.782597e-318], [2.4657914813e-314 2.4657914813e-314 2.4657914813e-314; 2.4657914813e-314 2.4657914813e-314 2.4657914813e-314; 2.4657914813e-314 2.4657914813e-314 6.3659873754e-314]), LmmObs{Float64}([-25.79940555772201, 8.673509830215783, 5.306376447035959, -1.3907505768539483, 9.844612937289265, -2.9524803592125544, 5.432951654560883, -11.093366049926377, -5.036096986529359, 3.8055650795429488  …  -7.102982215128661, 8.615125997964986, 0.721627938258308, -3.4127082330770664, -2.389518879093211, -2.867727029161549, -21.942802519665705, -14.112803391148292, 4.283472098306603, -5.851879461737656], [1.0 -2.0604711733821457 … -0.7288581790583507 -1.7781682762475741; 1.0 1.5240747532386236 … -0.8402199746289216 0.7604871958152803; … ; 1.0 0.4930102075265857 … 0.7767791335359724 0.1850264870490668; 1.0 0.9418448476494305 … -0.04231401911445287 -1.9200945222741241], [1.0 -2.4182660639001186 -0.48398198078249144; 1.0 0.6816372030746315 1.681438363750053; … ; 1.0 0.9703377908296427 -0.7921876292024314; 1.0 -1.2772221416043523 -0.8270615912738525], [4.0e-323, 0.0, 0.0, 0.0, 0.0], [0.0], [2.3507642876e-314 2.9988687244e-314 2.35152586e-314; 2.3507643034e-314 2.211730555e-314 2.998868764e-314; 2.3515254807e-314 2.211730555e-314 0.0], 167698.72445777457, [-3306.7616388836104, 12873.604380643344, -6865.982555434113, 2438.078217935871, 9625.022322930161], [-3306.7616388836122, 1182.2067623137928, 1421.3609311803975], [5.0e-324, 1.0e-323, 2.3292031363e-314, 2.329203168e-314, 0.0], [0.0, 0.0, 0.0], [0.0, 0.0, 0.0], [0.0, 0.0, 0.0], [5.0e-324, 5.0e-324, 5.0e-324, 5.0e-324, 0.0, 0.0, 0.0, 0.0, 0.0, 0.0  …  NaN, 9.0e-323, NaN, 1.24e-322, NaN, 3.5e-323, NaN, 5.21501920602084e-310, NaN, 5.21501920963503e-310], [-3211.001295238026, 530.9355357552524, 2008.954616965135], [1898.0 -54.2692067461315 … 15.457176042405045 47.739624332679895; -54.2692067461315 1937.1263023765573 … 3.017048760025209 0.753155260135367; … ; 15.457176042405045 3.017048760025209 … 2036.282754692973 68.39076815353292; 47.739624332679895 0.753155260135367 … 68.39076815353292 1964.4421580361231], [1898.0 -54.269206746131495 … 15.457176042405044 47.739624332679895; 14.110394815424549 135.34047264470453 … 5.632196720320854 -43.484839562761664; 11.349290411210465 -61.971058672054006 … -9.487687326273528 9.999023926828947], [1898.0 14.110394815424574 11.349290411210461; 14.110394815424574 1874.460413835642 -16.51429469504831; 11.349290411210461 -16.51429469504831 1898.9027563903342], [2.4657914813e-314 2.4657914813e-314 2.4657914813e-314; 2.4657914813e-314 2.4657914813e-314 2.4657914813e-314; 2.4657914813e-314 2.4657914813e-314 7.1e-322], [2.348521024e-314 2.348521095e-314 2.34852119e-314; 2.3485210477e-314 2.348521119e-314 2.3485212137e-314; 2.3485210714e-314 2.3485211426e-314 2.3485212375e-314], [2.3341953702e-313 4.243991593e-314 2.121995791e-314; 3.18299368704e-313 5.09278989945e-313 0.0; 4.45619116197e-313 1.0e-323 2.782597e-318], [2.5e-323 2.9953698543e-314 2.995369886e-314; 2.5e-323 3.0e-323 2.9953699175e-314; 2.9953698227e-314 4.4e-323 2.993681628e-314], [2.0e-323 2.995409601e-314 2.9954096325e-314; 2.0e-323 2.5e-323 2.995409664e-314; 2.9954095693e-314 3.5e-323 0.0]), LmmObs{Float64}([12.672588703503408, -5.815592859983125, -0.816035474962477, -3.248271758214976, -6.909071440847402, 2.0602482448862682, 30.31879892305073, 6.338594297476714, -8.978404714921497, 5.753298973049553  …  8.325342868121243, -1.9400969019065712, -7.20850222956626, -12.4587856760999, 14.716728726956864, 5.4582350693893735, -8.978608251581177, 4.702561682671139, -1.3455057526847258, 2.0605013448128267], [1.0 0.5210432861258593 … 0.0011488177211862484 -0.509034189168806; 1.0 -0.4720770751559825 … 0.2405930220494222 0.18447572997465003; … ; 1.0 -1.3420691169115584 … 0.3595490316795632 1.4288665499883182; 1.0 0.4152348783115155 … 0.43122764019423515 -0.8668071296147846], [1.0 0.21064805418684449 -0.34501572068561426; 1.0 2.2761956437868642 0.6546419941171416; … ; 1.0 -0.7481573710641535 -0.8723546926580862; 1.0 -0.16471100703291283 0.13690138493771428], [4.0e-323, 0.0, 0.0, 0.0, 0.0], [0.0], [2.5e-323 2.9954623434e-314 2.995462375e-314; 2.5e-323 3.0e-323 2.9954624066e-314; 2.995462312e-314 4.4e-323 2.76236e-318], 174732.6464623686, [6790.0218275125, 11624.44083333484, -6066.408629109597, 2791.474358676548, 9196.346052254345], [6790.021827512504, 847.9653760901974, 315.9233331574597], [2.4997292616e-314, 2.9987299197e-314, 2.5003700766e-314, 2.2116581683e-314, 0.0], [2.988549693e-314, 2.9885497247e-314, 5.0e-324], [0.0, 0.0, 0.0], [0.0, 0.0, 0.0], [2.2119695956e-314, 2.212014283e-314, 2.2122558335e-314, 2.211919446e-314, 2.2119896705e-314, 2.2119213353e-314, 2.211921268e-314, 2.211935363e-314, 2.2119352956e-314, 2.21196673e-314  …  0.0, 6.94068881613177e-310, NaN, 6.94062383309237e-310, NaN, 3.16e-322, 6.94068895234527e-310, -3.5e-323, 3.16e-322, 0.0], [7226.878443168672, 776.1987939957951, 698.2420814114073], [1958.0 -7.210308774091619 … -9.49469762206935 -86.34451693541331; -7.210308774091619 1791.7303637050022 … 83.013014125579 -9.502373882278233; … ; -9.49469762206935 83.013014125579 … 1985.9335611719252 87.47425475763531; -86.34451693541331 -9.502373882278233 … 87.47425475763531 1932.6072177072906], [1958.0 -7.210308774091619 … -9.494697622069351 -86.34451693541331; 2.073442620733477 13.319415673608397 … -8.313198756124827 4.584558394718213; 6.223228054673314 -59.511947565184634 … -61.64030527046148 -14.689761999371333], [1958.0 2.073442620733495 6.223228054673301; 2.073442620733495 1993.0452021527308 -34.526772233694636; 6.223228054673301 -34.526772233694636 1930.8628130622233], [1.374e-321 2.995246662e-314 2.9952466936e-314; 1.374e-321 1.38e-321 2.996811783e-314; 2.9952466304e-314 1.4e-321 0.0], [4.4e-323 2.995467877e-314 2.9954679085e-314; 6.0e-323 6.4e-323 2.99546794e-314; 2.9954678453e-314 6.4e-323 1.0573815e-317], [1.2e-322 2.87e-322 6.1e-322; 1.73e-322 3.36e-322 6.37e-322; 2.3e-322 5.14e-322 6.57e-322], [2.211694168e-314 2.2116944524e-314 2.2116948793e-314; 2.21169431e-314 2.2116945947e-314 2.2116950216e-314; 2.2117304125e-314 2.211694737e-314 0.0], [2.2116954485e-314 2.2116958753e-314 2.3302865867e-314; 2.211695591e-314 2.211730555e-314 2.2116960176e-314; 2.211695733e-314 2.211730555e-314 2.76236e-318]), LmmObs{Float64}([0.7942571347578312, -2.730557696442187, 7.400747988274002, 2.6701038411521405, -4.545635528758878, -3.790960796081322, 10.74887876440235, 0.45163150055000445, 22.743960269139677, -6.449145039616642  …  -4.0744636447709555, -5.460767202371311, 10.528374087671878, -1.0139992773223612, 9.835271798238479, 9.31781806957433, 4.43386570717498, -2.6634899910098153, -1.4474009828641914, 3.709043677330117], [1.0 -0.7236090190461655 … -0.9562123584174058 0.17281176709251897; 1.0 -0.4681316658512678 … -1.5466326012554579 0.4754133521126704; … ; 1.0 -0.6493242574481471 … -0.6712311179234159 -0.11278061282793095; 1.0 0.5094549982814851 … -1.2823434474831814 0.5564251282790355], [1.0 1.3133442458117996 0.8366216568294166; 1.0 1.7051405604172625 0.5152610027869376; … ; 1.0 -0.640880075431356 -0.14062422880900438; 1.0 0.24617110475583268 -0.209545538933028], [8.024e-321, 0.0, 0.0, 0.0, 0.0], [0.0], [2.2117293137e-314 2.2117295983e-314 2.211730025e-314; 2.211729456e-314 2.2117297406e-314 2.2117301675e-314; 2.2117304125e-314 2.211729883e-314 5.0e-324], 135705.32866285573, [2505.811900833785, 10521.229857127139, -5085.30996391331, 1129.0785907026125, 8390.668429078287], [2505.811900833786, -274.90646090817444, -779.5649342592886], [8.0e-323, 1.0e-323, 2.32920516e-314, 2.3292051916e-314, 0.0], [5.0e-324, 5.0e-324, 0.0], [0.0, 0.0, 0.0], [0.0, 0.0, 0.0], [2.2119695956e-314, 2.212014283e-314, 2.2122558335e-314, 2.211919446e-314, 2.2119896705e-314, 2.2119213353e-314, 2.211921268e-314, 2.211935363e-314, 2.2119352956e-314, 2.21196673e-314  …  0.0, 6.9406890625958e-310, 8.4879831644e-314, 2.6e-322, 0.0, 0.0, NaN, 6.9406890341345e-310, 0.0, 2.277069764e-314], [2228.790139784658, -1016.2295532591538, -657.3273335378814], [1632.0 -40.830849254982546 … -7.3988809453673845 73.457416148553; -40.830849254982546 1619.3495972427654 … -14.702989538841535 22.49643994747259; … ; -7.3988809453673845 -14.702989538841535 … 1631.9042174411911 -42.23965775742105; 73.457416148553 22.49643994747259 … -42.23965775742105 1625.7181391130819], [1632.0 -40.830849254982546 … -7.3988809453673845 73.457416148553; -22.719611703385524 50.972300395378994 … -2.708215310478128 75.61337299054841; -9.000614058642649 -9.494756918611667 … -73.07636978421509 -22.94817327274869], [1632.0 -22.71961170338549 -9.000614058642649; -22.71961170338549 1575.5137158439675 23.936988240708857; -9.000614058642649 23.936988240708857 1641.874253824663], [2.9993459207e-314 2.53391579e-314 2.2116583105e-314; 2.53391579e-314 2.9993459365e-314 2.53391579e-314; 2.9993459286e-314 2.53391579e-314 2.76236e-318], [5.0e-324 2.0e-323 3.5e-323; 1.0e-323 2.5e-323 NaN; 1.5e-323 3.0e-323 NaN], [5.0e-324 2.0e-323 3.5e-323; 1.0e-323 2.5e-323 4.0e-323; 1.5e-323 3.0e-323 4.4e-323], [2.211657532e-314 2.211657532e-314 0.0; 2.211657532e-314 2.999345968e-314 0.0; 2.211657532e-314 0.0 1.0573815e-317], [2.329963871e-314 2.9932307793e-314 2.993230787e-314; 2.9932307714e-314 2.3299638867e-314 2.99323074e-314; 2.2117304125e-314 2.3299638393e-314 5.0e-324])  …  LmmObs{Float64}([-11.288716934149516, -17.104771329326123, -0.759086763213912, -14.557571308538918, -4.461301799057826, -2.8204776572011676, 12.518706018250162, 3.374236840698535, 4.243013658336085, -3.504653029277187  …  -3.1799915807028882, 7.367104752436996, -1.7327783053517045, 2.5968097330989792, -5.853826947096145, 4.780975868408449, -14.388563650387503, -16.410148988441627, -10.239172717957207, -9.351623546326179], [1.0 0.10911723261599043 … -0.6704833254117988 -1.6375394931857152; 1.0 -0.6184125401844947 … 0.045340909321699534 -1.502070255296937; … ; 1.0 -0.31770659533130513 … 0.8987513844050359 -0.9347818739997811; 1.0 -1.4701550995478827 … 0.3332485573627754 0.4555320297093527], [1.0 0.611776445724695 -0.1636782751977496; 1.0 0.20179145701372006 0.35641888374063246; … ; 1.0 -0.768206774130947 -1.4703038014459726; 1.0 0.5915472052430191 -0.0711123954573839], [1.0e-323, 2.4657914813e-314, 2.4657914813e-314, 2.4657914813e-314, 2.782597e-318], [2.9643248165e-314], [1.5e-323 2.499715981e-314 2.846864571e-314; 2.479576648e-314 0.0 1.5e-323; 2.2116577414e-314 2.5003713177e-314 2.782597e-318], 182028.9620232721, [-5550.506133838757, 12317.430468617513, -6885.756256494289, 1689.594858879894, 10139.551049323232], [-5550.506133838759, -305.5970613287705, -4005.2221475363795], [0.0, 0.0, 0.0, 0.0, 2.5003702347e-314], [0.0, 0.0, 0.0], [0.0, 0.0, 0.0], [2.21166201e-314, 2.2116621524e-314, 2.321939217e-314], [0.0, 0.0, 0.0, 0.0, 0.0, 0.0, 0.0, 0.0, 0.0, 0.0  …  0.0, 0.0, 0.0, 0.0, 0.0, 0.0, 0.0, 0.0, 0.0, 0.0], [-5560.152666766577, 223.34461325940725, -3767.40260268829], [1932.0 13.238984581513149 … 28.86964757682663 -77.47891429262037; 13.238984581513149 1883.2871649451265 … 84.40618905866111 -1.164672329902226; … ; 28.86964757682663 84.40618905866111 … 1868.5489110383596 -63.18243597973158; -77.47891429262037 -1.164672329902226 … -63.18243597973158 2009.9180313137033], [1932.0 13.238984581513149 … 28.86964757682663 -77.47891429262037; 13.650092719606608 -33.74887108854243 … -27.646674222193553 -16.006717636889952; -19.10352249702277 -11.431933558394455 … 22.518173482936994 -4.273954300780831], [1932.0 13.650092719606581 -19.103522497022773; 13.650092719606581 2006.6282487527037 -83.38597770622364; -19.103522497022773 -83.38597770622364 1926.9339258515915], [2.2116622947e-314 2.5003713177e-314 2.782597e-318; 2.4997163763e-314 2.8468646894e-314 2.0e-323; 1.27e-321 2.0e-323 2.0e-323], [2.782597e-318 2.479576648e-314 2.965573198e-314; 1.5e-323 2.211659449e-314 2.5003713187e-314; 1.5e-323 2.464786536e-314 2.8468647685e-314], [5.0e-324 1.5e-323 1.5e-323; 2.5003713177e-314 2.782597e-318 2.48207964e-314; 2.846864808e-314 1.5e-323 2.2116655674e-314], [1.5e-323 2.2117309817e-314 2.846864887e-314; 2.464890938e-314 2.9655730714e-314 1.5e-323; 2.2116661365e-314 2.5003713177e-314 2.782597e-318], [2.8468649266e-314 1.5e-323 2.2119683703e-314; 1.5e-323 1.5e-323 2.2119982317e-314; 2.782597e-318 2.2120722387e-314 2.9655732927e-314]), LmmObs{Float64}([2.377124413565229, -8.505036383825578, -9.46328039049799, -10.780300515444988, -2.3694687054604553, -8.51416217938418, -2.117022229120726, 11.94408960042357, 0.9438028209724226, 14.116813214910705  …  11.249291307504699, -12.327933337443865, 6.298834237514076, -1.073439138674143, -10.57553316776663, -11.701278918360401, -14.084917409595608, -13.043181387128666, -3.219090146427763, 1.7296551182459643], [1.0 0.8475246230623791 … -1.0853948383507928 0.5135041280771266; 1.0 -0.020633363690152163 … -0.006329979534553536 -1.6771843171967609; … ; 1.0 -0.7501794934173278 … -0.6273578518268851 0.2223723806368852; 1.0 1.1575617586227291 … 0.7139818190000192 -0.4824776823741096], [1.0 0.5634706978363991 -0.09033978180034752; 1.0 -0.31996391257027257 0.3852045731382423; … ; 1.0 0.2198509192659662 -1.1440050389411054; 1.0 0.13153110634524356 -0.46339972467837526], [2.3220980455e-314, 2.3218353053e-314, 2.3220982826e-314, 2.464643684e-314, 2.935123529e-314], [1.5e-323], [2.211660587e-314 2.5003713187e-314 2.782597e-318; 2.499715981e-314 2.8468650056e-314 1.5e-323; 5.0e-324 1.5e-323 1.5e-323], 156903.6382469769, [-240.5587928950245, 12030.884543762208, -5860.909071399266, 2152.2136418611535, 9498.955021122001], [-240.55879289502508, 1382.268677749631, 2664.4586902480205], [0.0, 0.0, 0.0, 0.0, 2.782597e-318], [2.3237464856e-314, 2.3237465014e-314, 2.3239939216e-314], [2.5003744955e-314, 2.321837827e-314, 2.5003744955e-314], [2.4657914813e-314, 2.320550284e-314, 2.4657914813e-314], [0.0, 0.0, 0.0, 0.0, 0.0, 0.0, 0.0, 0.0, 0.0, 0.0  …  0.0, 0.0, 0.0, 0.0, 0.0, 0.0, 0.0, 0.0, 0.0, 0.0], [-359.3255010403221, 1341.1939354387005, 3041.3728462503295], [1859.0 5.083698743117859 … 16.207892413313985 -54.67698366358518; 5.083698743117859 1775.674103855648 … 41.40572535272696 80.42160206791112; … ; 16.207892413313985 41.40572535272696 … 1889.8543438083348 -1.814894658032415; -54.67698366358518 80.42160206791112 … -1.814894658032415 1833.7189498624853], [1859.0 5.083698743117859 … 16.207892413313985 -54.67698366358518; -98.59692809435593 26.875617848590622 … 0.21309308166789975 -22.15022471015851; 70.85481120782038 10.39092957398438 … -8.680517135171659 -66.4560606272369], [1859.0 -98.59692809435595 70.85481120782038; -98.59692809435595 1878.3041884365648 -63.501851383881146; 70.85481120782038 -63.501851383881146 1876.1058941593164], [2.21166386e-314 1.5e-323 1.5e-323; 2.5003713177e-314 2.782597e-318 2.464890938e-314; 2.846865124e-314 1.5e-323 2.211667417e-314], [1.5e-323 2.499715981e-314 2.8468652033e-314; 2.479576648e-314 2.5339164857e-314 1.5e-323; 2.211661441e-314 2.5003713177e-314 2.782597e-318], [2.846865243e-314 1.5e-323 2.211670263e-314; 1.5e-323 1.5e-323 2.211670832e-314; 2.782597e-318 2.4693695838e-314 0.0], [2.2116625793e-314 2.5003713177e-314 2.782597e-318; 2.499715981e-314 2.846865322e-314 1.5e-323; 2.5339164857e-314 1.5e-323 1.5e-323], [2.782597e-318 2.475038177e-314 0.0; 1.5e-323 2.211672824e-314 2.5003713177e-314; 1.5e-323 2.2116675595e-314 2.846865401e-314]), LmmObs{Float64}([-19.930252661627446, 16.381633167554604, 6.721943545112518, -2.666753109497683, 4.140493417997345, 1.563687160661978, -2.4706028598751475, -12.068639057965674, -8.58870920397609, 6.578710470993256  …  5.619163027788431, -8.108523855888768, 8.108890900834155, -1.651894041156687, 2.1637268528135234, 4.122758413897529, -0.09091515289140556, 0.28448996024903156, -4.130619039679241, -3.2705814110961233], [1.0 -3.7438975184888283 … 0.9298435695197542 0.525870505942713; 1.0 1.289653706956273 … -0.19657981499422097 1.1458380066271354; … ; 1.0 -1.044971481832104 … 0.3550203407430267 -0.8924993745110279; 1.0 -1.0290668095127027 … 0.600826262663179 0.7619923120102198], [1.0 0.5059685706519774 -1.5134738577503308; 1.0 0.3231757370815554 0.17044912913738025; … ; 1.0 0.5645039418693499 -0.7365638278700612; 1.0 -0.9629686317765431 1.2069737099087754], [2.4657914813e-314, 2.4657914813e-314, 2.4657914813e-314, 2.4657914813e-314, 0.0], [1.5e-323], [2.5339164857e-314 1.5e-323 1.5e-323; 2.5003713177e-314 2.782597e-318 2.464890859e-314; 2.8468654404e-314 1.5e-323 2.2117304125e-314], 155757.56893459684, [562.0134890550862, 12016.72556368503, -6401.477773176723, 1435.1427368714315, 8313.29187410557], [562.0134890550862, 2235.5262623435397, -2906.006456651647], [2.211658026e-314, 2.211659591e-314, 2.2116627216e-314, 2.211663006e-314, 2.5339164857e-314], [2.1219957915e-314, 5.0e-324, 2.3325996133e-314], [2.2116578837e-314, 2.211657532e-314, 2.2116581683e-314], [2.8784082e-314, 2.3239939453e-314, 2.5339164857e-314], [0.0, 0.0, 0.0, 0.0, 0.0, 0.0, 0.0, 0.0, 0.0, 0.0  …  0.0, 0.0, 0.0, 0.0, 0.0, 0.0, 0.0, 0.0, 0.0, 0.0], [17.259082878283948, 2595.4833230230624, -2672.3952150993655], [1719.0 4.080758298326561 … 24.188721188641974 16.078984390621017; 4.080758298326561 1805.0044405515293 … -53.09892841386399 8.594610262389219; … ; 24.188721188641974 -53.09892841386399 … 1657.9205119846788 48.43138106213589; 16.078984390621017 8.594610262389219 … 48.43138106213589 1639.5279238686192], [1719.0 4.080758298326561 … 24.188721188641974 16.078984390621017; 21.751442286701288 -9.193724393472102 … -65.04414952976016 -47.18948064254923; 7.770943033322592 -27.771194918612373 … 74.64731448843436 -19.68490654804497], [1719.0 21.75144228670135 7.770943033322592; 21.75144228670135 1624.97912282233 29.919781512569884; 7.770943033322592 29.919781512569884 1684.4495469688043], [2.846865559e-314 1.5e-323 2.2116675595e-314; 1.5e-323 1.5e-323 2.211730555e-314; 2.782597e-318 2.464890938e-314 2.5003744955e-314], [2.211689899e-314 2.5003713177e-314 2.782597e-318; 2.211730697e-314 2.846865638e-314 1.5e-323; 0.0 1.5e-323 1.5e-323], [2.782597e-318 2.468645845e-314 2.5339164857e-314; 1.5e-323 2.2116910375e-314 2.5003713177e-314; 1.5e-323 2.211730555e-314 2.846865717e-314], [0.0 1.5e-323 1.5e-323; 2.5003713177e-314 2.782597e-318 2.48207964e-314; 2.8468657566e-314 1.5e-323 2.8271166603e-314], [4.0e-323 2.2116655674e-314 2.8468658357e-314; 2.488355467e-314 1.5e-323 1.5e-323; 2.211664429e-314 2.5003713177e-314 2.782597e-318]), LmmObs{Float64}([-0.03236875290848218, 8.359818593592431, -6.049955654731568, -9.386587937780606, 12.092303781065185, -0.2589913070628087, -5.17037659712469, -11.218695015748397, -13.233265366002682, 8.401206048474709  …  -3.454799272470969, 3.4361453085655795, 10.079344308603208, -10.74754599372642, 21.61236490627594, -4.693094097035026, 9.617649530581835, -4.894169463340541, 10.39488113818459, 1.5537800348428141], [1.0 -0.2418208067069508 … -1.1306890543483077 0.0973968153005751; 1.0 -0.9735832735772031 … -0.17473752522931765 1.4122359362404144; … ; 1.0 2.0202185174278906 … -0.895421871558398 -1.4078244930299348; 1.0 -1.5463980098876688 … 0.9067123878029326 0.6764662768797906], [1.0 0.036126646771551044 -0.5213633089622561; 1.0 0.09683241377183673 0.8846422228969365; … ; 1.0 1.3913648258375135 -0.20684985993894459; 1.0 0.5390478442749536 -0.0660732841988267], [2.3220915e-314, 2.5003702347e-314, 2.5003702347e-314, 2.50037395e-314, 2.3221112113e-314], [1.5e-323], [2.846865875e-314 1.5e-323 2.2116689824e-314; 1.5e-323 1.5e-323 2.211711243e-314; 2.782597e-318 2.4818024414e-314 2.8251211884e-314], 141908.30465134693, [2220.321562235616, 10801.574695599917, -5763.137932259364, 1738.1791800964295, 8494.878258616232], [2220.3215622356165, 1534.5149161567656, -490.9694847506946], [2.195627520455892e155, 2.5423629760702585e232, 5.2353883269206e-310, 0.0, 2.321835598e-314], [4.243991583e-314, 2.121995791e-314, 1.27e-321], [2.5003744955e-314, 2.5003744955e-314, 2.5339164857e-314], [2.8784082e-314, 2.5003702347e-314, 2.5338904e-314], [0.0, 0.0, 0.0, 0.0, 0.0, 0.0, 0.0, 0.0, 0.0, 0.0  …  0.0, 0.0, 0.0, 0.0, 0.0, 0.0, 0.0, 0.0, 0.0, 0.0], [1941.4592525589333, 1924.2487828605344, -991.9658995134246], [1600.0 -18.699574623731806 … 47.24129373783743 -2.0000702614075863; -18.699574623731806 1669.6842534991247 … 39.74833347915925 6.870331798699486; … ; 47.24129373783743 39.74833347915925 … 1514.7692108981205 15.567244515329605; -2.0000702614075863 6.870331798699486 … 15.567244515329605 1677.110279735589], [1600.0 -18.699574623731806 … 47.24129373783743 -2.0000702614075863; -0.0015746076958151889 -45.36565538876435 … -41.7348392853589 -2.82689113001587; 59.76673862636185 23.180687839862877 … 2.9740463312032723 62.61610051826335], [1600.0 -0.0015746076957920963 59.76673862636185; -0.0015746076957920963 1646.51378123054 23.702672164958493; 59.76673862636185 23.702672164958493 1588.1497253420757], [2.782597e-318 2.464890859e-314 0.0; 1.5e-323 2.2117304125e-314 2.5003713177e-314; 1.5e-323 2.2117130925e-314 2.8468660333e-314], [2.211730555e-314 1.5e-323 1.5e-323; 2.5003713177e-314 2.782597e-318 2.48207964e-314; 2.846866073e-314 1.5e-323 2.827116668e-314], [1.5e-323 2.211711812e-314 2.846866152e-314; 2.464890938e-314 2.08e-322 1.5e-323; 2.2117267525e-314 2.5003713177e-314 2.782597e-318], [2.8468661914e-314 1.5e-323 2.211727891e-314; 1.5e-323 1.5e-323 2.2117291714e-314; 2.782597e-318 2.464890859e-314 5.0e-324], [2.827116668e-314 2.5003713177e-314 4.244269842e-314; 2.211730452e-314 2.3445219855e-314 2.0e-323; 2.5339164857e-314 2.0e-323 4.0e-323]), LmmObs{Float64}([12.967986171556698, -3.2985559705816883, -2.6409806636571354, 1.9969308725396875, -3.5695259533515102, 2.849408633781538, 5.583275182592186, -1.9318524311037857, -0.03305153057149446, -0.5185588487773789  …  -14.584626671745738, -2.1175736777661687, 2.0216153080607002, 8.397795848358506, -7.8348680260228, -6.932260412102782, 1.4644748387854338, -1.4331726302197818, -13.760879988112787, 16.809945565028215], [1.0 0.8190766256559044 … 1.374859890835809 1.5199904438734615; 1.0 -1.247075223467714 … 2.82848971643084 0.04599507546562532; … ; 1.0 -1.154501261343447 … -0.19586394123493892 -0.1894582248109364; 1.0 1.0205545145225385 … 0.04039041004707408 1.6209634354761424], [1.0 1.7111588825754143 1.5572028735592667; 1.0 -0.5437004149487317 -0.6875098642573798; … ; 1.0 -0.1193419846108939 -2.2506055458095378; 1.0 -1.4829293997003075 -0.9962716374815263], [2.211964473e-314, 2.2119982317e-314, 2.212077464e-314, 2.2119683703e-314, 2.4646948374e-314], [1.5e-323], [2.782597e-318 2.464711264e-314 0.0; 1.5e-323 2.211672824e-314 2.5003713177e-314; 1.5e-323 2.2116675595e-314 2.8468663495e-314], 152984.4785343692, [-438.9399568413435, 12029.337569844263, -6540.053331076177, 2033.321859790321, 9154.666283025537], [-438.93995684134313, -987.5606154825911, 1839.7905335996338], [5.0e-324, 2.9722730363e-314, 5.0e-324, 2.972273068e-314, 2.3221114485e-314], [2.8476490483e-314, 2.8476484317e-314, 2.8506872526e-314], [2.850702437e-314, 2.8507023107e-314, 2.8281484353e-314], [5.8e-322, 2.47e-322, 1.0e-323], [0.0, 0.0, 0.0, 0.0, 0.0, 0.0, 0.0, 0.0, 0.0, 0.0  …  0.0, 0.0, 0.0, 0.0, 0.0, 0.0, 0.0, 0.0, 0.0, 0.0], [-622.3195746409592, -1071.5999535174647, 1107.4616628120666], [1870.0 -4.341179727595055 … -3.939771022227573 26.141226789394825; -4.341179727595055 1882.75400908508 … 31.540417687249366 -40.9722107996303; … ; -3.939771022227573 31.540417687249366 … 1868.403568544469 -26.901263696882864; 26.141226789394825 -40.9722107996303 … -26.901263696882864 1880.3452280145473], [1870.0 -4.341179727595055 … -3.9397710222275704 26.141226789394825; 24.836386507447635 27.064856607231025 … -0.21022216856198384 29.945154411095615; -26.062829980363425 34.50245643838263 … 36.504359635383295 21.8152004778056], [1870.0 24.836386507447628 -26.062829980363418; 24.836386507447628 1829.8684852376905 -91.55199063054931; -26.062829980363418 -91.55199063054931 1831.5956647477178], [2.5339164857e-314 0.0 4.0e-323; 2.464684039e-314 2.762365e-318 2.27e-322; 2.8256168825e-314 0.0 0.0], [2.9349836807e-314 0.0 2.03e-322; 2.464684039e-314 2.762365e-318 2.8271199804e-314; 2.3442463443e-314 0.0 2.827119767e-314], [2.211731551e-314 1.0e-323 4.0e-323; 2.464684039e-314 2.762365e-318 2.8271199804e-314; 2.82561708e-314 1.0e-323 2.827119767e-314], [2.827119767e-314 0.0 2.03e-322; 2.464684039e-314 2.762365e-318 2.5003700766e-314; 2.3442465103e-314 0.0 2.211731551e-314], [2.827119767e-314 0.0 2.03e-322; 2.464684039e-314 2.762365e-318 2.500370108e-314; 2.3442468423e-314 0.0 2.827120012e-314]), LmmObs{Float64}([8.058898162231161, -4.660646391232317, 12.469260612228888, 1.0756549645415199, 3.129246895061723, -3.7447286891301284, 10.85201240785933, -2.939526549551609, 15.437070088723262, 9.981506241489107  …  17.419596194753154, 3.448095923599065, 12.380416849119145, 12.031366144740021, -9.302263117497255, -19.75230484904814, -16.433872217579047, -3.0183840035853082, 2.53268671317314, -3.5895258576136326], [1.0 1.6887275151045813 … -0.05793021900049252 -1.3699663827180268; 1.0 1.046449219850647 … -1.6358354806732915 -0.6480540476566894; … ; 1.0 -0.2624397669712172 … 0.06631565278721872 -0.28193599744187176; 1.0 -1.5578319207293787 … 0.1528592367837923 1.9007437903824065], [1.0 -0.8285313061396702 0.37472403271975185; 1.0 1.094782059213157 -0.5285483255066772; … ; 1.0 2.18279558039816 0.8599686548909752; 1.0 0.45563166186717996 1.5059262787240508], [6.3e-322, 2.5003713177e-314, 2.322111488e-314, 2.0e-323, 2.782597e-318], [2.3239952496e-314], [2.827120012e-314 1.5e-323 4.0e-323; 2.464684039e-314 2.762365e-318 2.827120028e-314; 2.8256173173e-314 1.5e-323 2.827119767e-314], 125994.3579061322, [387.2422150541779, 10224.442015091696, -5297.008876927509, 2274.0531033825373, 6799.332805523081], [387.2422150541778, -1749.9980052649466, -1182.2290740127514], [2.0e-323, 1.5e-323, 1.5e-323, 2.8562233006e-314, 2.490636659e-314], [4.0e-322, 4.35e-322, 1.0e-323], [2.2116577414e-314, 2.321838254e-314, 5.7e-322], [2.5003700766e-314, 2.211730555e-314, 2.4937695414e-314], [0.0, 0.0, 0.0, 0.0, 0.0, 0.0, 0.0, 0.0, 0.0, 0.0  …  0.0, 0.0, 0.0, 0.0, 0.0, 0.0, 0.0, 0.0, 0.0, 0.0], [355.2192852530272, -1684.451972208263, -825.7746853396693], [1643.0 20.857244682786927 … -63.41938462009147 -47.25222577988231; 20.857244682786927 1672.871599729026 … 69.34207490828888 -106.71898116797723; … ; -63.41938462009147 69.34207490828888 … 1673.7571373073192 29.32307088008983; -47.25222577988231 -106.71898116797723 … 29.32307088008983 1490.1083682129304], [1643.0 20.857244682786927 … -63.41938462009147 -47.25222577988231; 74.10349686740088 -18.572927939464112 … -34.41607280990736 13.01818392526667; -37.279184635937874 -0.13683106566576209 … 35.75621572453661 -60.996372554333405], [1643.0 74.10349686740084 -37.279184635937874; 74.10349686740084 1612.4403857297873 23.03669438465862; -37.279184635937874 23.03669438465862 1605.8484987754307], [2.4820799403e-314 0.0 2.03e-322; 2.464684039e-314 2.762365e-318 2.8271200515e-314; 2.3442475064e-314 0.0 2.8271200357e-314], [2.211729274e-314 0.0 2.03e-322; 2.464684039e-314 2.762365e-318 2.8271200515e-314; 2.3442476724e-314 0.0 2.8271200357e-314], [2.8271200673e-314 0.0 0.0; 2.464684039e-314 2.76236e-318 2.500370108e-314; 2.846810425e-314 0.0 2.8271200673e-314], [0.0 0.0 0.0; 2.464684039e-314 2.76236e-318 2.211730555e-314; 2.8468104884e-314 0.0 2.211730697e-314], [0.0 5.0e-324 5.0e-324; 2.500370299e-314 2.76236e-318 5.0e-323; 2.8468105517e-314 5.0e-324 2.0e-323]), LmmObs{Float64}([-7.6777542814566875, 0.21506536554674832, 10.679143815123055, -2.235363962925704, 6.396684319774925, 20.875275259182565, -13.359871328691732, -20.161254026569168, -2.5604549727904344, -0.9810337610801557  …  -1.4184966525215108, -16.26638826418588, -9.483040182740663, 10.59092860029134, -1.888224311595374, -0.00817212283445895, 6.1527065959836404, -14.088475940799865, -3.8815872408177765, -10.075838453695114], [1.0 -0.0949071291221503 … -0.8298036888585014 -1.15166736029699; 1.0 0.6359446083479725 … -1.1470865614810195 -0.2953215996648398; … ; 1.0 -0.7234283827226052 … 0.5329315475340355 0.01675096662092481; 1.0 -1.0377122703240649 … -0.7433746483553936 -0.39592903409724195], [1.0 0.008273232860770332 -1.1604050167383126; 1.0 -0.7030800674576408 -0.33784335972731666; … ; 1.0 -0.8662658380493323 2.223760811183027; 1.0 -2.3011172764525183 1.2624636375435598], [1.5e-323, 2.8562233244e-314, 2.490636659e-314, 2.8562233323e-314, 2.9655752927e-314], [1.0e-323], [0.0 0.0 4.0e-323; 2.464684039e-314 2.762365e-318 2.4818012872e-314; 2.8242901226e-314 0.0 2.211657923e-314], 145152.05565326565, [-2419.5136812377486, 11010.066529829823, -6189.565874730373, 1320.223612354114, 8899.572849582448], [-2419.51368123775, -424.7843276476186, 1112.5540643599468], [1.6e-322, 2.5003713177e-314, 2.322111725e-314, 1.5e-323, 2.782597e-318], [2.2116581683e-314, 2.211658453e-314, 2.3231758437e-314], [2.533915798e-314, 2.32183789e-314, 2.211730555e-314], [2.211730555e-314, 2.211730555e-314, 0.0], [0.0, 0.0, 0.0, 0.0, 0.0, 0.0, 0.0, 0.0, 0.0, 0.0  …  0.0, 0.0, 0.0, 0.0, 0.0, 0.0, 0.0, 0.0, 0.0, 0.0], [-2718.021831447155, -325.2207852469423, 451.91791887467537], [1666.0 13.122888045741313 … -58.32095908500241 -31.321833684962566; 13.122888045741313 1674.3983458549496 … -94.44149030079862 35.90003428834661; … ; -58.32095908500241 -94.44149030079862 … 1659.8009918542703 -12.070122571753886; -31.321833684962566 35.90003428834661 … -12.070122571753886 1687.9877727588475], [1666.0 13.122888045741313 … -58.32095908500241 -31.321833684962563; -12.52891783163249 5.703344983784957 … 39.64038109970051 -5.454476037818793; -34.11275272827987 36.932382281903045 … 27.777559828495153 57.15881118393618], [1666.0 -12.528917831632521 -34.11275272827987; -12.528917831632521 1620.9456758440538 13.452216650383448; -34.11275272827987 13.452216650383448 1580.7195911065512], [2.5339164857e-314 0.0 2.03e-322; 2.464684039e-314 2.762365e-318 2.8467760224e-314; 2.3442481704e-314 0.0 3.5e-323], [2.4944044197e-314 0.0 2.03e-322; 2.464684039e-314 2.762365e-318 2.8467761805e-314; 2.3442485024e-314 0.0 2.4944044197e-314], [2.9351240033e-314 0.0 2.03e-322; 2.464684039e-314 2.762365e-318 2.8467762596e-314; 2.3442486684e-314 0.0 2.9655732453e-314], [2.50037395e-314 1.7e-322 2.03e-322; 2.464684039e-314 2.762365e-318 2.472800265e-314; 2.3442490004e-314 1.7e-322 2.50037395e-314], [2.533916454e-314 0.0 0.0; 2.464684039e-314 2.76236e-318 2.8271202966e-314; 2.8468109944e-314 0.0 2.8271201543e-314]), LmmObs{Float64}([9.349184133984036, 8.440436247525412, 1.771263041496572, 2.6068944670349548, 7.189939645468558, -4.555521548161215, 5.378986096436636, -2.3802737894694586, -7.510001505816431, -2.0267811233470985  …  2.956879489243216, -15.236835832441459, -0.39428555920756114, 3.8895812283421214, -11.625732634954034, -2.577981224842105, -20.68741491516062, 2.9230899681869595, -2.6451437104184556, -2.0428796886961074], [1.0 0.001465050232816775 … 1.3811551028909368 1.879095623877857; 1.0 -0.07646601354046888 … 1.5659372736244848 0.3935943686055482; … ; 1.0 0.38546414763582715 … -1.5734786589123442 -0.23781333999193638; 1.0 0.6884950511879223 … -0.21999232497544932 0.16359465475606674], [1.0 -0.3341522280201831 0.8367690911160433; 1.0 0.6770839602207993 0.6752694437248595; … ; 1.0 1.2492193580584037 -0.3688973262893525; 1.0 0.5694656840732074 1.4507570004985826], [1.0e-323, 1.5e-323, 2.782597e-318, 1.5e-323, 1.5e-323], [1.5e-323], [2.5003702347e-314 0.0 4.0e-323; 2.464684039e-314 2.762365e-318 0.0; 2.8242907154e-314 0.0 2.12759103306e-312], 132458.5587819792, [-458.1924580328286, 9295.373151013655, -5430.225467121698, 1246.2407314176485, 8055.5029330910875], [-458.1924580328282, -688.6584444739185, -3779.9459567367508], [3.0e-323, 2.211657532e-314, 2.211657532e-314, 2.3226436757e-314, 2.211657532e-314], [2.3321842494e-314, 2.33626886e-314, 2.3362688916e-314], [0.0, 2.3362714213e-314, 2.336240876e-314], [1.4143204406848186e-76, 8.783033312861383e155, 2.04643089665e-312], [0.0, 0.0, 0.0, 0.0, 0.0, 0.0, 0.0, 0.0, 0.0, 0.0  …  0.0, 0.0, 0.0, 0.0, 0.0, 0.0, 0.0, 0.0, 0.0, 0.0], [-871.9660061064628, -722.8964603955568, -3632.4735332974724], [1596.0 51.976626556025366 … -43.02064489160145 3.571157494075063; 51.976626556025366 1453.9709458701616 … -48.61711895003969 -14.666279737268574; … ; -43.02064489160145 -48.61711895003969 … 1628.6387946397435 0.6772920970891203; 3.571157494075063 -14.666279737268574 … 0.6772920970891203 1644.3919147392896], [1596.0 51.976626556025366 … -43.02064489160145 3.571157494075063; -0.6246807896604629 41.725898661378096 … -65.85597513468778 -22.094762405495377; 63.81365373150135 -35.19256120414853 … -71.20883303918211 35.34229026209947], [1596.0 -0.62468078966047 63.81365373150133; -0.62468078966047 1588.3341607994582 -29.169936155084667; 63.81365373150133 -29.169936155084667 1547.5393920166898], [2.827120336e-314 0.0 0.0; 2.464684039e-314 2.76236e-318 2.339404904e-314; 2.846811184e-314 0.0 2.47225435e-314], [0.0 0.0 4.0e-323; 2.464684039e-314 2.762365e-318 2.0464360977e-312; 2.8242908735e-314 0.0 2.9655730714e-314], [2.5339164857e-314 2.57e-322 2.57e-322; 2.464684039e-314 2.762365e-318 2.0464360977e-312; 2.3506766364e-314 2.57e-322 0.0], [0.0 0.0 0.0; 2.464684039e-314 2.76236e-318 7.0e-323; 2.846811374e-314 0.0 3.0e-323], [2.9351240665e-314 0.0 4.0e-323; 2.464684039e-314 2.762365e-318 2.336096182e-314; 2.824291071e-314 0.0 0.0]), LmmObs{Float64}([1.555496909721469, -8.537517432776234, -4.101218244274964, -0.5490993863091944, 3.8502390843662564, 16.077958263881598, -7.833447365891228, -3.017537253744065, 4.343841137359647, -22.32563486121046  …  -9.56616065178659, 1.5152275229334522, 5.981705612013318, 8.402244289034227, -0.23185070921734816, -5.318718657925581, -7.223998303603756, -3.1108592719290593, -4.746733021571126, 0.0910889980863584], [1.0 1.1911780083093995 … -0.23703314330267494 -1.241250232781109; 1.0 -1.292672936268567 … 0.20966249286039546 -0.8274028717658819; … ; 1.0 0.8672243419675433 … 0.0762189917373652 -2.208711008020318; 1.0 1.294642393845079 … 0.37192531495762704 -0.04166865564799078], [1.0 -1.4097946393540384 -1.0716304870699032; 1.0 -1.0898141465283198 -3.0557406055060654; … ; 1.0 1.1753268156399903 0.20880583101293707; 1.0 -1.091428689028292 -0.08310366080544923], [2.0e-323, 2.4657914813e-314, 2.4657914813e-314, 2.3226436046e-314, 2.4657914813e-314], [1.5e-323], [0.0 2.27e-322 2.27e-322; 2.464684039e-314 2.762365e-318 0.0; 2.350163915e-314 2.27e-322 2.9655732927e-314], 141866.01163621945, [-866.0773637804459, 11104.053788757694, -5606.608985845056, 1858.0922196949834, 9101.325356700187], [-866.0773637804455, -587.8068786113877, 1383.865064461063], [5.0e-324, 4.0e-323, 2.9722739217e-314, 2.9722739533e-314, 2.5003744955e-314], [2.5003744955e-314, 2.9757470214e-314, 0.0], [2.465659198e-314, 2.975747037e-314, 0.0], [2.343799717e-314, 2.465659198e-314, 0.0], [0.0, 0.0, 0.0, 0.0, 0.0, 0.0, 0.0, 0.0, 0.0, 0.0  …  0.0, 0.0, 0.0, 0.0, 0.0, 0.0, 0.0, 0.0, 0.0, 0.0], [-854.3657053130588, 382.26020951440603, 389.9089658957578], [1734.0 -41.958387190459426 … -8.951790250305034 -9.147502359109168; -41.958387190459426 1674.1306159198996 … -11.968134151407531 61.17628965697988; … ; -8.951790250305034 -11.968134151407531 … 1761.4662759470207 33.07621309590931; -9.147502359109168 61.17628965697988 … 33.07621309590931 1771.0890255615038], [1734.0 -41.958387190459426 … -8.951790250305034 -9.147502359109168; -9.265508827398824 -86.45932217778598 … 33.11054595729945 -50.64261070137789; -29.68081398963001 66.68857789210045 … 12.56493669324788 88.95037802311532], [1734.0 -9.265508827398822 -29.680813989630003; -9.265508827398822 1798.488830785861 -39.42425403096248; -29.680813989630003 -39.42425403096248 1771.996859318308], [2.3360989647e-314 0.0 4.0e-323; 2.464684039e-314 2.762365e-318 2.82469245e-314; 2.824291269e-314 0.0 2.3360990595e-314], [2.8271203203e-314 3.0e-323 4.0e-323; 2.464684039e-314 2.762365e-318 2.5003700766e-314; 2.824291348e-314 3.0e-323 2.2117308394e-314], [2.8271203203e-314 0.0 0.0; 2.464684039e-314 2.76236e-318 2.5003700766e-314; 2.8468117533e-314 0.0 2.8271204626e-314], [2.8271204626e-314 0.0 4.0e-323; 2.464684039e-314 2.762365e-318 2.8456119247e-314; 2.8242914664e-314 0.0 2.494404538e-314], [2.4820790554e-314 5.0e-323 2.03e-322; 2.464684039e-314 2.762365e-318 2.0464360977e-312; 2.3442513245e-314 5.0e-323 2.84655608e-314]), LmmObs{Float64}([-4.1267233825705425, 11.057663944449908, 6.016108356350927, 15.477875260687382, -4.019202225402119, 8.876614646803036, -2.34025241475823, -3.855010581553077, 11.122501449154779, -11.013606387116965  …  -3.1242664996367764, -3.2022561447355384, 0.09790758729214177, 6.8400506435446715, 8.448255848493254, -5.132344145509309, -0.5308120955356073, -8.886524572170496, -1.421590022399954, 3.7988851557060714], [1.0 -0.7399769122189035 … -0.9190771054313224 0.9373512001886268; 1.0 0.9102524118045542 … 0.33912828055463673 0.04111808008785038; … ; 1.0 -0.6725989044441703 … -0.5188350440776927 -0.06477230072930931; 1.0 -1.2175776189191816 … 1.0459869010187293 0.45985693050823107], [1.0 0.7026793843877964 0.15736617405745867; 1.0 -0.02597936493820509 -0.16420885156563483; … ; 1.0 -1.489925207384534 -0.0068968297899472545; 1.0 0.6283234898219571 0.8569712810718257], [2.1219957915e-314, 4.2439915824e-314, 4.243991583e-314, 4.243991583e-314, 2.121995792e-314], [1.5e-323], [2.84655608e-314 0.0 0.0; 2.464684039e-314 2.76236e-318 2.0464360977e-312; 2.846811943e-314 0.0 0.0], 139492.6478754833, [2480.632609589078, 10712.194759504244, -6021.401737399264, 1813.8367416178307, 8078.264984785006], [2480.632609589076, 115.0205886796714, 549.488166611996], [2.500370772e-314, 2.8569822724e-314, 2.2117304125e-314, 2.9775675703e-314, 2.977567507e-314], [2.343799717e-314, 2.465659198e-314, 0.0], [2.2116583105e-314, 2.2117304125e-314, 0.0], [2.2116586347e-314, 2.2116580655e-314, 0.0], [0.0, 0.0, 0.0, 0.0, 0.0, 0.0, 0.0, 0.0, 0.0, 0.0  …  0.0, 0.0, 0.0, 0.0, 0.0, 0.0, 0.0, 0.0, 0.0, 0.0], [2416.260450127903, 169.993824836501, 597.0325111232866], [1691.0 -8.804349138279584 … -43.868632766295335 32.83683421984818; -8.804349138279584 1699.6542901245903 … 36.630224742188 -73.29365152921488; … ; -43.868632766295335 36.630224742188 … 1560.444007595419 10.4286709464555; 32.83683421984818 -73.29365152921488 … 10.4286709464555 1649.175664053957], [1691.0 -8.804349138279584 … -43.868632766295335 32.83683421984818; -14.68258748067134 0.41145307210888515 … 54.653038821875235 -17.585964235158315; -28.02221675609354 6.05614312105234 … 33.50494034720427 -34.58498436900178], [1691.0 -14.682587480671318 -28.02221675609354; -14.682587480671318 1597.6119436189083 45.01497411973832; -28.02221675609354 45.01497411973832 1646.8793295413648], [0.0 3.95e-322 3.95e-322; 2.464684039e-314 2.762365e-318 2.824192432e-314; 2.849522482e-314 3.95e-322 2.9349836807e-314], [2.08e-322 0.0 0.0; 2.464684039e-314 2.76236e-318 2.8465563885e-314; 2.8468121327e-314 0.0 2.965573182e-314], [2.5339164857e-314 0.0 4.0e-323; 2.464684039e-314 2.762365e-318 2.12202817e-314; 2.8242918617e-314 0.0 0.0], [2.9655732927e-314 3.95e-322 3.95e-322; 2.464684039e-314 2.762365e-318 2.8465567917e-314; 2.849522814e-314 3.95e-322 2.5339164857e-314], [2.82712051e-314 0.0 0.0; 2.464684039e-314 2.76236e-318 2.5003700766e-314; 2.8468123224e-314 0.0 2.211730555e-314])], [0.18207934611476317, 6.500480700993725, -3.49791078420916, 1.0011132962297955, 5.000251985791928], [1.4069222734993236 0.07258461003916687 0.05717147035274017; 0.05159105901325527 1.1319792118703689 -0.07707942768978555; 0.040635841389121095 -0.0699446358649314 0.9718256360134829], [-74.6011687764486], [5.0e-324, 1.0e-323, 2.9722756924e-314, 2.972275724e-314, 0.0], [2.468634351e-314], [2.827120692e-314 0.0 4.0e-323; 2.464684039e-314 2.762365e-318 2.336102285e-314; 2.8242922174e-314 0.0 2.965573277e-314], [333225.86023980915, 1.1305518610919826e7, -6.082121228863546e6, 1.7412936659162666e6, 8.715563316251904e6], [5.838314562852296e6, 410749.3557184078, 1.4425860440677446e6, 410749.3557184078, 28897.900482542987, 101491.84011758832, 1.4425860440677446e6, 101491.84011758832, 356447.8193381773], [1.9794302836685056, 0.07258461003916687, 0.057171470352740165, 0.07258461003916687, 1.2840385734767708, -0.07707942768978554, 0.05717147035274017, -0.07707942768978555, 0.9509885905046902], [1320.975775705217 0.5587041636211812 … -0.2724809183503345 1.8631842304218067; 738.0346659292244 1319.5621256943298 … -0.887502055224242 -1.4653762848781577; … ; -359.94069248270307 -1171.2663347733767 … 1321.421358259453 0.0979747109838014; 2461.221234063174 -1932.6140766287515 … 130.23517986049168 1321.3138750355597], [2.859481e6 -24828.2554298152 … 411.438648923677 785.2446319254894; -24828.2554298152 2.701561796659574e6 … -44768.62817621294 -1261.419362053248; … ; 411.438648923677 -44768.62817621294 … 2.6310740865743845e6 74134.23039763654; 785.2446319254894 -1261.419362053248 … 74134.23039763654 2.7122115260706153e6], [55362.97697017385 34.59376154973105 … 1.694584394849213 31.031765021253904; 1.9152136239894454e6 55366.07165641345 … -24.65777838225046 -0.7351277706491047; … ; 93817.23682605296 -1.3651457027511601e6 … 55353.59162392829 -18.54634605988723; 1.7180108922155262e6 -39627.631346765265 … -1.0286081979313565e6 55370.035907933234])"
      ]
     },
     "execution_count": 36,
     "metadata": {},
     "output_type": "execute_result"
    }
   ],
   "source": [
    "init_ls!(lmm)"
   ]
  },
  {
   "cell_type": "code",
   "execution_count": 35,
   "metadata": {
    "tags": []
   },
   "outputs": [
    {
     "ename": "LoadError",
     "evalue": "DomainError with -74.6011687764486:\nlog was called with a negative real argument but will only return a complex result if called with a complex argument. Try log(Complex(x)).",
     "output_type": "error",
     "traceback": [
      "DomainError with -74.6011687764486:\nlog was called with a negative real argument but will only return a complex result if called with a complex argument. Try log(Complex(x)).",
      "",
      "Stacktrace:",
      " [1] throw_complex_domainerror(f::Symbol, x::Float64)",
      "   @ Base.Math ./math.jl:33",
      " [2] _log(x::Float64, base::Val{:ℯ}, func::Symbol)",
      "   @ Base.Math ./special/log.jl:301",
      " [3] log",
      "   @ ./special/log.jl:267 [inlined]",
      " [4] logl!(obs::LmmObs{Float64}, β::Vector{Float64}, L::Matrix{Float64}, σ²::Float64, needgrad::Bool)",
      "   @ Main ./In[5]:44",
      " [5] logl!(m::LmmModel{Float64}, needgrad::Bool)",
      "   @ Main ./In[9]:65",
      " [6] logl!(m::LmmModel{Float64})",
      "   @ Main ./In[9]:57",
      " [7] macro expansion",
      "   @ show.jl:1181 [inlined]",
      " [8] top-level scope",
      "   @ In[35]:2"
     ]
    }
   ],
   "source": [
    "init_ls!(lmm)\n",
    "@show logl!(lmm)\n",
    "@show lmm.β\n",
    "@show lmm.σ²\n",
    "@show lmm.L;"
   ]
  },
  {
   "cell_type": "markdown",
   "metadata": {},
   "source": [
    "### Correctness\n",
    "\n",
    "Your start points should have a log-likelihood larger than -3.3627e6 (10 pts). The points you get are"
   ]
  },
  {
   "cell_type": "code",
   "execution_count": null,
   "metadata": {
    "tags": []
   },
   "outputs": [],
   "source": [
    "# this is the points you get\n",
    "(logl!(lmm) >  -3.3627e6) * 10"
   ]
  },
  {
   "cell_type": "markdown",
   "metadata": {},
   "source": [
    "### Efficiency\n",
    "\n",
    "The start point should be computed quickly. Otherwise there is no point using it as a starting point. My median run time is 175μs. You get full credit (10 pts) if the median run time is within 1ms."
   ]
  },
  {
   "cell_type": "code",
   "execution_count": null,
   "metadata": {
    "tags": []
   },
   "outputs": [],
   "source": [
    "bm_init = @benchmark init_ls!($lmm)"
   ]
  },
  {
   "cell_type": "code",
   "execution_count": null,
   "metadata": {
    "tags": []
   },
   "outputs": [],
   "source": [
    "# this is the points you get\n",
    "clamp(1 / (median(bm_init).time / 1e6) * 10, 0, 10)"
   ]
  },
  {
   "cell_type": "markdown",
   "metadata": {},
   "source": [
    "## Q6. NLP via MathOptInterface.jl\n",
    "\n",
    "We define the NLP problem using the modelling tool [MathOptInterface.jl](https://github.com/jump-dev/MathOptInterface.jl). Start-up code is given below. Modify if necessary to accomodate your own code."
   ]
  },
  {
   "cell_type": "code",
   "execution_count": null,
   "metadata": {
    "tags": []
   },
   "outputs": [],
   "source": [
    "\"\"\"\n",
    "    fit!(m::LmmModel, solver=Ipopt.Optimizer())\n",
    "\n",
    "Fit an `LmmModel` object by MLE using a nonlinear programming solver. Start point \n",
    "should be provided in `m.β`, `m.σ²`, `m.L`.\n",
    "\"\"\"\n",
    "function fit!(\n",
    "        m :: LmmModel{T},\n",
    "        solver = Ipopt.Optimizer()\n",
    "    ) where T <: AbstractFloat\n",
    "    p    = size(m.data[1].X, 2)\n",
    "    q    = size(m.data[1].Z, 2)\n",
    "    npar = p + ((q * (q + 1)) >> 1) + 1\n",
    "    # prep the MOI\n",
    "    MOI.empty!(solver)\n",
    "    # set lower bounds and upper bounds of parameters\n",
    "    # q diagonal entries of Cholesky factor L should be >= 0\n",
    "    # σ² should be >= 0\n",
    "    lb   = fill(0.0, q + 1)\n",
    "    ub   = fill(Inf, q + 1)\n",
    "    NLPBlock = MOI.NLPBlockData(MOI.NLPBoundsPair.(lb, ub), m, true)\n",
    "    MOI.set(solver, MOI.NLPBlock(), NLPBlock)\n",
    "    # start point\n",
    "    params = MOI.add_variables(solver, npar)    \n",
    "    par0   = Vector{T}(undef, npar)\n",
    "    modelpar_to_optimpar!(par0, m)    \n",
    "    for i in 1:npar\n",
    "        MOI.set(solver, MOI.VariablePrimalStart(), params[i], par0[i])\n",
    "    end\n",
    "    MOI.set(solver, MOI.ObjectiveSense(), MOI.MAX_SENSE)\n",
    "    # optimize\n",
    "    MOI.optimize!(solver)\n",
    "    optstat = MOI.get(solver, MOI.TerminationStatus())\n",
    "    optstat in (MOI.LOCALLY_SOLVED, MOI.ALMOST_LOCALLY_SOLVED) || \n",
    "        @warn(\"Optimization unsuccesful; got $optstat\")\n",
    "    # update parameters and refresh gradient\n",
    "    xsol = [MOI.get(solver, MOI.VariablePrimal(), MOI.VariableIndex(i)) for i in 1:npar]\n",
    "    optimpar_to_modelpar!(m, xsol)\n",
    "    logl!(m, true)\n",
    "    m\n",
    "end\n",
    "\n",
    "\"\"\"\n",
    "    ◺(n::Integer)\n",
    "\n",
    "Triangular number `n * (n + 1) / 2`.\n",
    "\"\"\"\n",
    "@inline ◺(n::Integer) = (n * (n + 1)) >> 1\n",
    "\n",
    "\"\"\"\n",
    "    modelpar_to_optimpar!(par, m)\n",
    "\n",
    "Translate model parameters in `m` to optimization variables in `par`.\n",
    "\"\"\"\n",
    "function modelpar_to_optimpar!(\n",
    "        par :: Vector,\n",
    "        m   :: LmmModel\n",
    "    )\n",
    "    p = size(m.data[1].X, 2)\n",
    "    q = size(m.data[1].Z, 2)\n",
    "    # β\n",
    "    copyto!(par, m.β)\n",
    "    # L\n",
    "    offset = p + 1\n",
    "    @inbounds for j in 1:q, i in j:q\n",
    "        par[offset] = m.L[i, j]\n",
    "        offset += 1\n",
    "    end\n",
    "    # σ²\n",
    "    par[end] = m.σ²[1]\n",
    "    par\n",
    "end\n",
    "\n",
    "\"\"\"\n",
    "    optimpar_to_modelpar!(m, par)\n",
    "\n",
    "Translate optimization variables in `par` to the model parameters in `m`.\n",
    "\"\"\"\n",
    "function optimpar_to_modelpar!(\n",
    "        m   :: LmmModel, \n",
    "        par :: Vector\n",
    "    )\n",
    "    p = size(m.data[1].X, 2)\n",
    "    q = size(m.data[1].Z, 2)\n",
    "    # β\n",
    "    copyto!(m.β, 1, par, 1, p)\n",
    "    # L\n",
    "    fill!(m.L, 0)\n",
    "    offset = p + 1\n",
    "    @inbounds for j in 1:q, i in j:q\n",
    "        m.L[i, j] = par[offset]\n",
    "        offset   += 1\n",
    "    end\n",
    "    # σ²\n",
    "    m.σ²[1] = par[end]    \n",
    "    m\n",
    "end\n",
    "\n",
    "function MOI.initialize(\n",
    "        m                  :: LmmModel, \n",
    "        requested_features :: Vector{Symbol}\n",
    "    )\n",
    "    for feat in requested_features\n",
    "        if !(feat in MOI.features_available(m))\n",
    "            error(\"Unsupported feature $feat\")\n",
    "        end\n",
    "    end\n",
    "end\n",
    "\n",
    "MOI.features_available(m::LmmModel) = [:Grad, :Hess, :Jac]\n",
    "\n",
    "function MOI.eval_objective(\n",
    "        m   :: LmmModel, \n",
    "        par :: Vector\n",
    "    )\n",
    "    optimpar_to_modelpar!(m, par)\n",
    "    logl!(m, false) # don't need gradient here\n",
    "end\n",
    "\n",
    "function MOI.eval_objective_gradient(\n",
    "        m    :: LmmModel, \n",
    "        grad :: Vector, \n",
    "        par  :: Vector\n",
    "    )\n",
    "    p = size(m.data[1].X, 2)\n",
    "    q = size(m.data[1].Z, 2)\n",
    "    optimpar_to_modelpar!(m, par) \n",
    "    obj = logl!(m, true)\n",
    "    # gradient wrt β\n",
    "    copyto!(grad, m.∇β)\n",
    "    # gradient wrt L\n",
    "    offset = p + 1\n",
    "    @inbounds for j in 1:q, i in j:q\n",
    "        grad[offset] = m.∇L[i, j]\n",
    "        offset += 1\n",
    "    end\n",
    "    # gradient with respect to σ²\n",
    "    grad[end] = m.∇σ²[1]\n",
    "    # return objective\n",
    "    obj\n",
    "end\n",
    "\n",
    "function MOI.eval_constraint(m::LmmModel, g, par)\n",
    "    p = size(m.data[1].X, 2)\n",
    "    q = size(m.data[1].Z, 2)\n",
    "    gidx   = 1\n",
    "    offset = p + 1\n",
    "    @inbounds for j in 1:q, i in j:q\n",
    "        if i == j\n",
    "            g[gidx] = par[offset]\n",
    "            gidx   += 1\n",
    "        end\n",
    "        offset += 1\n",
    "    end\n",
    "    g[end] = par[end]\n",
    "    g\n",
    "end\n",
    "\n",
    "function MOI.jacobian_structure(m::LmmModel)\n",
    "    p    = size(m.data[1].X, 2)\n",
    "    q    = size(m.data[1].Z, 2)\n",
    "    row  = collect(1:(q + 1))\n",
    "    col  = Int[]\n",
    "    offset = p + 1\n",
    "    for j in 1:q, i in j:q\n",
    "        (i == j) && push!(col, offset)\n",
    "        offset += 1\n",
    "    end\n",
    "    push!(col, offset)\n",
    "    [(row[i], col[i]) for i in 1:length(row)]\n",
    "end\n",
    "\n",
    "MOI.eval_constraint_jacobian(m::LmmModel, J, par) = fill!(J, 1)\n",
    "\n",
    "function MOI.hessian_lagrangian_structure(m::LmmModel)\n",
    "    p    = size(m.data[1].X, 2)\n",
    "    q    = size(m.data[1].Z, 2)    \n",
    "    q◺   = ◺(q)\n",
    "    # we work on the upper triangular part of the Hessian\n",
    "    arr1 = Vector{Int}(undef, ◺(p) + ◺(q◺) + q◺ + 1)\n",
    "    arr2 = Vector{Int}(undef, ◺(p) + ◺(q◺) + q◺ + 1)\n",
    "    # Hββ block\n",
    "    idx  = 1    \n",
    "    for j in 1:p, i in 1:j\n",
    "        arr1[idx] = i\n",
    "        arr2[idx] = j\n",
    "        idx      += 1\n",
    "    end\n",
    "    # HLL block\n",
    "    for j in 1:q◺, i in 1:j\n",
    "        arr1[idx] = p + i\n",
    "        arr2[idx] = p + j\n",
    "        idx      += 1\n",
    "    end\n",
    "    # HLσ² block\n",
    "    for i in (p + 1):(p + q◺)\n",
    "        arr1[idx] = i\n",
    "        arr2[idx] = p + q◺ + 1\n",
    "        idx      += 1\n",
    "    end\n",
    "    # Hσ²σ² block\n",
    "    arr1[idx] = p + q◺ + 1\n",
    "    arr2[idx] = p + q◺ + 1\n",
    "    [(arr1[i], arr2[i]) for i in 1:length(arr1)]\n",
    "end\n",
    "\n",
    "function MOI.eval_hessian_lagrangian(\n",
    "        m   :: LmmModel, \n",
    "        H   :: AbstractVector{T},\n",
    "        par :: AbstractVector{T}, \n",
    "        σ   :: T, \n",
    "        μ   :: AbstractVector{T}\n",
    "    ) where {T}    \n",
    "    p  = size(m.data[1].X, 2)\n",
    "    q  = size(m.data[1].Z, 2)    \n",
    "    q◺ = ◺(q)\n",
    "    optimpar_to_modelpar!(m, par)\n",
    "    logl!(m, true, true)\n",
    "    # Hββ block\n",
    "    idx = 1    \n",
    "    @inbounds for j in 1:p, i in 1:j\n",
    "        H[idx] = m.Hββ[i, j]\n",
    "        idx   += 1\n",
    "    end\n",
    "    # HLL block\n",
    "    @inbounds for j in 1:q◺, i in 1:j\n",
    "        H[idx] = m.HLL[i, j]\n",
    "        idx   += 1\n",
    "    end\n",
    "    # HLσ² block\n",
    "    @inbounds for j in 1:q, i in j:q\n",
    "        H[idx] = m.Hσ²L[i, j]\n",
    "        idx   += 1\n",
    "    end\n",
    "    # Hσ²σ² block\n",
    "    H[idx] = m.Hσ²σ²[1, 1]\n",
    "    lmul!(σ, H)\n",
    "end"
   ]
  },
  {
   "cell_type": "markdown",
   "metadata": {},
   "source": [
    "## Q7. (20 pts) Test drive\n",
    "\n",
    "Now we can run any NLP solver (supported by MathOptInterface.jl) to compute the MLE. For grading purpose, let's use the `:LD_MMA` ([Method of Moving Asymptotes](https://nlopt.readthedocs.io/en/latest/NLopt_Algorithms/#mma-method-of-moving-asymptotes-and-ccsa)) algorithm in NLopt.jl."
   ]
  },
  {
   "cell_type": "code",
   "execution_count": null,
   "metadata": {
    "tags": []
   },
   "outputs": [],
   "source": [
    "# initialize from least squares\n",
    "init_ls!(lmm)\n",
    "println(\"objective value at starting point: \", logl!(lmm)); println()\n",
    "\n",
    "# NLopt (LD_MMA) obj. val = -2.8400587866501966e6\n",
    "NLopt_solver = NLopt.Optimizer()\n",
    "MOI.set(NLopt_solver, MOI.RawOptimizerAttribute(\"algorithm\"), :LD_MMA)\n",
    "@time fit!(lmm, NLopt_solver)\n",
    "\n",
    "println(\"objective value at solution: $(logl!(lmm)))\")\n",
    "println(\"solution values:\")\n",
    "@show lmm.β\n",
    "@show lmm.σ²\n",
    "@show lmm.L * transpose(lmm.L)\n",
    "println(\"gradient @ solution:\")\n",
    "@show lmm.∇β\n",
    "@show lmm.∇σ²\n",
    "@show lmm.∇L\n",
    "@show norm([lmm.∇β; vec(LowerTriangular(lmm.∇L)); lmm.∇σ²])"
   ]
  },
  {
   "cell_type": "markdown",
   "metadata": {},
   "source": [
    "### Correctness\n",
    "\n",
    "You get 10 points if the following code does not throw `AssertError`."
   ]
  },
  {
   "cell_type": "code",
   "execution_count": null,
   "metadata": {},
   "outputs": [],
   "source": [
    "# objective at solution should be close enough to the optimal\n",
    "@assert logl!(lmm) > -2.840059e6\n",
    "# gradient at solution should be small enough\n",
    "@assert norm([lmm.∇β; vec(LowerTriangular(lmm.∇L)); lmm.∇σ²]) < 0.1"
   ]
  },
  {
   "cell_type": "markdown",
   "metadata": {},
   "source": [
    "### Efficiency\n",
    "\n",
    "My median run time is 50ms. You get 10 points if your median time is within 1s(=1000ms)."
   ]
  },
  {
   "cell_type": "code",
   "execution_count": null,
   "metadata": {},
   "outputs": [],
   "source": [
    "NLopt_solver = NLopt.Optimizer()\n",
    "MOI.set(NLopt_solver, MOI.RawOptimizerAttribute(\"algorithm\"), :LD_MMA)\n",
    "bm_mma = @benchmark fit!($lmm, $(NLopt_solver)) setup=(init_ls!(lmm))"
   ]
  },
  {
   "cell_type": "code",
   "execution_count": null,
   "metadata": {},
   "outputs": [],
   "source": [
    "# this is the points you get\n",
    "clamp(1 / (median(bm_mma).time / 1e9) * 10, 0, 10)"
   ]
  },
  {
   "cell_type": "markdown",
   "metadata": {},
   "source": [
    "## Q8. (10 pts) Gradient free vs gradient-based methods\n",
    "\n",
    "Advantage of using a modelling tool such as MathOptInterface.jl is that we can easily switch the backend solvers. For a research problem, we never know beforehand which solver works best. \n",
    "\n",
    "Try different solvers in the NLopt.jl and Ipopt.jl packages. Compare the results in terms of run times (the shorter the better), objective values at solution (the larger the better), and gradients at solution (closer to 0 the better). Summarize what you find.\n",
    "\n",
    "See this [page](https://nlopt.readthedocs.io/en/latest/NLopt_Algorithms/) for the descriptions of algorithms in NLopt.\n",
    "\n",
    "Documentation for the Ipopt can be found [here](https://coin-or.github.io/Ipopt/).  "
   ]
  },
  {
   "cell_type": "code",
   "execution_count": null,
   "metadata": {},
   "outputs": [],
   "source": [
    "# vector of solvers to compare\n",
    "solvers = [\"NLopt (LN_COBYLA, gradient free)\", \"NLopt (LD_MMA, gradient-based)\", \n",
    "    \"Ipopt (L-BFGS)\"]\n",
    "\n",
    "function setup_solver(s::String)\n",
    "    if s == \"NLopt (LN_COBYLA, gradient free)\"\n",
    "        solver = NLopt.Optimizer()\n",
    "        MOI.set(solver, MOI.RawOptimizerAttribute(\"algorithm\"), :LN_COBYLA)\n",
    "    elseif s == \"NLopt (LD_MMA, gradient-based)\"\n",
    "        solver = NLopt.Optimizer()\n",
    "        MOI.set(solver, MOI.RawOptimizerAttribute(\"algorithm\"), :LD_MMA)\n",
    "    elseif s == \"Ipopt (L-BFGS)\"\n",
    "        solver = Ipopt.Optimizer()\n",
    "        MOI.set(solver, MOI.RawOptimizerAttribute(\"print_level\"), 0)\n",
    "        MOI.set(solver, MOI.RawOptimizerAttribute(\"hessian_approximation\"), \"limited-memory\")\n",
    "        MOI.set(solver, MOI.RawOptimizerAttribute(\"tol\"), 1e-6)\n",
    "    elseif s == \"Ipopt (use FIM)\"\n",
    "        # Ipopt (use Hessian) obj val = -2.8400587866468e6\n",
    "        solver = Ipopt.Optimizer()\n",
    "        MOI.set(solver, MOI.RawOptimizerAttribute(\"print_level\"), 0)        \n",
    "    else\n",
    "        error(\"unrecognized solver $s\")\n",
    "    end\n",
    "    solver\n",
    "end\n",
    "\n",
    "# containers for results\n",
    "runtime = zeros(length(solvers))\n",
    "objvals = zeros(length(solvers))\n",
    "gradnrm = zeros(length(solvers))\n",
    "\n",
    "for i in 1:length(solvers)\n",
    "    solver = setup_solver(solvers[i])\n",
    "    bm = @benchmark fit!($lmm, $solver) setup = (init_ls!(lmm))\n",
    "    runtime[i] = median(bm).time / 1e9\n",
    "    objvals[i] = logl!(lmm, true)\n",
    "    gradnrm[i] = norm([lmm.∇β; vec(LowerTriangular(lmm.∇L)); lmm.∇σ²])\n",
    "end"
   ]
  },
  {
   "cell_type": "code",
   "execution_count": null,
   "metadata": {},
   "outputs": [],
   "source": [
    "# display results\n",
    "pretty_table(\n",
    "    hcat(solvers, runtime, objvals, gradnrm),\n",
    "    header = [\"Solver\", \"Runtime\", \"Log-Like\", \"Gradiant Norm\"],\n",
    "    formatters = (ft_printf(\"%5.2f\", 2), ft_printf(\"%8.8f\", 3:4))\n",
    "    )"
   ]
  },
  {
   "cell_type": "markdown",
   "metadata": {},
   "source": [
    "## Q9. (10 pts) Compare with existing art\n",
    "\n",
    "Let's compare our method with lme4 package in R and MixedModels.jl package in Julia. Both lme4 and MixedModels.jl are developed mainly by Doug Bates. Summarize what you find."
   ]
  },
  {
   "cell_type": "code",
   "execution_count": null,
   "metadata": {},
   "outputs": [],
   "source": [
    "method  = [\"My method\", \"lme4\", \"MixedModels.jl\"]\n",
    "runtime = zeros(3)  # record the run times\n",
    "loglike = zeros(3); # record the log-likelihood at MLE"
   ]
  },
  {
   "cell_type": "markdown",
   "metadata": {},
   "source": [
    "### Your approach"
   ]
  },
  {
   "cell_type": "code",
   "execution_count": null,
   "metadata": {},
   "outputs": [],
   "source": [
    "solver = setup_solver(\"NLopt (LD_MMA, gradient-based)\")\n",
    "bm_257 = @benchmark fit!($lmm, $solver) setup=(init_ls!(lmm))\n",
    "runtime[1] = (median(bm_257).time) / 1e9\n",
    "loglike[1] = logl!(lmm)"
   ]
  },
  {
   "cell_type": "markdown",
   "metadata": {},
   "source": [
    "### lme4 "
   ]
  },
  {
   "cell_type": "code",
   "execution_count": null,
   "metadata": {},
   "outputs": [],
   "source": [
    "R\"\"\"\n",
    "library(lme4)\n",
    "library(readr)\n",
    "library(magrittr)\n",
    "\n",
    "testdata <- read_csv(\"lmm_data.csv\")\n",
    "\"\"\""
   ]
  },
  {
   "cell_type": "code",
   "execution_count": null,
   "metadata": {},
   "outputs": [],
   "source": [
    "R\"\"\"\n",
    "rtime <- system.time(mmod <- \n",
    "  lmer(Y ~ X1 + X2 + X3 + X4 + (1 + Z1 + Z2 | ID), testdata, REML = FALSE))\n",
    "\"\"\""
   ]
  },
  {
   "cell_type": "code",
   "execution_count": null,
   "metadata": {},
   "outputs": [],
   "source": [
    "R\"\"\"\n",
    "rtime <- rtime[\"elapsed\"]\n",
    "summary(mmod)\n",
    "rlogl <- logLik(mmod)\n",
    "\"\"\"\n",
    "runtime[2] = @rget rtime\n",
    "loglike[2] = @rget rlogl;"
   ]
  },
  {
   "cell_type": "markdown",
   "metadata": {},
   "source": [
    "### MixedModels.jl\n"
   ]
  },
  {
   "cell_type": "code",
   "execution_count": null,
   "metadata": {},
   "outputs": [],
   "source": [
    "testdata = CSV.File(\"lmm_data.csv\", types = Dict(1=>String)) |> DataFrame"
   ]
  },
  {
   "cell_type": "code",
   "execution_count": null,
   "metadata": {},
   "outputs": [],
   "source": [
    "mj = fit(MixedModel, @formula(Y ~ X1 + X2 + X3 + X4 + (1 + Z1 + Z2 | ID)), testdata)\n",
    "bm_mm = @benchmark fit(MixedModel, @formula(Y ~ X1 + X2 + X3 + X4 + (1 + Z1 + Z2 | ID)), $testdata)\n",
    "loglike[3] = loglikelihood(mj)\n",
    "runtime[3] = median(bm_mm).time / 1e9"
   ]
  },
  {
   "cell_type": "code",
   "execution_count": null,
   "metadata": {},
   "outputs": [],
   "source": [
    "display(bm_mm)\n",
    "mj"
   ]
  },
  {
   "cell_type": "markdown",
   "metadata": {},
   "source": [
    "### Summary"
   ]
  },
  {
   "cell_type": "code",
   "execution_count": null,
   "metadata": {},
   "outputs": [],
   "source": [
    "pretty_table(\n",
    "    hcat(method, runtime, loglike),\n",
    "    header = [\"Method\", \"Runtime\", \"Log-Like\"],\n",
    "    formatters = (ft_printf(\"%5.2f\", 2), ft_printf(\"%8.6f\", 3))\n",
    "    )"
   ]
  },
  {
   "cell_type": "markdown",
   "metadata": {},
   "source": [
    "## Q10. Be proud of yourself\n",
    "\n",
    "Go to your resume/cv and claim you have experience performing analysis on complex longitudinal data sets with millions of records. And you beat current software by XXX fold."
   ]
  }
 ],
 "metadata": {
  "@webio": {
   "lastCommId": null,
   "lastKernelId": null
  },
  "jupytext": {
   "formats": "ipynb,qmd"
  },
  "kernelspec": {
   "display_name": "Julia 1.10.2",
   "language": "julia",
   "name": "julia-1.10"
  },
  "language_info": {
   "file_extension": ".jl",
   "mimetype": "application/julia",
   "name": "julia",
   "version": "1.10.2"
  },
  "toc": {
   "colors": {
    "hover_highlight": "#DAA520",
    "running_highlight": "#FF0000",
    "selected_highlight": "#FFD700"
   },
   "moveMenuLeft": true,
   "nav_menu": {
    "height": "87px",
    "width": "252px"
   },
   "navigate_menu": true,
   "number_sections": true,
   "sideBar": true,
   "skip_h1_title": true,
   "threshold": 4,
   "toc_cell": false,
   "toc_section_display": "block",
   "toc_window_display": false,
   "widenNotebook": false
  }
 },
 "nbformat": 4,
 "nbformat_minor": 4
}
