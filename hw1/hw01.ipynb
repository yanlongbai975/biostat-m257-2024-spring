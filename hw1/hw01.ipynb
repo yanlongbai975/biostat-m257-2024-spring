{
 "cells": [
  {
   "cell_type": "raw",
   "metadata": {},
   "source": [
    "---\n",
    "title: Biostat/Biomath M257 Homework 1\n",
    "subtitle: Due Apr 12 @ 11:59PM\n",
    "author: Student Name and UID\n",
    "date: today\n",
    "format:\n",
    "  html:\n",
    "    theme: cosmo\n",
    "    embed-resources: true\n",
    "    number-sections: false\n",
    "    toc: true\n",
    "    toc-depth: 4\n",
    "    toc-location: left\n",
    "---"
   ]
  },
  {
   "cell_type": "markdown",
   "metadata": {},
   "source": [
    "Show machine information for reproducibility:"
   ]
  },
  {
   "cell_type": "code",
   "execution_count": 1,
   "metadata": {},
   "outputs": [
    {
     "name": "stdout",
     "output_type": "stream",
     "text": [
      "Julia Version 1.10.2\n",
      "Commit bd47eca2c8a (2024-03-01 10:14 UTC)\n",
      "Build Info:\n",
      "  Official https://julialang.org/ release\n",
      "Platform Info:\n",
      "  OS: macOS (x86_64-apple-darwin22.4.0)\n",
      "  CPU: 12 × Intel(R) Core(TM) i7-8750H CPU @ 2.20GHz\n",
      "  WORD_SIZE: 64\n",
      "  LIBM: libopenlibm\n",
      "  LLVM: libLLVM-15.0.7 (ORCJIT, skylake)\n",
      "Threads: 1 default, 0 interactive, 1 GC (on 12 virtual cores)\n"
     ]
    }
   ],
   "source": [
    "versioninfo()"
   ]
  },
  {
   "cell_type": "markdown",
   "metadata": {},
   "source": [
    "Activate environment:"
   ]
  },
  {
   "cell_type": "code",
   "execution_count": 53,
   "metadata": {},
   "outputs": [
    {
     "name": "stderr",
     "output_type": "stream",
     "text": [
      "\u001b[32m\u001b[1m  Activating\u001b[22m\u001b[39m project at `~/Documents/GitHub/biostat-m257-2024-spring/hw1`\n",
      "\u001b[32m\u001b[1m   Resolving\u001b[22m\u001b[39m package versions...\n",
      "\u001b[32m\u001b[1m    Updating\u001b[22m\u001b[39m `~/Documents/GitHub/biostat-m257-2024-spring/hw1/Project.toml`\n",
      "  \u001b[90m[6f49c342] \u001b[39m\u001b[92m+ RCall v0.14.1\u001b[39m\n",
      "\u001b[32m\u001b[1m    Updating\u001b[22m\u001b[39m `~/Documents/GitHub/biostat-m257-2024-spring/hw1/Manifest.toml`\n",
      "  \u001b[90m[324d7699] \u001b[39m\u001b[92m+ CategoricalArrays v0.10.8\u001b[39m\n",
      "  \u001b[90m[8f4d0f93] \u001b[39m\u001b[92m+ Conda v1.10.0\u001b[39m\n",
      "  \u001b[90m[a8cc5b0e] \u001b[39m\u001b[92m+ Crayons v4.1.1\u001b[39m\n",
      "  \u001b[90m[a93c6f00] \u001b[39m\u001b[92m+ DataFrames v1.6.1\u001b[39m\n",
      "  \u001b[90m[e2d170a0] \u001b[39m\u001b[92m+ DataValueInterfaces v1.0.0\u001b[39m\n",
      "  \u001b[90m[842dd82b] \u001b[39m\u001b[92m+ InlineStrings v1.4.0\u001b[39m\n",
      "  \u001b[90m[41ab1584] \u001b[39m\u001b[92m+ InvertedIndices v1.3.0\u001b[39m\n",
      "  \u001b[90m[82899510] \u001b[39m\u001b[92m+ IteratorInterfaceExtensions v1.0.0\u001b[39m\n",
      "  \u001b[90m[2dfb63ee] \u001b[39m\u001b[92m+ PooledArrays v1.4.3\u001b[39m\n",
      "  \u001b[90m[08abe8d2] \u001b[39m\u001b[92m+ PrettyTables v2.3.1\u001b[39m\n",
      "  \u001b[90m[6f49c342] \u001b[39m\u001b[92m+ RCall v0.14.1\u001b[39m\n",
      "  \u001b[90m[91c51154] \u001b[39m\u001b[92m+ SentinelArrays v1.4.1\u001b[39m\n",
      "  \u001b[90m[1277b4bf] \u001b[39m\u001b[92m+ ShiftedArrays v2.0.0\u001b[39m\n",
      "  \u001b[90m[3eaba693] \u001b[39m\u001b[92m+ StatsModels v0.7.3\u001b[39m\n",
      "  \u001b[90m[892a3eda] \u001b[39m\u001b[92m+ StringManipulation v0.3.4\u001b[39m\n",
      "  \u001b[90m[3783bdb8] \u001b[39m\u001b[92m+ TableTraits v1.0.1\u001b[39m\n",
      "  \u001b[90m[bd369af6] \u001b[39m\u001b[92m+ Tables v1.11.1\u001b[39m\n",
      "  \u001b[90m[81def892] \u001b[39m\u001b[92m+ VersionParsing v1.3.0\u001b[39m\n",
      "  \u001b[90m[1b915085] \u001b[39m\u001b[92m+ WinReg v1.0.0\u001b[39m\n",
      "\u001b[32m\u001b[1mPrecompiling\u001b[22m\u001b[39m project...\n",
      "\u001b[32m  ✓ \u001b[39m\u001b[90mCategoricalArrays\u001b[39m\n",
      "\u001b[32m  ✓ \u001b[39m\u001b[90mStatsModels\u001b[39m\n",
      "\u001b[32m  ✓ \u001b[39m\u001b[90mCategoricalArrays → CategoricalArraysRecipesBaseExt\u001b[39m\n",
      "\u001b[32m  ✓ \u001b[39m\u001b[90mCategoricalArrays → CategoricalArraysSentinelArraysExt\u001b[39m\n",
      "\u001b[32m  ✓ \u001b[39m\u001b[90mCategoricalArrays → CategoricalArraysJSONExt\u001b[39m\n",
      "\u001b[32m  ✓ \u001b[39m\u001b[90mDataFrames\u001b[39m\n"
     ]
    },
    {
     "name": "stdout",
     "output_type": "stream",
     "text": [
      "\u001b[32m\u001b[1mStatus\u001b[22m\u001b[39m `~/Documents/GitHub/biostat-m257-2024-spring/hw1/Project.toml`\n",
      "  \u001b[90m[6e4b80f9] \u001b[39mBenchmarkTools v1.5.0\n",
      "  \u001b[90m[31c24e10] \u001b[39mDistributions v0.25.107\n",
      "  \u001b[90m[bdcacae8] \u001b[39mLoopVectorization v0.12.169\n",
      "\u001b[32m⌃\u001b[39m \u001b[90m[91a5bcdd] \u001b[39mPlots v1.40.3\n",
      "  \u001b[90m[f27b6e38] \u001b[39mPolynomials v4.0.6\n",
      "  \u001b[90m[6f49c342] \u001b[39mRCall v0.14.1\n",
      "  \u001b[90m[37e2e46d] \u001b[39mLinearAlgebra\n",
      "  \u001b[90m[9a3f8284] \u001b[39mRandom\n",
      "\u001b[36m\u001b[1mInfo\u001b[22m\u001b[39m Packages marked with \u001b[32m⌃\u001b[39m have new versions available and may be upgradable.\n"
     ]
    },
    {
     "name": "stderr",
     "output_type": "stream",
     "text": [
      "\u001b[32m  ✓ \u001b[39m\u001b[90mLatexify → DataFramesExt\u001b[39m\n",
      "  7 dependencies successfully precompiled in 32 seconds. 212 already precompiled.\n"
     ]
    }
   ],
   "source": [
    "using Pkg\n",
    "Pkg.activate(pwd())\n",
    "Pkg.instantiate()\n",
    "# add packages if needed\n",
    "Pkg.add([\"BenchmarkTools\", \"LinearAlgebra\", \"Plots\", \"Random\", \"Distributions\", \"RCall\"])\n",
    "Pkg.status()"
   ]
  },
  {
   "cell_type": "code",
   "execution_count": 54,
   "metadata": {},
   "outputs": [
    {
     "name": "stderr",
     "output_type": "stream",
     "text": [
      "\u001b[36m\u001b[1m[ \u001b[22m\u001b[39m\u001b[36m\u001b[1mInfo: \u001b[22m\u001b[39mPrecompiling RCall [6f49c342-dc21-5d91-9882-a32aef131414]\n",
      "\u001b[36m\u001b[1m[ \u001b[22m\u001b[39m\u001b[36m\u001b[1mInfo: \u001b[22m\u001b[39mPrecompiling IJuliaExt [2f4121a4-3b3a-5ce6-9c5e-1f2673ce168a]\n"
     ]
    }
   ],
   "source": [
    "using BenchmarkTools, Distributions, RCall\n",
    "using LinearAlgebra, Profile, SparseArrays\n",
    "using Plots"
   ]
  },
  {
   "cell_type": "markdown",
   "metadata": {},
   "source": [
    "## Q1. Git/GitHub\n",
    "\n",
    "**No handwritten homework reports are accepted for this course.**  We work with Git/GitHub.  Efficient and abundant use of Git, e.g., **frequent and well-documented** commits, is an important criterion for grading your homework.\n",
    "\n",
    "1. If you don't have a GitHub account, apply for the [Student Developer Pack](https://education.github.com/pack) at GitHub using your UCLA email.\n",
    "\n",
    "2. Create a **private** repository `biostat-m257-2024-spring` and add `Hua-Zhou` and `BrendonChau` (TA) as your collaborators.\n",
    "\n",
    "3. Top directories of the repository should be `hw1`, `hw2`, ... You may create other branches for developing your homework solutions; but the `master` branch will be your presentation area. Put your homework submission files (Jupyter notebook `.ipynb`, html converted from notebook, `Project.toml`, all code and data set to reproduce results) in the `master` branch. \n",
    "\n",
    "4. After each homework due date, teaching assistant and instructor will check out your `master` branch for grading. Tag each of your homework submissions with tag names `hw1`, `hw2`, ...  Tagging time will be your submission time. That means if you tag your hw1 submission after deadline, penalty points will be deducted for late submission.  \n",
    "\n",
    "5. Read the [style guide](https://github.com/invenia/BlueStyle) for Julia programming. Following rules in the style guide will be strictly enforced when grading: (1) four space indenting rule, (2) 92 charcter rule, (3) space after comma rule, (4) no space before comma rule, (5) space around binary operator rule."
   ]
  },
  {
   "cell_type": "markdown",
   "metadata": {},
   "source": [
    "## Q2. Computer arithmetics\n",
    "\n",
    "Let's check whether floating-point numbers obey certain algebraic rules. For 2-5, one counter-example suffices.\n",
    "\n",
    "1. Associative rule for addition says `(x + y) + z == x + (y + z)`. Check association rule using `x = 0.1`, `y = 0.1` and `z = 1.0` in Julia. Explain what you find.\n",
    "\n",
    "2. Do floating-point numbers obey the associative rule for multiplication: `(x * y) * z == x * (y * z)`?\n",
    "\n",
    "3. Do floating-point numbers obey the distributive rule: `a * (x + y) == a * x + a * y`?  \n",
    "\n",
    "4. Is `0 * x == 0` true for all floating-point number `x`? \n",
    "\n",
    "5. Is `x / a == x * (1 / a)` always true?"
   ]
  },
  {
   "cell_type": "markdown",
   "metadata": {},
   "source": [
    "### Q2.1"
   ]
  },
  {
   "cell_type": "code",
   "execution_count": 4,
   "metadata": {
    "scrolled": true
   },
   "outputs": [
    {
     "name": "stdout",
     "output_type": "stream",
     "text": [
      "1.2\n",
      "1.2000000000000002\n",
      "false"
     ]
    }
   ],
   "source": [
    "x = 0.1\n",
    "y = 0.1\n",
    "z = 1.0\n",
    "print(x+y+z)\n",
    "print(\"\\n\")\n",
    "print(y+z+x)\n",
    "print(\"\\n\")\n",
    "print(x+y+z == y+z+x)"
   ]
  },
  {
   "cell_type": "markdown",
   "metadata": {},
   "source": [
    "Above comparison results show that the associative rule is not applicable in Julia."
   ]
  },
  {
   "cell_type": "markdown",
   "metadata": {},
   "source": [
    "### Q2.2"
   ]
  },
  {
   "cell_type": "code",
   "execution_count": 5,
   "metadata": {},
   "outputs": [
    {
     "name": "stdout",
     "output_type": "stream",
     "text": [
      "1.0000000000000002e7\n",
      "1.0e7\n",
      "false"
     ]
    }
   ],
   "source": [
    "x = 0.1\n",
    "y = 0.1\n",
    "z = 1000000000.0\n",
    "print(x*y*z)\n",
    "print(\"\\n\")\n",
    "print(y*z*x)\n",
    "print(\"\\n\")\n",
    "print(x*y*z == y*z*x)"
   ]
  },
  {
   "cell_type": "markdown",
   "metadata": {},
   "source": [
    "Above results show that the multiplication associative rule is also not applicable in Julia."
   ]
  },
  {
   "cell_type": "markdown",
   "metadata": {},
   "source": [
    "### Q2.3"
   ]
  },
  {
   "cell_type": "code",
   "execution_count": 6,
   "metadata": {},
   "outputs": [
    {
     "name": "stdout",
     "output_type": "stream",
     "text": [
      "1.7\n",
      "1.7000000000000002\n",
      "false"
     ]
    }
   ],
   "source": [
    "x = 1/7\n",
    "y = 0.1\n",
    "z = 7.0\n",
    "print((x+y)*z)\n",
    "print(\"\\n\")\n",
    "print(x*z+y*z)\n",
    "print(\"\\n\")\n",
    "print((x+y)*z == x*z+y*z)"
   ]
  },
  {
   "cell_type": "markdown",
   "metadata": {},
   "source": [
    "Above results show that the distributive rule is also not applicable in Julia."
   ]
  },
  {
   "cell_type": "markdown",
   "metadata": {},
   "source": [
    "### Q2.4"
   ]
  },
  {
   "cell_type": "code",
   "execution_count": 7,
   "metadata": {},
   "outputs": [
    {
     "data": {
      "text/plain": [
       "Float64"
      ]
     },
     "execution_count": 7,
     "metadata": {},
     "output_type": "execute_result"
    }
   ],
   "source": [
    "typeof(typemax(Float64))"
   ]
  },
  {
   "cell_type": "code",
   "execution_count": 8,
   "metadata": {},
   "outputs": [
    {
     "data": {
      "text/plain": [
       "Float64"
      ]
     },
     "execution_count": 8,
     "metadata": {},
     "output_type": "execute_result"
    }
   ],
   "source": [
    "typeof(0.0)"
   ]
  },
  {
   "cell_type": "code",
   "execution_count": 9,
   "metadata": {},
   "outputs": [
    {
     "data": {
      "text/plain": [
       "NaN"
      ]
     },
     "execution_count": 9,
     "metadata": {},
     "output_type": "execute_result"
    }
   ],
   "source": [
    "0.0*typemax(Float64)"
   ]
  },
  {
   "cell_type": "code",
   "execution_count": 10,
   "metadata": {},
   "outputs": [
    {
     "data": {
      "text/plain": [
       "NaN"
      ]
     },
     "execution_count": 10,
     "metadata": {},
     "output_type": "execute_result"
    }
   ],
   "source": [
    "0.0*typemin(Float64)"
   ]
  },
  {
   "cell_type": "markdown",
   "metadata": {},
   "source": [
    "This formula $0 * x = 0$ does not work on max/min floating number."
   ]
  },
  {
   "cell_type": "markdown",
   "metadata": {},
   "source": [
    "### Q2.5"
   ]
  },
  {
   "cell_type": "code",
   "execution_count": 11,
   "metadata": {},
   "outputs": [
    {
     "data": {
      "text/plain": [
       "0.35014087480853595"
      ]
     },
     "execution_count": 11,
     "metadata": {},
     "output_type": "execute_result"
    }
   ],
   "source": [
    "x = 1.10000000002\n",
    "a = π\n",
    "x / a"
   ]
  },
  {
   "cell_type": "code",
   "execution_count": 12,
   "metadata": {
    "scrolled": false
   },
   "outputs": [
    {
     "data": {
      "text/plain": [
       "0.350140874808536"
      ]
     },
     "execution_count": 12,
     "metadata": {},
     "output_type": "execute_result"
    }
   ],
   "source": [
    "x * (1.0 / a)"
   ]
  },
  {
   "cell_type": "code",
   "execution_count": 13,
   "metadata": {},
   "outputs": [
    {
     "data": {
      "text/plain": [
       "false"
      ]
     },
     "execution_count": 13,
     "metadata": {},
     "output_type": "execute_result"
    }
   ],
   "source": [
    "x / a == x * (1.0 / a)"
   ]
  },
  {
   "cell_type": "markdown",
   "metadata": {},
   "source": [
    "The formula $x / a == x * (1 / a)$ is not always true on floating numbers"
   ]
  },
  {
   "cell_type": "markdown",
   "metadata": {},
   "source": [
    "## Q3. Multiple dispatch and JIT\n",
    "\n",
    "Consider Julia function\n",
    "```julia\n",
    "function g(k)\n",
    "    for i in 1:10\n",
    "        k = 5k - 1\n",
    "    end\n",
    "    k\n",
    "end\n",
    "```\n",
    "1. Use `@code_llvm` to find the LLVM bitcode of compiled `g` with `Int64` input.   \n",
    "2. Use `@code_llvm` to find the LLVM bitcode of compiled `g` with `Float64` input.  \n",
    "3. Compare the bitcode from questions 1 and 2. Explain what do you find.  \n",
    "4. Read Julia documentation on `@fastmath` and repeat the questions 1-3 on the function  \n",
    "\n",
    "```julia\n",
    "function g_fastmath(k)  \n",
    "    @fastmath for i in 1:10  \n",
    "        k = 5k - 1\n",
    "    end\n",
    "    k\n",
    "end\n",
    "```\n",
    "Explain what does the macro `@fastmath` do? And why are the bitcodes for `g` and `g_fastmath` with `Float64` input different? (Hint: Q2)"
   ]
  },
  {
   "cell_type": "markdown",
   "metadata": {},
   "source": [
    "### Q3.1"
   ]
  },
  {
   "cell_type": "code",
   "execution_count": 14,
   "metadata": {},
   "outputs": [
    {
     "data": {
      "text/html": [
       "# 2 methods for generic function <b>g</b> from \u001b[35mMain\u001b[39m:<ul><li> g(k::<b>Float64</b>) in Main at In[14]:7</li> <li> g(k::<b>Int64</b>) in Main at In[14]:1</li> </ul>"
      ],
      "text/plain": [
       "# 2 methods for generic function \"g\" from \u001b[35mMain\u001b[39m:\n",
       " [1] g(\u001b[90mk\u001b[39m::\u001b[1mFloat64\u001b[22m)\n",
       "\u001b[90m     @\u001b[39m \u001b[90m\u001b[4mIn[14]:7\u001b[24m\u001b[39m\n",
       " [2] g(\u001b[90mk\u001b[39m::\u001b[1mInt64\u001b[22m)\n",
       "\u001b[90m     @\u001b[39m \u001b[90m\u001b[4mIn[14]:1\u001b[24m\u001b[39m"
      ]
     },
     "execution_count": 14,
     "metadata": {},
     "output_type": "execute_result"
    }
   ],
   "source": [
    "function g(k::Int64)\n",
    "    for i in 1:10\n",
    "        k = 5k - 1\n",
    "    end\n",
    "    k\n",
    "end\n",
    "function g(k::Float64)\n",
    "    for i in 1:10\n",
    "        k = 5k - 1\n",
    "    end\n",
    "    k\n",
    "end\n",
    "methods(g)"
   ]
  },
  {
   "cell_type": "code",
   "execution_count": 15,
   "metadata": {},
   "outputs": [
    {
     "name": "stdout",
     "output_type": "stream",
     "text": [
      "\u001b[90m;  @ In[14]:1 within `g`\u001b[39m\n",
      "\u001b[95mdefine\u001b[39m \u001b[36mi64\u001b[39m \u001b[93m@julia_g_2105\u001b[39m\u001b[33m(\u001b[39m\u001b[36mi64\u001b[39m \u001b[95msignext\u001b[39m \u001b[0m%0\u001b[33m)\u001b[39m \u001b[0m#0 \u001b[33m{\u001b[39m\n",
      "\u001b[91mtop:\u001b[39m\n",
      "\u001b[90m;  @ In[14]:3 within `g`\u001b[39m\n",
      "\u001b[90m; ┌ @ int.jl:88 within `*`\u001b[39m\n",
      "   \u001b[0m%1 \u001b[0m= \u001b[96m\u001b[1mmul\u001b[22m\u001b[39m \u001b[36mi64\u001b[39m \u001b[0m%0\u001b[0m, \u001b[33m9765625\u001b[39m\n",
      "\u001b[90m; └\u001b[39m\n",
      "\u001b[90m; ┌ @ int.jl:86 within `-`\u001b[39m\n",
      "   \u001b[0m%2 \u001b[0m= \u001b[96m\u001b[1madd\u001b[22m\u001b[39m \u001b[36mi64\u001b[39m \u001b[0m%1\u001b[0m, \u001b[33m-2441406\u001b[39m\n",
      "\u001b[90m; └\u001b[39m\n",
      "\u001b[90m;  @ In[14]:4 within `g`\u001b[39m\n",
      "  \u001b[96m\u001b[1mret\u001b[22m\u001b[39m \u001b[36mi64\u001b[39m \u001b[0m%2\n",
      "\u001b[33m}\u001b[39m\n"
     ]
    }
   ],
   "source": [
    "@code_llvm g(2)"
   ]
  },
  {
   "cell_type": "markdown",
   "metadata": {},
   "source": [
    "### Q3.2"
   ]
  },
  {
   "cell_type": "code",
   "execution_count": 16,
   "metadata": {},
   "outputs": [
    {
     "name": "stdout",
     "output_type": "stream",
     "text": [
      "\u001b[90m;  @ In[14]:7 within `g`\u001b[39m\n",
      "\u001b[95mdefine\u001b[39m \u001b[36mdouble\u001b[39m \u001b[93m@julia_g_2128\u001b[39m\u001b[33m(\u001b[39m\u001b[36mdouble\u001b[39m \u001b[0m%0\u001b[33m)\u001b[39m \u001b[0m#0 \u001b[33m{\u001b[39m\n",
      "\u001b[91mtop:\u001b[39m\n",
      "\u001b[90m;  @ In[14]:9 within `g`\u001b[39m\n",
      "\u001b[90m; ┌ @ promotion.jl:423 within `*` @ float.jl:411\u001b[39m\n",
      "   \u001b[0m%1 \u001b[0m= \u001b[96m\u001b[1mfmul\u001b[22m\u001b[39m \u001b[36mdouble\u001b[39m \u001b[0m%0\u001b[0m, \u001b[33m5.000000e+00\u001b[39m\n",
      "\u001b[90m; └\u001b[39m\n",
      "\u001b[90m; ┌ @ promotion.jl:424 within `-` @ float.jl:410\u001b[39m\n",
      "   \u001b[0m%2 \u001b[0m= \u001b[96m\u001b[1mfadd\u001b[22m\u001b[39m \u001b[36mdouble\u001b[39m \u001b[0m%1\u001b[0m, \u001b[33m-1.000000e+00\u001b[39m\n",
      "\u001b[90m; └\u001b[39m\n",
      "\u001b[90m; ┌ @ promotion.jl:423 within `*` @ float.jl:411\u001b[39m\n",
      "   \u001b[0m%3 \u001b[0m= \u001b[96m\u001b[1mfmul\u001b[22m\u001b[39m \u001b[36mdouble\u001b[39m \u001b[0m%2\u001b[0m, \u001b[33m5.000000e+00\u001b[39m\n",
      "\u001b[90m; └\u001b[39m\n",
      "\u001b[90m; ┌ @ promotion.jl:424 within `-` @ float.jl:410\u001b[39m\n",
      "   \u001b[0m%4 \u001b[0m= \u001b[96m\u001b[1mfadd\u001b[22m\u001b[39m \u001b[36mdouble\u001b[39m \u001b[0m%3\u001b[0m, \u001b[33m-1.000000e+00\u001b[39m\n",
      "\u001b[90m; └\u001b[39m\n",
      "\u001b[90m; ┌ @ promotion.jl:423 within `*` @ float.jl:411\u001b[39m\n",
      "   \u001b[0m%5 \u001b[0m= \u001b[96m\u001b[1mfmul\u001b[22m\u001b[39m \u001b[36mdouble\u001b[39m \u001b[0m%4\u001b[0m, \u001b[33m5.000000e+00\u001b[39m\n",
      "\u001b[90m; └\u001b[39m\n",
      "\u001b[90m; ┌ @ promotion.jl:424 within `-` @ float.jl:410\u001b[39m\n",
      "   \u001b[0m%6 \u001b[0m= \u001b[96m\u001b[1mfadd\u001b[22m\u001b[39m \u001b[36mdouble\u001b[39m \u001b[0m%5\u001b[0m, \u001b[33m-1.000000e+00\u001b[39m\n",
      "\u001b[90m; └\u001b[39m\n",
      "\u001b[90m; ┌ @ promotion.jl:423 within `*` @ float.jl:411\u001b[39m\n",
      "   \u001b[0m%7 \u001b[0m= \u001b[96m\u001b[1mfmul\u001b[22m\u001b[39m \u001b[36mdouble\u001b[39m \u001b[0m%6\u001b[0m, \u001b[33m5.000000e+00\u001b[39m\n",
      "\u001b[90m; └\u001b[39m\n",
      "\u001b[90m; ┌ @ promotion.jl:424 within `-` @ float.jl:410\u001b[39m\n",
      "   \u001b[0m%8 \u001b[0m= \u001b[96m\u001b[1mfadd\u001b[22m\u001b[39m \u001b[36mdouble\u001b[39m \u001b[0m%7\u001b[0m, \u001b[33m-1.000000e+00\u001b[39m\n",
      "\u001b[90m; └\u001b[39m\n",
      "\u001b[90m; ┌ @ promotion.jl:423 within `*` @ float.jl:411\u001b[39m\n",
      "   \u001b[0m%9 \u001b[0m= \u001b[96m\u001b[1mfmul\u001b[22m\u001b[39m \u001b[36mdouble\u001b[39m \u001b[0m%8\u001b[0m, \u001b[33m5.000000e+00\u001b[39m\n",
      "\u001b[90m; └\u001b[39m\n",
      "\u001b[90m; ┌ @ promotion.jl:424 within `-` @ float.jl:410\u001b[39m\n",
      "   \u001b[0m%10 \u001b[0m= \u001b[96m\u001b[1mfadd\u001b[22m\u001b[39m \u001b[36mdouble\u001b[39m \u001b[0m%9\u001b[0m, \u001b[33m-1.000000e+00\u001b[39m\n",
      "\u001b[90m; └\u001b[39m\n",
      "\u001b[90m; ┌ @ promotion.jl:423 within `*` @ float.jl:411\u001b[39m\n",
      "   \u001b[0m%11 \u001b[0m= \u001b[96m\u001b[1mfmul\u001b[22m\u001b[39m \u001b[36mdouble\u001b[39m \u001b[0m%10\u001b[0m, \u001b[33m5.000000e+00\u001b[39m\n",
      "\u001b[90m; └\u001b[39m\n",
      "\u001b[90m; ┌ @ promotion.jl:424 within `-` @ float.jl:410\u001b[39m\n",
      "   \u001b[0m%12 \u001b[0m= \u001b[96m\u001b[1mfadd\u001b[22m\u001b[39m \u001b[36mdouble\u001b[39m \u001b[0m%11\u001b[0m, \u001b[33m-1.000000e+00\u001b[39m\n",
      "\u001b[90m; └\u001b[39m\n",
      "\u001b[90m; ┌ @ promotion.jl:423 within `*` @ float.jl:411\u001b[39m\n",
      "   \u001b[0m%13 \u001b[0m= \u001b[96m\u001b[1mfmul\u001b[22m\u001b[39m \u001b[36mdouble\u001b[39m \u001b[0m%12\u001b[0m, \u001b[33m5.000000e+00\u001b[39m\n",
      "\u001b[90m; └\u001b[39m\n",
      "\u001b[90m; ┌ @ promotion.jl:424 within `-` @ float.jl:410\u001b[39m\n",
      "   \u001b[0m%14 \u001b[0m= \u001b[96m\u001b[1mfadd\u001b[22m\u001b[39m \u001b[36mdouble\u001b[39m \u001b[0m%13\u001b[0m, \u001b[33m-1.000000e+00\u001b[39m\n",
      "\u001b[90m; └\u001b[39m\n",
      "\u001b[90m; ┌ @ promotion.jl:423 within `*` @ float.jl:411\u001b[39m\n",
      "   \u001b[0m%15 \u001b[0m= \u001b[96m\u001b[1mfmul\u001b[22m\u001b[39m \u001b[36mdouble\u001b[39m \u001b[0m%14\u001b[0m, \u001b[33m5.000000e+00\u001b[39m\n",
      "\u001b[90m; └\u001b[39m\n",
      "\u001b[90m; ┌ @ promotion.jl:424 within `-` @ float.jl:410\u001b[39m\n",
      "   \u001b[0m%16 \u001b[0m= \u001b[96m\u001b[1mfadd\u001b[22m\u001b[39m \u001b[36mdouble\u001b[39m \u001b[0m%15\u001b[0m, \u001b[33m-1.000000e+00\u001b[39m\n",
      "\u001b[90m; └\u001b[39m\n",
      "\u001b[90m; ┌ @ promotion.jl:423 within `*` @ float.jl:411\u001b[39m\n",
      "   \u001b[0m%17 \u001b[0m= \u001b[96m\u001b[1mfmul\u001b[22m\u001b[39m \u001b[36mdouble\u001b[39m \u001b[0m%16\u001b[0m, \u001b[33m5.000000e+00\u001b[39m\n",
      "\u001b[90m; └\u001b[39m\n",
      "\u001b[90m; ┌ @ promotion.jl:424 within `-` @ float.jl:410\u001b[39m\n",
      "   \u001b[0m%18 \u001b[0m= \u001b[96m\u001b[1mfadd\u001b[22m\u001b[39m \u001b[36mdouble\u001b[39m \u001b[0m%17\u001b[0m, \u001b[33m-1.000000e+00\u001b[39m\n",
      "\u001b[90m; └\u001b[39m\n",
      "\u001b[90m; ┌ @ promotion.jl:423 within `*` @ float.jl:411\u001b[39m\n",
      "   \u001b[0m%19 \u001b[0m= \u001b[96m\u001b[1mfmul\u001b[22m\u001b[39m \u001b[36mdouble\u001b[39m \u001b[0m%18\u001b[0m, \u001b[33m5.000000e+00\u001b[39m\n",
      "\u001b[90m; └\u001b[39m\n",
      "\u001b[90m; ┌ @ promotion.jl:424 within `-` @ float.jl:410\u001b[39m\n",
      "   \u001b[0m%20 \u001b[0m= \u001b[96m\u001b[1mfadd\u001b[22m\u001b[39m \u001b[36mdouble\u001b[39m \u001b[0m%19\u001b[0m, \u001b[33m-1.000000e+00\u001b[39m\n",
      "\u001b[90m; └\u001b[39m\n",
      "\u001b[90m;  @ In[14]:10 within `g`\u001b[39m\n",
      "  \u001b[96m\u001b[1mret\u001b[22m\u001b[39m \u001b[36mdouble\u001b[39m \u001b[0m%20\n",
      "\u001b[33m}\u001b[39m\n"
     ]
    }
   ],
   "source": [
    "@code_llvm g(2.0)"
   ]
  },
  {
   "cell_type": "markdown",
   "metadata": {},
   "source": [
    "### Q3.3"
   ]
  },
  {
   "cell_type": "markdown",
   "metadata": {},
   "source": [
    "By comparing the bitcode from Q3.1 and Q3.2, we can see that for floating numbers, this function takes significantly more steps than for integer numbers. Based on this finding, we can infer that the running time for the same function g but on floating numbers and integer numbers should be different, and the floating case should take longer time. The running time results are shown below."
   ]
  },
  {
   "cell_type": "code",
   "execution_count": 17,
   "metadata": {},
   "outputs": [
    {
     "data": {
      "text/plain": [
       "BenchmarkTools.Trial: 10000 samples with 1000 evaluations.\n",
       " Range \u001b[90m(\u001b[39m\u001b[36m\u001b[1mmin\u001b[22m\u001b[39m … \u001b[35mmax\u001b[39m\u001b[90m):  \u001b[39m\u001b[36m\u001b[1m3.084 ns\u001b[22m\u001b[39m … \u001b[35m20.623 ns\u001b[39m  \u001b[90m┊\u001b[39m GC \u001b[90m(\u001b[39mmin … max\u001b[90m): \u001b[39m0.00% … 0.00%\n",
       " Time  \u001b[90m(\u001b[39m\u001b[34m\u001b[1mmedian\u001b[22m\u001b[39m\u001b[90m):     \u001b[39m\u001b[34m\u001b[1m3.404 ns              \u001b[22m\u001b[39m\u001b[90m┊\u001b[39m GC \u001b[90m(\u001b[39mmedian\u001b[90m):    \u001b[39m0.00%\n",
       " Time  \u001b[90m(\u001b[39m\u001b[32m\u001b[1mmean\u001b[22m\u001b[39m ± \u001b[32mσ\u001b[39m\u001b[90m):   \u001b[39m\u001b[32m\u001b[1m3.429 ns\u001b[22m\u001b[39m ± \u001b[32m 0.468 ns\u001b[39m  \u001b[90m┊\u001b[39m GC \u001b[90m(\u001b[39mmean ± σ\u001b[90m):  \u001b[39m0.00% ± 0.00%\n",
       "\n",
       "  \u001b[39m \u001b[39m \u001b[39m \u001b[39m \u001b[39m \u001b[39m \u001b[39m \u001b[39m \u001b[39m \u001b[39m \u001b[39m \u001b[39m \u001b[39m \u001b[39m \u001b[39m \u001b[39m \u001b[39m \u001b[39m \u001b[39m \u001b[39m \u001b[39m \u001b[39m \u001b[39m \u001b[39m \u001b[39m \u001b[39m▃\u001b[34m█\u001b[39m\u001b[39m \u001b[32m \u001b[39m\u001b[39m \u001b[39m \u001b[39m \u001b[39m \u001b[39m \u001b[39m \u001b[39m▃\u001b[39m \u001b[39m \u001b[39m \u001b[39m \u001b[39m \u001b[39m \u001b[39m \u001b[39m \u001b[39m \u001b[39m \u001b[39m \u001b[39m \u001b[39m \u001b[39m \u001b[39m \u001b[39m \u001b[39m \u001b[39m \u001b[39m \u001b[39m \u001b[39m \u001b[39m \u001b[39m \u001b[39m \n",
       "  \u001b[39m▄\u001b[39m▃\u001b[39m▁\u001b[39m▁\u001b[39m▁\u001b[39m▁\u001b[39m▁\u001b[39m▂\u001b[39m▇\u001b[39m▃\u001b[39m▂\u001b[39m▁\u001b[39m▁\u001b[39m▁\u001b[39m▁\u001b[39m▁\u001b[39m▃\u001b[39m▄\u001b[39m▂\u001b[39m▁\u001b[39m▁\u001b[39m▁\u001b[39m▁\u001b[39m▁\u001b[39m▁\u001b[39m█\u001b[34m█\u001b[39m\u001b[39m▂\u001b[32m▂\u001b[39m\u001b[39m▁\u001b[39m▁\u001b[39m▁\u001b[39m▁\u001b[39m▁\u001b[39m▁\u001b[39m█\u001b[39m█\u001b[39m▃\u001b[39m▂\u001b[39m▁\u001b[39m▁\u001b[39m▁\u001b[39m▁\u001b[39m▁\u001b[39m▁\u001b[39m▂\u001b[39m▃\u001b[39m▁\u001b[39m▁\u001b[39m▁\u001b[39m▁\u001b[39m▁\u001b[39m▁\u001b[39m▁\u001b[39m▁\u001b[39m▁\u001b[39m▃\u001b[39m▄\u001b[39m \u001b[39m▃\n",
       "  3.08 ns\u001b[90m        Histogram: frequency by time\u001b[39m        3.79 ns \u001b[0m\u001b[1m<\u001b[22m\n",
       "\n",
       " Memory estimate\u001b[90m: \u001b[39m\u001b[33m0 bytes\u001b[39m, allocs estimate\u001b[90m: \u001b[39m\u001b[33m0\u001b[39m."
      ]
     },
     "execution_count": 17,
     "metadata": {},
     "output_type": "execute_result"
    }
   ],
   "source": [
    "a = 2\n",
    "@benchmark g($a)"
   ]
  },
  {
   "cell_type": "code",
   "execution_count": 18,
   "metadata": {
    "scrolled": true
   },
   "outputs": [
    {
     "data": {
      "text/plain": [
       "BenchmarkTools.Trial: 10000 samples with 999 evaluations.\n",
       " Range \u001b[90m(\u001b[39m\u001b[36m\u001b[1mmin\u001b[22m\u001b[39m … \u001b[35mmax\u001b[39m\u001b[90m):  \u001b[39m\u001b[36m\u001b[1m5.127 ns\u001b[22m\u001b[39m … \u001b[35m67.985 ns\u001b[39m  \u001b[90m┊\u001b[39m GC \u001b[90m(\u001b[39mmin … max\u001b[90m): \u001b[39m0.00% … 0.00%\n",
       " Time  \u001b[90m(\u001b[39m\u001b[34m\u001b[1mmedian\u001b[22m\u001b[39m\u001b[90m):     \u001b[39m\u001b[34m\u001b[1m7.060 ns              \u001b[22m\u001b[39m\u001b[90m┊\u001b[39m GC \u001b[90m(\u001b[39mmedian\u001b[90m):    \u001b[39m0.00%\n",
       " Time  \u001b[90m(\u001b[39m\u001b[32m\u001b[1mmean\u001b[22m\u001b[39m ± \u001b[32mσ\u001b[39m\u001b[90m):   \u001b[39m\u001b[32m\u001b[1m6.637 ns\u001b[22m\u001b[39m ± \u001b[32m 1.452 ns\u001b[39m  \u001b[90m┊\u001b[39m GC \u001b[90m(\u001b[39mmean ± σ\u001b[90m):  \u001b[39m0.00% ± 0.00%\n",
       "\n",
       "  \u001b[39m█\u001b[39m \u001b[39m \u001b[39m \u001b[39m \u001b[39m \u001b[39m \u001b[39m \u001b[39m \u001b[39m \u001b[39m \u001b[39m \u001b[39m \u001b[39m \u001b[39m \u001b[39m \u001b[39m \u001b[39m \u001b[39m \u001b[39m \u001b[39m \u001b[39m \u001b[39m \u001b[39m \u001b[32m \u001b[39m\u001b[39m \u001b[39m \u001b[39m \u001b[39m \u001b[39m \u001b[34m█\u001b[39m\u001b[39m \u001b[39m \u001b[39m \u001b[39m▁\u001b[39m \u001b[39m \u001b[39m \u001b[39m \u001b[39m \u001b[39m \u001b[39m \u001b[39m \u001b[39m \u001b[39m \u001b[39m \u001b[39m \u001b[39m \u001b[39m \u001b[39m \u001b[39m \u001b[39m \u001b[39m \u001b[39m \u001b[39m \u001b[39m \u001b[39m \u001b[39m \u001b[39m \u001b[39m \n",
       "  \u001b[39m█\u001b[39m▂\u001b[39m▃\u001b[39m▁\u001b[39m▃\u001b[39m▂\u001b[39m▂\u001b[39m▃\u001b[39m▂\u001b[39m▃\u001b[39m▁\u001b[39m▃\u001b[39m▂\u001b[39m▁\u001b[39m▃\u001b[39m▂\u001b[39m▂\u001b[39m▃\u001b[39m▂\u001b[39m▂\u001b[39m▅\u001b[39m▁\u001b[39m▂\u001b[39m▄\u001b[32m▁\u001b[39m\u001b[39m▁\u001b[39m▃\u001b[39m▂\u001b[39m▁\u001b[39m▃\u001b[34m█\u001b[39m\u001b[39m▂\u001b[39m▁\u001b[39m▅\u001b[39m█\u001b[39m▂\u001b[39m▁\u001b[39m▂\u001b[39m▃\u001b[39m▁\u001b[39m▁\u001b[39m▂\u001b[39m▃\u001b[39m▁\u001b[39m▁\u001b[39m▁\u001b[39m▂\u001b[39m▃\u001b[39m▁\u001b[39m▁\u001b[39m▁\u001b[39m▂\u001b[39m▃\u001b[39m▂\u001b[39m▂\u001b[39m▁\u001b[39m▁\u001b[39m▄\u001b[39m \u001b[39m▃\n",
       "  5.13 ns\u001b[90m        Histogram: frequency by time\u001b[39m        8.85 ns \u001b[0m\u001b[1m<\u001b[22m\n",
       "\n",
       " Memory estimate\u001b[90m: \u001b[39m\u001b[33m0 bytes\u001b[39m, allocs estimate\u001b[90m: \u001b[39m\u001b[33m0\u001b[39m."
      ]
     },
     "execution_count": 18,
     "metadata": {},
     "output_type": "execute_result"
    }
   ],
   "source": [
    "a = 2.0\n",
    "@benchmark g($a)"
   ]
  },
  {
   "cell_type": "markdown",
   "metadata": {},
   "source": [
    "### Q3.4"
   ]
  },
  {
   "cell_type": "code",
   "execution_count": 19,
   "metadata": {},
   "outputs": [
    {
     "data": {
      "text/html": [
       "# 2 methods for generic function <b>g_fastmath</b> from \u001b[35mMain\u001b[39m:<ul><li> g_fastmath(k::<b>Float64</b>) in Main at In[19]:7</li> <li> g_fastmath(k::<b>Int64</b>) in Main at In[19]:1</li> </ul>"
      ],
      "text/plain": [
       "# 2 methods for generic function \"g_fastmath\" from \u001b[35mMain\u001b[39m:\n",
       " [1] g_fastmath(\u001b[90mk\u001b[39m::\u001b[1mFloat64\u001b[22m)\n",
       "\u001b[90m     @\u001b[39m \u001b[90m\u001b[4mIn[19]:7\u001b[24m\u001b[39m\n",
       " [2] g_fastmath(\u001b[90mk\u001b[39m::\u001b[1mInt64\u001b[22m)\n",
       "\u001b[90m     @\u001b[39m \u001b[90m\u001b[4mIn[19]:1\u001b[24m\u001b[39m"
      ]
     },
     "execution_count": 19,
     "metadata": {},
     "output_type": "execute_result"
    }
   ],
   "source": [
    "function g_fastmath(k::Int64)\n",
    "    @fastmath for i in 1:10\n",
    "        k = 5k - 1\n",
    "    end\n",
    "    k\n",
    "end\n",
    "function g_fastmath(k::Float64)\n",
    "    @fastmath for i in 1:10\n",
    "        k = 5k - 1\n",
    "    end\n",
    "    k\n",
    "end\n",
    "methods(g_fastmath)"
   ]
  },
  {
   "cell_type": "code",
   "execution_count": 20,
   "metadata": {},
   "outputs": [
    {
     "name": "stdout",
     "output_type": "stream",
     "text": [
      "\u001b[90m;  @ In[19]:1 within `g_fastmath`\u001b[39m\n",
      "\u001b[95mdefine\u001b[39m \u001b[36mi64\u001b[39m \u001b[93m@julia_g_fastmath_2637\u001b[39m\u001b[33m(\u001b[39m\u001b[36mi64\u001b[39m \u001b[95msignext\u001b[39m \u001b[0m%0\u001b[33m)\u001b[39m \u001b[0m#0 \u001b[33m{\u001b[39m\n",
      "\u001b[91mtop:\u001b[39m\n",
      "\u001b[90m;  @ In[19]:3 within `g_fastmath`\u001b[39m\n",
      "\u001b[90m; ┌ @ fastmath.jl:269 within `mul_fast`\u001b[39m\n",
      "\u001b[90m; │┌ @ int.jl:88 within `*`\u001b[39m\n",
      "    \u001b[0m%1 \u001b[0m= \u001b[96m\u001b[1mmul\u001b[22m\u001b[39m \u001b[36mi64\u001b[39m \u001b[0m%0\u001b[0m, \u001b[33m9765625\u001b[39m\n",
      "\u001b[90m; └└\u001b[39m\n",
      "\u001b[90m; ┌ @ fastmath.jl:269 within `sub_fast`\u001b[39m\n",
      "\u001b[90m; │┌ @ int.jl:86 within `-`\u001b[39m\n",
      "    \u001b[0m%2 \u001b[0m= \u001b[96m\u001b[1madd\u001b[22m\u001b[39m \u001b[36mi64\u001b[39m \u001b[0m%1\u001b[0m, \u001b[33m-2441406\u001b[39m\n",
      "\u001b[90m; └└\u001b[39m\n",
      "\u001b[90m;  @ In[19]:4 within `g_fastmath`\u001b[39m\n",
      "  \u001b[96m\u001b[1mret\u001b[22m\u001b[39m \u001b[36mi64\u001b[39m \u001b[0m%2\n",
      "\u001b[33m}\u001b[39m\n"
     ]
    }
   ],
   "source": [
    "@code_llvm g_fastmath(2)"
   ]
  },
  {
   "cell_type": "code",
   "execution_count": 21,
   "metadata": {
    "scrolled": true
   },
   "outputs": [
    {
     "name": "stdout",
     "output_type": "stream",
     "text": [
      "\u001b[90m;  @ In[19]:7 within `g_fastmath`\u001b[39m\n",
      "\u001b[95mdefine\u001b[39m \u001b[36mdouble\u001b[39m \u001b[93m@julia_g_fastmath_2639\u001b[39m\u001b[33m(\u001b[39m\u001b[36mdouble\u001b[39m \u001b[0m%0\u001b[33m)\u001b[39m \u001b[0m#0 \u001b[33m{\u001b[39m\n",
      "\u001b[91mtop:\u001b[39m\n",
      "\u001b[90m;  @ In[19]:9 within `g_fastmath`\u001b[39m\n",
      "\u001b[90m; ┌ @ fastmath.jl:266 within `mul_fast` @ fastmath.jl:165\u001b[39m\n",
      "   \u001b[0m%1 \u001b[0m= \u001b[96m\u001b[1mfmul\u001b[22m\u001b[39m \u001b[95mfast\u001b[39m \u001b[36mdouble\u001b[39m \u001b[0m%0\u001b[0m, \u001b[33m0x4162A05F20000000\u001b[39m\n",
      "\u001b[90m; └\u001b[39m\n",
      "\u001b[90m; ┌ @ fastmath.jl:266 within `sub_fast` @ fastmath.jl:164\u001b[39m\n",
      "   \u001b[0m%2 \u001b[0m= \u001b[96m\u001b[1mfadd\u001b[22m\u001b[39m \u001b[95mfast\u001b[39m \u001b[36mdouble\u001b[39m \u001b[0m%1\u001b[0m, \u001b[33m0xC142A05F00000000\u001b[39m\n",
      "\u001b[90m; └\u001b[39m\n",
      "\u001b[90m;  @ In[19]:10 within `g_fastmath`\u001b[39m\n",
      "  \u001b[96m\u001b[1mret\u001b[22m\u001b[39m \u001b[36mdouble\u001b[39m \u001b[0m%2\n",
      "\u001b[33m}\u001b[39m\n"
     ]
    }
   ],
   "source": [
    "@code_llvm g_fastmath(2.0)"
   ]
  },
  {
   "cell_type": "code",
   "execution_count": 22,
   "metadata": {},
   "outputs": [
    {
     "data": {
      "text/plain": [
       "BenchmarkTools.Trial: 10000 samples with 1000 evaluations.\n",
       " Range \u001b[90m(\u001b[39m\u001b[36m\u001b[1mmin\u001b[22m\u001b[39m … \u001b[35mmax\u001b[39m\u001b[90m):  \u001b[39m\u001b[36m\u001b[1m3.174 ns\u001b[22m\u001b[39m … \u001b[35m21.051 ns\u001b[39m  \u001b[90m┊\u001b[39m GC \u001b[90m(\u001b[39mmin … max\u001b[90m): \u001b[39m0.00% … 0.00%\n",
       " Time  \u001b[90m(\u001b[39m\u001b[34m\u001b[1mmedian\u001b[22m\u001b[39m\u001b[90m):     \u001b[39m\u001b[34m\u001b[1m3.408 ns              \u001b[22m\u001b[39m\u001b[90m┊\u001b[39m GC \u001b[90m(\u001b[39mmedian\u001b[90m):    \u001b[39m0.00%\n",
       " Time  \u001b[90m(\u001b[39m\u001b[32m\u001b[1mmean\u001b[22m\u001b[39m ± \u001b[32mσ\u001b[39m\u001b[90m):   \u001b[39m\u001b[32m\u001b[1m3.550 ns\u001b[22m\u001b[39m ± \u001b[32m 0.431 ns\u001b[39m  \u001b[90m┊\u001b[39m GC \u001b[90m(\u001b[39mmean ± σ\u001b[90m):  \u001b[39m0.00% ± 0.00%\n",
       "\n",
       "  \u001b[39m \u001b[39m \u001b[39m \u001b[39m \u001b[39m \u001b[39m \u001b[39m \u001b[39m \u001b[39m \u001b[39m \u001b[39m \u001b[39m█\u001b[34m \u001b[39m\u001b[39m \u001b[39m \u001b[39m \u001b[39m \u001b[39m \u001b[39m▃\u001b[39m \u001b[32m \u001b[39m\u001b[39m \u001b[39m \u001b[39m \u001b[39m \u001b[39m \u001b[39m \u001b[39m \u001b[39m \u001b[39m \u001b[39m \u001b[39m \u001b[39m \u001b[39m \u001b[39m \u001b[39m \u001b[39m \u001b[39m \u001b[39m \u001b[39m \u001b[39m \u001b[39m \u001b[39m \u001b[39m \u001b[39m \u001b[39m \u001b[39m \u001b[39m \u001b[39m \u001b[39m \u001b[39m \u001b[39m \u001b[39m \u001b[39m \u001b[39m \u001b[39m \u001b[39m \u001b[39m \u001b[39m \u001b[39m \n",
       "  \u001b[39m▃\u001b[39m▂\u001b[39m▁\u001b[39m▁\u001b[39m▁\u001b[39m▄\u001b[39m▄\u001b[39m▂\u001b[39m▁\u001b[39m▁\u001b[39m▁\u001b[39m█\u001b[34m█\u001b[39m\u001b[39m▂\u001b[39m▁\u001b[39m▁\u001b[39m▁\u001b[39m▆\u001b[39m█\u001b[39m▂\u001b[32m▂\u001b[39m\u001b[39m▁\u001b[39m▂\u001b[39m▂\u001b[39m▂\u001b[39m▄\u001b[39m▂\u001b[39m▁\u001b[39m▁\u001b[39m▂\u001b[39m▁\u001b[39m▂\u001b[39m▄\u001b[39m▂\u001b[39m▁\u001b[39m▁\u001b[39m▂\u001b[39m▁\u001b[39m▁\u001b[39m▃\u001b[39m▄\u001b[39m▂\u001b[39m▂\u001b[39m▁\u001b[39m▁\u001b[39m▁\u001b[39m▁\u001b[39m▂\u001b[39m▃\u001b[39m▂\u001b[39m▂\u001b[39m▁\u001b[39m▁\u001b[39m▁\u001b[39m▁\u001b[39m▁\u001b[39m▂\u001b[39m▅\u001b[39m \u001b[39m▃\n",
       "  3.17 ns\u001b[90m        Histogram: frequency by time\u001b[39m        4.26 ns \u001b[0m\u001b[1m<\u001b[22m\n",
       "\n",
       " Memory estimate\u001b[90m: \u001b[39m\u001b[33m0 bytes\u001b[39m, allocs estimate\u001b[90m: \u001b[39m\u001b[33m0\u001b[39m."
      ]
     },
     "execution_count": 22,
     "metadata": {},
     "output_type": "execute_result"
    }
   ],
   "source": [
    "a = 2.0\n",
    "@benchmark g_fastmath($a)"
   ]
  },
  {
   "cell_type": "markdown",
   "metadata": {},
   "source": [
    "From above LLVM bitcode, we can see that @fastmath changed the computation steps for floating numbers, and use less processing steps for them. In Q3.2, there are 20 steps for g(2.0) while only 2 steps are conducted. The julia files indicate that @fastmath is allowing floating point optimizations that are correct for real numbers but lead to differences for IEEE numbers. And I checked the file \"fastmath.jl\" (https://github.com/JuliaLang/julia/blob/master/base/fastmath.jl#L31), they are using some transformed version of the expression for floating numbers. And I think this is the reason why it gives us a fast result."
   ]
  },
  {
   "cell_type": "markdown",
   "metadata": {},
   "source": [
    "## Q4. Evaluating a polynomial\n",
    "\n",
    "Create the vector `x = (0.988, 0.989, 0.990, ..., 1.010, 1.011, 1.012)`.   \n",
    "\n",
    "1. Plot the polynomial `y = x^7 - 7x^6 + 21x^5 - 35x^4 + 35x^3 - 21x^2 + 7x - 1` at points `x`.  \n",
    "\n",
    "2. Plot the polynomial `y = (x - 1)^7` at points `x`.  \n",
    "\n",
    "3. Explain what you found."
   ]
  },
  {
   "cell_type": "markdown",
   "metadata": {},
   "source": [
    "### Q4.1"
   ]
  },
  {
   "cell_type": "code",
   "execution_count": 38,
   "metadata": {},
   "outputs": [
    {
     "data": {
      "text/plain": [
       "0.988:0.001:1.012"
      ]
     },
     "execution_count": 38,
     "metadata": {},
     "output_type": "execute_result"
    }
   ],
   "source": [
    "x = range(start = 0.988, stop = 1.012, step = 0.001)"
   ]
  },
  {
   "cell_type": "code",
   "execution_count": 42,
   "metadata": {},
   "outputs": [
    {
     "data": {
      "text/plain": [
       "g_poly (generic function with 1 method)"
      ]
     },
     "execution_count": 42,
     "metadata": {},
     "output_type": "execute_result"
    }
   ],
   "source": [
    "function g_poly(k::Float64)\n",
    "    k ^ 7 - 7 * (k ^ 6) + 21 * (k ^ 5) - 35 * (k ^ 4) + 35 * (k ^ 3) - 21 * (k ^ 2) + 7 * k - 1\n",
    "end"
   ]
  },
  {
   "cell_type": "code",
   "execution_count": 44,
   "metadata": {},
   "outputs": [
    {
     "data": {
      "text/plain": [
       "25-element Vector{Float64}:\n",
       " -3.552713678800501e-14\n",
       " -2.3092638912203256e-14\n",
       " -1.4210854715202004e-14\n",
       " -7.993605777301127e-15\n",
       " -6.217248937900877e-15\n",
       " -4.440892098500626e-15\n",
       " -1.7763568394002505e-15\n",
       " -3.552713678800501e-15\n",
       " -1.7763568394002505e-15\n",
       " -2.6645352591003757e-15\n",
       " -8.881784197001252e-16\n",
       " -1.7763568394002505e-15\n",
       "  0.0\n",
       " -5.329070518200751e-15\n",
       " -6.217248937900877e-15\n",
       "  1.7763568394002505e-15\n",
       " -1.7763568394002505e-15\n",
       " -8.881784197001252e-16\n",
       " -1.7763568394002505e-15\n",
       "  0.0\n",
       "  2.6645352591003757e-15\n",
       " -3.552713678800501e-15\n",
       "  7.105427357601002e-15\n",
       "  1.865174681370263e-14\n",
       "  4.618527782440651e-14"
      ]
     },
     "execution_count": 44,
     "metadata": {},
     "output_type": "execute_result"
    }
   ],
   "source": [
    "y = g_poly.(x)\n",
    "y"
   ]
  },
  {
   "cell_type": "code",
   "execution_count": 61,
   "metadata": {},
   "outputs": [
    {
     "data": {
      "image/png": "[encoded data removed]",
      "image/svg+xml": [
       "<?xml version=\"1.0\" encoding=\"utf-8\"?>\n",
       "<svg xmlns=\"http://www.w3.org/2000/svg\" xmlns:xlink=\"http://www.w3.org/1999/xlink\" width=\"600\" height=\"400\" viewBox=\"0 0 2400 1600\">\n",
       "<defs>\n",
       "  <clipPath id=\"clip210\">\n",
       "    <rect x=\"0\" y=\"0\" width=\"2400\" height=\"1600\"/>\n",
       "  </clipPath>\n",
       "</defs>\n",
       "<path clip-path=\"url(#clip210)\" d=\"M0 1600 L2400 1600 L2400 0 L0 0  Z\" fill=\"#ffffff\" fill-rule=\"evenodd\" fill-opacity=\"1\"/>\n",
       "<defs>\n",
       "  <clipPath id=\"clip211\">\n",
       "    <rect x=\"480\" y=\"0\" width=\"1681\" height=\"1600\"/>\n",
       "  </clipPath>\n",
       "</defs>\n",
       "<path clip-path=\"url(#clip210)\" d=\"M369.025 1486.45 L2352.76 1486.45 L2352.76 123.472 L369.025 123.472  Z\" fill=\"#ffffff\" fill-rule=\"evenodd\" fill-opacity=\"1\"/>\n",
       "<defs>\n",
       "  <clipPath id=\"clip212\">\n",
       "    <rect x=\"369\" y=\"123\" width=\"1985\" height=\"1364\"/>\n",
       "  </clipPath>\n",
       "</defs>\n",
       "<polyline clip-path=\"url(#clip212)\" style=\"stroke:#000000; stroke-linecap:round; stroke-linejoin:round; stroke-width:2; stroke-opacity:0.1; fill:none\" points=\"581.122,1486.45 581.122,123.472 \"/>\n",
       "<polyline clip-path=\"url(#clip212)\" style=\"stroke:#000000; stroke-linecap:round; stroke-linejoin:round; stroke-width:2; stroke-opacity:0.1; fill:none\" points=\"971.006,1486.45 971.006,123.472 \"/>\n",
       "<polyline clip-path=\"url(#clip212)\" style=\"stroke:#000000; stroke-linecap:round; stroke-linejoin:round; stroke-width:2; stroke-opacity:0.1; fill:none\" points=\"1360.89,1486.45 1360.89,123.472 \"/>\n",
       "<polyline clip-path=\"url(#clip212)\" style=\"stroke:#000000; stroke-linecap:round; stroke-linejoin:round; stroke-width:2; stroke-opacity:0.1; fill:none\" points=\"1750.77,1486.45 1750.77,123.472 \"/>\n",
       "<polyline clip-path=\"url(#clip212)\" style=\"stroke:#000000; stroke-linecap:round; stroke-linejoin:round; stroke-width:2; stroke-opacity:0.1; fill:none\" points=\"2140.66,1486.45 2140.66,123.472 \"/>\n",
       "<polyline clip-path=\"url(#clip210)\" style=\"stroke:#000000; stroke-linecap:round; stroke-linejoin:round; stroke-width:4; stroke-opacity:1; fill:none\" points=\"369.025,1486.45 2352.76,1486.45 \"/>\n",
       "<polyline clip-path=\"url(#clip210)\" style=\"stroke:#000000; stroke-linecap:round; stroke-linejoin:round; stroke-width:4; stroke-opacity:1; fill:none\" points=\"581.122,1486.45 581.122,1467.55 \"/>\n",
       "<polyline clip-path=\"url(#clip210)\" style=\"stroke:#000000; stroke-linecap:round; stroke-linejoin:round; stroke-width:4; stroke-opacity:1; fill:none\" points=\"971.006,1486.45 971.006,1467.55 \"/>\n",
       "<polyline clip-path=\"url(#clip210)\" style=\"stroke:#000000; stroke-linecap:round; stroke-linejoin:round; stroke-width:4; stroke-opacity:1; fill:none\" points=\"1360.89,1486.45 1360.89,1467.55 \"/>\n",
       "<polyline clip-path=\"url(#clip210)\" style=\"stroke:#000000; stroke-linecap:round; stroke-linejoin:round; stroke-width:4; stroke-opacity:1; fill:none\" points=\"1750.77,1486.45 1750.77,1467.55 \"/>\n",
       "<polyline clip-path=\"url(#clip210)\" style=\"stroke:#000000; stroke-linecap:round; stroke-linejoin:round; stroke-width:4; stroke-opacity:1; fill:none\" points=\"2140.66,1486.45 2140.66,1467.55 \"/>\n",
       "<path clip-path=\"url(#clip210)\" d=\"M528.344 1517.37 Q524.733 1517.37 522.905 1520.93 Q521.099 1524.47 521.099 1531.6 Q521.099 1538.71 522.905 1542.27 Q524.733 1545.82 528.344 1545.82 Q531.979 1545.82 533.784 1542.27 Q535.613 1538.71 535.613 1531.6 Q535.613 1524.47 533.784 1520.93 Q531.979 1517.37 528.344 1517.37 M528.344 1513.66 Q534.154 1513.66 537.21 1518.27 Q540.289 1522.85 540.289 1531.6 Q540.289 1540.33 537.21 1544.94 Q534.154 1549.52 528.344 1549.52 Q522.534 1549.52 519.455 1544.94 Q516.4 1540.33 516.4 1531.6 Q516.4 1522.85 519.455 1518.27 Q522.534 1513.66 528.344 1513.66 Z\" fill=\"#000000\" fill-rule=\"nonzero\" fill-opacity=\"1\" /><path clip-path=\"url(#clip210)\" d=\"M548.506 1542.97 L553.39 1542.97 L553.39 1548.85 L548.506 1548.85 L548.506 1542.97 Z\" fill=\"#000000\" fill-rule=\"nonzero\" fill-opacity=\"1\" /><path clip-path=\"url(#clip210)\" d=\"M563.714 1548.13 L563.714 1543.87 Q565.474 1544.7 567.279 1545.14 Q569.085 1545.58 570.821 1545.58 Q575.451 1545.58 577.881 1542.48 Q580.335 1539.36 580.682 1533.01 Q579.339 1535.01 577.279 1536.07 Q575.219 1537.13 572.719 1537.13 Q567.534 1537.13 564.502 1534.01 Q561.492 1530.86 561.492 1525.42 Q561.492 1520.1 564.64 1516.88 Q567.789 1513.66 573.02 1513.66 Q579.015 1513.66 582.163 1518.27 Q585.335 1522.85 585.335 1531.6 Q585.335 1539.77 581.446 1544.66 Q577.58 1549.52 571.029 1549.52 Q569.27 1549.52 567.464 1549.17 Q565.659 1548.82 563.714 1548.13 M573.02 1533.48 Q576.168 1533.48 577.997 1531.32 Q579.849 1529.17 579.849 1525.42 Q579.849 1521.7 577.997 1519.54 Q576.168 1517.37 573.02 1517.37 Q569.872 1517.37 568.02 1519.54 Q566.191 1521.7 566.191 1525.42 Q566.191 1529.17 568.02 1531.32 Q569.872 1533.48 573.02 1533.48 Z\" fill=\"#000000\" fill-rule=\"nonzero\" fill-opacity=\"1\" /><path clip-path=\"url(#clip210)\" d=\"M593.876 1548.13 L593.876 1543.87 Q595.636 1544.7 597.441 1545.14 Q599.247 1545.58 600.983 1545.58 Q605.612 1545.58 608.043 1542.48 Q610.497 1539.36 610.844 1533.01 Q609.501 1535.01 607.441 1536.07 Q605.381 1537.13 602.881 1537.13 Q597.696 1537.13 594.663 1534.01 Q591.654 1530.86 591.654 1525.42 Q591.654 1520.1 594.802 1516.88 Q597.95 1513.66 603.182 1513.66 Q609.177 1513.66 612.325 1518.27 Q615.497 1522.85 615.497 1531.6 Q615.497 1539.77 611.608 1544.66 Q607.742 1549.52 601.191 1549.52 Q599.432 1549.52 597.626 1549.17 Q595.821 1548.82 593.876 1548.13 M603.182 1533.48 Q606.33 1533.48 608.159 1531.32 Q610.011 1529.17 610.011 1525.42 Q610.011 1521.7 608.159 1519.54 Q606.33 1517.37 603.182 1517.37 Q600.034 1517.37 598.182 1519.54 Q596.353 1521.7 596.353 1525.42 Q596.353 1529.17 598.182 1531.32 Q600.034 1533.48 603.182 1533.48 Z\" fill=\"#000000\" fill-rule=\"nonzero\" fill-opacity=\"1\" /><path clip-path=\"url(#clip210)\" d=\"M633.899 1517.37 Q630.288 1517.37 628.46 1520.93 Q626.654 1524.47 626.654 1531.6 Q626.654 1538.71 628.46 1542.27 Q630.288 1545.82 633.899 1545.82 Q637.534 1545.82 639.339 1542.27 Q641.168 1538.71 641.168 1531.6 Q641.168 1524.47 639.339 1520.93 Q637.534 1517.37 633.899 1517.37 M633.899 1513.66 Q639.709 1513.66 642.765 1518.27 Q645.844 1522.85 645.844 1531.6 Q645.844 1540.33 642.765 1544.94 Q639.709 1549.52 633.899 1549.52 Q628.089 1549.52 625.01 1544.94 Q621.955 1540.33 621.955 1531.6 Q621.955 1522.85 625.01 1518.27 Q628.089 1513.66 633.899 1513.66 Z\" fill=\"#000000\" fill-rule=\"nonzero\" fill-opacity=\"1\" /><path clip-path=\"url(#clip210)\" d=\"M918.726 1517.37 Q915.115 1517.37 913.286 1520.93 Q911.481 1524.47 911.481 1531.6 Q911.481 1538.71 913.286 1542.27 Q915.115 1545.82 918.726 1545.82 Q922.36 1545.82 924.166 1542.27 Q925.995 1538.71 925.995 1531.6 Q925.995 1524.47 924.166 1520.93 Q922.36 1517.37 918.726 1517.37 M918.726 1513.66 Q924.536 1513.66 927.592 1518.27 Q930.671 1522.85 930.671 1531.6 Q930.671 1540.33 927.592 1544.94 Q924.536 1549.52 918.726 1549.52 Q912.916 1549.52 909.837 1544.94 Q906.782 1540.33 906.782 1531.6 Q906.782 1522.85 909.837 1518.27 Q912.916 1513.66 918.726 1513.66 Z\" fill=\"#000000\" fill-rule=\"nonzero\" fill-opacity=\"1\" /><path clip-path=\"url(#clip210)\" d=\"M938.888 1542.97 L943.772 1542.97 L943.772 1548.85 L938.888 1548.85 L938.888 1542.97 Z\" fill=\"#000000\" fill-rule=\"nonzero\" fill-opacity=\"1\" /><path clip-path=\"url(#clip210)\" d=\"M954.096 1548.13 L954.096 1543.87 Q955.856 1544.7 957.661 1545.14 Q959.467 1545.58 961.203 1545.58 Q965.832 1545.58 968.263 1542.48 Q970.717 1539.36 971.064 1533.01 Q969.721 1535.01 967.661 1536.07 Q965.601 1537.13 963.101 1537.13 Q957.916 1537.13 954.883 1534.01 Q951.874 1530.86 951.874 1525.42 Q951.874 1520.1 955.022 1516.88 Q958.17 1513.66 963.402 1513.66 Q969.397 1513.66 972.545 1518.27 Q975.717 1522.85 975.717 1531.6 Q975.717 1539.77 971.828 1544.66 Q967.962 1549.52 961.411 1549.52 Q959.652 1549.52 957.846 1549.17 Q956.041 1548.82 954.096 1548.13 M963.402 1533.48 Q966.55 1533.48 968.379 1531.32 Q970.231 1529.17 970.231 1525.42 Q970.231 1521.7 968.379 1519.54 Q966.55 1517.37 963.402 1517.37 Q960.254 1517.37 958.402 1519.54 Q956.573 1521.7 956.573 1525.42 Q956.573 1529.17 958.402 1531.32 Q960.254 1533.48 963.402 1533.48 Z\" fill=\"#000000\" fill-rule=\"nonzero\" fill-opacity=\"1\" /><path clip-path=\"url(#clip210)\" d=\"M984.258 1548.13 L984.258 1543.87 Q986.018 1544.7 987.823 1545.14 Q989.629 1545.58 991.365 1545.58 Q995.994 1545.58 998.425 1542.48 Q1000.88 1539.36 1001.23 1533.01 Q999.883 1535.01 997.823 1536.07 Q995.763 1537.13 993.263 1537.13 Q988.078 1537.13 985.045 1534.01 Q982.036 1530.86 982.036 1525.42 Q982.036 1520.1 985.184 1516.88 Q988.332 1513.66 993.564 1513.66 Q999.559 1513.66 1002.71 1518.27 Q1005.88 1522.85 1005.88 1531.6 Q1005.88 1539.77 1001.99 1544.66 Q998.124 1549.52 991.573 1549.52 Q989.814 1549.52 988.008 1549.17 Q986.203 1548.82 984.258 1548.13 M993.564 1533.48 Q996.712 1533.48 998.541 1531.32 Q1000.39 1529.17 1000.39 1525.42 Q1000.39 1521.7 998.541 1519.54 Q996.712 1517.37 993.564 1517.37 Q990.416 1517.37 988.564 1519.54 Q986.735 1521.7 986.735 1525.42 Q986.735 1529.17 988.564 1531.32 Q990.416 1533.48 993.564 1533.48 Z\" fill=\"#000000\" fill-rule=\"nonzero\" fill-opacity=\"1\" /><path clip-path=\"url(#clip210)\" d=\"M1014.33 1514.29 L1032.68 1514.29 L1032.68 1518.22 L1018.61 1518.22 L1018.61 1526.7 Q1019.63 1526.35 1020.65 1526.19 Q1021.67 1526 1022.68 1526 Q1028.47 1526 1031.85 1529.17 Q1035.23 1532.34 1035.23 1537.76 Q1035.23 1543.34 1031.76 1546.44 Q1028.29 1549.52 1021.97 1549.52 Q1019.79 1549.52 1017.52 1549.15 Q1015.28 1548.78 1012.87 1548.04 L1012.87 1543.34 Q1014.95 1544.47 1017.17 1545.03 Q1019.4 1545.58 1021.87 1545.58 Q1025.88 1545.58 1028.22 1543.48 Q1030.55 1541.37 1030.55 1537.76 Q1030.55 1534.15 1028.22 1532.04 Q1025.88 1529.94 1021.87 1529.94 Q1020 1529.94 1018.12 1530.35 Q1016.27 1530.77 1014.33 1531.65 L1014.33 1514.29 Z\" fill=\"#000000\" fill-rule=\"nonzero\" fill-opacity=\"1\" /><path clip-path=\"url(#clip210)\" d=\"M1297.88 1544.91 L1305.52 1544.91 L1305.52 1518.55 L1297.21 1520.21 L1297.21 1515.95 L1305.47 1514.29 L1310.15 1514.29 L1310.15 1544.91 L1317.79 1544.91 L1317.79 1548.85 L1297.88 1548.85 L1297.88 1544.91 Z\" fill=\"#000000\" fill-rule=\"nonzero\" fill-opacity=\"1\" /><path clip-path=\"url(#clip210)\" d=\"M1327.23 1542.97 L1332.12 1542.97 L1332.12 1548.85 L1327.23 1548.85 L1327.23 1542.97 Z\" fill=\"#000000\" fill-rule=\"nonzero\" fill-opacity=\"1\" /><path clip-path=\"url(#clip210)\" d=\"M1352.3 1517.37 Q1348.69 1517.37 1346.86 1520.93 Q1345.06 1524.47 1345.06 1531.6 Q1345.06 1538.71 1346.86 1542.27 Q1348.69 1545.82 1352.3 1545.82 Q1355.94 1545.82 1357.74 1542.27 Q1359.57 1538.71 1359.57 1531.6 Q1359.57 1524.47 1357.74 1520.93 Q1355.94 1517.37 1352.3 1517.37 M1352.3 1513.66 Q1358.11 1513.66 1361.17 1518.27 Q1364.25 1522.85 1364.25 1531.6 Q1364.25 1540.33 1361.17 1544.94 Q1358.11 1549.52 1352.3 1549.52 Q1346.49 1549.52 1343.41 1544.94 Q1340.36 1540.33 1340.36 1531.6 Q1340.36 1522.85 1343.41 1518.27 Q1346.49 1513.66 1352.3 1513.66 Z\" fill=\"#000000\" fill-rule=\"nonzero\" fill-opacity=\"1\" /><path clip-path=\"url(#clip210)\" d=\"M1382.46 1517.37 Q1378.85 1517.37 1377.02 1520.93 Q1375.22 1524.47 1375.22 1531.6 Q1375.22 1538.71 1377.02 1542.27 Q1378.85 1545.82 1382.46 1545.82 Q1386.1 1545.82 1387.9 1542.27 Q1389.73 1538.71 1389.73 1531.6 Q1389.73 1524.47 1387.9 1520.93 Q1386.1 1517.37 1382.46 1517.37 M1382.46 1513.66 Q1388.27 1513.66 1391.33 1518.27 Q1394.41 1522.85 1394.41 1531.6 Q1394.41 1540.33 1391.33 1544.94 Q1388.27 1549.52 1382.46 1549.52 Q1376.65 1549.52 1373.58 1544.94 Q1370.52 1540.33 1370.52 1531.6 Q1370.52 1522.85 1373.58 1518.27 Q1376.65 1513.66 1382.46 1513.66 Z\" fill=\"#000000\" fill-rule=\"nonzero\" fill-opacity=\"1\" /><path clip-path=\"url(#clip210)\" d=\"M1412.63 1517.37 Q1409.02 1517.37 1407.19 1520.93 Q1405.38 1524.47 1405.38 1531.6 Q1405.38 1538.71 1407.19 1542.27 Q1409.02 1545.82 1412.63 1545.82 Q1416.26 1545.82 1418.07 1542.27 Q1419.89 1538.71 1419.89 1531.6 Q1419.89 1524.47 1418.07 1520.93 Q1416.26 1517.37 1412.63 1517.37 M1412.63 1513.66 Q1418.44 1513.66 1421.49 1518.27 Q1424.57 1522.85 1424.57 1531.6 Q1424.57 1540.33 1421.49 1544.94 Q1418.44 1549.52 1412.63 1549.52 Q1406.82 1549.52 1403.74 1544.94 Q1400.68 1540.33 1400.68 1531.6 Q1400.68 1522.85 1403.74 1518.27 Q1406.82 1513.66 1412.63 1513.66 Z\" fill=\"#000000\" fill-rule=\"nonzero\" fill-opacity=\"1\" /><path clip-path=\"url(#clip210)\" d=\"M1688.26 1544.91 L1695.9 1544.91 L1695.9 1518.55 L1687.59 1520.21 L1687.59 1515.95 L1695.86 1514.29 L1700.53 1514.29 L1700.53 1544.91 L1708.17 1544.91 L1708.17 1548.85 L1688.26 1548.85 L1688.26 1544.91 Z\" fill=\"#000000\" fill-rule=\"nonzero\" fill-opacity=\"1\" /><path clip-path=\"url(#clip210)\" d=\"M1717.62 1542.97 L1722.5 1542.97 L1722.5 1548.85 L1717.62 1548.85 L1717.62 1542.97 Z\" fill=\"#000000\" fill-rule=\"nonzero\" fill-opacity=\"1\" /><path clip-path=\"url(#clip210)\" d=\"M1742.68 1517.37 Q1739.07 1517.37 1737.24 1520.93 Q1735.44 1524.47 1735.44 1531.6 Q1735.44 1538.71 1737.24 1542.27 Q1739.07 1545.82 1742.68 1545.82 Q1746.32 1545.82 1748.12 1542.27 Q1749.95 1538.71 1749.95 1531.6 Q1749.95 1524.47 1748.12 1520.93 Q1746.32 1517.37 1742.68 1517.37 M1742.68 1513.66 Q1748.49 1513.66 1751.55 1518.27 Q1754.63 1522.85 1754.63 1531.6 Q1754.63 1540.33 1751.55 1544.94 Q1748.49 1549.52 1742.68 1549.52 Q1736.87 1549.52 1733.8 1544.94 Q1730.74 1540.33 1730.74 1531.6 Q1730.74 1522.85 1733.8 1518.27 Q1736.87 1513.66 1742.68 1513.66 Z\" fill=\"#000000\" fill-rule=\"nonzero\" fill-opacity=\"1\" /><path clip-path=\"url(#clip210)\" d=\"M1772.85 1517.37 Q1769.24 1517.37 1767.41 1520.93 Q1765.6 1524.47 1765.6 1531.6 Q1765.6 1538.71 1767.41 1542.27 Q1769.24 1545.82 1772.85 1545.82 Q1776.48 1545.82 1778.29 1542.27 Q1780.11 1538.71 1780.11 1531.6 Q1780.11 1524.47 1778.29 1520.93 Q1776.48 1517.37 1772.85 1517.37 M1772.85 1513.66 Q1778.66 1513.66 1781.71 1518.27 Q1784.79 1522.85 1784.79 1531.6 Q1784.79 1540.33 1781.71 1544.94 Q1778.66 1549.52 1772.85 1549.52 Q1767.04 1549.52 1763.96 1544.94 Q1760.9 1540.33 1760.9 1531.6 Q1760.9 1522.85 1763.96 1518.27 Q1767.04 1513.66 1772.85 1513.66 Z\" fill=\"#000000\" fill-rule=\"nonzero\" fill-opacity=\"1\" /><path clip-path=\"url(#clip210)\" d=\"M1793.05 1514.29 L1811.41 1514.29 L1811.41 1518.22 L1797.34 1518.22 L1797.34 1526.7 Q1798.36 1526.35 1799.37 1526.19 Q1800.39 1526 1801.41 1526 Q1807.2 1526 1810.58 1529.17 Q1813.96 1532.34 1813.96 1537.76 Q1813.96 1543.34 1810.48 1546.44 Q1807.01 1549.52 1800.69 1549.52 Q1798.52 1549.52 1796.25 1549.15 Q1794 1548.78 1791.6 1548.04 L1791.6 1543.34 Q1793.68 1544.47 1795.9 1545.03 Q1798.12 1545.58 1800.6 1545.58 Q1804.61 1545.58 1806.94 1543.48 Q1809.28 1541.37 1809.28 1537.76 Q1809.28 1534.15 1806.94 1532.04 Q1804.61 1529.94 1800.6 1529.94 Q1798.73 1529.94 1796.85 1530.35 Q1795 1530.77 1793.05 1531.65 L1793.05 1514.29 Z\" fill=\"#000000\" fill-rule=\"nonzero\" fill-opacity=\"1\" /><path clip-path=\"url(#clip210)\" d=\"M2077.65 1544.91 L2085.29 1544.91 L2085.29 1518.55 L2076.98 1520.21 L2076.98 1515.95 L2085.24 1514.29 L2089.92 1514.29 L2089.92 1544.91 L2097.56 1544.91 L2097.56 1548.85 L2077.65 1548.85 L2077.65 1544.91 Z\" fill=\"#000000\" fill-rule=\"nonzero\" fill-opacity=\"1\" /><path clip-path=\"url(#clip210)\" d=\"M2107 1542.97 L2111.89 1542.97 L2111.89 1548.85 L2107 1548.85 L2107 1542.97 Z\" fill=\"#000000\" fill-rule=\"nonzero\" fill-opacity=\"1\" /><path clip-path=\"url(#clip210)\" d=\"M2132.07 1517.37 Q2128.46 1517.37 2126.63 1520.93 Q2124.83 1524.47 2124.83 1531.6 Q2124.83 1538.71 2126.63 1542.27 Q2128.46 1545.82 2132.07 1545.82 Q2135.71 1545.82 2137.51 1542.27 Q2139.34 1538.71 2139.34 1531.6 Q2139.34 1524.47 2137.51 1520.93 Q2135.71 1517.37 2132.07 1517.37 M2132.07 1513.66 Q2137.88 1513.66 2140.94 1518.27 Q2144.02 1522.85 2144.02 1531.6 Q2144.02 1540.33 2140.94 1544.94 Q2137.88 1549.52 2132.07 1549.52 Q2126.26 1549.52 2123.18 1544.94 Q2120.13 1540.33 2120.13 1531.6 Q2120.13 1522.85 2123.18 1518.27 Q2126.26 1513.66 2132.07 1513.66 Z\" fill=\"#000000\" fill-rule=\"nonzero\" fill-opacity=\"1\" /><path clip-path=\"url(#clip210)\" d=\"M2153.04 1544.91 L2160.68 1544.91 L2160.68 1518.55 L2152.37 1520.21 L2152.37 1515.95 L2160.64 1514.29 L2165.31 1514.29 L2165.31 1544.91 L2172.95 1544.91 L2172.95 1548.85 L2153.04 1548.85 L2153.04 1544.91 Z\" fill=\"#000000\" fill-rule=\"nonzero\" fill-opacity=\"1\" /><path clip-path=\"url(#clip210)\" d=\"M2192.39 1517.37 Q2188.78 1517.37 2186.95 1520.93 Q2185.15 1524.47 2185.15 1531.6 Q2185.15 1538.71 2186.95 1542.27 Q2188.78 1545.82 2192.39 1545.82 Q2196.03 1545.82 2197.83 1542.27 Q2199.66 1538.71 2199.66 1531.6 Q2199.66 1524.47 2197.83 1520.93 Q2196.03 1517.37 2192.39 1517.37 M2192.39 1513.66 Q2198.2 1513.66 2201.26 1518.27 Q2204.34 1522.85 2204.34 1531.6 Q2204.34 1540.33 2201.26 1544.94 Q2198.2 1549.52 2192.39 1549.52 Q2186.58 1549.52 2183.51 1544.94 Q2180.45 1540.33 2180.45 1531.6 Q2180.45 1522.85 2183.51 1518.27 Q2186.58 1513.66 2192.39 1513.66 Z\" fill=\"#000000\" fill-rule=\"nonzero\" fill-opacity=\"1\" /><polyline clip-path=\"url(#clip212)\" style=\"stroke:#000000; stroke-linecap:round; stroke-linejoin:round; stroke-width:2; stroke-opacity:0.1; fill:none\" points=\"369.025,1203.54 2352.76,1203.54 \"/>\n",
       "<polyline clip-path=\"url(#clip212)\" style=\"stroke:#000000; stroke-linecap:round; stroke-linejoin:round; stroke-width:2; stroke-opacity:0.1; fill:none\" points=\"369.025,888.818 2352.76,888.818 \"/>\n",
       "<polyline clip-path=\"url(#clip212)\" style=\"stroke:#000000; stroke-linecap:round; stroke-linejoin:round; stroke-width:2; stroke-opacity:0.1; fill:none\" points=\"369.025,574.098 2352.76,574.098 \"/>\n",
       "<polyline clip-path=\"url(#clip212)\" style=\"stroke:#000000; stroke-linecap:round; stroke-linejoin:round; stroke-width:2; stroke-opacity:0.1; fill:none\" points=\"369.025,259.378 2352.76,259.378 \"/>\n",
       "<polyline clip-path=\"url(#clip210)\" style=\"stroke:#000000; stroke-linecap:round; stroke-linejoin:round; stroke-width:4; stroke-opacity:1; fill:none\" points=\"369.025,1486.45 369.025,123.472 \"/>\n",
       "<polyline clip-path=\"url(#clip210)\" style=\"stroke:#000000; stroke-linecap:round; stroke-linejoin:round; stroke-width:4; stroke-opacity:1; fill:none\" points=\"369.025,1203.54 387.922,1203.54 \"/>\n",
       "<polyline clip-path=\"url(#clip210)\" style=\"stroke:#000000; stroke-linecap:round; stroke-linejoin:round; stroke-width:4; stroke-opacity:1; fill:none\" points=\"369.025,888.818 387.922,888.818 \"/>\n",
       "<polyline clip-path=\"url(#clip210)\" style=\"stroke:#000000; stroke-linecap:round; stroke-linejoin:round; stroke-width:4; stroke-opacity:1; fill:none\" points=\"369.025,574.098 387.922,574.098 \"/>\n",
       "<polyline clip-path=\"url(#clip210)\" style=\"stroke:#000000; stroke-linecap:round; stroke-linejoin:round; stroke-width:4; stroke-opacity:1; fill:none\" points=\"369.025,259.378 387.922,259.378 \"/>\n",
       "<path clip-path=\"url(#clip210)\" d=\"M50.9921 1210.44 L80.6679 1210.44 L80.6679 1214.37 L50.9921 1214.37 L50.9921 1210.44 Z\" fill=\"#000000\" fill-rule=\"nonzero\" fill-opacity=\"1\" /><path clip-path=\"url(#clip210)\" d=\"M94.7882 1223.33 L111.108 1223.33 L111.108 1227.27 L89.1632 1227.27 L89.1632 1223.33 Q91.8252 1220.58 96.4085 1215.95 Q101.015 1211.29 102.196 1209.95 Q104.441 1207.43 105.321 1205.69 Q106.223 1203.93 106.223 1202.24 Q106.223 1199.49 104.279 1197.75 Q102.358 1196.02 99.2558 1196.02 Q97.0567 1196.02 94.603 1196.78 Q92.1725 1197.54 89.3947 1199.09 L89.3947 1194.37 Q92.2188 1193.24 94.6724 1192.66 Q97.1261 1192.08 99.1632 1192.08 Q104.534 1192.08 107.728 1194.77 Q110.922 1197.45 110.922 1201.94 Q110.922 1204.07 110.112 1205.99 Q109.325 1207.89 107.219 1210.48 Q106.64 1211.15 103.538 1214.37 Q100.436 1217.57 94.7882 1223.33 Z\" fill=\"#000000\" fill-rule=\"nonzero\" fill-opacity=\"1\" /><path clip-path=\"url(#clip210)\" d=\"M120.922 1221.39 L125.807 1221.39 L125.807 1227.27 L120.922 1227.27 L120.922 1221.39 Z\" fill=\"#000000\" fill-rule=\"nonzero\" fill-opacity=\"1\" /><path clip-path=\"url(#clip210)\" d=\"M145.992 1195.78 Q142.381 1195.78 140.552 1199.35 Q138.746 1202.89 138.746 1210.02 Q138.746 1217.13 140.552 1220.69 Q142.381 1224.23 145.992 1224.23 Q149.626 1224.23 151.431 1220.69 Q153.26 1217.13 153.26 1210.02 Q153.26 1202.89 151.431 1199.35 Q149.626 1195.78 145.992 1195.78 M145.992 1192.08 Q151.802 1192.08 154.857 1196.69 Q157.936 1201.27 157.936 1210.02 Q157.936 1218.75 154.857 1223.35 Q151.802 1227.94 145.992 1227.94 Q140.181 1227.94 137.103 1223.35 Q134.047 1218.75 134.047 1210.02 Q134.047 1201.27 137.103 1196.69 Q140.181 1192.08 145.992 1192.08 Z\" fill=\"#000000\" fill-rule=\"nonzero\" fill-opacity=\"1\" /><path clip-path=\"url(#clip210)\" d=\"M194.325 1201.8 L183.746 1212.43 L194.325 1223.01 L191.57 1225.81 L180.945 1215.18 L170.32 1225.81 L167.589 1223.01 L178.144 1212.43 L167.589 1201.8 L170.32 1199 L180.945 1209.63 L191.57 1199 L194.325 1201.8 Z\" fill=\"#000000\" fill-rule=\"nonzero\" fill-opacity=\"1\" /><path clip-path=\"url(#clip210)\" d=\"M206.686 1223.33 L214.325 1223.33 L214.325 1196.96 L206.014 1198.63 L206.014 1194.37 L214.278 1192.71 L218.954 1192.71 L218.954 1223.33 L226.593 1223.33 L226.593 1227.27 L206.686 1227.27 L206.686 1223.33 Z\" fill=\"#000000\" fill-rule=\"nonzero\" fill-opacity=\"1\" /><path clip-path=\"url(#clip210)\" d=\"M246.037 1195.78 Q242.426 1195.78 240.598 1199.35 Q238.792 1202.89 238.792 1210.02 Q238.792 1217.13 240.598 1220.69 Q242.426 1224.23 246.037 1224.23 Q249.672 1224.23 251.477 1220.69 Q253.306 1217.13 253.306 1210.02 Q253.306 1202.89 251.477 1199.35 Q249.672 1195.78 246.037 1195.78 M246.037 1192.08 Q251.848 1192.08 254.903 1196.69 Q257.982 1201.27 257.982 1210.02 Q257.982 1218.75 254.903 1223.35 Q251.848 1227.94 246.037 1227.94 Q240.227 1227.94 237.149 1223.35 Q234.093 1218.75 234.093 1210.02 Q234.093 1201.27 237.149 1196.69 Q240.227 1192.08 246.037 1192.08 Z\" fill=\"#000000\" fill-rule=\"nonzero\" fill-opacity=\"1\" /><path clip-path=\"url(#clip210)\" d=\"M257.982 1186.18 L282.093 1186.18 L282.093 1189.38 L257.982 1189.38 L257.982 1186.18 Z\" fill=\"#000000\" fill-rule=\"nonzero\" fill-opacity=\"1\" /><path clip-path=\"url(#clip210)\" d=\"M290.952 1196.66 L297.158 1196.66 L297.158 1175.24 L290.406 1176.59 L290.406 1173.13 L297.121 1171.78 L300.92 1171.78 L300.92 1196.66 L307.126 1196.66 L307.126 1199.86 L290.952 1199.86 L290.952 1196.66 Z\" fill=\"#000000\" fill-rule=\"nonzero\" fill-opacity=\"1\" /><path clip-path=\"url(#clip210)\" d=\"M325.238 1175.09 L315.646 1190.08 L325.238 1190.08 L325.238 1175.09 M324.242 1171.78 L329.019 1171.78 L329.019 1190.08 L333.025 1190.08 L333.025 1193.24 L329.019 1193.24 L329.019 1199.86 L325.238 1199.86 L325.238 1193.24 L312.562 1193.24 L312.562 1189.57 L324.242 1171.78 Z\" fill=\"#000000\" fill-rule=\"nonzero\" fill-opacity=\"1\" /><path clip-path=\"url(#clip210)\" d=\"M321.08 874.617 Q317.469 874.617 315.641 878.182 Q313.835 881.723 313.835 888.853 Q313.835 895.959 315.641 899.524 Q317.469 903.066 321.08 903.066 Q324.715 903.066 326.52 899.524 Q328.349 895.959 328.349 888.853 Q328.349 881.723 326.52 878.182 Q324.715 874.617 321.08 874.617 M321.08 870.913 Q326.891 870.913 329.946 875.52 Q333.025 880.103 333.025 888.853 Q333.025 897.58 329.946 902.186 Q326.891 906.77 321.08 906.77 Q315.27 906.77 312.192 902.186 Q309.136 897.58 309.136 888.853 Q309.136 880.103 312.192 875.52 Q315.27 870.913 321.08 870.913 Z\" fill=\"#000000\" fill-rule=\"nonzero\" fill-opacity=\"1\" /><path clip-path=\"url(#clip210)\" d=\"M94.7882 593.891 L111.108 593.891 L111.108 597.826 L89.1632 597.826 L89.1632 593.891 Q91.8252 591.136 96.4085 586.507 Q101.015 581.854 102.196 580.511 Q104.441 577.988 105.321 576.252 Q106.223 574.493 106.223 572.803 Q106.223 570.048 104.279 568.312 Q102.358 566.576 99.2558 566.576 Q97.0567 566.576 94.603 567.34 Q92.1725 568.104 89.3947 569.655 L89.3947 564.933 Q92.2188 563.798 94.6724 563.22 Q97.1261 562.641 99.1632 562.641 Q104.534 562.641 107.728 565.326 Q110.922 568.011 110.922 572.502 Q110.922 574.632 110.112 576.553 Q109.325 578.451 107.219 581.044 Q106.64 581.715 103.538 584.932 Q100.436 588.127 94.7882 593.891 Z\" fill=\"#000000\" fill-rule=\"nonzero\" fill-opacity=\"1\" /><path clip-path=\"url(#clip210)\" d=\"M120.922 591.946 L125.807 591.946 L125.807 597.826 L120.922 597.826 L120.922 591.946 Z\" fill=\"#000000\" fill-rule=\"nonzero\" fill-opacity=\"1\" /><path clip-path=\"url(#clip210)\" d=\"M145.992 566.345 Q142.381 566.345 140.552 569.909 Q138.746 573.451 138.746 580.581 Q138.746 587.687 140.552 591.252 Q142.381 594.794 145.992 594.794 Q149.626 594.794 151.431 591.252 Q153.26 587.687 153.26 580.581 Q153.26 573.451 151.431 569.909 Q149.626 566.345 145.992 566.345 M145.992 562.641 Q151.802 562.641 154.857 567.247 Q157.936 571.831 157.936 580.581 Q157.936 589.307 154.857 593.914 Q151.802 598.497 145.992 598.497 Q140.181 598.497 137.103 593.914 Q134.047 589.307 134.047 580.581 Q134.047 571.831 137.103 567.247 Q140.181 562.641 145.992 562.641 Z\" fill=\"#000000\" fill-rule=\"nonzero\" fill-opacity=\"1\" /><path clip-path=\"url(#clip210)\" d=\"M194.325 572.363 L183.746 582.988 L194.325 593.567 L191.57 596.368 L180.945 585.743 L170.32 596.368 L167.589 593.567 L178.144 582.988 L167.589 572.363 L170.32 569.562 L180.945 580.187 L191.57 569.562 L194.325 572.363 Z\" fill=\"#000000\" fill-rule=\"nonzero\" fill-opacity=\"1\" /><path clip-path=\"url(#clip210)\" d=\"M206.686 593.891 L214.325 593.891 L214.325 567.525 L206.014 569.192 L206.014 564.933 L214.278 563.266 L218.954 563.266 L218.954 593.891 L226.593 593.891 L226.593 597.826 L206.686 597.826 L206.686 593.891 Z\" fill=\"#000000\" fill-rule=\"nonzero\" fill-opacity=\"1\" /><path clip-path=\"url(#clip210)\" d=\"M246.037 566.345 Q242.426 566.345 240.598 569.909 Q238.792 573.451 238.792 580.581 Q238.792 587.687 240.598 591.252 Q242.426 594.794 246.037 594.794 Q249.672 594.794 251.477 591.252 Q253.306 587.687 253.306 580.581 Q253.306 573.451 251.477 569.909 Q249.672 566.345 246.037 566.345 M246.037 562.641 Q251.848 562.641 254.903 567.247 Q257.982 571.831 257.982 580.581 Q257.982 589.307 254.903 593.914 Q251.848 598.497 246.037 598.497 Q240.227 598.497 237.149 593.914 Q234.093 589.307 234.093 580.581 Q234.093 571.831 237.149 567.247 Q240.227 562.641 246.037 562.641 Z\" fill=\"#000000\" fill-rule=\"nonzero\" fill-opacity=\"1\" /><path clip-path=\"url(#clip210)\" d=\"M257.982 556.742 L282.093 556.742 L282.093 559.94 L257.982 559.94 L257.982 556.742 Z\" fill=\"#000000\" fill-rule=\"nonzero\" fill-opacity=\"1\" /><path clip-path=\"url(#clip210)\" d=\"M290.952 567.218 L297.158 567.218 L297.158 545.796 L290.406 547.15 L290.406 543.69 L297.121 542.336 L300.92 542.336 L300.92 567.218 L307.126 567.218 L307.126 570.416 L290.952 570.416 L290.952 567.218 Z\" fill=\"#000000\" fill-rule=\"nonzero\" fill-opacity=\"1\" /><path clip-path=\"url(#clip210)\" d=\"M325.238 545.646 L315.646 560.635 L325.238 560.635 L325.238 545.646 M324.242 542.336 L329.019 542.336 L329.019 560.635 L333.025 560.635 L333.025 563.795 L329.019 563.795 L329.019 570.416 L325.238 570.416 L325.238 563.795 L312.562 563.795 L312.562 560.128 L324.242 542.336 Z\" fill=\"#000000\" fill-rule=\"nonzero\" fill-opacity=\"1\" /><path clip-path=\"url(#clip210)\" d=\"M103.608 252.62 L91.8021 271.069 L103.608 271.069 L103.608 252.62 M102.381 248.546 L108.26 248.546 L108.26 271.069 L113.191 271.069 L113.191 274.958 L108.26 274.958 L108.26 283.106 L103.608 283.106 L103.608 274.958 L88.0058 274.958 L88.0058 270.444 L102.381 248.546 Z\" fill=\"#000000\" fill-rule=\"nonzero\" fill-opacity=\"1\" /><path clip-path=\"url(#clip210)\" d=\"M120.922 277.226 L125.807 277.226 L125.807 283.106 L120.922 283.106 L120.922 277.226 Z\" fill=\"#000000\" fill-rule=\"nonzero\" fill-opacity=\"1\" /><path clip-path=\"url(#clip210)\" d=\"M145.992 251.625 Q142.381 251.625 140.552 255.189 Q138.746 258.731 138.746 265.861 Q138.746 272.967 140.552 276.532 Q142.381 280.074 145.992 280.074 Q149.626 280.074 151.431 276.532 Q153.26 272.967 153.26 265.861 Q153.26 258.731 151.431 255.189 Q149.626 251.625 145.992 251.625 M145.992 247.921 Q151.802 247.921 154.857 252.527 Q157.936 257.111 157.936 265.861 Q157.936 274.588 154.857 279.194 Q151.802 283.777 145.992 283.777 Q140.181 283.777 137.103 279.194 Q134.047 274.588 134.047 265.861 Q134.047 257.111 137.103 252.527 Q140.181 247.921 145.992 247.921 Z\" fill=\"#000000\" fill-rule=\"nonzero\" fill-opacity=\"1\" /><path clip-path=\"url(#clip210)\" d=\"M194.325 257.643 L183.746 268.268 L194.325 278.847 L191.57 281.648 L180.945 271.023 L170.32 281.648 L167.589 278.847 L178.144 268.268 L167.589 257.643 L170.32 254.842 L180.945 265.467 L191.57 254.842 L194.325 257.643 Z\" fill=\"#000000\" fill-rule=\"nonzero\" fill-opacity=\"1\" /><path clip-path=\"url(#clip210)\" d=\"M206.686 279.171 L214.325 279.171 L214.325 252.805 L206.014 254.472 L206.014 250.213 L214.278 248.546 L218.954 248.546 L218.954 279.171 L226.593 279.171 L226.593 283.106 L206.686 283.106 L206.686 279.171 Z\" fill=\"#000000\" fill-rule=\"nonzero\" fill-opacity=\"1\" /><path clip-path=\"url(#clip210)\" d=\"M246.037 251.625 Q242.426 251.625 240.598 255.189 Q238.792 258.731 238.792 265.861 Q238.792 272.967 240.598 276.532 Q242.426 280.074 246.037 280.074 Q249.672 280.074 251.477 276.532 Q253.306 272.967 253.306 265.861 Q253.306 258.731 251.477 255.189 Q249.672 251.625 246.037 251.625 M246.037 247.921 Q251.848 247.921 254.903 252.527 Q257.982 257.111 257.982 265.861 Q257.982 274.588 254.903 279.194 Q251.848 283.777 246.037 283.777 Q240.227 283.777 237.149 279.194 Q234.093 274.588 234.093 265.861 Q234.093 257.111 237.149 252.527 Q240.227 247.921 246.037 247.921 Z\" fill=\"#000000\" fill-rule=\"nonzero\" fill-opacity=\"1\" /><path clip-path=\"url(#clip210)\" d=\"M257.982 242.022 L282.093 242.022 L282.093 245.22 L257.982 245.22 L257.982 242.022 Z\" fill=\"#000000\" fill-rule=\"nonzero\" fill-opacity=\"1\" /><path clip-path=\"url(#clip210)\" d=\"M290.952 252.498 L297.158 252.498 L297.158 231.076 L290.406 232.43 L290.406 228.97 L297.121 227.616 L300.92 227.616 L300.92 252.498 L307.126 252.498 L307.126 255.696 L290.952 255.696 L290.952 252.498 Z\" fill=\"#000000\" fill-rule=\"nonzero\" fill-opacity=\"1\" /><path clip-path=\"url(#clip210)\" d=\"M325.238 230.926 L315.646 245.916 L325.238 245.916 L325.238 230.926 M324.242 227.616 L329.019 227.616 L329.019 245.916 L333.025 245.916 L333.025 249.075 L329.019 249.075 L329.019 255.696 L325.238 255.696 L325.238 249.075 L312.562 249.075 L312.562 245.408 L324.242 227.616 Z\" fill=\"#000000\" fill-rule=\"nonzero\" fill-opacity=\"1\" /><path clip-path=\"url(#clip210)\" d=\"M1186.99 18.8205 L1186.99 41.5461 L1197.27 41.5461 Q1202.99 41.5461 1206.11 38.5889 Q1209.22 35.6318 1209.22 30.163 Q1209.22 24.7348 1206.11 21.7777 Q1202.99 18.8205 1197.27 18.8205 L1186.99 18.8205 M1178.8 12.096 L1197.27 12.096 Q1207.44 12.096 1212.63 16.714 Q1217.85 21.2916 1217.85 30.163 Q1217.85 39.1155 1212.63 43.6931 Q1207.44 48.2706 1197.27 48.2706 L1186.99 48.2706 L1186.99 72.576 L1178.8 72.576 L1178.8 12.096 Z\" fill=\"#000000\" fill-rule=\"nonzero\" fill-opacity=\"1\" /><path clip-path=\"url(#clip210)\" d=\"M1228.51 9.54393 L1235.96 9.54393 L1235.96 72.576 L1228.51 72.576 L1228.51 9.54393 Z\" fill=\"#000000\" fill-rule=\"nonzero\" fill-opacity=\"1\" /><path clip-path=\"url(#clip210)\" d=\"M1269.14 32.4315 Q1263.14 32.4315 1259.66 37.1306 Q1256.17 41.7891 1256.17 49.9314 Q1256.17 58.0738 1259.62 62.7728 Q1263.1 67.4314 1269.14 67.4314 Q1275.09 67.4314 1278.58 62.7323 Q1282.06 58.0333 1282.06 49.9314 Q1282.06 41.8701 1278.58 37.1711 Q1275.09 32.4315 1269.14 32.4315 M1269.14 26.1121 Q1278.86 26.1121 1284.41 32.4315 Q1289.96 38.7509 1289.96 49.9314 Q1289.96 61.0714 1284.41 67.4314 Q1278.86 73.7508 1269.14 73.7508 Q1259.37 73.7508 1253.82 67.4314 Q1248.32 61.0714 1248.32 49.9314 Q1248.32 38.7509 1253.82 32.4315 Q1259.37 26.1121 1269.14 26.1121 Z\" fill=\"#000000\" fill-rule=\"nonzero\" fill-opacity=\"1\" /><path clip-path=\"url(#clip210)\" d=\"M1309.69 14.324 L1309.69 27.2059 L1325.04 27.2059 L1325.04 32.9987 L1309.69 32.9987 L1309.69 57.6282 Q1309.69 63.1779 1311.19 64.7578 Q1312.73 66.3376 1317.38 66.3376 L1325.04 66.3376 L1325.04 72.576 L1317.38 72.576 Q1308.76 72.576 1305.47 69.3758 Q1302.19 66.1351 1302.19 57.6282 L1302.19 32.9987 L1296.72 32.9987 L1296.72 27.2059 L1302.19 27.2059 L1302.19 14.324 L1309.69 14.324 Z\" fill=\"#000000\" fill-rule=\"nonzero\" fill-opacity=\"1\" /><path clip-path=\"url(#clip210)\" d=\"M1386.09 17.6457 Q1377.17 17.6457 1371.91 24.2892 Q1366.68 30.9327 1366.68 42.3968 Q1366.68 53.8203 1371.91 60.4638 Q1377.17 67.1073 1386.09 67.1073 Q1395 67.1073 1400.18 60.4638 Q1405.41 53.8203 1405.41 42.3968 Q1405.41 30.9327 1400.18 24.2892 Q1395 17.6457 1386.09 17.6457 M1397.55 71.4823 L1408.33 83.2704 L1398.44 83.2704 L1389.49 73.5887 Q1388.15 73.6697 1387.42 73.7103 Q1386.74 73.7508 1386.09 73.7508 Q1373.33 73.7508 1365.67 65.2439 Q1358.05 56.6965 1358.05 42.3968 Q1358.05 28.0566 1365.67 19.5497 Q1373.33 11.0023 1386.09 11.0023 Q1398.81 11.0023 1406.42 19.5497 Q1414.04 28.0566 1414.04 42.3968 Q1414.04 52.9291 1409.78 60.4233 Q1405.57 67.9175 1397.55 71.4823 Z\" fill=\"#000000\" fill-rule=\"nonzero\" fill-opacity=\"1\" /><path clip-path=\"url(#clip210)\" d=\"M1450.05 19.2256 L1429.39 51.5113 L1450.05 51.5113 L1450.05 19.2256 M1447.9 12.096 L1458.19 12.096 L1458.19 51.5113 L1466.82 51.5113 L1466.82 58.3168 L1458.19 58.3168 L1458.19 72.576 L1450.05 72.576 L1450.05 58.3168 L1422.75 58.3168 L1422.75 50.4176 L1447.9 12.096 Z\" fill=\"#000000\" fill-rule=\"nonzero\" fill-opacity=\"1\" /><path clip-path=\"url(#clip210)\" d=\"M1480.35 62.2867 L1488.9 62.2867 L1488.9 72.576 L1480.35 72.576 L1480.35 62.2867 Z\" fill=\"#000000\" fill-rule=\"nonzero\" fill-opacity=\"1\" /><path clip-path=\"url(#clip210)\" d=\"M1508.14 65.6895 L1521.51 65.6895 L1521.51 19.5497 L1506.97 22.4663 L1506.97 15.0127 L1521.43 12.096 L1529.61 12.096 L1529.61 65.6895 L1542.98 65.6895 L1542.98 72.576 L1508.14 72.576 L1508.14 65.6895 Z\" fill=\"#000000\" fill-rule=\"nonzero\" fill-opacity=\"1\" /><polyline clip-path=\"url(#clip212)\" style=\"stroke:#009af9; stroke-linecap:round; stroke-linejoin:round; stroke-width:4; stroke-opacity:1; fill:none\" points=\"425.168,1447.87 503.145,1252.2 581.122,1112.44 659.099,1014.61 737.076,986.653 815.052,958.7 893.029,916.771 971.006,944.724 1048.98,916.771 1126.96,930.747 1204.94,902.795 1282.91,916.771 1360.89,888.818 1438.87,972.676 1516.84,986.653 1594.82,860.865 1672.8,916.771 1750.77,902.795 1828.75,916.771 1906.73,888.818 1984.71,846.889 2062.68,944.724 2140.66,777.007 2218.64,595.314 2296.61,162.047 \"/>\n",
       "<path clip-path=\"url(#clip210)\" d=\"M435.149 272.585 L685.953 272.585 L685.953 168.905 L435.149 168.905  Z\" fill=\"#ffffff\" fill-rule=\"evenodd\" fill-opacity=\"1\"/>\n",
       "<polyline clip-path=\"url(#clip210)\" style=\"stroke:#000000; stroke-linecap:round; stroke-linejoin:round; stroke-width:4; stroke-opacity:1; fill:none\" points=\"435.149,272.585 685.953,272.585 685.953,168.905 435.149,168.905 435.149,272.585 \"/>\n",
       "<polyline clip-path=\"url(#clip210)\" style=\"stroke:#009af9; stroke-linecap:round; stroke-linejoin:round; stroke-width:4; stroke-opacity:1; fill:none\" points=\"457.191,220.745 589.439,220.745 \"/>\n",
       "<path clip-path=\"url(#clip210)\" d=\"M625.323 240.432 Q623.518 245.062 621.805 246.474 Q620.092 247.886 617.221 247.886 L613.819 247.886 L613.819 244.321 L616.319 244.321 Q618.078 244.321 619.05 243.488 Q620.022 242.654 621.203 239.552 L621.967 237.608 L611.481 212.099 L615.995 212.099 L624.096 232.377 L632.198 212.099 L636.712 212.099 L625.323 240.432 Z\" fill=\"#000000\" fill-rule=\"nonzero\" fill-opacity=\"1\" /><path clip-path=\"url(#clip210)\" d=\"M644.004 234.089 L651.643 234.089 L651.643 207.724 L643.332 209.391 L643.332 205.131 L651.596 203.465 L656.272 203.465 L656.272 234.089 L663.911 234.089 L663.911 238.025 L644.004 238.025 L644.004 234.089 Z\" fill=\"#000000\" fill-rule=\"nonzero\" fill-opacity=\"1\" /></svg>\n"
      ],
      "text/html": [
       "<?xml version=\"1.0\" encoding=\"utf-8\"?>\n",
       "<svg xmlns=\"http://www.w3.org/2000/svg\" xmlns:xlink=\"http://www.w3.org/1999/xlink\" width=\"600\" height=\"400\" viewBox=\"0 0 2400 1600\">\n",
       "<defs>\n",
       "  <clipPath id=\"clip260\">\n",
       "    <rect x=\"0\" y=\"0\" width=\"2400\" height=\"1600\"/>\n",
       "  </clipPath>\n",
       "</defs>\n",
       "<path clip-path=\"url(#clip260)\" d=\"M0 1600 L2400 1600 L2400 0 L0 0  Z\" fill=\"#ffffff\" fill-rule=\"evenodd\" fill-opacity=\"1\"/>\n",
       "<defs>\n",
       "  <clipPath id=\"clip261\">\n",
       "    <rect x=\"480\" y=\"0\" width=\"1681\" height=\"1600\"/>\n",
       "  </clipPath>\n",
       "</defs>\n",
       "<path clip-path=\"url(#clip260)\" d=\"M369.025 1486.45 L2352.76 1486.45 L2352.76 123.472 L369.025 123.472  Z\" fill=\"#ffffff\" fill-rule=\"evenodd\" fill-opacity=\"1\"/>\n",
       "<defs>\n",
       "  <clipPath id=\"clip262\">\n",
       "    <rect x=\"369\" y=\"123\" width=\"1985\" height=\"1364\"/>\n",
       "  </clipPath>\n",
       "</defs>\n",
       "<polyline clip-path=\"url(#clip262)\" style=\"stroke:#000000; stroke-linecap:round; stroke-linejoin:round; stroke-width:2; stroke-opacity:0.1; fill:none\" points=\"581.122,1486.45 581.122,123.472 \"/>\n",
       "<polyline clip-path=\"url(#clip262)\" style=\"stroke:#000000; stroke-linecap:round; stroke-linejoin:round; stroke-width:2; stroke-opacity:0.1; fill:none\" points=\"971.006,1486.45 971.006,123.472 \"/>\n",
       "<polyline clip-path=\"url(#clip262)\" style=\"stroke:#000000; stroke-linecap:round; stroke-linejoin:round; stroke-width:2; stroke-opacity:0.1; fill:none\" points=\"1360.89,1486.45 1360.89,123.472 \"/>\n",
       "<polyline clip-path=\"url(#clip262)\" style=\"stroke:#000000; stroke-linecap:round; stroke-linejoin:round; stroke-width:2; stroke-opacity:0.1; fill:none\" points=\"1750.77,1486.45 1750.77,123.472 \"/>\n",
       "<polyline clip-path=\"url(#clip262)\" style=\"stroke:#000000; stroke-linecap:round; stroke-linejoin:round; stroke-width:2; stroke-opacity:0.1; fill:none\" points=\"2140.66,1486.45 2140.66,123.472 \"/>\n",
       "<polyline clip-path=\"url(#clip260)\" style=\"stroke:#000000; stroke-linecap:round; stroke-linejoin:round; stroke-width:4; stroke-opacity:1; fill:none\" points=\"369.025,1486.45 2352.76,1486.45 \"/>\n",
       "<polyline clip-path=\"url(#clip260)\" style=\"stroke:#000000; stroke-linecap:round; stroke-linejoin:round; stroke-width:4; stroke-opacity:1; fill:none\" points=\"581.122,1486.45 581.122,1467.55 \"/>\n",
       "<polyline clip-path=\"url(#clip260)\" style=\"stroke:#000000; stroke-linecap:round; stroke-linejoin:round; stroke-width:4; stroke-opacity:1; fill:none\" points=\"971.006,1486.45 971.006,1467.55 \"/>\n",
       "<polyline clip-path=\"url(#clip260)\" style=\"stroke:#000000; stroke-linecap:round; stroke-linejoin:round; stroke-width:4; stroke-opacity:1; fill:none\" points=\"1360.89,1486.45 1360.89,1467.55 \"/>\n",
       "<polyline clip-path=\"url(#clip260)\" style=\"stroke:#000000; stroke-linecap:round; stroke-linejoin:round; stroke-width:4; stroke-opacity:1; fill:none\" points=\"1750.77,1486.45 1750.77,1467.55 \"/>\n",
       "<polyline clip-path=\"url(#clip260)\" style=\"stroke:#000000; stroke-linecap:round; stroke-linejoin:round; stroke-width:4; stroke-opacity:1; fill:none\" points=\"2140.66,1486.45 2140.66,1467.55 \"/>\n",
       "<path clip-path=\"url(#clip260)\" d=\"M528.344 1517.37 Q524.733 1517.37 522.905 1520.93 Q521.099 1524.47 521.099 1531.6 Q521.099 1538.71 522.905 1542.27 Q524.733 1545.82 528.344 1545.82 Q531.979 1545.82 533.784 1542.27 Q535.613 1538.71 535.613 1531.6 Q535.613 1524.47 533.784 1520.93 Q531.979 1517.37 528.344 1517.37 M528.344 1513.66 Q534.154 1513.66 537.21 1518.27 Q540.289 1522.85 540.289 1531.6 Q540.289 1540.33 537.21 1544.94 Q534.154 1549.52 528.344 1549.52 Q522.534 1549.52 519.455 1544.94 Q516.4 1540.33 516.4 1531.6 Q516.4 1522.85 519.455 1518.27 Q522.534 1513.66 528.344 1513.66 Z\" fill=\"#000000\" fill-rule=\"nonzero\" fill-opacity=\"1\" /><path clip-path=\"url(#clip260)\" d=\"M548.506 1542.97 L553.39 1542.97 L553.39 1548.85 L548.506 1548.85 L548.506 1542.97 Z\" fill=\"#000000\" fill-rule=\"nonzero\" fill-opacity=\"1\" /><path clip-path=\"url(#clip260)\" d=\"M563.714 1548.13 L563.714 1543.87 Q565.474 1544.7 567.279 1545.14 Q569.085 1545.58 570.821 1545.58 Q575.451 1545.58 577.881 1542.48 Q580.335 1539.36 580.682 1533.01 Q579.339 1535.01 577.279 1536.07 Q575.219 1537.13 572.719 1537.13 Q567.534 1537.13 564.502 1534.01 Q561.492 1530.86 561.492 1525.42 Q561.492 1520.1 564.64 1516.88 Q567.789 1513.66 573.02 1513.66 Q579.015 1513.66 582.163 1518.27 Q585.335 1522.85 585.335 1531.6 Q585.335 1539.77 581.446 1544.66 Q577.58 1549.52 571.029 1549.52 Q569.27 1549.52 567.464 1549.17 Q565.659 1548.82 563.714 1548.13 M573.02 1533.48 Q576.168 1533.48 577.997 1531.32 Q579.849 1529.17 579.849 1525.42 Q579.849 1521.7 577.997 1519.54 Q576.168 1517.37 573.02 1517.37 Q569.872 1517.37 568.02 1519.54 Q566.191 1521.7 566.191 1525.42 Q566.191 1529.17 568.02 1531.32 Q569.872 1533.48 573.02 1533.48 Z\" fill=\"#000000\" fill-rule=\"nonzero\" fill-opacity=\"1\" /><path clip-path=\"url(#clip260)\" d=\"M593.876 1548.13 L593.876 1543.87 Q595.636 1544.7 597.441 1545.14 Q599.247 1545.58 600.983 1545.58 Q605.612 1545.58 608.043 1542.48 Q610.497 1539.36 610.844 1533.01 Q609.501 1535.01 607.441 1536.07 Q605.381 1537.13 602.881 1537.13 Q597.696 1537.13 594.663 1534.01 Q591.654 1530.86 591.654 1525.42 Q591.654 1520.1 594.802 1516.88 Q597.95 1513.66 603.182 1513.66 Q609.177 1513.66 612.325 1518.27 Q615.497 1522.85 615.497 1531.6 Q615.497 1539.77 611.608 1544.66 Q607.742 1549.52 601.191 1549.52 Q599.432 1549.52 597.626 1549.17 Q595.821 1548.82 593.876 1548.13 M603.182 1533.48 Q606.33 1533.48 608.159 1531.32 Q610.011 1529.17 610.011 1525.42 Q610.011 1521.7 608.159 1519.54 Q606.33 1517.37 603.182 1517.37 Q600.034 1517.37 598.182 1519.54 Q596.353 1521.7 596.353 1525.42 Q596.353 1529.17 598.182 1531.32 Q600.034 1533.48 603.182 1533.48 Z\" fill=\"#000000\" fill-rule=\"nonzero\" fill-opacity=\"1\" /><path clip-path=\"url(#clip260)\" d=\"M633.899 1517.37 Q630.288 1517.37 628.46 1520.93 Q626.654 1524.47 626.654 1531.6 Q626.654 1538.71 628.46 1542.27 Q630.288 1545.82 633.899 1545.82 Q637.534 1545.82 639.339 1542.27 Q641.168 1538.71 641.168 1531.6 Q641.168 1524.47 639.339 1520.93 Q637.534 1517.37 633.899 1517.37 M633.899 1513.66 Q639.709 1513.66 642.765 1518.27 Q645.844 1522.85 645.844 1531.6 Q645.844 1540.33 642.765 1544.94 Q639.709 1549.52 633.899 1549.52 Q628.089 1549.52 625.01 1544.94 Q621.955 1540.33 621.955 1531.6 Q621.955 1522.85 625.01 1518.27 Q628.089 1513.66 633.899 1513.66 Z\" fill=\"#000000\" fill-rule=\"nonzero\" fill-opacity=\"1\" /><path clip-path=\"url(#clip260)\" d=\"M918.726 1517.37 Q915.115 1517.37 913.286 1520.93 Q911.481 1524.47 911.481 1531.6 Q911.481 1538.71 913.286 1542.27 Q915.115 1545.82 918.726 1545.82 Q922.36 1545.82 924.166 1542.27 Q925.995 1538.71 925.995 1531.6 Q925.995 1524.47 924.166 1520.93 Q922.36 1517.37 918.726 1517.37 M918.726 1513.66 Q924.536 1513.66 927.592 1518.27 Q930.671 1522.85 930.671 1531.6 Q930.671 1540.33 927.592 1544.94 Q924.536 1549.52 918.726 1549.52 Q912.916 1549.52 909.837 1544.94 Q906.782 1540.33 906.782 1531.6 Q906.782 1522.85 909.837 1518.27 Q912.916 1513.66 918.726 1513.66 Z\" fill=\"#000000\" fill-rule=\"nonzero\" fill-opacity=\"1\" /><path clip-path=\"url(#clip260)\" d=\"M938.888 1542.97 L943.772 1542.97 L943.772 1548.85 L938.888 1548.85 L938.888 1542.97 Z\" fill=\"#000000\" fill-rule=\"nonzero\" fill-opacity=\"1\" /><path clip-path=\"url(#clip260)\" d=\"M954.096 1548.13 L954.096 1543.87 Q955.856 1544.7 957.661 1545.14 Q959.467 1545.58 961.203 1545.58 Q965.832 1545.58 968.263 1542.48 Q970.717 1539.36 971.064 1533.01 Q969.721 1535.01 967.661 1536.07 Q965.601 1537.13 963.101 1537.13 Q957.916 1537.13 954.883 1534.01 Q951.874 1530.86 951.874 1525.42 Q951.874 1520.1 955.022 1516.88 Q958.17 1513.66 963.402 1513.66 Q969.397 1513.66 972.545 1518.27 Q975.717 1522.85 975.717 1531.6 Q975.717 1539.77 971.828 1544.66 Q967.962 1549.52 961.411 1549.52 Q959.652 1549.52 957.846 1549.17 Q956.041 1548.82 954.096 1548.13 M963.402 1533.48 Q966.55 1533.48 968.379 1531.32 Q970.231 1529.17 970.231 1525.42 Q970.231 1521.7 968.379 1519.54 Q966.55 1517.37 963.402 1517.37 Q960.254 1517.37 958.402 1519.54 Q956.573 1521.7 956.573 1525.42 Q956.573 1529.17 958.402 1531.32 Q960.254 1533.48 963.402 1533.48 Z\" fill=\"#000000\" fill-rule=\"nonzero\" fill-opacity=\"1\" /><path clip-path=\"url(#clip260)\" d=\"M984.258 1548.13 L984.258 1543.87 Q986.018 1544.7 987.823 1545.14 Q989.629 1545.58 991.365 1545.58 Q995.994 1545.58 998.425 1542.48 Q1000.88 1539.36 1001.23 1533.01 Q999.883 1535.01 997.823 1536.07 Q995.763 1537.13 993.263 1537.13 Q988.078 1537.13 985.045 1534.01 Q982.036 1530.86 982.036 1525.42 Q982.036 1520.1 985.184 1516.88 Q988.332 1513.66 993.564 1513.66 Q999.559 1513.66 1002.71 1518.27 Q1005.88 1522.85 1005.88 1531.6 Q1005.88 1539.77 1001.99 1544.66 Q998.124 1549.52 991.573 1549.52 Q989.814 1549.52 988.008 1549.17 Q986.203 1548.82 984.258 1548.13 M993.564 1533.48 Q996.712 1533.48 998.541 1531.32 Q1000.39 1529.17 1000.39 1525.42 Q1000.39 1521.7 998.541 1519.54 Q996.712 1517.37 993.564 1517.37 Q990.416 1517.37 988.564 1519.54 Q986.735 1521.7 986.735 1525.42 Q986.735 1529.17 988.564 1531.32 Q990.416 1533.48 993.564 1533.48 Z\" fill=\"#000000\" fill-rule=\"nonzero\" fill-opacity=\"1\" /><path clip-path=\"url(#clip260)\" d=\"M1014.33 1514.29 L1032.68 1514.29 L1032.68 1518.22 L1018.61 1518.22 L1018.61 1526.7 Q1019.63 1526.35 1020.65 1526.19 Q1021.67 1526 1022.68 1526 Q1028.47 1526 1031.85 1529.17 Q1035.23 1532.34 1035.23 1537.76 Q1035.23 1543.34 1031.76 1546.44 Q1028.29 1549.52 1021.97 1549.52 Q1019.79 1549.52 1017.52 1549.15 Q1015.28 1548.78 1012.87 1548.04 L1012.87 1543.34 Q1014.95 1544.47 1017.17 1545.03 Q1019.4 1545.58 1021.87 1545.58 Q1025.88 1545.58 1028.22 1543.48 Q1030.55 1541.37 1030.55 1537.76 Q1030.55 1534.15 1028.22 1532.04 Q1025.88 1529.94 1021.87 1529.94 Q1020 1529.94 1018.12 1530.35 Q1016.27 1530.77 1014.33 1531.65 L1014.33 1514.29 Z\" fill=\"#000000\" fill-rule=\"nonzero\" fill-opacity=\"1\" /><path clip-path=\"url(#clip260)\" d=\"M1297.88 1544.91 L1305.52 1544.91 L1305.52 1518.55 L1297.21 1520.21 L1297.21 1515.95 L1305.47 1514.29 L1310.15 1514.29 L1310.15 1544.91 L1317.79 1544.91 L1317.79 1548.85 L1297.88 1548.85 L1297.88 1544.91 Z\" fill=\"#000000\" fill-rule=\"nonzero\" fill-opacity=\"1\" /><path clip-path=\"url(#clip260)\" d=\"M1327.23 1542.97 L1332.12 1542.97 L1332.12 1548.85 L1327.23 1548.85 L1327.23 1542.97 Z\" fill=\"#000000\" fill-rule=\"nonzero\" fill-opacity=\"1\" /><path clip-path=\"url(#clip260)\" d=\"M1352.3 1517.37 Q1348.69 1517.37 1346.86 1520.93 Q1345.06 1524.47 1345.06 1531.6 Q1345.06 1538.71 1346.86 1542.27 Q1348.69 1545.82 1352.3 1545.82 Q1355.94 1545.82 1357.74 1542.27 Q1359.57 1538.71 1359.57 1531.6 Q1359.57 1524.47 1357.74 1520.93 Q1355.94 1517.37 1352.3 1517.37 M1352.3 1513.66 Q1358.11 1513.66 1361.17 1518.27 Q1364.25 1522.85 1364.25 1531.6 Q1364.25 1540.33 1361.17 1544.94 Q1358.11 1549.52 1352.3 1549.52 Q1346.49 1549.52 1343.41 1544.94 Q1340.36 1540.33 1340.36 1531.6 Q1340.36 1522.85 1343.41 1518.27 Q1346.49 1513.66 1352.3 1513.66 Z\" fill=\"#000000\" fill-rule=\"nonzero\" fill-opacity=\"1\" /><path clip-path=\"url(#clip260)\" d=\"M1382.46 1517.37 Q1378.85 1517.37 1377.02 1520.93 Q1375.22 1524.47 1375.22 1531.6 Q1375.22 1538.71 1377.02 1542.27 Q1378.85 1545.82 1382.46 1545.82 Q1386.1 1545.82 1387.9 1542.27 Q1389.73 1538.71 1389.73 1531.6 Q1389.73 1524.47 1387.9 1520.93 Q1386.1 1517.37 1382.46 1517.37 M1382.46 1513.66 Q1388.27 1513.66 1391.33 1518.27 Q1394.41 1522.85 1394.41 1531.6 Q1394.41 1540.33 1391.33 1544.94 Q1388.27 1549.52 1382.46 1549.52 Q1376.65 1549.52 1373.58 1544.94 Q1370.52 1540.33 1370.52 1531.6 Q1370.52 1522.85 1373.58 1518.27 Q1376.65 1513.66 1382.46 1513.66 Z\" fill=\"#000000\" fill-rule=\"nonzero\" fill-opacity=\"1\" /><path clip-path=\"url(#clip260)\" d=\"M1412.63 1517.37 Q1409.02 1517.37 1407.19 1520.93 Q1405.38 1524.47 1405.38 1531.6 Q1405.38 1538.71 1407.19 1542.27 Q1409.02 1545.82 1412.63 1545.82 Q1416.26 1545.82 1418.07 1542.27 Q1419.89 1538.71 1419.89 1531.6 Q1419.89 1524.47 1418.07 1520.93 Q1416.26 1517.37 1412.63 1517.37 M1412.63 1513.66 Q1418.44 1513.66 1421.49 1518.27 Q1424.57 1522.85 1424.57 1531.6 Q1424.57 1540.33 1421.49 1544.94 Q1418.44 1549.52 1412.63 1549.52 Q1406.82 1549.52 1403.74 1544.94 Q1400.68 1540.33 1400.68 1531.6 Q1400.68 1522.85 1403.74 1518.27 Q1406.82 1513.66 1412.63 1513.66 Z\" fill=\"#000000\" fill-rule=\"nonzero\" fill-opacity=\"1\" /><path clip-path=\"url(#clip260)\" d=\"M1688.26 1544.91 L1695.9 1544.91 L1695.9 1518.55 L1687.59 1520.21 L1687.59 1515.95 L1695.86 1514.29 L1700.53 1514.29 L1700.53 1544.91 L1708.17 1544.91 L1708.17 1548.85 L1688.26 1548.85 L1688.26 1544.91 Z\" fill=\"#000000\" fill-rule=\"nonzero\" fill-opacity=\"1\" /><path clip-path=\"url(#clip260)\" d=\"M1717.62 1542.97 L1722.5 1542.97 L1722.5 1548.85 L1717.62 1548.85 L1717.62 1542.97 Z\" fill=\"#000000\" fill-rule=\"nonzero\" fill-opacity=\"1\" /><path clip-path=\"url(#clip260)\" d=\"M1742.68 1517.37 Q1739.07 1517.37 1737.24 1520.93 Q1735.44 1524.47 1735.44 1531.6 Q1735.44 1538.71 1737.24 1542.27 Q1739.07 1545.82 1742.68 1545.82 Q1746.32 1545.82 1748.12 1542.27 Q1749.95 1538.71 1749.95 1531.6 Q1749.95 1524.47 1748.12 1520.93 Q1746.32 1517.37 1742.68 1517.37 M1742.68 1513.66 Q1748.49 1513.66 1751.55 1518.27 Q1754.63 1522.85 1754.63 1531.6 Q1754.63 1540.33 1751.55 1544.94 Q1748.49 1549.52 1742.68 1549.52 Q1736.87 1549.52 1733.8 1544.94 Q1730.74 1540.33 1730.74 1531.6 Q1730.74 1522.85 1733.8 1518.27 Q1736.87 1513.66 1742.68 1513.66 Z\" fill=\"#000000\" fill-rule=\"nonzero\" fill-opacity=\"1\" /><path clip-path=\"url(#clip260)\" d=\"M1772.85 1517.37 Q1769.24 1517.37 1767.41 1520.93 Q1765.6 1524.47 1765.6 1531.6 Q1765.6 1538.71 1767.41 1542.27 Q1769.24 1545.82 1772.85 1545.82 Q1776.48 1545.82 1778.29 1542.27 Q1780.11 1538.71 1780.11 1531.6 Q1780.11 1524.47 1778.29 1520.93 Q1776.48 1517.37 1772.85 1517.37 M1772.85 1513.66 Q1778.66 1513.66 1781.71 1518.27 Q1784.79 1522.85 1784.79 1531.6 Q1784.79 1540.33 1781.71 1544.94 Q1778.66 1549.52 1772.85 1549.52 Q1767.04 1549.52 1763.96 1544.94 Q1760.9 1540.33 1760.9 1531.6 Q1760.9 1522.85 1763.96 1518.27 Q1767.04 1513.66 1772.85 1513.66 Z\" fill=\"#000000\" fill-rule=\"nonzero\" fill-opacity=\"1\" /><path clip-path=\"url(#clip260)\" d=\"M1793.05 1514.29 L1811.41 1514.29 L1811.41 1518.22 L1797.34 1518.22 L1797.34 1526.7 Q1798.36 1526.35 1799.37 1526.19 Q1800.39 1526 1801.41 1526 Q1807.2 1526 1810.58 1529.17 Q1813.96 1532.34 1813.96 1537.76 Q1813.96 1543.34 1810.48 1546.44 Q1807.01 1549.52 1800.69 1549.52 Q1798.52 1549.52 1796.25 1549.15 Q1794 1548.78 1791.6 1548.04 L1791.6 1543.34 Q1793.68 1544.47 1795.9 1545.03 Q1798.12 1545.58 1800.6 1545.58 Q1804.61 1545.58 1806.94 1543.48 Q1809.28 1541.37 1809.28 1537.76 Q1809.28 1534.15 1806.94 1532.04 Q1804.61 1529.94 1800.6 1529.94 Q1798.73 1529.94 1796.85 1530.35 Q1795 1530.77 1793.05 1531.65 L1793.05 1514.29 Z\" fill=\"#000000\" fill-rule=\"nonzero\" fill-opacity=\"1\" /><path clip-path=\"url(#clip260)\" d=\"M2077.65 1544.91 L2085.29 1544.91 L2085.29 1518.55 L2076.98 1520.21 L2076.98 1515.95 L2085.24 1514.29 L2089.92 1514.29 L2089.92 1544.91 L2097.56 1544.91 L2097.56 1548.85 L2077.65 1548.85 L2077.65 1544.91 Z\" fill=\"#000000\" fill-rule=\"nonzero\" fill-opacity=\"1\" /><path clip-path=\"url(#clip260)\" d=\"M2107 1542.97 L2111.89 1542.97 L2111.89 1548.85 L2107 1548.85 L2107 1542.97 Z\" fill=\"#000000\" fill-rule=\"nonzero\" fill-opacity=\"1\" /><path clip-path=\"url(#clip260)\" d=\"M2132.07 1517.37 Q2128.46 1517.37 2126.63 1520.93 Q2124.83 1524.47 2124.83 1531.6 Q2124.83 1538.71 2126.63 1542.27 Q2128.46 1545.82 2132.07 1545.82 Q2135.71 1545.82 2137.51 1542.27 Q2139.34 1538.71 2139.34 1531.6 Q2139.34 1524.47 2137.51 1520.93 Q2135.71 1517.37 2132.07 1517.37 M2132.07 1513.66 Q2137.88 1513.66 2140.94 1518.27 Q2144.02 1522.85 2144.02 1531.6 Q2144.02 1540.33 2140.94 1544.94 Q2137.88 1549.52 2132.07 1549.52 Q2126.26 1549.52 2123.18 1544.94 Q2120.13 1540.33 2120.13 1531.6 Q2120.13 1522.85 2123.18 1518.27 Q2126.26 1513.66 2132.07 1513.66 Z\" fill=\"#000000\" fill-rule=\"nonzero\" fill-opacity=\"1\" /><path clip-path=\"url(#clip260)\" d=\"M2153.04 1544.91 L2160.68 1544.91 L2160.68 1518.55 L2152.37 1520.21 L2152.37 1515.95 L2160.64 1514.29 L2165.31 1514.29 L2165.31 1544.91 L2172.95 1544.91 L2172.95 1548.85 L2153.04 1548.85 L2153.04 1544.91 Z\" fill=\"#000000\" fill-rule=\"nonzero\" fill-opacity=\"1\" /><path clip-path=\"url(#clip260)\" d=\"M2192.39 1517.37 Q2188.78 1517.37 2186.95 1520.93 Q2185.15 1524.47 2185.15 1531.6 Q2185.15 1538.71 2186.95 1542.27 Q2188.78 1545.82 2192.39 1545.82 Q2196.03 1545.82 2197.83 1542.27 Q2199.66 1538.71 2199.66 1531.6 Q2199.66 1524.47 2197.83 1520.93 Q2196.03 1517.37 2192.39 1517.37 M2192.39 1513.66 Q2198.2 1513.66 2201.26 1518.27 Q2204.34 1522.85 2204.34 1531.6 Q2204.34 1540.33 2201.26 1544.94 Q2198.2 1549.52 2192.39 1549.52 Q2186.58 1549.52 2183.51 1544.94 Q2180.45 1540.33 2180.45 1531.6 Q2180.45 1522.85 2183.51 1518.27 Q2186.58 1513.66 2192.39 1513.66 Z\" fill=\"#000000\" fill-rule=\"nonzero\" fill-opacity=\"1\" /><polyline clip-path=\"url(#clip262)\" style=\"stroke:#000000; stroke-linecap:round; stroke-linejoin:round; stroke-width:2; stroke-opacity:0.1; fill:none\" points=\"369.025,1203.54 2352.76,1203.54 \"/>\n",
       "<polyline clip-path=\"url(#clip262)\" style=\"stroke:#000000; stroke-linecap:round; stroke-linejoin:round; stroke-width:2; stroke-opacity:0.1; fill:none\" points=\"369.025,888.818 2352.76,888.818 \"/>\n",
       "<polyline clip-path=\"url(#clip262)\" style=\"stroke:#000000; stroke-linecap:round; stroke-linejoin:round; stroke-width:2; stroke-opacity:0.1; fill:none\" points=\"369.025,574.098 2352.76,574.098 \"/>\n",
       "<polyline clip-path=\"url(#clip262)\" style=\"stroke:#000000; stroke-linecap:round; stroke-linejoin:round; stroke-width:2; stroke-opacity:0.1; fill:none\" points=\"369.025,259.378 2352.76,259.378 \"/>\n",
       "<polyline clip-path=\"url(#clip260)\" style=\"stroke:#000000; stroke-linecap:round; stroke-linejoin:round; stroke-width:4; stroke-opacity:1; fill:none\" points=\"369.025,1486.45 369.025,123.472 \"/>\n",
       "<polyline clip-path=\"url(#clip260)\" style=\"stroke:#000000; stroke-linecap:round; stroke-linejoin:round; stroke-width:4; stroke-opacity:1; fill:none\" points=\"369.025,1203.54 387.922,1203.54 \"/>\n",
       "<polyline clip-path=\"url(#clip260)\" style=\"stroke:#000000; stroke-linecap:round; stroke-linejoin:round; stroke-width:4; stroke-opacity:1; fill:none\" points=\"369.025,888.818 387.922,888.818 \"/>\n",
       "<polyline clip-path=\"url(#clip260)\" style=\"stroke:#000000; stroke-linecap:round; stroke-linejoin:round; stroke-width:4; stroke-opacity:1; fill:none\" points=\"369.025,574.098 387.922,574.098 \"/>\n",
       "<polyline clip-path=\"url(#clip260)\" style=\"stroke:#000000; stroke-linecap:round; stroke-linejoin:round; stroke-width:4; stroke-opacity:1; fill:none\" points=\"369.025,259.378 387.922,259.378 \"/>\n",
       "<path clip-path=\"url(#clip260)\" d=\"M50.9921 1210.44 L80.6679 1210.44 L80.6679 1214.37 L50.9921 1214.37 L50.9921 1210.44 Z\" fill=\"#000000\" fill-rule=\"nonzero\" fill-opacity=\"1\" /><path clip-path=\"url(#clip260)\" d=\"M94.7882 1223.33 L111.108 1223.33 L111.108 1227.27 L89.1632 1227.27 L89.1632 1223.33 Q91.8252 1220.58 96.4085 1215.95 Q101.015 1211.29 102.196 1209.95 Q104.441 1207.43 105.321 1205.69 Q106.223 1203.93 106.223 1202.24 Q106.223 1199.49 104.279 1197.75 Q102.358 1196.02 99.2558 1196.02 Q97.0567 1196.02 94.603 1196.78 Q92.1725 1197.54 89.3947 1199.09 L89.3947 1194.37 Q92.2188 1193.24 94.6724 1192.66 Q97.1261 1192.08 99.1632 1192.08 Q104.534 1192.08 107.728 1194.77 Q110.922 1197.45 110.922 1201.94 Q110.922 1204.07 110.112 1205.99 Q109.325 1207.89 107.219 1210.48 Q106.64 1211.15 103.538 1214.37 Q100.436 1217.57 94.7882 1223.33 Z\" fill=\"#000000\" fill-rule=\"nonzero\" fill-opacity=\"1\" /><path clip-path=\"url(#clip260)\" d=\"M120.922 1221.39 L125.807 1221.39 L125.807 1227.27 L120.922 1227.27 L120.922 1221.39 Z\" fill=\"#000000\" fill-rule=\"nonzero\" fill-opacity=\"1\" /><path clip-path=\"url(#clip260)\" d=\"M145.992 1195.78 Q142.381 1195.78 140.552 1199.35 Q138.746 1202.89 138.746 1210.02 Q138.746 1217.13 140.552 1220.69 Q142.381 1224.23 145.992 1224.23 Q149.626 1224.23 151.431 1220.69 Q153.26 1217.13 153.26 1210.02 Q153.26 1202.89 151.431 1199.35 Q149.626 1195.78 145.992 1195.78 M145.992 1192.08 Q151.802 1192.08 154.857 1196.69 Q157.936 1201.27 157.936 1210.02 Q157.936 1218.75 154.857 1223.35 Q151.802 1227.94 145.992 1227.94 Q140.181 1227.94 137.103 1223.35 Q134.047 1218.75 134.047 1210.02 Q134.047 1201.27 137.103 1196.69 Q140.181 1192.08 145.992 1192.08 Z\" fill=\"#000000\" fill-rule=\"nonzero\" fill-opacity=\"1\" /><path clip-path=\"url(#clip260)\" d=\"M194.325 1201.8 L183.746 1212.43 L194.325 1223.01 L191.57 1225.81 L180.945 1215.18 L170.32 1225.81 L167.589 1223.01 L178.144 1212.43 L167.589 1201.8 L170.32 1199 L180.945 1209.63 L191.57 1199 L194.325 1201.8 Z\" fill=\"#000000\" fill-rule=\"nonzero\" fill-opacity=\"1\" /><path clip-path=\"url(#clip260)\" d=\"M206.686 1223.33 L214.325 1223.33 L214.325 1196.96 L206.014 1198.63 L206.014 1194.37 L214.278 1192.71 L218.954 1192.71 L218.954 1223.33 L226.593 1223.33 L226.593 1227.27 L206.686 1227.27 L206.686 1223.33 Z\" fill=\"#000000\" fill-rule=\"nonzero\" fill-opacity=\"1\" /><path clip-path=\"url(#clip260)\" d=\"M246.037 1195.78 Q242.426 1195.78 240.598 1199.35 Q238.792 1202.89 238.792 1210.02 Q238.792 1217.13 240.598 1220.69 Q242.426 1224.23 246.037 1224.23 Q249.672 1224.23 251.477 1220.69 Q253.306 1217.13 253.306 1210.02 Q253.306 1202.89 251.477 1199.35 Q249.672 1195.78 246.037 1195.78 M246.037 1192.08 Q251.848 1192.08 254.903 1196.69 Q257.982 1201.27 257.982 1210.02 Q257.982 1218.75 254.903 1223.35 Q251.848 1227.94 246.037 1227.94 Q240.227 1227.94 237.149 1223.35 Q234.093 1218.75 234.093 1210.02 Q234.093 1201.27 237.149 1196.69 Q240.227 1192.08 246.037 1192.08 Z\" fill=\"#000000\" fill-rule=\"nonzero\" fill-opacity=\"1\" /><path clip-path=\"url(#clip260)\" d=\"M257.982 1186.18 L282.093 1186.18 L282.093 1189.38 L257.982 1189.38 L257.982 1186.18 Z\" fill=\"#000000\" fill-rule=\"nonzero\" fill-opacity=\"1\" /><path clip-path=\"url(#clip260)\" d=\"M290.952 1196.66 L297.158 1196.66 L297.158 1175.24 L290.406 1176.59 L290.406 1173.13 L297.121 1171.78 L300.92 1171.78 L300.92 1196.66 L307.126 1196.66 L307.126 1199.86 L290.952 1199.86 L290.952 1196.66 Z\" fill=\"#000000\" fill-rule=\"nonzero\" fill-opacity=\"1\" /><path clip-path=\"url(#clip260)\" d=\"M325.238 1175.09 L315.646 1190.08 L325.238 1190.08 L325.238 1175.09 M324.242 1171.78 L329.019 1171.78 L329.019 1190.08 L333.025 1190.08 L333.025 1193.24 L329.019 1193.24 L329.019 1199.86 L325.238 1199.86 L325.238 1193.24 L312.562 1193.24 L312.562 1189.57 L324.242 1171.78 Z\" fill=\"#000000\" fill-rule=\"nonzero\" fill-opacity=\"1\" /><path clip-path=\"url(#clip260)\" d=\"M321.08 874.617 Q317.469 874.617 315.641 878.182 Q313.835 881.723 313.835 888.853 Q313.835 895.959 315.641 899.524 Q317.469 903.066 321.08 903.066 Q324.715 903.066 326.52 899.524 Q328.349 895.959 328.349 888.853 Q328.349 881.723 326.52 878.182 Q324.715 874.617 321.08 874.617 M321.08 870.913 Q326.891 870.913 329.946 875.52 Q333.025 880.103 333.025 888.853 Q333.025 897.58 329.946 902.186 Q326.891 906.77 321.08 906.77 Q315.27 906.77 312.192 902.186 Q309.136 897.58 309.136 888.853 Q309.136 880.103 312.192 875.52 Q315.27 870.913 321.08 870.913 Z\" fill=\"#000000\" fill-rule=\"nonzero\" fill-opacity=\"1\" /><path clip-path=\"url(#clip260)\" d=\"M94.7882 593.891 L111.108 593.891 L111.108 597.826 L89.1632 597.826 L89.1632 593.891 Q91.8252 591.136 96.4085 586.507 Q101.015 581.854 102.196 580.511 Q104.441 577.988 105.321 576.252 Q106.223 574.493 106.223 572.803 Q106.223 570.048 104.279 568.312 Q102.358 566.576 99.2558 566.576 Q97.0567 566.576 94.603 567.34 Q92.1725 568.104 89.3947 569.655 L89.3947 564.933 Q92.2188 563.798 94.6724 563.22 Q97.1261 562.641 99.1632 562.641 Q104.534 562.641 107.728 565.326 Q110.922 568.011 110.922 572.502 Q110.922 574.632 110.112 576.553 Q109.325 578.451 107.219 581.044 Q106.64 581.715 103.538 584.932 Q100.436 588.127 94.7882 593.891 Z\" fill=\"#000000\" fill-rule=\"nonzero\" fill-opacity=\"1\" /><path clip-path=\"url(#clip260)\" d=\"M120.922 591.946 L125.807 591.946 L125.807 597.826 L120.922 597.826 L120.922 591.946 Z\" fill=\"#000000\" fill-rule=\"nonzero\" fill-opacity=\"1\" /><path clip-path=\"url(#clip260)\" d=\"M145.992 566.345 Q142.381 566.345 140.552 569.909 Q138.746 573.451 138.746 580.581 Q138.746 587.687 140.552 591.252 Q142.381 594.794 145.992 594.794 Q149.626 594.794 151.431 591.252 Q153.26 587.687 153.26 580.581 Q153.26 573.451 151.431 569.909 Q149.626 566.345 145.992 566.345 M145.992 562.641 Q151.802 562.641 154.857 567.247 Q157.936 571.831 157.936 580.581 Q157.936 589.307 154.857 593.914 Q151.802 598.497 145.992 598.497 Q140.181 598.497 137.103 593.914 Q134.047 589.307 134.047 580.581 Q134.047 571.831 137.103 567.247 Q140.181 562.641 145.992 562.641 Z\" fill=\"#000000\" fill-rule=\"nonzero\" fill-opacity=\"1\" /><path clip-path=\"url(#clip260)\" d=\"M194.325 572.363 L183.746 582.988 L194.325 593.567 L191.57 596.368 L180.945 585.743 L170.32 596.368 L167.589 593.567 L178.144 582.988 L167.589 572.363 L170.32 569.562 L180.945 580.187 L191.57 569.562 L194.325 572.363 Z\" fill=\"#000000\" fill-rule=\"nonzero\" fill-opacity=\"1\" /><path clip-path=\"url(#clip260)\" d=\"M206.686 593.891 L214.325 593.891 L214.325 567.525 L206.014 569.192 L206.014 564.933 L214.278 563.266 L218.954 563.266 L218.954 593.891 L226.593 593.891 L226.593 597.826 L206.686 597.826 L206.686 593.891 Z\" fill=\"#000000\" fill-rule=\"nonzero\" fill-opacity=\"1\" /><path clip-path=\"url(#clip260)\" d=\"M246.037 566.345 Q242.426 566.345 240.598 569.909 Q238.792 573.451 238.792 580.581 Q238.792 587.687 240.598 591.252 Q242.426 594.794 246.037 594.794 Q249.672 594.794 251.477 591.252 Q253.306 587.687 253.306 580.581 Q253.306 573.451 251.477 569.909 Q249.672 566.345 246.037 566.345 M246.037 562.641 Q251.848 562.641 254.903 567.247 Q257.982 571.831 257.982 580.581 Q257.982 589.307 254.903 593.914 Q251.848 598.497 246.037 598.497 Q240.227 598.497 237.149 593.914 Q234.093 589.307 234.093 580.581 Q234.093 571.831 237.149 567.247 Q240.227 562.641 246.037 562.641 Z\" fill=\"#000000\" fill-rule=\"nonzero\" fill-opacity=\"1\" /><path clip-path=\"url(#clip260)\" d=\"M257.982 556.742 L282.093 556.742 L282.093 559.94 L257.982 559.94 L257.982 556.742 Z\" fill=\"#000000\" fill-rule=\"nonzero\" fill-opacity=\"1\" /><path clip-path=\"url(#clip260)\" d=\"M290.952 567.218 L297.158 567.218 L297.158 545.796 L290.406 547.15 L290.406 543.69 L297.121 542.336 L300.92 542.336 L300.92 567.218 L307.126 567.218 L307.126 570.416 L290.952 570.416 L290.952 567.218 Z\" fill=\"#000000\" fill-rule=\"nonzero\" fill-opacity=\"1\" /><path clip-path=\"url(#clip260)\" d=\"M325.238 545.646 L315.646 560.635 L325.238 560.635 L325.238 545.646 M324.242 542.336 L329.019 542.336 L329.019 560.635 L333.025 560.635 L333.025 563.795 L329.019 563.795 L329.019 570.416 L325.238 570.416 L325.238 563.795 L312.562 563.795 L312.562 560.128 L324.242 542.336 Z\" fill=\"#000000\" fill-rule=\"nonzero\" fill-opacity=\"1\" /><path clip-path=\"url(#clip260)\" d=\"M103.608 252.62 L91.8021 271.069 L103.608 271.069 L103.608 252.62 M102.381 248.546 L108.26 248.546 L108.26 271.069 L113.191 271.069 L113.191 274.958 L108.26 274.958 L108.26 283.106 L103.608 283.106 L103.608 274.958 L88.0058 274.958 L88.0058 270.444 L102.381 248.546 Z\" fill=\"#000000\" fill-rule=\"nonzero\" fill-opacity=\"1\" /><path clip-path=\"url(#clip260)\" d=\"M120.922 277.226 L125.807 277.226 L125.807 283.106 L120.922 283.106 L120.922 277.226 Z\" fill=\"#000000\" fill-rule=\"nonzero\" fill-opacity=\"1\" /><path clip-path=\"url(#clip260)\" d=\"M145.992 251.625 Q142.381 251.625 140.552 255.189 Q138.746 258.731 138.746 265.861 Q138.746 272.967 140.552 276.532 Q142.381 280.074 145.992 280.074 Q149.626 280.074 151.431 276.532 Q153.26 272.967 153.26 265.861 Q153.26 258.731 151.431 255.189 Q149.626 251.625 145.992 251.625 M145.992 247.921 Q151.802 247.921 154.857 252.527 Q157.936 257.111 157.936 265.861 Q157.936 274.588 154.857 279.194 Q151.802 283.777 145.992 283.777 Q140.181 283.777 137.103 279.194 Q134.047 274.588 134.047 265.861 Q134.047 257.111 137.103 252.527 Q140.181 247.921 145.992 247.921 Z\" fill=\"#000000\" fill-rule=\"nonzero\" fill-opacity=\"1\" /><path clip-path=\"url(#clip260)\" d=\"M194.325 257.643 L183.746 268.268 L194.325 278.847 L191.57 281.648 L180.945 271.023 L170.32 281.648 L167.589 278.847 L178.144 268.268 L167.589 257.643 L170.32 254.842 L180.945 265.467 L191.57 254.842 L194.325 257.643 Z\" fill=\"#000000\" fill-rule=\"nonzero\" fill-opacity=\"1\" /><path clip-path=\"url(#clip260)\" d=\"M206.686 279.171 L214.325 279.171 L214.325 252.805 L206.014 254.472 L206.014 250.213 L214.278 248.546 L218.954 248.546 L218.954 279.171 L226.593 279.171 L226.593 283.106 L206.686 283.106 L206.686 279.171 Z\" fill=\"#000000\" fill-rule=\"nonzero\" fill-opacity=\"1\" /><path clip-path=\"url(#clip260)\" d=\"M246.037 251.625 Q242.426 251.625 240.598 255.189 Q238.792 258.731 238.792 265.861 Q238.792 272.967 240.598 276.532 Q242.426 280.074 246.037 280.074 Q249.672 280.074 251.477 276.532 Q253.306 272.967 253.306 265.861 Q253.306 258.731 251.477 255.189 Q249.672 251.625 246.037 251.625 M246.037 247.921 Q251.848 247.921 254.903 252.527 Q257.982 257.111 257.982 265.861 Q257.982 274.588 254.903 279.194 Q251.848 283.777 246.037 283.777 Q240.227 283.777 237.149 279.194 Q234.093 274.588 234.093 265.861 Q234.093 257.111 237.149 252.527 Q240.227 247.921 246.037 247.921 Z\" fill=\"#000000\" fill-rule=\"nonzero\" fill-opacity=\"1\" /><path clip-path=\"url(#clip260)\" d=\"M257.982 242.022 L282.093 242.022 L282.093 245.22 L257.982 245.22 L257.982 242.022 Z\" fill=\"#000000\" fill-rule=\"nonzero\" fill-opacity=\"1\" /><path clip-path=\"url(#clip260)\" d=\"M290.952 252.498 L297.158 252.498 L297.158 231.076 L290.406 232.43 L290.406 228.97 L297.121 227.616 L300.92 227.616 L300.92 252.498 L307.126 252.498 L307.126 255.696 L290.952 255.696 L290.952 252.498 Z\" fill=\"#000000\" fill-rule=\"nonzero\" fill-opacity=\"1\" /><path clip-path=\"url(#clip260)\" d=\"M325.238 230.926 L315.646 245.916 L325.238 245.916 L325.238 230.926 M324.242 227.616 L329.019 227.616 L329.019 245.916 L333.025 245.916 L333.025 249.075 L329.019 249.075 L329.019 255.696 L325.238 255.696 L325.238 249.075 L312.562 249.075 L312.562 245.408 L324.242 227.616 Z\" fill=\"#000000\" fill-rule=\"nonzero\" fill-opacity=\"1\" /><path clip-path=\"url(#clip260)\" d=\"M1186.99 18.8205 L1186.99 41.5461 L1197.27 41.5461 Q1202.99 41.5461 1206.11 38.5889 Q1209.22 35.6318 1209.22 30.163 Q1209.22 24.7348 1206.11 21.7777 Q1202.99 18.8205 1197.27 18.8205 L1186.99 18.8205 M1178.8 12.096 L1197.27 12.096 Q1207.44 12.096 1212.63 16.714 Q1217.85 21.2916 1217.85 30.163 Q1217.85 39.1155 1212.63 43.6931 Q1207.44 48.2706 1197.27 48.2706 L1186.99 48.2706 L1186.99 72.576 L1178.8 72.576 L1178.8 12.096 Z\" fill=\"#000000\" fill-rule=\"nonzero\" fill-opacity=\"1\" /><path clip-path=\"url(#clip260)\" d=\"M1228.51 9.54393 L1235.96 9.54393 L1235.96 72.576 L1228.51 72.576 L1228.51 9.54393 Z\" fill=\"#000000\" fill-rule=\"nonzero\" fill-opacity=\"1\" /><path clip-path=\"url(#clip260)\" d=\"M1269.14 32.4315 Q1263.14 32.4315 1259.66 37.1306 Q1256.17 41.7891 1256.17 49.9314 Q1256.17 58.0738 1259.62 62.7728 Q1263.1 67.4314 1269.14 67.4314 Q1275.09 67.4314 1278.58 62.7323 Q1282.06 58.0333 1282.06 49.9314 Q1282.06 41.8701 1278.58 37.1711 Q1275.09 32.4315 1269.14 32.4315 M1269.14 26.1121 Q1278.86 26.1121 1284.41 32.4315 Q1289.96 38.7509 1289.96 49.9314 Q1289.96 61.0714 1284.41 67.4314 Q1278.86 73.7508 1269.14 73.7508 Q1259.37 73.7508 1253.82 67.4314 Q1248.32 61.0714 1248.32 49.9314 Q1248.32 38.7509 1253.82 32.4315 Q1259.37 26.1121 1269.14 26.1121 Z\" fill=\"#000000\" fill-rule=\"nonzero\" fill-opacity=\"1\" /><path clip-path=\"url(#clip260)\" d=\"M1309.69 14.324 L1309.69 27.2059 L1325.04 27.2059 L1325.04 32.9987 L1309.69 32.9987 L1309.69 57.6282 Q1309.69 63.1779 1311.19 64.7578 Q1312.73 66.3376 1317.38 66.3376 L1325.04 66.3376 L1325.04 72.576 L1317.38 72.576 Q1308.76 72.576 1305.47 69.3758 Q1302.19 66.1351 1302.19 57.6282 L1302.19 32.9987 L1296.72 32.9987 L1296.72 27.2059 L1302.19 27.2059 L1302.19 14.324 L1309.69 14.324 Z\" fill=\"#000000\" fill-rule=\"nonzero\" fill-opacity=\"1\" /><path clip-path=\"url(#clip260)\" d=\"M1386.09 17.6457 Q1377.17 17.6457 1371.91 24.2892 Q1366.68 30.9327 1366.68 42.3968 Q1366.68 53.8203 1371.91 60.4638 Q1377.17 67.1073 1386.09 67.1073 Q1395 67.1073 1400.18 60.4638 Q1405.41 53.8203 1405.41 42.3968 Q1405.41 30.9327 1400.18 24.2892 Q1395 17.6457 1386.09 17.6457 M1397.55 71.4823 L1408.33 83.2704 L1398.44 83.2704 L1389.49 73.5887 Q1388.15 73.6697 1387.42 73.7103 Q1386.74 73.7508 1386.09 73.7508 Q1373.33 73.7508 1365.67 65.2439 Q1358.05 56.6965 1358.05 42.3968 Q1358.05 28.0566 1365.67 19.5497 Q1373.33 11.0023 1386.09 11.0023 Q1398.81 11.0023 1406.42 19.5497 Q1414.04 28.0566 1414.04 42.3968 Q1414.04 52.9291 1409.78 60.4233 Q1405.57 67.9175 1397.55 71.4823 Z\" fill=\"#000000\" fill-rule=\"nonzero\" fill-opacity=\"1\" /><path clip-path=\"url(#clip260)\" d=\"M1450.05 19.2256 L1429.39 51.5113 L1450.05 51.5113 L1450.05 19.2256 M1447.9 12.096 L1458.19 12.096 L1458.19 51.5113 L1466.82 51.5113 L1466.82 58.3168 L1458.19 58.3168 L1458.19 72.576 L1450.05 72.576 L1450.05 58.3168 L1422.75 58.3168 L1422.75 50.4176 L1447.9 12.096 Z\" fill=\"#000000\" fill-rule=\"nonzero\" fill-opacity=\"1\" /><path clip-path=\"url(#clip260)\" d=\"M1480.35 62.2867 L1488.9 62.2867 L1488.9 72.576 L1480.35 72.576 L1480.35 62.2867 Z\" fill=\"#000000\" fill-rule=\"nonzero\" fill-opacity=\"1\" /><path clip-path=\"url(#clip260)\" d=\"M1508.14 65.6895 L1521.51 65.6895 L1521.51 19.5497 L1506.97 22.4663 L1506.97 15.0127 L1521.43 12.096 L1529.61 12.096 L1529.61 65.6895 L1542.98 65.6895 L1542.98 72.576 L1508.14 72.576 L1508.14 65.6895 Z\" fill=\"#000000\" fill-rule=\"nonzero\" fill-opacity=\"1\" /><polyline clip-path=\"url(#clip262)\" style=\"stroke:#009af9; stroke-linecap:round; stroke-linejoin:round; stroke-width:4; stroke-opacity:1; fill:none\" points=\"425.168,1447.87 503.145,1252.2 581.122,1112.44 659.099,1014.61 737.076,986.653 815.052,958.7 893.029,916.771 971.006,944.724 1048.98,916.771 1126.96,930.747 1204.94,902.795 1282.91,916.771 1360.89,888.818 1438.87,972.676 1516.84,986.653 1594.82,860.865 1672.8,916.771 1750.77,902.795 1828.75,916.771 1906.73,888.818 1984.71,846.889 2062.68,944.724 2140.66,777.007 2218.64,595.314 2296.61,162.047 \"/>\n",
       "<path clip-path=\"url(#clip260)\" d=\"M435.149 272.585 L685.953 272.585 L685.953 168.905 L435.149 168.905  Z\" fill=\"#ffffff\" fill-rule=\"evenodd\" fill-opacity=\"1\"/>\n",
       "<polyline clip-path=\"url(#clip260)\" style=\"stroke:#000000; stroke-linecap:round; stroke-linejoin:round; stroke-width:4; stroke-opacity:1; fill:none\" points=\"435.149,272.585 685.953,272.585 685.953,168.905 435.149,168.905 435.149,272.585 \"/>\n",
       "<polyline clip-path=\"url(#clip260)\" style=\"stroke:#009af9; stroke-linecap:round; stroke-linejoin:round; stroke-width:4; stroke-opacity:1; fill:none\" points=\"457.191,220.745 589.439,220.745 \"/>\n",
       "<path clip-path=\"url(#clip260)\" d=\"M625.323 240.432 Q623.518 245.062 621.805 246.474 Q620.092 247.886 617.221 247.886 L613.819 247.886 L613.819 244.321 L616.319 244.321 Q618.078 244.321 619.05 243.488 Q620.022 242.654 621.203 239.552 L621.967 237.608 L611.481 212.099 L615.995 212.099 L624.096 232.377 L632.198 212.099 L636.712 212.099 L625.323 240.432 Z\" fill=\"#000000\" fill-rule=\"nonzero\" fill-opacity=\"1\" /><path clip-path=\"url(#clip260)\" d=\"M644.004 234.089 L651.643 234.089 L651.643 207.724 L643.332 209.391 L643.332 205.131 L651.596 203.465 L656.272 203.465 L656.272 234.089 L663.911 234.089 L663.911 238.025 L644.004 238.025 L644.004 234.089 Z\" fill=\"#000000\" fill-rule=\"nonzero\" fill-opacity=\"1\" /></svg>\n"
      ]
     },
     "execution_count": 61,
     "metadata": {},
     "output_type": "execute_result"
    }
   ],
   "source": [
    "Plots.plot(x, y, title = \"Plot Q4.1\")"
   ]
  },
  {
   "cell_type": "markdown",
   "metadata": {},
   "source": [
    "### Q4.2"
   ]
  },
  {
   "cell_type": "code",
   "execution_count": 62,
   "metadata": {},
   "outputs": [
    {
     "data": {
      "text/plain": [
       "g_poly_2 (generic function with 1 method)"
      ]
     },
     "execution_count": 62,
     "metadata": {},
     "output_type": "execute_result"
    }
   ],
   "source": [
    "function g_poly_2(k::Float64)\n",
    "    (k - 1) ^ 7\n",
    "end"
   ]
  },
  {
   "cell_type": "code",
   "execution_count": 63,
   "metadata": {},
   "outputs": [
    {
     "data": {
      "text/plain": [
       "25-element Vector{Float64}:\n",
       " -3.583180800000022e-14\n",
       " -1.9487171000000122e-14\n",
       " -1.0000000000000062e-14\n",
       " -4.78296900000003e-15\n",
       " -2.0971520000000132e-15\n",
       " -8.235430000000051e-16\n",
       " -2.7993600000000173e-16\n",
       " -7.812500000000048e-17\n",
       " -1.6384000000000103e-17\n",
       " -2.1870000000000135e-18\n",
       " -1.280000000000008e-19\n",
       " -1.0000000000000063e-21\n",
       "  0.0\n",
       "  9.99999999999229e-22\n",
       "  1.280000000000008e-19\n",
       "  2.186999999999447e-18\n",
       "  1.6384000000000103e-17\n",
       "  7.812499999998834e-17\n",
       "  2.7993600000000173e-16\n",
       "  8.235429999999137e-16\n",
       "  2.0971520000000132e-15\n",
       "  4.7829689999996165e-15\n",
       "  1.0000000000000062e-14\n",
       "  1.9487170999998743e-14\n",
       "  3.583180800000022e-14"
      ]
     },
     "execution_count": 63,
     "metadata": {},
     "output_type": "execute_result"
    }
   ],
   "source": [
    "y = g_poly_2.(x)\n",
    "y"
   ]
  },
  {
   "cell_type": "code",
   "execution_count": 65,
   "metadata": {},
   "outputs": [
    {
     "data": {
      "image/png": "[encoded data removed]",
      "image/svg+xml": [
       "<?xml version=\"1.0\" encoding=\"utf-8\"?>\n",
       "<svg xmlns=\"http://www.w3.org/2000/svg\" xmlns:xlink=\"http://www.w3.org/1999/xlink\" width=\"600\" height=\"400\" viewBox=\"0 0 2400 1600\">\n",
       "<defs>\n",
       "  <clipPath id=\"clip390\">\n",
       "    <rect x=\"0\" y=\"0\" width=\"2400\" height=\"1600\"/>\n",
       "  </clipPath>\n",
       "</defs>\n",
       "<path clip-path=\"url(#clip390)\" d=\"M0 1600 L2400 1600 L2400 0 L0 0  Z\" fill=\"#ffffff\" fill-rule=\"evenodd\" fill-opacity=\"1\"/>\n",
       "<defs>\n",
       "  <clipPath id=\"clip391\">\n",
       "    <rect x=\"480\" y=\"0\" width=\"1681\" height=\"1600\"/>\n",
       "  </clipPath>\n",
       "</defs>\n",
       "<path clip-path=\"url(#clip390)\" d=\"M369.025 1486.45 L2352.76 1486.45 L2352.76 123.472 L369.025 123.472  Z\" fill=\"#ffffff\" fill-rule=\"evenodd\" fill-opacity=\"1\"/>\n",
       "<defs>\n",
       "  <clipPath id=\"clip392\">\n",
       "    <rect x=\"369\" y=\"123\" width=\"1985\" height=\"1364\"/>\n",
       "  </clipPath>\n",
       "</defs>\n",
       "<polyline clip-path=\"url(#clip392)\" style=\"stroke:#000000; stroke-linecap:round; stroke-linejoin:round; stroke-width:2; stroke-opacity:0.1; fill:none\" points=\"581.122,1486.45 581.122,123.472 \"/>\n",
       "<polyline clip-path=\"url(#clip392)\" style=\"stroke:#000000; stroke-linecap:round; stroke-linejoin:round; stroke-width:2; stroke-opacity:0.1; fill:none\" points=\"971.006,1486.45 971.006,123.472 \"/>\n",
       "<polyline clip-path=\"url(#clip392)\" style=\"stroke:#000000; stroke-linecap:round; stroke-linejoin:round; stroke-width:2; stroke-opacity:0.1; fill:none\" points=\"1360.89,1486.45 1360.89,123.472 \"/>\n",
       "<polyline clip-path=\"url(#clip392)\" style=\"stroke:#000000; stroke-linecap:round; stroke-linejoin:round; stroke-width:2; stroke-opacity:0.1; fill:none\" points=\"1750.77,1486.45 1750.77,123.472 \"/>\n",
       "<polyline clip-path=\"url(#clip392)\" style=\"stroke:#000000; stroke-linecap:round; stroke-linejoin:round; stroke-width:2; stroke-opacity:0.1; fill:none\" points=\"2140.66,1486.45 2140.66,123.472 \"/>\n",
       "<polyline clip-path=\"url(#clip390)\" style=\"stroke:#000000; stroke-linecap:round; stroke-linejoin:round; stroke-width:4; stroke-opacity:1; fill:none\" points=\"369.025,1486.45 2352.76,1486.45 \"/>\n",
       "<polyline clip-path=\"url(#clip390)\" style=\"stroke:#000000; stroke-linecap:round; stroke-linejoin:round; stroke-width:4; stroke-opacity:1; fill:none\" points=\"581.122,1486.45 581.122,1467.55 \"/>\n",
       "<polyline clip-path=\"url(#clip390)\" style=\"stroke:#000000; stroke-linecap:round; stroke-linejoin:round; stroke-width:4; stroke-opacity:1; fill:none\" points=\"971.006,1486.45 971.006,1467.55 \"/>\n",
       "<polyline clip-path=\"url(#clip390)\" style=\"stroke:#000000; stroke-linecap:round; stroke-linejoin:round; stroke-width:4; stroke-opacity:1; fill:none\" points=\"1360.89,1486.45 1360.89,1467.55 \"/>\n",
       "<polyline clip-path=\"url(#clip390)\" style=\"stroke:#000000; stroke-linecap:round; stroke-linejoin:round; stroke-width:4; stroke-opacity:1; fill:none\" points=\"1750.77,1486.45 1750.77,1467.55 \"/>\n",
       "<polyline clip-path=\"url(#clip390)\" style=\"stroke:#000000; stroke-linecap:round; stroke-linejoin:round; stroke-width:4; stroke-opacity:1; fill:none\" points=\"2140.66,1486.45 2140.66,1467.55 \"/>\n",
       "<path clip-path=\"url(#clip390)\" d=\"M528.344 1517.37 Q524.733 1517.37 522.905 1520.93 Q521.099 1524.47 521.099 1531.6 Q521.099 1538.71 522.905 1542.27 Q524.733 1545.82 528.344 1545.82 Q531.979 1545.82 533.784 1542.27 Q535.613 1538.71 535.613 1531.6 Q535.613 1524.47 533.784 1520.93 Q531.979 1517.37 528.344 1517.37 M528.344 1513.66 Q534.154 1513.66 537.21 1518.27 Q540.289 1522.85 540.289 1531.6 Q540.289 1540.33 537.21 1544.94 Q534.154 1549.52 528.344 1549.52 Q522.534 1549.52 519.455 1544.94 Q516.4 1540.33 516.4 1531.6 Q516.4 1522.85 519.455 1518.27 Q522.534 1513.66 528.344 1513.66 Z\" fill=\"#000000\" fill-rule=\"nonzero\" fill-opacity=\"1\" /><path clip-path=\"url(#clip390)\" d=\"M548.506 1542.97 L553.39 1542.97 L553.39 1548.85 L548.506 1548.85 L548.506 1542.97 Z\" fill=\"#000000\" fill-rule=\"nonzero\" fill-opacity=\"1\" /><path clip-path=\"url(#clip390)\" d=\"M563.714 1548.13 L563.714 1543.87 Q565.474 1544.7 567.279 1545.14 Q569.085 1545.58 570.821 1545.58 Q575.451 1545.58 577.881 1542.48 Q580.335 1539.36 580.682 1533.01 Q579.339 1535.01 577.279 1536.07 Q575.219 1537.13 572.719 1537.13 Q567.534 1537.13 564.502 1534.01 Q561.492 1530.86 561.492 1525.42 Q561.492 1520.1 564.64 1516.88 Q567.789 1513.66 573.02 1513.66 Q579.015 1513.66 582.163 1518.27 Q585.335 1522.85 585.335 1531.6 Q585.335 1539.77 581.446 1544.66 Q577.58 1549.52 571.029 1549.52 Q569.27 1549.52 567.464 1549.17 Q565.659 1548.82 563.714 1548.13 M573.02 1533.48 Q576.168 1533.48 577.997 1531.32 Q579.849 1529.17 579.849 1525.42 Q579.849 1521.7 577.997 1519.54 Q576.168 1517.37 573.02 1517.37 Q569.872 1517.37 568.02 1519.54 Q566.191 1521.7 566.191 1525.42 Q566.191 1529.17 568.02 1531.32 Q569.872 1533.48 573.02 1533.48 Z\" fill=\"#000000\" fill-rule=\"nonzero\" fill-opacity=\"1\" /><path clip-path=\"url(#clip390)\" d=\"M593.876 1548.13 L593.876 1543.87 Q595.636 1544.7 597.441 1545.14 Q599.247 1545.58 600.983 1545.58 Q605.612 1545.58 608.043 1542.48 Q610.497 1539.36 610.844 1533.01 Q609.501 1535.01 607.441 1536.07 Q605.381 1537.13 602.881 1537.13 Q597.696 1537.13 594.663 1534.01 Q591.654 1530.86 591.654 1525.42 Q591.654 1520.1 594.802 1516.88 Q597.95 1513.66 603.182 1513.66 Q609.177 1513.66 612.325 1518.27 Q615.497 1522.85 615.497 1531.6 Q615.497 1539.77 611.608 1544.66 Q607.742 1549.52 601.191 1549.52 Q599.432 1549.52 597.626 1549.17 Q595.821 1548.82 593.876 1548.13 M603.182 1533.48 Q606.33 1533.48 608.159 1531.32 Q610.011 1529.17 610.011 1525.42 Q610.011 1521.7 608.159 1519.54 Q606.33 1517.37 603.182 1517.37 Q600.034 1517.37 598.182 1519.54 Q596.353 1521.7 596.353 1525.42 Q596.353 1529.17 598.182 1531.32 Q600.034 1533.48 603.182 1533.48 Z\" fill=\"#000000\" fill-rule=\"nonzero\" fill-opacity=\"1\" /><path clip-path=\"url(#clip390)\" d=\"M633.899 1517.37 Q630.288 1517.37 628.46 1520.93 Q626.654 1524.47 626.654 1531.6 Q626.654 1538.71 628.46 1542.27 Q630.288 1545.82 633.899 1545.82 Q637.534 1545.82 639.339 1542.27 Q641.168 1538.71 641.168 1531.6 Q641.168 1524.47 639.339 1520.93 Q637.534 1517.37 633.899 1517.37 M633.899 1513.66 Q639.709 1513.66 642.765 1518.27 Q645.844 1522.85 645.844 1531.6 Q645.844 1540.33 642.765 1544.94 Q639.709 1549.52 633.899 1549.52 Q628.089 1549.52 625.01 1544.94 Q621.955 1540.33 621.955 1531.6 Q621.955 1522.85 625.01 1518.27 Q628.089 1513.66 633.899 1513.66 Z\" fill=\"#000000\" fill-rule=\"nonzero\" fill-opacity=\"1\" /><path clip-path=\"url(#clip390)\" d=\"M918.726 1517.37 Q915.115 1517.37 913.286 1520.93 Q911.481 1524.47 911.481 1531.6 Q911.481 1538.71 913.286 1542.27 Q915.115 1545.82 918.726 1545.82 Q922.36 1545.82 924.166 1542.27 Q925.995 1538.71 925.995 1531.6 Q925.995 1524.47 924.166 1520.93 Q922.36 1517.37 918.726 1517.37 M918.726 1513.66 Q924.536 1513.66 927.592 1518.27 Q930.671 1522.85 930.671 1531.6 Q930.671 1540.33 927.592 1544.94 Q924.536 1549.52 918.726 1549.52 Q912.916 1549.52 909.837 1544.94 Q906.782 1540.33 906.782 1531.6 Q906.782 1522.85 909.837 1518.27 Q912.916 1513.66 918.726 1513.66 Z\" fill=\"#000000\" fill-rule=\"nonzero\" fill-opacity=\"1\" /><path clip-path=\"url(#clip390)\" d=\"M938.888 1542.97 L943.772 1542.97 L943.772 1548.85 L938.888 1548.85 L938.888 1542.97 Z\" fill=\"#000000\" fill-rule=\"nonzero\" fill-opacity=\"1\" /><path clip-path=\"url(#clip390)\" d=\"M954.096 1548.13 L954.096 1543.87 Q955.856 1544.7 957.661 1545.14 Q959.467 1545.58 961.203 1545.58 Q965.832 1545.58 968.263 1542.48 Q970.717 1539.36 971.064 1533.01 Q969.721 1535.01 967.661 1536.07 Q965.601 1537.13 963.101 1537.13 Q957.916 1537.13 954.883 1534.01 Q951.874 1530.86 951.874 1525.42 Q951.874 1520.1 955.022 1516.88 Q958.17 1513.66 963.402 1513.66 Q969.397 1513.66 972.545 1518.27 Q975.717 1522.85 975.717 1531.6 Q975.717 1539.77 971.828 1544.66 Q967.962 1549.52 961.411 1549.52 Q959.652 1549.52 957.846 1549.17 Q956.041 1548.82 954.096 1548.13 M963.402 1533.48 Q966.55 1533.48 968.379 1531.32 Q970.231 1529.17 970.231 1525.42 Q970.231 1521.7 968.379 1519.54 Q966.55 1517.37 963.402 1517.37 Q960.254 1517.37 958.402 1519.54 Q956.573 1521.7 956.573 1525.42 Q956.573 1529.17 958.402 1531.32 Q960.254 1533.48 963.402 1533.48 Z\" fill=\"#000000\" fill-rule=\"nonzero\" fill-opacity=\"1\" /><path clip-path=\"url(#clip390)\" d=\"M984.258 1548.13 L984.258 1543.87 Q986.018 1544.7 987.823 1545.14 Q989.629 1545.58 991.365 1545.58 Q995.994 1545.58 998.425 1542.48 Q1000.88 1539.36 1001.23 1533.01 Q999.883 1535.01 997.823 1536.07 Q995.763 1537.13 993.263 1537.13 Q988.078 1537.13 985.045 1534.01 Q982.036 1530.86 982.036 1525.42 Q982.036 1520.1 985.184 1516.88 Q988.332 1513.66 993.564 1513.66 Q999.559 1513.66 1002.71 1518.27 Q1005.88 1522.85 1005.88 1531.6 Q1005.88 1539.77 1001.99 1544.66 Q998.124 1549.52 991.573 1549.52 Q989.814 1549.52 988.008 1549.17 Q986.203 1548.82 984.258 1548.13 M993.564 1533.48 Q996.712 1533.48 998.541 1531.32 Q1000.39 1529.17 1000.39 1525.42 Q1000.39 1521.7 998.541 1519.54 Q996.712 1517.37 993.564 1517.37 Q990.416 1517.37 988.564 1519.54 Q986.735 1521.7 986.735 1525.42 Q986.735 1529.17 988.564 1531.32 Q990.416 1533.48 993.564 1533.48 Z\" fill=\"#000000\" fill-rule=\"nonzero\" fill-opacity=\"1\" /><path clip-path=\"url(#clip390)\" d=\"M1014.33 1514.29 L1032.68 1514.29 L1032.68 1518.22 L1018.61 1518.22 L1018.61 1526.7 Q1019.63 1526.35 1020.65 1526.19 Q1021.67 1526 1022.68 1526 Q1028.47 1526 1031.85 1529.17 Q1035.23 1532.34 1035.23 1537.76 Q1035.23 1543.34 1031.76 1546.44 Q1028.29 1549.52 1021.97 1549.52 Q1019.79 1549.52 1017.52 1549.15 Q1015.28 1548.78 1012.87 1548.04 L1012.87 1543.34 Q1014.95 1544.47 1017.17 1545.03 Q1019.4 1545.58 1021.87 1545.58 Q1025.88 1545.58 1028.22 1543.48 Q1030.55 1541.37 1030.55 1537.76 Q1030.55 1534.15 1028.22 1532.04 Q1025.88 1529.94 1021.87 1529.94 Q1020 1529.94 1018.12 1530.35 Q1016.27 1530.77 1014.33 1531.65 L1014.33 1514.29 Z\" fill=\"#000000\" fill-rule=\"nonzero\" fill-opacity=\"1\" /><path clip-path=\"url(#clip390)\" d=\"M1297.88 1544.91 L1305.52 1544.91 L1305.52 1518.55 L1297.21 1520.21 L1297.21 1515.95 L1305.47 1514.29 L1310.15 1514.29 L1310.15 1544.91 L1317.79 1544.91 L1317.79 1548.85 L1297.88 1548.85 L1297.88 1544.91 Z\" fill=\"#000000\" fill-rule=\"nonzero\" fill-opacity=\"1\" /><path clip-path=\"url(#clip390)\" d=\"M1327.23 1542.97 L1332.12 1542.97 L1332.12 1548.85 L1327.23 1548.85 L1327.23 1542.97 Z\" fill=\"#000000\" fill-rule=\"nonzero\" fill-opacity=\"1\" /><path clip-path=\"url(#clip390)\" d=\"M1352.3 1517.37 Q1348.69 1517.37 1346.86 1520.93 Q1345.06 1524.47 1345.06 1531.6 Q1345.06 1538.71 1346.86 1542.27 Q1348.69 1545.82 1352.3 1545.82 Q1355.94 1545.82 1357.74 1542.27 Q1359.57 1538.71 1359.57 1531.6 Q1359.57 1524.47 1357.74 1520.93 Q1355.94 1517.37 1352.3 1517.37 M1352.3 1513.66 Q1358.11 1513.66 1361.17 1518.27 Q1364.25 1522.85 1364.25 1531.6 Q1364.25 1540.33 1361.17 1544.94 Q1358.11 1549.52 1352.3 1549.52 Q1346.49 1549.52 1343.41 1544.94 Q1340.36 1540.33 1340.36 1531.6 Q1340.36 1522.85 1343.41 1518.27 Q1346.49 1513.66 1352.3 1513.66 Z\" fill=\"#000000\" fill-rule=\"nonzero\" fill-opacity=\"1\" /><path clip-path=\"url(#clip390)\" d=\"M1382.46 1517.37 Q1378.85 1517.37 1377.02 1520.93 Q1375.22 1524.47 1375.22 1531.6 Q1375.22 1538.71 1377.02 1542.27 Q1378.85 1545.82 1382.46 1545.82 Q1386.1 1545.82 1387.9 1542.27 Q1389.73 1538.71 1389.73 1531.6 Q1389.73 1524.47 1387.9 1520.93 Q1386.1 1517.37 1382.46 1517.37 M1382.46 1513.66 Q1388.27 1513.66 1391.33 1518.27 Q1394.41 1522.85 1394.41 1531.6 Q1394.41 1540.33 1391.33 1544.94 Q1388.27 1549.52 1382.46 1549.52 Q1376.65 1549.52 1373.58 1544.94 Q1370.52 1540.33 1370.52 1531.6 Q1370.52 1522.85 1373.58 1518.27 Q1376.65 1513.66 1382.46 1513.66 Z\" fill=\"#000000\" fill-rule=\"nonzero\" fill-opacity=\"1\" /><path clip-path=\"url(#clip390)\" d=\"M1412.63 1517.37 Q1409.02 1517.37 1407.19 1520.93 Q1405.38 1524.47 1405.38 1531.6 Q1405.38 1538.71 1407.19 1542.27 Q1409.02 1545.82 1412.63 1545.82 Q1416.26 1545.82 1418.07 1542.27 Q1419.89 1538.71 1419.89 1531.6 Q1419.89 1524.47 1418.07 1520.93 Q1416.26 1517.37 1412.63 1517.37 M1412.63 1513.66 Q1418.44 1513.66 1421.49 1518.27 Q1424.57 1522.85 1424.57 1531.6 Q1424.57 1540.33 1421.49 1544.94 Q1418.44 1549.52 1412.63 1549.52 Q1406.82 1549.52 1403.74 1544.94 Q1400.68 1540.33 1400.68 1531.6 Q1400.68 1522.85 1403.74 1518.27 Q1406.82 1513.66 1412.63 1513.66 Z\" fill=\"#000000\" fill-rule=\"nonzero\" fill-opacity=\"1\" /><path clip-path=\"url(#clip390)\" d=\"M1688.26 1544.91 L1695.9 1544.91 L1695.9 1518.55 L1687.59 1520.21 L1687.59 1515.95 L1695.86 1514.29 L1700.53 1514.29 L1700.53 1544.91 L1708.17 1544.91 L1708.17 1548.85 L1688.26 1548.85 L1688.26 1544.91 Z\" fill=\"#000000\" fill-rule=\"nonzero\" fill-opacity=\"1\" /><path clip-path=\"url(#clip390)\" d=\"M1717.62 1542.97 L1722.5 1542.97 L1722.5 1548.85 L1717.62 1548.85 L1717.62 1542.97 Z\" fill=\"#000000\" fill-rule=\"nonzero\" fill-opacity=\"1\" /><path clip-path=\"url(#clip390)\" d=\"M1742.68 1517.37 Q1739.07 1517.37 1737.24 1520.93 Q1735.44 1524.47 1735.44 1531.6 Q1735.44 1538.71 1737.24 1542.27 Q1739.07 1545.82 1742.68 1545.82 Q1746.32 1545.82 1748.12 1542.27 Q1749.95 1538.71 1749.95 1531.6 Q1749.95 1524.47 1748.12 1520.93 Q1746.32 1517.37 1742.68 1517.37 M1742.68 1513.66 Q1748.49 1513.66 1751.55 1518.27 Q1754.63 1522.85 1754.63 1531.6 Q1754.63 1540.33 1751.55 1544.94 Q1748.49 1549.52 1742.68 1549.52 Q1736.87 1549.52 1733.8 1544.94 Q1730.74 1540.33 1730.74 1531.6 Q1730.74 1522.85 1733.8 1518.27 Q1736.87 1513.66 1742.68 1513.66 Z\" fill=\"#000000\" fill-rule=\"nonzero\" fill-opacity=\"1\" /><path clip-path=\"url(#clip390)\" d=\"M1772.85 1517.37 Q1769.24 1517.37 1767.41 1520.93 Q1765.6 1524.47 1765.6 1531.6 Q1765.6 1538.71 1767.41 1542.27 Q1769.24 1545.82 1772.85 1545.82 Q1776.48 1545.82 1778.29 1542.27 Q1780.11 1538.71 1780.11 1531.6 Q1780.11 1524.47 1778.29 1520.93 Q1776.48 1517.37 1772.85 1517.37 M1772.85 1513.66 Q1778.66 1513.66 1781.71 1518.27 Q1784.79 1522.85 1784.79 1531.6 Q1784.79 1540.33 1781.71 1544.94 Q1778.66 1549.52 1772.85 1549.52 Q1767.04 1549.52 1763.96 1544.94 Q1760.9 1540.33 1760.9 1531.6 Q1760.9 1522.85 1763.96 1518.27 Q1767.04 1513.66 1772.85 1513.66 Z\" fill=\"#000000\" fill-rule=\"nonzero\" fill-opacity=\"1\" /><path clip-path=\"url(#clip390)\" d=\"M1793.05 1514.29 L1811.41 1514.29 L1811.41 1518.22 L1797.34 1518.22 L1797.34 1526.7 Q1798.36 1526.35 1799.37 1526.19 Q1800.39 1526 1801.41 1526 Q1807.2 1526 1810.58 1529.17 Q1813.96 1532.34 1813.96 1537.76 Q1813.96 1543.34 1810.48 1546.44 Q1807.01 1549.52 1800.69 1549.52 Q1798.52 1549.52 1796.25 1549.15 Q1794 1548.78 1791.6 1548.04 L1791.6 1543.34 Q1793.68 1544.47 1795.9 1545.03 Q1798.12 1545.58 1800.6 1545.58 Q1804.61 1545.58 1806.94 1543.48 Q1809.28 1541.37 1809.28 1537.76 Q1809.28 1534.15 1806.94 1532.04 Q1804.61 1529.94 1800.6 1529.94 Q1798.73 1529.94 1796.85 1530.35 Q1795 1530.77 1793.05 1531.65 L1793.05 1514.29 Z\" fill=\"#000000\" fill-rule=\"nonzero\" fill-opacity=\"1\" /><path clip-path=\"url(#clip390)\" d=\"M2077.65 1544.91 L2085.29 1544.91 L2085.29 1518.55 L2076.98 1520.21 L2076.98 1515.95 L2085.24 1514.29 L2089.92 1514.29 L2089.92 1544.91 L2097.56 1544.91 L2097.56 1548.85 L2077.65 1548.85 L2077.65 1544.91 Z\" fill=\"#000000\" fill-rule=\"nonzero\" fill-opacity=\"1\" /><path clip-path=\"url(#clip390)\" d=\"M2107 1542.97 L2111.89 1542.97 L2111.89 1548.85 L2107 1548.85 L2107 1542.97 Z\" fill=\"#000000\" fill-rule=\"nonzero\" fill-opacity=\"1\" /><path clip-path=\"url(#clip390)\" d=\"M2132.07 1517.37 Q2128.46 1517.37 2126.63 1520.93 Q2124.83 1524.47 2124.83 1531.6 Q2124.83 1538.71 2126.63 1542.27 Q2128.46 1545.82 2132.07 1545.82 Q2135.71 1545.82 2137.51 1542.27 Q2139.34 1538.71 2139.34 1531.6 Q2139.34 1524.47 2137.51 1520.93 Q2135.71 1517.37 2132.07 1517.37 M2132.07 1513.66 Q2137.88 1513.66 2140.94 1518.27 Q2144.02 1522.85 2144.02 1531.6 Q2144.02 1540.33 2140.94 1544.94 Q2137.88 1549.52 2132.07 1549.52 Q2126.26 1549.52 2123.18 1544.94 Q2120.13 1540.33 2120.13 1531.6 Q2120.13 1522.85 2123.18 1518.27 Q2126.26 1513.66 2132.07 1513.66 Z\" fill=\"#000000\" fill-rule=\"nonzero\" fill-opacity=\"1\" /><path clip-path=\"url(#clip390)\" d=\"M2153.04 1544.91 L2160.68 1544.91 L2160.68 1518.55 L2152.37 1520.21 L2152.37 1515.95 L2160.64 1514.29 L2165.31 1514.29 L2165.31 1544.91 L2172.95 1544.91 L2172.95 1548.85 L2153.04 1548.85 L2153.04 1544.91 Z\" fill=\"#000000\" fill-rule=\"nonzero\" fill-opacity=\"1\" /><path clip-path=\"url(#clip390)\" d=\"M2192.39 1517.37 Q2188.78 1517.37 2186.95 1520.93 Q2185.15 1524.47 2185.15 1531.6 Q2185.15 1538.71 2186.95 1542.27 Q2188.78 1545.82 2192.39 1545.82 Q2196.03 1545.82 2197.83 1542.27 Q2199.66 1538.71 2199.66 1531.6 Q2199.66 1524.47 2197.83 1520.93 Q2196.03 1517.37 2192.39 1517.37 M2192.39 1513.66 Q2198.2 1513.66 2201.26 1518.27 Q2204.34 1522.85 2204.34 1531.6 Q2204.34 1540.33 2201.26 1544.94 Q2198.2 1549.52 2192.39 1549.52 Q2186.58 1549.52 2183.51 1544.94 Q2180.45 1540.33 2180.45 1531.6 Q2180.45 1522.85 2183.51 1518.27 Q2186.58 1513.66 2192.39 1513.66 Z\" fill=\"#000000\" fill-rule=\"nonzero\" fill-opacity=\"1\" /><polyline clip-path=\"url(#clip392)\" style=\"stroke:#000000; stroke-linecap:round; stroke-linejoin:round; stroke-width:2; stroke-opacity:0.1; fill:none\" points=\"369.025,1343.24 2352.76,1343.24 \"/>\n",
       "<polyline clip-path=\"url(#clip392)\" style=\"stroke:#000000; stroke-linecap:round; stroke-linejoin:round; stroke-width:2; stroke-opacity:0.1; fill:none\" points=\"369.025,1163.81 2352.76,1163.81 \"/>\n",
       "<polyline clip-path=\"url(#clip392)\" style=\"stroke:#000000; stroke-linecap:round; stroke-linejoin:round; stroke-width:2; stroke-opacity:0.1; fill:none\" points=\"369.025,984.385 2352.76,984.385 \"/>\n",
       "<polyline clip-path=\"url(#clip392)\" style=\"stroke:#000000; stroke-linecap:round; stroke-linejoin:round; stroke-width:2; stroke-opacity:0.1; fill:none\" points=\"369.025,804.96 2352.76,804.96 \"/>\n",
       "<polyline clip-path=\"url(#clip392)\" style=\"stroke:#000000; stroke-linecap:round; stroke-linejoin:round; stroke-width:2; stroke-opacity:0.1; fill:none\" points=\"369.025,625.535 2352.76,625.535 \"/>\n",
       "<polyline clip-path=\"url(#clip392)\" style=\"stroke:#000000; stroke-linecap:round; stroke-linejoin:round; stroke-width:2; stroke-opacity:0.1; fill:none\" points=\"369.025,446.11 2352.76,446.11 \"/>\n",
       "<polyline clip-path=\"url(#clip392)\" style=\"stroke:#000000; stroke-linecap:round; stroke-linejoin:round; stroke-width:2; stroke-opacity:0.1; fill:none\" points=\"369.025,266.684 2352.76,266.684 \"/>\n",
       "<polyline clip-path=\"url(#clip390)\" style=\"stroke:#000000; stroke-linecap:round; stroke-linejoin:round; stroke-width:4; stroke-opacity:1; fill:none\" points=\"369.025,1486.45 369.025,123.472 \"/>\n",
       "<polyline clip-path=\"url(#clip390)\" style=\"stroke:#000000; stroke-linecap:round; stroke-linejoin:round; stroke-width:4; stroke-opacity:1; fill:none\" points=\"369.025,1343.24 387.922,1343.24 \"/>\n",
       "<polyline clip-path=\"url(#clip390)\" style=\"stroke:#000000; stroke-linecap:round; stroke-linejoin:round; stroke-width:4; stroke-opacity:1; fill:none\" points=\"369.025,1163.81 387.922,1163.81 \"/>\n",
       "<polyline clip-path=\"url(#clip390)\" style=\"stroke:#000000; stroke-linecap:round; stroke-linejoin:round; stroke-width:4; stroke-opacity:1; fill:none\" points=\"369.025,984.385 387.922,984.385 \"/>\n",
       "<polyline clip-path=\"url(#clip390)\" style=\"stroke:#000000; stroke-linecap:round; stroke-linejoin:round; stroke-width:4; stroke-opacity:1; fill:none\" points=\"369.025,804.96 387.922,804.96 \"/>\n",
       "<polyline clip-path=\"url(#clip390)\" style=\"stroke:#000000; stroke-linecap:round; stroke-linejoin:round; stroke-width:4; stroke-opacity:1; fill:none\" points=\"369.025,625.535 387.922,625.535 \"/>\n",
       "<polyline clip-path=\"url(#clip390)\" style=\"stroke:#000000; stroke-linecap:round; stroke-linejoin:round; stroke-width:4; stroke-opacity:1; fill:none\" points=\"369.025,446.11 387.922,446.11 \"/>\n",
       "<polyline clip-path=\"url(#clip390)\" style=\"stroke:#000000; stroke-linecap:round; stroke-linejoin:round; stroke-width:4; stroke-opacity:1; fill:none\" points=\"369.025,266.684 387.922,266.684 \"/>\n",
       "<path clip-path=\"url(#clip390)\" d=\"M50.9921 1350.13 L80.6679 1350.13 L80.6679 1354.07 L50.9921 1354.07 L50.9921 1350.13 Z\" fill=\"#000000\" fill-rule=\"nonzero\" fill-opacity=\"1\" /><path clip-path=\"url(#clip390)\" d=\"M104.927 1348.33 Q108.283 1349.05 110.158 1351.32 Q112.057 1353.58 112.057 1356.92 Q112.057 1362.03 108.538 1364.83 Q105.02 1367.63 98.5382 1367.63 Q96.3623 1367.63 94.0475 1367.19 Q91.7558 1366.78 89.3021 1365.92 L89.3021 1361.41 Q91.2465 1362.54 93.5613 1363.12 Q95.8761 1363.7 98.3993 1363.7 Q102.797 1363.7 105.089 1361.96 Q107.404 1360.23 107.404 1356.92 Q107.404 1353.86 105.251 1352.15 Q103.121 1350.41 99.3021 1350.41 L95.2743 1350.41 L95.2743 1346.57 L99.4872 1346.57 Q102.936 1346.57 104.765 1345.2 Q106.594 1343.82 106.594 1341.22 Q106.594 1338.56 104.696 1337.15 Q102.821 1335.71 99.3021 1335.71 Q97.3808 1335.71 95.1817 1336.13 Q92.9826 1336.55 90.3438 1337.43 L90.3438 1333.26 Q93.0058 1332.52 95.3206 1332.15 Q97.6585 1331.78 99.7187 1331.78 Q105.043 1331.78 108.145 1334.21 Q111.246 1336.62 111.246 1340.74 Q111.246 1343.61 109.603 1345.6 Q107.959 1347.57 104.927 1348.33 Z\" fill=\"#000000\" fill-rule=\"nonzero\" fill-opacity=\"1\" /><path clip-path=\"url(#clip390)\" d=\"M120.922 1361.08 L125.807 1361.08 L125.807 1366.96 L120.922 1366.96 L120.922 1361.08 Z\" fill=\"#000000\" fill-rule=\"nonzero\" fill-opacity=\"1\" /><path clip-path=\"url(#clip390)\" d=\"M145.992 1335.48 Q142.381 1335.48 140.552 1339.05 Q138.746 1342.59 138.746 1349.72 Q138.746 1356.82 140.552 1360.39 Q142.381 1363.93 145.992 1363.93 Q149.626 1363.93 151.431 1360.39 Q153.26 1356.82 153.26 1349.72 Q153.26 1342.59 151.431 1339.05 Q149.626 1335.48 145.992 1335.48 M145.992 1331.78 Q151.802 1331.78 154.857 1336.38 Q157.936 1340.97 157.936 1349.72 Q157.936 1358.44 154.857 1363.05 Q151.802 1367.63 145.992 1367.63 Q140.181 1367.63 137.103 1363.05 Q134.047 1358.44 134.047 1349.72 Q134.047 1340.97 137.103 1336.38 Q140.181 1331.78 145.992 1331.78 Z\" fill=\"#000000\" fill-rule=\"nonzero\" fill-opacity=\"1\" /><path clip-path=\"url(#clip390)\" d=\"M194.325 1341.5 L183.746 1352.13 L194.325 1362.7 L191.57 1365.51 L180.945 1354.88 L170.32 1365.51 L167.589 1362.7 L178.144 1352.13 L167.589 1341.5 L170.32 1338.7 L180.945 1349.32 L191.57 1338.7 L194.325 1341.5 Z\" fill=\"#000000\" fill-rule=\"nonzero\" fill-opacity=\"1\" /><path clip-path=\"url(#clip390)\" d=\"M206.686 1363.03 L214.325 1363.03 L214.325 1336.66 L206.014 1338.33 L206.014 1334.07 L214.278 1332.4 L218.954 1332.4 L218.954 1363.03 L226.593 1363.03 L226.593 1366.96 L206.686 1366.96 L206.686 1363.03 Z\" fill=\"#000000\" fill-rule=\"nonzero\" fill-opacity=\"1\" /><path clip-path=\"url(#clip390)\" d=\"M246.037 1335.48 Q242.426 1335.48 240.598 1339.05 Q238.792 1342.59 238.792 1349.72 Q238.792 1356.82 240.598 1360.39 Q242.426 1363.93 246.037 1363.93 Q249.672 1363.93 251.477 1360.39 Q253.306 1356.82 253.306 1349.72 Q253.306 1342.59 251.477 1339.05 Q249.672 1335.48 246.037 1335.48 M246.037 1331.78 Q251.848 1331.78 254.903 1336.38 Q257.982 1340.97 257.982 1349.72 Q257.982 1358.44 254.903 1363.05 Q251.848 1367.63 246.037 1367.63 Q240.227 1367.63 237.149 1363.05 Q234.093 1358.44 234.093 1349.72 Q234.093 1340.97 237.149 1336.38 Q240.227 1331.78 246.037 1331.78 Z\" fill=\"#000000\" fill-rule=\"nonzero\" fill-opacity=\"1\" /><path clip-path=\"url(#clip390)\" d=\"M257.982 1325.88 L282.093 1325.88 L282.093 1329.08 L257.982 1329.08 L257.982 1325.88 Z\" fill=\"#000000\" fill-rule=\"nonzero\" fill-opacity=\"1\" /><path clip-path=\"url(#clip390)\" d=\"M290.952 1336.36 L297.158 1336.36 L297.158 1314.93 L290.406 1316.29 L290.406 1312.83 L297.121 1311.47 L300.92 1311.47 L300.92 1336.36 L307.126 1336.36 L307.126 1339.55 L290.952 1339.55 L290.952 1336.36 Z\" fill=\"#000000\" fill-rule=\"nonzero\" fill-opacity=\"1\" /><path clip-path=\"url(#clip390)\" d=\"M325.238 1314.78 L315.646 1329.77 L325.238 1329.77 L325.238 1314.78 M324.242 1311.47 L329.019 1311.47 L329.019 1329.77 L333.025 1329.77 L333.025 1332.93 L329.019 1332.93 L329.019 1339.55 L325.238 1339.55 L325.238 1332.93 L312.562 1332.93 L312.562 1329.27 L324.242 1311.47 Z\" fill=\"#000000\" fill-rule=\"nonzero\" fill-opacity=\"1\" /><path clip-path=\"url(#clip390)\" d=\"M50.9921 1170.71 L80.6679 1170.71 L80.6679 1174.64 L50.9921 1174.64 L50.9921 1170.71 Z\" fill=\"#000000\" fill-rule=\"nonzero\" fill-opacity=\"1\" /><path clip-path=\"url(#clip390)\" d=\"M94.7882 1183.6 L111.108 1183.6 L111.108 1187.54 L89.1632 1187.54 L89.1632 1183.6 Q91.8252 1180.85 96.4085 1176.22 Q101.015 1171.57 102.196 1170.22 Q104.441 1167.7 105.321 1165.96 Q106.223 1164.2 106.223 1162.52 Q106.223 1159.76 104.279 1158.02 Q102.358 1156.29 99.2558 1156.29 Q97.0567 1156.29 94.603 1157.05 Q92.1725 1157.82 89.3947 1159.37 L89.3947 1154.64 Q92.2188 1153.51 94.6724 1152.93 Q97.1261 1152.35 99.1632 1152.35 Q104.534 1152.35 107.728 1155.04 Q110.922 1157.72 110.922 1162.21 Q110.922 1164.34 110.112 1166.27 Q109.325 1168.16 107.219 1170.76 Q106.64 1171.43 103.538 1174.64 Q100.436 1177.84 94.7882 1183.6 Z\" fill=\"#000000\" fill-rule=\"nonzero\" fill-opacity=\"1\" /><path clip-path=\"url(#clip390)\" d=\"M120.922 1181.66 L125.807 1181.66 L125.807 1187.54 L120.922 1187.54 L120.922 1181.66 Z\" fill=\"#000000\" fill-rule=\"nonzero\" fill-opacity=\"1\" /><path clip-path=\"url(#clip390)\" d=\"M145.992 1156.06 Q142.381 1156.06 140.552 1159.62 Q138.746 1163.16 138.746 1170.29 Q138.746 1177.4 140.552 1180.96 Q142.381 1184.51 145.992 1184.51 Q149.626 1184.51 151.431 1180.96 Q153.26 1177.4 153.26 1170.29 Q153.26 1163.16 151.431 1159.62 Q149.626 1156.06 145.992 1156.06 M145.992 1152.35 Q151.802 1152.35 154.857 1156.96 Q157.936 1161.54 157.936 1170.29 Q157.936 1179.02 154.857 1183.63 Q151.802 1188.21 145.992 1188.21 Q140.181 1188.21 137.103 1183.63 Q134.047 1179.02 134.047 1170.29 Q134.047 1161.54 137.103 1156.96 Q140.181 1152.35 145.992 1152.35 Z\" fill=\"#000000\" fill-rule=\"nonzero\" fill-opacity=\"1\" /><path clip-path=\"url(#clip390)\" d=\"M194.325 1162.08 L183.746 1172.7 L194.325 1183.28 L191.57 1186.08 L180.945 1175.45 L170.32 1186.08 L167.589 1183.28 L178.144 1172.7 L167.589 1162.08 L170.32 1159.27 L180.945 1169.9 L191.57 1159.27 L194.325 1162.08 Z\" fill=\"#000000\" fill-rule=\"nonzero\" fill-opacity=\"1\" /><path clip-path=\"url(#clip390)\" d=\"M206.686 1183.6 L214.325 1183.6 L214.325 1157.24 L206.014 1158.9 L206.014 1154.64 L214.278 1152.98 L218.954 1152.98 L218.954 1183.6 L226.593 1183.6 L226.593 1187.54 L206.686 1187.54 L206.686 1183.6 Z\" fill=\"#000000\" fill-rule=\"nonzero\" fill-opacity=\"1\" /><path clip-path=\"url(#clip390)\" d=\"M246.037 1156.06 Q242.426 1156.06 240.598 1159.62 Q238.792 1163.16 238.792 1170.29 Q238.792 1177.4 240.598 1180.96 Q242.426 1184.51 246.037 1184.51 Q249.672 1184.51 251.477 1180.96 Q253.306 1177.4 253.306 1170.29 Q253.306 1163.16 251.477 1159.62 Q249.672 1156.06 246.037 1156.06 M246.037 1152.35 Q251.848 1152.35 254.903 1156.96 Q257.982 1161.54 257.982 1170.29 Q257.982 1179.02 254.903 1183.63 Q251.848 1188.21 246.037 1188.21 Q240.227 1188.21 237.149 1183.63 Q234.093 1179.02 234.093 1170.29 Q234.093 1161.54 237.149 1156.96 Q240.227 1152.35 246.037 1152.35 Z\" fill=\"#000000\" fill-rule=\"nonzero\" fill-opacity=\"1\" /><path clip-path=\"url(#clip390)\" d=\"M257.982 1146.45 L282.093 1146.45 L282.093 1149.65 L257.982 1149.65 L257.982 1146.45 Z\" fill=\"#000000\" fill-rule=\"nonzero\" fill-opacity=\"1\" /><path clip-path=\"url(#clip390)\" d=\"M290.952 1156.93 L297.158 1156.93 L297.158 1135.51 L290.406 1136.86 L290.406 1133.4 L297.121 1132.05 L300.92 1132.05 L300.92 1156.93 L307.126 1156.93 L307.126 1160.13 L290.952 1160.13 L290.952 1156.93 Z\" fill=\"#000000\" fill-rule=\"nonzero\" fill-opacity=\"1\" /><path clip-path=\"url(#clip390)\" d=\"M325.238 1135.36 L315.646 1150.35 L325.238 1150.35 L325.238 1135.36 M324.242 1132.05 L329.019 1132.05 L329.019 1150.35 L333.025 1150.35 L333.025 1153.51 L329.019 1153.51 L329.019 1160.13 L325.238 1160.13 L325.238 1153.51 L312.562 1153.51 L312.562 1149.84 L324.242 1132.05 Z\" fill=\"#000000\" fill-rule=\"nonzero\" fill-opacity=\"1\" /><path clip-path=\"url(#clip390)\" d=\"M50.9921 991.284 L80.6679 991.284 L80.6679 995.219 L50.9921 995.219 L50.9921 991.284 Z\" fill=\"#000000\" fill-rule=\"nonzero\" fill-opacity=\"1\" /><path clip-path=\"url(#clip390)\" d=\"M91.5706 1004.18 L99.2095 1004.18 L99.2095 977.812 L90.8993 979.479 L90.8993 975.22 L99.1632 973.553 L103.839 973.553 L103.839 1004.18 L111.478 1004.18 L111.478 1008.11 L91.5706 1008.11 L91.5706 1004.18 Z\" fill=\"#000000\" fill-rule=\"nonzero\" fill-opacity=\"1\" /><path clip-path=\"url(#clip390)\" d=\"M120.922 1002.23 L125.807 1002.23 L125.807 1008.11 L120.922 1008.11 L120.922 1002.23 Z\" fill=\"#000000\" fill-rule=\"nonzero\" fill-opacity=\"1\" /><path clip-path=\"url(#clip390)\" d=\"M145.992 976.632 Q142.381 976.632 140.552 980.196 Q138.746 983.738 138.746 990.868 Q138.746 997.974 140.552 1001.54 Q142.381 1005.08 145.992 1005.08 Q149.626 1005.08 151.431 1001.54 Q153.26 997.974 153.26 990.868 Q153.26 983.738 151.431 980.196 Q149.626 976.632 145.992 976.632 M145.992 972.928 Q151.802 972.928 154.857 977.534 Q157.936 982.118 157.936 990.868 Q157.936 999.594 154.857 1004.2 Q151.802 1008.78 145.992 1008.78 Q140.181 1008.78 137.103 1004.2 Q134.047 999.594 134.047 990.868 Q134.047 982.118 137.103 977.534 Q140.181 972.928 145.992 972.928 Z\" fill=\"#000000\" fill-rule=\"nonzero\" fill-opacity=\"1\" /><path clip-path=\"url(#clip390)\" d=\"M194.325 982.65 L183.746 993.275 L194.325 1003.85 L191.57 1006.65 L180.945 996.03 L170.32 1006.65 L167.589 1003.85 L178.144 993.275 L167.589 982.65 L170.32 979.849 L180.945 990.474 L191.57 979.849 L194.325 982.65 Z\" fill=\"#000000\" fill-rule=\"nonzero\" fill-opacity=\"1\" /><path clip-path=\"url(#clip390)\" d=\"M206.686 1004.18 L214.325 1004.18 L214.325 977.812 L206.014 979.479 L206.014 975.22 L214.278 973.553 L218.954 973.553 L218.954 1004.18 L226.593 1004.18 L226.593 1008.11 L206.686 1008.11 L206.686 1004.18 Z\" fill=\"#000000\" fill-rule=\"nonzero\" fill-opacity=\"1\" /><path clip-path=\"url(#clip390)\" d=\"M246.037 976.632 Q242.426 976.632 240.598 980.196 Q238.792 983.738 238.792 990.868 Q238.792 997.974 240.598 1001.54 Q242.426 1005.08 246.037 1005.08 Q249.672 1005.08 251.477 1001.54 Q253.306 997.974 253.306 990.868 Q253.306 983.738 251.477 980.196 Q249.672 976.632 246.037 976.632 M246.037 972.928 Q251.848 972.928 254.903 977.534 Q257.982 982.118 257.982 990.868 Q257.982 999.594 254.903 1004.2 Q251.848 1008.78 246.037 1008.78 Q240.227 1008.78 237.149 1004.2 Q234.093 999.594 234.093 990.868 Q234.093 982.118 237.149 977.534 Q240.227 972.928 246.037 972.928 Z\" fill=\"#000000\" fill-rule=\"nonzero\" fill-opacity=\"1\" /><path clip-path=\"url(#clip390)\" d=\"M257.982 967.029 L282.093 967.029 L282.093 970.227 L257.982 970.227 L257.982 967.029 Z\" fill=\"#000000\" fill-rule=\"nonzero\" fill-opacity=\"1\" /><path clip-path=\"url(#clip390)\" d=\"M290.952 977.505 L297.158 977.505 L297.158 956.083 L290.406 957.437 L290.406 953.977 L297.121 952.622 L300.92 952.622 L300.92 977.505 L307.126 977.505 L307.126 980.702 L290.952 980.702 L290.952 977.505 Z\" fill=\"#000000\" fill-rule=\"nonzero\" fill-opacity=\"1\" /><path clip-path=\"url(#clip390)\" d=\"M325.238 955.933 L315.646 970.922 L325.238 970.922 L325.238 955.933 M324.242 952.622 L329.019 952.622 L329.019 970.922 L333.025 970.922 L333.025 974.082 L329.019 974.082 L329.019 980.702 L325.238 980.702 L325.238 974.082 L312.562 974.082 L312.562 970.415 L324.242 952.622 Z\" fill=\"#000000\" fill-rule=\"nonzero\" fill-opacity=\"1\" /><path clip-path=\"url(#clip390)\" d=\"M321.08 790.759 Q317.469 790.759 315.641 794.323 Q313.835 797.865 313.835 804.995 Q313.835 812.101 315.641 815.666 Q317.469 819.208 321.08 819.208 Q324.715 819.208 326.52 815.666 Q328.349 812.101 328.349 804.995 Q328.349 797.865 326.52 794.323 Q324.715 790.759 321.08 790.759 M321.08 787.055 Q326.891 787.055 329.946 791.661 Q333.025 796.245 333.025 804.995 Q333.025 813.722 329.946 818.328 Q326.891 822.911 321.08 822.911 Q315.27 822.911 312.192 818.328 Q309.136 813.722 309.136 804.995 Q309.136 796.245 312.192 791.661 Q315.27 787.055 321.08 787.055 Z\" fill=\"#000000\" fill-rule=\"nonzero\" fill-opacity=\"1\" /><path clip-path=\"url(#clip390)\" d=\"M91.5706 645.327 L99.2095 645.327 L99.2095 618.962 L90.8993 620.628 L90.8993 616.369 L99.1632 614.702 L103.839 614.702 L103.839 645.327 L111.478 645.327 L111.478 649.262 L91.5706 649.262 L91.5706 645.327 Z\" fill=\"#000000\" fill-rule=\"nonzero\" fill-opacity=\"1\" /><path clip-path=\"url(#clip390)\" d=\"M120.922 643.383 L125.807 643.383 L125.807 649.262 L120.922 649.262 L120.922 643.383 Z\" fill=\"#000000\" fill-rule=\"nonzero\" fill-opacity=\"1\" /><path clip-path=\"url(#clip390)\" d=\"M145.992 617.781 Q142.381 617.781 140.552 621.346 Q138.746 624.887 138.746 632.017 Q138.746 639.124 140.552 642.688 Q142.381 646.23 145.992 646.23 Q149.626 646.23 151.431 642.688 Q153.26 639.124 153.26 632.017 Q153.26 624.887 151.431 621.346 Q149.626 617.781 145.992 617.781 M145.992 614.077 Q151.802 614.077 154.857 618.684 Q157.936 623.267 157.936 632.017 Q157.936 640.744 154.857 645.35 Q151.802 649.934 145.992 649.934 Q140.181 649.934 137.103 645.35 Q134.047 640.744 134.047 632.017 Q134.047 623.267 137.103 618.684 Q140.181 614.077 145.992 614.077 Z\" fill=\"#000000\" fill-rule=\"nonzero\" fill-opacity=\"1\" /><path clip-path=\"url(#clip390)\" d=\"M194.325 623.8 L183.746 634.424 L194.325 645.003 L191.57 647.804 L180.945 637.179 L170.32 647.804 L167.589 645.003 L178.144 634.424 L167.589 623.8 L170.32 620.999 L180.945 631.624 L191.57 620.999 L194.325 623.8 Z\" fill=\"#000000\" fill-rule=\"nonzero\" fill-opacity=\"1\" /><path clip-path=\"url(#clip390)\" d=\"M206.686 645.327 L214.325 645.327 L214.325 618.962 L206.014 620.628 L206.014 616.369 L214.278 614.702 L218.954 614.702 L218.954 645.327 L226.593 645.327 L226.593 649.262 L206.686 649.262 L206.686 645.327 Z\" fill=\"#000000\" fill-rule=\"nonzero\" fill-opacity=\"1\" /><path clip-path=\"url(#clip390)\" d=\"M246.037 617.781 Q242.426 617.781 240.598 621.346 Q238.792 624.887 238.792 632.017 Q238.792 639.124 240.598 642.688 Q242.426 646.23 246.037 646.23 Q249.672 646.23 251.477 642.688 Q253.306 639.124 253.306 632.017 Q253.306 624.887 251.477 621.346 Q249.672 617.781 246.037 617.781 M246.037 614.077 Q251.848 614.077 254.903 618.684 Q257.982 623.267 257.982 632.017 Q257.982 640.744 254.903 645.35 Q251.848 649.934 246.037 649.934 Q240.227 649.934 237.149 645.35 Q234.093 640.744 234.093 632.017 Q234.093 623.267 237.149 618.684 Q240.227 614.077 246.037 614.077 Z\" fill=\"#000000\" fill-rule=\"nonzero\" fill-opacity=\"1\" /><path clip-path=\"url(#clip390)\" d=\"M257.982 608.179 L282.093 608.179 L282.093 611.376 L257.982 611.376 L257.982 608.179 Z\" fill=\"#000000\" fill-rule=\"nonzero\" fill-opacity=\"1\" /><path clip-path=\"url(#clip390)\" d=\"M290.952 618.655 L297.158 618.655 L297.158 597.233 L290.406 598.587 L290.406 595.126 L297.121 593.772 L300.92 593.772 L300.92 618.655 L307.126 618.655 L307.126 621.852 L290.952 621.852 L290.952 618.655 Z\" fill=\"#000000\" fill-rule=\"nonzero\" fill-opacity=\"1\" /><path clip-path=\"url(#clip390)\" d=\"M325.238 597.082 L315.646 612.072 L325.238 612.072 L325.238 597.082 M324.242 593.772 L329.019 593.772 L329.019 612.072 L333.025 612.072 L333.025 615.232 L329.019 615.232 L329.019 621.852 L325.238 621.852 L325.238 615.232 L312.562 615.232 L312.562 611.564 L324.242 593.772 Z\" fill=\"#000000\" fill-rule=\"nonzero\" fill-opacity=\"1\" /><path clip-path=\"url(#clip390)\" d=\"M94.7882 465.902 L111.108 465.902 L111.108 469.837 L89.1632 469.837 L89.1632 465.902 Q91.8252 463.147 96.4085 458.518 Q101.015 453.865 102.196 452.522 Q104.441 449.999 105.321 448.263 Q106.223 446.504 106.223 444.814 Q106.223 442.059 104.279 440.323 Q102.358 438.587 99.2558 438.587 Q97.0567 438.587 94.603 439.351 Q92.1725 440.115 89.3947 441.666 L89.3947 436.944 Q92.2188 435.81 94.6724 435.231 Q97.1261 434.652 99.1632 434.652 Q104.534 434.652 107.728 437.337 Q110.922 440.022 110.922 444.513 Q110.922 446.643 110.112 448.564 Q109.325 450.462 107.219 453.055 Q106.64 453.726 103.538 456.944 Q100.436 460.138 94.7882 465.902 Z\" fill=\"#000000\" fill-rule=\"nonzero\" fill-opacity=\"1\" /><path clip-path=\"url(#clip390)\" d=\"M120.922 463.958 L125.807 463.958 L125.807 469.837 L120.922 469.837 L120.922 463.958 Z\" fill=\"#000000\" fill-rule=\"nonzero\" fill-opacity=\"1\" /><path clip-path=\"url(#clip390)\" d=\"M145.992 438.356 Q142.381 438.356 140.552 441.921 Q138.746 445.462 138.746 452.592 Q138.746 459.698 140.552 463.263 Q142.381 466.805 145.992 466.805 Q149.626 466.805 151.431 463.263 Q153.26 459.698 153.26 452.592 Q153.26 445.462 151.431 441.921 Q149.626 438.356 145.992 438.356 M145.992 434.652 Q151.802 434.652 154.857 439.259 Q157.936 443.842 157.936 452.592 Q157.936 461.319 154.857 465.925 Q151.802 470.508 145.992 470.508 Q140.181 470.508 137.103 465.925 Q134.047 461.319 134.047 452.592 Q134.047 443.842 137.103 439.259 Q140.181 434.652 145.992 434.652 Z\" fill=\"#000000\" fill-rule=\"nonzero\" fill-opacity=\"1\" /><path clip-path=\"url(#clip390)\" d=\"M194.325 444.374 L183.746 454.999 L194.325 465.578 L191.57 468.379 L180.945 457.754 L170.32 468.379 L167.589 465.578 L178.144 454.999 L167.589 444.374 L170.32 441.573 L180.945 452.198 L191.57 441.573 L194.325 444.374 Z\" fill=\"#000000\" fill-rule=\"nonzero\" fill-opacity=\"1\" /><path clip-path=\"url(#clip390)\" d=\"M206.686 465.902 L214.325 465.902 L214.325 439.536 L206.014 441.203 L206.014 436.944 L214.278 435.277 L218.954 435.277 L218.954 465.902 L226.593 465.902 L226.593 469.837 L206.686 469.837 L206.686 465.902 Z\" fill=\"#000000\" fill-rule=\"nonzero\" fill-opacity=\"1\" /><path clip-path=\"url(#clip390)\" d=\"M246.037 438.356 Q242.426 438.356 240.598 441.921 Q238.792 445.462 238.792 452.592 Q238.792 459.698 240.598 463.263 Q242.426 466.805 246.037 466.805 Q249.672 466.805 251.477 463.263 Q253.306 459.698 253.306 452.592 Q253.306 445.462 251.477 441.921 Q249.672 438.356 246.037 438.356 M246.037 434.652 Q251.848 434.652 254.903 439.259 Q257.982 443.842 257.982 452.592 Q257.982 461.319 254.903 465.925 Q251.848 470.508 246.037 470.508 Q240.227 470.508 237.149 465.925 Q234.093 461.319 234.093 452.592 Q234.093 443.842 237.149 439.259 Q240.227 434.652 246.037 434.652 Z\" fill=\"#000000\" fill-rule=\"nonzero\" fill-opacity=\"1\" /><path clip-path=\"url(#clip390)\" d=\"M257.982 428.753 L282.093 428.753 L282.093 431.951 L257.982 431.951 L257.982 428.753 Z\" fill=\"#000000\" fill-rule=\"nonzero\" fill-opacity=\"1\" /><path clip-path=\"url(#clip390)\" d=\"M290.952 439.229 L297.158 439.229 L297.158 417.807 L290.406 419.162 L290.406 415.701 L297.121 414.347 L300.92 414.347 L300.92 439.229 L307.126 439.229 L307.126 442.427 L290.952 442.427 L290.952 439.229 Z\" fill=\"#000000\" fill-rule=\"nonzero\" fill-opacity=\"1\" /><path clip-path=\"url(#clip390)\" d=\"M325.238 417.657 L315.646 432.647 L325.238 432.647 L325.238 417.657 M324.242 414.347 L329.019 414.347 L329.019 432.647 L333.025 432.647 L333.025 435.806 L329.019 435.806 L329.019 442.427 L325.238 442.427 L325.238 435.806 L312.562 435.806 L312.562 432.139 L324.242 414.347 Z\" fill=\"#000000\" fill-rule=\"nonzero\" fill-opacity=\"1\" /><path clip-path=\"url(#clip390)\" d=\"M104.927 271.778 Q108.283 272.495 110.158 274.764 Q112.057 277.032 112.057 280.366 Q112.057 285.481 108.538 288.282 Q105.02 291.083 98.5382 291.083 Q96.3623 291.083 94.0475 290.643 Q91.7558 290.227 89.3021 289.37 L89.3021 284.856 Q91.2465 285.991 93.5613 286.569 Q95.8761 287.148 98.3993 287.148 Q102.797 287.148 105.089 285.412 Q107.404 283.676 107.404 280.366 Q107.404 277.31 105.251 275.597 Q103.121 273.861 99.3021 273.861 L95.2743 273.861 L95.2743 270.018 L99.4872 270.018 Q102.936 270.018 104.765 268.653 Q106.594 267.264 106.594 264.671 Q106.594 262.009 104.696 260.597 Q102.821 259.162 99.3021 259.162 Q97.3808 259.162 95.1817 259.579 Q92.9826 259.995 90.3438 260.875 L90.3438 256.708 Q93.0058 255.968 95.3206 255.597 Q97.6585 255.227 99.7187 255.227 Q105.043 255.227 108.145 257.657 Q111.246 260.065 111.246 264.185 Q111.246 267.056 109.603 269.046 Q107.959 271.014 104.927 271.778 Z\" fill=\"#000000\" fill-rule=\"nonzero\" fill-opacity=\"1\" /><path clip-path=\"url(#clip390)\" d=\"M120.922 284.532 L125.807 284.532 L125.807 290.412 L120.922 290.412 L120.922 284.532 Z\" fill=\"#000000\" fill-rule=\"nonzero\" fill-opacity=\"1\" /><path clip-path=\"url(#clip390)\" d=\"M145.992 258.931 Q142.381 258.931 140.552 262.495 Q138.746 266.037 138.746 273.167 Q138.746 280.273 140.552 283.838 Q142.381 287.379 145.992 287.379 Q149.626 287.379 151.431 283.838 Q153.26 280.273 153.26 273.167 Q153.26 266.037 151.431 262.495 Q149.626 258.931 145.992 258.931 M145.992 255.227 Q151.802 255.227 154.857 259.833 Q157.936 264.417 157.936 273.167 Q157.936 281.893 154.857 286.5 Q151.802 291.083 145.992 291.083 Q140.181 291.083 137.103 286.5 Q134.047 281.893 134.047 273.167 Q134.047 264.417 137.103 259.833 Q140.181 255.227 145.992 255.227 Z\" fill=\"#000000\" fill-rule=\"nonzero\" fill-opacity=\"1\" /><path clip-path=\"url(#clip390)\" d=\"M194.325 264.949 L183.746 275.574 L194.325 286.153 L191.57 288.954 L180.945 278.329 L170.32 288.954 L167.589 286.153 L178.144 275.574 L167.589 264.949 L170.32 262.148 L180.945 272.773 L191.57 262.148 L194.325 264.949 Z\" fill=\"#000000\" fill-rule=\"nonzero\" fill-opacity=\"1\" /><path clip-path=\"url(#clip390)\" d=\"M206.686 286.477 L214.325 286.477 L214.325 260.111 L206.014 261.778 L206.014 257.519 L214.278 255.852 L218.954 255.852 L218.954 286.477 L226.593 286.477 L226.593 290.412 L206.686 290.412 L206.686 286.477 Z\" fill=\"#000000\" fill-rule=\"nonzero\" fill-opacity=\"1\" /><path clip-path=\"url(#clip390)\" d=\"M246.037 258.931 Q242.426 258.931 240.598 262.495 Q238.792 266.037 238.792 273.167 Q238.792 280.273 240.598 283.838 Q242.426 287.379 246.037 287.379 Q249.672 287.379 251.477 283.838 Q253.306 280.273 253.306 273.167 Q253.306 266.037 251.477 262.495 Q249.672 258.931 246.037 258.931 M246.037 255.227 Q251.848 255.227 254.903 259.833 Q257.982 264.417 257.982 273.167 Q257.982 281.893 254.903 286.5 Q251.848 291.083 246.037 291.083 Q240.227 291.083 237.149 286.5 Q234.093 281.893 234.093 273.167 Q234.093 264.417 237.149 259.833 Q240.227 255.227 246.037 255.227 Z\" fill=\"#000000\" fill-rule=\"nonzero\" fill-opacity=\"1\" /><path clip-path=\"url(#clip390)\" d=\"M257.982 249.328 L282.093 249.328 L282.093 252.526 L257.982 252.526 L257.982 249.328 Z\" fill=\"#000000\" fill-rule=\"nonzero\" fill-opacity=\"1\" /><path clip-path=\"url(#clip390)\" d=\"M290.952 259.804 L297.158 259.804 L297.158 238.382 L290.406 239.736 L290.406 236.276 L297.121 234.921 L300.92 234.921 L300.92 259.804 L307.126 259.804 L307.126 263.001 L290.952 263.001 L290.952 259.804 Z\" fill=\"#000000\" fill-rule=\"nonzero\" fill-opacity=\"1\" /><path clip-path=\"url(#clip390)\" d=\"M325.238 238.232 L315.646 253.221 L325.238 253.221 L325.238 238.232 M324.242 234.921 L329.019 234.921 L329.019 253.221 L333.025 253.221 L333.025 256.381 L329.019 256.381 L329.019 263.001 L325.238 263.001 L325.238 256.381 L312.562 256.381 L312.562 252.714 L324.242 234.921 Z\" fill=\"#000000\" fill-rule=\"nonzero\" fill-opacity=\"1\" /><path clip-path=\"url(#clip390)\" d=\"M1187.31 18.8205 L1187.31 41.5461 L1197.6 41.5461 Q1203.31 41.5461 1206.43 38.5889 Q1209.55 35.6318 1209.55 30.163 Q1209.55 24.7348 1206.43 21.7777 Q1203.31 18.8205 1197.6 18.8205 L1187.31 18.8205 M1179.13 12.096 L1197.6 12.096 Q1207.77 12.096 1212.95 16.714 Q1218.18 21.2916 1218.18 30.163 Q1218.18 39.1155 1212.95 43.6931 Q1207.77 48.2706 1197.6 48.2706 L1187.31 48.2706 L1187.31 72.576 L1179.13 72.576 L1179.13 12.096 Z\" fill=\"#000000\" fill-rule=\"nonzero\" fill-opacity=\"1\" /><path clip-path=\"url(#clip390)\" d=\"M1228.83 9.54393 L1236.28 9.54393 L1236.28 72.576 L1228.83 72.576 L1228.83 9.54393 Z\" fill=\"#000000\" fill-rule=\"nonzero\" fill-opacity=\"1\" /><path clip-path=\"url(#clip390)\" d=\"M1269.46 32.4315 Q1263.47 32.4315 1259.98 37.1306 Q1256.5 41.7891 1256.5 49.9314 Q1256.5 58.0738 1259.94 62.7728 Q1263.43 67.4314 1269.46 67.4314 Q1275.42 67.4314 1278.9 62.7323 Q1282.38 58.0333 1282.38 49.9314 Q1282.38 41.8701 1278.9 37.1711 Q1275.42 32.4315 1269.46 32.4315 M1269.46 26.1121 Q1279.18 26.1121 1284.73 32.4315 Q1290.28 38.7509 1290.28 49.9314 Q1290.28 61.0714 1284.73 67.4314 Q1279.18 73.7508 1269.46 73.7508 Q1259.7 73.7508 1254.15 67.4314 Q1248.64 61.0714 1248.64 49.9314 Q1248.64 38.7509 1254.15 32.4315 Q1259.7 26.1121 1269.46 26.1121 Z\" fill=\"#000000\" fill-rule=\"nonzero\" fill-opacity=\"1\" /><path clip-path=\"url(#clip390)\" d=\"M1310.01 14.324 L1310.01 27.2059 L1325.36 27.2059 L1325.36 32.9987 L1310.01 32.9987 L1310.01 57.6282 Q1310.01 63.1779 1311.51 64.7578 Q1313.05 66.3376 1317.71 66.3376 L1325.36 66.3376 L1325.36 72.576 L1317.71 72.576 Q1309.08 72.576 1305.8 69.3758 Q1302.52 66.1351 1302.52 57.6282 L1302.52 32.9987 L1297.05 32.9987 L1297.05 27.2059 L1302.52 27.2059 L1302.52 14.324 L1310.01 14.324 Z\" fill=\"#000000\" fill-rule=\"nonzero\" fill-opacity=\"1\" /><path clip-path=\"url(#clip390)\" d=\"M1386.41 17.6457 Q1377.5 17.6457 1372.23 24.2892 Q1367.01 30.9327 1367.01 42.3968 Q1367.01 53.8203 1372.23 60.4638 Q1377.5 67.1073 1386.41 67.1073 Q1395.32 67.1073 1400.51 60.4638 Q1405.73 53.8203 1405.73 42.3968 Q1405.73 30.9327 1400.51 24.2892 Q1395.32 17.6457 1386.41 17.6457 M1397.88 71.4823 L1408.65 83.2704 L1398.77 83.2704 L1389.81 73.5887 Q1388.48 73.6697 1387.75 73.7103 Q1387.06 73.7508 1386.41 73.7508 Q1373.65 73.7508 1365.99 65.2439 Q1358.38 56.6965 1358.38 42.3968 Q1358.38 28.0566 1365.99 19.5497 Q1373.65 11.0023 1386.41 11.0023 Q1399.13 11.0023 1406.75 19.5497 Q1414.36 28.0566 1414.36 42.3968 Q1414.36 52.9291 1410.11 60.4233 Q1405.9 67.9175 1397.88 71.4823 Z\" fill=\"#000000\" fill-rule=\"nonzero\" fill-opacity=\"1\" /><path clip-path=\"url(#clip390)\" d=\"M1450.37 19.2256 L1429.72 51.5113 L1450.37 51.5113 L1450.37 19.2256 M1448.23 12.096 L1458.52 12.096 L1458.52 51.5113 L1467.15 51.5113 L1467.15 58.3168 L1458.52 58.3168 L1458.52 72.576 L1450.37 72.576 L1450.37 58.3168 L1423.07 58.3168 L1423.07 50.4176 L1448.23 12.096 Z\" fill=\"#000000\" fill-rule=\"nonzero\" fill-opacity=\"1\" /><path clip-path=\"url(#clip390)\" d=\"M1480.68 62.2867 L1489.22 62.2867 L1489.22 72.576 L1480.68 72.576 L1480.68 62.2867 Z\" fill=\"#000000\" fill-rule=\"nonzero\" fill-opacity=\"1\" /><path clip-path=\"url(#clip390)\" d=\"M1514.1 65.6895 L1542.65 65.6895 L1542.65 72.576 L1504.25 72.576 L1504.25 65.6895 Q1508.91 60.8689 1516.93 52.7671 Q1524.99 44.6248 1527.06 42.2752 Q1530.99 37.8598 1532.53 34.8216 Q1534.11 31.7429 1534.11 28.7857 Q1534.11 23.9651 1530.7 20.927 Q1527.34 17.8888 1521.91 17.8888 Q1518.07 17.8888 1513.77 19.2256 Q1509.52 20.5624 1504.66 23.2765 L1504.66 15.0127 Q1509.6 13.0277 1513.89 12.015 Q1518.19 11.0023 1521.75 11.0023 Q1531.15 11.0023 1536.74 15.7013 Q1542.33 20.4004 1542.33 28.2591 Q1542.33 31.9859 1540.91 35.3482 Q1539.54 38.6699 1535.85 43.2069 Q1534.84 44.3817 1529.41 50.0125 Q1523.98 55.6027 1514.1 65.6895 Z\" fill=\"#000000\" fill-rule=\"nonzero\" fill-opacity=\"1\" /><polyline clip-path=\"url(#clip392)\" style=\"stroke:#009af9; stroke-linecap:round; stroke-linejoin:round; stroke-width:4; stroke-opacity:1; fill:none\" points=\"425.168,1447.87 503.145,1154.61 581.122,984.385 659.099,890.779 737.076,842.588 815.052,819.736 893.029,809.983 971.006,806.362 1048.98,805.254 1126.96,804.999 1204.94,804.962 1282.91,804.96 1360.89,804.96 1438.87,804.96 1516.84,804.958 1594.82,804.921 1672.8,804.666 1750.77,803.558 1828.75,799.937 1906.73,790.184 1984.71,767.332 2062.68,719.141 2140.66,625.535 2218.64,455.311 2296.61,162.047 \"/>\n",
       "<path clip-path=\"url(#clip390)\" d=\"M435.149 272.585 L685.953 272.585 L685.953 168.905 L435.149 168.905  Z\" fill=\"#ffffff\" fill-rule=\"evenodd\" fill-opacity=\"1\"/>\n",
       "<polyline clip-path=\"url(#clip390)\" style=\"stroke:#000000; stroke-linecap:round; stroke-linejoin:round; stroke-width:4; stroke-opacity:1; fill:none\" points=\"435.149,272.585 685.953,272.585 685.953,168.905 435.149,168.905 435.149,272.585 \"/>\n",
       "<polyline clip-path=\"url(#clip390)\" style=\"stroke:#009af9; stroke-linecap:round; stroke-linejoin:round; stroke-width:4; stroke-opacity:1; fill:none\" points=\"457.191,220.745 589.439,220.745 \"/>\n",
       "<path clip-path=\"url(#clip390)\" d=\"M625.323 240.432 Q623.518 245.062 621.805 246.474 Q620.092 247.886 617.221 247.886 L613.819 247.886 L613.819 244.321 L616.319 244.321 Q618.078 244.321 619.05 243.488 Q620.022 242.654 621.203 239.552 L621.967 237.608 L611.481 212.099 L615.995 212.099 L624.096 232.377 L632.198 212.099 L636.712 212.099 L625.323 240.432 Z\" fill=\"#000000\" fill-rule=\"nonzero\" fill-opacity=\"1\" /><path clip-path=\"url(#clip390)\" d=\"M644.004 234.089 L651.643 234.089 L651.643 207.724 L643.332 209.391 L643.332 205.131 L651.596 203.465 L656.272 203.465 L656.272 234.089 L663.911 234.089 L663.911 238.025 L644.004 238.025 L644.004 234.089 Z\" fill=\"#000000\" fill-rule=\"nonzero\" fill-opacity=\"1\" /></svg>\n"
      ],
      "text/html": [
       "<?xml version=\"1.0\" encoding=\"utf-8\"?>\n",
       "<svg xmlns=\"http://www.w3.org/2000/svg\" xmlns:xlink=\"http://www.w3.org/1999/xlink\" width=\"600\" height=\"400\" viewBox=\"0 0 2400 1600\">\n",
       "<defs>\n",
       "  <clipPath id=\"clip440\">\n",
       "    <rect x=\"0\" y=\"0\" width=\"2400\" height=\"1600\"/>\n",
       "  </clipPath>\n",
       "</defs>\n",
       "<path clip-path=\"url(#clip440)\" d=\"M0 1600 L2400 1600 L2400 0 L0 0  Z\" fill=\"#ffffff\" fill-rule=\"evenodd\" fill-opacity=\"1\"/>\n",
       "<defs>\n",
       "  <clipPath id=\"clip441\">\n",
       "    <rect x=\"480\" y=\"0\" width=\"1681\" height=\"1600\"/>\n",
       "  </clipPath>\n",
       "</defs>\n",
       "<path clip-path=\"url(#clip440)\" d=\"M369.025 1486.45 L2352.76 1486.45 L2352.76 123.472 L369.025 123.472  Z\" fill=\"#ffffff\" fill-rule=\"evenodd\" fill-opacity=\"1\"/>\n",
       "<defs>\n",
       "  <clipPath id=\"clip442\">\n",
       "    <rect x=\"369\" y=\"123\" width=\"1985\" height=\"1364\"/>\n",
       "  </clipPath>\n",
       "</defs>\n",
       "<polyline clip-path=\"url(#clip442)\" style=\"stroke:#000000; stroke-linecap:round; stroke-linejoin:round; stroke-width:2; stroke-opacity:0.1; fill:none\" points=\"581.122,1486.45 581.122,123.472 \"/>\n",
       "<polyline clip-path=\"url(#clip442)\" style=\"stroke:#000000; stroke-linecap:round; stroke-linejoin:round; stroke-width:2; stroke-opacity:0.1; fill:none\" points=\"971.006,1486.45 971.006,123.472 \"/>\n",
       "<polyline clip-path=\"url(#clip442)\" style=\"stroke:#000000; stroke-linecap:round; stroke-linejoin:round; stroke-width:2; stroke-opacity:0.1; fill:none\" points=\"1360.89,1486.45 1360.89,123.472 \"/>\n",
       "<polyline clip-path=\"url(#clip442)\" style=\"stroke:#000000; stroke-linecap:round; stroke-linejoin:round; stroke-width:2; stroke-opacity:0.1; fill:none\" points=\"1750.77,1486.45 1750.77,123.472 \"/>\n",
       "<polyline clip-path=\"url(#clip442)\" style=\"stroke:#000000; stroke-linecap:round; stroke-linejoin:round; stroke-width:2; stroke-opacity:0.1; fill:none\" points=\"2140.66,1486.45 2140.66,123.472 \"/>\n",
       "<polyline clip-path=\"url(#clip440)\" style=\"stroke:#000000; stroke-linecap:round; stroke-linejoin:round; stroke-width:4; stroke-opacity:1; fill:none\" points=\"369.025,1486.45 2352.76,1486.45 \"/>\n",
       "<polyline clip-path=\"url(#clip440)\" style=\"stroke:#000000; stroke-linecap:round; stroke-linejoin:round; stroke-width:4; stroke-opacity:1; fill:none\" points=\"581.122,1486.45 581.122,1467.55 \"/>\n",
       "<polyline clip-path=\"url(#clip440)\" style=\"stroke:#000000; stroke-linecap:round; stroke-linejoin:round; stroke-width:4; stroke-opacity:1; fill:none\" points=\"971.006,1486.45 971.006,1467.55 \"/>\n",
       "<polyline clip-path=\"url(#clip440)\" style=\"stroke:#000000; stroke-linecap:round; stroke-linejoin:round; stroke-width:4; stroke-opacity:1; fill:none\" points=\"1360.89,1486.45 1360.89,1467.55 \"/>\n",
       "<polyline clip-path=\"url(#clip440)\" style=\"stroke:#000000; stroke-linecap:round; stroke-linejoin:round; stroke-width:4; stroke-opacity:1; fill:none\" points=\"1750.77,1486.45 1750.77,1467.55 \"/>\n",
       "<polyline clip-path=\"url(#clip440)\" style=\"stroke:#000000; stroke-linecap:round; stroke-linejoin:round; stroke-width:4; stroke-opacity:1; fill:none\" points=\"2140.66,1486.45 2140.66,1467.55 \"/>\n",
       "<path clip-path=\"url(#clip440)\" d=\"M528.344 1517.37 Q524.733 1517.37 522.905 1520.93 Q521.099 1524.47 521.099 1531.6 Q521.099 1538.71 522.905 1542.27 Q524.733 1545.82 528.344 1545.82 Q531.979 1545.82 533.784 1542.27 Q535.613 1538.71 535.613 1531.6 Q535.613 1524.47 533.784 1520.93 Q531.979 1517.37 528.344 1517.37 M528.344 1513.66 Q534.154 1513.66 537.21 1518.27 Q540.289 1522.85 540.289 1531.6 Q540.289 1540.33 537.21 1544.94 Q534.154 1549.52 528.344 1549.52 Q522.534 1549.52 519.455 1544.94 Q516.4 1540.33 516.4 1531.6 Q516.4 1522.85 519.455 1518.27 Q522.534 1513.66 528.344 1513.66 Z\" fill=\"#000000\" fill-rule=\"nonzero\" fill-opacity=\"1\" /><path clip-path=\"url(#clip440)\" d=\"M548.506 1542.97 L553.39 1542.97 L553.39 1548.85 L548.506 1548.85 L548.506 1542.97 Z\" fill=\"#000000\" fill-rule=\"nonzero\" fill-opacity=\"1\" /><path clip-path=\"url(#clip440)\" d=\"M563.714 1548.13 L563.714 1543.87 Q565.474 1544.7 567.279 1545.14 Q569.085 1545.58 570.821 1545.58 Q575.451 1545.58 577.881 1542.48 Q580.335 1539.36 580.682 1533.01 Q579.339 1535.01 577.279 1536.07 Q575.219 1537.13 572.719 1537.13 Q567.534 1537.13 564.502 1534.01 Q561.492 1530.86 561.492 1525.42 Q561.492 1520.1 564.64 1516.88 Q567.789 1513.66 573.02 1513.66 Q579.015 1513.66 582.163 1518.27 Q585.335 1522.85 585.335 1531.6 Q585.335 1539.77 581.446 1544.66 Q577.58 1549.52 571.029 1549.52 Q569.27 1549.52 567.464 1549.17 Q565.659 1548.82 563.714 1548.13 M573.02 1533.48 Q576.168 1533.48 577.997 1531.32 Q579.849 1529.17 579.849 1525.42 Q579.849 1521.7 577.997 1519.54 Q576.168 1517.37 573.02 1517.37 Q569.872 1517.37 568.02 1519.54 Q566.191 1521.7 566.191 1525.42 Q566.191 1529.17 568.02 1531.32 Q569.872 1533.48 573.02 1533.48 Z\" fill=\"#000000\" fill-rule=\"nonzero\" fill-opacity=\"1\" /><path clip-path=\"url(#clip440)\" d=\"M593.876 1548.13 L593.876 1543.87 Q595.636 1544.7 597.441 1545.14 Q599.247 1545.58 600.983 1545.58 Q605.612 1545.58 608.043 1542.48 Q610.497 1539.36 610.844 1533.01 Q609.501 1535.01 607.441 1536.07 Q605.381 1537.13 602.881 1537.13 Q597.696 1537.13 594.663 1534.01 Q591.654 1530.86 591.654 1525.42 Q591.654 1520.1 594.802 1516.88 Q597.95 1513.66 603.182 1513.66 Q609.177 1513.66 612.325 1518.27 Q615.497 1522.85 615.497 1531.6 Q615.497 1539.77 611.608 1544.66 Q607.742 1549.52 601.191 1549.52 Q599.432 1549.52 597.626 1549.17 Q595.821 1548.82 593.876 1548.13 M603.182 1533.48 Q606.33 1533.48 608.159 1531.32 Q610.011 1529.17 610.011 1525.42 Q610.011 1521.7 608.159 1519.54 Q606.33 1517.37 603.182 1517.37 Q600.034 1517.37 598.182 1519.54 Q596.353 1521.7 596.353 1525.42 Q596.353 1529.17 598.182 1531.32 Q600.034 1533.48 603.182 1533.48 Z\" fill=\"#000000\" fill-rule=\"nonzero\" fill-opacity=\"1\" /><path clip-path=\"url(#clip440)\" d=\"M633.899 1517.37 Q630.288 1517.37 628.46 1520.93 Q626.654 1524.47 626.654 1531.6 Q626.654 1538.71 628.46 1542.27 Q630.288 1545.82 633.899 1545.82 Q637.534 1545.82 639.339 1542.27 Q641.168 1538.71 641.168 1531.6 Q641.168 1524.47 639.339 1520.93 Q637.534 1517.37 633.899 1517.37 M633.899 1513.66 Q639.709 1513.66 642.765 1518.27 Q645.844 1522.85 645.844 1531.6 Q645.844 1540.33 642.765 1544.94 Q639.709 1549.52 633.899 1549.52 Q628.089 1549.52 625.01 1544.94 Q621.955 1540.33 621.955 1531.6 Q621.955 1522.85 625.01 1518.27 Q628.089 1513.66 633.899 1513.66 Z\" fill=\"#000000\" fill-rule=\"nonzero\" fill-opacity=\"1\" /><path clip-path=\"url(#clip440)\" d=\"M918.726 1517.37 Q915.115 1517.37 913.286 1520.93 Q911.481 1524.47 911.481 1531.6 Q911.481 1538.71 913.286 1542.27 Q915.115 1545.82 918.726 1545.82 Q922.36 1545.82 924.166 1542.27 Q925.995 1538.71 925.995 1531.6 Q925.995 1524.47 924.166 1520.93 Q922.36 1517.37 918.726 1517.37 M918.726 1513.66 Q924.536 1513.66 927.592 1518.27 Q930.671 1522.85 930.671 1531.6 Q930.671 1540.33 927.592 1544.94 Q924.536 1549.52 918.726 1549.52 Q912.916 1549.52 909.837 1544.94 Q906.782 1540.33 906.782 1531.6 Q906.782 1522.85 909.837 1518.27 Q912.916 1513.66 918.726 1513.66 Z\" fill=\"#000000\" fill-rule=\"nonzero\" fill-opacity=\"1\" /><path clip-path=\"url(#clip440)\" d=\"M938.888 1542.97 L943.772 1542.97 L943.772 1548.85 L938.888 1548.85 L938.888 1542.97 Z\" fill=\"#000000\" fill-rule=\"nonzero\" fill-opacity=\"1\" /><path clip-path=\"url(#clip440)\" d=\"M954.096 1548.13 L954.096 1543.87 Q955.856 1544.7 957.661 1545.14 Q959.467 1545.58 961.203 1545.58 Q965.832 1545.58 968.263 1542.48 Q970.717 1539.36 971.064 1533.01 Q969.721 1535.01 967.661 1536.07 Q965.601 1537.13 963.101 1537.13 Q957.916 1537.13 954.883 1534.01 Q951.874 1530.86 951.874 1525.42 Q951.874 1520.1 955.022 1516.88 Q958.17 1513.66 963.402 1513.66 Q969.397 1513.66 972.545 1518.27 Q975.717 1522.85 975.717 1531.6 Q975.717 1539.77 971.828 1544.66 Q967.962 1549.52 961.411 1549.52 Q959.652 1549.52 957.846 1549.17 Q956.041 1548.82 954.096 1548.13 M963.402 1533.48 Q966.55 1533.48 968.379 1531.32 Q970.231 1529.17 970.231 1525.42 Q970.231 1521.7 968.379 1519.54 Q966.55 1517.37 963.402 1517.37 Q960.254 1517.37 958.402 1519.54 Q956.573 1521.7 956.573 1525.42 Q956.573 1529.17 958.402 1531.32 Q960.254 1533.48 963.402 1533.48 Z\" fill=\"#000000\" fill-rule=\"nonzero\" fill-opacity=\"1\" /><path clip-path=\"url(#clip440)\" d=\"M984.258 1548.13 L984.258 1543.87 Q986.018 1544.7 987.823 1545.14 Q989.629 1545.58 991.365 1545.58 Q995.994 1545.58 998.425 1542.48 Q1000.88 1539.36 1001.23 1533.01 Q999.883 1535.01 997.823 1536.07 Q995.763 1537.13 993.263 1537.13 Q988.078 1537.13 985.045 1534.01 Q982.036 1530.86 982.036 1525.42 Q982.036 1520.1 985.184 1516.88 Q988.332 1513.66 993.564 1513.66 Q999.559 1513.66 1002.71 1518.27 Q1005.88 1522.85 1005.88 1531.6 Q1005.88 1539.77 1001.99 1544.66 Q998.124 1549.52 991.573 1549.52 Q989.814 1549.52 988.008 1549.17 Q986.203 1548.82 984.258 1548.13 M993.564 1533.48 Q996.712 1533.48 998.541 1531.32 Q1000.39 1529.17 1000.39 1525.42 Q1000.39 1521.7 998.541 1519.54 Q996.712 1517.37 993.564 1517.37 Q990.416 1517.37 988.564 1519.54 Q986.735 1521.7 986.735 1525.42 Q986.735 1529.17 988.564 1531.32 Q990.416 1533.48 993.564 1533.48 Z\" fill=\"#000000\" fill-rule=\"nonzero\" fill-opacity=\"1\" /><path clip-path=\"url(#clip440)\" d=\"M1014.33 1514.29 L1032.68 1514.29 L1032.68 1518.22 L1018.61 1518.22 L1018.61 1526.7 Q1019.63 1526.35 1020.65 1526.19 Q1021.67 1526 1022.68 1526 Q1028.47 1526 1031.85 1529.17 Q1035.23 1532.34 1035.23 1537.76 Q1035.23 1543.34 1031.76 1546.44 Q1028.29 1549.52 1021.97 1549.52 Q1019.79 1549.52 1017.52 1549.15 Q1015.28 1548.78 1012.87 1548.04 L1012.87 1543.34 Q1014.95 1544.47 1017.17 1545.03 Q1019.4 1545.58 1021.87 1545.58 Q1025.88 1545.58 1028.22 1543.48 Q1030.55 1541.37 1030.55 1537.76 Q1030.55 1534.15 1028.22 1532.04 Q1025.88 1529.94 1021.87 1529.94 Q1020 1529.94 1018.12 1530.35 Q1016.27 1530.77 1014.33 1531.65 L1014.33 1514.29 Z\" fill=\"#000000\" fill-rule=\"nonzero\" fill-opacity=\"1\" /><path clip-path=\"url(#clip440)\" d=\"M1297.88 1544.91 L1305.52 1544.91 L1305.52 1518.55 L1297.21 1520.21 L1297.21 1515.95 L1305.47 1514.29 L1310.15 1514.29 L1310.15 1544.91 L1317.79 1544.91 L1317.79 1548.85 L1297.88 1548.85 L1297.88 1544.91 Z\" fill=\"#000000\" fill-rule=\"nonzero\" fill-opacity=\"1\" /><path clip-path=\"url(#clip440)\" d=\"M1327.23 1542.97 L1332.12 1542.97 L1332.12 1548.85 L1327.23 1548.85 L1327.23 1542.97 Z\" fill=\"#000000\" fill-rule=\"nonzero\" fill-opacity=\"1\" /><path clip-path=\"url(#clip440)\" d=\"M1352.3 1517.37 Q1348.69 1517.37 1346.86 1520.93 Q1345.06 1524.47 1345.06 1531.6 Q1345.06 1538.71 1346.86 1542.27 Q1348.69 1545.82 1352.3 1545.82 Q1355.94 1545.82 1357.74 1542.27 Q1359.57 1538.71 1359.57 1531.6 Q1359.57 1524.47 1357.74 1520.93 Q1355.94 1517.37 1352.3 1517.37 M1352.3 1513.66 Q1358.11 1513.66 1361.17 1518.27 Q1364.25 1522.85 1364.25 1531.6 Q1364.25 1540.33 1361.17 1544.94 Q1358.11 1549.52 1352.3 1549.52 Q1346.49 1549.52 1343.41 1544.94 Q1340.36 1540.33 1340.36 1531.6 Q1340.36 1522.85 1343.41 1518.27 Q1346.49 1513.66 1352.3 1513.66 Z\" fill=\"#000000\" fill-rule=\"nonzero\" fill-opacity=\"1\" /><path clip-path=\"url(#clip440)\" d=\"M1382.46 1517.37 Q1378.85 1517.37 1377.02 1520.93 Q1375.22 1524.47 1375.22 1531.6 Q1375.22 1538.71 1377.02 1542.27 Q1378.85 1545.82 1382.46 1545.82 Q1386.1 1545.82 1387.9 1542.27 Q1389.73 1538.71 1389.73 1531.6 Q1389.73 1524.47 1387.9 1520.93 Q1386.1 1517.37 1382.46 1517.37 M1382.46 1513.66 Q1388.27 1513.66 1391.33 1518.27 Q1394.41 1522.85 1394.41 1531.6 Q1394.41 1540.33 1391.33 1544.94 Q1388.27 1549.52 1382.46 1549.52 Q1376.65 1549.52 1373.58 1544.94 Q1370.52 1540.33 1370.52 1531.6 Q1370.52 1522.85 1373.58 1518.27 Q1376.65 1513.66 1382.46 1513.66 Z\" fill=\"#000000\" fill-rule=\"nonzero\" fill-opacity=\"1\" /><path clip-path=\"url(#clip440)\" d=\"M1412.63 1517.37 Q1409.02 1517.37 1407.19 1520.93 Q1405.38 1524.47 1405.38 1531.6 Q1405.38 1538.71 1407.19 1542.27 Q1409.02 1545.82 1412.63 1545.82 Q1416.26 1545.82 1418.07 1542.27 Q1419.89 1538.71 1419.89 1531.6 Q1419.89 1524.47 1418.07 1520.93 Q1416.26 1517.37 1412.63 1517.37 M1412.63 1513.66 Q1418.44 1513.66 1421.49 1518.27 Q1424.57 1522.85 1424.57 1531.6 Q1424.57 1540.33 1421.49 1544.94 Q1418.44 1549.52 1412.63 1549.52 Q1406.82 1549.52 1403.74 1544.94 Q1400.68 1540.33 1400.68 1531.6 Q1400.68 1522.85 1403.74 1518.27 Q1406.82 1513.66 1412.63 1513.66 Z\" fill=\"#000000\" fill-rule=\"nonzero\" fill-opacity=\"1\" /><path clip-path=\"url(#clip440)\" d=\"M1688.26 1544.91 L1695.9 1544.91 L1695.9 1518.55 L1687.59 1520.21 L1687.59 1515.95 L1695.86 1514.29 L1700.53 1514.29 L1700.53 1544.91 L1708.17 1544.91 L1708.17 1548.85 L1688.26 1548.85 L1688.26 1544.91 Z\" fill=\"#000000\" fill-rule=\"nonzero\" fill-opacity=\"1\" /><path clip-path=\"url(#clip440)\" d=\"M1717.62 1542.97 L1722.5 1542.97 L1722.5 1548.85 L1717.62 1548.85 L1717.62 1542.97 Z\" fill=\"#000000\" fill-rule=\"nonzero\" fill-opacity=\"1\" /><path clip-path=\"url(#clip440)\" d=\"M1742.68 1517.37 Q1739.07 1517.37 1737.24 1520.93 Q1735.44 1524.47 1735.44 1531.6 Q1735.44 1538.71 1737.24 1542.27 Q1739.07 1545.82 1742.68 1545.82 Q1746.32 1545.82 1748.12 1542.27 Q1749.95 1538.71 1749.95 1531.6 Q1749.95 1524.47 1748.12 1520.93 Q1746.32 1517.37 1742.68 1517.37 M1742.68 1513.66 Q1748.49 1513.66 1751.55 1518.27 Q1754.63 1522.85 1754.63 1531.6 Q1754.63 1540.33 1751.55 1544.94 Q1748.49 1549.52 1742.68 1549.52 Q1736.87 1549.52 1733.8 1544.94 Q1730.74 1540.33 1730.74 1531.6 Q1730.74 1522.85 1733.8 1518.27 Q1736.87 1513.66 1742.68 1513.66 Z\" fill=\"#000000\" fill-rule=\"nonzero\" fill-opacity=\"1\" /><path clip-path=\"url(#clip440)\" d=\"M1772.85 1517.37 Q1769.24 1517.37 1767.41 1520.93 Q1765.6 1524.47 1765.6 1531.6 Q1765.6 1538.71 1767.41 1542.27 Q1769.24 1545.82 1772.85 1545.82 Q1776.48 1545.82 1778.29 1542.27 Q1780.11 1538.71 1780.11 1531.6 Q1780.11 1524.47 1778.29 1520.93 Q1776.48 1517.37 1772.85 1517.37 M1772.85 1513.66 Q1778.66 1513.66 1781.71 1518.27 Q1784.79 1522.85 1784.79 1531.6 Q1784.79 1540.33 1781.71 1544.94 Q1778.66 1549.52 1772.85 1549.52 Q1767.04 1549.52 1763.96 1544.94 Q1760.9 1540.33 1760.9 1531.6 Q1760.9 1522.85 1763.96 1518.27 Q1767.04 1513.66 1772.85 1513.66 Z\" fill=\"#000000\" fill-rule=\"nonzero\" fill-opacity=\"1\" /><path clip-path=\"url(#clip440)\" d=\"M1793.05 1514.29 L1811.41 1514.29 L1811.41 1518.22 L1797.34 1518.22 L1797.34 1526.7 Q1798.36 1526.35 1799.37 1526.19 Q1800.39 1526 1801.41 1526 Q1807.2 1526 1810.58 1529.17 Q1813.96 1532.34 1813.96 1537.76 Q1813.96 1543.34 1810.48 1546.44 Q1807.01 1549.52 1800.69 1549.52 Q1798.52 1549.52 1796.25 1549.15 Q1794 1548.78 1791.6 1548.04 L1791.6 1543.34 Q1793.68 1544.47 1795.9 1545.03 Q1798.12 1545.58 1800.6 1545.58 Q1804.61 1545.58 1806.94 1543.48 Q1809.28 1541.37 1809.28 1537.76 Q1809.28 1534.15 1806.94 1532.04 Q1804.61 1529.94 1800.6 1529.94 Q1798.73 1529.94 1796.85 1530.35 Q1795 1530.77 1793.05 1531.65 L1793.05 1514.29 Z\" fill=\"#000000\" fill-rule=\"nonzero\" fill-opacity=\"1\" /><path clip-path=\"url(#clip440)\" d=\"M2077.65 1544.91 L2085.29 1544.91 L2085.29 1518.55 L2076.98 1520.21 L2076.98 1515.95 L2085.24 1514.29 L2089.92 1514.29 L2089.92 1544.91 L2097.56 1544.91 L2097.56 1548.85 L2077.65 1548.85 L2077.65 1544.91 Z\" fill=\"#000000\" fill-rule=\"nonzero\" fill-opacity=\"1\" /><path clip-path=\"url(#clip440)\" d=\"M2107 1542.97 L2111.89 1542.97 L2111.89 1548.85 L2107 1548.85 L2107 1542.97 Z\" fill=\"#000000\" fill-rule=\"nonzero\" fill-opacity=\"1\" /><path clip-path=\"url(#clip440)\" d=\"M2132.07 1517.37 Q2128.46 1517.37 2126.63 1520.93 Q2124.83 1524.47 2124.83 1531.6 Q2124.83 1538.71 2126.63 1542.27 Q2128.46 1545.82 2132.07 1545.82 Q2135.71 1545.82 2137.51 1542.27 Q2139.34 1538.71 2139.34 1531.6 Q2139.34 1524.47 2137.51 1520.93 Q2135.71 1517.37 2132.07 1517.37 M2132.07 1513.66 Q2137.88 1513.66 2140.94 1518.27 Q2144.02 1522.85 2144.02 1531.6 Q2144.02 1540.33 2140.94 1544.94 Q2137.88 1549.52 2132.07 1549.52 Q2126.26 1549.52 2123.18 1544.94 Q2120.13 1540.33 2120.13 1531.6 Q2120.13 1522.85 2123.18 1518.27 Q2126.26 1513.66 2132.07 1513.66 Z\" fill=\"#000000\" fill-rule=\"nonzero\" fill-opacity=\"1\" /><path clip-path=\"url(#clip440)\" d=\"M2153.04 1544.91 L2160.68 1544.91 L2160.68 1518.55 L2152.37 1520.21 L2152.37 1515.95 L2160.64 1514.29 L2165.31 1514.29 L2165.31 1544.91 L2172.95 1544.91 L2172.95 1548.85 L2153.04 1548.85 L2153.04 1544.91 Z\" fill=\"#000000\" fill-rule=\"nonzero\" fill-opacity=\"1\" /><path clip-path=\"url(#clip440)\" d=\"M2192.39 1517.37 Q2188.78 1517.37 2186.95 1520.93 Q2185.15 1524.47 2185.15 1531.6 Q2185.15 1538.71 2186.95 1542.27 Q2188.78 1545.82 2192.39 1545.82 Q2196.03 1545.82 2197.83 1542.27 Q2199.66 1538.71 2199.66 1531.6 Q2199.66 1524.47 2197.83 1520.93 Q2196.03 1517.37 2192.39 1517.37 M2192.39 1513.66 Q2198.2 1513.66 2201.26 1518.27 Q2204.34 1522.85 2204.34 1531.6 Q2204.34 1540.33 2201.26 1544.94 Q2198.2 1549.52 2192.39 1549.52 Q2186.58 1549.52 2183.51 1544.94 Q2180.45 1540.33 2180.45 1531.6 Q2180.45 1522.85 2183.51 1518.27 Q2186.58 1513.66 2192.39 1513.66 Z\" fill=\"#000000\" fill-rule=\"nonzero\" fill-opacity=\"1\" /><polyline clip-path=\"url(#clip442)\" style=\"stroke:#000000; stroke-linecap:round; stroke-linejoin:round; stroke-width:2; stroke-opacity:0.1; fill:none\" points=\"369.025,1343.24 2352.76,1343.24 \"/>\n",
       "<polyline clip-path=\"url(#clip442)\" style=\"stroke:#000000; stroke-linecap:round; stroke-linejoin:round; stroke-width:2; stroke-opacity:0.1; fill:none\" points=\"369.025,1163.81 2352.76,1163.81 \"/>\n",
       "<polyline clip-path=\"url(#clip442)\" style=\"stroke:#000000; stroke-linecap:round; stroke-linejoin:round; stroke-width:2; stroke-opacity:0.1; fill:none\" points=\"369.025,984.385 2352.76,984.385 \"/>\n",
       "<polyline clip-path=\"url(#clip442)\" style=\"stroke:#000000; stroke-linecap:round; stroke-linejoin:round; stroke-width:2; stroke-opacity:0.1; fill:none\" points=\"369.025,804.96 2352.76,804.96 \"/>\n",
       "<polyline clip-path=\"url(#clip442)\" style=\"stroke:#000000; stroke-linecap:round; stroke-linejoin:round; stroke-width:2; stroke-opacity:0.1; fill:none\" points=\"369.025,625.535 2352.76,625.535 \"/>\n",
       "<polyline clip-path=\"url(#clip442)\" style=\"stroke:#000000; stroke-linecap:round; stroke-linejoin:round; stroke-width:2; stroke-opacity:0.1; fill:none\" points=\"369.025,446.11 2352.76,446.11 \"/>\n",
       "<polyline clip-path=\"url(#clip442)\" style=\"stroke:#000000; stroke-linecap:round; stroke-linejoin:round; stroke-width:2; stroke-opacity:0.1; fill:none\" points=\"369.025,266.684 2352.76,266.684 \"/>\n",
       "<polyline clip-path=\"url(#clip440)\" style=\"stroke:#000000; stroke-linecap:round; stroke-linejoin:round; stroke-width:4; stroke-opacity:1; fill:none\" points=\"369.025,1486.45 369.025,123.472 \"/>\n",
       "<polyline clip-path=\"url(#clip440)\" style=\"stroke:#000000; stroke-linecap:round; stroke-linejoin:round; stroke-width:4; stroke-opacity:1; fill:none\" points=\"369.025,1343.24 387.922,1343.24 \"/>\n",
       "<polyline clip-path=\"url(#clip440)\" style=\"stroke:#000000; stroke-linecap:round; stroke-linejoin:round; stroke-width:4; stroke-opacity:1; fill:none\" points=\"369.025,1163.81 387.922,1163.81 \"/>\n",
       "<polyline clip-path=\"url(#clip440)\" style=\"stroke:#000000; stroke-linecap:round; stroke-linejoin:round; stroke-width:4; stroke-opacity:1; fill:none\" points=\"369.025,984.385 387.922,984.385 \"/>\n",
       "<polyline clip-path=\"url(#clip440)\" style=\"stroke:#000000; stroke-linecap:round; stroke-linejoin:round; stroke-width:4; stroke-opacity:1; fill:none\" points=\"369.025,804.96 387.922,804.96 \"/>\n",
       "<polyline clip-path=\"url(#clip440)\" style=\"stroke:#000000; stroke-linecap:round; stroke-linejoin:round; stroke-width:4; stroke-opacity:1; fill:none\" points=\"369.025,625.535 387.922,625.535 \"/>\n",
       "<polyline clip-path=\"url(#clip440)\" style=\"stroke:#000000; stroke-linecap:round; stroke-linejoin:round; stroke-width:4; stroke-opacity:1; fill:none\" points=\"369.025,446.11 387.922,446.11 \"/>\n",
       "<polyline clip-path=\"url(#clip440)\" style=\"stroke:#000000; stroke-linecap:round; stroke-linejoin:round; stroke-width:4; stroke-opacity:1; fill:none\" points=\"369.025,266.684 387.922,266.684 \"/>\n",
       "<path clip-path=\"url(#clip440)\" d=\"M50.9921 1350.13 L80.6679 1350.13 L80.6679 1354.07 L50.9921 1354.07 L50.9921 1350.13 Z\" fill=\"#000000\" fill-rule=\"nonzero\" fill-opacity=\"1\" /><path clip-path=\"url(#clip440)\" d=\"M104.927 1348.33 Q108.283 1349.05 110.158 1351.32 Q112.057 1353.58 112.057 1356.92 Q112.057 1362.03 108.538 1364.83 Q105.02 1367.63 98.5382 1367.63 Q96.3623 1367.63 94.0475 1367.19 Q91.7558 1366.78 89.3021 1365.92 L89.3021 1361.41 Q91.2465 1362.54 93.5613 1363.12 Q95.8761 1363.7 98.3993 1363.7 Q102.797 1363.7 105.089 1361.96 Q107.404 1360.23 107.404 1356.92 Q107.404 1353.86 105.251 1352.15 Q103.121 1350.41 99.3021 1350.41 L95.2743 1350.41 L95.2743 1346.57 L99.4872 1346.57 Q102.936 1346.57 104.765 1345.2 Q106.594 1343.82 106.594 1341.22 Q106.594 1338.56 104.696 1337.15 Q102.821 1335.71 99.3021 1335.71 Q97.3808 1335.71 95.1817 1336.13 Q92.9826 1336.55 90.3438 1337.43 L90.3438 1333.26 Q93.0058 1332.52 95.3206 1332.15 Q97.6585 1331.78 99.7187 1331.78 Q105.043 1331.78 108.145 1334.21 Q111.246 1336.62 111.246 1340.74 Q111.246 1343.61 109.603 1345.6 Q107.959 1347.57 104.927 1348.33 Z\" fill=\"#000000\" fill-rule=\"nonzero\" fill-opacity=\"1\" /><path clip-path=\"url(#clip440)\" d=\"M120.922 1361.08 L125.807 1361.08 L125.807 1366.96 L120.922 1366.96 L120.922 1361.08 Z\" fill=\"#000000\" fill-rule=\"nonzero\" fill-opacity=\"1\" /><path clip-path=\"url(#clip440)\" d=\"M145.992 1335.48 Q142.381 1335.48 140.552 1339.05 Q138.746 1342.59 138.746 1349.72 Q138.746 1356.82 140.552 1360.39 Q142.381 1363.93 145.992 1363.93 Q149.626 1363.93 151.431 1360.39 Q153.26 1356.82 153.26 1349.72 Q153.26 1342.59 151.431 1339.05 Q149.626 1335.48 145.992 1335.48 M145.992 1331.78 Q151.802 1331.78 154.857 1336.38 Q157.936 1340.97 157.936 1349.72 Q157.936 1358.44 154.857 1363.05 Q151.802 1367.63 145.992 1367.63 Q140.181 1367.63 137.103 1363.05 Q134.047 1358.44 134.047 1349.72 Q134.047 1340.97 137.103 1336.38 Q140.181 1331.78 145.992 1331.78 Z\" fill=\"#000000\" fill-rule=\"nonzero\" fill-opacity=\"1\" /><path clip-path=\"url(#clip440)\" d=\"M194.325 1341.5 L183.746 1352.13 L194.325 1362.7 L191.57 1365.51 L180.945 1354.88 L170.32 1365.51 L167.589 1362.7 L178.144 1352.13 L167.589 1341.5 L170.32 1338.7 L180.945 1349.32 L191.57 1338.7 L194.325 1341.5 Z\" fill=\"#000000\" fill-rule=\"nonzero\" fill-opacity=\"1\" /><path clip-path=\"url(#clip440)\" d=\"M206.686 1363.03 L214.325 1363.03 L214.325 1336.66 L206.014 1338.33 L206.014 1334.07 L214.278 1332.4 L218.954 1332.4 L218.954 1363.03 L226.593 1363.03 L226.593 1366.96 L206.686 1366.96 L206.686 1363.03 Z\" fill=\"#000000\" fill-rule=\"nonzero\" fill-opacity=\"1\" /><path clip-path=\"url(#clip440)\" d=\"M246.037 1335.48 Q242.426 1335.48 240.598 1339.05 Q238.792 1342.59 238.792 1349.72 Q238.792 1356.82 240.598 1360.39 Q242.426 1363.93 246.037 1363.93 Q249.672 1363.93 251.477 1360.39 Q253.306 1356.82 253.306 1349.72 Q253.306 1342.59 251.477 1339.05 Q249.672 1335.48 246.037 1335.48 M246.037 1331.78 Q251.848 1331.78 254.903 1336.38 Q257.982 1340.97 257.982 1349.72 Q257.982 1358.44 254.903 1363.05 Q251.848 1367.63 246.037 1367.63 Q240.227 1367.63 237.149 1363.05 Q234.093 1358.44 234.093 1349.72 Q234.093 1340.97 237.149 1336.38 Q240.227 1331.78 246.037 1331.78 Z\" fill=\"#000000\" fill-rule=\"nonzero\" fill-opacity=\"1\" /><path clip-path=\"url(#clip440)\" d=\"M257.982 1325.88 L282.093 1325.88 L282.093 1329.08 L257.982 1329.08 L257.982 1325.88 Z\" fill=\"#000000\" fill-rule=\"nonzero\" fill-opacity=\"1\" /><path clip-path=\"url(#clip440)\" d=\"M290.952 1336.36 L297.158 1336.36 L297.158 1314.93 L290.406 1316.29 L290.406 1312.83 L297.121 1311.47 L300.92 1311.47 L300.92 1336.36 L307.126 1336.36 L307.126 1339.55 L290.952 1339.55 L290.952 1336.36 Z\" fill=\"#000000\" fill-rule=\"nonzero\" fill-opacity=\"1\" /><path clip-path=\"url(#clip440)\" d=\"M325.238 1314.78 L315.646 1329.77 L325.238 1329.77 L325.238 1314.78 M324.242 1311.47 L329.019 1311.47 L329.019 1329.77 L333.025 1329.77 L333.025 1332.93 L329.019 1332.93 L329.019 1339.55 L325.238 1339.55 L325.238 1332.93 L312.562 1332.93 L312.562 1329.27 L324.242 1311.47 Z\" fill=\"#000000\" fill-rule=\"nonzero\" fill-opacity=\"1\" /><path clip-path=\"url(#clip440)\" d=\"M50.9921 1170.71 L80.6679 1170.71 L80.6679 1174.64 L50.9921 1174.64 L50.9921 1170.71 Z\" fill=\"#000000\" fill-rule=\"nonzero\" fill-opacity=\"1\" /><path clip-path=\"url(#clip440)\" d=\"M94.7882 1183.6 L111.108 1183.6 L111.108 1187.54 L89.1632 1187.54 L89.1632 1183.6 Q91.8252 1180.85 96.4085 1176.22 Q101.015 1171.57 102.196 1170.22 Q104.441 1167.7 105.321 1165.96 Q106.223 1164.2 106.223 1162.52 Q106.223 1159.76 104.279 1158.02 Q102.358 1156.29 99.2558 1156.29 Q97.0567 1156.29 94.603 1157.05 Q92.1725 1157.82 89.3947 1159.37 L89.3947 1154.64 Q92.2188 1153.51 94.6724 1152.93 Q97.1261 1152.35 99.1632 1152.35 Q104.534 1152.35 107.728 1155.04 Q110.922 1157.72 110.922 1162.21 Q110.922 1164.34 110.112 1166.27 Q109.325 1168.16 107.219 1170.76 Q106.64 1171.43 103.538 1174.64 Q100.436 1177.84 94.7882 1183.6 Z\" fill=\"#000000\" fill-rule=\"nonzero\" fill-opacity=\"1\" /><path clip-path=\"url(#clip440)\" d=\"M120.922 1181.66 L125.807 1181.66 L125.807 1187.54 L120.922 1187.54 L120.922 1181.66 Z\" fill=\"#000000\" fill-rule=\"nonzero\" fill-opacity=\"1\" /><path clip-path=\"url(#clip440)\" d=\"M145.992 1156.06 Q142.381 1156.06 140.552 1159.62 Q138.746 1163.16 138.746 1170.29 Q138.746 1177.4 140.552 1180.96 Q142.381 1184.51 145.992 1184.51 Q149.626 1184.51 151.431 1180.96 Q153.26 1177.4 153.26 1170.29 Q153.26 1163.16 151.431 1159.62 Q149.626 1156.06 145.992 1156.06 M145.992 1152.35 Q151.802 1152.35 154.857 1156.96 Q157.936 1161.54 157.936 1170.29 Q157.936 1179.02 154.857 1183.63 Q151.802 1188.21 145.992 1188.21 Q140.181 1188.21 137.103 1183.63 Q134.047 1179.02 134.047 1170.29 Q134.047 1161.54 137.103 1156.96 Q140.181 1152.35 145.992 1152.35 Z\" fill=\"#000000\" fill-rule=\"nonzero\" fill-opacity=\"1\" /><path clip-path=\"url(#clip440)\" d=\"M194.325 1162.08 L183.746 1172.7 L194.325 1183.28 L191.57 1186.08 L180.945 1175.45 L170.32 1186.08 L167.589 1183.28 L178.144 1172.7 L167.589 1162.08 L170.32 1159.27 L180.945 1169.9 L191.57 1159.27 L194.325 1162.08 Z\" fill=\"#000000\" fill-rule=\"nonzero\" fill-opacity=\"1\" /><path clip-path=\"url(#clip440)\" d=\"M206.686 1183.6 L214.325 1183.6 L214.325 1157.24 L206.014 1158.9 L206.014 1154.64 L214.278 1152.98 L218.954 1152.98 L218.954 1183.6 L226.593 1183.6 L226.593 1187.54 L206.686 1187.54 L206.686 1183.6 Z\" fill=\"#000000\" fill-rule=\"nonzero\" fill-opacity=\"1\" /><path clip-path=\"url(#clip440)\" d=\"M246.037 1156.06 Q242.426 1156.06 240.598 1159.62 Q238.792 1163.16 238.792 1170.29 Q238.792 1177.4 240.598 1180.96 Q242.426 1184.51 246.037 1184.51 Q249.672 1184.51 251.477 1180.96 Q253.306 1177.4 253.306 1170.29 Q253.306 1163.16 251.477 1159.62 Q249.672 1156.06 246.037 1156.06 M246.037 1152.35 Q251.848 1152.35 254.903 1156.96 Q257.982 1161.54 257.982 1170.29 Q257.982 1179.02 254.903 1183.63 Q251.848 1188.21 246.037 1188.21 Q240.227 1188.21 237.149 1183.63 Q234.093 1179.02 234.093 1170.29 Q234.093 1161.54 237.149 1156.96 Q240.227 1152.35 246.037 1152.35 Z\" fill=\"#000000\" fill-rule=\"nonzero\" fill-opacity=\"1\" /><path clip-path=\"url(#clip440)\" d=\"M257.982 1146.45 L282.093 1146.45 L282.093 1149.65 L257.982 1149.65 L257.982 1146.45 Z\" fill=\"#000000\" fill-rule=\"nonzero\" fill-opacity=\"1\" /><path clip-path=\"url(#clip440)\" d=\"M290.952 1156.93 L297.158 1156.93 L297.158 1135.51 L290.406 1136.86 L290.406 1133.4 L297.121 1132.05 L300.92 1132.05 L300.92 1156.93 L307.126 1156.93 L307.126 1160.13 L290.952 1160.13 L290.952 1156.93 Z\" fill=\"#000000\" fill-rule=\"nonzero\" fill-opacity=\"1\" /><path clip-path=\"url(#clip440)\" d=\"M325.238 1135.36 L315.646 1150.35 L325.238 1150.35 L325.238 1135.36 M324.242 1132.05 L329.019 1132.05 L329.019 1150.35 L333.025 1150.35 L333.025 1153.51 L329.019 1153.51 L329.019 1160.13 L325.238 1160.13 L325.238 1153.51 L312.562 1153.51 L312.562 1149.84 L324.242 1132.05 Z\" fill=\"#000000\" fill-rule=\"nonzero\" fill-opacity=\"1\" /><path clip-path=\"url(#clip440)\" d=\"M50.9921 991.284 L80.6679 991.284 L80.6679 995.219 L50.9921 995.219 L50.9921 991.284 Z\" fill=\"#000000\" fill-rule=\"nonzero\" fill-opacity=\"1\" /><path clip-path=\"url(#clip440)\" d=\"M91.5706 1004.18 L99.2095 1004.18 L99.2095 977.812 L90.8993 979.479 L90.8993 975.22 L99.1632 973.553 L103.839 973.553 L103.839 1004.18 L111.478 1004.18 L111.478 1008.11 L91.5706 1008.11 L91.5706 1004.18 Z\" fill=\"#000000\" fill-rule=\"nonzero\" fill-opacity=\"1\" /><path clip-path=\"url(#clip440)\" d=\"M120.922 1002.23 L125.807 1002.23 L125.807 1008.11 L120.922 1008.11 L120.922 1002.23 Z\" fill=\"#000000\" fill-rule=\"nonzero\" fill-opacity=\"1\" /><path clip-path=\"url(#clip440)\" d=\"M145.992 976.632 Q142.381 976.632 140.552 980.196 Q138.746 983.738 138.746 990.868 Q138.746 997.974 140.552 1001.54 Q142.381 1005.08 145.992 1005.08 Q149.626 1005.08 151.431 1001.54 Q153.26 997.974 153.26 990.868 Q153.26 983.738 151.431 980.196 Q149.626 976.632 145.992 976.632 M145.992 972.928 Q151.802 972.928 154.857 977.534 Q157.936 982.118 157.936 990.868 Q157.936 999.594 154.857 1004.2 Q151.802 1008.78 145.992 1008.78 Q140.181 1008.78 137.103 1004.2 Q134.047 999.594 134.047 990.868 Q134.047 982.118 137.103 977.534 Q140.181 972.928 145.992 972.928 Z\" fill=\"#000000\" fill-rule=\"nonzero\" fill-opacity=\"1\" /><path clip-path=\"url(#clip440)\" d=\"M194.325 982.65 L183.746 993.275 L194.325 1003.85 L191.57 1006.65 L180.945 996.03 L170.32 1006.65 L167.589 1003.85 L178.144 993.275 L167.589 982.65 L170.32 979.849 L180.945 990.474 L191.57 979.849 L194.325 982.65 Z\" fill=\"#000000\" fill-rule=\"nonzero\" fill-opacity=\"1\" /><path clip-path=\"url(#clip440)\" d=\"M206.686 1004.18 L214.325 1004.18 L214.325 977.812 L206.014 979.479 L206.014 975.22 L214.278 973.553 L218.954 973.553 L218.954 1004.18 L226.593 1004.18 L226.593 1008.11 L206.686 1008.11 L206.686 1004.18 Z\" fill=\"#000000\" fill-rule=\"nonzero\" fill-opacity=\"1\" /><path clip-path=\"url(#clip440)\" d=\"M246.037 976.632 Q242.426 976.632 240.598 980.196 Q238.792 983.738 238.792 990.868 Q238.792 997.974 240.598 1001.54 Q242.426 1005.08 246.037 1005.08 Q249.672 1005.08 251.477 1001.54 Q253.306 997.974 253.306 990.868 Q253.306 983.738 251.477 980.196 Q249.672 976.632 246.037 976.632 M246.037 972.928 Q251.848 972.928 254.903 977.534 Q257.982 982.118 257.982 990.868 Q257.982 999.594 254.903 1004.2 Q251.848 1008.78 246.037 1008.78 Q240.227 1008.78 237.149 1004.2 Q234.093 999.594 234.093 990.868 Q234.093 982.118 237.149 977.534 Q240.227 972.928 246.037 972.928 Z\" fill=\"#000000\" fill-rule=\"nonzero\" fill-opacity=\"1\" /><path clip-path=\"url(#clip440)\" d=\"M257.982 967.029 L282.093 967.029 L282.093 970.227 L257.982 970.227 L257.982 967.029 Z\" fill=\"#000000\" fill-rule=\"nonzero\" fill-opacity=\"1\" /><path clip-path=\"url(#clip440)\" d=\"M290.952 977.505 L297.158 977.505 L297.158 956.083 L290.406 957.437 L290.406 953.977 L297.121 952.622 L300.92 952.622 L300.92 977.505 L307.126 977.505 L307.126 980.702 L290.952 980.702 L290.952 977.505 Z\" fill=\"#000000\" fill-rule=\"nonzero\" fill-opacity=\"1\" /><path clip-path=\"url(#clip440)\" d=\"M325.238 955.933 L315.646 970.922 L325.238 970.922 L325.238 955.933 M324.242 952.622 L329.019 952.622 L329.019 970.922 L333.025 970.922 L333.025 974.082 L329.019 974.082 L329.019 980.702 L325.238 980.702 L325.238 974.082 L312.562 974.082 L312.562 970.415 L324.242 952.622 Z\" fill=\"#000000\" fill-rule=\"nonzero\" fill-opacity=\"1\" /><path clip-path=\"url(#clip440)\" d=\"M321.08 790.759 Q317.469 790.759 315.641 794.323 Q313.835 797.865 313.835 804.995 Q313.835 812.101 315.641 815.666 Q317.469 819.208 321.08 819.208 Q324.715 819.208 326.52 815.666 Q328.349 812.101 328.349 804.995 Q328.349 797.865 326.52 794.323 Q324.715 790.759 321.08 790.759 M321.08 787.055 Q326.891 787.055 329.946 791.661 Q333.025 796.245 333.025 804.995 Q333.025 813.722 329.946 818.328 Q326.891 822.911 321.08 822.911 Q315.27 822.911 312.192 818.328 Q309.136 813.722 309.136 804.995 Q309.136 796.245 312.192 791.661 Q315.27 787.055 321.08 787.055 Z\" fill=\"#000000\" fill-rule=\"nonzero\" fill-opacity=\"1\" /><path clip-path=\"url(#clip440)\" d=\"M91.5706 645.327 L99.2095 645.327 L99.2095 618.962 L90.8993 620.628 L90.8993 616.369 L99.1632 614.702 L103.839 614.702 L103.839 645.327 L111.478 645.327 L111.478 649.262 L91.5706 649.262 L91.5706 645.327 Z\" fill=\"#000000\" fill-rule=\"nonzero\" fill-opacity=\"1\" /><path clip-path=\"url(#clip440)\" d=\"M120.922 643.383 L125.807 643.383 L125.807 649.262 L120.922 649.262 L120.922 643.383 Z\" fill=\"#000000\" fill-rule=\"nonzero\" fill-opacity=\"1\" /><path clip-path=\"url(#clip440)\" d=\"M145.992 617.781 Q142.381 617.781 140.552 621.346 Q138.746 624.887 138.746 632.017 Q138.746 639.124 140.552 642.688 Q142.381 646.23 145.992 646.23 Q149.626 646.23 151.431 642.688 Q153.26 639.124 153.26 632.017 Q153.26 624.887 151.431 621.346 Q149.626 617.781 145.992 617.781 M145.992 614.077 Q151.802 614.077 154.857 618.684 Q157.936 623.267 157.936 632.017 Q157.936 640.744 154.857 645.35 Q151.802 649.934 145.992 649.934 Q140.181 649.934 137.103 645.35 Q134.047 640.744 134.047 632.017 Q134.047 623.267 137.103 618.684 Q140.181 614.077 145.992 614.077 Z\" fill=\"#000000\" fill-rule=\"nonzero\" fill-opacity=\"1\" /><path clip-path=\"url(#clip440)\" d=\"M194.325 623.8 L183.746 634.424 L194.325 645.003 L191.57 647.804 L180.945 637.179 L170.32 647.804 L167.589 645.003 L178.144 634.424 L167.589 623.8 L170.32 620.999 L180.945 631.624 L191.57 620.999 L194.325 623.8 Z\" fill=\"#000000\" fill-rule=\"nonzero\" fill-opacity=\"1\" /><path clip-path=\"url(#clip440)\" d=\"M206.686 645.327 L214.325 645.327 L214.325 618.962 L206.014 620.628 L206.014 616.369 L214.278 614.702 L218.954 614.702 L218.954 645.327 L226.593 645.327 L226.593 649.262 L206.686 649.262 L206.686 645.327 Z\" fill=\"#000000\" fill-rule=\"nonzero\" fill-opacity=\"1\" /><path clip-path=\"url(#clip440)\" d=\"M246.037 617.781 Q242.426 617.781 240.598 621.346 Q238.792 624.887 238.792 632.017 Q238.792 639.124 240.598 642.688 Q242.426 646.23 246.037 646.23 Q249.672 646.23 251.477 642.688 Q253.306 639.124 253.306 632.017 Q253.306 624.887 251.477 621.346 Q249.672 617.781 246.037 617.781 M246.037 614.077 Q251.848 614.077 254.903 618.684 Q257.982 623.267 257.982 632.017 Q257.982 640.744 254.903 645.35 Q251.848 649.934 246.037 649.934 Q240.227 649.934 237.149 645.35 Q234.093 640.744 234.093 632.017 Q234.093 623.267 237.149 618.684 Q240.227 614.077 246.037 614.077 Z\" fill=\"#000000\" fill-rule=\"nonzero\" fill-opacity=\"1\" /><path clip-path=\"url(#clip440)\" d=\"M257.982 608.179 L282.093 608.179 L282.093 611.376 L257.982 611.376 L257.982 608.179 Z\" fill=\"#000000\" fill-rule=\"nonzero\" fill-opacity=\"1\" /><path clip-path=\"url(#clip440)\" d=\"M290.952 618.655 L297.158 618.655 L297.158 597.233 L290.406 598.587 L290.406 595.126 L297.121 593.772 L300.92 593.772 L300.92 618.655 L307.126 618.655 L307.126 621.852 L290.952 621.852 L290.952 618.655 Z\" fill=\"#000000\" fill-rule=\"nonzero\" fill-opacity=\"1\" /><path clip-path=\"url(#clip440)\" d=\"M325.238 597.082 L315.646 612.072 L325.238 612.072 L325.238 597.082 M324.242 593.772 L329.019 593.772 L329.019 612.072 L333.025 612.072 L333.025 615.232 L329.019 615.232 L329.019 621.852 L325.238 621.852 L325.238 615.232 L312.562 615.232 L312.562 611.564 L324.242 593.772 Z\" fill=\"#000000\" fill-rule=\"nonzero\" fill-opacity=\"1\" /><path clip-path=\"url(#clip440)\" d=\"M94.7882 465.902 L111.108 465.902 L111.108 469.837 L89.1632 469.837 L89.1632 465.902 Q91.8252 463.147 96.4085 458.518 Q101.015 453.865 102.196 452.522 Q104.441 449.999 105.321 448.263 Q106.223 446.504 106.223 444.814 Q106.223 442.059 104.279 440.323 Q102.358 438.587 99.2558 438.587 Q97.0567 438.587 94.603 439.351 Q92.1725 440.115 89.3947 441.666 L89.3947 436.944 Q92.2188 435.81 94.6724 435.231 Q97.1261 434.652 99.1632 434.652 Q104.534 434.652 107.728 437.337 Q110.922 440.022 110.922 444.513 Q110.922 446.643 110.112 448.564 Q109.325 450.462 107.219 453.055 Q106.64 453.726 103.538 456.944 Q100.436 460.138 94.7882 465.902 Z\" fill=\"#000000\" fill-rule=\"nonzero\" fill-opacity=\"1\" /><path clip-path=\"url(#clip440)\" d=\"M120.922 463.958 L125.807 463.958 L125.807 469.837 L120.922 469.837 L120.922 463.958 Z\" fill=\"#000000\" fill-rule=\"nonzero\" fill-opacity=\"1\" /><path clip-path=\"url(#clip440)\" d=\"M145.992 438.356 Q142.381 438.356 140.552 441.921 Q138.746 445.462 138.746 452.592 Q138.746 459.698 140.552 463.263 Q142.381 466.805 145.992 466.805 Q149.626 466.805 151.431 463.263 Q153.26 459.698 153.26 452.592 Q153.26 445.462 151.431 441.921 Q149.626 438.356 145.992 438.356 M145.992 434.652 Q151.802 434.652 154.857 439.259 Q157.936 443.842 157.936 452.592 Q157.936 461.319 154.857 465.925 Q151.802 470.508 145.992 470.508 Q140.181 470.508 137.103 465.925 Q134.047 461.319 134.047 452.592 Q134.047 443.842 137.103 439.259 Q140.181 434.652 145.992 434.652 Z\" fill=\"#000000\" fill-rule=\"nonzero\" fill-opacity=\"1\" /><path clip-path=\"url(#clip440)\" d=\"M194.325 444.374 L183.746 454.999 L194.325 465.578 L191.57 468.379 L180.945 457.754 L170.32 468.379 L167.589 465.578 L178.144 454.999 L167.589 444.374 L170.32 441.573 L180.945 452.198 L191.57 441.573 L194.325 444.374 Z\" fill=\"#000000\" fill-rule=\"nonzero\" fill-opacity=\"1\" /><path clip-path=\"url(#clip440)\" d=\"M206.686 465.902 L214.325 465.902 L214.325 439.536 L206.014 441.203 L206.014 436.944 L214.278 435.277 L218.954 435.277 L218.954 465.902 L226.593 465.902 L226.593 469.837 L206.686 469.837 L206.686 465.902 Z\" fill=\"#000000\" fill-rule=\"nonzero\" fill-opacity=\"1\" /><path clip-path=\"url(#clip440)\" d=\"M246.037 438.356 Q242.426 438.356 240.598 441.921 Q238.792 445.462 238.792 452.592 Q238.792 459.698 240.598 463.263 Q242.426 466.805 246.037 466.805 Q249.672 466.805 251.477 463.263 Q253.306 459.698 253.306 452.592 Q253.306 445.462 251.477 441.921 Q249.672 438.356 246.037 438.356 M246.037 434.652 Q251.848 434.652 254.903 439.259 Q257.982 443.842 257.982 452.592 Q257.982 461.319 254.903 465.925 Q251.848 470.508 246.037 470.508 Q240.227 470.508 237.149 465.925 Q234.093 461.319 234.093 452.592 Q234.093 443.842 237.149 439.259 Q240.227 434.652 246.037 434.652 Z\" fill=\"#000000\" fill-rule=\"nonzero\" fill-opacity=\"1\" /><path clip-path=\"url(#clip440)\" d=\"M257.982 428.753 L282.093 428.753 L282.093 431.951 L257.982 431.951 L257.982 428.753 Z\" fill=\"#000000\" fill-rule=\"nonzero\" fill-opacity=\"1\" /><path clip-path=\"url(#clip440)\" d=\"M290.952 439.229 L297.158 439.229 L297.158 417.807 L290.406 419.162 L290.406 415.701 L297.121 414.347 L300.92 414.347 L300.92 439.229 L307.126 439.229 L307.126 442.427 L290.952 442.427 L290.952 439.229 Z\" fill=\"#000000\" fill-rule=\"nonzero\" fill-opacity=\"1\" /><path clip-path=\"url(#clip440)\" d=\"M325.238 417.657 L315.646 432.647 L325.238 432.647 L325.238 417.657 M324.242 414.347 L329.019 414.347 L329.019 432.647 L333.025 432.647 L333.025 435.806 L329.019 435.806 L329.019 442.427 L325.238 442.427 L325.238 435.806 L312.562 435.806 L312.562 432.139 L324.242 414.347 Z\" fill=\"#000000\" fill-rule=\"nonzero\" fill-opacity=\"1\" /><path clip-path=\"url(#clip440)\" d=\"M104.927 271.778 Q108.283 272.495 110.158 274.764 Q112.057 277.032 112.057 280.366 Q112.057 285.481 108.538 288.282 Q105.02 291.083 98.5382 291.083 Q96.3623 291.083 94.0475 290.643 Q91.7558 290.227 89.3021 289.37 L89.3021 284.856 Q91.2465 285.991 93.5613 286.569 Q95.8761 287.148 98.3993 287.148 Q102.797 287.148 105.089 285.412 Q107.404 283.676 107.404 280.366 Q107.404 277.31 105.251 275.597 Q103.121 273.861 99.3021 273.861 L95.2743 273.861 L95.2743 270.018 L99.4872 270.018 Q102.936 270.018 104.765 268.653 Q106.594 267.264 106.594 264.671 Q106.594 262.009 104.696 260.597 Q102.821 259.162 99.3021 259.162 Q97.3808 259.162 95.1817 259.579 Q92.9826 259.995 90.3438 260.875 L90.3438 256.708 Q93.0058 255.968 95.3206 255.597 Q97.6585 255.227 99.7187 255.227 Q105.043 255.227 108.145 257.657 Q111.246 260.065 111.246 264.185 Q111.246 267.056 109.603 269.046 Q107.959 271.014 104.927 271.778 Z\" fill=\"#000000\" fill-rule=\"nonzero\" fill-opacity=\"1\" /><path clip-path=\"url(#clip440)\" d=\"M120.922 284.532 L125.807 284.532 L125.807 290.412 L120.922 290.412 L120.922 284.532 Z\" fill=\"#000000\" fill-rule=\"nonzero\" fill-opacity=\"1\" /><path clip-path=\"url(#clip440)\" d=\"M145.992 258.931 Q142.381 258.931 140.552 262.495 Q138.746 266.037 138.746 273.167 Q138.746 280.273 140.552 283.838 Q142.381 287.379 145.992 287.379 Q149.626 287.379 151.431 283.838 Q153.26 280.273 153.26 273.167 Q153.26 266.037 151.431 262.495 Q149.626 258.931 145.992 258.931 M145.992 255.227 Q151.802 255.227 154.857 259.833 Q157.936 264.417 157.936 273.167 Q157.936 281.893 154.857 286.5 Q151.802 291.083 145.992 291.083 Q140.181 291.083 137.103 286.5 Q134.047 281.893 134.047 273.167 Q134.047 264.417 137.103 259.833 Q140.181 255.227 145.992 255.227 Z\" fill=\"#000000\" fill-rule=\"nonzero\" fill-opacity=\"1\" /><path clip-path=\"url(#clip440)\" d=\"M194.325 264.949 L183.746 275.574 L194.325 286.153 L191.57 288.954 L180.945 278.329 L170.32 288.954 L167.589 286.153 L178.144 275.574 L167.589 264.949 L170.32 262.148 L180.945 272.773 L191.57 262.148 L194.325 264.949 Z\" fill=\"#000000\" fill-rule=\"nonzero\" fill-opacity=\"1\" /><path clip-path=\"url(#clip440)\" d=\"M206.686 286.477 L214.325 286.477 L214.325 260.111 L206.014 261.778 L206.014 257.519 L214.278 255.852 L218.954 255.852 L218.954 286.477 L226.593 286.477 L226.593 290.412 L206.686 290.412 L206.686 286.477 Z\" fill=\"#000000\" fill-rule=\"nonzero\" fill-opacity=\"1\" /><path clip-path=\"url(#clip440)\" d=\"M246.037 258.931 Q242.426 258.931 240.598 262.495 Q238.792 266.037 238.792 273.167 Q238.792 280.273 240.598 283.838 Q242.426 287.379 246.037 287.379 Q249.672 287.379 251.477 283.838 Q253.306 280.273 253.306 273.167 Q253.306 266.037 251.477 262.495 Q249.672 258.931 246.037 258.931 M246.037 255.227 Q251.848 255.227 254.903 259.833 Q257.982 264.417 257.982 273.167 Q257.982 281.893 254.903 286.5 Q251.848 291.083 246.037 291.083 Q240.227 291.083 237.149 286.5 Q234.093 281.893 234.093 273.167 Q234.093 264.417 237.149 259.833 Q240.227 255.227 246.037 255.227 Z\" fill=\"#000000\" fill-rule=\"nonzero\" fill-opacity=\"1\" /><path clip-path=\"url(#clip440)\" d=\"M257.982 249.328 L282.093 249.328 L282.093 252.526 L257.982 252.526 L257.982 249.328 Z\" fill=\"#000000\" fill-rule=\"nonzero\" fill-opacity=\"1\" /><path clip-path=\"url(#clip440)\" d=\"M290.952 259.804 L297.158 259.804 L297.158 238.382 L290.406 239.736 L290.406 236.276 L297.121 234.921 L300.92 234.921 L300.92 259.804 L307.126 259.804 L307.126 263.001 L290.952 263.001 L290.952 259.804 Z\" fill=\"#000000\" fill-rule=\"nonzero\" fill-opacity=\"1\" /><path clip-path=\"url(#clip440)\" d=\"M325.238 238.232 L315.646 253.221 L325.238 253.221 L325.238 238.232 M324.242 234.921 L329.019 234.921 L329.019 253.221 L333.025 253.221 L333.025 256.381 L329.019 256.381 L329.019 263.001 L325.238 263.001 L325.238 256.381 L312.562 256.381 L312.562 252.714 L324.242 234.921 Z\" fill=\"#000000\" fill-rule=\"nonzero\" fill-opacity=\"1\" /><path clip-path=\"url(#clip440)\" d=\"M1187.31 18.8205 L1187.31 41.5461 L1197.6 41.5461 Q1203.31 41.5461 1206.43 38.5889 Q1209.55 35.6318 1209.55 30.163 Q1209.55 24.7348 1206.43 21.7777 Q1203.31 18.8205 1197.6 18.8205 L1187.31 18.8205 M1179.13 12.096 L1197.6 12.096 Q1207.77 12.096 1212.95 16.714 Q1218.18 21.2916 1218.18 30.163 Q1218.18 39.1155 1212.95 43.6931 Q1207.77 48.2706 1197.6 48.2706 L1187.31 48.2706 L1187.31 72.576 L1179.13 72.576 L1179.13 12.096 Z\" fill=\"#000000\" fill-rule=\"nonzero\" fill-opacity=\"1\" /><path clip-path=\"url(#clip440)\" d=\"M1228.83 9.54393 L1236.28 9.54393 L1236.28 72.576 L1228.83 72.576 L1228.83 9.54393 Z\" fill=\"#000000\" fill-rule=\"nonzero\" fill-opacity=\"1\" /><path clip-path=\"url(#clip440)\" d=\"M1269.46 32.4315 Q1263.47 32.4315 1259.98 37.1306 Q1256.5 41.7891 1256.5 49.9314 Q1256.5 58.0738 1259.94 62.7728 Q1263.43 67.4314 1269.46 67.4314 Q1275.42 67.4314 1278.9 62.7323 Q1282.38 58.0333 1282.38 49.9314 Q1282.38 41.8701 1278.9 37.1711 Q1275.42 32.4315 1269.46 32.4315 M1269.46 26.1121 Q1279.18 26.1121 1284.73 32.4315 Q1290.28 38.7509 1290.28 49.9314 Q1290.28 61.0714 1284.73 67.4314 Q1279.18 73.7508 1269.46 73.7508 Q1259.7 73.7508 1254.15 67.4314 Q1248.64 61.0714 1248.64 49.9314 Q1248.64 38.7509 1254.15 32.4315 Q1259.7 26.1121 1269.46 26.1121 Z\" fill=\"#000000\" fill-rule=\"nonzero\" fill-opacity=\"1\" /><path clip-path=\"url(#clip440)\" d=\"M1310.01 14.324 L1310.01 27.2059 L1325.36 27.2059 L1325.36 32.9987 L1310.01 32.9987 L1310.01 57.6282 Q1310.01 63.1779 1311.51 64.7578 Q1313.05 66.3376 1317.71 66.3376 L1325.36 66.3376 L1325.36 72.576 L1317.71 72.576 Q1309.08 72.576 1305.8 69.3758 Q1302.52 66.1351 1302.52 57.6282 L1302.52 32.9987 L1297.05 32.9987 L1297.05 27.2059 L1302.52 27.2059 L1302.52 14.324 L1310.01 14.324 Z\" fill=\"#000000\" fill-rule=\"nonzero\" fill-opacity=\"1\" /><path clip-path=\"url(#clip440)\" d=\"M1386.41 17.6457 Q1377.5 17.6457 1372.23 24.2892 Q1367.01 30.9327 1367.01 42.3968 Q1367.01 53.8203 1372.23 60.4638 Q1377.5 67.1073 1386.41 67.1073 Q1395.32 67.1073 1400.51 60.4638 Q1405.73 53.8203 1405.73 42.3968 Q1405.73 30.9327 1400.51 24.2892 Q1395.32 17.6457 1386.41 17.6457 M1397.88 71.4823 L1408.65 83.2704 L1398.77 83.2704 L1389.81 73.5887 Q1388.48 73.6697 1387.75 73.7103 Q1387.06 73.7508 1386.41 73.7508 Q1373.65 73.7508 1365.99 65.2439 Q1358.38 56.6965 1358.38 42.3968 Q1358.38 28.0566 1365.99 19.5497 Q1373.65 11.0023 1386.41 11.0023 Q1399.13 11.0023 1406.75 19.5497 Q1414.36 28.0566 1414.36 42.3968 Q1414.36 52.9291 1410.11 60.4233 Q1405.9 67.9175 1397.88 71.4823 Z\" fill=\"#000000\" fill-rule=\"nonzero\" fill-opacity=\"1\" /><path clip-path=\"url(#clip440)\" d=\"M1450.37 19.2256 L1429.72 51.5113 L1450.37 51.5113 L1450.37 19.2256 M1448.23 12.096 L1458.52 12.096 L1458.52 51.5113 L1467.15 51.5113 L1467.15 58.3168 L1458.52 58.3168 L1458.52 72.576 L1450.37 72.576 L1450.37 58.3168 L1423.07 58.3168 L1423.07 50.4176 L1448.23 12.096 Z\" fill=\"#000000\" fill-rule=\"nonzero\" fill-opacity=\"1\" /><path clip-path=\"url(#clip440)\" d=\"M1480.68 62.2867 L1489.22 62.2867 L1489.22 72.576 L1480.68 72.576 L1480.68 62.2867 Z\" fill=\"#000000\" fill-rule=\"nonzero\" fill-opacity=\"1\" /><path clip-path=\"url(#clip440)\" d=\"M1514.1 65.6895 L1542.65 65.6895 L1542.65 72.576 L1504.25 72.576 L1504.25 65.6895 Q1508.91 60.8689 1516.93 52.7671 Q1524.99 44.6248 1527.06 42.2752 Q1530.99 37.8598 1532.53 34.8216 Q1534.11 31.7429 1534.11 28.7857 Q1534.11 23.9651 1530.7 20.927 Q1527.34 17.8888 1521.91 17.8888 Q1518.07 17.8888 1513.77 19.2256 Q1509.52 20.5624 1504.66 23.2765 L1504.66 15.0127 Q1509.6 13.0277 1513.89 12.015 Q1518.19 11.0023 1521.75 11.0023 Q1531.15 11.0023 1536.74 15.7013 Q1542.33 20.4004 1542.33 28.2591 Q1542.33 31.9859 1540.91 35.3482 Q1539.54 38.6699 1535.85 43.2069 Q1534.84 44.3817 1529.41 50.0125 Q1523.98 55.6027 1514.1 65.6895 Z\" fill=\"#000000\" fill-rule=\"nonzero\" fill-opacity=\"1\" /><polyline clip-path=\"url(#clip442)\" style=\"stroke:#009af9; stroke-linecap:round; stroke-linejoin:round; stroke-width:4; stroke-opacity:1; fill:none\" points=\"425.168,1447.87 503.145,1154.61 581.122,984.385 659.099,890.779 737.076,842.588 815.052,819.736 893.029,809.983 971.006,806.362 1048.98,805.254 1126.96,804.999 1204.94,804.962 1282.91,804.96 1360.89,804.96 1438.87,804.96 1516.84,804.958 1594.82,804.921 1672.8,804.666 1750.77,803.558 1828.75,799.937 1906.73,790.184 1984.71,767.332 2062.68,719.141 2140.66,625.535 2218.64,455.311 2296.61,162.047 \"/>\n",
       "<path clip-path=\"url(#clip440)\" d=\"M435.149 272.585 L685.953 272.585 L685.953 168.905 L435.149 168.905  Z\" fill=\"#ffffff\" fill-rule=\"evenodd\" fill-opacity=\"1\"/>\n",
       "<polyline clip-path=\"url(#clip440)\" style=\"stroke:#000000; stroke-linecap:round; stroke-linejoin:round; stroke-width:4; stroke-opacity:1; fill:none\" points=\"435.149,272.585 685.953,272.585 685.953,168.905 435.149,168.905 435.149,272.585 \"/>\n",
       "<polyline clip-path=\"url(#clip440)\" style=\"stroke:#009af9; stroke-linecap:round; stroke-linejoin:round; stroke-width:4; stroke-opacity:1; fill:none\" points=\"457.191,220.745 589.439,220.745 \"/>\n",
       "<path clip-path=\"url(#clip440)\" d=\"M625.323 240.432 Q623.518 245.062 621.805 246.474 Q620.092 247.886 617.221 247.886 L613.819 247.886 L613.819 244.321 L616.319 244.321 Q618.078 244.321 619.05 243.488 Q620.022 242.654 621.203 239.552 L621.967 237.608 L611.481 212.099 L615.995 212.099 L624.096 232.377 L632.198 212.099 L636.712 212.099 L625.323 240.432 Z\" fill=\"#000000\" fill-rule=\"nonzero\" fill-opacity=\"1\" /><path clip-path=\"url(#clip440)\" d=\"M644.004 234.089 L651.643 234.089 L651.643 207.724 L643.332 209.391 L643.332 205.131 L651.596 203.465 L656.272 203.465 L656.272 234.089 L663.911 234.089 L663.911 238.025 L644.004 238.025 L644.004 234.089 Z\" fill=\"#000000\" fill-rule=\"nonzero\" fill-opacity=\"1\" /></svg>\n"
      ]
     },
     "execution_count": 65,
     "metadata": {},
     "output_type": "execute_result"
    }
   ],
   "source": [
    "Plots.plot(x, y, title = \"Plot Q4.2\")"
   ]
  },
  {
   "cell_type": "markdown",
   "metadata": {},
   "source": [
    "### Q4.3 "
   ]
  },
  {
   "cell_type": "markdown",
   "metadata": {},
   "source": [
    "By comparing the plots in Q4.1 and Q4.2, we can obtain that the curve in Q4.2 is much smoother than the one in Q4.1. The reason should be the rounding precision for floating numbers, as in Q4.1 we are calculating the value of y partwisely, while in Q4.2, we are calculate it as a whole. When doing the computation in parts, different part will result in different rounding precision, hence the final results will be unprecise at the last several digits."
   ]
  },
  {
   "cell_type": "markdown",
   "metadata": {},
   "source": [
    "## Q5. Woodbury formula\n",
    "\n",
    "Demonstrate the following results in Julia (one numerical example for each fact). Mathematically curious ones are encouraged to prove them. \n",
    "\n",
    "1. **Sherman-Morrison formula**:\n",
    "$$\n",
    "\t(\\mathbf{A} + \\mathbf{u} \\mathbf{u}^T)^{-1} = \\mathbf{A}^{-1} - \\frac{1}{1 + \\mathbf{u}^T \\mathbf{A}^{-1} \\mathbf{u}} \\mathbf{A}^{-1} \\mathbf{u} \\mathbf{u}^T \\mathbf{A}^{-1},\n",
    "$$\n",
    "where $\\mathbf{A} \\in \\mathbb{R}^{n \\times n}$ is nonsingular and $\\mathbf{u} \\in \\mathbb{R}^n$. This formula supplies the inverse of the symmetric, rank-one  perturbation of $\\mathbf{A}$.\n",
    "\n",
    "2. **Woodbury formula**:\n",
    "$$\n",
    "\t(\\mathbf{A} + \\mathbf{U} \\mathbf{V}^T)^{-1} = \\mathbf{A}^{-1} - \\mathbf{A}^{-1} \\mathbf{U} (\\mathbf{I}_m + \\mathbf{V}^T \\mathbf{A}^{-1} \\mathbf{U})^{-1} \\mathbf{V}^T \\mathbf{A}^{-1},\n",
    "$$\n",
    "where $\\mathbf{A} \\in \\mathbb{R}^{n \\times n}$ is nonsingular, $\\mathbf{U}, \\mathbf{V} \\in \\mathbb{R}^{n \\times m}$, and $\\mathbf{I}_m$ is the $m \\times m$ identity matrix. In many applications $m$ is much smaller than $n$. Woodbury formula generalizes Sherman-Morrison and is valuable because the smaller matrix $\\mathbf{I}_m + \\mathbf{V}^T \\mathbf{A}^{-1} \\mathbf{U}$ is cheaper to invert than the larger matrix $\\mathbf{A} + \\mathbf{U} \\mathbf{V}^T$.\n",
    "\n",
    "3. **Binomial inversion formula**:\n",
    "$$\n",
    "\t(\\mathbf{A} + \\mathbf{U} \\mathbf{B} \\mathbf{V}^T)^{-1} = \\mathbf{A}^{-1} - \\mathbf{A}^{-1} \\mathbf{U} (\\mathbf{B}^{-1} + \\mathbf{V}^T \\mathbf{A}^{-1} \\mathbf{U})^{-1} \\mathbf{V}^T \\mathbf{A}^{-1},\n",
    "$$\n",
    "where $\\mathbf{A}$ and $\\mathbf{B}$ are nonsingular.\n",
    "\n",
    "4. **Determinant identity**:\n",
    "$$\n",
    "\t\\text{det}(\\mathbf{A} + \\mathbf{U} \\mathbf{V}^T) = \\text{det}(\\mathbf{A}) \\text{det}(\\mathbf{I}_m + \\mathbf{V}^T \\mathbf{A}^{-1} \\mathbf{U}).\n",
    "$$\n",
    "This formula is useful for evaluating the density of a multivariate normal with covariance matrix $\\mathbf{A} + \\mathbf{U} \\mathbf{V}^T$."
   ]
  },
  {
   "cell_type": "markdown",
   "metadata": {},
   "source": [
    "## Q6. Triangular matrix and orthogonal matrix\n",
    "\n",
    "Demonstrate the following facts about triangular and orthogonal matrices in Julia (one numerical example for each fact). Mathematically curious ones are encouraged to prove them. \n",
    "\n",
    "Note a unit triangular matrix is a triangular matrix with all diagonal entries being 1.\n",
    "\n",
    "1. The product of two upper (lower) triangular matrices is upper (lower) triangular.\n",
    "\n",
    "2. The inverse of an upper (lower) triangular matrix is upper (lower) triangular.\n",
    "\n",
    "3. The product of two unit upper (lower) triangular matrices is unit upper (lower) triangular.\n",
    "\n",
    "4. The inverse of a unit upper (lower) triangular matrix is unit upper (lower) triangular.\n",
    "\n",
    "5. An orthogonal upper (lower) triangular matrix is diagonal. (You just need to prove this.)\n",
    "\n",
    "6. The product of two orthogonal matrices is orthogonal."
   ]
  },
  {
   "cell_type": "markdown",
   "metadata": {},
   "source": [
    "## Q7. Looping\n",
    "\n",
    "Let the $n \\times n$ matrix `H` have elements `H[i, j] = 1 / (i + j - 1)`.  \n",
    "\n",
    "1. Write a function `h(n)` that outputs $n \\times n$ matrix `H`. Try at least 4 ways, e.g., $ij$-looping, $ji$-looping, [comprehension](https://docs.julialang.org/en/v1/manual/arrays/#man-comprehensions), and vectorization (R style). Compute and print `H` for `n = 5`.   \n",
    "\n",
    "2. Compare their speed and memory efficiencies using `BenchmarkTools.jl` at `n = 5000`."
   ]
  }
 ],
 "metadata": {
  "jupytext": {
   "formats": "ipynb,qmd"
  },
  "kernelspec": {
   "display_name": "Julia 1.10.2",
   "language": "julia",
   "name": "julia-1.10"
  },
  "language_info": {
   "file_extension": ".jl",
   "mimetype": "application/julia",
   "name": "julia",
   "version": "1.10.2"
  },
  "toc": {
   "colors": {
    "hover_highlight": "#DAA520",
    "running_highlight": "#FF0000",
    "selected_highlight": "#FFD700"
   },
   "moveMenuLeft": true,
   "nav_menu": {
    "height": "153px",
    "width": "252px"
   },
   "navigate_menu": true,
   "number_sections": false,
   "sideBar": true,
   "skip_h1_title": true,
   "threshold": 4,
   "toc_cell": false,
   "toc_section_display": "block",
   "toc_window_display": true,
   "widenNotebook": false
  },
  "toc-autonumbering": false
 },
 "nbformat": 4,
 "nbformat_minor": 4
}
