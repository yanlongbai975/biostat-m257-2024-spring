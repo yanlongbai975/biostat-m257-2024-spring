{
 "cells": [
  {
   "cell_type": "raw",
   "metadata": {
    "vscode": {
     "languageId": "raw"
    }
   },
   "source": [
    "---\n",
    "title: Biostat/Biomath M257 Homework 2\n",
    "subtitle: 'Due Apr 26 @ 11:59PM'\n",
    "author: Yanlong Bai 605667857\n",
    "date: today\n",
    "format:\n",
    "  html:\n",
    "    theme: cosmo\n",
    "    embed-resources: true\n",
    "    number-sections: true\n",
    "    toc: true\n",
    "    toc-depth: 4\n",
    "    toc-location: left\n",
    "---"
   ]
  },
  {
   "cell_type": "markdown",
   "metadata": {},
   "source": [
    "System information (for reproducibility):"
   ]
  },
  {
   "cell_type": "code",
   "execution_count": 6,
   "metadata": {
    "tags": []
   },
   "outputs": [
    {
     "name": "stdout",
     "output_type": "stream",
     "text": [
      "Julia Version 1.10.2\n",
      "Commit bd47eca2c8a (2024-03-01 10:14 UTC)\n",
      "Build Info:\n",
      "  Official https://julialang.org/ release\n",
      "Platform Info:\n",
      "  OS: macOS (x86_64-apple-darwin22.4.0)\n",
      "  CPU: 12 × Intel(R) Core(TM) i7-8750H CPU @ 2.20GHz\n",
      "  WORD_SIZE: 64\n",
      "  LIBM: libopenlibm\n",
      "  LLVM: libLLVM-15.0.7 (ORCJIT, skylake)\n",
      "Threads: 1 default, 0 interactive, 1 GC (on 12 virtual cores)\n"
     ]
    }
   ],
   "source": [
    "versioninfo()"
   ]
  },
  {
   "cell_type": "markdown",
   "metadata": {},
   "source": [
    "Load packages:"
   ]
  },
  {
   "cell_type": "code",
   "execution_count": 7,
   "metadata": {
    "tags": []
   },
   "outputs": [
    {
     "name": "stderr",
     "output_type": "stream",
     "text": [
      "\u001b[32m\u001b[1m  Activating\u001b[22m\u001b[39m project at `~/Documents/GitHub/biostat-m257-2024-spring/hw2`\n"
     ]
    },
    {
     "name": "stdout",
     "output_type": "stream",
     "text": [
      "\u001b[32m\u001b[1mStatus\u001b[22m\u001b[39m `~/Documents/GitHub/biostat-m257-2024-spring/hw2/Project.toml`\n",
      "  \u001b[90m[6e4b80f9] \u001b[39mBenchmarkTools v1.5.0\n",
      "  \u001b[90m[8bb1440f] \u001b[39mDelimitedFiles v1.9.1\n",
      "  \u001b[90m[7073ff75] \u001b[39mIJulia v1.24.2\n",
      "  \u001b[90m[916415d5] \u001b[39mImages v0.26.1\n",
      "  \u001b[90m[bdcacae8] \u001b[39mLoopVectorization v0.12.169\n",
      "  \u001b[90m[08abe8d2] \u001b[39mPrettyTables v2.3.1\n",
      "  \u001b[90m[37e2e46d] \u001b[39mLinearAlgebra\n",
      "  \u001b[90m[9abbd945] \u001b[39mProfile\n"
     ]
    }
   ],
   "source": [
    "using Pkg\n",
    "#Pkg.resolve()\n",
    "#Pkg.update()\n",
    "Pkg.activate(pwd())\n",
    "Pkg.instantiate()\n",
    "Pkg.status()\n"
   ]
  },
  {
   "cell_type": "code",
   "execution_count": 8,
   "metadata": {
    "tags": []
   },
   "outputs": [],
   "source": [
    "# load libraries\n",
    "using BenchmarkTools, DelimitedFiles, Images, LinearAlgebra, LoopVectorization\n",
    "using Profile, Random"
   ]
  },
  {
   "cell_type": "markdown",
   "metadata": {},
   "source": [
    "## Q1. Nonnegative Matrix Factorization\n",
    "\n",
    "Nonnegative matrix factorization (NNMF) was introduced by [Lee and Seung (1999)](https://www.nature.com/articles/44565) as an alternative to principal components and vector quantization with applications in data compression, clustering, and deconvolution. In this homework we consider algorithms for fitting NNMF and (optionally) high performance computing using graphical processing units (GPUs).\n",
    "\n",
    "<img src=\"./nnmf.png\" width=\"500\" align=\"center\"/>\n",
    "\n",
    "In mathematical terms, one approximates a data matrix $\\mathbf{X} \\in \\mathbb{R}^{m \\times n}$ with nonnegative entries $x_{ij}$ by a product of two low-rank matrices $\\mathbf{V} \\in \\mathbb{R}^{m \\times r}$ and $\\mathbf{W} \\in \\mathbb{R}^{r \\times n}$ with nonnegative entries $v_{ik}$ and $w_{kj}$. Consider minimization of the squared Frobenius norm\n",
    "$$\n",
    "L(\\mathbf{V}, \\mathbf{W}) = \\|\\mathbf{X} - \\mathbf{V} \\mathbf{W}\\|_{\\text{F}}^2 = \\sum_i \\sum_j \\left(x_{ij} - \\sum_k v_{ik} w_{kj} \\right)^2, \\quad v_{ik} \\ge 0, w_{kj} \\ge 0,\n",
    "$$\n",
    "which should lead to a good factorization. Lee and Seung suggest an iterative algorithm with multiplicative updates\n",
    "$$\n",
    "v_{ik}^{(t+1)} = v_{ik}^{(t)} \\frac{\\sum_j x_{ij} w_{kj}^{(t)}}{\\sum_j b_{ij}^{(t)} w_{kj}^{(t)}}, \\quad \\text{where } b_{ij}^{(t)} = \\sum_k v_{ik}^{(t)} w_{kj}^{(t)},\n",
    "$$\n",
    "$$\n",
    "w_{kj}^{(t+1)} = w_{kj}^{(t)} \\frac{\\sum_i x_{ij} v_{ik}^{(t+1)}}{\\sum_i b_{ij}^{(t+1/2)} v_{ik}^{(t+1)}}, \\quad \\text{where } b_{ij}^{(t+1/2)} = \\sum_k v_{ik}^{(t+1)} w_{kj}^{(t)}\n",
    "$$\n",
    "that will drive the objective $L^{(t)} = L(\\mathbf{V}^{(t)}, \\mathbf{W}^{(t)})$ downhill. Superscript $t$ indicates the iteration number. In following questions, efficiency (both speed and memory) will be the most important criterion when grading this problem."
   ]
  },
  {
   "cell_type": "markdown",
   "metadata": {},
   "source": [
    "### Q1.1 Develop code\n",
    "\n",
    "Implement the algorithm with arguments: $\\mathbf{X}$ (data, each row is a vectorized image), rank $r$, convergence tolerance, and optional starting point."
   ]
  },
  {
   "cell_type": "markdown",
   "metadata": {},
   "source": [
    "### Solution"
   ]
  },
  {
   "cell_type": "code",
   "execution_count": 9,
   "metadata": {
    "tags": []
   },
   "outputs": [
    {
     "data": {
      "text/plain": [
       "nnmf (generic function with 1 method)"
      ]
     },
     "execution_count": 9,
     "metadata": {},
     "output_type": "execute_result"
    }
   ],
   "source": [
    "function nnmf(\n",
    "    # positional arguments\n",
    "    X       :: AbstractMatrix{T}, \n",
    "    r       :: Integer;\n",
    "    # kw arguments\n",
    "    XtX     :: Number = dot(X, X),\n",
    "    maxiter :: Integer = 1000, \n",
    "    tolfun  :: Number = 1e-4,\n",
    "    V       :: AbstractMatrix{T} = Random.rand!(similar(X, size(X, 1), r)),\n",
    "    W       :: AbstractMatrix{T} = Random.rand!(similar(X, r, size(X, 2))),\n",
    "    XWt     :: AbstractMatrix{T} = zeros(size(X, 1), r),\n",
    "    BWt     :: AbstractMatrix{T} = zeros(size(X, 1), r),\n",
    "    VtX     :: AbstractMatrix{T} = zeros(r, size(X, 2)),\n",
    "    VtB     :: AbstractMatrix{T} = zeros(r, size(X, 2)),\n",
    "    VtV     :: AbstractMatrix{T} = zeros(r, r),\n",
    "    WWt     :: AbstractMatrix{T} = zeros(r, r),    \n",
    "    obj     :: Number = 0,\n",
    "    obj_old :: Number = 0\n",
    "    ) where T <: AbstractFloat\n",
    "    # TODO: implementation\n",
    "    # TODO: obj at start point \n",
    "    #input the start value of obj manully or just use 0.\n",
    "    \n",
    "    # TODO: Loop\n",
    "    niter = 0\n",
    "    for iter in 1:maxiter\n",
    "        # update V\n",
    "        mul!(XWt, X, transpose(W))\n",
    "        \n",
    "        mul!(BWt, V, mul!(WWt, W, transpose(W)))\n",
    "        \n",
    "        V .= V .* ((XWt) ./ (BWt))\n",
    "        \n",
    "        # update W\n",
    "        mul!(VtX, transpose(V), X)\n",
    "        mul!(VtB, mul!(VtV, transpose(V), V), W)\n",
    "        W .= W .* ((VtX) ./ (VtB))\n",
    "        \n",
    "        #make a copy of old obj\n",
    "        obj_old = copy(obj)\n",
    "        \n",
    "        # update obj\n",
    "        #Note that W is updated, so we need to update VtB as well.\n",
    "        mul!(VtB, VtV, W)\n",
    "        #obj = XtX + tr(transpose(W) * VtB) - 2 * tr(transpose(W) * VtX)\n",
    "        obj = XtX + dot(W, VtB) - 2 * dot(W, VtX)\n",
    "        \n",
    "        # convergence check\n",
    "        if abs(obj - obj_old) < tolfun * (abs(obj_old) + 1)\n",
    "            niter = iter\n",
    "            break\n",
    "        end\n",
    "    end\n",
    "    # Output\n",
    "    V, W, obj, niter\n",
    "end"
   ]
  },
  {
   "cell_type": "markdown",
   "metadata": {},
   "source": [
    "### Q1.2 Data\n",
    "\n",
    "Database 1 from the [MIT Center for Biological and Computational Learning (CBCL)](http://cbcl.mit.edu/software-datasets/FaceData2.html) reduces to a matrix $\\mathbf{X}$ containing $m = 2,429$ gray-scale face images with $n = 19 \\times 19 = 361$ pixels per face. Each image (row) is scaled to have mean and standard deviation 0.25.  \n",
    "\n",
    "Read in the [`nnmf-2429-by-361-face.txt`](https://raw.githubusercontent.com/ucla-biostat-257/2024spring/master/hw/hw2/nnmf-2429-by-361-face.txt) file, e.g., using [`readdlm`](https://docs.julialang.org/en/v1/stdlib/DelimitedFiles/#Delimited-Files) function, and display a couple of sample images, e.g., using the [Images.jl](https://juliaimages.org/stable/) package."
   ]
  },
  {
   "cell_type": "markdown",
   "metadata": {},
   "source": [
    "### Solution"
   ]
  },
  {
   "cell_type": "code",
   "execution_count": 10,
   "metadata": {
    "tags": []
   },
   "outputs": [
    {
     "name": "stdout",
     "output_type": "stream",
     "text": [
      "(2429, 361)\n"
     ]
    },
    {
     "data": {
      "image/png": "[encoded data removed]",
      "text/html": [
       "<img src=\"data:image/png;base64,iVBORw0KGgoAAAANSUhEUgAAAHIAAAByCAAAAACqttqhAAAABGdBTUEAALGPC/xhBQAAAAFzUkdCAK7OHOkAAAAgY0hSTQAAeiYAAICEAAD6AAAAgOgAAHUwAADqYAAAOpgAABdwnLpRPAAAAydJREFUaAW9wTFr3AUcx+EPyfc40oZrSogNh1JCQzlaQiQURdxcRHDwPbg7ODv5IsQX4OYglIK4SKGUaildQksJxnA2hMbjb45wzXmcCfKZ/lA6/54nN9Et9D4aoC6aojV0Da3SOkb30Sv0GDXoJtpFMzREoVwoF8qFcqFcDtAcnaInaA816CO0gm6iLXSIvqa1gsZolzd1USgXyoVyoVwolwV0iA7QBjqgdQ99hu6hL9B3tNZRQ2sZTVAXzVAoF8qFcqFcKJcZb/oSfYMGaIaeo2X0M/oX7aCP0bfoKprQmqEFFMqFcqFcKBfKZQ2NaH2PtlEH7aPL6IzWFfQANWiC+ugETWl1USgXyoVyoVwolw7qoVM0pTVBPXQD7aMFtERriO6iFbSMztCEVigXyoVyoVwol0/RI7SN+miGrqC/UR/9hUZoiHpoFe2gPmrQErpPK5QL5UK5UC6Uyw00RAN0HfXRHN1FY3SOOmgVnaItWhtoDY3QOlpFoVwoF8qFcqFcRuhzdIT6aBFdoD7aRRdogIa0eugW6qAtdILO0WsUyoVyoVwoF8rlFB2gd1EH9dAGOkO/oAG6jX5FHbSKPkTnaIymqEMrlAvlQrlQLpTLCK2iI3SBVtAAvYOOUR+toG30AzpCW+h3NEcNGqMjFMqFcqFcKBfK5QyN0BJq0Bw9RItoAT1AX6E9NEdj9BPaRGPUoAUUFMqFcqFcKBfKpYeCZqiPNtAYvUTvoSE6QMu0XqIf0Q66gy6hGa1QLpQL5UK5UC6HqIsW0RQ9Ro/QM3QJbaOr6BxtoT30FL1AD9EdNEHHKJQL5UK5UC6UyxCtoT56ie6jMdpEAzRAi+gE9dAMnaFDdI56aAMNUSgXyoVyoVwolzFq0FV0gP5DE7SLdtES2kR/oClv9xpdQ6eoQaFcKBfKhXKhXC6j52gdraGnvN0UvUBz3vQJmqITdBs9oBXKhXKhXCgXyuU1mqMRuoE2UBddQmfoOlpAY9RBe2gN/YNm6BX6k1YoF8qFcqFcKJc5rSfoGdpEH6ARalCDJqiLGnQH7aN1dIJ+Q/u0QrlQLpQL5UK5/wFd2bFZ/j51mAAAAABJRU5ErkJg\">"
      ],
      "text/plain": [
       "19×19 reinterpret(reshape, Gray{Float64}, ::Matrix{Float64}) with eltype Gray{Float64}:\n",
       " Gray{Float64}(0.14815)   …  Gray{Float64}(0.0)\n",
       " Gray{Float64}(0.018294)     Gray{Float64}(0.027569)\n",
       " Gray{Float64}(0.027569)     Gray{Float64}(0.0)\n",
       " Gray{Float64}(0.0)          Gray{Float64}(0.0090181)\n",
       " Gray{Float64}(0.083222)     Gray{Float64}(0.036844)\n",
       " Gray{Float64}(0.10177)   …  Gray{Float64}(0.064671)\n",
       " Gray{Float64}(0.38004)      Gray{Float64}(0.13887)\n",
       " Gray{Float64}(0.51917)      Gray{Float64}(0.30583)\n",
       " Gray{Float64}(0.43569)      Gray{Float64}(0.37076)\n",
       " Gray{Float64}(0.38004)      Gray{Float64}(0.37076)\n",
       " Gray{Float64}(0.29656)   …  Gray{Float64}(0.26873)\n",
       " Gray{Float64}(0.25946)      Gray{Float64}(0.28728)\n",
       " Gray{Float64}(0.31511)      Gray{Float64}(0.28728)\n",
       " Gray{Float64}(0.2038)       Gray{Float64}(0.19453)\n",
       " Gray{Float64}(0.083222)     Gray{Float64}(0.073946)\n",
       " Gray{Float64}(0.018294)  …  Gray{Float64}(0.0)\n",
       " Gray{Float64}(0.064671)     Gray{Float64}(0.0)\n",
       " Gray{Float64}(0.018294)     Gray{Float64}(0.0)\n",
       " Gray{Float64}(0.0)          Gray{Float64}(0.0)"
      ]
     },
     "execution_count": 10,
     "metadata": {},
     "output_type": "execute_result"
    }
   ],
   "source": [
    "X = readdlm(\"nnmf-2429-by-361-face.txt\")\n",
    "println(size(X))\n",
    "colorview(Gray, reshape(X[1, :], 19, 19))"
   ]
  },
  {
   "cell_type": "code",
   "execution_count": 11,
   "metadata": {
    "scrolled": true
   },
   "outputs": [
    {
     "data": {
      "image/png": "[encoded data removed]",
      "text/html": [
       "<img src=\"data:image/png;base64,iVBORw0KGgoAAAANSUhEUgAAAHIAAAByCAAAAACqttqhAAAABGdBTUEAALGPC/xhBQAAAAFzUkdCAK7OHOkAAAAgY0hSTQAAeiYAAICEAAD6AAAAgOgAAHUwAADqYAAAOpgAABdwnLpRPAAAAvNJREFUaAW9wUFrmwUcx/Fvn/6aNIkxTTWmdq4yEYXJDp58FR59mV49+hbEi4gIEyvMbY40jWm7p2kq31weKMPj//MJO4/RB2iCBmiKJmiIxqih00eHqIf20RY16BZdoVAulAvlQrlQLsco6A36g84UfYLO0Bb1UQ816BY1aI9Og+7QAQrlQrlQLpQL5dJH52jDQxfoOZ2n6Gs0QdfoN/QTukJ7aB/N0TMUyoVyoVwoF8olvNseuuehX1CLnqDn6E/U0hmjE7RAP6JQLpQL5UK5UC4T9Bpt6Nzzf95Dx2gP/c5Dl+gGTdEchXKhXCgXyoVyGaDw0BG6QHvons4MPUU/o2O0QGN0iQ7RWzRBoVwoF8qFcqFchugMLdES9dGn6CW6QT20jzZojM5QHw3RF+iEzgiFcqFcKBfKhXIZoS36GG3RFt2gBi3QAbpDN6iPvkKn6BodoCmaoxEK5UK5UC6UC+XSoBYN0DGdC7RGLRqgPrpF92iE5miAggaoh7YolAvlQrlQLpRLg5Z0GhS0obOlM0YNOkBLNEFDdIBCZ4NCuVAulAvlQrk8Q7+iBeqhoBVaojfoBVqhIdpHT9Bb9CUao5bOCoVyoVwoF8qFcmHnETpH12gfXaJr1NJ5iYZogw7RMfobtWiINmiJQrlQLpQL5UK5fINeoxW6Qj10TecINWiMZugUjdAUrdE/aIpatEChXCgXyoVyoVy+RT+gY/QvukIt2kdHaI5mqEEfoVu0QA0KukFLtEahXCgXyoVyoVzYadD7qEELdEdnhdZoixq0RB/SuUUbOmvUolAulAvlQrlQLux8jl6hGXqFLlHLQy94txn6DM1QUIuCQrlQLpQL5UK5sDNDLZqgARqjc7RBQXM0orNGp+gROkAbFDRCoVwoF8qFcqFc2PkOfY/6aIxWaI5WaIQmaIRmaIbGqEFLtEINCgrlQrlQLpQL5cJOHwVt0Qy9Rj3UR7foL3SCHqMpCrpCW7RBQdcolAvlQrlQLpT7DxQjibc/vHJgAAAAAElFTkSuQmCC\">"
      ],
      "text/plain": [
       "19×19 reinterpret(reshape, Gray{Float64}, ::Matrix{Float64}) with eltype Gray{Float64}:\n",
       " Gray{Float64}(0.0)       Gray{Float64}(0.1135)    …  Gray{Float64}(0.54206)\n",
       " Gray{Float64}(0.069167)  Gray{Float64}(0.12828)      Gray{Float64}(0.54206)\n",
       " Gray{Float64}(0.098722)  Gray{Float64}(0.017445)     Gray{Float64}(0.28344)\n",
       " Gray{Float64}(0.1135)    Gray{Float64}(0.017445)     Gray{Float64}(0.024834)\n",
       " Gray{Float64}(0.17261)   Gray{Float64}(0.032222)     Gray{Float64}(0.1135)\n",
       " Gray{Float64}(0.20956)   Gray{Float64}(0.047)     …  Gray{Float64}(0.15044)\n",
       " Gray{Float64}(0.2465)    Gray{Float64}(0.16522)      Gray{Float64}(0.34256)\n",
       " Gray{Float64}(0.29083)   Gray{Float64}(0.23911)      Gray{Float64}(0.49772)\n",
       " Gray{Float64}(0.29822)   Gray{Float64}(0.21694)      Gray{Float64}(0.54944)\n",
       " Gray{Float64}(0.30561)   Gray{Float64}(0.15783)      Gray{Float64}(0.53467)\n",
       " Gray{Float64}(0.48294)   Gray{Float64}(0.15044)   …  Gray{Float64}(0.48294)\n",
       " Gray{Float64}(0.48294)   Gray{Float64}(0.25389)      Gray{Float64}(0.42383)\n",
       " Gray{Float64}(0.69722)   Gray{Float64}(0.40167)      Gray{Float64}(0.35733)\n",
       " Gray{Float64}(1.0)       Gray{Float64}(0.40906)      Gray{Float64}(0.313)\n",
       " Gray{Float64}(1.0)       Gray{Float64}(0.41644)      Gray{Float64}(0.29083)\n",
       " Gray{Float64}(1.0)       Gray{Float64}(0.55683)   …  Gray{Float64}(0.30561)\n",
       " Gray{Float64}(1.0)       Gray{Float64}(0.63811)      Gray{Float64}(0.34994)\n",
       " Gray{Float64}(1.0)       Gray{Float64}(0.97061)      Gray{Float64}(0.36472)\n",
       " Gray{Float64}(1.0)       Gray{Float64}(1.0)          Gray{Float64}(0.32778)"
      ]
     },
     "metadata": {},
     "output_type": "display_data"
    },
    {
     "data": {
      "image/png": "[encoded data removed]",
      "text/html": [
       "<img src=\"data:image/png;base64,iVBORw0KGgoAAAANSUhEUgAAAHIAAAByCAAAAACqttqhAAAABGdBTUEAALGPC/xhBQAAAAFzUkdCAK7OHOkAAAAgY0hSTQAAeiYAAICEAAD6AAAAgOgAAHUwAADqYAAAOpgAABdwnLpRPAAAAxZJREFUaAW9wc1qXAUch+HX489hchrSyZhajJSoaI1uqjvFRcG9a8Hb8A68G1cuxbW4EUQ0DVSoH61NP2KcpsN0PB2OB3m7OeIF/J8n+yiMGtSiffQWeg/16Ak6R3fR92iBejSgAbVoikK5UC6UC+VCuQTtobfRz+guWqE76Da6hnp0jG6gDVqhOZow2kYHKJQL5UK5UC6UyzlaoQU6Q3+jBh2ge+gVFHQBDegc9eg2atAF1KN7KJQL5UK5UC6Uy4AWqENP0fPoH3QP9egE9egmOme0jR4z2kFLNKBQLpQL5UK5UC5T1KOgFvVoYNSgi2iCfkI7aIE6tIUmaEAzNEehXCgXyoVyoVx20IbRgIIaRgPaR6+iM/QtmqMpGlCDZmgPNSiUC+VCuVAulMsUvcQoKGiDlmgfzdGL6CP0AwqaoTCaol20QaFcKBfKhXKhXAbUoCkKGtAaBV1GPZqiXXQdfYOWaBtNUI86NEGhXCgXyoVyoVzeRL+gnlGHlmgfBTWoQTN0iB6i39EpCmrRLnofhXKhXCgXyoVyadF11KC76ATN0BU0R5fRDnoN/YE+Rt+hY3SArqI5WqJQLpQL5UK5UC5BCzRBJ6hHO+gJatCfaIOO0A20QgM6QE/QGVqhJQrlQrlQLpQL5dKg+6hDa7SNztEt1KNj1KIHaI1m6BBtoS20QFO0QaFcKBfKhXKhXH5EQT1aol/RgDaMTlGL1oxWaMn/HaJL6CkK5UK5UC6UC+VyDR2hCXqIekbPoRfQu2iDztApow3q0AbdQjtoQKFcKBfKhXKhXD5Dn6IpuoAeoy30Dgpq0QrNUIsatEb30TaaMdqgUC6UC+VCuVAu11CPOvQGWqEz9DJ6HX2Aglr0NVqh2+gq2kVB91GHQrlQLpQL5UK58Mwn6Au0h+aMfkOP0BGaoKBLaI4G1KAWLVCHOhTKhXKhXCgXyoVnPkdfoiWaoinqUIMuo0dojU7QCbqIWrRBf6E16lAoF8qFcqFcKBf+4yv0IQqjBj1Ad9CAJmgPXUETNKAV6tAKBYVyoVwoF8qFcv8CMaOtA3zqayIAAAAASUVORK5C\">"
      ],
      "text/plain": [
       "19×19 reinterpret(reshape, Gray{Float64}, ::Matrix{Float64}) with eltype Gray{Float64}:\n",
       " Gray{Float64}(0.10274)   Gray{Float64}(0.11821)   …  Gray{Float64}(0.14916)\n",
       " Gray{Float64}(0.11821)   Gray{Float64}(0.19557)      Gray{Float64}(0.31934)\n",
       " Gray{Float64}(0.056327)  Gray{Float64}(0.071798)     Gray{Float64}(0.095006)\n",
       " Gray{Float64}(0.048591)  Gray{Float64}(0.0)          Gray{Float64}(0.08727)\n",
       " Gray{Float64}(0.079534)  Gray{Float64}(0.03312)      Gray{Float64}(0.18784)\n",
       " Gray{Float64}(0.13368)   Gray{Float64}(0.056327)  …  Gray{Float64}(0.2884)\n",
       " Gray{Float64}(0.16463)   Gray{Float64}(0.14142)      Gray{Float64}(0.32708)\n",
       " Gray{Float64}(0.15689)   Gray{Float64}(0.14916)      Gray{Float64}(0.34255)\n",
       " Gray{Float64}(0.30387)   Gray{Float64}(0.16463)      Gray{Float64}(0.53595)\n",
       " Gray{Float64}(0.34255)   Gray{Float64}(0.41217)      Gray{Float64}(0.48179)\n",
       " Gray{Float64}(0.35802)   Gray{Float64}(0.34255)   …  Gray{Float64}(0.35802)\n",
       " Gray{Float64}(0.36576)   Gray{Float64}(0.24199)      Gray{Float64}(0.31934)\n",
       " Gray{Float64}(0.1801)    Gray{Float64}(0.19557)      Gray{Float64}(0.2884)\n",
       " Gray{Float64}(0.36576)   Gray{Float64}(0.18784)      Gray{Float64}(0.28066)\n",
       " Gray{Float64}(0.81443)   Gray{Float64}(0.16463)      Gray{Float64}(0.25746)\n",
       " Gray{Float64}(1.0)       Gray{Float64}(0.14916)   …  Gray{Float64}(0.21878)\n",
       " Gray{Float64}(1.0)       Gray{Float64}(0.48953)      Gray{Float64}(0.18784)\n",
       " Gray{Float64}(1.0)       Gray{Float64}(1.0)          Gray{Float64}(0.14916)\n",
       " Gray{Float64}(1.0)       Gray{Float64}(1.0)          Gray{Float64}(0.14916)"
      ]
     },
     "metadata": {},
     "output_type": "display_data"
    },
    {
     "data": {
      "image/png": "[encoded data removed]",
      "text/html": [
       "<img src=\"data:image/png;base64,iVBORw0KGgoAAAANSUhEUgAAAHIAAAByCAAAAACqttqhAAAABGdBTUEAALGPC/xhBQAAAAFzUkdCAK7OHOkAAAAgY0hSTQAAeiYAAICEAAD6AAAAgOgAAHUwAADqYAAAOpgAABdwnLpRPAAAAwlJREFUaAW9wdFqmwUch+EXv19DgyFNZmZrpKwqHdWDytAjTwSHR+LleQHeheBOFGEIA6WoyHCuY6MsbqS1TcmM/TZ5e/KBiKAH/+fJCO2gCRqiBg3RFDVoipZog84CDdASDdAa6qElCuVCuVAulAvlMkYtOkBr6Cn6A43Q++ganSlaoUfoITpCfbSPxmiKQrlQLpQL5UK5nKP7/JsTdAu9ivZRix6gO+iMv/sBvYt2USgXyoVyoVwol5f4b35Dc7SHDtEZ/+wF+h4tUCgXyoVyoVwolxn/x3W0j75CI3SC3kD36byOZiiUC+VCuVAulMsGWqEleoG20BZaoF9Q0Dbqo/fQFN1Fm2hKZ4BeQ6FcKBfKhXKhXHZRi/pogFq0QhPUoAWao3toiq6ja+gh6qFN9BZaR6FcKBfKhXKhXBq0jRrUozNBKzRHLZqgAVqgXbSHnqIjNERX0ToK5UK5UC6UC+UyQwO0iYZoioboAD1A22gDraEBOka7aIzG6BmdZyiUC+VCuVAulMsSrVCL+miIfkXfoGvoClpHPTRDT9A9dBNN0HM6T1AoF8qFcqFcKJfnaIGWaB3N0GfoAo1Qg2boCmrRDB2gBt1A22iGzlEoF8qFcqFcKBcuHaNN9AjdQRd0TtB36CG6ig7RGXoHfYl6qEUNWqBQLpQL5UK5UC5L1KJTdIp+Qq+gCTpEK/QYbaCP0RC9jb5At1GDhugYhXKhXCgXyoVyOUMjdI5WdD5BQ9SgHvoW7aMdNEYL9CH6HE3QFLUolAvlQrlQLpQLl5bod9RHI3SE7qIGjdEpOkBLNEA30AztoRlapxPKhXKhXCgXyoVLDZ0WnaBbdEZogS7ofE1nC32AGjRALfoThXKhXCgXyoVy4VIf9dAeOkJndE7obKEZekHnMfoR9dGn6BzNUSgXyoVyoVwoFy6tUA9N0UfoNlqiHTRBDbqJNtEC9VCLjtEYPUMNCuVCuVAulAvlwqUlmqMj1KA30c9ojtZQH83RAu2gl1GLWvQALdE5CuVCuVAulAvl/gJ+ZJ0cDT2BcgAAAABJRU5ErkJg\">"
      ],
      "text/plain": [
       "19×19 reinterpret(reshape, Gray{Float64}, ::Matrix{Float64}) with eltype Gray{Float64}:\n",
       " Gray{Float64}(0.062161)   …  Gray{Float64}(0.64897)\n",
       " Gray{Float64}(0.12987)       Gray{Float64}(0.52483)\n",
       " Gray{Float64}(0.084731)      Gray{Float64}(0.33299)\n",
       " Gray{Float64}(0.096015)      Gray{Float64}(0.14115)\n",
       " Gray{Float64}(0.0057376)     Gray{Float64}(0.050876)\n",
       " Gray{Float64}(0.062161)   …  Gray{Float64}(0.37813)\n",
       " Gray{Float64}(0.20886)       Gray{Float64}(0.56997)\n",
       " Gray{Float64}(0.22015)       Gray{Float64}(0.67154)\n",
       " Gray{Float64}(0.12987)       Gray{Float64}(0.63768)\n",
       " Gray{Float64}(0.096015)      Gray{Float64}(0.66025)\n",
       " Gray{Float64}(0.084731)   …  Gray{Float64}(0.61511)\n",
       " Gray{Float64}(0.084731)      Gray{Float64}(0.56997)\n",
       " Gray{Float64}(0.050876)      Gray{Float64}(0.50226)\n",
       " Gray{Float64}(0.0)           Gray{Float64}(0.44584)\n",
       " Gray{Float64}(0.0)           Gray{Float64}(0.38942)\n",
       " Gray{Float64}(0.0)        …  Gray{Float64}(0.35556)\n",
       " Gray{Float64}(0.0)           Gray{Float64}(0.37813)\n",
       " Gray{Float64}(0.0)           Gray{Float64}(0.38942)\n",
       " Gray{Float64}(0.0)           Gray{Float64}(0.34428)"
      ]
     },
     "metadata": {},
     "output_type": "display_data"
    },
    {
     "data": {
      "image/png": "[encoded data removed]",
      "text/html": [
       "<img src=\"data:image/png;base64,iVBORw0KGgoAAAANSUhEUgAAAHIAAAByCAAAAACqttqhAAAABGdBTUEAALGPC/xhBQAAAAFzUkdCAK7OHOkAAAAgY0hSTQAAeiYAAICEAAD6AAAAgOgAAHUwAADqYAAAOpgAABdwnLpRPAAAAzhJREFUaAW9wc9r1wUcx/En31669f02vozNH30ZYzozZIlUIDtEEdVJDOvUpT+gDp26durQH+GhfyAsGBEFQYSHZVBGjCXTNeSLs+YaY8zvNueIp5ePlOf345FTqIfOoH3URkdRB7XRfdRGG2gPLaIbaB2dRR10Da2gUC6UC+VCuVAuN9FN9COaRa+gz9EyjaBT6Cm0gN5Dn6B30W2eLJQL5UK5UC6UC//TRxfRZRrPoA/RW+hjGsPoHTSL5nmyUC6UC+VCuVAuPKaL+uh9dAFtolvoMmqh39AE2kPfoUUaw2iHRigXyoVyoVwoFx6ziU6j19DfaBv9gaZQn8YdtIw+RRfRD6jPf4VyoVwoF8qFcmmj4+g5NIF6KGiDxgDN05hAfXQBTaIBGkMr6DAK5UK5UC6UC+UygjpoC91Df6JpdEBjD23T6KGX0bdoFE2gLjqMWiiUC+VCuVAulEsXLaGjaAu9iGbRdRpH0A6NefQZ6qFf0E/oIdpGPRTKhXKhXCgXyqWD3kCT6Hl0DM2hNRotNIVu0/gIfYBeRy+gf9AyuoFCuVAulAvlQrn8ipbQNFpHz6Iu2kYT6G10Dl1DQb+jOTRAW6iF+mgVhXKhXCgXyoVyeRPNonF0FvXRF2iNxhK6gfbRDo0xdAndQnfQOlpAoVwoF8qFcqFc+qiPnkYLaBGdR0Gb6Gd0D3VQCz1AY+gKepXGGlpHoVwoF8qFcqFc+mgV9dAKmkFdtIuG0CV0F3XQAbqFDtH4Ep1DfTRAoVwoF8qFcqFc7qMtNIROojE0iibRAWqhdXQS7aEptIJOoquog0bRAQrlQrlQLpQL5TKM2mhAYx710NfoOjqBuugK2kTbaAYN0Hl0BHXRKArlQrlQLpQL5TKCDqERNIO+Qt+g62gctdExdIB20S5aRpOoi15CCzRCuVAulAvlQrnwyAY6jCbRGbSJplEPTaFdNIQeon10HJ1GZ9AouoN2UCgXyoVyoVwol7/QJFpHi2gfnUAjaBy10T5aQTNoE+2jZXQU7aFVdA+FcqFcKBfKhXLhkVW0hJbRMBpHh9ADNIdaaA1toRkaA/Q9uoruoh0UyoVyoVwoF8r9CwNWpi/QcJh+AAAAAElFTkSuQmCC\">"
      ],
      "text/plain": [
       "19×19 reinterpret(reshape, Gray{Float64}, ::Matrix{Float64}) with eltype Gray{Float64}:\n",
       " Gray{Float64}(0.14175)    …  Gray{Float64}(0.0)\n",
       " Gray{Float64}(0.0)           Gray{Float64}(0.0)\n",
       " Gray{Float64}(0.0)           Gray{Float64}(0.0)\n",
       " Gray{Float64}(0.0)           Gray{Float64}(0.0)\n",
       " Gray{Float64}(0.0)           Gray{Float64}(0.0)\n",
       " Gray{Float64}(0.040474)   …  Gray{Float64}(0.082674)\n",
       " Gray{Float64}(0.091114)      Gray{Float64}(0.091114)\n",
       " Gray{Float64}(0.15019)       Gray{Float64}(0.14175)\n",
       " Gray{Float64}(0.19239)       Gray{Float64}(0.14175)\n",
       " Gray{Float64}(0.0)           Gray{Float64}(0.0)\n",
       " Gray{Float64}(0.26835)    …  Gray{Float64}(0.19239)\n",
       " Gray{Float64}(0.15863)       Gray{Float64}(0.11643)\n",
       " Gray{Float64}(0.048914)      Gray{Float64}(0.082674)\n",
       " Gray{Float64}(0.0067138)     Gray{Float64}(0.074234)\n",
       " Gray{Float64}(0.040474)      Gray{Float64}(0.14175)\n",
       " Gray{Float64}(0.091114)   …  Gray{Float64}(0.14175)\n",
       " Gray{Float64}(0.091114)      Gray{Float64}(0.10799)\n",
       " Gray{Float64}(0.0)           Gray{Float64}(0.032034)\n",
       " Gray{Float64}(0.0)           Gray{Float64}(0.0)"
      ]
     },
     "metadata": {},
     "output_type": "display_data"
    },
    {
     "data": {
      "image/png": "[encoded data removed]",
      "text/html": [
       "<img src=\"data:image/png;base64,iVBORw0KGgoAAAANSUhEUgAAAHIAAAByCAAAAACqttqhAAAABGdBTUEAALGPC/xhBQAAAAFzUkdCAK7OHOkAAAAgY0hSTQAAeiYAAICEAAD6AAAAgOgAAHUwAADqYAAAOpgAABdwnLpRPAAAAy1JREFUaAW9wb9v1AUcx+FX6fugXHv02rNw0mBFQSIRQRPDYnR0ME7GP8LZ/8PFwdmYGB2d3TQMGmMgJDqgKIUWaEN/HdfWgxbz6vIlBh0/zxP+Vwu9iz5Eb6NddB19gX5DbbSGtlAbbdMI5UK5UC6UC+XCf5hDQzRAf6Ln0D76Fd1AKzxbF23TCOVCuVAulAvlwoFJdAa9g95Am+hr9A16Cw3Rp+h19BJaRy3UQVfRBNpFoVwoF8qFcqFcODBEd9FnNN5D59GP6CMak+gc+gvdQw/QSTRAPXQMhXKhXCgXyoVymUdLaArNoCk0hsKzDVEHddCr6CFqoxk0je6hUC6UC+VCuVAuU+gcehldQtNoHP1A42Man6Nl9D7aRSN0m8ZhdAWFcqFcKBfKhXKZRz3URSfQPFpBbRqP0SyNPdRBZ9AAzaIdNEKnUCgXyoVyoVwolwtoEk2hNmqho+gaOo6m0TSaQ7fQOI0emkCH0DrqoVAulAvlQrlQLl3URx10BO2hb9FNdBH1UAddQt+h79EHaAIdR1toD91CoVwoF8qFcqFcvkIX0QRaQ6voPDqJxlAfTaNpdBb9hO6iBfQiuo6uoHUUyoVyoVwoF8rlTXQK9VEPddAf6Gc0RFfRPFpFZ9Ej9Am6h+6jC+gMWkahXCgXyoVyoVyWUBfN0Wihv1EL7aAv0Rg6hTbQJbSJ+mgc3UEP0X0UyoVyoVwoF8rlDhpHIzSBNtATdBldR6dRC41QD51Ei6iDBmgRbaARCuVCuVAulAvlsoKOoGPoGuqgW+guGkMLaAtto2X0CG2icbSHBmgZraJQLpQL5UK5UC7baBMtokU0g26gE+gFNIFGqI820O9oCU2iIzQGaA2FcqFcKBfKhXLhwAAdQi10FC2hJfQLGkdtNODfJtFlNEC7aIRGKJQL5UK5UC6UCweGqI3mUB910QaNBbSNuug2jdfQCbSGNtFD9ACFcqFcKBfKhXLhKWuoj56gBbSFDqNtNId20SyaQc+jHbSPBmgV7aNQLpQL5UK5UC48ZQ/dRPtoB51Gj9EaGqJZ9ArqohE6jFbQOtqiEcqFcqFcKBfK/QOSIp+oD9TLOwAAAABJRU5ErkJg\">"
      ],
      "text/plain": [
       "19×19 reinterpret(reshape, Gray{Float64}, ::Matrix{Float64}) with eltype Gray{Float64}:\n",
       " Gray{Float64}(0.0)       …  Gray{Float64}(0.0)\n",
       " Gray{Float64}(0.0)          Gray{Float64}(0.0)\n",
       " Gray{Float64}(0.0)          Gray{Float64}(0.0)\n",
       " Gray{Float64}(0.0)          Gray{Float64}(0.088149)\n",
       " Gray{Float64}(0.1071)       Gray{Float64}(0.13237)\n",
       " Gray{Float64}(0.15132)   …  Gray{Float64}(0.18291)\n",
       " Gray{Float64}(0.25871)      Gray{Float64}(0.29662)\n",
       " Gray{Float64}(0.4356)       Gray{Float64}(0.37242)\n",
       " Gray{Float64}(0.49877)      Gray{Float64}(0.2524)\n",
       " Gray{Float64}(0.145)        Gray{Float64}(0.056563)\n",
       " Gray{Float64}(0.34084)   …  Gray{Float64}(0.39138)\n",
       " Gray{Float64}(0.23345)      Gray{Float64}(0.30294)\n",
       " Gray{Float64}(0.12605)      Gray{Float64}(0.27767)\n",
       " Gray{Float64}(0.037612)     Gray{Float64}(0.17659)\n",
       " Gray{Float64}(0.0)          Gray{Float64}(0.1071)\n",
       " Gray{Float64}(0.0)       …  Gray{Float64}(0.081832)\n",
       " Gray{Float64}(0.0)          Gray{Float64}(0.0060253)\n",
       " Gray{Float64}(0.0)          Gray{Float64}(0.0)\n",
       " Gray{Float64}(0.0)          Gray{Float64}(0.0)"
      ]
     },
     "metadata": {},
     "output_type": "display_data"
    },
    {
     "data": {
      "image/png": "[encoded data removed]",
      "text/html": [
       "<img src=\"data:image/png;base64,iVBORw0KGgoAAAANSUhEUgAAAHIAAAByCAAAAACqttqhAAAABGdBTUEAALGPC/xhBQAAAAFzUkdCAK7OHOkAAAAgY0hSTQAAeiYAAICEAAD6AAAAgOgAAHUwAADqYAAAOpgAABdwnLpRPAAAAxRJREFUaAW9wctu1AUchuG35bMHmkkPWMCmisQ0tYGQuGFBwsJDiAt33o+XwcLLcOFClgYTYdUCuiDjoY51eqC0mUw7bQdqXjf/phLd/Z4nnHERHdC4gr5EA7SCltA+2kEdtIvWUQ+1UR8do1AulAvlQrlQLpxxzHmb6D66iO6ifdRFa6iL1vl/oVwoF8qFcqFcOGOIJtCA84boF3QT7aEt1EFBQ7SCJtEJ2kahXCgXyoVyoVz4lwGNFmqhHXQRLaMjtIVeoyl0iH7mzUK5UC6UC+VCufCPoFvoFjpFbTSCptFz1EEDdIAuoWn0GfqaNwvlQrlQLpQL5fIpeomm0REaQ++gPmqjEXSIhjRa6BqaRF+hp6iNVlEoF8qFcqFcKJebaBKNoWP0Co2iJ6iP5lEbbdDooVm0hy6hBbSN5lEoF8qFcqFcKJfL6BQdowkU9AIFTaLf0DjapfECHaAZtI6m0B30HgrlQrlQLpQL5TKKptAEmkGv0FX0EHXRDXSZxjaNq2gR9dE+OkJzKJQL5UK5UC6UyywKmkSLaBd9i56hFvoc3UVtdB+10RW0gjbROOqhIxTKhXKhXCgXyiVoBI2jDfQjeoTuoDW0hubQc7RD4xn6hPNG0S4K5UK5UC6UC+XSQ1Oohw7RHJpA36MheoAecF4LPUUbaAydoCG6gEK5UC6UC+VCuQzQALXQKI0P0RC9hd5HHbSIHqEuuo320SnaRydoFIVyoVwoF8qFcnmFhugEHaAu2kPX0AJaRPfQT2gdLaBp9BeNHnqNeiiUC+VCuVAulMsc6qBdtIM2UR9dRotoCR2id9E86qA2GqAW2kezqI9CuVAulAvlQrm8Rh+gNfQYbXLeQ/QxmkRttIVeoll0Af2BZtASGkWhXCgXyoVyoVz66G10F62g79AqjR76hv/SQ0N0A11HR+hXFMqFcqFcKBfK5SU6RAM0hT5C6zRuo3HURR20QWMa3UPL6E/0CHVRKBfKhXKhXCiX39EJGkHLaAF9gX5Aq+gKuoq2OO866qMt9ATtoC0UyoVyoVwoF8r9DSp7rlzxlGgJAAAAAElFTkSuQmCC\">"
      ],
      "text/plain": [
       "19×19 reinterpret(reshape, Gray{Float64}, ::Matrix{Float64}) with eltype Gray{Float64}:\n",
       " Gray{Float64}(0.0)      Gray{Float64}(0.0)       …  Gray{Float64}(0.0)\n",
       " Gray{Float64}(0.0)      Gray{Float64}(0.0)          Gray{Float64}(0.0)\n",
       " Gray{Float64}(0.0)      Gray{Float64}(0.0)          Gray{Float64}(0.095764)\n",
       " Gray{Float64}(0.0)      Gray{Float64}(0.0)          Gray{Float64}(0.0)\n",
       " Gray{Float64}(0.0)      Gray{Float64}(0.016109)     Gray{Float64}(0.0)\n",
       " Gray{Float64}(0.26232)  Gray{Float64}(0.19714)   …  Gray{Float64}(0.0)\n",
       " Gray{Float64}(0.43611)  Gray{Float64}(0.47232)      Gray{Float64}(0.081282)\n",
       " Gray{Float64}(0.52301)  Gray{Float64}(0.51577)      Gray{Float64}(0.35645)\n",
       " Gray{Float64}(0.53025)  Gray{Float64}(0.5737)       Gray{Float64}(0.42887)\n",
       " Gray{Float64}(0.59542)  Gray{Float64}(0.6099)       Gray{Float64}(0.3999)\n",
       " Gray{Float64}(0.6099)   Gray{Float64}(0.61714)   …  Gray{Float64}(0.41439)\n",
       " Gray{Float64}(0.55921)  Gray{Float64}(0.60266)      Gray{Float64}(0.42887)\n",
       " Gray{Float64}(0.53025)  Gray{Float64}(0.53025)      Gray{Float64}(0.43611)\n",
       " Gray{Float64}(0.51577)  Gray{Float64}(0.50128)      Gray{Float64}(0.35645)\n",
       " Gray{Float64}(0.58818)  Gray{Float64}(0.47956)      Gray{Float64}(0.30576)\n",
       " Gray{Float64}(0.58094)  Gray{Float64}(0.61714)   …  Gray{Float64}(0.35645)\n",
       " Gray{Float64}(0.53749)  Gray{Float64}(0.66059)      Gray{Float64}(0.22611)\n",
       " Gray{Float64}(0.47232)  Gray{Float64}(0.50128)      Gray{Float64}(0.11749)\n",
       " Gray{Float64}(0.34921)  Gray{Float64}(0.32749)      Gray{Float64}(0.030592)"
      ]
     },
     "metadata": {},
     "output_type": "display_data"
    },
    {
     "data": {
      "image/png": "[encoded data removed]",
      "text/html": [
       "<img src=\"data:image/png;base64,iVBORw0KGgoAAAANSUhEUgAAAHIAAAByCAAAAACqttqhAAAABGdBTUEAALGPC/xhBQAAAAFzUkdCAK7OHOkAAAAgY0hSTQAAeiYAAICEAAD6AAAAgOgAAHUwAADqYAAAOpgAABdwnLpRPAAAAvNJREFUaAW9wT1vWwUYhuFb5pFxHOfUTZM0TQhSRSuGqCDExMDIDP8aZWJADJFo1Q+alDQ4rmWCcziy0J3loKoDLO91hX/5BG2hBu2je2gHTdEmGqEJmqKgoBat0BK9RqFcKBfKhXKhXLjVoAWaoQmaox10jeboAAW9RkEtatEadahBIxTKhXKhXCgXyoVbC953jS7QKRqiJ2iNdtBTdIZeoRnaRp+hFu2gUC6UC+VCuVAuY3RN71O0i16hC9SiX9A36Aj9hpZoAx2jx2gPXaK3KJQL5UK5UC6US4MGaIleopd82Aq1aIzW6Aq9pHeCpugY7aNQLpQL5UK5UC7cWvL/rNACjdEDdIFW9OboBH2PQrlQLpQL5UK5jNAELfmv/kQtGqMpmqIONegQHaEvUCgXyoVyoVwolzvoEM3RO3otmqEOBS3R36hBX6OHqEX7aIx20TYK5UK5UC6UC+XSoaBHaIhWaI4u0e+oReF9R+gIrVDQFE3QEIVyoVwoF8qFcvkLXaMp2kSb9F6hGZqiERqgITpHh+gADdAIBbUolAvlQrlQLpRLh5ZoibZQh35Fz+nN0RmaoUvUoJ/RV+hzdBfdoDkK5UK5UC6UC+XCrSs0QAO0QE/5sB/RCzRD36IJ+gmtUYfWaIlCuVAulAvlQrlsoCU6RwPUoQPUoTO0pneIfkAP0QidoOf0hqhDoVwoF8qFcqFcbtAKdegPdA8N0AY6RlM0QXfQAZqgDu2jN+gSDVCHQrlQLpQL5UK5XKAVmqIt9BrNUIN20BQN6S3odahFY3pDNEShXCgXyoVyoVwaNEIT9Aid0lugBXpGbw+NUNBH6Bx9h75Ea3qhXCgXyoVyoVweoxfoY3pP0Au0Rg3aRQ3aRvdRUIOuUYtGqEVrFMqFcqFcKBfK5QJtorfoGbqid4T20A4aoPtoH23Qu6G3ojdHoVwoF8qFcqFcTtEELdECjdEAbaMHqEEjtI3uohFaoE30Dq3QCr1BoVwoF8qFcqHcP8YQmbKCqHHrAAAAAElFTkSuQmCC\">"
      ],
      "text/plain": [
       "19×19 reinterpret(reshape, Gray{Float64}, ::Matrix{Float64}) with eltype Gray{Float64}:\n",
       " Gray{Float64}(0.0)       Gray{Float64}(0.0)        …  Gray{Float64}(0.53514)\n",
       " Gray{Float64}(0.0)       Gray{Float64}(0.055217)      Gray{Float64}(0.52714)\n",
       " Gray{Float64}(0.0)       Gray{Float64}(0.0)           Gray{Float64}(0.31118)\n",
       " Gray{Float64}(0.03922)   Gray{Float64}(0.0)           Gray{Float64}(0.28718)\n",
       " Gray{Float64}(0.095211)  Gray{Float64}(0.047219)      Gray{Float64}(0.32717)\n",
       " Gray{Float64}(0.095211)  Gray{Float64}(0.0)        …  Gray{Float64}(0.32717)\n",
       " Gray{Float64}(0.12721)   Gray{Float64}(0.047219)      Gray{Float64}(0.53514)\n",
       " Gray{Float64}(0.1832)    Gray{Float64}(0.23119)       Gray{Float64}(0.67112)\n",
       " Gray{Float64}(0.1672)    Gray{Float64}(0.24719)       Gray{Float64}(0.71111)\n",
       " Gray{Float64}(0.1352)    Gray{Float64}(0.20719)       Gray{Float64}(0.69511)\n",
       " Gray{Float64}(0.11921)   Gray{Float64}(0.1592)     …  Gray{Float64}(0.65512)\n",
       " Gray{Float64}(0.11921)   Gray{Float64}(0.095211)      Gray{Float64}(0.59113)\n",
       " Gray{Float64}(0.1512)    Gray{Float64}(0.071215)      Gray{Float64}(0.51114)\n",
       " Gray{Float64}(0.12721)   Gray{Float64}(0.03922)       Gray{Float64}(0.41516)\n",
       " Gray{Float64}(0.03922)   Gray{Float64}(0.0072253)     Gray{Float64}(0.45515)\n",
       " Gray{Float64}(0.095211)  Gray{Float64}(0.071215)   …  Gray{Float64}(0.49515)\n",
       " Gray{Float64}(0.23919)   Gray{Float64}(0.11921)       Gray{Float64}(0.50314)\n",
       " Gray{Float64}(0.1512)    Gray{Float64}(0.1592)        Gray{Float64}(0.43915)\n",
       " Gray{Float64}(0.0)       Gray{Float64}(0.047219)      Gray{Float64}(0.34317)"
      ]
     },
     "metadata": {},
     "output_type": "display_data"
    },
    {
     "data": {
      "image/png": "[encoded data removed]",
      "text/html": [
       "<img src=\"data:image/png;base64,iVBORw0KGgoAAAANSUhEUgAAAHIAAAByCAAAAACqttqhAAAABGdBTUEAALGPC/xhBQAAAAFzUkdCAK7OHOkAAAAgY0hSTQAAeiYAAICEAAD6AAAAgOgAAHUwAADqYAAAOpgAABdwnLpRPAAAAx5JREFUaAW9wb1r3AUcx/G358fzeo0xJm1IW+sjahGKiogKDi4iDiKuFf1/xLV/QnUQXASxS6cijrWDaKi2kjTNw7XxcjnS83L8lHeXn2QQp+/rlUfRR+gFtIyW0BzqoRVaYxTUQyO0gzbRbbSK1tEWCuVCuVAulAvl8hf6Gh2jNUGvonfR66hPa4w66Bf0FbrFfwnlQrlQLpQL5cK/3Oeoa+gauoDeQHPoLhqib9EtjjqJBrRCuVAulAvlQrnwPzyEvkNb6BM0QpfRFL2F7qPraMBRoVwoF8qFcqFcPkNfokX0PrpE6xx6DX2PXkEDtIs+RL+h99B1WmfRGIVyoVwoF8qFcmnQB+glNI++QCM0QDfRBG2iMVpHO+g0mqLP0Sq6jTZRKBfKhXKhXCiXNXQOzaE+6qMOmqIp6qADNKK1hV5GDVpDM1pBoVwoF8qFcqFcFlAHdVEXjVGD5tAATdAETWjdQ8fQFP2N+mgRTVEoF8qFcqFcKJc+ehhNURd10AwN0Rp6ET3FUWtoGR2gHq0ttI1CuVAulAvlQrkMUQfNo6AeOo6uoxl6Gp1HXXSV1o/oYzRGM9RBDQrlQrlQLpQL5bKJgsboAJ1EG+gqehI16CxaQ0HL6Ap6Fj2DhmiEDlAoF8qFcqFcKJcRmqEOrT20hYJW0Q3UoAHaR/toCe2hLdRBM9SgUC6UC+VCuVAuE3RAq4MO0D00h86jHbSKpugx1EVdtIZ66HG0gBoUyoVyoVwoF8plima0hmgD/YQadAo9gRbRGA3RHtpFv6M+egT1UINCuVAulAvlQrnM0Aw16C66jQ7RKbSIJugsatAN1ENd9AfaRnNoioJCuVAulAvlQrk06E+0h/poGd1AV2itoGuoh8ZondYZdBzN0BhNUSgXyoVyoVwoFx4Yol10Bo3QTXRI6wJ6G43RZXSJ1gZ6E62gO2iIQrlQLpQL5UK57KMOuosm6DT6FH2D9tBF9AOaop856h20gGZoGx2iUC6UC+VCuVAuPDBD22gDzaMldB7dQs+jE2iCnkO/ohNoBY3RLrpDK5QL5UK5UC6U+wcd+LoEOXwmdQAAAABJRU5ErkJg\">"
      ],
      "text/plain": [
       "19×19 reinterpret(reshape, Gray{Float64}, ::Matrix{Float64}) with eltype Gray{Float64}:\n",
       " Gray{Float64}(0.028654)  Gray{Float64}(0.33675)   …  Gray{Float64}(0.10568)\n",
       " Gray{Float64}(0.0)       Gray{Float64}(0.0)          Gray{Float64}(0.0)\n",
       " Gray{Float64}(0.0)       Gray{Float64}(0.0)          Gray{Float64}(0.0)\n",
       " Gray{Float64}(0.0)       Gray{Float64}(0.0)          Gray{Float64}(0.0)\n",
       " Gray{Float64}(0.36756)   Gray{Float64}(0.013249)     Gray{Float64}(0.067167)\n",
       " Gray{Float64}(0.35986)   Gray{Float64}(0.29824)   …  Gray{Float64}(0.175)\n",
       " Gray{Float64}(0.24432)   Gray{Float64}(0.39837)      Gray{Float64}(0.19041)\n",
       " Gray{Float64}(0.30594)   Gray{Float64}(0.40608)      Gray{Float64}(0.25203)\n",
       " Gray{Float64}(0.34446)   Gray{Float64}(0.42148)      Gray{Float64}(0.1596)\n",
       " Gray{Float64}(0.28284)   Gray{Float64}(0.35216)      Gray{Float64}(0.15189)\n",
       " Gray{Float64}(0.1827)    Gray{Float64}(0.29824)   …  Gray{Float64}(0.11338)\n",
       " Gray{Float64}(0.12879)   Gray{Float64}(0.28284)      Gray{Float64}(0.10568)\n",
       " Gray{Float64}(0.097977)  Gray{Float64}(0.24432)      Gray{Float64}(0.097977)\n",
       " Gray{Float64}(0.074869)  Gray{Float64}(0.22892)      Gray{Float64}(0.090274)\n",
       " Gray{Float64}(0.059464)  Gray{Float64}(0.21351)      Gray{Float64}(0.10568)\n",
       " Gray{Float64}(0.051762)  Gray{Float64}(0.14419)   …  Gray{Float64}(0.082572)\n",
       " Gray{Float64}(0.051762)  Gray{Float64}(0.082572)     Gray{Float64}(0.020951)\n",
       " Gray{Float64}(0.0)       Gray{Float64}(0.059464)     Gray{Float64}(0.0)\n",
       " Gray{Float64}(0.0)       Gray{Float64}(0.044059)     Gray{Float64}(0.0)"
      ]
     },
     "metadata": {},
     "output_type": "display_data"
    },
    {
     "data": {
      "image/png": "[encoded data removed]",
      "text/html": [
       "<img src=\"data:image/png;base64,iVBORw0KGgoAAAANSUhEUgAAAHIAAAByCAAAAACqttqhAAAABGdBTUEAALGPC/xhBQAAAAFzUkdCAK7OHOkAAAAgY0hSTQAAeiYAAICEAAD6AAAAgOgAAHUwAADqYAAAOpgAABdwnLpRPAAAAvpJREFUaAW9wcFrmwUch/FnL19CCDHEEsqoca1Qpsjw4MYYePPgyb/Ck//hPCh46NVtyBijlC3WUroYQxZCyELs5Dm9lzI9/T6ffIo26AiN0JfoCI1QD3VQgzq0ZugCnaEpOkXnaItCuVAulAvlQrn8SesvWo/RLfQt+h4d01qgZ+gn9JT/FsqFcqFcKBfKhQ96j35Bl+gHNEYT9DN6yv8VyoVyoVwoF8rlEG3QGz5kjl6hPTRDM3QLNegfbvYZCuVCuVAulAvlskVvuNknaIlm6DkaoxfoNbqP9tAT9Dc6RH+g1yiUC+VCuVAulEu42cfoNtpDF+gVeoHO0Ueoh3roIXqCprQ+R6FcKBfKhXKhXB6hI7RBDRqgoDWaoQ3aoh3qoA06QDs0QBvUR10UyoVyoVwoF8plDw3RDnVQDy3RKQqtLrpGK9SgBvVpdVEHdVEoF8qFcqFcKJcB6qAV2qAVrQat0T4aoD56h3ZoiIZog67RFi1RKBfKhXKhXCiXNeqiMWpQgxo0QUv0AB2gu+gpOkND9ACt0AJN0AqFcqFcKBfKhXJZoX3URbfRNTpDE3SAvkLfoR76Fc3RS9RFX6Au6qMJCuVCuVAulAvlMkdjtEVXaIJWaIO2aIqeowWao2u0QjN0gvbRCs1QKBfKhXKhXCiXKzSmtaM1RV3URyfod3SOgkboAgVt0Bg1aIFCuVAulAvlQrms0RUKrSWaoyHaoRFaontoD83RDl2iMbpCA7RBoVwoF8qFcqFcGrRCQUFBU9RDQ3QHddAanaIFeol26EfURVO0RaFcKBfKhXKhXBq0RUEDdIoe0zpE52iLjlBQD71D36AR6qAztEShXCgXyoVyoVyWqEEz1EfH6D76Dc3R16iHBugEnaJD9BBdoylaoBkK5UK5UC6UC+UyQXfQJRqgLnqERugKrVAPTdEI7aM9tEJrdImeobcolAvlQrlQLpTLezRHl2iA9tEaHaO7qEFXqIvu0VqgJdqhU/SWVigXyoVyoVwo9y/jgajukwa+rwAAAABJRU5ErkJg\">"
      ],
      "text/plain": [
       "19×19 reinterpret(reshape, Gray{Float64}, ::Matrix{Float64}) with eltype Gray{Float64}:\n",
       " Gray{Float64}(0.11421)    …  Gray{Float64}(0.043617)\n",
       " Gray{Float64}(0.0)           Gray{Float64}(0.0)\n",
       " Gray{Float64}(0.0)           Gray{Float64}(0.0)\n",
       " Gray{Float64}(0.12205)       Gray{Float64}(0.12989)\n",
       " Gray{Float64}(0.09852)       Gray{Float64}(0.0)\n",
       " Gray{Float64}(0.11421)    …  Gray{Float64}(0.15342)\n",
       " Gray{Float64}(0.33382)       Gray{Float64}(0.38873)\n",
       " Gray{Float64}(0.40441)       Gray{Float64}(0.42794)\n",
       " Gray{Float64}(0.45932)       Gray{Float64}(0.42794)\n",
       " Gray{Float64}(0.4201)        Gray{Float64}(0.43579)\n",
       " Gray{Float64}(0.37304)    …  Gray{Float64}(0.38873)\n",
       " Gray{Float64}(0.30245)       Gray{Float64}(0.31029)\n",
       " Gray{Float64}(0.20833)       Gray{Float64}(0.24754)\n",
       " Gray{Float64}(0.16911)       Gray{Float64}(0.21617)\n",
       " Gray{Float64}(0.17695)       Gray{Float64}(0.19264)\n",
       " Gray{Float64}(0.1848)     …  Gray{Float64}(0.13774)\n",
       " Gray{Float64}(0.12989)       Gray{Float64}(0.059303)\n",
       " Gray{Float64}(0.0043997)     Gray{Float64}(0.0)\n",
       " Gray{Float64}(0.0)           Gray{Float64}(0.0)"
      ]
     },
     "metadata": {},
     "output_type": "display_data"
    },
    {
     "data": {
      "image/png": "[encoded data removed]",
      "text/html": [
       "<img src=\"data:image/png;base64,iVBORw0KGgoAAAANSUhEUgAAAHIAAAByCAAAAACqttqhAAAABGdBTUEAALGPC/xhBQAAAAFzUkdCAK7OHOkAAAAgY0hSTQAAeiYAAICEAAD6AAAAgOgAAHUwAADqYAAAOpgAABdwnLpRPAAAAy9JREFUaAW9wcFr1gUcx/E32+expz1oK9l6cGyMRhIOIdpl0KVLIEEQBN6CjkG3IOjepT9BCKJLIXSRIJGGIXkZiTKQyQNCDcdTugfjcWPyuIdH4u3lBxIev69XXkcPeJFz6Cu0gObQmMY9NEBX0SV0Dz1Br6BQLpQL5UK5UC4PaCyiRTSLLqMr6Fd0Ab2NXkV9dAFd5EUeoVAulAvlQrlQLjzzHjqDVtACOo/20I/oIppGE3QLbaMW+hidQTfQFTRGoVwoF8qFcqFc3kETdAX9SeM4WkfraAv10Bj9jk6jC+guaqN/0SraQqFcKBfKhXKhXLroGnrM8z5H36B1dB/10RDdQZ+ij9AResT/C+VCuVAulAvl0karaAG1UAttoQ/RddRHd9Ahjd9QC72LLqH30QaNUC6UC+VCuVAu8+gEegOtoUN0G/VRD03QIRrS+AN9jTroA7SB5tAAhXKhXCgXyoVyGaEpNEQ9dBc9RBPUQU9pjGgcoF/QeRrL6Cz6G4VyoVwoF8qFcplBXTRGPTRCb6Il9CVqoVk0RgdoBe2in9Fb6CRaQSMUyoVyoVwoF8qFZwaogxbRCtpBP6ARWkNfoA30LfoLfYeuoQEaojZaQqFcKBfKhXKhXHbQEjqLFtFPaIIGaIw20ffoNo0naII+QZtogHbRPgrlQrlQLpQL5TJGr6FZdAvtoiO0R2MOXUZTPO86Oo3W0CbaRbsolAvlQrlQLpRLC3XQCN1Ee2gbjdAptIp6qItu0NhA0+gz1EXbaIhCuVAulAvlQrnMoja6jwZojKbRKppHLTSHlmlso3/QVbSPzqF51EKhXCgXyoVyoVw6qI120HHURQdogHroMXoJ7aCTaAn10Sy6gzroJHqKQrlQLpQL5UK5jNEQ3UcddBP10AzqohM0HqK7PK+D2mgLLdMI5UK5UC6UC+Wyh2ZQi8YsWkdz6ADtoz56GZ1CbXSMRht1UR8dolAulAvlQrlQLk/REB1DD9EYtdAITaExmqYxobGPJqiFFtBtNEChXCgXyoVyoVz2UQuN0AE6QkdohLqoh8Y0jqERGqEBGqIDtE8jlAvlQrlQLpT7D1hEsfVGHXZxAAAAAElFTkSuQmCC\">"
      ],
      "text/plain": [
       "19×19 reinterpret(reshape, Gray{Float64}, ::Matrix{Float64}) with eltype Gray{Float64}:\n",
       " Gray{Float64}(0.092115)  Gray{Float64}(0.0)       …  Gray{Float64}(0.060683)\n",
       " Gray{Float64}(0.0)       Gray{Float64}(0.0)          Gray{Float64}(0.0)\n",
       " Gray{Float64}(0.0)       Gray{Float64}(0.24927)      Gray{Float64}(0.0)\n",
       " Gray{Float64}(0.19689)   Gray{Float64}(0.2388)       Gray{Float64}(0.0)\n",
       " Gray{Float64}(0.29118)   Gray{Float64}(0.039728)     Gray{Float64}(0.0)\n",
       " Gray{Float64}(0.32262)   Gray{Float64}(0.20737)   …  Gray{Float64}(0.0)\n",
       " Gray{Float64}(0.40643)   Gray{Float64}(0.375)        Gray{Float64}(0.0)\n",
       " Gray{Float64}(0.375)     Gray{Float64}(0.38548)      Gray{Float64}(0.15498)\n",
       " Gray{Float64}(0.41691)   Gray{Float64}(0.51121)      Gray{Float64}(0.22832)\n",
       " Gray{Float64}(0.41691)   Gray{Float64}(0.42739)      Gray{Float64}(0.34357)\n",
       " Gray{Float64}(0.29118)   Gray{Float64}(0.40643)   …  Gray{Float64}(0.29118)\n",
       " Gray{Float64}(0.27023)   Gray{Float64}(0.47978)      Gray{Float64}(0.17593)\n",
       " Gray{Float64}(0.29118)   Gray{Float64}(0.52168)      Gray{Float64}(0.11307)\n",
       " Gray{Float64}(0.35405)   Gray{Float64}(0.55312)      Gray{Float64}(0.13402)\n",
       " Gray{Float64}(0.39596)   Gray{Float64}(0.58455)      Gray{Float64}(0.12355)\n",
       " Gray{Float64}(0.375)     Gray{Float64}(0.52168)   …  Gray{Float64}(0.12355)\n",
       " Gray{Float64}(0.29118)   Gray{Float64}(0.41691)      Gray{Float64}(0.081637)\n",
       " Gray{Float64}(0.28071)   Gray{Float64}(0.35405)      Gray{Float64}(0.0)\n",
       " Gray{Float64}(0.22832)   Gray{Float64}(0.30166)      Gray{Float64}(0.0)"
      ]
     },
     "metadata": {},
     "output_type": "display_data"
    }
   ],
   "source": [
    "#Print 10 images contained in the given dataset.\n",
    "for i in 1:10\n",
    "    display(colorview(Gray, reshape(X[10 * i, :], 19, 19)))\n",
    "end"
   ]
  },
  {
   "cell_type": "markdown",
   "metadata": {},
   "source": [
    "### Q1.3 Correctness and efficiency\n",
    "\n",
    "Report the run times, using `@btime`, of your function for fitting NNMF on the MIT CBCL face data set at ranks $r=10, 20, 30, 40, 50$. For ease of comparison (and grading), please start your algorithm with the provided $\\mathbf{V}^{(0)}$ (first $r$ columns of [`V0.txt`](https://raw.githubusercontent.com/ucla-biostat-257/2024spring/master/hw/hw2/V0.txt)) and $\\mathbf{W}^{(0)}$ (first $r$ rows of [`W0.txt`](https://raw.githubusercontent.com/ucla-biostat-257/2024spring/master/hw/hw2/W0.txt)) and stopping criterion\n",
    "$$\n",
    "\\frac{|L^{(t+1)} - L^{(t)}|}{|L^{(t)}| + 1} \\le 10^{-4}.\n",
    "$$\n",
    "\n",
    "**Hint**: When I run the following code using my own implementation of `nnmf`\n",
    "```julia\n",
    "# provided start point\n",
    "V0full = readdlm(\"V0.txt\", ' ', Float64)\n",
    "W0full = readdlm(\"W0.txt\", ' ', Float64);\n",
    "\n",
    "# benchmarking\n",
    "for r in [10, 20, 30, 40, 50]\n",
    "    println(\"r=$r\")\n",
    "    V0 = V0full[:, 1:r]\n",
    "    W0 = W0full[1:r, :]\n",
    "    _, _, obj, niter = nnmf(X, r, V = V0, W = W0)\n",
    "    @btime nnmf($X, $r, V = $V0, W = $W0) setup=(\n",
    "        copyto!(V0, V0full[:, 1:r]), \n",
    "        copyto!(W0, W0full[1:r, :])\n",
    "        )\n",
    "    println(\"obj=$obj, niter=$niter\")\n",
    "end\n",
    "```\n",
    "the output is\n",
    "```\n",
    "r=10\n",
    "  162.662 ms (9 allocations: 437.19 KiB)\n",
    "obj=11730.866905748058, niter=239\n",
    "r=20\n",
    "  234.293 ms (9 allocations: 875.44 KiB)\n",
    "obj=8497.605595863002, niter=394\n",
    "r=30\n",
    "  259.524 ms (9 allocations: 1.28 MiB)\n",
    "obj=6621.94596847528, niter=482\n",
    "r=40\n",
    "  289.918 ms (9 allocations: 1.72 MiB)\n",
    "obj=5256.866299829562, niter=581\n",
    "r=50\n",
    "  397.511 ms (10 allocations: 2.15 MiB)\n",
    "obj=4430.362097310877, niter=698\n",
    "```\n",
    "Due to machine differences, your run times can be different from mine but certainly can not be order of magnitude longer. Your memory allocation should be less or equal to mine."
   ]
  },
  {
   "cell_type": "markdown",
   "metadata": {},
   "source": [
    "### Solution: "
   ]
  },
  {
   "cell_type": "code",
   "execution_count": 12,
   "metadata": {
    "scrolled": true
   },
   "outputs": [
    {
     "data": {
      "text/plain": [
       "test_allo (generic function with 1 method)"
      ]
     },
     "execution_count": 12,
     "metadata": {},
     "output_type": "execute_result"
    }
   ],
   "source": [
    "function test_allo(X, Y)\n",
    "    X - Y\n",
    "end"
   ]
  },
  {
   "cell_type": "code",
   "execution_count": 13,
   "metadata": {},
   "outputs": [
    {
     "name": "stdout",
     "output_type": "stream",
     "text": [
      "  105.524 ns (1 allocation: 896 bytes)\n"
     ]
    },
    {
     "data": {
      "text/plain": [
       "10×10 Matrix{Float64}:\n",
       " 0.0  0.0  0.0  0.0  0.0  0.0  0.0  0.0  0.0  0.0\n",
       " 0.0  0.0  0.0  0.0  0.0  0.0  0.0  0.0  0.0  0.0\n",
       " 0.0  0.0  0.0  0.0  0.0  0.0  0.0  0.0  0.0  0.0\n",
       " 0.0  0.0  0.0  0.0  0.0  0.0  0.0  0.0  0.0  0.0\n",
       " 0.0  0.0  0.0  0.0  0.0  0.0  0.0  0.0  0.0  0.0\n",
       " 0.0  0.0  0.0  0.0  0.0  0.0  0.0  0.0  0.0  0.0\n",
       " 0.0  0.0  0.0  0.0  0.0  0.0  0.0  0.0  0.0  0.0\n",
       " 0.0  0.0  0.0  0.0  0.0  0.0  0.0  0.0  0.0  0.0\n",
       " 0.0  0.0  0.0  0.0  0.0  0.0  0.0  0.0  0.0  0.0\n",
       " 0.0  0.0  0.0  0.0  0.0  0.0  0.0  0.0  0.0  0.0"
      ]
     },
     "execution_count": 13,
     "metadata": {},
     "output_type": "execute_result"
    }
   ],
   "source": [
    "A = Random.rand(10, 10)\n",
    "size(A)\n",
    "@btime test_allo($A, $A)"
   ]
  },
  {
   "cell_type": "code",
   "execution_count": 14,
   "metadata": {
    "scrolled": true
   },
   "outputs": [
    {
     "name": "stdout",
     "output_type": "stream",
     "text": [
      "  753.317 μs (2 allocations: 7.63 MiB)\n"
     ]
    },
    {
     "data": {
      "text/plain": [
       "1000×1000 Matrix{Float64}:\n",
       " 0.0  0.0  0.0  0.0  0.0  0.0  0.0  0.0  …  0.0  0.0  0.0  0.0  0.0  0.0  0.0\n",
       " 0.0  0.0  0.0  0.0  0.0  0.0  0.0  0.0     0.0  0.0  0.0  0.0  0.0  0.0  0.0\n",
       " 0.0  0.0  0.0  0.0  0.0  0.0  0.0  0.0     0.0  0.0  0.0  0.0  0.0  0.0  0.0\n",
       " 0.0  0.0  0.0  0.0  0.0  0.0  0.0  0.0     0.0  0.0  0.0  0.0  0.0  0.0  0.0\n",
       " 0.0  0.0  0.0  0.0  0.0  0.0  0.0  0.0     0.0  0.0  0.0  0.0  0.0  0.0  0.0\n",
       " 0.0  0.0  0.0  0.0  0.0  0.0  0.0  0.0  …  0.0  0.0  0.0  0.0  0.0  0.0  0.0\n",
       " 0.0  0.0  0.0  0.0  0.0  0.0  0.0  0.0     0.0  0.0  0.0  0.0  0.0  0.0  0.0\n",
       " 0.0  0.0  0.0  0.0  0.0  0.0  0.0  0.0     0.0  0.0  0.0  0.0  0.0  0.0  0.0\n",
       " 0.0  0.0  0.0  0.0  0.0  0.0  0.0  0.0     0.0  0.0  0.0  0.0  0.0  0.0  0.0\n",
       " 0.0  0.0  0.0  0.0  0.0  0.0  0.0  0.0     0.0  0.0  0.0  0.0  0.0  0.0  0.0\n",
       " 0.0  0.0  0.0  0.0  0.0  0.0  0.0  0.0  …  0.0  0.0  0.0  0.0  0.0  0.0  0.0\n",
       " 0.0  0.0  0.0  0.0  0.0  0.0  0.0  0.0     0.0  0.0  0.0  0.0  0.0  0.0  0.0\n",
       " 0.0  0.0  0.0  0.0  0.0  0.0  0.0  0.0     0.0  0.0  0.0  0.0  0.0  0.0  0.0\n",
       " ⋮                        ⋮              ⋱            ⋮                   \n",
       " 0.0  0.0  0.0  0.0  0.0  0.0  0.0  0.0     0.0  0.0  0.0  0.0  0.0  0.0  0.0\n",
       " 0.0  0.0  0.0  0.0  0.0  0.0  0.0  0.0     0.0  0.0  0.0  0.0  0.0  0.0  0.0\n",
       " 0.0  0.0  0.0  0.0  0.0  0.0  0.0  0.0  …  0.0  0.0  0.0  0.0  0.0  0.0  0.0\n",
       " 0.0  0.0  0.0  0.0  0.0  0.0  0.0  0.0     0.0  0.0  0.0  0.0  0.0  0.0  0.0\n",
       " 0.0  0.0  0.0  0.0  0.0  0.0  0.0  0.0     0.0  0.0  0.0  0.0  0.0  0.0  0.0\n",
       " 0.0  0.0  0.0  0.0  0.0  0.0  0.0  0.0     0.0  0.0  0.0  0.0  0.0  0.0  0.0\n",
       " 0.0  0.0  0.0  0.0  0.0  0.0  0.0  0.0     0.0  0.0  0.0  0.0  0.0  0.0  0.0\n",
       " 0.0  0.0  0.0  0.0  0.0  0.0  0.0  0.0  …  0.0  0.0  0.0  0.0  0.0  0.0  0.0\n",
       " 0.0  0.0  0.0  0.0  0.0  0.0  0.0  0.0     0.0  0.0  0.0  0.0  0.0  0.0  0.0\n",
       " 0.0  0.0  0.0  0.0  0.0  0.0  0.0  0.0     0.0  0.0  0.0  0.0  0.0  0.0  0.0\n",
       " 0.0  0.0  0.0  0.0  0.0  0.0  0.0  0.0     0.0  0.0  0.0  0.0  0.0  0.0  0.0\n",
       " 0.0  0.0  0.0  0.0  0.0  0.0  0.0  0.0     0.0  0.0  0.0  0.0  0.0  0.0  0.0"
      ]
     },
     "execution_count": 14,
     "metadata": {},
     "output_type": "execute_result"
    }
   ],
   "source": [
    "B = Random.rand(1000, 1000)\n",
    "size(B)\n",
    "@btime test_allo($B, $B)"
   ]
  },
  {
   "cell_type": "markdown",
   "metadata": {},
   "source": [
    "Notice that the allocation number in julia is highly related to the size of allocated item, for eg, the subtraction result (X - Y) in following function. Although we are using the same function, as A and B have different size, their allocations are also different. Hence now we need to break the allocated item in our algorithm to make it as small as possible. And also if possible, preallocate items as much as we can."
   ]
  },
  {
   "cell_type": "code",
   "execution_count": 15,
   "metadata": {},
   "outputs": [
    {
     "name": "stdout",
     "output_type": "stream",
     "text": [
      "(2429, 50)\n",
      "(50, 361)\n"
     ]
    }
   ],
   "source": [
    "# provided start point\n",
    "V0full = readdlm(\"V0.txt\", ' ', Float64)\n",
    "W0full = readdlm(\"W0.txt\", ' ', Float64)\n",
    "println(size(V0full))\n",
    "println(size(W0full))"
   ]
  },
  {
   "cell_type": "code",
   "execution_count": 16,
   "metadata": {
    "scrolled": true
   },
   "outputs": [
    {
     "name": "stdout",
     "output_type": "stream",
     "text": [
      "r=10\n",
      "obj=11730.388009854883, niter=239\n",
      "  320.840 ms (2 allocations: 64 bytes)\n",
      "r=20\n",
      "obj=8497.222317850305, niter=394\n",
      "  811.783 ms (2 allocations: 64 bytes)\n",
      "r=30\n",
      "obj=6621.627345486224, niter=482\n",
      "  1.254 s (2 allocations: 64 bytes)\n",
      "r=40\n",
      "obj=5256.663870563498, niter=581\n",
      "  1.733 s (3 allocations: 80 bytes)\n",
      "r=50\n",
      "obj=4430.201581697271, niter=698\n",
      "  2.049 s (3 allocations: 80 bytes)\n"
     ]
    }
   ],
   "source": [
    "for r in [10, 20, 30, 40, 50]\n",
    "    println(\"r=$r\")\n",
    "    m, n = size(X)\n",
    "    V0 = deepcopy(V0full[:, 1 : r])\n",
    "    W0 = deepcopy(W0full[1 : r, :])\n",
    "    XWt0 = zeros(m, r)\n",
    "    BWt0 = zeros(m, r)\n",
    "    VtX0 = zeros(r, n)\n",
    "    VtB0 = zeros(r, n)\n",
    "    XtX0 = dot(X, X)\n",
    "    VtV0  = zeros(r, r)\n",
    "    WWt0  = zeros(r, r)\n",
    "    _, _, obj, niter = nnmf(X, r, V = V0, W = W0, XtX = XtX0, maxiter = 1000, \n",
    "    tolfun = 1e-4, XWt = XWt0, BWt = BWt0, VtX = VtX0, VtB = VtB0, VtV = VtV0, WWt = WWt0 \n",
    "    )\n",
    "    println(\"obj=$obj, niter=$niter\")\n",
    "    @btime nnmf($X, $r, V = $V0, W = $W0, XtX = $XtX0, maxiter = 1000, \n",
    "    tolfun = 1e-4, XWt = $XWt0, BWt = $BWt0, VtX = $VtX0, VtB = $VtB0, VtV = $VtV0, WWt = $WWt0 \n",
    "    ) setup=(\n",
    "        copyto!($V0, $(V0full[:, 1 : r])), \n",
    "        copyto!($W0, $(W0full[1 : r, :]))\n",
    "        )\n",
    "end"
   ]
  },
  {
   "cell_type": "markdown",
   "metadata": {},
   "source": [
    "### Q1.4 Non-uniqueness\n",
    "\n",
    "Choose an $r \\in \\{10, 20, 30, 40, 50\\}$ and start your algorithm from a different $\\mathbf{V}^{(0)}$ and $\\mathbf{W}^{(0)}$. Do you obtain the same objective value and $(\\mathbf{V}, \\mathbf{W})$? Explain what you find."
   ]
  },
  {
   "cell_type": "markdown",
   "metadata": {},
   "source": [
    "### Solution"
   ]
  },
  {
   "cell_type": "code",
   "execution_count": 17,
   "metadata": {},
   "outputs": [
    {
     "name": "stdout",
     "output_type": "stream",
     "text": [
      "[4.065152683368012e-8 0.02391830987010442 0.03684049147645144 0.0007717745770361723 0.010498902733499713 0.020377150588402212 0.007668627993523383 0.013016740803883535 1.936521277749764e-28 0.028321162266428977; 2.0669226656511503e-5 0.01676918953044334 0.026807155095314093 0.012985387192079775 0.017899852432078558 0.02021986283178161 0.00017741477404113908 0.010759472448517788 1.2574184873985358e-11 0.01995292164301744; 0.0029571103974039255 0.031056070262952068 0.0355727541138942 0.013386226372229755 0.0200795078656311 0.01362971725992806 1.0894950242341938e-8 0.011174676990424364 0.01102814220219383 0.03342977403146179; 9.571033593925102e-6 0.019988411287695445 0.03991106657965062 0.009043767590485016 0.02458793276207752 0.0074125104690388535 0.006506741395820494 0.012152887481456626 8.388164654261702e-13 0.07945643823994417; 0.011465264362575072 0.020215110818753337 0.023918001401180496 0.009158309706730783 0.022757877250916433 2.677244422335376e-12 2.1359414948267575e-10 0.008303106370922637 2.233919168343749e-16 0.029974192617188568; 0.011550639231416967 3.817518961296185e-10 0.012105203450775023 0.01946790552887129 0.024462333085659514 1.5410491208878097e-14 2.8490180687880976e-21 4.100703705646898e-8 0.008239392892091055 0.05855463303818101; 0.01730176686753497 0.0393926623005276 0.017057241537213177 0.013597639562304554 0.028100029802056614 0.0017304281401042346 0.011322088031192163 5.045189204682021e-13 2.630280502914076e-65 0.060420526975087784; 0.022709633382036163 0.012545055040412865 0.015339800381996397 1.4677151908172767e-73 0.01552451001720431 8.849711951437523e-40 4.972732005835226e-13 0.028512223077537875 0.00014340618024400134 0.009842705723663582; 0.011633614833542867 0.00020917839482142167 0.010326046816667345 6.435196139787927e-90 0.02663057295906932 4.795854660240822e-29 1.0432400188218693e-17 0.020160363805338373 0.008921301821108627 0.010109449718754248; 0.019896951943742556 0.004572501469484711 0.01760452176678685 7.2791642596915275e-84 0.02108440679200693 1.0685711850793576e-32 1.7131517303490667e-22 0.02155282781118344 0.015475789927773544 0.01641906254652326]\n",
      "[1.98838914220761e-64 1.247669007200141e-53 4.236834671140138e-37 4.184515983696915e-53 1.366849748586256e-60 3.68341404226192e-42 1.4412112575727355e-18 8.266473714564823e-6 0.36883392521134417 0.7308391176860354; 5.008532883861462e-27 2.3803648259628298e-26 4.807413715684812e-15 3.1105321535950644e-45 8.763930747286797e-65 4.7137265475603337e-35 1.858148395463917e-10 0.007085753982305524 0.2447843554920731 0.07704979996944994; 2.311492031341884e-17 1.43591503820239e-42 5.959745931187493e-15 0.5375506207541451 0.5720782755820771 0.5758601122085056 0.2889131829573112 0.0001116889903850406 1.1144247573057468e-5 6.758456679746145e-8; 1.2424064925806874e-27 3.8703140319357125e-20 3.3272640096612885e-27 2.4357470341311234e-33 1.7666864055245417e-36 2.0981466667746484e-16 9.496881476926241e-7 1.6884836079393556e-8 7.958772669627771e-7 0.00025185205142346607; 2.55230861162596e-28 1.9086940411118315e-20 3.4650621382604163e-14 1.719623201260223e-36 1.4560146164269276e-40 6.645970030687349e-16 0.3018526244313639 1.4766972971375198 1.7450166470754849 2.6225602395717917; 3.348228087118669e-45 3.2354577946863457e-18 2.29197427189871e-10 5.8765871396957964e-27 6.651136095026737e-35 1.7528541331009133e-30 5.239298245477675e-14 1.88220148678562e-5 0.014482020346250974 0.22347161856757458; 6.858673346743051e-22 7.906888929376399e-17 2.3939346951423903e-14 3.664618489638468e-29 1.737540474894169e-29 8.171375855378154e-19 0.00024434820515216145 0.7712051451464064 1.8540733026338072 2.207438592262591; 1.883697297494685e-31 1.6417989089344067e-16 1.464965305530811e-20 1.1503503401243442e-48 3.527097888173127e-60 1.3984126560893547e-33 8.89297615396307e-13 9.826608898296468e-9 2.8770357736397404e-5 4.699944783367909e-6; 3.2573511203605777e-52 4.331568134040872e-19 7.869886813412091e-12 1.0349562295216513e-21 2.331625795918219e-20 1.6115880731941666e-16 1.1302452178829304e-10 3.091792358661097e-7 0.002881918229423305 0.008608283479956586; 1.5138355122164438e-42 1.7014817802046772e-27 8.388954843380775e-26 3.462832625683915e-39 2.8246174492759757e-30 4.0742823914835193e-10 0.003661794989127508 0.0003169552414040872 0.0002744342610154632 1.2427985533597853e-7]\n",
      "4430.201581697271\n",
      "698\n"
     ]
    }
   ],
   "source": [
    "r = 50\n",
    "m, n = size(X)\n",
    "V0 = deepcopy(V0full[:, 1 : r])\n",
    "W0 = deepcopy(W0full[1 : r, :])\n",
    "XWt0 = zeros(m, r)\n",
    "BWt0 = zeros(m, r)\n",
    "VtX0 = zeros(r, n)\n",
    "VtB0 = zeros(r, n)\n",
    "XtX0 = dot(X, X)\n",
    "VtV0  = zeros(r, r)\n",
    "WWt0  = zeros(r, r)\n",
    "V_pre_1, W_pre_1, obj_1, niter_1 = nnmf(X, r, V = V0, W = W0, XtX = XtX0, maxiter = 1000, \n",
    "tolfun = 1e-4, XWt = XWt0, BWt = BWt0, VtX = VtX0, VtB = VtB0, VtV = VtV0, WWt = WWt0 \n",
    ")\n",
    "println(V_pre_1[1 : 10, 1 : 10])\n",
    "println(W_pre_1[1 : 10, 1 : 10])\n",
    "println(obj_1)\n",
    "println(niter_1)"
   ]
  },
  {
   "cell_type": "code",
   "execution_count": 18,
   "metadata": {},
   "outputs": [
    {
     "name": "stdout",
     "output_type": "stream",
     "text": [
      "[6.538066417495421e-11 0.003978810139391513 0.019495561450665028 0.002158681139869283 1.7864770547298018e-29 2.4341409404311576e-16 0.016121279262156327 0.008862420086290311 0.026027592120295928 0.004114399007267844; 7.083104143007196e-10 5.853580321303037e-7 0.03411660339652733 0.030558290438606948 1.269264227361039e-49 5.908039359045029e-18 0.004750013993249431 9.626996884174166e-10 0.012681026440772729 0.012235194336712414; 1.5183104100508694e-25 2.6625940730407592e-8 0.01571165638909455 0.026473030611346933 1.148516874017749e-34 7.836897791334964e-15 0.008607393643580574 1.1466447070422253e-10 0.013652187940768947 0.009729968143656079; 8.76237920118752e-8 0.011246959156282056 9.411451018961091e-25 0.01647175351378067 0.0006550200763051388 1.8432202836604158e-7 0.015562411521701666 0.0031209286627609284 0.0023516375450620595 0.004463035511569012; 8.248364464248013e-15 0.001287940065847217 0.008189721124071075 0.036482511033670846 1.5758900283056743e-32 0.00295501988434169 0.018313683274274257 1.895068686664368e-6 0.009605691432387929 4.002077551145221e-12; 9.640398371994607e-6 0.001793416501869523 0.0189199971500843 0.0557165522824901 3.735650017105781e-36 0.01180876089051344 0.01086263687273169 1.0424317612290123e-11 0.0010127435251724062 7.003815304709204e-7; 0.0004058256781059084 0.007215618330241853 3.061448365471652e-26 0.04668658619593984 0.0051280052344278215 0.007388493990892917 0.014822694068854147 0.0022410513336122177 2.593366923950517e-6 3.0096184370631584e-6; 0.0024019169688273083 0.014917865296092628 0.012976302750090764 0.011833494536251862 5.999832074581078e-50 0.007250600604826854 0.008220931221364691 0.014481490931545929 0.008209279667237166 0.017632875602030865; 5.197220345956684e-9 0.012140303114257168 0.015303299712022777 0.011760080468250184 5.4255621866011655e-30 0.004574675542884065 9.889549636755665e-8 0.029343595564353855 0.0019027218094847267 0.013590286681392642; 4.839934766988456e-10 0.01254742096863971 0.005083418864504588 0.01111912233957737 2.6845719991763324e-28 6.68330389821899e-5 0.006405361565534922 0.02229608418301896 0.009039999424947577 0.027007705800507445]\n",
      "[1.1093557236369068e-61 3.601151066091545e-32 2.3256002808814365e-13 1.2599984926834533e-19 4.640431531736162e-24 5.883080748902412e-15 0.5905557899419587 2.0869503375586267 3.1840460883511437 4.195246882116576; 5.957378988949617e-29 4.0245171575175717e-41 1.550290102412477e-29 3.263369425387003e-28 1.018108000100563e-21 1.9056119350273008e-18 1.759975748471192e-14 1.8513680688483868e-9 0.0074833862746064485 7.03837359824195e-5; 1.957776240081503 3.3940323409257043 2.008554345246671 1.1320193714822777e-9 2.6521193372795088e-27 1.6115268468337256e-17 0.0037441613890964428 0.4840170963241216 0.584539910063137 0.16980975612597193; 2.4927833878172555e-49 1.1926633476789414e-53 4.785355973435056e-27 6.04905596758589e-20 3.0825872481659725e-29 3.122210787542477e-21 2.5865285224168614e-6 0.09267711745926306 0.005791922681885669 3.9686664256536744e-5; 4.558285462757652e-64 1.834688197866232e-19 0.8327468346176432 0.641442137167635 7.889743959769627e-29 5.373885091034576e-22 2.831171987538882e-12 0.00028467206137266495 0.00891455836420548 0.0010305264214197686; 1.3330863566059187e-42 7.332405533051045e-34 7.405005275036853e-11 7.036870505641787e-14 2.4687083140785197e-24 7.626210820022448e-16 4.6133546794261325e-7 0.055683538319359606 0.29599667204432417 0.42900987543035185; 3.866695739289382e-27 1.6267132475895541e-25 1.1557196929142483e-7 0.0013669162343152726 1.0260213665405556e-18 6.232154631888794e-13 0.0004998279342620927 0.00971402893400583 0.005002653251437862 0.002161043493739426; 1.9343068297621018e-42 1.1395147014442584e-36 7.405926646676036e-28 9.869513500071548e-21 6.025820739392072e-25 2.6232735873958942e-20 4.556164733060295e-12 5.957082905514188e-7 3.495286488524699e-10 8.28542839835499e-11; 9.365606164303623e-36 5.787190303660651e-38 2.1261799987923904e-21 2.3728935899717923e-11 9.402750136333388e-16 8.625343373768258e-7 0.26603262200755345 0.9462829343357582 1.6525396533479788 1.6536308359151541; 2.0713356380862583e-62 1.9060137756273233e-44 7.787906366049262e-26 4.347477972111803e-16 2.1842747822771692e-10 0.004258072491399478 0.08756860948498306 0.681120582104658 1.7815344005234766 2.2019187505608606]\n",
      "4474.555552967096\n",
      "636\n"
     ]
    }
   ],
   "source": [
    "Random.seed!(199) # seed\n",
    "r = 50\n",
    "m, n = size(X)\n",
    "V0 = deepcopy(Random.rand(2429, 50)[:, 1 : r])\n",
    "W0 = deepcopy(Random.rand(50, 361)[1 : r, :])\n",
    "XWt0 = zeros(m, r)\n",
    "BWt0 = zeros(m, r)\n",
    "VtX0 = zeros(r, n)\n",
    "VtB0 = zeros(r, n)\n",
    "XtX0 = dot(X, X)\n",
    "VtV0  = zeros(r, r)\n",
    "WWt0  = zeros(r, r)\n",
    "V_pre_2, W_pre_2, obj_2, niter_2 = nnmf(X, r, V = V0, W = W0, XtX = XtX0, maxiter = 1000, \n",
    "tolfun = 1e-4, XWt = XWt0, BWt = BWt0, VtX = VtX0, VtB = VtB0, VtV = VtV0, WWt = WWt0 \n",
    ")\n",
    "println(V_pre_2[1 : 10, 1 : 10])\n",
    "println(W_pre_2[1 : 10, 1 : 10])\n",
    "println(obj_2)\n",
    "println(niter_2)"
   ]
  },
  {
   "cell_type": "code",
   "execution_count": 19,
   "metadata": {
    "scrolled": true
   },
   "outputs": [
    {
     "name": "stdout",
     "output_type": "stream",
     "text": [
      "Norm of the difference matrix between two estimates of V: 6.239258527891618\n",
      "Standard norm of the difference matrix between two estimates of V: 5.1373063218539464e-5\n",
      "Norm of the difference matrix between two estimates of W: 283.81941827204616\n",
      "Standard norm of the difference matrix between two estimates of W: 0.015724067494296185\n"
     ]
    }
   ],
   "source": [
    "print(\"Norm of the difference matrix between two estimates of V: \")\n",
    "println(norm(V_pre_1 - V_pre_2))\n",
    "print(\"Standard norm of the difference matrix between two estimates of V: \")\n",
    "println(norm(V_pre_1 - V_pre_2) / length(V_pre_1))\n",
    "\n",
    "print(\"Norm of the difference matrix between two estimates of W: \")\n",
    "println(norm(W_pre_1 - W_pre_2))\n",
    "print(\"Standard norm of the difference matrix between two estimates of W: \")\n",
    "println(norm(W_pre_1 - W_pre_2) / length(W_pre_1))"
   ]
  },
  {
   "cell_type": "code",
   "execution_count": 20,
   "metadata": {},
   "outputs": [
    {
     "name": "stdout",
     "output_type": "stream",
     "text": [
      "[9.023785035804864e-32 1.2954238504603117e-14 0.0007945583192761185 0.00972177730882708 0.00851671944079548 2.311864623161503e-14 0.005532180967341811 0.02392368714121078 2.5273921432812877e-13 0.017883755886111026; 6.610160154794565e-17 1.1532532740082585e-11 0.011260559227936612 0.029969067704498937 0.00015640532367997904 7.165986653410197e-5 0.02219496749010544 0.023293694750979435 2.765097698967052e-10 0.02341020298841589; 0.00015639386609801476 0.009163307393199682 0.013775539991771238 0.031848043072114876 0.0012438517607768046 1.8111457804491872e-6 0.021358502722995946 0.009793361543721235 0.002222542341806534 0.017376467019037833; 4.3992495320229846e-16 1.1979999253072258e-16 0.02067849616439589 0.012775903332709407 8.981387218113391e-12 7.953812265897265e-21 0.012076077510544651 0.021660145762480428 6.865047269697201e-29 0.015893308204228577; 4.868492045076528e-38 2.5593275788483508e-26 2.3009766049946088e-27 0.04287971708178799 3.153245301228111e-5 0.005776638605204499 0.021154199174170683 0.01265985087123151 0.0012275116205559837 0.021160003798797872; 2.707718344111385e-7 0.00855194828631959 2.8369501137707267e-10 0.03294100302463414 6.571070799074655e-14 0.006543139422082094 0.03895885639186167 0.02958958050049632 1.6815529549419424e-27 0.01838310910684819; 9.548364286525371e-22 2.1221776590881e-28 0.0005563120361762098 0.044011755009331556 5.079395158355319e-22 2.8474287869819205e-5 0.01873219146077935 0.02847286793842908 1.499400441850924e-20 0.019569051987245557; 0.016961488892063514 0.0038011090328886102 1.1545362442376657e-6 0.030003077102988465 0.013771533328212801 5.365160953258465e-20 3.765118850160406e-15 9.005280508506929e-23 1.1078070944030946e-37 0.01811819628540997; 0.011962226348494115 0.013156659146947882 3.909479476494937e-13 0.022990807869240713 0.024263472101155835 0.002854269308925751 3.857140220162575e-6 2.3579564752128174e-20 5.587021750948828e-58 0.020137171350764357; 0.021714934014484443 0.02507714152426995 8.187673264651479e-9 0.02136519190065423 0.022241146399520333 0.000614877997213205 8.716482002667232e-24 1.8023916141366554e-11 8.70483163427494e-54 0.021057332662620425]\n",
      "[1.2590454707733844e-26 2.2471070981151127e-20 3.493891583699885e-13 0.003936896461954083 1.8375600739322056e-15 2.004333571923079e-27 6.149183310514108e-20 8.017761886906617e-9 9.748041210084594e-5 1.21745530396799e-6; 1.7852529561525964e-93 3.38716500996376e-29 4.966565286945539e-12 1.1730862936355934e-37 8.676492163487692e-43 2.6378651314183303e-31 2.8597719310682947e-18 1.2449177882286854e-6 0.0004428797690544265 0.020980306370785917; 7.960674486383466e-54 5.4208537916244754e-24 3.190943822144972e-18 7.101318494149948e-29 3.8792036208991156e-22 7.529019463988858e-24 2.1484459026507158e-15 4.512767487414725e-5 1.6458763468276838 2.69238061237926; 5.0411747816318785e-14 1.0195908871943588e-12 8.400797697546155e-14 2.6768019777401464e-18 2.1163001430734955e-20 9.840037168949404e-18 4.970342086311841e-8 0.3226958623607182 0.8901368080451233 1.4459768197083198; 1.4621833312227896e-38 6.958462942103065e-20 2.010318837039742e-17 1.2840033992473918e-25 1.4311113980541096e-31 1.3201650447523884e-36 4.049477806756387e-18 8.497204561907038e-8 2.4028005851920424e-5 3.4002782827548774e-8; 3.089399200808161e-27 1.7984733746906317e-12 2.1922230015321737e-18 1.5321943201998184e-54 3.382767216597481e-42 6.0004445673343165e-30 2.2311714966436833e-14 0.0034400606630868445 0.33295154136985067 0.7674900281287489; 3.8270875103785205e-51 5.632834260342737e-10 2.1940073721246348e-14 4.6928157838969676e-54 3.4301076206502285e-39 1.2641117985250534e-28 2.4578018971095728e-17 1.9332174642260096e-5 0.05545026356746809 0.011474005187635559; 3.083430556823353e-7 1.5927495521415178e-6 2.1061853325588102e-7 1.682536496012061e-17 0.01133728498631531 0.28177340878260904 0.4603797661183535 0.4561121025837691 0.04034477969115945 4.2093749594049536e-5; 1.5825744051876398e-38 1.6600670585478571e-21 3.008597920469008e-21 2.279690177856369e-40 2.8894772040625917e-37 1.7283261292151715e-23 1.887955684510467e-8 0.009079861115823689 0.2122185876526192 0.6266406398084022; 5.826131866544022e-10 4.598456569229751e-13 1.9132615015576e-13 4.3944711195684286e-30 4.6739121306703696e-24 1.7499946114616578e-14 2.6710121522814243e-8 0.040891710594633604 0.6079181250988017 1.310082744888204]\n",
      "4413.334600997157\n",
      "657\n"
     ]
    }
   ],
   "source": [
    "Random.seed!(399) # seed\n",
    "r = 50\n",
    "m, n = size(X)\n",
    "V0 = deepcopy(Random.rand(2429, 50)[:, 1 : r])\n",
    "W0 = deepcopy(Random.rand(50, 361)[1 : r, :])\n",
    "XWt0 = zeros(m, r)\n",
    "BWt0 = zeros(m, r)\n",
    "VtX0 = zeros(r, n)\n",
    "VtB0 = zeros(r, n)\n",
    "XtX0 = dot(X, X)\n",
    "VtV0  = zeros(r, r)\n",
    "WWt0  = zeros(r, r)\n",
    "V_pre_3, W_pre_3, obj_3, niter_3 = nnmf(X, r, V = V0, W = W0, XtX = XtX0, maxiter = 1000, \n",
    "tolfun = 1e-4, XWt = XWt0, BWt = BWt0, VtX = VtX0, VtB = VtB0, VtV = VtV0, WWt = WWt0 \n",
    ")\n",
    "println(V_pre_3[1 : 10, 1 : 10])\n",
    "println(W_pre_3[1 : 10, 1 : 10])\n",
    "println(obj_3)\n",
    "println(niter_3)"
   ]
  },
  {
   "cell_type": "code",
   "execution_count": 21,
   "metadata": {},
   "outputs": [
    {
     "name": "stdout",
     "output_type": "stream",
     "text": [
      "Norm of the difference matrix between two estimates of V: 6.496573703596846\n",
      "Standard norm of the difference matrix between two estimates of V: 5.349175548453558e-5\n",
      "Norm of the difference matrix between two estimates of W: 297.600752673087\n",
      "Standard norm of the difference matrix between two estimates of W: 0.016487576325378783\n"
     ]
    }
   ],
   "source": [
    "print(\"Norm of the difference matrix between two estimates of V: \")\n",
    "println(norm(V_pre_1 - V_pre_3))\n",
    "print(\"Standard norm of the difference matrix between two estimates of V: \")\n",
    "println(norm(V_pre_1 - V_pre_3) / length(V_pre_1))\n",
    "\n",
    "print(\"Norm of the difference matrix between two estimates of W: \")\n",
    "println(norm(W_pre_1 - W_pre_3))\n",
    "print(\"Standard norm of the difference matrix between two estimates of W: \")\n",
    "println(norm(W_pre_1 - W_pre_3) / length(W_pre_1))"
   ]
  },
  {
   "cell_type": "markdown",
   "metadata": {},
   "source": [
    "Based on the above two tests, we can obtain that there are small differences between different estimates of V and of W. However, if we standardize the difference based on the number of entries, then this difference is negligible."
   ]
  },
  {
   "cell_type": "markdown",
   "metadata": {},
   "source": [
    "### Q1.5 Fixed point\n",
    "\n",
    "For the same $r$, start your algorithm from $v_{ik}^{(0)} = w_{kj}^{(0)} = 1$ for all $i,j,k$. Do you obtain the same objective value and $(\\mathbf{V}, \\mathbf{W})$? Explain what you find."
   ]
  },
  {
   "cell_type": "markdown",
   "metadata": {},
   "source": [
    "### Solution"
   ]
  },
  {
   "cell_type": "code",
   "execution_count": 22,
   "metadata": {},
   "outputs": [
    {
     "name": "stdout",
     "output_type": "stream",
     "text": [
      "[0.005474939340231991 0.005474939340231991 0.005474939340231991 0.005474939340231991 0.005474939340231993 0.005474939340231991 0.005474939340231991 0.005474939340231991 0.005474939340231991 0.005474939340231991; 0.0054413145617086735 0.0054413145617086735 0.0054413145617086735 0.0054413145617086735 0.005441314561708686 0.0054413145617086735 0.0054413145617086735 0.0054413145617086735 0.0054413145617086735 0.0054413145617086735; 0.005511783960834534 0.005511783960834534 0.005511783960834534 0.005511783960834534 0.005511783960834521 0.005511783960834534 0.005511783960834534 0.005511783960834534 0.005511783960834534 0.005511783960834534; 0.005285975963658269 0.005285975963658269 0.005285975963658269 0.005285975963658269 0.005285975963658264 0.005285975963658269 0.005285975963658269 0.005285975963658269 0.005285975963658269 0.005285975963658269; 0.005452659389404205 0.005452659389404205 0.005452659389404205 0.005452659389404205 0.005452659389404202 0.005452659389404205 0.005452659389404205 0.005452659389404205 0.005452659389404205 0.005452659389404205; 0.005316017586039112 0.005316017586039112 0.005316017586039112 0.005316017586039112 0.0053160175860391045 0.005316017586039112 0.005316017586039112 0.005316017586039112 0.005316017586039112 0.005316017586039112; 0.00520431159524575 0.00520431159524575 0.00520431159524575 0.00520431159524575 0.005204311595245753 0.00520431159524575 0.00520431159524575 0.00520431159524575 0.00520431159524575 0.00520431159524575; 0.00503256584563258 0.00503256584563258 0.00503256584563258 0.00503256584563258 0.0050325658456325814 0.00503256584563258 0.00503256584563258 0.00503256584563258 0.00503256584563258 0.00503256584563258; 0.004824504872740076 0.004824504872740076 0.004824504872740076 0.004824504872740076 0.004824504872740065 0.004824504872740076 0.004824504872740076 0.004824504872740076 0.004824504872740076 0.004824504872740076; 0.004792835583909922 0.004792835583909922 0.004792835583909922 0.004792835583909922 0.0047928355839099174 0.004792835583909922 0.004792835583909922 0.004792835583909922 0.004792835583909922 0.004792835583909922]\n",
      "[0.3699432997181361 0.46064336444838494 0.5112829016233481 0.47428608826789054 0.49904805575665084 0.6428541878844872 0.9136552685511524 1.1938199427172804 1.3510681083184837 1.3966559627248707; 0.3699432997181361 0.46064336444838494 0.5112829016233481 0.47428608826789054 0.49904805575665084 0.6428541878844872 0.9136552685511524 1.1938199427172804 1.3510681083184837 1.3966559627248707; 0.3699432997181361 0.46064336444838494 0.5112829016233481 0.47428608826789054 0.49904805575665084 0.6428541878844872 0.9136552685511524 1.1938199427172804 1.3510681083184837 1.3966559627248707; 0.3699432997181361 0.46064336444838494 0.5112829016233481 0.47428608826789054 0.49904805575665084 0.6428541878844872 0.9136552685511524 1.1938199427172804 1.3510681083184837 1.3966559627248707; 0.36994329971813605 0.460643364448385 0.5112829016233498 0.47428608826789054 0.4990480557566509 0.642854187884487 0.9136552685511526 1.1938199427172806 1.351068108318483 1.39665596272487; 0.3699432997181361 0.46064336444838494 0.5112829016233481 0.47428608826789054 0.49904805575665084 0.6428541878844872 0.9136552685511524 1.1938199427172804 1.3510681083184837 1.3966559627248707; 0.3699432997181361 0.46064336444838494 0.5112829016233481 0.47428608826789054 0.49904805575665084 0.6428541878844872 0.9136552685511524 1.1938199427172804 1.3510681083184837 1.3966559627248707; 0.3699432997181361 0.46064336444838494 0.5112829016233481 0.47428608826789054 0.49904805575665084 0.6428541878844872 0.9136552685511524 1.1938199427172804 1.3510681083184837 1.3966559627248707; 0.3699432997181361 0.46064336444838494 0.5112829016233481 0.47428608826789054 0.4990480557566509 0.6428541878844872 0.9136552685511524 1.1938199427172804 1.3510681083184837 1.3966559627248707; 0.3699432997181361 0.46064336444838494 0.5112829016233481 0.47428608826789054 0.49904805575665084 0.6428541878844872 0.9136552685511524 1.1938199427172804 1.3510681083184837 1.3966559627248707]\n",
      "25297.016511081805\n",
      "3\n"
     ]
    }
   ],
   "source": [
    "r = 50\n",
    "m, n = size(X)\n",
    "V0 = deepcopy(ones(2429, 50)[:, 1 : r])\n",
    "W0 = deepcopy(ones(50, 361)[1 : r, :])\n",
    "XWt0 = zeros(m, r)\n",
    "BWt0 = zeros(m, r)\n",
    "VtX0 = zeros(r, n)\n",
    "VtB0 = zeros(r, n)\n",
    "XtX0 = dot(X, X)\n",
    "VtV0  = zeros(r, r)\n",
    "WWt0  = zeros(r, r)\n",
    "V_pre_4, W_pre_4, obj_4, niter_4 = nnmf(X, r, V = V0, W = W0, XtX = XtX0, maxiter = 1000, \n",
    "tolfun = 1e-4, XWt = XWt0, BWt = BWt0, VtX = VtX0, VtB = VtB0, VtV = VtV0, WWt = WWt0 \n",
    ")\n",
    "println(V_pre_4[1 : 10, 1 : 10])\n",
    "println(W_pre_4[1 : 10, 1 : 10])\n",
    "println(obj_4)\n",
    "println(niter_4)"
   ]
  },
  {
   "cell_type": "code",
   "execution_count": 23,
   "metadata": {},
   "outputs": [
    {
     "name": "stdout",
     "output_type": "stream",
     "text": [
      "Norm of the difference matrix between two estimates of V: 4.8945439824632375\n",
      "Standard norm of the difference matrix between two estimates of V: 4.030089734428355e-5\n",
      "Norm of the difference matrix between two estimates of W: 222.13067975377578\n",
      "Standard norm of the difference matrix between two estimates of W: 0.012306408850624697\n"
     ]
    }
   ],
   "source": [
    "print(\"Norm of the difference matrix between two estimates of V: \")\n",
    "println(norm(V_pre_1 - V_pre_4))\n",
    "print(\"Standard norm of the difference matrix between two estimates of V: \")\n",
    "println(norm(V_pre_1 - V_pre_4) / length(V_pre_1))\n",
    "\n",
    "print(\"Norm of the difference matrix between two estimates of W: \")\n",
    "println(norm(W_pre_1 - W_pre_4))\n",
    "print(\"Standard norm of the difference matrix between two estimates of W: \")\n",
    "println(norm(W_pre_1 - W_pre_4) / length(W_pre_1))"
   ]
  },
  {
   "cell_type": "markdown",
   "metadata": {},
   "source": [
    "From above results, it is noticeable that the algorithm only runs 3 times to reach the break point, which means V and W being updated only 3 times. The reason may be that the initial values of V and W are close to the local minimums, and hence the algorithm stops at this local minimums and the estimations cannot be continued. Therefore, the choice of initial values is essential and sensitive to our algorithm."
   ]
  },
  {
   "cell_type": "markdown",
   "metadata": {},
   "source": [
    "### Q1.6 Interpret NNMF result\n",
    "\n",
    "Plot the basis images (rows of $\\mathbf{W}$) at rank $r=50$. What do you find?"
   ]
  },
  {
   "cell_type": "markdown",
   "metadata": {},
   "source": [
    "### Solution "
   ]
  },
  {
   "cell_type": "code",
   "execution_count": 24,
   "metadata": {
    "scrolled": true
   },
   "outputs": [
    {
     "data": {
      "image/png": "[encoded data removed]",
      "text/html": [
       "<img src=\"data:image/png;base64,iVBORw0KGgoAAAANSUhEUgAAAHIAAAByCAAAAACqttqhAAAABGdBTUEAALGPC/xhBQAAAAFzUkdCAK7OHOkAAAAgY0hSTQAAeiYAAICEAAD6AAAAgOgAAHUwAADqYAAAOpgAABdwnLpRPAAAAghJREFUaAW9wcGLjHEAxvHvu/toZdPaiyLREknu8h+g9uKssSd3Z0X+BU72oAm5saWVXJ3lpF1qk71IOciBZZl59Zx+09u7szPT9nw+YkwVNoX1mISIE3EiTsSJODGRPqOqsJpCxIk4ESfiRJwY035sAfuA9RmmpknEiTgRJ+JEnBjTFrbG5ESciBNxIk7EiT01jfUYRsSJOBEn4kSc2FM9difiRJyIE3EiTkxkGpvHLmAvGZWIE3EiTsSJOLGDCjuCfaFpHvtG8Qk7RdHBtrBZ7A0m4kSciBNxIk4d7BE2hZ3HrmI1dpemXzSdxGqKV9g6xTYm4kSciBNxIk7XsCfYYWwRu4Pdo+kMdp/dXcZmsKfYDCbiRJyIE3EiTttYH/uDvcMWsVWaPjLMd2wGO4CdxW5hC5iIE3EiTsSJOH2lOIrNYs9oV2E17Y5hB7EudokmESfiRJyIE3Faoehjf7Hj2CbtKoqa4ifFD9qJOBEn4kSciNNrinXsItbB3mMrtKsZZo52Ik7EiTgRJ+L0j6aHWBe7jd3E1rDn2ByTWMFEnIgTcSJOxIkdLGFLNB2iOIF9ZlSPMREn4kSciBNxYkCF1YxqE6toV9P0AhNxIk7EiTgRJwZcxzawt9hv2t3AHmAb2GmKc7TrYSJOxIk4ESfixIAuo1rGlmnah12haZVCxIk4ESfiRNx/e6RIUXeUsCQAAAAASUVORK5C\">"
      ],
      "text/plain": [
       "19×19 reinterpret(reshape, Gray{Float64}, ::Matrix{Float64}) with eltype Gray{Float64}:\n",
       " Gray{Float64}(1.98839e-64)  …  Gray{Float64}(2.48462e-38)\n",
       " Gray{Float64}(1.24767e-53)     Gray{Float64}(1.37279e-24)\n",
       " Gray{Float64}(4.23683e-37)     Gray{Float64}(1.10396e-21)\n",
       " Gray{Float64}(4.18452e-53)     Gray{Float64}(3.92605e-28)\n",
       " Gray{Float64}(1.36685e-60)     Gray{Float64}(5.8582e-30)\n",
       " Gray{Float64}(3.68341e-42)  …  Gray{Float64}(2.50681e-23)\n",
       " Gray{Float64}(1.44121e-18)     Gray{Float64}(9.88283e-12)\n",
       " Gray{Float64}(8.26647e-6)      Gray{Float64}(0.134432)\n",
       " Gray{Float64}(0.368834)        Gray{Float64}(0.354807)\n",
       " Gray{Float64}(0.730839)        Gray{Float64}(0.382191)\n",
       " Gray{Float64}(0.706065)     …  Gray{Float64}(1.00823)\n",
       " Gray{Float64}(0.610767)        Gray{Float64}(1.755)\n",
       " Gray{Float64}(0.294331)        Gray{Float64}(1.90719)\n",
       " Gray{Float64}(0.016579)        Gray{Float64}(1.37447)\n",
       " Gray{Float64}(1.53265e-13)     Gray{Float64}(0.684247)\n",
       " Gray{Float64}(1.67756e-16)  …  Gray{Float64}(0.317117)\n",
       " Gray{Float64}(9.62891e-13)     Gray{Float64}(0.0110806)\n",
       " Gray{Float64}(2.31583e-8)      Gray{Float64}(2.73192e-14)\n",
       " Gray{Float64}(4.80407e-23)     Gray{Float64}(8.87992e-65)"
      ]
     },
     "metadata": {},
     "output_type": "display_data"
    },
    {
     "data": {
      "image/png": "[encoded data removed]",
      "text/html": [
       "<img src=\"data:image/png;base64,iVBORw0KGgoAAAANSUhEUgAAAHIAAAByCAAAAACqttqhAAAABGdBTUEAALGPC/xhBQAAAAFzUkdCAK7OHOkAAAAgY0hSTQAAeiYAAICEAAD6AAAAgOgAAHUwAADqYAAAOpgAABdwnLpRPAAAAihJREFUaAW9wb+LzgEAx/H3cz5lkFIkkoVcujpJzim3WKQrZWO4bDYzBn+AwWAwKImyUcp8k2Lws+vS3aBnIvcDdwYD57qvPt/lq+899zzf59Tn9RKNtbCC/yXiRJyIE3EiTjS2CztB5RA2iL3D7tObiBNxIk7EiTjR2FfsE3YVu4Bdxh7SlIgTcSJOxIk4sc5BrE1n09gEdglboz8iTsSJOBEn4sQ6bZpaYzNEnIgTcSJOxInSDmwAW6JuN7ZIZQR7w2aIOBEn4kSciBOlZZpqYa+xQewj/RFxIk7EiTgRpwH6c4zKI+wkdhO7gj3H2lgbe4zNYSJOxIk4ESfiNEZTR7BpKqNUrmPXsHHqbmOnMREn4kSciBNxmqG3FnaDzo5iU9hebI66L9hnTMSJOBEn4kScvmHD2C3sFLaduuN0NoJNYfNYC9uDrWA/sRVMxIk4ESfiRJwofcDO0s15+jNPZyJOxIk4ESfixAaEDWIz9LYVO4AtYQtYC9uCrWIiTsSJOBEn4kRpCJvFCmwV24fN0NsfbJa6AhvCpjERJ+JEnIgTcaJ0BhvDnmDL2CRNrdHNAhURJ+JEnIgTcaL0CxvHHtDNTuww9hb7TW+LVESciBNxIk7EidJdbBFbpZvv2Ev6U1ARcSJOxIk4ESf+8ZTKKLYNe4EV2DBWYFNYQeUeth+7iP2gTsSJOBEn4kSc2MArOntPXQt7hp2jMoHdoU7EiTgRJ+JE3F9UTVE6ZkEJngAAAABJRU5ErkJg\">"
      ],
      "text/plain": [
       "19×19 reinterpret(reshape, Gray{Float64}, ::Matrix{Float64}) with eltype Gray{Float64}:\n",
       " Gray{Float64}(5.00853e-27)  …  Gray{Float64}(2.32139e-39)\n",
       " Gray{Float64}(2.38036e-26)     Gray{Float64}(3.10055e-31)\n",
       " Gray{Float64}(4.80741e-15)     Gray{Float64}(1.16514e-20)\n",
       " Gray{Float64}(3.11053e-45)     Gray{Float64}(8.45741e-14)\n",
       " Gray{Float64}(8.76393e-65)     Gray{Float64}(4.64543e-24)\n",
       " Gray{Float64}(4.71373e-35)  …  Gray{Float64}(8.85769e-18)\n",
       " Gray{Float64}(1.85815e-10)     Gray{Float64}(4.66434e-15)\n",
       " Gray{Float64}(0.00708575)      Gray{Float64}(0.0012253)\n",
       " Gray{Float64}(0.244784)        Gray{Float64}(0.249053)\n",
       " Gray{Float64}(0.0770498)       Gray{Float64}(0.140574)\n",
       " Gray{Float64}(2.45931e-5)   …  Gray{Float64}(0.000185005)\n",
       " Gray{Float64}(6.2644e-10)      Gray{Float64}(4.6893e-10)\n",
       " Gray{Float64}(1.18071e-7)      Gray{Float64}(4.03298e-10)\n",
       " Gray{Float64}(0.00036484)      Gray{Float64}(7.37624e-9)\n",
       " Gray{Float64}(6.25083e-9)      Gray{Float64}(7.44394e-7)\n",
       " Gray{Float64}(2.26938e-10)  …  Gray{Float64}(7.90897e-8)\n",
       " Gray{Float64}(6.60362e-16)     Gray{Float64}(8.5099e-13)\n",
       " Gray{Float64}(4.42074e-7)      Gray{Float64}(2.00588e-32)\n",
       " Gray{Float64}(3.74624e-20)     Gray{Float64}(4.48034e-61)"
      ]
     },
     "metadata": {},
     "output_type": "display_data"
    },
    {
     "data": {
      "image/png": "[encoded data removed]",
      "text/html": [
       "<img src=\"data:image/png;base64,iVBORw0KGgoAAAANSUhEUgAAAHIAAAByCAAAAACqttqhAAAABGdBTUEAALGPC/xhBQAAAAFzUkdCAK7OHOkAAAAgY0hSTQAAeiYAAICEAAD6AAAAgOgAAHUwAADqYAAAOpgAABdwnLpRPAAAAlZJREFUaAW9wc9rz3EAx/Hnh9f8uIhQk0hymfw6cVVqFyWRk5RccHXZH+DEhYuUi1BLHLdYLY7K7iLyI9lBWDKmL/b96LXLe3326Tt2eD0eoqcVWIf/cws7TTsRJ+JEnIgTcaKnX1iF1fQyiI2zOBEn4kSciBNxYp7fmChOYsNYhdU0XcbGKWqabmBnMREn4kSciBNxuoQNYX0Up7BhFjdE001sD/YBu08h4kSciBNxIk6raXeHphFsO/YGe0W7M/Qi4kSciBNxIk4V/+oa9hZbhf1iKUSciBNxIk7E6SH/aoyig1W0q7DD2DjWoRBxIk7EiTgRpwdYhS2jqLEN2FrsJUWF1RQbsevYDLYLu4jdxq5gIk7EiTgRJ+LEnL3YeewEto5iBDtCcRCbwZ5in7HjtNuHXcVEnIgTcSJOxIk5U9g2bB1NR2l6TFFhNb28wGpMxIk4ESfiRJyY8x47hp3AhD3BujQdwAZoqrBn2E7sMXaWQsSJOBEn4kScmOcHNoptwt7SbgKboN1F7DQ2gU1SiDgRJ+JEnIgTC3zBprAuS3EX62L9WJdCxIk4ESfiRJzWYl8paqymlwpbjv2h3T1sAPtNIeJEnIgTcSJO0yxFjf1hcc9pEnEiTsSJOBGnWZrWYN/oZRBbgY3SbhP2EetSiDgRJ+JEnIgTCwjrw7Zir2nqx2Zp2oJ1sJXYeuwThYgTcSJOxIk4scAUxTtsMzZJcRurKHZgu7ExbBr7SZOIE3EiTsSJONHTLHYOO4R9x95h27D92CPsAtbBurQTcSJOxIk4EfcX0sRg6SvSpUEAAAAASUVORK5C\">"
      ],
      "text/plain": [
       "19×19 reinterpret(reshape, Gray{Float64}, ::Matrix{Float64}) with eltype Gray{Float64}:\n",
       " Gray{Float64}(2.31149e-17)  …  Gray{Float64}(1.10239e-47)\n",
       " Gray{Float64}(1.43592e-42)     Gray{Float64}(4.08968e-61)\n",
       " Gray{Float64}(5.95975e-15)     Gray{Float64}(8.72286e-28)\n",
       " Gray{Float64}(0.537551)        Gray{Float64}(8.18021e-9)\n",
       " Gray{Float64}(0.572078)        Gray{Float64}(7.19744e-19)\n",
       " Gray{Float64}(0.57586)      …  Gray{Float64}(1.99934e-10)\n",
       " Gray{Float64}(0.288913)        Gray{Float64}(5.30477e-7)\n",
       " Gray{Float64}(0.000111689)     Gray{Float64}(0.000275274)\n",
       " Gray{Float64}(1.11442e-5)      Gray{Float64}(0.00229134)\n",
       " Gray{Float64}(6.75846e-8)      Gray{Float64}(3.42699e-6)\n",
       " Gray{Float64}(9.19958e-14)  …  Gray{Float64}(9.72005e-13)\n",
       " Gray{Float64}(4.58494e-15)     Gray{Float64}(1.1972e-15)\n",
       " Gray{Float64}(7.07241e-11)     Gray{Float64}(9.16285e-17)\n",
       " Gray{Float64}(0.0627724)       Gray{Float64}(3.35056e-11)\n",
       " Gray{Float64}(0.0125181)       Gray{Float64}(9.66485e-7)\n",
       " Gray{Float64}(4.36165e-5)   …  Gray{Float64}(0.00108166)\n",
       " Gray{Float64}(6.56623e-6)      Gray{Float64}(1.91133e-6)\n",
       " Gray{Float64}(1.465e-8)        Gray{Float64}(7.41783e-20)\n",
       " Gray{Float64}(7.7081e-12)      Gray{Float64}(1.32206e-41)"
      ]
     },
     "metadata": {},
     "output_type": "display_data"
    },
    {
     "data": {
      "image/png": "[encoded data removed]",
      "text/html": [
       "<img src=\"data:image/png;base64,iVBORw0KGgoAAAANSUhEUgAAAHIAAAByCAAAAACqttqhAAAABGdBTUEAALGPC/xhBQAAAAFzUkdCAK7OHOkAAAAgY0hSTQAAeiYAAICEAAD6AAAAgOgAAHUwAADqYAAAOpgAABdwnLpRPAAAAj5JREFUaAW9waFrlAEAxuHf3V5EdIKGLUw0uGoRDNYVw9KKSVAQmYJBg9lmEVYsi4KYnCw6ViYIcybRP2AowlS80+AcHod3n7xXvuPz43YTeZ9HjDSJ3cfeYVvYV6yLTWIL2GvsLVZQT8SJOBEn4kScGOkndhubxjpYAyuwNrbMuESciBNxIk7EibG1sCbWxHpYn4MRcSJOxIk4ESfGVmCnsPPYOrZL1RTWop6IE3EiTsSJOHFAH7CPWEHVJewVo4g4ESfiRJyIEyM1sIKqPvVW2J+IE3EiTsSJODFSE+vxP4k4ESfiRJyIE0MmsGPYLewNtka9BlZQOoTNYYvYBvYY28VEnIgTcSJOxImBBjaHXcWeY+uUDmMd7DT2BetS6mJb2CJ2DzuKPcBEnIgTcSJOxImBG9gy9gu7ghWUOpS+YV3q/cDa2DR2B1vCRJyIE3EiTsSJgWfYdewiVlCvgZ3A9hjlJvYCW8d6mIgTcSJOxIk4MdDGFrDvlGaxbUoFtkO9T9gZrIM9xfqURJyIE3EiTsSJITtUbVOvoN4MVX2qRJyIE3EiTsSJIZexJ+xvAusxrgZWYCJOxIk4ESfixJA9bBbbpl4T6zGuKaxFScSJOBEn4kScGLKJncUeYvP8iwYlUSXiRJyIE3EiTgxpYZvYcWwGO4KtYOeweWwJW8M2sIKqz1SJOBEn4kSciBN/6WKr2CpV17CT2AXsLvWE/aZKxIk4ESfiRJwYUrC/R9hL7D2j9Kgn4kSciBNxIu4P0VtezXsM1U8AAAAASUVORK5C\">"
      ],
      "text/plain": [
       "19×19 reinterpret(reshape, Gray{Float64}, ::Matrix{Float64}) with eltype Gray{Float64}:\n",
       " Gray{Float64}(1.24241e-27)  …  Gray{Float64}(5.16919e-59)\n",
       " Gray{Float64}(3.87031e-20)     Gray{Float64}(3.72906e-45)\n",
       " Gray{Float64}(3.32726e-27)     Gray{Float64}(1.61023e-35)\n",
       " Gray{Float64}(2.43575e-33)     Gray{Float64}(2.4069e-39)\n",
       " Gray{Float64}(1.76669e-36)     Gray{Float64}(3.66916e-33)\n",
       " Gray{Float64}(2.09815e-16)  …  Gray{Float64}(8.28939e-21)\n",
       " Gray{Float64}(9.49688e-7)      Gray{Float64}(8.51848e-14)\n",
       " Gray{Float64}(1.68848e-8)      Gray{Float64}(3.41901e-8)\n",
       " Gray{Float64}(7.95877e-7)      Gray{Float64}(6.72434e-5)\n",
       " Gray{Float64}(0.000251852)     Gray{Float64}(0.0103436)\n",
       " Gray{Float64}(1.0119e-7)    …  Gray{Float64}(2.34124e-6)\n",
       " Gray{Float64}(1.24565e-13)     Gray{Float64}(1.41637e-12)\n",
       " Gray{Float64}(7.70001e-16)     Gray{Float64}(3.49593e-14)\n",
       " Gray{Float64}(1.10134e-9)      Gray{Float64}(5.84763e-13)\n",
       " Gray{Float64}(1.74859e-12)     Gray{Float64}(7.03781e-12)\n",
       " Gray{Float64}(8.08363e-12)  …  Gray{Float64}(9.42164e-13)\n",
       " Gray{Float64}(2.29214e-10)     Gray{Float64}(1.39442e-11)\n",
       " Gray{Float64}(3.25885e-6)      Gray{Float64}(1.09397e-21)\n",
       " Gray{Float64}(3.70269e-20)     Gray{Float64}(3.87433e-47)"
      ]
     },
     "metadata": {},
     "output_type": "display_data"
    },
    {
     "data": {
      "image/png": "[encoded data removed]",
      "text/html": [
       "<img src=\"data:image/png;base64,iVBORw0KGgoAAAANSUhEUgAAAHIAAAByCAAAAACqttqhAAAABGdBTUEAALGPC/xhBQAAAAFzUkdCAK7OHOkAAAAgY0hSTQAAeiYAAICEAAD6AAAAgOgAAHUwAADqYAAAOpgAABdwnLpRPAAAAhVJREFUaAW9wT9LVXEAxvHvvTwmBg0N0VLSWtHe2hZC76AXcMlBGoPg0lBQTQ1tDQ69AgeDQmoUGhyCilCixcEgG+wPee858bj8LnnS4ymez0d00qPoYRVtiTgRJ+JEnIgTe/pYxeGmsVuYsKfYe9oScSJOxIk4ESf2VLS1gA0phhyNiBNxIk7EiThxRA+w+xRjjkbEiTgRJ+JEnOjkBTagCxEn4kSciBNxopPr2BZdiDgRJ+JEnIjTNew7tsLhprAduhNxIk7EiTgRpyWKm9gOtoq9xSqKS9gazaawChtT9ChEnIgTcSJOxIkJM9gKtoX1sQq7ih3D3mBjrKI4g13B+thJrI+dwkSciBNxIk7EiQnnsE3sC1Zjx7F72ACrsT5WUXzDFrEZbAG7SyHiRJyIE3EiTkzYwraxmuIidhnbxWqafcZ62DS2hi1jFzARJ+JEnIgTcWLCbewOVlG8pq0aq7Gv2Bj7gC1hIk7EiTgRJ+LEPiP+jwp7jr3ERpiIE3EiTsSJOM1hyzQ7jf3Ctulul0LEiTgRJ+JEnJ5xkBPYWewVVvOvRJyIE3EiTsSJfR5j89g6tk4xg/2grSfYCHuIiTgRJ+JEnIgT+9zA5mn2k7Zq/rSKiTgRJ+JEnIgTf1Fj77A5bBObxdZpNot9otkiJuJEnIgTcSJOHOg89hEbYQNsA6spetgjmg0pRJyIE3EiTsT9BjoHVaqLcyHxAAAAAElFTkSuQmCC\">"
      ],
      "text/plain": [
       "19×19 reinterpret(reshape, Gray{Float64}, ::Matrix{Float64}) with eltype Gray{Float64}:\n",
       " Gray{Float64}(2.55231e-28)  …  Gray{Float64}(8.58516e-52)\n",
       " Gray{Float64}(1.90869e-20)     Gray{Float64}(1.56411e-43)\n",
       " Gray{Float64}(3.46506e-14)     Gray{Float64}(5.2133e-37)\n",
       " Gray{Float64}(1.71962e-36)     Gray{Float64}(2.6886e-34)\n",
       " Gray{Float64}(1.45601e-40)     Gray{Float64}(6.04518e-51)\n",
       " Gray{Float64}(6.64597e-16)  …  Gray{Float64}(3.4646e-36)\n",
       " Gray{Float64}(0.301853)        Gray{Float64}(2.79333e-16)\n",
       " Gray{Float64}(1.4767)          Gray{Float64}(0.00205396)\n",
       " Gray{Float64}(1.74502)         Gray{Float64}(0.549894)\n",
       " Gray{Float64}(2.62256)         Gray{Float64}(1.30626)\n",
       " Gray{Float64}(2.93876)      …  Gray{Float64}(0.873984)\n",
       " Gray{Float64}(2.64446)         Gray{Float64}(0.402087)\n",
       " Gray{Float64}(1.60693)         Gray{Float64}(0.00514615)\n",
       " Gray{Float64}(0.286327)        Gray{Float64}(1.45863e-10)\n",
       " Gray{Float64}(3.54053e-7)      Gray{Float64}(9.79739e-11)\n",
       " Gray{Float64}(4.07595e-8)   …  Gray{Float64}(0.137673)\n",
       " Gray{Float64}(1.32083e-13)     Gray{Float64}(0.376255)\n",
       " Gray{Float64}(2.1663e-13)      Gray{Float64}(1.12898e-22)\n",
       " Gray{Float64}(2.66678e-17)     Gray{Float64}(1.17291e-79)"
      ]
     },
     "metadata": {},
     "output_type": "display_data"
    },
    {
     "data": {
      "image/png": "[encoded data removed]",
      "text/html": [
       "<img src=\"data:image/png;base64,iVBORw0KGgoAAAANSUhEUgAAAHIAAAByCAAAAACqttqhAAAABGdBTUEAALGPC/xhBQAAAAFzUkdCAK7OHOkAAAAgY0hSTQAAeiYAAICEAAD6AAAAgOgAAHUwAADqYAAAOpgAABdwnLpRPAAAAgtJREFUaAW9wb+L1gUAx/G33vv0dHIIZyFoEHFrCBpzcKmWcHNx829I6B8Ig4SgKWiyuVsUUSgMwSGMQIeWw0VBXLK75348j3y+ywP65XvpHZ/XS97yAXGS2ODwSZ3USZ3USZ285RWxSawRc2KPOEasEKeI58Q2S8eJGeOkTuqkTuqkTgarxA6xyZQrxAniV+Ipb5oxReqkTuqkTupkcJH4k9hgyg0OSuqkTuqkTupkcJW4SIPUSZ3USZ3UyeB7YsH+JGbEp8QfvBupkzqpkzqpk8E9Yo3YYsoOS/cJiT3GnSX+IWaE1Emd1Emd1MngK+IL4mvib960YNwucYRxj4lVlqRO6qRO6qROiZfEL8QGSxeIW+xvQZwn/mJpTmyzJHVSJ3VSJ3V+THxLbBHfEB/xPh4Rj4hPiC1iQZwgpE7qpE7qpM5zxIccpvPEb8RD4gnxMyF1Uid1Uid1vuTwnSb+JU4SEpcJqZM6qZM6qfMusU6sED8QD4hnHNQmS9cJqZM6qZM6qfMF8SWxy0FdIm4ybk5IndRJndRJnQx2mbJOfEfcZtw14gxxkylSJ3VSJ3VSJ4OjxJxxnxN7TLlP/Mj+pE7qpE7qpE4Gq8SMcXvs7w7/l9RJndRJndTJYM64n4jjxDrxnPiP+J33IXVSJ3VSJ3Uy2GHcU+IzYo24xZQjxIIpUid1Uid1UvcagP1RcoulD9MAAAAASUVORK5C\">"
      ],
      "text/plain": [
       "19×19 reinterpret(reshape, Gray{Float64}, ::Matrix{Float64}) with eltype Gray{Float64}:\n",
       " Gray{Float64}(3.34823e-45)  …  Gray{Float64}(2.42678e-44)\n",
       " Gray{Float64}(3.23546e-18)     Gray{Float64}(1.56328e-30)\n",
       " Gray{Float64}(2.29197e-10)     Gray{Float64}(1.52801e-22)\n",
       " Gray{Float64}(5.87659e-27)     Gray{Float64}(8.50871e-19)\n",
       " Gray{Float64}(6.65114e-35)     Gray{Float64}(2.29939e-27)\n",
       " Gray{Float64}(1.75285e-30)  …  Gray{Float64}(4.29915e-25)\n",
       " Gray{Float64}(5.2393e-14)      Gray{Float64}(2.4313e-13)\n",
       " Gray{Float64}(1.8822e-5)       Gray{Float64}(1.04648e-6)\n",
       " Gray{Float64}(0.014482)        Gray{Float64}(6.09389e-5)\n",
       " Gray{Float64}(0.223472)        Gray{Float64}(0.0367181)\n",
       " Gray{Float64}(0.397592)     …  Gray{Float64}(0.081971)\n",
       " Gray{Float64}(0.328739)        Gray{Float64}(0.451377)\n",
       " Gray{Float64}(0.0758695)       Gray{Float64}(0.0089809)\n",
       " Gray{Float64}(1.40427e-5)      Gray{Float64}(1.57472e-8)\n",
       " Gray{Float64}(3.72623e-16)     Gray{Float64}(1.64184e-15)\n",
       " Gray{Float64}(2.163e-22)    …  Gray{Float64}(4.34113e-11)\n",
       " Gray{Float64}(3.2251e-28)      Gray{Float64}(0.0001178)\n",
       " Gray{Float64}(5.62645e-14)     Gray{Float64}(3.64406e-5)\n",
       " Gray{Float64}(1.6267e-21)      Gray{Float64}(3.24347e-80)"
      ]
     },
     "metadata": {},
     "output_type": "display_data"
    },
    {
     "data": {
      "image/png": "[encoded data removed]",
      "text/html": [
       "<img src=\"data:image/png;base64,iVBORw0KGgoAAAANSUhEUgAAAHIAAAByCAAAAACqttqhAAAABGdBTUEAALGPC/xhBQAAAAFzUkdCAK7OHOkAAAAgY0hSTQAAeiYAAICEAAD6AAAAgOgAAHUwAADqYAAAOpgAABdwnLpRPAAAAitJREFUaAW9wb9LlXEAxeHP9R41xBxrKaKmCJdoKuj3GOFfUFA4RAUNhWODLTU02SS11GBQQy05uLREDYJQgg1CQzgaRSiC5hun5QvX6+vtCud5RJyIE3EiTsSJONGxBlZhDayiGyJOxIk4ESfixDYq6nzEzmAb/B8RJ+JEnIgTcWIbj7G7tHcS248tUQxjX7AKm8HuYF8xESfiRJyIE3FiG/ewT9gr2lui1TzWoI6IE3EiTsSJOFHrNdbArmDP2S0RJ+JEnIgTcaJjL7BZbI6djWAXsT7sBibiRJyIE3EiTh+ws9gGrRpYRbGI9WM92CatxrBHFD+xCUzEiTgRJ+JEnE5h6xRPsRnsPPYMm8XOUUxgtygGsQO0mscuYSJOxIk4ESfixBaj2CjFMewC9pbiJvYEW8BWsfdYL3YIG8SGMREn4kSciBNxogM9WBO7jk1hI9gCRS82jh3E9mLfsTlMxIk4ESfiRJzowGmKl9gvbJpW61gfNkSxjC1iIk7EiTgRJ+JErX7am6a9TWwMO4rtw95hfzARJ+JEnIgTcbqPjdOqiW3SjTfUEXEiTsSJOBGnB9gRbAW7TdGLDWE/sIrdEnEiTsSJOBEn/rlGe+vYMq0GsFW6IeJEnIgTcSJOdGWVooFV7OwwJuJEnIgTcSJO1NqDrVGnwppYhfVhV7FJim+YiBNxIk7EiTixxWXsOHYC+4w9xFYomtgA9ptiDZukPREn4kSciBNxfwE4Kk4bRLgt4gAAAABJRU5ErkJg\">"
      ],
      "text/plain": [
       "19×19 reinterpret(reshape, Gray{Float64}, ::Matrix{Float64}) with eltype Gray{Float64}:\n",
       " Gray{Float64}(6.85867e-22)  …  Gray{Float64}(4.56821e-74)\n",
       " Gray{Float64}(7.90689e-17)     Gray{Float64}(4.16638e-58)\n",
       " Gray{Float64}(2.39393e-14)     Gray{Float64}(8.17075e-50)\n",
       " Gray{Float64}(3.66462e-29)     Gray{Float64}(4.77879e-58)\n",
       " Gray{Float64}(1.73754e-29)     Gray{Float64}(1.46774e-49)\n",
       " Gray{Float64}(8.17138e-19)  …  Gray{Float64}(1.19215e-27)\n",
       " Gray{Float64}(0.000244348)     Gray{Float64}(5.7627e-7)\n",
       " Gray{Float64}(0.771205)        Gray{Float64}(0.168633)\n",
       " Gray{Float64}(1.85407)         Gray{Float64}(0.461501)\n",
       " Gray{Float64}(2.20744)         Gray{Float64}(0.634212)\n",
       " Gray{Float64}(2.10326)      …  Gray{Float64}(0.570557)\n",
       " Gray{Float64}(1.71166)         Gray{Float64}(0.429237)\n",
       " Gray{Float64}(1.20782)         Gray{Float64}(0.254617)\n",
       " Gray{Float64}(0.491714)        Gray{Float64}(6.43513e-5)\n",
       " Gray{Float64}(5.57065e-11)     Gray{Float64}(8.11017e-11)\n",
       " Gray{Float64}(7.80858e-27)  …  Gray{Float64}(7.88915e-5)\n",
       " Gray{Float64}(2.65327e-30)     Gray{Float64}(0.129558)\n",
       " Gray{Float64}(7.78401e-17)     Gray{Float64}(4.48807e-9)\n",
       " Gray{Float64}(1.69026e-17)     Gray{Float64}(2.22231e-101)"
      ]
     },
     "metadata": {},
     "output_type": "display_data"
    },
    {
     "data": {
      "image/png": "[encoded data removed]",
      "text/html": [
       "<img src=\"data:image/png;base64,iVBORw0KGgoAAAANSUhEUgAAAHIAAAByCAAAAACqttqhAAAABGdBTUEAALGPC/xhBQAAAAFzUkdCAK7OHOkAAAAgY0hSTQAAeiYAAICEAAD6AAAAgOgAAHUwAADqYAAAOpgAABdwnLpRPAAAAiFJREFUaAW9wU2IzHEAxvHvjCeEtNmVNnFQhFjjKEcXpSSONu1JsVfJHJRN7UVt2bODcnLaOzcUpSRHbkqStz3YrS2zfz2n3/Q3zMvW8/mIIU1iR7B32A9snbomNobdwNqYiBNxIk7EiTgxpM8UezBhX7CKoonNYG0KESfiRJyIE3FiSA3sK3YOO4nNUvcbW8AOYuOYiBNxIk7EiTgxpArrYK+xB/R3DRvDRJyIE3EiTsSJkVTYToazjIk4ESfiRJyIEyPZhE1jzxnUZkzEiTgRJ+JEnBjJBHYVO4VN0d8CJuJEnIgTcSJOjKRFcRyrsLfYdewVVmGT2Cwm4kSciBNxIk78QwOr6G2K3lrYeewN1sDOUog4ESfiRJyIE12aFNuwX/R2D7uLbaHuDraGNbEzFCJOxIk4ESfiRJdd2Dj2kf6uYI+pW6OYwC5TiDgRJ+JEnIgTXb5hP7EO/S1jc9gl7Bh136kTcSJOxIk4ESf+0mFQT7Cn2AWKT9herIOtYNsxESfiRJyIE3Fiw15gJyhuU9fGbmIiTsSJOBEn4sSGncYOYMLeU7dIIeJEnIgTcSJOdHmEzWAd/qeJPcP2Y4exVeoq6kSciBNxIk7EiS7T2DTWxCp624rtxvZhK/T3ARNxIk7EiTgRpwZWYRex+9g6xQ5shWIVe4jNM6hDmIgTcSJOxIk4VRRL2BJ2C5vDWthLrIEdxeYZhYgTcSJOxIm4PzfPSAP4jDWpAAAAAElFTkSuQmCC\">"
      ],
      "text/plain": [
       "19×19 reinterpret(reshape, Gray{Float64}, ::Matrix{Float64}) with eltype Gray{Float64}:\n",
       " Gray{Float64}(1.8837e-31)   …  Gray{Float64}(1.04427)\n",
       " Gray{Float64}(1.6418e-16)      Gray{Float64}(1.69318)\n",
       " Gray{Float64}(1.46497e-20)     Gray{Float64}(0.66582)\n",
       " Gray{Float64}(1.15035e-48)     Gray{Float64}(0.0620577)\n",
       " Gray{Float64}(3.5271e-60)      Gray{Float64}(3.15412e-13)\n",
       " Gray{Float64}(1.39841e-33)  …  Gray{Float64}(0.0227324)\n",
       " Gray{Float64}(8.89298e-13)     Gray{Float64}(0.580704)\n",
       " Gray{Float64}(9.82661e-9)      Gray{Float64}(1.12524)\n",
       " Gray{Float64}(2.87704e-5)      Gray{Float64}(1.52009)\n",
       " Gray{Float64}(4.69994e-6)      Gray{Float64}(2.34761)\n",
       " Gray{Float64}(3.89609e-7)   …  Gray{Float64}(2.81427)\n",
       " Gray{Float64}(9.17883e-8)      Gray{Float64}(2.34123)\n",
       " Gray{Float64}(6.824e-9)        Gray{Float64}(1.51771)\n",
       " Gray{Float64}(1.05118e-6)      Gray{Float64}(0.888331)\n",
       " Gray{Float64}(0.000393434)     Gray{Float64}(1.0487)\n",
       " Gray{Float64}(0.000641337)  …  Gray{Float64}(1.48927)\n",
       " Gray{Float64}(0.00121256)      Gray{Float64}(0.853622)\n",
       " Gray{Float64}(0.00402146)      Gray{Float64}(5.74666e-17)\n",
       " Gray{Float64}(3.57156e-9)      Gray{Float64}(7.16445e-50)"
      ]
     },
     "metadata": {},
     "output_type": "display_data"
    },
    {
     "data": {
      "image/png": "[encoded data removed]",
      "text/html": [
       "<img src=\"data:image/png;base64,iVBORw0KGgoAAAANSUhEUgAAAHIAAAByCAAAAACqttqhAAAABGdBTUEAALGPC/xhBQAAAAFzUkdCAK7OHOkAAAAgY0hSTQAAeiYAAICEAAD6AAAAgOgAAHUwAADqYAAAOpgAABdwnLpRPAAAAiFJREFUaAW9wb9vzHEAxvH3l0eao0lLeomIlAgGMRKDySDspvofujT9GzqJoR38DSSIzUJisdTCUj+WI6L6I42haHO5+8rT5SPVnuuV5/USu6iw49g6dgl7zuAqTMSJOBEn4kSc2EWNLWKT2Cz/hogTcSJOxIk40Yc5bA4bx95gI2xX8XciTsSJOBEn4sQefcJGGZyIE3EiTsSJOPHf3MWmsDvYNCbiRJyIE3EiTgzkMPaDXqYopilEnIgTcSJOxImBnMIWsAb2k36JOBEn4kSciBN7VGGLFCewYew1RRO7gs1jS5iIE3EiTsSJOFVYTXEEG8NOYu+xFazGvlN8wZ5g17AHWBs7g01iS5iIE3EiTsSJOFVYjQk7i93ELmAz2ArFCLaKbWAvsOvYbayFPcbeUog4ESfiRJyIU5eii33DWtgs1ma7VYomdgObxy5jp7EGdhT7iok4ESfiRJyIE7/pYp+x+/RrGZvBnmIHsBZFE9vARJyIE3EiTsSJP3QYxEtsCNvExrFh7BB2DhNxIk7EiTgRJ/ahojiPfcA2KdaxClvGRJyIE3EiTsSJfaixCntFLzX2ERNxIk7EiTgRJ7ZUWI0dxDr0q2ZvRJyIE3EiTsSJLTVFh0FU2BA2ho1i77A21sBEnIgTcSJOxImejmFr7OwWdhUTNoE9wyawmuIiJuJEnIgTcSJO9LRGL4+wh1iF3cMW2Nk8JuJEnIgTcSLuFzgcT+Tcub3yAAAAAElFTkSuQmCC\">"
      ],
      "text/plain": [
       "19×19 reinterpret(reshape, Gray{Float64}, ::Matrix{Float64}) with eltype Gray{Float64}:\n",
       " Gray{Float64}(3.25735e-52)  …  Gray{Float64}(3.74807e-25)\n",
       " Gray{Float64}(4.33157e-19)     Gray{Float64}(2.58482e-13)\n",
       " Gray{Float64}(7.86989e-12)     Gray{Float64}(3.23671e-22)\n",
       " Gray{Float64}(1.03496e-21)     Gray{Float64}(1.24449e-28)\n",
       " Gray{Float64}(2.33163e-20)     Gray{Float64}(9.53636e-8)\n",
       " Gray{Float64}(1.61159e-16)  …  Gray{Float64}(4.59845e-15)\n",
       " Gray{Float64}(1.13025e-10)     Gray{Float64}(1.38704e-11)\n",
       " Gray{Float64}(3.09179e-7)      Gray{Float64}(8.72892e-6)\n",
       " Gray{Float64}(0.00288192)      Gray{Float64}(7.45516e-5)\n",
       " Gray{Float64}(0.00860828)      Gray{Float64}(3.11826e-5)\n",
       " Gray{Float64}(0.000131705)  …  Gray{Float64}(0.000307305)\n",
       " Gray{Float64}(5.16242e-5)      Gray{Float64}(0.0612276)\n",
       " Gray{Float64}(0.00027086)      Gray{Float64}(0.208131)\n",
       " Gray{Float64}(2.82624e-6)      Gray{Float64}(0.121844)\n",
       " Gray{Float64}(5.17316e-10)     Gray{Float64}(0.000403187)\n",
       " Gray{Float64}(4.11818e-11)  …  Gray{Float64}(0.00053596)\n",
       " Gray{Float64}(1.92453e-16)     Gray{Float64}(0.0361732)\n",
       " Gray{Float64}(9.36025e-20)     Gray{Float64}(0.20878)\n",
       " Gray{Float64}(1.14928e-19)     Gray{Float64}(2.48929e-44)"
      ]
     },
     "metadata": {},
     "output_type": "display_data"
    },
    {
     "data": {
      "image/png": "[encoded data removed]",
      "text/html": [
       "<img src=\"data:image/png;base64,iVBORw0KGgoAAAANSUhEUgAAAHIAAAByCAAAAACqttqhAAAABGdBTUEAALGPC/xhBQAAAAFzUkdCAK7OHOkAAAAgY0hSTQAAeiYAAICEAAD6AAAAgOgAAHUwAADqYAAAOpgAABdwnLpRPAAAAfFJREFUaAW9wbFvlAUAxuHfnT9gxEEWCKMkNnGq0TiQMAALm0YnNxmI9l9wcXQoDgwubq7oBAOkCWEiDAzGsLDbAXZToHfmveVLvl6ud03zPo+sdI54S8w5HVIndVIndVInKx2w3IS4RVwhXhBPOJ7USZ3USZ3UyYZ+Jn5i7ALrkjqpkzqpkzrZ0Bcs94Z1SZ3USZ3USZ1s6BfiJoOv2YzUSZ3USZ3UycKUmLHKLeIBY1vEn6xL6qRO6qRO6pywyqfEU+JDYsLYRTYjdVIndVIndc6JS8TnxI/EZeJjltsh7hHXGJsymDEmdVIndVIndbLwDbHLun4j7hGfMDhL3CVeEfeJf4lDQuqkTuqkTupk4Vdil1WuM5iy3FniKvED8S1xh/ibkDqpkzqpkzpZ2OZ4ewzuMnjEYEZcYPAl8R8DqZM6qZM6qZOFGZvZIf4i9hgcEN8TXxH/EK8YSJ3USZ3USZ0TYp/lHhM3iDPEOwZ7jB0SD4mHhIxJndRJndRJnR8R+8Rt4jyxy+APYpt4xmbeMyZ1Uid1Uid1vmbwO8t9x2mSOqmTOqmTOjniA+KQVSbEnJOQOqmTOqmTOjliRmwRL1luzslJndRJndRJnRwxJ14SE2LOaZI6qZM6qZM6WWnO2JT4jHjOSUid1Emd1End/3ccPTL+pxvLAAAAAElFTkSuQmCC\">"
      ],
      "text/plain": [
       "19×19 reinterpret(reshape, Gray{Float64}, ::Matrix{Float64}) with eltype Gray{Float64}:\n",
       " Gray{Float64}(1.51384e-42)  …  Gray{Float64}(2.08333e-36)\n",
       " Gray{Float64}(1.70148e-27)     Gray{Float64}(9.50434e-19)\n",
       " Gray{Float64}(8.38895e-26)     Gray{Float64}(1.35381e-22)\n",
       " Gray{Float64}(3.46283e-39)     Gray{Float64}(1.60301e-29)\n",
       " Gray{Float64}(2.82462e-30)     Gray{Float64}(8.29685e-33)\n",
       " Gray{Float64}(4.07428e-10)  …  Gray{Float64}(1.41037e-17)\n",
       " Gray{Float64}(0.00366179)      Gray{Float64}(3.52179e-12)\n",
       " Gray{Float64}(0.000316955)     Gray{Float64}(9.98394e-5)\n",
       " Gray{Float64}(0.000274434)     Gray{Float64}(0.000180267)\n",
       " Gray{Float64}(1.2428e-7)       Gray{Float64}(4.35024e-5)\n",
       " Gray{Float64}(2.65336e-9)   …  Gray{Float64}(2.44592e-7)\n",
       " Gray{Float64}(1.95282e-7)      Gray{Float64}(9.18468e-13)\n",
       " Gray{Float64}(0.00210735)      Gray{Float64}(1.39258e-14)\n",
       " Gray{Float64}(0.0833652)       Gray{Float64}(5.58822e-17)\n",
       " Gray{Float64}(1.931e-8)        Gray{Float64}(5.30851e-22)\n",
       " Gray{Float64}(2.37104e-15)  …  Gray{Float64}(1.85918e-22)\n",
       " Gray{Float64}(8.4718e-17)      Gray{Float64}(6.25579e-13)\n",
       " Gray{Float64}(1.87181e-12)     Gray{Float64}(4.77263e-15)\n",
       " Gray{Float64}(8.99441e-27)     Gray{Float64}(4.55068e-45)"
      ]
     },
     "metadata": {},
     "output_type": "display_data"
    }
   ],
   "source": [
    "for i in 1:10\n",
    "    display(colorview(Gray, reshape(W_pre_1[i, :], 19, 19)))\n",
    "end"
   ]
  },
  {
   "cell_type": "code",
   "execution_count": 25,
   "metadata": {
    "scrolled": true
   },
   "outputs": [
    {
     "data": {
      "image/png": "[encoded data removed]",
      "text/html": [
       "<img src=\"data:image/png;base64,iVBORw0KGgoAAAANSUhEUgAAAHIAAAByCAAAAACqttqhAAAABGdBTUEAALGPC/xhBQAAAAFzUkdCAK7OHOkAAAAgY0hSTQAAeiYAAICEAAD6AAAAgOgAAHUwAADqYAAAOpgAABdwnLpRPAAAAhhJREFUaAW9wU+LzAEAxvHvjGfKYYXZyLYpkbwAL0CrHNQ2IldZN0peiDIXBym5rJxIeyKXPToJJyV/tqRtIrUH7M7O7uiZy0+/fjszu5vn8xHbVMMOYVPYB+wPZXXsOLaJfcZEnIgTcSJOxImBg9gvrEu1BjaBTWPvsVWq1bGPlIk4ESfiRJyIEwNrWJdhNrC92CdslWF6VBNxIk7EiTgRJwZ+M9omtsxOHMOWMBEn4kSciBNxImKJgogTcSJOxIk4sU13sZtYjWEuYi1sDruAiTgRJ+JEnIjTPewG4/qCPcUuY0+ww1iHYRYwESfiRJyIE3G6jt3H3jLaS+wF9gqbxa4xLhEn4kSciBNxYuAN9hxrYT2sgZ3EZrE2VseWsavYHLYH+441qSbiRJyIE3EiTvzjPLZOtcdYDzuKdbBT2Ay2iE1iJ7AW1qYg4kSciBNxIk6M7TaFr9gZCtOUzWBtykSciBNxIk7EiTFMYR2G+UbZA+whtoJNYCJOxIk4ESfixBYuYc/YrU1sH/YaE3EiTsSJOBGnn1iTQo2d24+tUO00JuJEnIgTcSJOk1gfa7BbK4wm4kSciBNxIk4M1EhoYCJOxIk4ESfixH92ANvAjmAiTsSJOBEn4sQW6lgT+0FZDWtg61ifwhXsHPYOu4NNYCJOxIk4ESfixBbOYgvYI+wWtob1sS7V5rF5ypYxESfiRJyIE3F/AZxUSSwagkfyAAAAAElFTkSuQmCC\">"
      ],
      "text/plain": [
       "19×19 reinterpret(reshape, Gray{Float64}, ::Matrix{Float64}) with eltype Gray{Float64}:\n",
       " Gray{Float64}(1.10936e-61)  …  Gray{Float64}(3.06925e-46)\n",
       " Gray{Float64}(3.60115e-32)     Gray{Float64}(1.68765e-38)\n",
       " Gray{Float64}(2.3256e-13)      Gray{Float64}(2.58403e-43)\n",
       " Gray{Float64}(1.26e-19)        Gray{Float64}(8.22067e-36)\n",
       " Gray{Float64}(4.64043e-24)     Gray{Float64}(1.90106e-22)\n",
       " Gray{Float64}(5.88308e-15)  …  Gray{Float64}(0.307533)\n",
       " Gray{Float64}(0.590556)        Gray{Float64}(2.08145)\n",
       " Gray{Float64}(2.08695)         Gray{Float64}(2.07242)\n",
       " Gray{Float64}(3.18405)         Gray{Float64}(1.2856)\n",
       " Gray{Float64}(4.19525)         Gray{Float64}(1.58032)\n",
       " Gray{Float64}(4.70439)      …  Gray{Float64}(1.95186)\n",
       " Gray{Float64}(3.88135)         Gray{Float64}(1.60627)\n",
       " Gray{Float64}(2.36099)         Gray{Float64}(0.805799)\n",
       " Gray{Float64}(0.927719)        Gray{Float64}(1.67121e-5)\n",
       " Gray{Float64}(2.00237e-8)      Gray{Float64}(2.441e-8)\n",
       " Gray{Float64}(1.3285e-16)   …  Gray{Float64}(0.0187959)\n",
       " Gray{Float64}(2.14388e-26)     Gray{Float64}(0.14576)\n",
       " Gray{Float64}(1.49117e-21)     Gray{Float64}(0.0994296)\n",
       " Gray{Float64}(2.11537e-16)     Gray{Float64}(1.49295e-61)"
      ]
     },
     "metadata": {},
     "output_type": "display_data"
    },
    {
     "data": {
      "image/png": "[encoded data removed]",
      "text/html": [
       "<img src=\"data:image/png;base64,iVBORw0KGgoAAAANSUhEUgAAAHIAAAByCAAAAACqttqhAAAABGdBTUEAALGPC/xhBQAAAAFzUkdCAK7OHOkAAAAgY0hSTQAAeiYAAICEAAD6AAAAgOgAAHUwAADqYAAAOpgAABdwnLpRPAAAAkBJREFUaAW9wb1LFHAAxvHvXU+XIkSUUOGekAQ1BTUFIYG4NARCQ9Lk0hK0BNlcf4CTEbSEtQW2hEQQTRFBUSSNukiI9GLZvcTT8os77dTs+XzEJghrYQ3+lYgTcSJOxIk4sQl1dpKIE3EiTsSJOLEtA9gXbIWtEXEiTsSJOBEntmWB9VWwe9gRrBc7RiHiRJyIE3EiTuyoFnYRm8AOYc+x05iIE3EiTsSJOPHfTFFMUog4ESfiRJyIE3/Vg32n2IW1sCZFFWtS7MbqWItCxIk4ESfiRJz4rYrVsQq2htWwCsUs1sBGsBbWj41gF7BzFHexcUzEiTgRJ+JEnKrYTaxCUcOmaDeMvcb2YcvYEvYQu0O7S9g4JuJEnIgTcSJOTewG1oftxy5jTdqNYc+wZYrD2CJWw+axRWyUQsSJOBEn4kSc+MNV2gmrU9xnfYtYC7uCDWINrE4h4kSciBNxIk5s4AC2THd7sJ9YHzaG9WAV7Bu2hok4ESfiRJyIExv4xGb9wAawBWya4h02g01iIk7EiTgRJ+LEFj3FerCTFGexBdp9wN5TiDgRJ+JEnIgTHQ5iQ9gc1qK7JxRL2CtsGpuhEHEiTsSJOBEnOhzFrmFzWIWiih3HTmHz2GdsALuFfcQe007EiTgRJ+JEnOjQj12nGMLe0N0gdgabwJq0E3EiTsSJOBEnOjzARrGX2FusQrterIYNY+exE9gsthf7SiHiRJyIE3EiTmzgEd2tYqvYC2wFu401WJ+IE3EiTsSJuF8q8VYerLgkrAAAAABJRU5ErkJg\">"
      ],
      "text/plain": [
       "19×19 reinterpret(reshape, Gray{Float64}, ::Matrix{Float64}) with eltype Gray{Float64}:\n",
       " Gray{Float64}(5.95738e-29)  …  Gray{Float64}(1.28618e-22)\n",
       " Gray{Float64}(4.02452e-41)     Gray{Float64}(1.09432e-48)\n",
       " Gray{Float64}(1.55029e-29)     Gray{Float64}(1.59906e-64)\n",
       " Gray{Float64}(3.26337e-28)     Gray{Float64}(2.55755e-41)\n",
       " Gray{Float64}(1.01811e-21)     Gray{Float64}(1.36569e-16)\n",
       " Gray{Float64}(1.90561e-18)  …  Gray{Float64}(1.10742e-21)\n",
       " Gray{Float64}(1.75998e-14)     Gray{Float64}(6.19811e-17)\n",
       " Gray{Float64}(1.85137e-9)      Gray{Float64}(5.28437e-7)\n",
       " Gray{Float64}(0.00748339)      Gray{Float64}(0.000887078)\n",
       " Gray{Float64}(7.03837e-5)      Gray{Float64}(1.86199e-5)\n",
       " Gray{Float64}(4.26321e-7)   …  Gray{Float64}(5.07296e-7)\n",
       " Gray{Float64}(2.46833e-8)      Gray{Float64}(2.10055e-7)\n",
       " Gray{Float64}(2.2561e-15)      Gray{Float64}(8.48505e-8)\n",
       " Gray{Float64}(4.36918e-16)     Gray{Float64}(3.68343e-9)\n",
       " Gray{Float64}(8.52217e-17)     Gray{Float64}(3.07615e-13)\n",
       " Gray{Float64}(7.40759e-12)  …  Gray{Float64}(1.06925e-19)\n",
       " Gray{Float64}(7.98806e-7)      Gray{Float64}(1.25077e-15)\n",
       " Gray{Float64}(3.39751e-14)     Gray{Float64}(7.29664e-5)\n",
       " Gray{Float64}(9.36757e-30)     Gray{Float64}(4.91737e-14)"
      ]
     },
     "metadata": {},
     "output_type": "display_data"
    },
    {
     "data": {
      "image/png": "[encoded data removed]",
      "text/html": [
       "<img src=\"data:image/png;base64,iVBORw0KGgoAAAANSUhEUgAAAHIAAAByCAAAAACqttqhAAAABGdBTUEAALGPC/xhBQAAAAFzUkdCAK7OHOkAAAAgY0hSTQAAeiYAAICEAAD6AAAAgOgAAHUwAADqYAAAOpgAABdwnLpRPAAAAgBJREFUaAW9wT2PjQkAhuH7HHcpWskiUSj8BgrZRhRC4iMarSgV24lo9j9swR+g0CgEEdOIQkF0RHzsJkshYTIkPsacI4/mlcMMjslzXU5ZH3uJG8SUtUid1Emd1Emd/LZPxHXiHnGAeEmMiY3ES0LqpE7qpE7q5CsHicvMOkGcI54Rt4gzxH/ElLW8YyB1Uid1Uid1jpg1Iv4kbhLnifMMxsSEeUid1Emd1EmdfGM7cZK4yfdNmJ/USZ3USZ3UyTeeEsdYy5iYMA+pkzqpkzqpc0TsIB7xs/YQC8xD6qRO6qRO6jxN7CPOEgvEmNhM7CIuEWPiMPGAeMGPbSBWCKmTOqmTOqnzD+IJsZt4Q2wljhALDI4TE2IL8YIYEfuJq8QygwkxIqRO6qRO6qTOfwiJt8Qb4hFxl/ifwQXiX2KRwZS4RhwirhAfiGUGUid1Uid1UucSg9fEO2KFWCLuENeJv4k7xHtmfSQu8n0jQuqkTuqkTup8TmwithEPGEyJ28QV4j2/RmJELBNSJ3VSJ3VS5wqxSLxm1iHiFPP7xCypkzqpkzqpky+mzNpJ/EXcJx6zPqRO6qRO6qROVvGQOEq8Yj1JndRJndRJnaxiSjxn/Umd1Emd1Emd1Emd1Emd1Emd/KIxMWF+Uid1Uid1Uier2ECsMGvC75I6qZM6qZO6zyVGVJUYEX70AAAAAElFTkSuQmCC\">"
      ],
      "text/plain": [
       "19×19 reinterpret(reshape, Gray{Float64}, ::Matrix{Float64}) with eltype Gray{Float64}:\n",
       " Gray{Float64}(1.95778)      …  Gray{Float64}(5.38121e-15)\n",
       " Gray{Float64}(3.39403)         Gray{Float64}(0.000858047)\n",
       " Gray{Float64}(2.00855)         Gray{Float64}(1.2906e-10)\n",
       " Gray{Float64}(1.13202e-9)      Gray{Float64}(4.19707e-13)\n",
       " Gray{Float64}(2.65212e-27)     Gray{Float64}(1.24137e-11)\n",
       " Gray{Float64}(1.61153e-17)  …  Gray{Float64}(3.39279e-8)\n",
       " Gray{Float64}(0.00374416)      Gray{Float64}(1.81385e-8)\n",
       " Gray{Float64}(0.484017)        Gray{Float64}(0.0017751)\n",
       " Gray{Float64}(0.58454)         Gray{Float64}(0.00423432)\n",
       " Gray{Float64}(0.16981)         Gray{Float64}(0.00466064)\n",
       " Gray{Float64}(0.112569)     …  Gray{Float64}(0.00505862)\n",
       " Gray{Float64}(0.010016)        Gray{Float64}(1.93661e-5)\n",
       " Gray{Float64}(2.21124e-7)      Gray{Float64}(2.59613e-11)\n",
       " Gray{Float64}(9.59029e-9)      Gray{Float64}(9.98958e-15)\n",
       " Gray{Float64}(8.11418e-5)      Gray{Float64}(1.22866e-12)\n",
       " Gray{Float64}(9.65411e-5)   …  Gray{Float64}(2.99058e-12)\n",
       " Gray{Float64}(1.15193e-15)     Gray{Float64}(2.0932e-12)\n",
       " Gray{Float64}(3.8205e-17)      Gray{Float64}(1.83265e-13)\n",
       " Gray{Float64}(8.69725e-17)     Gray{Float64}(6.97029e-45)"
      ]
     },
     "metadata": {},
     "output_type": "display_data"
    },
    {
     "data": {
      "image/png": "[encoded data removed]",
      "text/html": [
       "<img src=\"data:image/png;base64,iVBORw0KGgoAAAANSUhEUgAAAHIAAAByCAAAAACqttqhAAAABGdBTUEAALGPC/xhBQAAAAFzUkdCAK7OHOkAAAAgY0hSTQAAeiYAAICEAAD6AAAAgOgAAHUwAADqYAAAOpgAABdwnLpRPAAAAjVJREFUaAW9wbFL1HEAxuHP6SschGZS1ly0FTRESzi1tASN7dFYRP9BUy5BkERgcy61JNLS0CBCSwYNLUFES5eVJRKd5v3iveUbv6670+B9HjGEBr01sEPYOPYBa9OPiBNxIk7EiTgxhAo7jG1iP7EK+4q1GJaIE3EiTsSJODG0FnYO+4i9w36wOyJOxIk4ESfixC4dxZrYGwabxE5gy5iIE3EiTsSJODG0UWwVe4l1GOwbtkwh4kSciBNxIk4M4QC2jm3wv0SciBNxIk7Eib5GsGvYTWwd61A3hglrYx16E3EiTsSJOBGnI9gnrEMxit3D3lOsYQ2sotjGJim2sIPYDPYIE3EiTsSJOBGnFjaFfaHYj01jq9Q1sIq6Nepa2GMKESfiRJyIE3GqsDY2ju1gs9hF7Dx2n2ICO4stUYxh29RVFCJOxIk4ESfiRNcmdh57Sl2TusvYPmyJ4jTWxJ5jFXUiTsSJOBEn4kTXJWyBYd2mtxXqXmMPsVlMxIk4ESfiRJzoWmCwCmvQ2wt6O4ndwt5iIk7EiTgRJ+LELp3CXlE0sDMMNoOJOBEn4kSciBNdV7B5+mliO9gI1sEq7Cp2l34WMREn4kSciBNxousBNk9vU1ibfuawOewC9oRiFXuGiTgRJ+JEnIgTf2hgd7AbWIe9WMSmsePYMQoRJ+JEnIgTceIv1zFhHfaigX3GtrAVChEn4kSciBNx4h9+0dsINoFtYBVWUVQU36kTcSJOxIk4Efcbw+tY0B8V4VwAAAAASUVORK5C\">"
      ],
      "text/plain": [
       "19×19 reinterpret(reshape, Gray{Float64}, ::Matrix{Float64}) with eltype Gray{Float64}:\n",
       " Gray{Float64}(2.49278e-49)  …  Gray{Float64}(7.86059e-53)\n",
       " Gray{Float64}(1.19266e-53)     Gray{Float64}(6.04756e-58)\n",
       " Gray{Float64}(4.78536e-27)     Gray{Float64}(7.70963e-67)\n",
       " Gray{Float64}(6.04906e-20)     Gray{Float64}(8.39411e-58)\n",
       " Gray{Float64}(3.08259e-29)     Gray{Float64}(1.73399e-55)\n",
       " Gray{Float64}(3.12221e-21)  …  Gray{Float64}(2.37358e-41)\n",
       " Gray{Float64}(2.58653e-6)      Gray{Float64}(6.86518e-12)\n",
       " Gray{Float64}(0.0926771)       Gray{Float64}(0.00133883)\n",
       " Gray{Float64}(0.00579192)      Gray{Float64}(3.47992e-6)\n",
       " Gray{Float64}(3.96867e-5)      Gray{Float64}(3.5135e-5)\n",
       " Gray{Float64}(1.94235e-9)   …  Gray{Float64}(7.77035e-7)\n",
       " Gray{Float64}(4.4391e-11)      Gray{Float64}(3.74192e-5)\n",
       " Gray{Float64}(3.07056e-8)      Gray{Float64}(0.329956)\n",
       " Gray{Float64}(9.30866e-7)      Gray{Float64}(0.567753)\n",
       " Gray{Float64}(1.33554e-5)      Gray{Float64}(0.267295)\n",
       " Gray{Float64}(3.40542e-8)   …  Gray{Float64}(3.66501e-5)\n",
       " Gray{Float64}(1.55339e-16)     Gray{Float64}(6.90967e-9)\n",
       " Gray{Float64}(2.45391e-13)     Gray{Float64}(5.1668e-10)\n",
       " Gray{Float64}(0.000220758)     Gray{Float64}(2.86858e-39)"
      ]
     },
     "metadata": {},
     "output_type": "display_data"
    },
    {
     "data": {
      "image/png": "[encoded data removed]",
      "text/html": [
       "<img src=\"data:image/png;base64,iVBORw0KGgoAAAANSUhEUgAAAHIAAAByCAAAAACqttqhAAAABGdBTUEAALGPC/xhBQAAAAFzUkdCAK7OHOkAAAAgY0hSTQAAeiYAAICEAAD6AAAAgOgAAHUwAADqYAAAOpgAABdwnLpRPAAAAidJREFUaAW9wT1LVnEAxuHfY/cDT/ZquCRBi00iDS0tzY2BNSRIS2sNTUIfocUvUDhFLRUEfoLaCxJ7o4YgeldBSLP0xH2Wvxzk1JN5X5fY4iL2EntC0yB2BPuK/cAq2oxjn7FPmIgTcSJOxIk4UavYXofiO7aKdbGKNhVNBzARJ+JEnIgTcZqnTUXRwSpsnWIV62HD2BJ2H5uguIeJOBEn4kSciNNTbIymDm2OYe+xHnYd+0ZxnuIyNouJOBEn4kSciNMUNkV/prGrWIc/u0Uh4kSciBNxIk7UJrE79KeL/aRpCFvGKppEnIgTcSJOxInaXfozgl3BZmhaoo2IE3EiTsSJOLHFKLaILbK9a9gENoLN0OYkdgF7g4k4ESfiRJyI0wDFW2yINlMUp7EetkbRw0axaWwMm8dEnIgTcSJOxGkTO44dwsaw59gC9gvbxCaxOewhtkZTDzuLncMGsX2YiBNxIk7EiTjtxc5gh7Fh7DUmbJ3iFXaCNsvYIvYFO4otYCJOxIk4ESfitIrdxgawTayLXcLmsA/0ZxabxcaxFUzEiTgRJ+JEnKhV2AbFOnYT67BTzyhEnIgTcSJOxIm/UPE/iTgRJ+JEnIgTtUHsFPYYq9gtIk7EiTgRJ+JE7SD2CNuDbbBbRJyIE3EiTsSJ2keKDXaXiBNxIk7EiTjRqoPtx1bYqR4m4kSciBNxIk606mIPsBfYDewd/2INE3EiTsSJOBH3G7PKUkvt2WDPAAAAAElFTkSuQmCC\">"
      ],
      "text/plain": [
       "19×19 reinterpret(reshape, Gray{Float64}, ::Matrix{Float64}) with eltype Gray{Float64}:\n",
       " Gray{Float64}(4.55829e-64)  …  Gray{Float64}(1.25033e-14)\n",
       " Gray{Float64}(1.83469e-19)     Gray{Float64}(0.0469881)\n",
       " Gray{Float64}(0.832747)        Gray{Float64}(0.726034)\n",
       " Gray{Float64}(0.641442)        Gray{Float64}(0.00824495)\n",
       " Gray{Float64}(7.88974e-29)     Gray{Float64}(1.70417e-24)\n",
       " Gray{Float64}(5.37389e-22)  …  Gray{Float64}(1.85266e-13)\n",
       " Gray{Float64}(2.83117e-12)     Gray{Float64}(1.01141e-9)\n",
       " Gray{Float64}(0.000284672)     Gray{Float64}(0.37836)\n",
       " Gray{Float64}(0.00891456)      Gray{Float64}(0.647456)\n",
       " Gray{Float64}(0.00103053)      Gray{Float64}(0.864653)\n",
       " Gray{Float64}(0.0361756)    …  Gray{Float64}(0.69928)\n",
       " Gray{Float64}(0.0005438)       Gray{Float64}(0.124957)\n",
       " Gray{Float64}(2.40774e-9)      Gray{Float64}(2.1246e-5)\n",
       " Gray{Float64}(1.90981e-10)     Gray{Float64}(7.71388e-9)\n",
       " Gray{Float64}(1.38652e-7)      Gray{Float64}(3.20015e-9)\n",
       " Gray{Float64}(6.84848e-11)  …  Gray{Float64}(9.9026e-7)\n",
       " Gray{Float64}(6.15921e-21)     Gray{Float64}(9.66515e-6)\n",
       " Gray{Float64}(2.08481e-19)     Gray{Float64}(0.031458)\n",
       " Gray{Float64}(3.31136e-12)     Gray{Float64}(2.1138e-53)"
      ]
     },
     "metadata": {},
     "output_type": "display_data"
    },
    {
     "data": {
      "image/png": "[encoded data removed]",
      "text/html": [
       "<img src=\"data:image/png;base64,iVBORw0KGgoAAAANSUhEUgAAAHIAAAByCAAAAACqttqhAAAABGdBTUEAALGPC/xhBQAAAAFzUkdCAK7OHOkAAAAgY0hSTQAAeiYAAICEAAD6AAAAgOgAAHUwAADqYAAAOpgAABdwnLpRPAAAAh1JREFUaAW9wT9IlWEAxeHfJ0cDA42CplpuFtTc2p+5aKwh2gqiOagpDByiRWiL1iDDrakhGtK5VSHNtaAEC0LuRe4XZ3rj9euqBed5RJyIE3EiTsSJOLHLGDakW4Mdx6axT9SE7dBNxIk4ESfiRJzYZcjejmI9bA1rKXYYRcSJOBEn4kScOKAWW8VW2a8JbICJOBEn4kSciBMRAwoRJ+JEnIgTceKftNhNbIGDEXEiTsSJOBEn/sMrbIGDEXEiTsSJOBGnKewHdhFbZpRZaoexX4wyhg0xESfiRJyIE3G6QLFEt/vYPPaY2iJ2FbuFLWFb2EnsPPYRE3EiTsSJOBGnHnt7jt2m2xVsHJvBXlJ7jX3FRJyIE3EiTsTpLHvbxuYZ5Q72BJultoINMBEn4kSciBNxeofdo7aGnaGYptZQnMb6WIOtYBvYW2wSE3EiTsSJOBGnN9gHbBK7hG1TPMUeUmsp1rAGa7FzWIO12BQm4kSciBNxIk5D7DLdWooHWENtAutTbGCnsJbiJybiRJyIE3EiTvxFS7dH2BxFn1oPO4ZtUhNxIk7EiTgRpxlsnVqDtdTmqDXYABvHrmGbdBNxIk7EiTgRp3WKBmspGvZrgm6HsD7WYCJOxIk4ESfixB9abBG7jt3FXtDtCDaNfcF2sBPYN6xP0WIiTsSJOBEn4sQuN7AWe4a9xz5T28K2qH3Htukm4kSciBNxIu430iZTwOR/Da4AAAAASUVORK5C\">"
      ],
      "text/plain": [
       "19×19 reinterpret(reshape, Gray{Float64}, ::Matrix{Float64}) with eltype Gray{Float64}:\n",
       " Gray{Float64}(1.33309e-42)  …  Gray{Float64}(1.24907e-32)\n",
       " Gray{Float64}(7.33241e-34)     Gray{Float64}(4.69397e-44)\n",
       " Gray{Float64}(7.40501e-11)     Gray{Float64}(5.48486e-42)\n",
       " Gray{Float64}(7.03687e-14)     Gray{Float64}(1.20659e-25)\n",
       " Gray{Float64}(2.46871e-24)     Gray{Float64}(2.06869e-26)\n",
       " Gray{Float64}(7.62621e-16)  …  Gray{Float64}(2.86294e-25)\n",
       " Gray{Float64}(4.61335e-7)      Gray{Float64}(1.75014e-15)\n",
       " Gray{Float64}(0.0556835)       Gray{Float64}(3.41147e-5)\n",
       " Gray{Float64}(0.295997)        Gray{Float64}(0.171374)\n",
       " Gray{Float64}(0.42901)         Gray{Float64}(0.27834)\n",
       " Gray{Float64}(0.589056)     …  Gray{Float64}(0.254817)\n",
       " Gray{Float64}(0.319097)        Gray{Float64}(0.243749)\n",
       " Gray{Float64}(0.0070078)       Gray{Float64}(0.0530008)\n",
       " Gray{Float64}(5.0113e-6)       Gray{Float64}(7.97177e-5)\n",
       " Gray{Float64}(3.57787e-5)      Gray{Float64}(4.11291e-12)\n",
       " Gray{Float64}(0.140347)     …  Gray{Float64}(1.00401e-6)\n",
       " Gray{Float64}(1.44466e-12)     Gray{Float64}(0.0044556)\n",
       " Gray{Float64}(2.00796e-16)     Gray{Float64}(6.92132e-5)\n",
       " Gray{Float64}(4.84877e-17)     Gray{Float64}(1.84338e-41)"
      ]
     },
     "metadata": {},
     "output_type": "display_data"
    },
    {
     "data": {
      "image/png": "[encoded data removed]",
      "text/html": [
       "<img src=\"data:image/png;base64,iVBORw0KGgoAAAANSUhEUgAAAHIAAAByCAAAAACqttqhAAAABGdBTUEAALGPC/xhBQAAAAFzUkdCAK7OHOkAAAAgY0hSTQAAeiYAAICEAAD6AAAAgOgAAHUwAADqYAAAOpgAABdwnLpRPAAAAjxJREFUaAW9wT+IjgEAx/Hv897vlGOQwpUoShbZMFhM6q6UUga74gbLGbzJIlmcZLvBZD0GEbtSlxtuodxkkBNFl3Mu3u599HuWR0/v/Xvp9/mIymHsHf27hT3B3mPfsQ5NIk7EiTgRJ+JEZQ4r6G0Qu4ldo+kE9pqmFk07MREn4kSciBNxotLCutSOYkPYNNbG2tg2rIUt0luXpm+YiBNxIk7EiThRKaldwm5gj7Fpmn5hI9hTNkfEiTgRJ+JEnKiU1CaxSdbSoVawOSJOxIk4ESfiROU2dh0rWctl/pWIE3EiTsSJOFFpY23sLtbGOtSuYPdpKrGCjRJxIk7EiTgRpxZN49g4/RjAhrAlrMR2Y58xESfiRJyIE3EqsX3YGewA9gPbg42xvqvYBLaItbCt2CBWYCJOxIk4ESfiROUr9gATte3YGOu7g01QK7EV7BNWYiJOxIk4ESfiVGL7sR3YAjaHLWOnsYvYeTaqwA5hb6mJOBEn4kSciBOVRazA5qgNY2PYBTani72hScSJOBEn4kScqMxj8zTNYsPYT6ygtxHsBesTcSJOxIk4ESdWcRJbpmkUe07TEnYMm2EtIk7EiTgRJ+K0BTuCfcAWsFfYQayFncP20ttLNkrEiTgRJ+JEnH5jJXYKm6Kpi01h4l+JOBEn4kSciBOVWewLtQJ7ho1i97BH2AzWoR8iTsSJOBEn4sRfPlITtovaWewh1qF/Ik7EiTgRJ+LEKjrYcWwAW+H/EHEiTsSJOBH3B8NwVgmrWNliAAAAAElFTkSuQmCC\">"
      ],
      "text/plain": [
       "19×19 reinterpret(reshape, Gray{Float64}, ::Matrix{Float64}) with eltype Gray{Float64}:\n",
       " Gray{Float64}(3.8667e-27)   …  Gray{Float64}(2.54226e-23)\n",
       " Gray{Float64}(1.62671e-25)     Gray{Float64}(0.07136)\n",
       " Gray{Float64}(1.15572e-7)      Gray{Float64}(7.4038e-7)\n",
       " Gray{Float64}(0.00136692)      Gray{Float64}(9.90528e-5)\n",
       " Gray{Float64}(1.02602e-18)     Gray{Float64}(1.29033e-16)\n",
       " Gray{Float64}(6.23215e-13)  …  Gray{Float64}(1.41512e-21)\n",
       " Gray{Float64}(0.000499828)     Gray{Float64}(5.4767e-19)\n",
       " Gray{Float64}(0.00971403)      Gray{Float64}(0.00044872)\n",
       " Gray{Float64}(0.00500265)      Gray{Float64}(0.00248013)\n",
       " Gray{Float64}(0.00216104)      Gray{Float64}(3.92951e-5)\n",
       " Gray{Float64}(0.000159927)  …  Gray{Float64}(4.36268e-8)\n",
       " Gray{Float64}(3.03678e-7)      Gray{Float64}(2.00007e-11)\n",
       " Gray{Float64}(4.01563e-10)     Gray{Float64}(4.66959e-19)\n",
       " Gray{Float64}(2.61065e-7)      Gray{Float64}(2.06383e-24)\n",
       " Gray{Float64}(0.0250366)       Gray{Float64}(7.25979e-27)\n",
       " Gray{Float64}(5.2097e-6)    …  Gray{Float64}(1.53638e-26)\n",
       " Gray{Float64}(1.21846e-17)     Gray{Float64}(2.41319e-23)\n",
       " Gray{Float64}(5.05652e-12)     Gray{Float64}(1.30151e-7)\n",
       " Gray{Float64}(2.32045e-15)     Gray{Float64}(1.46181e-10)"
      ]
     },
     "metadata": {},
     "output_type": "display_data"
    },
    {
     "data": {
      "image/png": "[encoded data removed]",
      "text/html": [
       "<img src=\"data:image/png;base64,iVBORw0KGgoAAAANSUhEUgAAAHIAAAByCAAAAACqttqhAAAABGdBTUEAALGPC/xhBQAAAAFzUkdCAK7OHOkAAAAgY0hSTQAAeiYAAICEAAD6AAAAgOgAAHUwAADqYAAAOpgAABdwnLpRPAAAAjpJREFUaAW9wcFrznEAx/H3o89hkmWbzGnlgFoNSTG3Ka04uCi5K07ulP/AP6Dm4CguLtthBy5axDgt5iCRyeYxUzap/fTZ5fv022zPM/V5vUSHDmFHsR1Yhe3EKuwb9gv7jP3AvmAiTsSJOBEn4kSH3mE92DL2BjuANbF5NiPiRJyIE3EiTrShF2tiFfYcq7AG9pZ2iTgRJ+JEnIgTbWhSV1FUFHuxBYqz2BXsEibiRJyIE3EiTmzLbqwLm6dYoG4Sm6QQcSJOxIk4ESe2ZYmiwWYGsRlsFBNxIk7EiTgRJzrUR91T7Ay2B/uONbA+7AM2gIk4ESfiRJyIEx06Rt1pbAK7gXVjXdg5bIBCxIk4ESfiRJzo0GM2NoJNY7uwg9h56kSciBNxIk7EiTUN7CT2EZvDVrEd2Cq2in3F9lH3B1vEjmBD1Ik4ESfiRJyIE2sqrAersCa2jK1S1499wqawi1gDq7BH2Bh1Ik7EiTgRJ+JEiwmsG/vN1m5i9yjmsP3YAjaFDVOIOBEn4kSciBPrLNGuXur6sePYNDaCrVCIOBEn4kSciBP/4RR1P7FpigvUiTgRJ+JEnIgTLUaxWew9W7uOXcYqNnafOhEn4kSciBNxosUiNo7dxu6ysWWsi+0QcSJOxIk4ESdaPMNuYQ+wMWwEe0IxjL2iM3cwESfiRJyIE3FinYfYCewF1kvda2wGG2Rrs9g1TMSJOBEn4kSc+IeX2FVsCBvHVigGaddhChEn4kSciBNxfwHayFbK92Ej9QAAAABJRU5ErkJg\">"
      ],
      "text/plain": [
       "19×19 reinterpret(reshape, Gray{Float64}, ::Matrix{Float64}) with eltype Gray{Float64}:\n",
       " Gray{Float64}(1.93431e-42)  …  Gray{Float64}(3.59362e-5)\n",
       " Gray{Float64}(1.13951e-36)     Gray{Float64}(6.38722e-25)\n",
       " Gray{Float64}(7.40593e-28)     Gray{Float64}(1.42309e-26)\n",
       " Gray{Float64}(9.86951e-21)     Gray{Float64}(5.21414e-13)\n",
       " Gray{Float64}(6.02582e-25)     Gray{Float64}(5.005e-16)\n",
       " Gray{Float64}(2.62327e-20)  …  Gray{Float64}(0.278186)\n",
       " Gray{Float64}(4.55616e-12)     Gray{Float64}(1.36576)\n",
       " Gray{Float64}(5.95708e-7)      Gray{Float64}(2.37773)\n",
       " Gray{Float64}(3.49529e-10)     Gray{Float64}(3.42476)\n",
       " Gray{Float64}(8.28543e-11)     Gray{Float64}(3.97004)\n",
       " Gray{Float64}(9.4054e-11)   …  Gray{Float64}(3.5044)\n",
       " Gray{Float64}(3.11351e-8)      Gray{Float64}(2.6109)\n",
       " Gray{Float64}(9.55267e-7)      Gray{Float64}(2.07481)\n",
       " Gray{Float64}(1.9656e-9)       Gray{Float64}(2.0737)\n",
       " Gray{Float64}(1.90612e-9)      Gray{Float64}(1.95243)\n",
       " Gray{Float64}(2.52112e-5)   …  Gray{Float64}(1.35251)\n",
       " Gray{Float64}(0.000114116)     Gray{Float64}(0.596802)\n",
       " Gray{Float64}(6.68471e-8)      Gray{Float64}(1.0459e-5)\n",
       " Gray{Float64}(6.7263e-10)      Gray{Float64}(2.14561e-30)"
      ]
     },
     "metadata": {},
     "output_type": "display_data"
    },
    {
     "data": {
      "image/png": "[encoded data removed]",
      "text/html": [
       "<img src=\"data:image/png;base64,iVBORw0KGgoAAAANSUhEUgAAAHIAAAByCAAAAACqttqhAAAABGdBTUEAALGPC/xhBQAAAAFzUkdCAK7OHOkAAAAgY0hSTQAAeiYAAICEAAD6AAAAgOgAAHUwAADqYAAAOpgAABdwnLpRPAAAAiVJREFUaAW9wT1LlXEAxuHfUzdJCAkRUUFDLbVbYBHWUJMtgkN7Yw19iRr7CEG1BdIU1uDSoBUcyCkKkV7A3kBFFE6Znbhd/nJ6eM7xDPd1iT4MYxs0+YidojcRJ+JEnIgTcaIPm9hFbI56Z+mXiBNxIk7EiTjRt3nqjWG/6JeIE3EiTsSJOLFHU9gU9hR7zd6IOBEn4kSciBN7NI0tYF8YhIgTcSJOxIk4MZBFBifiRJyIE3EiTlexg9gm1sZWsCPYHPaXJsLOY0vYd+qJOBEn4kSciNM0NovNY3+ww9gcNoKt0mQIm6T4gL3FWlgHE3EiTsSJOBGnQ9gkdgB7g61gFbZKtwrrUGxia9gl7Bh2HNvCFjARJ+JEnIgTcWKXCewKdgt7TrdR7C42gW1TvMAmsWvYDPaEQsSJOBEn4kSc+M8s9pB6Lew2tk23FnYTu4OtY58pRJyIE3EiTsTpJTZOcYPeFqlXYRV2HzuNtSlEnIgTcSJOxOkeNk4xgz3CHmNbFCewdWyDej+xJWwIe4VdwESciBNxIk7E6R3dLmPnsAd0W6ZJB1vGhijGKESciBNxIk7E6Rv1hmlylOIH3To0EXEiTsSJOBGn3wxiP/aVbqP0JuJEnIgTcSJO7HiGTdCvVeq1qHeSQsSJOBEn4kSc2HEd62DbmGjSpkmFncE+YW0KESfiRJyIE3Fil4reKqyD7cNGsDWsQ/GeeiJOxIk4ESfi/gFAglT6YlOhLAAAAABJRU5ErkJg\">"
      ],
      "text/plain": [
       "19×19 reinterpret(reshape, Gray{Float64}, ::Matrix{Float64}) with eltype Gray{Float64}:\n",
       " Gray{Float64}(9.36561e-36)  …  Gray{Float64}(5.31916e-27)\n",
       " Gray{Float64}(5.78719e-38)     Gray{Float64}(3.15068e-29)\n",
       " Gray{Float64}(2.12618e-21)     Gray{Float64}(4.34749e-45)\n",
       " Gray{Float64}(2.37289e-11)     Gray{Float64}(3.18594e-40)\n",
       " Gray{Float64}(9.40275e-16)     Gray{Float64}(1.05543e-32)\n",
       " Gray{Float64}(8.62534e-7)   …  Gray{Float64}(4.49066e-36)\n",
       " Gray{Float64}(0.266033)        Gray{Float64}(1.10907e-20)\n",
       " Gray{Float64}(0.946283)        Gray{Float64}(8.52052e-10)\n",
       " Gray{Float64}(1.65254)         Gray{Float64}(8.24671e-7)\n",
       " Gray{Float64}(1.65363)         Gray{Float64}(6.5234e-7)\n",
       " Gray{Float64}(1.35051)      …  Gray{Float64}(1.24786e-9)\n",
       " Gray{Float64}(0.756556)        Gray{Float64}(8.7268e-15)\n",
       " Gray{Float64}(0.278447)        Gray{Float64}(2.5535e-16)\n",
       " Gray{Float64}(0.11733)         Gray{Float64}(8.79223e-10)\n",
       " Gray{Float64}(0.024446)        Gray{Float64}(0.000143455)\n",
       " Gray{Float64}(6.15475e-5)   …  Gray{Float64}(6.65475e-12)\n",
       " Gray{Float64}(2.85065e-10)     Gray{Float64}(1.82512e-18)\n",
       " Gray{Float64}(5.57841e-13)     Gray{Float64}(2.68818e-20)\n",
       " Gray{Float64}(4.97142e-12)     Gray{Float64}(2.24466e-24)"
      ]
     },
     "metadata": {},
     "output_type": "display_data"
    },
    {
     "data": {
      "image/png": "[encoded data removed]",
      "text/html": [
       "<img src=\"data:image/png;base64,iVBORw0KGgoAAAANSUhEUgAAAHIAAAByCAAAAACqttqhAAAABGdBTUEAALGPC/xhBQAAAAFzUkdCAK7OHOkAAAAgY0hSTQAAeiYAAICEAAD6AAAAgOgAAHUwAADqYAAAOpgAABdwnLpRPAAAAdFJREFUaAW9wTGLzgEAx/Hvk68zSJROymBhkOU2JW+ATSwmi0FZZBM2L8BgYLGoewNXRgsvw3rKJV3q6nDu0e+Wfz09/Z9zx+/zkf9AYof5pE7qpE7qpE7+g9+MkTqpkzqpkzo5hCXiFzFlMGWM1Emd1Emd1MmBLBE/iAmLHSe2CKmTOqmTOqmTA1llcI34yJgtBlIndVIndVLnhDhK/GSxE8QtBh+ICfsldVIndVIndS4TGyz2ktghXhAPGUyJCWMkpE7qpE7qpM5XxG1il/mmDO4Tq8RDZm0QZ5i1StwhpE7qpE7qpM6bxF3iLbFLnCS+Mes1MWG+ZWLKGKmTOqmTOqmTPW+Ix8QWscKYIxyc1Emd1Emd1MmeDeIiY64w2CGeE0/5O1IndVIndVIne+4R68R3Yok4S7xnvmfEJeIW+yV1Uid1Uid1fiXWmG+TxW4Tj4gnxGkG74jrDKRO6qRO6qTOFcZ8Zr9eEpeJC8Qn4gazpE7qpE7qpM51/o1fxANimzFSJ3VSJ3VSJ//IlNhmMamTOqmTOqmTOqmTOqmTOqmTQzhHHCe+E1+IKYNTxCYDqZM6qZM6qZNDWCcmxDHiKnGeWCM2mSV1Uid1Uid1fwAc3TsuLo7YzgAAAABJRU5ErkJg\">"
      ],
      "text/plain": [
       "19×19 reinterpret(reshape, Gray{Float64}, ::Matrix{Float64}) with eltype Gray{Float64}:\n",
       " Gray{Float64}(2.07134e-62)  …  Gray{Float64}(3.61758e-17)\n",
       " Gray{Float64}(1.90601e-44)     Gray{Float64}(5.51885e-15)\n",
       " Gray{Float64}(7.78791e-26)     Gray{Float64}(9.13996e-17)\n",
       " Gray{Float64}(4.34748e-16)     Gray{Float64}(1.38294e-5)\n",
       " Gray{Float64}(2.18427e-10)     Gray{Float64}(1.50344e-5)\n",
       " Gray{Float64}(0.00425807)   …  Gray{Float64}(6.98417e-9)\n",
       " Gray{Float64}(0.0875686)       Gray{Float64}(0.0139409)\n",
       " Gray{Float64}(0.681121)        Gray{Float64}(1.94175)\n",
       " Gray{Float64}(1.78153)         Gray{Float64}(3.87167)\n",
       " Gray{Float64}(2.20192)         Gray{Float64}(4.88241)\n",
       " Gray{Float64}(2.14915)      …  Gray{Float64}(4.74562)\n",
       " Gray{Float64}(1.78545)         Gray{Float64}(3.41284)\n",
       " Gray{Float64}(0.921829)        Gray{Float64}(1.42564)\n",
       " Gray{Float64}(0.10679)         Gray{Float64}(0.000158092)\n",
       " Gray{Float64}(1.15069e-7)      Gray{Float64}(4.24456e-18)\n",
       " Gray{Float64}(4.26528e-12)  …  Gray{Float64}(6.01652e-17)\n",
       " Gray{Float64}(1.40154e-20)     Gray{Float64}(4.32044e-13)\n",
       " Gray{Float64}(1.52837e-17)     Gray{Float64}(3.45733e-8)\n",
       " Gray{Float64}(1.581e-20)       Gray{Float64}(4.65067e-34)"
      ]
     },
     "metadata": {},
     "output_type": "display_data"
    }
   ],
   "source": [
    "for i in 1:10\n",
    "    display(colorview(Gray, reshape(W_pre_2[i, :], 19, 19)))\n",
    "end"
   ]
  },
  {
   "cell_type": "code",
   "execution_count": 26,
   "metadata": {
    "scrolled": true
   },
   "outputs": [
    {
     "data": {
      "image/png": "[encoded data removed]",
      "text/html": [
       "<img src=\"data:image/png;base64,iVBORw0KGgoAAAANSUhEUgAAAHIAAAByCAAAAACqttqhAAAABGdBTUEAALGPC/xhBQAAAAFzUkdCAK7OHOkAAAAgY0hSTQAAeiYAAICEAAD6AAAAgOgAAHUwAADqYAAAOpgAABdwnLpRPAAAAi9JREFUaAW9wTGIzQEAx/Hv/93PRUkGclgMXrJYbIZLEdmMb0Bn0UXZmBnYLCddWLCflCSKQUkm3eKGw4I4N5Dibnnvr99b/tff6713b/h9PiLoOCbiRJyIE3EiToxkHLuPncLaDPYGE3EiTsSJOBEnRnIUa2EtrGCw/ZiIE3EiTsSJOBXYNmyZYT2hbhFr0lsTKzERJ+JEnIgTcSqxZYY1Tm976WcRO4CJOBEn4kSciBNDKLFZ7Dx2BHtBXYkV9PYDE3EiTsSJOBEn+iqpLFD5Tj8l1sBKrMDeYSJOxIk4ESfixBoFthF7TeUPdpPKEoN1sItYC5vARJyIE3EiTsSJrmlslrrP2B7qfmIXsFv0M0OdiBNxIk7EiTjRdRc7iR3EFrBJeutg77Ff2FaGJeJEnIgTcSJOdLWxE1gT+8hgr7Bd2F8qW7BV7BJ2BduAiTgRJ+JEnIgTa5TYB6zDYB1sBWtjY9hvrMCuY0+xKUzEiTgRJ+JEnPhPh8F2YueweewGdpnKA+wMNo/NYCJOxIk4ESfixEi+YVexAnuEvcXmsNPYFFZinzARJ+JEnIgTcWIkBbYd24x9wR5i09g1bAe2hHUwESfiRJyIE3FiJCW2CduNTWBfsdvYHaygTsSJOBEn4kScWKdj2DN6O4vdw0qsxAoqIk7EiTgRJ+LEOj3HCiqHsCY2R6WBjWOrVESciBNxIk7EiZHswyaxMewxtoIdxhrYS+pEnIgTcSJOxP0DaSpSKJFOVIsAAAAASUVORK5C\">"
      ],
      "text/plain": [
       "19×19 reinterpret(reshape, Gray{Float64}, ::Matrix{Float64}) with eltype Gray{Float64}:\n",
       " Gray{Float64}(1.25905e-26)  …  Gray{Float64}(0.278426)\n",
       " Gray{Float64}(2.24711e-20)     Gray{Float64}(0.0555722)\n",
       " Gray{Float64}(3.49389e-13)     Gray{Float64}(0.213912)\n",
       " Gray{Float64}(0.0039369)       Gray{Float64}(0.211421)\n",
       " Gray{Float64}(1.83756e-15)     Gray{Float64}(0.179727)\n",
       " Gray{Float64}(2.00433e-27)  …  Gray{Float64}(0.0948021)\n",
       " Gray{Float64}(6.14918e-20)     Gray{Float64}(0.905029)\n",
       " Gray{Float64}(8.01776e-9)      Gray{Float64}(1.98787)\n",
       " Gray{Float64}(9.74804e-5)      Gray{Float64}(2.87929)\n",
       " Gray{Float64}(1.21746e-6)      Gray{Float64}(2.40406)\n",
       " Gray{Float64}(9.84278e-7)   …  Gray{Float64}(1.35661)\n",
       " Gray{Float64}(3.35349e-5)      Gray{Float64}(0.569668)\n",
       " Gray{Float64}(3.29218e-7)      Gray{Float64}(0.135364)\n",
       " Gray{Float64}(7.79101e-10)     Gray{Float64}(0.00304847)\n",
       " Gray{Float64}(1.88951e-19)     Gray{Float64}(0.000719695)\n",
       " Gray{Float64}(3.46678e-23)  …  Gray{Float64}(0.00151327)\n",
       " Gray{Float64}(2.45654e-14)     Gray{Float64}(0.000116921)\n",
       " Gray{Float64}(2.0229e-8)       Gray{Float64}(7.65804e-11)\n",
       " Gray{Float64}(3.46087e-8)      Gray{Float64}(1.28205e-21)"
      ]
     },
     "metadata": {},
     "output_type": "display_data"
    },
    {
     "data": {
      "image/png": "[encoded data removed]",
      "text/html": [
       "<img src=\"data:image/png;base64,iVBORw0KGgoAAAANSUhEUgAAAHIAAAByCAAAAACqttqhAAAABGdBTUEAALGPC/xhBQAAAAFzUkdCAK7OHOkAAAAgY0hSTQAAeiYAAICEAAD6AAAAgOgAAHUwAADqYAAAOpgAABdwnLpRPAAAAipJREFUaAW9wc9rz3EAx/Hnd17f5i60SG0HFzfRUjgukfEHOCipodwcKMppfwJSoshppEg5alwk5TC1k19tl6U239L6bt+PXi7vb+vTd/M1r8dDdNmPncMuUe80dhi7glXUq6gn4kSciBNxIk50eU9xERvG5rEd2FOKIewQNsxGiTgRJ+JEnIgTXY5g09T7hu3DRrAf2DbsLjbJWhVriTgRJ+JEnIgTXaZZ3ww2Q3GMXhoUFSbiRJyIE3EiTvRF2Ar9EHEiTsSJOBEn+nIZe4zN83dEnIgTcSJOxIm+3MOWsFPYM9Y3gYk4ESfiRJyIE12uYg+wOeptwUaxV1gba2Jt6t3EbmAiTsSJOBEn4sQfTayNjWEfsVmsRTGBHcA+YWexUWwSW8WE7cUuUIg4ESfiRJyIUxNbwWaxM9ge7D7WwgawF9gUtoidx2axJ9ggdhQ7gW2nEHEiTsSJOBGnrdhP7C32HVvEvlJ0sM8UDewatgtbxYawO9gHbAkbx0SciBNxIk7E6RfFArbARlXYddaao3iN7cbGMREn4kSciBNxWuH/amNfsJeYiBNxIk7EiTg1sIp/NYgtU+8NdhwTcSJOxIk4EaeKzbFML20KESfiRJyIE3GiywDWYTM1sAbWwUSciBNxIk7EiS4dNl+FVRQiTsSJOBEn4kRPB7Gd2HN6GcHGsIdYi3oiTsSJOBEn4kRP7+iliU1hJyluUTzCbmPTmIgTcSJOxIm431QpVfnEoXoqAAAAAElFTkSuQmCC\">"
      ],
      "text/plain": [
       "19×19 reinterpret(reshape, Gray{Float64}, ::Matrix{Float64}) with eltype Gray{Float64}:\n",
       " Gray{Float64}(1.78525e-93)  …  Gray{Float64}(7.16962)\n",
       " Gray{Float64}(3.38717e-29)     Gray{Float64}(15.8834)\n",
       " Gray{Float64}(4.96657e-12)     Gray{Float64}(11.7083)\n",
       " Gray{Float64}(1.17309e-37)     Gray{Float64}(3.9173)\n",
       " Gray{Float64}(8.67649e-43)     Gray{Float64}(1.91833)\n",
       " Gray{Float64}(2.63787e-31)  …  Gray{Float64}(1.01634)\n",
       " Gray{Float64}(2.85977e-18)     Gray{Float64}(0.40309)\n",
       " Gray{Float64}(1.24492e-6)      Gray{Float64}(1.82784)\n",
       " Gray{Float64}(0.00044288)      Gray{Float64}(2.5278)\n",
       " Gray{Float64}(0.0209803)       Gray{Float64}(2.46895)\n",
       " Gray{Float64}(0.0507952)    …  Gray{Float64}(1.88676)\n",
       " Gray{Float64}(0.0139221)       Gray{Float64}(1.36903)\n",
       " Gray{Float64}(0.00182258)      Gray{Float64}(0.714415)\n",
       " Gray{Float64}(0.0037894)       Gray{Float64}(0.000537827)\n",
       " Gray{Float64}(2.80863e-6)      Gray{Float64}(1.25755e-9)\n",
       " Gray{Float64}(1.40572e-14)  …  Gray{Float64}(1.32505e-11)\n",
       " Gray{Float64}(1.67391e-22)     Gray{Float64}(2.25656e-13)\n",
       " Gray{Float64}(1.58286e-18)     Gray{Float64}(7.41691e-10)\n",
       " Gray{Float64}(5.37178e-21)     Gray{Float64}(1.2018e-29)"
      ]
     },
     "metadata": {},
     "output_type": "display_data"
    },
    {
     "data": {
      "image/png": "[encoded data removed]",
      "text/html": [
       "<img src=\"data:image/png;base64,iVBORw0KGgoAAAANSUhEUgAAAHIAAAByCAAAAACqttqhAAAABGdBTUEAALGPC/xhBQAAAAFzUkdCAK7OHOkAAAAgY0hSTQAAeiYAAICEAAD6AAAAgOgAAHUwAADqYAAAOpgAABdwnLpRPAAAAftJREFUaAW9wT9r1AcAxvFvcl9Fl9IupUMRdHApFKfGodSpTl27OZhZ3Sz0DZQOVeIrKIJ0EX0H/hkcjGDH0i5FJxeHiEHikMvJc8tPrscld4Xn85GVHCNGxJgYExNiwiJSJ3VSJ3VSJyv5kjhLvCP+InaYb504IKRO6qRO6qROpq4TNziql8QeMSJ2WOSAgdRJndRJndTJ1HGWMyG+IP5lOVIndVIndVInU78QW8Qei/xIPCG+JU4STxl8Srxh8BmxQ0id1Emd1EmdTK1xuDXiLrNeEGcYvGHWOeIxIXVSJ3VSJ3VyBBvENvOdJjaIZ8z3mIHUSZ3USZ3UyULrxDaz3hMnGGwTnxOvWUTqpE7qpE7qnDD4hNgl1okx8/1M3GLWd8R9FpE6qZM6qZM6+chbDvea+J24xax7xIg4YHCcuElIndRJndRJnSzpArFL3CYuM+sf4hrxFfE18QMhdVIndVIndXJkl4i/GWwSm8Qz4htii3hIPCHOEy8JqZM6qZM6qZP/eEvcIa4QPxF/sMgG8+0Tj4hHhNRJndRJndT5PXGX+I34lcFVlrNGTFhE6qRO6qRO6nxAXCT+5P+acDipkzqpkzqpk6nn9Eid1Emd1Emd1Emd1Emd1EmdrGREjFmF1Emd1Emd1MkRnCJeEfvEmNVJndRJndRJ3QdssUXz8tigOwAAAABJRU5ErkJg\">"
      ],
      "text/plain": [
       "19×19 reinterpret(reshape, Gray{Float64}, ::Matrix{Float64}) with eltype Gray{Float64}:\n",
       " Gray{Float64}(7.96067e-54)  …  Gray{Float64}(8.94198e-55)\n",
       " Gray{Float64}(5.42085e-24)     Gray{Float64}(1.29829e-25)\n",
       " Gray{Float64}(3.19094e-18)     Gray{Float64}(3.89973e-26)\n",
       " Gray{Float64}(7.10132e-29)     Gray{Float64}(2.8445e-21)\n",
       " Gray{Float64}(3.8792e-22)      Gray{Float64}(5.66361e-11)\n",
       " Gray{Float64}(7.52902e-24)  …  Gray{Float64}(3.81777e-12)\n",
       " Gray{Float64}(2.14845e-15)     Gray{Float64}(1.6165e-13)\n",
       " Gray{Float64}(4.51277e-5)      Gray{Float64}(3.1653e-9)\n",
       " Gray{Float64}(1.64588)         Gray{Float64}(0.000340739)\n",
       " Gray{Float64}(2.69238)         Gray{Float64}(0.575878)\n",
       " Gray{Float64}(3.04698)      …  Gray{Float64}(0.926493)\n",
       " Gray{Float64}(2.44101)         Gray{Float64}(0.50091)\n",
       " Gray{Float64}(1.24876)         Gray{Float64}(0.00178393)\n",
       " Gray{Float64}(0.265448)        Gray{Float64}(5.24598e-13)\n",
       " Gray{Float64}(2.27527e-28)     Gray{Float64}(5.26481e-26)\n",
       " Gray{Float64}(1.01539e-40)  …  Gray{Float64}(8.95435e-27)\n",
       " Gray{Float64}(2.13797e-35)     Gray{Float64}(4.26221e-18)\n",
       " Gray{Float64}(4.6864e-19)      Gray{Float64}(7.73783e-10)\n",
       " Gray{Float64}(8.60778e-31)     Gray{Float64}(1.41137e-58)"
      ]
     },
     "metadata": {},
     "output_type": "display_data"
    },
    {
     "data": {
      "image/png": "[encoded data removed]",
      "text/html": [
       "<img src=\"data:image/png;base64,iVBORw0KGgoAAAANSUhEUgAAAHIAAAByCAAAAACqttqhAAAABGdBTUEAALGPC/xhBQAAAAFzUkdCAK7OHOkAAAAgY0hSTQAAeiYAAICEAAD6AAAAgOgAAHUwAADqYAAAOpgAABdwnLpRPAAAAc9JREFUaAW9wb9K1QEAhuHXelukIaglcGl2TbcaWyLo3x20tgRCF6FEBl2GUC1SbbWE1dAYBDWENEQEkgSCxtdy5PDr6NH4nkf2OUcsEPPEMtN5TNwnfjFM6qRO6qRO6mSf78Q6sU6sMHKFeM64L8QN4gOxxyRSJ3VSJ3VSJ4f2gpghXhFbxFWmI3VSJ3VSJ3VyJJc4OqmTOqmTOqmTiWaJbaYzQ+wxTOqkTuqkTupkom2O4jyxyTCpkzqpkzqpk2PbIBYZ2WQSqZM6qZM6qfMmsUm84SgWONgs8ZaQOqmTOqmTOleJOeIzsUS8JLYYd5HDOkk8JO4yInVSJ3VSJ3XOMXKBWCPWiNuMk2GviMvENeIZw6RO6qRO6qRO/mGVYW+IGcYtMbLOJFIndVIndVInf30l5ogHxGums0KcInaI68QTxkmd1Emd1Emdu8QCcZr4xLhFYoOD7REzxFPiIvGOEamTOqmTOqnzHvGNYaeIDQ5rnvhI/CbeE2eJO4TUSZ3USZ3U+YhJdpjOB4b9IJYJqZM6qZM6qZOKE8QuIXVSJ3VSJ3Uy0RniJ8e1y4jUSZ3USZ3UeYtYY9hP/j+pkzqpkzqpc402qZM6qZM6qfsDmaY8YnSPHlkAAAAASUVORK5C\">"
      ],
      "text/plain": [
       "19×19 reinterpret(reshape, Gray{Float64}, ::Matrix{Float64}) with eltype Gray{Float64}:\n",
       " Gray{Float64}(5.04117e-14)  …  Gray{Float64}(3.29039e-9)\n",
       " Gray{Float64}(1.01959e-12)     Gray{Float64}(5.26359e-5)\n",
       " Gray{Float64}(8.4008e-14)      Gray{Float64}(1.27935e-12)\n",
       " Gray{Float64}(2.6768e-18)      Gray{Float64}(2.2109e-12)\n",
       " Gray{Float64}(2.1163e-20)      Gray{Float64}(2.00507e-14)\n",
       " Gray{Float64}(9.84004e-18)  …  Gray{Float64}(1.85031e-10)\n",
       " Gray{Float64}(4.97034e-8)      Gray{Float64}(4.33168e-9)\n",
       " Gray{Float64}(0.322696)        Gray{Float64}(0.836628)\n",
       " Gray{Float64}(0.890137)        Gray{Float64}(2.38722)\n",
       " Gray{Float64}(1.44598)         Gray{Float64}(3.76788)\n",
       " Gray{Float64}(1.49868)      …  Gray{Float64}(3.67862)\n",
       " Gray{Float64}(1.2556)          Gray{Float64}(2.69894)\n",
       " Gray{Float64}(0.992287)        Gray{Float64}(1.41539)\n",
       " Gray{Float64}(0.430065)        Gray{Float64}(0.458265)\n",
       " Gray{Float64}(2.05097e-9)      Gray{Float64}(4.06212e-5)\n",
       " Gray{Float64}(3.09698e-14)  …  Gray{Float64}(2.18877e-11)\n",
       " Gray{Float64}(0.00127373)      Gray{Float64}(4.9441e-13)\n",
       " Gray{Float64}(0.32695)         Gray{Float64}(1.09279e-13)\n",
       " Gray{Float64}(3.44559e-10)     Gray{Float64}(4.83921e-23)"
      ]
     },
     "metadata": {},
     "output_type": "display_data"
    },
    {
     "data": {
      "image/png": "[encoded data removed]",
      "text/html": [
       "<img src=\"data:image/png;base64,iVBORw0KGgoAAAANSUhEUgAAAHIAAAByCAAAAACqttqhAAAABGdBTUEAALGPC/xhBQAAAAFzUkdCAK7OHOkAAAAgY0hSTQAAeiYAAICEAAD6AAAAgOgAAHUwAADqYAAAOpgAABdwnLpRPAAAAiBJREFUaAW9wb9L1HEAxvH31SMFObhEVkOENCRRS0QUgfRjKBqCaGhojP6DFsGKCJqisaGtyMUlApscGs9RKSQUsS2Iln6AnPqNZ/rI3XV3fqPn9RIDaGCPsUm6m8GeYgtYi+5EnIgTcSJOxIkBVNgz7Dw2QTGFPcd+0J+IE3EiTsSJODGw79hl7Bi2jG2wMyJOxIk4ESfixA5tYksM6gg2jr3HRJyIE3EiTsSJ/2wNW6MQcSJOxIk4ESdqOYqtUoeIE3EiTsSJOFFLE2tiu7Bf2DvsLfYb26SoMBEn4kSciBNxokMD24f9pLv92HXa3cJeYkvYCraIfcFEnIgTcSJOxIkOwrboZRU7iO2lOItdxIaxw9hX7C4m4kSciBNxIk502MBa9HIDu4SNYFNYE5vHxrHT2H3sCibiRJyIE3EiTnSo6G8BW8QqbAYbwlrYR2wU+4bNYSJOxIk4ESfiRC17sNfYIewcRYNiDvuMncREnIgTcSJOxIla1rEL2AHa3cFeYUPYTWwdE3EiTsSJOBEn/sEoNok9od1VbJZ2Ik7EiTgRJ+LENm+w21iDXj5hx7FZupulOxEn4kSciBNxYpsTFBXWoLsWxTWsor8PmIgTcSJOxIk4ncHmsVPYFkULG6LdMHVMYCJOxIk4ESfiNE9RYQ3sAfYQG8NWKMawe9gL+ttNIeJEnIgTcSJO/MUjbARbpr5pbItCxIk4ESfiRNwfeGFMXI0An9sAAAAASUVORK5C\">"
      ],
      "text/plain": [
       "19×19 reinterpret(reshape, Gray{Float64}, ::Matrix{Float64}) with eltype Gray{Float64}:\n",
       " Gray{Float64}(1.46218e-38)  …  Gray{Float64}(1.18011e-16)\n",
       " Gray{Float64}(6.95846e-20)     Gray{Float64}(8.91717e-8)\n",
       " Gray{Float64}(2.01032e-17)     Gray{Float64}(2.20683e-16)\n",
       " Gray{Float64}(1.284e-25)       Gray{Float64}(1.58781e-14)\n",
       " Gray{Float64}(1.43111e-31)     Gray{Float64}(2.62148e-11)\n",
       " Gray{Float64}(1.32017e-36)  …  Gray{Float64}(4.62145e-12)\n",
       " Gray{Float64}(4.04948e-18)     Gray{Float64}(6.35002e-6)\n",
       " Gray{Float64}(8.4972e-8)       Gray{Float64}(0.020317)\n",
       " Gray{Float64}(2.4028e-5)       Gray{Float64}(0.532234)\n",
       " Gray{Float64}(3.40028e-8)      Gray{Float64}(0.956242)\n",
       " Gray{Float64}(7.00794e-9)   …  Gray{Float64}(0.694935)\n",
       " Gray{Float64}(1.55074e-8)      Gray{Float64}(0.292424)\n",
       " Gray{Float64}(3.53244e-8)      Gray{Float64}(0.410767)\n",
       " Gray{Float64}(3.82978e-8)      Gray{Float64}(1.05128)\n",
       " Gray{Float64}(2.29236e-9)      Gray{Float64}(1.43184)\n",
       " Gray{Float64}(8.88602e-5)   …  Gray{Float64}(0.752459)\n",
       " Gray{Float64}(0.213101)        Gray{Float64}(0.000365834)\n",
       " Gray{Float64}(5.14765e-9)      Gray{Float64}(4.1434e-15)\n",
       " Gray{Float64}(5.78343e-20)     Gray{Float64}(2.56783e-27)"
      ]
     },
     "metadata": {},
     "output_type": "display_data"
    },
    {
     "data": {
      "image/png": "[encoded data removed]",
      "text/html": [
       "<img src=\"data:image/png;base64,iVBORw0KGgoAAAANSUhEUgAAAHIAAAByCAAAAACqttqhAAAABGdBTUEAALGPC/xhBQAAAAFzUkdCAK7OHOkAAAAgY0hSTQAAeiYAAICEAAD6AAAAgOgAAHUwAADqYAAAOpgAABdwnLpRPAAAAlNJREFUaAW9wc9rz3EAx/HnZ3uRsosc9geQctiVXMQoTk5opZSDHGxzdnH146KUVhwoSiLLisSOnHZwmWSJcnDgoMUS320fvVze69PHx3eX1+MhOs1iB+jXeewSXUSciBNxIk7EiU4HMWE92j3AjtMvESfiRJyIE3GiD8tYhY1h97Dr2DjrI+JEnIgTcSJO/EOF1TQ9wEaxCdpNYa+wuzSJOBEn4kSciBP/UGM7sAWKFewMVtPuKzZNOxEn4kSciBNxotMC7Wq6XKCLiBNxIk7EiTjRaQAT9pt+VVhNOxEn4kSciBNxqrBN2GHsBDaE7cauYBcpNmA9mo5hW7F57DW2RCHiRJyIE3EiTkexn9g4NkrxBLtMMYCNYXdoeoTtx/Zhw9hjbBkTcSJOxIk4Eadz2DtsEHuB3cIeYqsUq9hd2q1gL7H32BA2jH3GRJyIE3EiTsRpEduD7cTmsRmsh23GliiOYDNYTVMPG8FGsL3YBCbiRJyIE3EiTrPYaYrL2BLFEsUgdgObod0K9gE7ie3DPmIiTsSJOBEn4nQVu41tx+YormGTFCvYMP/3BjuL3cSWMREn4kSciBNx4q9v2BxNkxQDWI1V2CBWY8u0+4I9pxBxIk7EiTgRJ/q2ih3CnmH3sTHWR8SJOBEn4kScWKcam8DGsSHsB/0ScSJOxIk4ESfW2Ib1sE8UNV2+U1QUG7EK+0Uh4kSciBNxIk6ssQs7hU1h01iF1XTZRNNB7ClNIk7EiTgRJ+LEGvewBewtTRXFFmwRW6XdU9qJOBEn4kSciPsDxCVhD7JQka0AAAAASUVORK5C\">"
      ],
      "text/plain": [
       "19×19 reinterpret(reshape, Gray{Float64}, ::Matrix{Float64}) with eltype Gray{Float64}:\n",
       " Gray{Float64}(3.0894e-27)   …  Gray{Float64}(1.09575e-47)\n",
       " Gray{Float64}(1.79847e-12)     Gray{Float64}(7.82789e-28)\n",
       " Gray{Float64}(2.19222e-18)     Gray{Float64}(9.39862e-40)\n",
       " Gray{Float64}(1.53219e-54)     Gray{Float64}(1.3404e-55)\n",
       " Gray{Float64}(3.38277e-42)     Gray{Float64}(2.8045e-40)\n",
       " Gray{Float64}(6.00044e-30)  …  Gray{Float64}(5.35983e-25)\n",
       " Gray{Float64}(2.23117e-14)     Gray{Float64}(1.19777e-16)\n",
       " Gray{Float64}(0.00344006)      Gray{Float64}(2.54009e-10)\n",
       " Gray{Float64}(0.332952)        Gray{Float64}(1.06869e-6)\n",
       " Gray{Float64}(0.76749)         Gray{Float64}(0.00265852)\n",
       " Gray{Float64}(0.711234)     …  Gray{Float64}(0.143958)\n",
       " Gray{Float64}(0.443006)        Gray{Float64}(0.0162166)\n",
       " Gray{Float64}(2.66959e-5)      Gray{Float64}(1.71512e-10)\n",
       " Gray{Float64}(1.49332e-8)      Gray{Float64}(1.02138e-19)\n",
       " Gray{Float64}(4.16124e-23)     Gray{Float64}(3.18665e-27)\n",
       " Gray{Float64}(1.89464e-19)  …  Gray{Float64}(1.58384e-24)\n",
       " Gray{Float64}(6.43285e-12)     Gray{Float64}(2.90161e-15)\n",
       " Gray{Float64}(2.65311e-17)     Gray{Float64}(7.1801e-7)\n",
       " Gray{Float64}(9.54028e-35)     Gray{Float64}(3.21168e-30)"
      ]
     },
     "metadata": {},
     "output_type": "display_data"
    },
    {
     "data": {
      "image/png": "[encoded data removed]",
      "text/html": [
       "<img src=\"data:image/png;base64,iVBORw0KGgoAAAANSUhEUgAAAHIAAAByCAAAAACqttqhAAAABGdBTUEAALGPC/xhBQAAAAFzUkdCAK7OHOkAAAAgY0hSTQAAeiYAAICEAAD6AAAAgOgAAHUwAADqYAAAOpgAABdwnLpRPAAAAkJJREFUaAW9wb9vjXEAxeHPbU/SqMYgFonYJN00pnaw8A+0kagOEoNYDCKxGAxixdYgIhIiymKQVCeLWDCgtkaMFYJUW1X98cq5y7d5c91eJed5xB90YYPYO+w7/4eIE3EiTsSJONHUhy1QVNgvbI5iBHuGzVGcxKax59R1Y2uYiBNxIk7EiTjR1IstUFTYG+oeYSPYK+watopdp7U1ChEn4kSciBNxoukTra1gO7GvFC+wL9gUNk6nRJyIE3EiTsSJDbqwdep6sGPYBPYDW8bGaWc7tkgh4kSciBNxIk5ssE5rH7EHWC82T6cWqRNxIk7EiTgRJzrQwCrsNnYcu8tWiDgRJ+JEnIgTbfVhi9Sdwe5gDeoeYYexGewCNomJOBEn4kSciNMObAnrp1jF9mKD2CVsHVvCVrEurMJOY8MUB7A9WAMTcSJOxIk4EadFbD92CxugtYsUB6nbhs1iT7FDFEPYBCbiRJyIE3EiTmtYPzZAp/qweWwMm8beYmPYELYLe4LNYyJOxIk4ESfiRNM9NlfR2n2KBtbAprAVbJ1CxIk4ESfiRJxoq0HRwCawoxQNWjuBPcS+UYg4ESfiRJyIE03nsMvYTewUdRU2io2yuRu0JuJEnIgTcSJONF3BrmIV/6qiHREn4kSciBNxYoOKBBEn4kSciBNxYkuOYK+x9/wdESfiRJyIE3GiaTc2S6fOYy+xs9hPin3YB2yVOhEn4kSciBNxoukzrfVgyxTdFMPYY2ySYoZ2RJyIE3EiTsT9BtkQXMPBHZJiAAAAAElFTkSuQmCC\">"
      ],
      "text/plain": [
       "19×19 reinterpret(reshape, Gray{Float64}, ::Matrix{Float64}) with eltype Gray{Float64}:\n",
       " Gray{Float64}(3.82709e-51)  …  Gray{Float64}(1.50052e-54)\n",
       " Gray{Float64}(5.63283e-10)     Gray{Float64}(7.07726e-31)\n",
       " Gray{Float64}(2.19401e-14)     Gray{Float64}(6.50973e-35)\n",
       " Gray{Float64}(4.69282e-54)     Gray{Float64}(8.04203e-50)\n",
       " Gray{Float64}(3.43011e-39)     Gray{Float64}(1.90631e-39)\n",
       " Gray{Float64}(1.26411e-28)  …  Gray{Float64}(3.7171e-28)\n",
       " Gray{Float64}(2.4578e-17)      Gray{Float64}(1.32159e-16)\n",
       " Gray{Float64}(1.93322e-5)      Gray{Float64}(1.54377e-8)\n",
       " Gray{Float64}(0.0554503)       Gray{Float64}(0.00352552)\n",
       " Gray{Float64}(0.011474)        Gray{Float64}(0.056714)\n",
       " Gray{Float64}(0.00102427)   …  Gray{Float64}(0.00299811)\n",
       " Gray{Float64}(0.000670115)     Gray{Float64}(1.62943e-5)\n",
       " Gray{Float64}(1.57731e-5)      Gray{Float64}(1.1295e-8)\n",
       " Gray{Float64}(2.26628e-8)      Gray{Float64}(7.24769e-16)\n",
       " Gray{Float64}(3.13237e-27)     Gray{Float64}(7.64228e-24)\n",
       " Gray{Float64}(3.15094e-35)  …  Gray{Float64}(1.65371e-18)\n",
       " Gray{Float64}(1.42972e-34)     Gray{Float64}(6.75993e-8)\n",
       " Gray{Float64}(1.98955e-30)     Gray{Float64}(4.81573e-6)\n",
       " Gray{Float64}(1.5555e-46)      Gray{Float64}(6.66416e-73)"
      ]
     },
     "metadata": {},
     "output_type": "display_data"
    },
    {
     "data": {
      "image/png": "[encoded data removed]",
      "text/html": [
       "<img src=\"data:image/png;base64,iVBORw0KGgoAAAANSUhEUgAAAHIAAAByCAAAAACqttqhAAAABGdBTUEAALGPC/xhBQAAAAFzUkdCAK7OHOkAAAAgY0hSTQAAeiYAAICEAAD6AAAAgOgAAHUwAADqYAAAOpgAABdwnLpRPAAAAj1JREFUaAW9wb9LlAEAxvFv3tMPWzLMhJCWJBAqbLJB2hr9DxpaMtpbIotoi4aIrKH2xtIpGisnIadcylo0ClLRITHr7uK55ZXj5T2VeD4fsQM1rE5nNaxOFREn4kSciBNxYgfq2Dg2h81hNewI1sBW6UzEiTgRJ+JEnGgZxBao8hzrwxpYA1tmd0SciBNxIk7EiZYF2p3BNrEFbAS7hz3BTmKPaTeALVFOxIk4ESfiRJxqWJ12HylcxN5iE9g77CHllqgi4kSciBNxIk6XsF/Ye8qNUbiATWMn2AsRJ+JEnIgTcTqLzWOD2FesgfVhNyisY4vYIcp1YUexU1gd+4CJOBEn4kSciFMTu4q9wL5QuEm7WayXKg1sBVvBDlMQcSJOxIk4Eaen2Bh2GTuOPcC6aVfHhA2xUxsURJyIE3EiTsRpA3uETWCTVOnDlrBvlOvCmhSaFESciBNxIk7EiZZpbAg7T5Vz2AA2TLl+bBn7QzsRJ+JEnIgTcWKbETr7gX2iyhp2F7tFOxEn4kSciBNxouU0NkZn17Fl7A7lfmOTlBNxIk7EiTgRpwNYP7tzG5vDpjBh3dhB7DvlRJyIE3EiTsRpC/vM7sxiUxT+Yj10JuJEnIgTcSJOtGxhz7BxqvRg65RbpNwoNoOJOBEn4kSciBMtP7H72BvsJf/TDAURJ+JEnIgTcWKbNewVhRp2DOvFurF5bJO9EHEiTsSJOBEntlnF9lHYj13BRrFhrIldw16zOyJOxIk4ESfi/gHKq1ev/BytMwAAAABJRU5ErkJg\">"
      ],
      "text/plain": [
       "19×19 reinterpret(reshape, Gray{Float64}, ::Matrix{Float64}) with eltype Gray{Float64}:\n",
       " Gray{Float64}(3.08343e-7)   …  Gray{Float64}(1.61312e-111)\n",
       " Gray{Float64}(1.59275e-6)      Gray{Float64}(7.4641e-69)\n",
       " Gray{Float64}(2.10619e-7)      Gray{Float64}(1.97639e-68)\n",
       " Gray{Float64}(1.68254e-17)     Gray{Float64}(1.72205e-79)\n",
       " Gray{Float64}(0.0113373)       Gray{Float64}(6.26119e-66)\n",
       " Gray{Float64}(0.281773)     …  Gray{Float64}(4.99301e-27)\n",
       " Gray{Float64}(0.46038)         Gray{Float64}(2.52208e-9)\n",
       " Gray{Float64}(0.456112)        Gray{Float64}(2.25369e-8)\n",
       " Gray{Float64}(0.0403448)       Gray{Float64}(4.1222e-12)\n",
       " Gray{Float64}(4.20937e-5)      Gray{Float64}(2.86499e-16)\n",
       " Gray{Float64}(3.09827e-9)   …  Gray{Float64}(1.32749e-25)\n",
       " Gray{Float64}(5.6628e-13)      Gray{Float64}(1.82248e-29)\n",
       " Gray{Float64}(6.4419e-7)       Gray{Float64}(2.92681e-33)\n",
       " Gray{Float64}(0.0216487)       Gray{Float64}(1.10869e-34)\n",
       " Gray{Float64}(3.78107e-9)      Gray{Float64}(3.10252e-28)\n",
       " Gray{Float64}(2.28059e-12)  …  Gray{Float64}(3.00526e-28)\n",
       " Gray{Float64}(5.24958e-13)     Gray{Float64}(4.63912e-22)\n",
       " Gray{Float64}(4.5648e-20)      Gray{Float64}(0.000159845)\n",
       " Gray{Float64}(2.3887e-46)      Gray{Float64}(6.18094e-27)"
      ]
     },
     "metadata": {},
     "output_type": "display_data"
    },
    {
     "data": {
      "image/png": "[encoded data removed]",
      "text/html": [
       "<img src=\"data:image/png;base64,iVBORw0KGgoAAAANSUhEUgAAAHIAAAByCAAAAACqttqhAAAABGdBTUEAALGPC/xhBQAAAAFzUkdCAK7OHOkAAAAgY0hSTQAAeiYAAICEAAD6AAAAgOgAAHUwAADqYAAAOpgAABdwnLpRPAAAAipJREFUaAW9wT1rUwEAheE39cRiQRcRBAXBwVmqk/gBDoKDk0hBcHTpPxAdBGnFX+DmIIKx4OZgXcQOjkVxK3QogtiCiAk24k1z5WS5JVzSNMJ5HrHLcewv1sd+YSU2jU1jPazACvZHxIk4ESfiRJzY5Tuj9LGjWBc7hf3BtrBNrM8oIk7EiTgRJ+LEPt3GutgXbBUrGJeIE3EiTsSJODG2Alvgf4k4ESfiRJyIExHCepiIE3EiTsSJODFwD3vM3h5ga9gS42pQEXEiTsSJOBEnBhaxRewgVlDvEZUlxlVQEXEiTsSJOBGnKYa9xG5hJZWSYVNYn701sBITcSJOxIk4EafzDLuJ/caeYleodxFbwWawbUZpYCJOxIk4ESfiNE+9Q9hd7DD1PmAL2DFsC2th37A21sSamIgTcSJOxIk4rWJ3sCnsPTaHXcVajHKfygwm7DL2CTuCdTARJ+JEnIgTcXqO/cRWsA0qr7AW4+pSWcZOYn2sg4k4ESfiRJyIUxt7jW1Tr4FdwF5g89hbRulhPzBhbUzEiTgRJ+JEnPpYQb017Az2ETvN/nSwBlZiIk7EiTgRJ+LEwCVsA1un8gT7jM1iO0yipCLiRJyIE3EiTgw0sbPYOpV32DXsOvaGSTSwEhNxIk7EiTgRJwaWsQMM+4rNYeeYXElFxIk4ESfiRJzYZYdRbmCz2DNsh0mIOBEn4kSciBNje8jeTmA9bJN6Ik7EiTgRJ+L+AY14WeaIuvXQAAAAAElFTkSuQmCC\">"
      ],
      "text/plain": [
       "19×19 reinterpret(reshape, Gray{Float64}, ::Matrix{Float64}) with eltype Gray{Float64}:\n",
       " Gray{Float64}(1.58257e-38)  …  Gray{Float64}(1.71319e-29)\n",
       " Gray{Float64}(1.66007e-21)     Gray{Float64}(3.89345e-13)\n",
       " Gray{Float64}(3.0086e-21)      Gray{Float64}(2.89109e-17)\n",
       " Gray{Float64}(2.27969e-40)     Gray{Float64}(4.82257e-11)\n",
       " Gray{Float64}(2.88948e-37)     Gray{Float64}(1.68076e-9)\n",
       " Gray{Float64}(1.72833e-23)  …  Gray{Float64}(5.46038e-8)\n",
       " Gray{Float64}(1.88796e-8)      Gray{Float64}(1.30141e-6)\n",
       " Gray{Float64}(0.00907986)      Gray{Float64}(0.000210459)\n",
       " Gray{Float64}(0.212219)        Gray{Float64}(0.00197656)\n",
       " Gray{Float64}(0.626641)        Gray{Float64}(0.0504142)\n",
       " Gray{Float64}(0.430242)     …  Gray{Float64}(0.107875)\n",
       " Gray{Float64}(0.0645145)       Gray{Float64}(0.0605578)\n",
       " Gray{Float64}(0.00600591)      Gray{Float64}(0.00261953)\n",
       " Gray{Float64}(0.00020794)      Gray{Float64}(1.95621e-10)\n",
       " Gray{Float64}(9.98396e-16)     Gray{Float64}(2.02537e-18)\n",
       " Gray{Float64}(6.97617e-20)  …  Gray{Float64}(4.00693e-17)\n",
       " Gray{Float64}(1.51485e-22)     Gray{Float64}(2.7356e-18)\n",
       " Gray{Float64}(5.38923e-23)     Gray{Float64}(4.45026e-15)\n",
       " Gray{Float64}(2.98374e-48)     Gray{Float64}(6.31929e-61)"
      ]
     },
     "metadata": {},
     "output_type": "display_data"
    },
    {
     "data": {
      "image/png": "[encoded data removed]",
      "text/html": [
       "<img src=\"data:image/png;base64,iVBORw0KGgoAAAANSUhEUgAAAHIAAAByCAAAAACqttqhAAAABGdBTUEAALGPC/xhBQAAAAFzUkdCAK7OHOkAAAAgY0hSTQAAeiYAAICEAAD6AAAAgOgAAHUwAADqYAAAOpgAABdwnLpRPAAAAjdJREFUaAW9wUFojgEAxvH/5tkUpZS4KBcnB0dSOOzuSpnjDoubSHEcO7hxmFxG6ivbTTntpJSFMqYcllYTJhftY9h83z49u7z17vXOt8Pz+4lah7FX2DY2dw0bpY6IE3EiTsSJOFFrFhN2BntItV3YdzYn4kSciBNxIk6s24n9xtpUm8COYBexBnaO7og4ESfiRJyIE+uWqbMbO4mNYIPYA6oJa1FNxIk4ESfiRJz4D9+wRxTGsCmqtagj4kSciBNxIk5syQhbJ+JEnIgTcSJObHAAW8RW6c5B7DK2BzuNtSmIOBEn4kSciNMO7CeFBawX68E6lHWo9h57ji1gHcpEnIgTcSJOxOkWNoy1KetQ1oP1Ym2qjVNHxIk4ESfiRJyGsCEKT7HX2E3sI4Wz2F7sCTZD2SlsATuEzWLvMBEn4kSciBNxYoMT2AT2hbIGNojNUG0au4d9xj5REHEiTsSJOBEn/mER66VsAGtQp4k1sH3YGwoiTsSJOBEn4jSNHaPsAvYSW8ZuYMPYeewO1VpYE/uFNSmIOBEn4kSciNNxrE3ZALaCrWJvsWdYD3YUe4F1KKxhfdh17DHWxkSciBNxIk7EaY06XymMYfexPmyJOpNYPzaKXcFEnIgTcSJOxIku7cfm2Vw/hXkKIk7EiTgRJ+JEl+YwUec2ZXcpiDgRJ+JEnIgTtfqwP5S1qHMVW8VWKBNxIk7EiTgRJ2pNYuPYdmwJ+4DNYR3KfmCXqCbiRJyIE3Ei7i8qg16nrCPtxAAAAABJRU5ErkJg\">"
      ],
      "text/plain": [
       "19×19 reinterpret(reshape, Gray{Float64}, ::Matrix{Float64}) with eltype Gray{Float64}:\n",
       " Gray{Float64}(5.82613e-10)  …  Gray{Float64}(9.48254e-79)\n",
       " Gray{Float64}(4.59846e-13)     Gray{Float64}(5.69754e-54)\n",
       " Gray{Float64}(1.91326e-13)     Gray{Float64}(1.03433e-58)\n",
       " Gray{Float64}(4.39447e-30)     Gray{Float64}(3.15006e-87)\n",
       " Gray{Float64}(4.67391e-24)     Gray{Float64}(7.41956e-75)\n",
       " Gray{Float64}(1.74999e-14)  …  Gray{Float64}(2.11883e-40)\n",
       " Gray{Float64}(2.67101e-8)      Gray{Float64}(2.04164e-19)\n",
       " Gray{Float64}(0.0408917)       Gray{Float64}(3.33895e-13)\n",
       " Gray{Float64}(0.607918)        Gray{Float64}(2.03371e-13)\n",
       " Gray{Float64}(1.31008)         Gray{Float64}(9.19717e-10)\n",
       " Gray{Float64}(1.52969)      …  Gray{Float64}(5.64522e-10)\n",
       " Gray{Float64}(1.31481)         Gray{Float64}(6.11193e-14)\n",
       " Gray{Float64}(0.777778)        Gray{Float64}(1.1486e-22)\n",
       " Gray{Float64}(0.00858891)      Gray{Float64}(5.14405e-24)\n",
       " Gray{Float64}(1.29807e-13)     Gray{Float64}(2.17644e-20)\n",
       " Gray{Float64}(1.1912e-19)   …  Gray{Float64}(1.40736e-16)\n",
       " Gray{Float64}(7.82327e-23)     Gray{Float64}(1.20984e-11)\n",
       " Gray{Float64}(3.05075e-27)     Gray{Float64}(7.00396e-11)\n",
       " Gray{Float64}(2.60712e-36)     Gray{Float64}(3.92129e-25)"
      ]
     },
     "metadata": {},
     "output_type": "display_data"
    }
   ],
   "source": [
    "for i in 1:10\n",
    "    display(colorview(Gray, reshape(W_pre_3[i, :], 19, 19)))\n",
    "end"
   ]
  },
  {
   "cell_type": "code",
   "execution_count": 27,
   "metadata": {
    "scrolled": true
   },
   "outputs": [
    {
     "data": {
      "image/png": "[encoded data removed]",
      "text/html": [
       "<img src=\"data:image/png;base64,iVBORw0KGgoAAAANSUhEUgAAAHIAAAByCAAAAACqttqhAAAABGdBTUEAALGPC/xhBQAAAAFzUkdCAK7OHOkAAAAgY0hSTQAAeiYAAICEAAD6AAAAgOgAAHUwAADqYAAAOpgAABdwnLpRPAAAAoRJREFUaAW9wU1qHAQAhuG35Jsxpk0zJXZSWymmMVUiom68gQvBleDWs3gTD+AJBA+ggi4sVIpghNREaJrmt0PTpCPvaiAI7UK/58lX6Av0GRry3ztA36JQF+pCXagLdVlBq2jI/2UJraFQF+pCXagLdVlED9EO+hs9RBP0LvoSzfPvvkM/oSM0RrfQCD1CoS7UhbpQF+oyQffQPtpCf6BDdBXdQ1+jBWa+Qd+jP9EELaHb6AYKCnWhLtSFulCXITpC22gXHaKgc7SFfkcfMrODnqEhOkJ7aIDm0Zso1IW6UBfqQl3W0RSdogFaQHPoMhqhVS5aRcfoAO2hIbqGNtDbKNSFulAX6kJdPkVjdIx20GM0RWfoObrKRZ+jj9EUnaFFdAsNmAl1oS7UhbpQlzEzV9A6WudVLaL3eFWhLtSFulAX6kJdqAt1oS7UhbpQF+pCXagLdaEu1IW6UBfqQl2oC69gE+2gd9AYnaL76CYa83KhLtSFulAX6vIYLXPRAZqgHfQD+hldR+fMLPFyExTqQl2oC3WhLvfRbTRE2+gJWkTnaISeo2O0gJbRFO2jPXSKrqFLaBOFulAX6kJdqMsueg0N0F/oAXqGltEAXUZDFHSEfkHHaIpuMnOGdlGoC3WhLtSFupyiEzRCA7SPfmXmDtpA8+gF2kKb6ACtobfQAD1FExTqQl2oC3WhLmfoEL2OVtBH6Bw9QjfQB2gFvUCLaA7NoQ20iqboEJ2gUBfqQl2oC3WZoFN0ju6gT9BdtIXm0RhdQVN0F62hN9AInaAHaBvtoVAX6kJdqAt1eYJO0CV0iN5H19ECMwtogIJGaIDm0AT9hn5EW+gpCnWhLtSFulD3DxZkdXylYkQ9AAAAAElFTkSuQmCC\">"
      ],
      "text/plain": [
       "19×19 reinterpret(reshape, Gray{Float64}, ::Matrix{Float64}) with eltype Gray{Float64}:\n",
       " Gray{Float64}(0.369943)  Gray{Float64}(0.689085)  …  Gray{Float64}(0.607321)\n",
       " Gray{Float64}(0.460643)  Gray{Float64}(0.819219)     Gray{Float64}(0.746888)\n",
       " Gray{Float64}(0.511283)  Gray{Float64}(0.708679)     Gray{Float64}(0.629507)\n",
       " Gray{Float64}(0.474286)  Gray{Float64}(0.532411)     Gray{Float64}(0.478296)\n",
       " Gray{Float64}(0.499048)  Gray{Float64}(0.481986)     Gray{Float64}(0.499979)\n",
       " Gray{Float64}(0.642854)  Gray{Float64}(0.638737)  …  Gray{Float64}(0.724588)\n",
       " Gray{Float64}(0.913655)  Gray{Float64}(1.0652)       Gray{Float64}(1.1102)\n",
       " Gray{Float64}(1.19382)   Gray{Float64}(1.48607)      Gray{Float64}(1.47249)\n",
       " Gray{Float64}(1.35107)   Gray{Float64}(1.66224)      Gray{Float64}(1.63826)\n",
       " Gray{Float64}(1.39666)   Gray{Float64}(1.67714)      Gray{Float64}(1.64401)\n",
       " Gray{Float64}(1.30355)   Gray{Float64}(1.54914)   …  Gray{Float64}(1.48545)\n",
       " Gray{Float64}(1.12893)   Gray{Float64}(1.32084)      Gray{Float64}(1.22891)\n",
       " Gray{Float64}(0.92586)   Gray{Float64}(1.06994)      Gray{Float64}(0.964085)\n",
       " Gray{Float64}(0.760303)  Gray{Float64}(0.877482)     Gray{Float64}(0.783947)\n",
       " Gray{Float64}(0.681045)  Gray{Float64}(0.787698)     Gray{Float64}(0.706623)\n",
       " Gray{Float64}(0.659702)  Gray{Float64}(0.745512)  …  Gray{Float64}(0.670608)\n",
       " Gray{Float64}(0.644551)  Gray{Float64}(0.691403)     Gray{Float64}(0.626951)\n",
       " Gray{Float64}(0.608957)  Gray{Float64}(0.619175)     Gray{Float64}(0.5581)\n",
       " Gray{Float64}(0.540178)  Gray{Float64}(0.497417)     Gray{Float64}(0.425542)"
      ]
     },
     "metadata": {},
     "output_type": "display_data"
    },
    {
     "data": {
      "image/png": "[encoded data removed]",
      "text/html": [
       "<img src=\"data:image/png;base64,iVBORw0KGgoAAAANSUhEUgAAAHIAAAByCAAAAACqttqhAAAABGdBTUEAALGPC/xhBQAAAAFzUkdCAK7OHOkAAAAgY0hSTQAAeiYAAICEAAD6AAAAgOgAAHUwAADqYAAAOpgAABdwnLpRPAAAAoRJREFUaAW9wU1qHAQAhuG35Jsxpk0zJXZSWymmMVUiom68gQvBleDWs3gTD+AJBA+ggi4sVIpghNREaJrmt0PTpCPvaiAI7UK/58lX6Av0GRry3ztA36JQF+pCXagLdVlBq2jI/2UJraFQF+pCXagLdVlED9EO+hs9RBP0LvoSzfPvvkM/oSM0RrfQCD1CoS7UhbpQF+oyQffQPtpCf6BDdBXdQ1+jBWa+Qd+jP9EELaHb6AYKCnWhLtSFulCXITpC22gXHaKgc7SFfkcfMrODnqEhOkJ7aIDm0Zso1IW6UBfqQl3W0RSdogFaQHPoMhqhVS5aRcfoAO2hIbqGNtDbKNSFulAX6kJdPkVjdIx20GM0RWfoObrKRZ+jj9EUnaFFdAsNmAl1oS7UhbpQlzEzV9A6WudVLaL3eFWhLtSFulAX6kJdqAt1oS7UhbpQF+pCXagLdaEu1IW6UBfqQl2oC69gE+2gd9AYnaL76CYa83KhLtSFulAX6vIYLXPRAZqgHfQD+hldR+fMLPFyExTqQl2oC3WhLvfRbTRE2+gJWkTnaISeo2O0gJbRFO2jPXSKrqFLaBOFulAX6kJdqMsueg0N0F/oAXqGltEAXUZDFHSEfkHHaIpuMnOGdlGoC3WhLtSFupyiEzRCA7SPfmXmDtpA8+gF2kKb6ACtobfQAD1FExTqQl2oC3WhLmfoEL2OVtBH6Bw9QjfQB2gFvUCLaA7NoQ20iqboEJ2gUBfqQl2oC3WZoFN0ju6gT9BdtIXm0RhdQVN0F62hN9AInaAHaBvtoVAX6kJdqAt1eYJO0CV0iN5H19ECMwtogIJGaIDm0AT9hn5EW+gpCnWhLtSFulD3DxZkdXylYkQ9AAAAAElFTkSuQmCC\">"
      ],
      "text/plain": [
       "19×19 reinterpret(reshape, Gray{Float64}, ::Matrix{Float64}) with eltype Gray{Float64}:\n",
       " Gray{Float64}(0.369943)  Gray{Float64}(0.689085)  …  Gray{Float64}(0.607321)\n",
       " Gray{Float64}(0.460643)  Gray{Float64}(0.819219)     Gray{Float64}(0.746888)\n",
       " Gray{Float64}(0.511283)  Gray{Float64}(0.708679)     Gray{Float64}(0.629507)\n",
       " Gray{Float64}(0.474286)  Gray{Float64}(0.532411)     Gray{Float64}(0.478296)\n",
       " Gray{Float64}(0.499048)  Gray{Float64}(0.481986)     Gray{Float64}(0.499979)\n",
       " Gray{Float64}(0.642854)  Gray{Float64}(0.638737)  …  Gray{Float64}(0.724588)\n",
       " Gray{Float64}(0.913655)  Gray{Float64}(1.0652)       Gray{Float64}(1.1102)\n",
       " Gray{Float64}(1.19382)   Gray{Float64}(1.48607)      Gray{Float64}(1.47249)\n",
       " Gray{Float64}(1.35107)   Gray{Float64}(1.66224)      Gray{Float64}(1.63826)\n",
       " Gray{Float64}(1.39666)   Gray{Float64}(1.67714)      Gray{Float64}(1.64401)\n",
       " Gray{Float64}(1.30355)   Gray{Float64}(1.54914)   …  Gray{Float64}(1.48545)\n",
       " Gray{Float64}(1.12893)   Gray{Float64}(1.32084)      Gray{Float64}(1.22891)\n",
       " Gray{Float64}(0.92586)   Gray{Float64}(1.06994)      Gray{Float64}(0.964085)\n",
       " Gray{Float64}(0.760303)  Gray{Float64}(0.877482)     Gray{Float64}(0.783947)\n",
       " Gray{Float64}(0.681045)  Gray{Float64}(0.787698)     Gray{Float64}(0.706623)\n",
       " Gray{Float64}(0.659702)  Gray{Float64}(0.745512)  …  Gray{Float64}(0.670608)\n",
       " Gray{Float64}(0.644551)  Gray{Float64}(0.691403)     Gray{Float64}(0.626951)\n",
       " Gray{Float64}(0.608957)  Gray{Float64}(0.619175)     Gray{Float64}(0.5581)\n",
       " Gray{Float64}(0.540178)  Gray{Float64}(0.497417)     Gray{Float64}(0.425542)"
      ]
     },
     "metadata": {},
     "output_type": "display_data"
    },
    {
     "data": {
      "image/png": "[encoded data removed]",
      "text/html": [
       "<img src=\"data:image/png;base64,iVBORw0KGgoAAAANSUhEUgAAAHIAAAByCAAAAACqttqhAAAABGdBTUEAALGPC/xhBQAAAAFzUkdCAK7OHOkAAAAgY0hSTQAAeiYAAICEAAD6AAAAgOgAAHUwAADqYAAAOpgAABdwnLpRPAAAAoRJREFUaAW9wU1qHAQAhuG35Jsxpk0zJXZSWymmMVUiom68gQvBleDWs3gTD+AJBA+ggi4sVIpghNREaJrmt0PTpCPvaiAI7UK/58lX6Av0GRry3ztA36JQF+pCXagLdVlBq2jI/2UJraFQF+pCXagLdVlED9EO+hs9RBP0LvoSzfPvvkM/oSM0RrfQCD1CoS7UhbpQF+oyQffQPtpCf6BDdBXdQ1+jBWa+Qd+jP9EELaHb6AYKCnWhLtSFulCXITpC22gXHaKgc7SFfkcfMrODnqEhOkJ7aIDm0Zso1IW6UBfqQl3W0RSdogFaQHPoMhqhVS5aRcfoAO2hIbqGNtDbKNSFulAX6kJdPkVjdIx20GM0RWfoObrKRZ+jj9EUnaFFdAsNmAl1oS7UhbpQlzEzV9A6WudVLaL3eFWhLtSFulAX6kJdqAt1oS7UhbpQF+pCXagLdaEu1IW6UBfqQl2oC69gE+2gd9AYnaL76CYa83KhLtSFulAX6vIYLXPRAZqgHfQD+hldR+fMLPFyExTqQl2oC3WhLvfRbTRE2+gJWkTnaISeo2O0gJbRFO2jPXSKrqFLaBOFulAX6kJdqMsueg0N0F/oAXqGltEAXUZDFHSEfkHHaIpuMnOGdlGoC3WhLtSFupyiEzRCA7SPfmXmDtpA8+gF2kKb6ACtobfQAD1FExTqQl2oC3WhLmfoEL2OVtBH6Bw9QjfQB2gFvUCLaA7NoQ20iqboEJ2gUBfqQl2oC3WZoFN0ju6gT9BdtIXm0RhdQVN0F62hN9AInaAHaBvtoVAX6kJdqAt1eYJO0CV0iN5H19ECMwtogIJGaIDm0AT9hn5EW+gpCnWhLtSFulD3DxZkdXylYkQ9AAAAAElFTkSuQmCC\">"
      ],
      "text/plain": [
       "19×19 reinterpret(reshape, Gray{Float64}, ::Matrix{Float64}) with eltype Gray{Float64}:\n",
       " Gray{Float64}(0.369943)  Gray{Float64}(0.689085)  …  Gray{Float64}(0.607321)\n",
       " Gray{Float64}(0.460643)  Gray{Float64}(0.819219)     Gray{Float64}(0.746888)\n",
       " Gray{Float64}(0.511283)  Gray{Float64}(0.708679)     Gray{Float64}(0.629507)\n",
       " Gray{Float64}(0.474286)  Gray{Float64}(0.532411)     Gray{Float64}(0.478296)\n",
       " Gray{Float64}(0.499048)  Gray{Float64}(0.481986)     Gray{Float64}(0.499979)\n",
       " Gray{Float64}(0.642854)  Gray{Float64}(0.638737)  …  Gray{Float64}(0.724588)\n",
       " Gray{Float64}(0.913655)  Gray{Float64}(1.0652)       Gray{Float64}(1.1102)\n",
       " Gray{Float64}(1.19382)   Gray{Float64}(1.48607)      Gray{Float64}(1.47249)\n",
       " Gray{Float64}(1.35107)   Gray{Float64}(1.66224)      Gray{Float64}(1.63826)\n",
       " Gray{Float64}(1.39666)   Gray{Float64}(1.67714)      Gray{Float64}(1.64401)\n",
       " Gray{Float64}(1.30355)   Gray{Float64}(1.54914)   …  Gray{Float64}(1.48545)\n",
       " Gray{Float64}(1.12893)   Gray{Float64}(1.32084)      Gray{Float64}(1.22891)\n",
       " Gray{Float64}(0.92586)   Gray{Float64}(1.06994)      Gray{Float64}(0.964085)\n",
       " Gray{Float64}(0.760303)  Gray{Float64}(0.877482)     Gray{Float64}(0.783947)\n",
       " Gray{Float64}(0.681045)  Gray{Float64}(0.787698)     Gray{Float64}(0.706623)\n",
       " Gray{Float64}(0.659702)  Gray{Float64}(0.745512)  …  Gray{Float64}(0.670608)\n",
       " Gray{Float64}(0.644551)  Gray{Float64}(0.691403)     Gray{Float64}(0.626951)\n",
       " Gray{Float64}(0.608957)  Gray{Float64}(0.619175)     Gray{Float64}(0.5581)\n",
       " Gray{Float64}(0.540178)  Gray{Float64}(0.497417)     Gray{Float64}(0.425542)"
      ]
     },
     "metadata": {},
     "output_type": "display_data"
    },
    {
     "data": {
      "image/png": "[encoded data removed]",
      "text/html": [
       "<img src=\"data:image/png;base64,iVBORw0KGgoAAAANSUhEUgAAAHIAAAByCAAAAACqttqhAAAABGdBTUEAALGPC/xhBQAAAAFzUkdCAK7OHOkAAAAgY0hSTQAAeiYAAICEAAD6AAAAgOgAAHUwAADqYAAAOpgAABdwnLpRPAAAAoRJREFUaAW9wU1qHAQAhuG35Jsxpk0zJXZSWymmMVUiom68gQvBleDWs3gTD+AJBA+ggi4sVIpghNREaJrmt0PTpCPvaiAI7UK/58lX6Av0GRry3ztA36JQF+pCXagLdVlBq2jI/2UJraFQF+pCXagLdVlED9EO+hs9RBP0LvoSzfPvvkM/oSM0RrfQCD1CoS7UhbpQF+oyQffQPtpCf6BDdBXdQ1+jBWa+Qd+jP9EELaHb6AYKCnWhLtSFulCXITpC22gXHaKgc7SFfkcfMrODnqEhOkJ7aIDm0Zso1IW6UBfqQl3W0RSdogFaQHPoMhqhVS5aRcfoAO2hIbqGNtDbKNSFulAX6kJdPkVjdIx20GM0RWfoObrKRZ+jj9EUnaFFdAsNmAl1oS7UhbpQlzEzV9A6WudVLaL3eFWhLtSFulAX6kJdqAt1oS7UhbpQF+pCXagLdaEu1IW6UBfqQl2oC69gE+2gd9AYnaL76CYa83KhLtSFulAX6vIYLXPRAZqgHfQD+hldR+fMLPFyExTqQl2oC3WhLvfRbTRE2+gJWkTnaISeo2O0gJbRFO2jPXSKrqFLaBOFulAX6kJdqMsueg0N0F/oAXqGltEAXUZDFHSEfkHHaIpuMnOGdlGoC3WhLtSFupyiEzRCA7SPfmXmDtpA8+gF2kKb6ACtobfQAD1FExTqQl2oC3WhLmfoEL2OVtBH6Bw9QjfQB2gFvUCLaA7NoQ20iqboEJ2gUBfqQl2oC3WZoFN0ju6gT9BdtIXm0RhdQVN0F62hN9AInaAHaBvtoVAX6kJdqAt1eYJO0CV0iN5H19ECMwtogIJGaIDm0AT9hn5EW+gpCnWhLtSFulD3DxZkdXylYkQ9AAAAAElFTkSuQmCC\">"
      ],
      "text/plain": [
       "19×19 reinterpret(reshape, Gray{Float64}, ::Matrix{Float64}) with eltype Gray{Float64}:\n",
       " Gray{Float64}(0.369943)  Gray{Float64}(0.689085)  …  Gray{Float64}(0.607321)\n",
       " Gray{Float64}(0.460643)  Gray{Float64}(0.819219)     Gray{Float64}(0.746888)\n",
       " Gray{Float64}(0.511283)  Gray{Float64}(0.708679)     Gray{Float64}(0.629507)\n",
       " Gray{Float64}(0.474286)  Gray{Float64}(0.532411)     Gray{Float64}(0.478296)\n",
       " Gray{Float64}(0.499048)  Gray{Float64}(0.481986)     Gray{Float64}(0.499979)\n",
       " Gray{Float64}(0.642854)  Gray{Float64}(0.638737)  …  Gray{Float64}(0.724588)\n",
       " Gray{Float64}(0.913655)  Gray{Float64}(1.0652)       Gray{Float64}(1.1102)\n",
       " Gray{Float64}(1.19382)   Gray{Float64}(1.48607)      Gray{Float64}(1.47249)\n",
       " Gray{Float64}(1.35107)   Gray{Float64}(1.66224)      Gray{Float64}(1.63826)\n",
       " Gray{Float64}(1.39666)   Gray{Float64}(1.67714)      Gray{Float64}(1.64401)\n",
       " Gray{Float64}(1.30355)   Gray{Float64}(1.54914)   …  Gray{Float64}(1.48545)\n",
       " Gray{Float64}(1.12893)   Gray{Float64}(1.32084)      Gray{Float64}(1.22891)\n",
       " Gray{Float64}(0.92586)   Gray{Float64}(1.06994)      Gray{Float64}(0.964085)\n",
       " Gray{Float64}(0.760303)  Gray{Float64}(0.877482)     Gray{Float64}(0.783947)\n",
       " Gray{Float64}(0.681045)  Gray{Float64}(0.787698)     Gray{Float64}(0.706623)\n",
       " Gray{Float64}(0.659702)  Gray{Float64}(0.745512)  …  Gray{Float64}(0.670608)\n",
       " Gray{Float64}(0.644551)  Gray{Float64}(0.691403)     Gray{Float64}(0.626951)\n",
       " Gray{Float64}(0.608957)  Gray{Float64}(0.619175)     Gray{Float64}(0.5581)\n",
       " Gray{Float64}(0.540178)  Gray{Float64}(0.497417)     Gray{Float64}(0.425542)"
      ]
     },
     "metadata": {},
     "output_type": "display_data"
    },
    {
     "data": {
      "image/png": "[encoded data removed]",
      "text/html": [
       "<img src=\"data:image/png;base64,iVBORw0KGgoAAAANSUhEUgAAAHIAAAByCAAAAACqttqhAAAABGdBTUEAALGPC/xhBQAAAAFzUkdCAK7OHOkAAAAgY0hSTQAAeiYAAICEAAD6AAAAgOgAAHUwAADqYAAAOpgAABdwnLpRPAAAAoRJREFUaAW9wU1qHAQAhuG35Jsxpk0zJXZSWymmMVUiom68gQvBleDWs3gTD+AJBA+ggi4sVIpghNREaJrmt0PTpCPvaiAI7UK/58lX6Av0GRry3ztA36JQF+pCXagLdVlBq2jI/2UJraFQF+pCXagLdVlED9EO+hs9RBP0LvoSzfPvvkM/oSM0RrfQCD1CoS7UhbpQF+oyQffQPtpCf6BDdBXdQ1+jBWa+Qd+jP9EELaHb6AYKCnWhLtSFulCXITpC22gXHaKgc7SFfkcfMrODnqEhOkJ7aIDm0Zso1IW6UBfqQl3W0RSdogFaQHPoMhqhVS5aRcfoAO2hIbqGNtDbKNSFulAX6kJdPkVjdIx20GM0RWfoObrKRZ+jj9EUnaFFdAsNmAl1oS7UhbpQlzEzV9A6WudVLaL3eFWhLtSFulAX6kJdqAt1oS7UhbpQF+pCXagLdaEu1IW6UBfqQl2oC69gE+2gd9AYnaL76CYa83KhLtSFulAX6vIYLXPRAZqgHfQD+hldR+fMLPFyExTqQl2oC3WhLvfRbTRE2+gJWkTnaISeo2O0gJbRFO2jPXSKrqFLaBOFulAX6kJdqMsueg0N0F/oAXqGltEAXUZDFHSEfkHHaIpuMnOGdlGoC3WhLtSFupyiEzRCA7SPfmXmDtpA8+gF2kKb6ACtobfQAD1FExTqQl2oC3WhLmfoEL2OVtBH6Bw9QjfQB2gFvUCLaA7NoQ20iqboEJ2gUBfqQl2oC3WZoFN0ju6gT9BdtIXm0RhdQVN0F62hN9AInaAHaBvtoVAX6kJdqAt1eYJO0CV0iN5H19ECMwtogIJGaIDm0AT9hn5EW+gpCnWhLtSFulD3DxZkdXylYkQ9AAAAAElFTkSuQmCC\">"
      ],
      "text/plain": [
       "19×19 reinterpret(reshape, Gray{Float64}, ::Matrix{Float64}) with eltype Gray{Float64}:\n",
       " Gray{Float64}(0.369943)  Gray{Float64}(0.689085)  …  Gray{Float64}(0.607321)\n",
       " Gray{Float64}(0.460643)  Gray{Float64}(0.819219)     Gray{Float64}(0.746888)\n",
       " Gray{Float64}(0.511283)  Gray{Float64}(0.708679)     Gray{Float64}(0.629507)\n",
       " Gray{Float64}(0.474286)  Gray{Float64}(0.532411)     Gray{Float64}(0.478296)\n",
       " Gray{Float64}(0.499048)  Gray{Float64}(0.481986)     Gray{Float64}(0.499979)\n",
       " Gray{Float64}(0.642854)  Gray{Float64}(0.638737)  …  Gray{Float64}(0.724588)\n",
       " Gray{Float64}(0.913655)  Gray{Float64}(1.0652)       Gray{Float64}(1.1102)\n",
       " Gray{Float64}(1.19382)   Gray{Float64}(1.48607)      Gray{Float64}(1.47249)\n",
       " Gray{Float64}(1.35107)   Gray{Float64}(1.66224)      Gray{Float64}(1.63826)\n",
       " Gray{Float64}(1.39666)   Gray{Float64}(1.67714)      Gray{Float64}(1.64401)\n",
       " Gray{Float64}(1.30355)   Gray{Float64}(1.54914)   …  Gray{Float64}(1.48545)\n",
       " Gray{Float64}(1.12893)   Gray{Float64}(1.32084)      Gray{Float64}(1.22891)\n",
       " Gray{Float64}(0.92586)   Gray{Float64}(1.06994)      Gray{Float64}(0.964085)\n",
       " Gray{Float64}(0.760303)  Gray{Float64}(0.877482)     Gray{Float64}(0.783947)\n",
       " Gray{Float64}(0.681045)  Gray{Float64}(0.787698)     Gray{Float64}(0.706623)\n",
       " Gray{Float64}(0.659702)  Gray{Float64}(0.745512)  …  Gray{Float64}(0.670608)\n",
       " Gray{Float64}(0.644551)  Gray{Float64}(0.691403)     Gray{Float64}(0.626951)\n",
       " Gray{Float64}(0.608957)  Gray{Float64}(0.619175)     Gray{Float64}(0.5581)\n",
       " Gray{Float64}(0.540178)  Gray{Float64}(0.497417)     Gray{Float64}(0.425542)"
      ]
     },
     "metadata": {},
     "output_type": "display_data"
    },
    {
     "data": {
      "image/png": "[encoded data removed]",
      "text/html": [
       "<img src=\"data:image/png;base64,iVBORw0KGgoAAAANSUhEUgAAAHIAAAByCAAAAACqttqhAAAABGdBTUEAALGPC/xhBQAAAAFzUkdCAK7OHOkAAAAgY0hSTQAAeiYAAICEAAD6AAAAgOgAAHUwAADqYAAAOpgAABdwnLpRPAAAAoRJREFUaAW9wU1qHAQAhuG35Jsxpk0zJXZSWymmMVUiom68gQvBleDWs3gTD+AJBA+ggi4sVIpghNREaJrmt0PTpCPvaiAI7UK/58lX6Av0GRry3ztA36JQF+pCXagLdVlBq2jI/2UJraFQF+pCXagLdVlED9EO+hs9RBP0LvoSzfPvvkM/oSM0RrfQCD1CoS7UhbpQF+oyQffQPtpCf6BDdBXdQ1+jBWa+Qd+jP9EELaHb6AYKCnWhLtSFulCXITpC22gXHaKgc7SFfkcfMrODnqEhOkJ7aIDm0Zso1IW6UBfqQl3W0RSdogFaQHPoMhqhVS5aRcfoAO2hIbqGNtDbKNSFulAX6kJdPkVjdIx20GM0RWfoObrKRZ+jj9EUnaFFdAsNmAl1oS7UhbpQlzEzV9A6WudVLaL3eFWhLtSFulAX6kJdqAt1oS7UhbpQF+pCXagLdaEu1IW6UBfqQl2oC69gE+2gd9AYnaL76CYa83KhLtSFulAX6vIYLXPRAZqgHfQD+hldR+fMLPFyExTqQl2oC3WhLvfRbTRE2+gJWkTnaISeo2O0gJbRFO2jPXSKrqFLaBOFulAX6kJdqMsueg0N0F/oAXqGltEAXUZDFHSEfkHHaIpuMnOGdlGoC3WhLtSFupyiEzRCA7SPfmXmDtpA8+gF2kKb6ACtobfQAD1FExTqQl2oC3WhLmfoEL2OVtBH6Bw9QjfQB2gFvUCLaA7NoQ20iqboEJ2gUBfqQl2oC3WZoFN0ju6gT9BdtIXm0RhdQVN0F62hN9AInaAHaBvtoVAX6kJdqAt1eYJO0CV0iN5H19ECMwtogIJGaIDm0AT9hn5EW+gpCnWhLtSFulD3DxZkdXylYkQ9AAAAAElFTkSuQmCC\">"
      ],
      "text/plain": [
       "19×19 reinterpret(reshape, Gray{Float64}, ::Matrix{Float64}) with eltype Gray{Float64}:\n",
       " Gray{Float64}(0.369943)  Gray{Float64}(0.689085)  …  Gray{Float64}(0.607321)\n",
       " Gray{Float64}(0.460643)  Gray{Float64}(0.819219)     Gray{Float64}(0.746888)\n",
       " Gray{Float64}(0.511283)  Gray{Float64}(0.708679)     Gray{Float64}(0.629507)\n",
       " Gray{Float64}(0.474286)  Gray{Float64}(0.532411)     Gray{Float64}(0.478296)\n",
       " Gray{Float64}(0.499048)  Gray{Float64}(0.481986)     Gray{Float64}(0.499979)\n",
       " Gray{Float64}(0.642854)  Gray{Float64}(0.638737)  …  Gray{Float64}(0.724588)\n",
       " Gray{Float64}(0.913655)  Gray{Float64}(1.0652)       Gray{Float64}(1.1102)\n",
       " Gray{Float64}(1.19382)   Gray{Float64}(1.48607)      Gray{Float64}(1.47249)\n",
       " Gray{Float64}(1.35107)   Gray{Float64}(1.66224)      Gray{Float64}(1.63826)\n",
       " Gray{Float64}(1.39666)   Gray{Float64}(1.67714)      Gray{Float64}(1.64401)\n",
       " Gray{Float64}(1.30355)   Gray{Float64}(1.54914)   …  Gray{Float64}(1.48545)\n",
       " Gray{Float64}(1.12893)   Gray{Float64}(1.32084)      Gray{Float64}(1.22891)\n",
       " Gray{Float64}(0.92586)   Gray{Float64}(1.06994)      Gray{Float64}(0.964085)\n",
       " Gray{Float64}(0.760303)  Gray{Float64}(0.877482)     Gray{Float64}(0.783947)\n",
       " Gray{Float64}(0.681045)  Gray{Float64}(0.787698)     Gray{Float64}(0.706623)\n",
       " Gray{Float64}(0.659702)  Gray{Float64}(0.745512)  …  Gray{Float64}(0.670608)\n",
       " Gray{Float64}(0.644551)  Gray{Float64}(0.691403)     Gray{Float64}(0.626951)\n",
       " Gray{Float64}(0.608957)  Gray{Float64}(0.619175)     Gray{Float64}(0.5581)\n",
       " Gray{Float64}(0.540178)  Gray{Float64}(0.497417)     Gray{Float64}(0.425542)"
      ]
     },
     "metadata": {},
     "output_type": "display_data"
    },
    {
     "data": {
      "image/png": "[encoded data removed]",
      "text/html": [
       "<img src=\"data:image/png;base64,iVBORw0KGgoAAAANSUhEUgAAAHIAAAByCAAAAACqttqhAAAABGdBTUEAALGPC/xhBQAAAAFzUkdCAK7OHOkAAAAgY0hSTQAAeiYAAICEAAD6AAAAgOgAAHUwAADqYAAAOpgAABdwnLpRPAAAAoRJREFUaAW9wU1qHAQAhuG35Jsxpk0zJXZSWymmMVUiom68gQvBleDWs3gTD+AJBA+ggi4sVIpghNREaJrmt0PTpCPvaiAI7UK/58lX6Av0GRry3ztA36JQF+pCXagLdVlBq2jI/2UJraFQF+pCXagLdVlED9EO+hs9RBP0LvoSzfPvvkM/oSM0RrfQCD1CoS7UhbpQF+oyQffQPtpCf6BDdBXdQ1+jBWa+Qd+jP9EELaHb6AYKCnWhLtSFulCXITpC22gXHaKgc7SFfkcfMrODnqEhOkJ7aIDm0Zso1IW6UBfqQl3W0RSdogFaQHPoMhqhVS5aRcfoAO2hIbqGNtDbKNSFulAX6kJdPkVjdIx20GM0RWfoObrKRZ+jj9EUnaFFdAsNmAl1oS7UhbpQlzEzV9A6WudVLaL3eFWhLtSFulAX6kJdqAt1oS7UhbpQF+pCXagLdaEu1IW6UBfqQl2oC69gE+2gd9AYnaL76CYa83KhLtSFulAX6vIYLXPRAZqgHfQD+hldR+fMLPFyExTqQl2oC3WhLvfRbTRE2+gJWkTnaISeo2O0gJbRFO2jPXSKrqFLaBOFulAX6kJdqMsueg0N0F/oAXqGltEAXUZDFHSEfkHHaIpuMnOGdlGoC3WhLtSFupyiEzRCA7SPfmXmDtpA8+gF2kKb6ACtobfQAD1FExTqQl2oC3WhLmfoEL2OVtBH6Bw9QjfQB2gFvUCLaA7NoQ20iqboEJ2gUBfqQl2oC3WZoFN0ju6gT9BdtIXm0RhdQVN0F62hN9AInaAHaBvtoVAX6kJdqAt1eYJO0CV0iN5H19ECMwtogIJGaIDm0AT9hn5EW+gpCnWhLtSFulD3DxZkdXylYkQ9AAAAAElFTkSuQmCC\">"
      ],
      "text/plain": [
       "19×19 reinterpret(reshape, Gray{Float64}, ::Matrix{Float64}) with eltype Gray{Float64}:\n",
       " Gray{Float64}(0.369943)  Gray{Float64}(0.689085)  …  Gray{Float64}(0.607321)\n",
       " Gray{Float64}(0.460643)  Gray{Float64}(0.819219)     Gray{Float64}(0.746888)\n",
       " Gray{Float64}(0.511283)  Gray{Float64}(0.708679)     Gray{Float64}(0.629507)\n",
       " Gray{Float64}(0.474286)  Gray{Float64}(0.532411)     Gray{Float64}(0.478296)\n",
       " Gray{Float64}(0.499048)  Gray{Float64}(0.481986)     Gray{Float64}(0.499979)\n",
       " Gray{Float64}(0.642854)  Gray{Float64}(0.638737)  …  Gray{Float64}(0.724588)\n",
       " Gray{Float64}(0.913655)  Gray{Float64}(1.0652)       Gray{Float64}(1.1102)\n",
       " Gray{Float64}(1.19382)   Gray{Float64}(1.48607)      Gray{Float64}(1.47249)\n",
       " Gray{Float64}(1.35107)   Gray{Float64}(1.66224)      Gray{Float64}(1.63826)\n",
       " Gray{Float64}(1.39666)   Gray{Float64}(1.67714)      Gray{Float64}(1.64401)\n",
       " Gray{Float64}(1.30355)   Gray{Float64}(1.54914)   …  Gray{Float64}(1.48545)\n",
       " Gray{Float64}(1.12893)   Gray{Float64}(1.32084)      Gray{Float64}(1.22891)\n",
       " Gray{Float64}(0.92586)   Gray{Float64}(1.06994)      Gray{Float64}(0.964085)\n",
       " Gray{Float64}(0.760303)  Gray{Float64}(0.877482)     Gray{Float64}(0.783947)\n",
       " Gray{Float64}(0.681045)  Gray{Float64}(0.787698)     Gray{Float64}(0.706623)\n",
       " Gray{Float64}(0.659702)  Gray{Float64}(0.745512)  …  Gray{Float64}(0.670608)\n",
       " Gray{Float64}(0.644551)  Gray{Float64}(0.691403)     Gray{Float64}(0.626951)\n",
       " Gray{Float64}(0.608957)  Gray{Float64}(0.619175)     Gray{Float64}(0.5581)\n",
       " Gray{Float64}(0.540178)  Gray{Float64}(0.497417)     Gray{Float64}(0.425542)"
      ]
     },
     "metadata": {},
     "output_type": "display_data"
    },
    {
     "data": {
      "image/png": "[encoded data removed]",
      "text/html": [
       "<img src=\"data:image/png;base64,iVBORw0KGgoAAAANSUhEUgAAAHIAAAByCAAAAACqttqhAAAABGdBTUEAALGPC/xhBQAAAAFzUkdCAK7OHOkAAAAgY0hSTQAAeiYAAICEAAD6AAAAgOgAAHUwAADqYAAAOpgAABdwnLpRPAAAAoRJREFUaAW9wU1qHAQAhuG35Jsxpk0zJXZSWymmMVUiom68gQvBleDWs3gTD+AJBA+ggi4sVIpghNREaJrmt0PTpCPvaiAI7UK/58lX6Av0GRry3ztA36JQF+pCXagLdVlBq2jI/2UJraFQF+pCXagLdVlED9EO+hs9RBP0LvoSzfPvvkM/oSM0RrfQCD1CoS7UhbpQF+oyQffQPtpCf6BDdBXdQ1+jBWa+Qd+jP9EELaHb6AYKCnWhLtSFulCXITpC22gXHaKgc7SFfkcfMrODnqEhOkJ7aIDm0Zso1IW6UBfqQl3W0RSdogFaQHPoMhqhVS5aRcfoAO2hIbqGNtDbKNSFulAX6kJdPkVjdIx20GM0RWfoObrKRZ+jj9EUnaFFdAsNmAl1oS7UhbpQlzEzV9A6WudVLaL3eFWhLtSFulAX6kJdqAt1oS7UhbpQF+pCXagLdaEu1IW6UBfqQl2oC69gE+2gd9AYnaL76CYa83KhLtSFulAX6vIYLXPRAZqgHfQD+hldR+fMLPFyExTqQl2oC3WhLvfRbTRE2+gJWkTnaISeo2O0gJbRFO2jPXSKrqFLaBOFulAX6kJdqMsueg0N0F/oAXqGltEAXUZDFHSEfkHHaIpuMnOGdlGoC3WhLtSFupyiEzRCA7SPfmXmDtpA8+gF2kKb6ACtobfQAD1FExTqQl2oC3WhLmfoEL2OVtBH6Bw9QjfQB2gFvUCLaA7NoQ20iqboEJ2gUBfqQl2oC3WZoFN0ju6gT9BdtIXm0RhdQVN0F62hN9AInaAHaBvtoVAX6kJdqAt1eYJO0CV0iN5H19ECMwtogIJGaIDm0AT9hn5EW+gpCnWhLtSFulD3DxZkdXylYkQ9AAAAAElFTkSuQmCC\">"
      ],
      "text/plain": [
       "19×19 reinterpret(reshape, Gray{Float64}, ::Matrix{Float64}) with eltype Gray{Float64}:\n",
       " Gray{Float64}(0.369943)  Gray{Float64}(0.689085)  …  Gray{Float64}(0.607321)\n",
       " Gray{Float64}(0.460643)  Gray{Float64}(0.819219)     Gray{Float64}(0.746888)\n",
       " Gray{Float64}(0.511283)  Gray{Float64}(0.708679)     Gray{Float64}(0.629507)\n",
       " Gray{Float64}(0.474286)  Gray{Float64}(0.532411)     Gray{Float64}(0.478296)\n",
       " Gray{Float64}(0.499048)  Gray{Float64}(0.481986)     Gray{Float64}(0.499979)\n",
       " Gray{Float64}(0.642854)  Gray{Float64}(0.638737)  …  Gray{Float64}(0.724588)\n",
       " Gray{Float64}(0.913655)  Gray{Float64}(1.0652)       Gray{Float64}(1.1102)\n",
       " Gray{Float64}(1.19382)   Gray{Float64}(1.48607)      Gray{Float64}(1.47249)\n",
       " Gray{Float64}(1.35107)   Gray{Float64}(1.66224)      Gray{Float64}(1.63826)\n",
       " Gray{Float64}(1.39666)   Gray{Float64}(1.67714)      Gray{Float64}(1.64401)\n",
       " Gray{Float64}(1.30355)   Gray{Float64}(1.54914)   …  Gray{Float64}(1.48545)\n",
       " Gray{Float64}(1.12893)   Gray{Float64}(1.32084)      Gray{Float64}(1.22891)\n",
       " Gray{Float64}(0.92586)   Gray{Float64}(1.06994)      Gray{Float64}(0.964085)\n",
       " Gray{Float64}(0.760303)  Gray{Float64}(0.877482)     Gray{Float64}(0.783947)\n",
       " Gray{Float64}(0.681045)  Gray{Float64}(0.787698)     Gray{Float64}(0.706623)\n",
       " Gray{Float64}(0.659702)  Gray{Float64}(0.745512)  …  Gray{Float64}(0.670608)\n",
       " Gray{Float64}(0.644551)  Gray{Float64}(0.691403)     Gray{Float64}(0.626951)\n",
       " Gray{Float64}(0.608957)  Gray{Float64}(0.619175)     Gray{Float64}(0.5581)\n",
       " Gray{Float64}(0.540178)  Gray{Float64}(0.497417)     Gray{Float64}(0.425542)"
      ]
     },
     "metadata": {},
     "output_type": "display_data"
    },
    {
     "data": {
      "image/png": "[encoded data removed]",
      "text/html": [
       "<img src=\"data:image/png;base64,iVBORw0KGgoAAAANSUhEUgAAAHIAAAByCAAAAACqttqhAAAABGdBTUEAALGPC/xhBQAAAAFzUkdCAK7OHOkAAAAgY0hSTQAAeiYAAICEAAD6AAAAgOgAAHUwAADqYAAAOpgAABdwnLpRPAAAAoRJREFUaAW9wU1qHAQAhuG35Jsxpk0zJXZSWymmMVUiom68gQvBleDWs3gTD+AJBA+ggi4sVIpghNREaJrmt0PTpCPvaiAI7UK/58lX6Av0GRry3ztA36JQF+pCXagLdVlBq2jI/2UJraFQF+pCXagLdVlED9EO+hs9RBP0LvoSzfPvvkM/oSM0RrfQCD1CoS7UhbpQF+oyQffQPtpCf6BDdBXdQ1+jBWa+Qd+jP9EELaHb6AYKCnWhLtSFulCXITpC22gXHaKgc7SFfkcfMrODnqEhOkJ7aIDm0Zso1IW6UBfqQl3W0RSdogFaQHPoMhqhVS5aRcfoAO2hIbqGNtDbKNSFulAX6kJdPkVjdIx20GM0RWfoObrKRZ+jj9EUnaFFdAsNmAl1oS7UhbpQlzEzV9A6WudVLaL3eFWhLtSFulAX6kJdqAt1oS7UhbpQF+pCXagLdaEu1IW6UBfqQl2oC69gE+2gd9AYnaL76CYa83KhLtSFulAX6vIYLXPRAZqgHfQD+hldR+fMLPFyExTqQl2oC3WhLvfRbTRE2+gJWkTnaISeo2O0gJbRFO2jPXSKrqFLaBOFulAX6kJdqMsueg0N0F/oAXqGltEAXUZDFHSEfkHHaIpuMnOGdlGoC3WhLtSFupyiEzRCA7SPfmXmDtpA8+gF2kKb6ACtobfQAD1FExTqQl2oC3WhLmfoEL2OVtBH6Bw9QjfQB2gFvUCLaA7NoQ20iqboEJ2gUBfqQl2oC3WZoFN0ju6gT9BdtIXm0RhdQVN0F62hN9AInaAHaBvtoVAX6kJdqAt1eYJO0CV0iN5H19ECMwtogIJGaIDm0AT9hn5EW+gpCnWhLtSFulD3DxZkdXylYkQ9AAAAAElFTkSuQmCC\">"
      ],
      "text/plain": [
       "19×19 reinterpret(reshape, Gray{Float64}, ::Matrix{Float64}) with eltype Gray{Float64}:\n",
       " Gray{Float64}(0.369943)  Gray{Float64}(0.689085)  …  Gray{Float64}(0.607321)\n",
       " Gray{Float64}(0.460643)  Gray{Float64}(0.819219)     Gray{Float64}(0.746888)\n",
       " Gray{Float64}(0.511283)  Gray{Float64}(0.708679)     Gray{Float64}(0.629507)\n",
       " Gray{Float64}(0.474286)  Gray{Float64}(0.532411)     Gray{Float64}(0.478296)\n",
       " Gray{Float64}(0.499048)  Gray{Float64}(0.481986)     Gray{Float64}(0.499979)\n",
       " Gray{Float64}(0.642854)  Gray{Float64}(0.638737)  …  Gray{Float64}(0.724588)\n",
       " Gray{Float64}(0.913655)  Gray{Float64}(1.0652)       Gray{Float64}(1.1102)\n",
       " Gray{Float64}(1.19382)   Gray{Float64}(1.48607)      Gray{Float64}(1.47249)\n",
       " Gray{Float64}(1.35107)   Gray{Float64}(1.66224)      Gray{Float64}(1.63826)\n",
       " Gray{Float64}(1.39666)   Gray{Float64}(1.67714)      Gray{Float64}(1.64401)\n",
       " Gray{Float64}(1.30355)   Gray{Float64}(1.54914)   …  Gray{Float64}(1.48545)\n",
       " Gray{Float64}(1.12893)   Gray{Float64}(1.32084)      Gray{Float64}(1.22891)\n",
       " Gray{Float64}(0.92586)   Gray{Float64}(1.06994)      Gray{Float64}(0.964085)\n",
       " Gray{Float64}(0.760303)  Gray{Float64}(0.877482)     Gray{Float64}(0.783947)\n",
       " Gray{Float64}(0.681045)  Gray{Float64}(0.787698)     Gray{Float64}(0.706623)\n",
       " Gray{Float64}(0.659702)  Gray{Float64}(0.745512)  …  Gray{Float64}(0.670608)\n",
       " Gray{Float64}(0.644551)  Gray{Float64}(0.691403)     Gray{Float64}(0.626951)\n",
       " Gray{Float64}(0.608957)  Gray{Float64}(0.619175)     Gray{Float64}(0.5581)\n",
       " Gray{Float64}(0.540178)  Gray{Float64}(0.497417)     Gray{Float64}(0.425542)"
      ]
     },
     "metadata": {},
     "output_type": "display_data"
    },
    {
     "data": {
      "image/png": "[encoded data removed]",
      "text/html": [
       "<img src=\"data:image/png;base64,iVBORw0KGgoAAAANSUhEUgAAAHIAAAByCAAAAACqttqhAAAABGdBTUEAALGPC/xhBQAAAAFzUkdCAK7OHOkAAAAgY0hSTQAAeiYAAICEAAD6AAAAgOgAAHUwAADqYAAAOpgAABdwnLpRPAAAAoRJREFUaAW9wU1qHAQAhuG35Jsxpk0zJXZSWymmMVUiom68gQvBleDWs3gTD+AJBA+ggi4sVIpghNREaJrmt0PTpCPvaiAI7UK/58lX6Av0GRry3ztA36JQF+pCXagLdVlBq2jI/2UJraFQF+pCXagLdVlED9EO+hs9RBP0LvoSzfPvvkM/oSM0RrfQCD1CoS7UhbpQF+oyQffQPtpCf6BDdBXdQ1+jBWa+Qd+jP9EELaHb6AYKCnWhLtSFulCXITpC22gXHaKgc7SFfkcfMrODnqEhOkJ7aIDm0Zso1IW6UBfqQl3W0RSdogFaQHPoMhqhVS5aRcfoAO2hIbqGNtDbKNSFulAX6kJdPkVjdIx20GM0RWfoObrKRZ+jj9EUnaFFdAsNmAl1oS7UhbpQlzEzV9A6WudVLaL3eFWhLtSFulAX6kJdqAt1oS7UhbpQF+pCXagLdaEu1IW6UBfqQl2oC69gE+2gd9AYnaL76CYa83KhLtSFulAX6vIYLXPRAZqgHfQD+hldR+fMLPFyExTqQl2oC3WhLvfRbTRE2+gJWkTnaISeo2O0gJbRFO2jPXSKrqFLaBOFulAX6kJdqMsueg0N0F/oAXqGltEAXUZDFHSEfkHHaIpuMnOGdlGoC3WhLtSFupyiEzRCA7SPfmXmDtpA8+gF2kKb6ACtobfQAD1FExTqQl2oC3WhLmfoEL2OVtBH6Bw9QjfQB2gFvUCLaA7NoQ20iqboEJ2gUBfqQl2oC3WZoFN0ju6gT9BdtIXm0RhdQVN0F62hN9AInaAHaBvtoVAX6kJdqAt1eYJO0CV0iN5H19ECMwtogIJGaIDm0AT9hn5EW+gpCnWhLtSFulD3DxZkdXylYkQ9AAAAAElFTkSuQmCC\">"
      ],
      "text/plain": [
       "19×19 reinterpret(reshape, Gray{Float64}, ::Matrix{Float64}) with eltype Gray{Float64}:\n",
       " Gray{Float64}(0.369943)  Gray{Float64}(0.689085)  …  Gray{Float64}(0.607321)\n",
       " Gray{Float64}(0.460643)  Gray{Float64}(0.819219)     Gray{Float64}(0.746888)\n",
       " Gray{Float64}(0.511283)  Gray{Float64}(0.708679)     Gray{Float64}(0.629507)\n",
       " Gray{Float64}(0.474286)  Gray{Float64}(0.532411)     Gray{Float64}(0.478296)\n",
       " Gray{Float64}(0.499048)  Gray{Float64}(0.481986)     Gray{Float64}(0.499979)\n",
       " Gray{Float64}(0.642854)  Gray{Float64}(0.638737)  …  Gray{Float64}(0.724588)\n",
       " Gray{Float64}(0.913655)  Gray{Float64}(1.0652)       Gray{Float64}(1.1102)\n",
       " Gray{Float64}(1.19382)   Gray{Float64}(1.48607)      Gray{Float64}(1.47249)\n",
       " Gray{Float64}(1.35107)   Gray{Float64}(1.66224)      Gray{Float64}(1.63826)\n",
       " Gray{Float64}(1.39666)   Gray{Float64}(1.67714)      Gray{Float64}(1.64401)\n",
       " Gray{Float64}(1.30355)   Gray{Float64}(1.54914)   …  Gray{Float64}(1.48545)\n",
       " Gray{Float64}(1.12893)   Gray{Float64}(1.32084)      Gray{Float64}(1.22891)\n",
       " Gray{Float64}(0.92586)   Gray{Float64}(1.06994)      Gray{Float64}(0.964085)\n",
       " Gray{Float64}(0.760303)  Gray{Float64}(0.877482)     Gray{Float64}(0.783947)\n",
       " Gray{Float64}(0.681045)  Gray{Float64}(0.787698)     Gray{Float64}(0.706623)\n",
       " Gray{Float64}(0.659702)  Gray{Float64}(0.745512)  …  Gray{Float64}(0.670608)\n",
       " Gray{Float64}(0.644551)  Gray{Float64}(0.691403)     Gray{Float64}(0.626951)\n",
       " Gray{Float64}(0.608957)  Gray{Float64}(0.619175)     Gray{Float64}(0.5581)\n",
       " Gray{Float64}(0.540178)  Gray{Float64}(0.497417)     Gray{Float64}(0.425542)"
      ]
     },
     "metadata": {},
     "output_type": "display_data"
    }
   ],
   "source": [
    "for i in 1:10\n",
    "    display(colorview(Gray, reshape(W_pre_4[i, :], 19, 19)))\n",
    "end"
   ]
  },
  {
   "cell_type": "markdown",
   "metadata": {},
   "source": [
    "The estimates of W in first three cases are all providing the estimation of different parts of a human face, which is consistent with our expectations as this W provides the basis images of X. However, for the fourth estimate, as it stops at the local minimums, this W cannot provides basis images of X, which is not helpful to our factorization."
   ]
  },
  {
   "cell_type": "markdown",
   "metadata": {},
   "source": [
    "### Q1.7 GPU (optional)\n",
    "\n",
    "Investigate the GPU capabilities of your computer. Report the speed gain of your GPU code over CPU code at ranks $r=10, 20, 30, 40, 50$. Make sure to use the same starting point as in Q1.3."
   ]
  },
  {
   "cell_type": "markdown",
   "metadata": {},
   "source": [
    "Currently, no packages are applicable on my MacBook Pro 2018 with Intel GPU."
   ]
  }
 ],
 "metadata": {
  "@webio": {
   "lastCommId": null,
   "lastKernelId": null
  },
  "kernelspec": {
   "display_name": "Julia 1.10.2",
   "language": "julia",
   "name": "julia-1.10"
  },
  "language_info": {
   "file_extension": ".jl",
   "mimetype": "application/julia",
   "name": "julia",
   "version": "1.10.2"
  },
  "toc": {
   "colors": {
    "hover_highlight": "#DAA520",
    "running_highlight": "#FF0000",
    "selected_highlight": "#FFD700"
   },
   "moveMenuLeft": true,
   "nav_menu": {
    "height": "87px",
    "width": "252px"
   },
   "navigate_menu": true,
   "number_sections": true,
   "sideBar": true,
   "skip_h1_title": true,
   "threshold": 4,
   "toc_cell": false,
   "toc_section_display": "block",
   "toc_window_display": false,
   "widenNotebook": false
  }
 },
 "nbformat": 4,
 "nbformat_minor": 4
}
