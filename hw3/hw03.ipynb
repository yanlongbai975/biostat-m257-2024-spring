{
 "cells": [
  {
   "cell_type": "raw",
   "metadata": {
    "vscode": {
     "languageId": "raw"
    }
   },
   "source": [
    "---\n",
    "title: Biostat/Biomath M257 Homework 3\n",
    "subtitle: 'Due May 3 @ 11:59PM'\n",
    "author: Yanlong Bai, 605667857\n",
    "date: today\n",
    "format:\n",
    "  html:\n",
    "    theme: cosmo\n",
    "    embed-resources: true\n",
    "    number-sections: false\n",
    "    toc: true\n",
    "    toc-depth: 4\n",
    "    toc-location: left\n",
    "---"
   ]
  },
  {
   "cell_type": "markdown",
   "metadata": {},
   "source": [
    "System information (for reproducibility):"
   ]
  },
  {
   "cell_type": "code",
   "execution_count": 1,
   "metadata": {
    "scrolled": true,
    "tags": []
   },
   "outputs": [
    {
     "name": "stdout",
     "output_type": "stream",
     "text": [
      "Julia Version 1.10.2\n",
      "Commit bd47eca2c8a (2024-03-01 10:14 UTC)\n",
      "Build Info:\n",
      "  Official https://julialang.org/ release\n",
      "Platform Info:\n",
      "  OS: macOS (x86_64-apple-darwin22.4.0)\n",
      "  CPU: 12 × Intel(R) Core(TM) i7-8750H CPU @ 2.20GHz\n",
      "  WORD_SIZE: 64\n",
      "  LIBM: libopenlibm\n",
      "  LLVM: libLLVM-15.0.7 (ORCJIT, skylake)\n",
      "Threads: 1 default, 0 interactive, 1 GC (on 12 virtual cores)\n"
     ]
    }
   ],
   "source": [
    "versioninfo()"
   ]
  },
  {
   "cell_type": "markdown",
   "metadata": {},
   "source": [
    "Load packages:"
   ]
  },
  {
   "cell_type": "code",
   "execution_count": 2,
   "metadata": {
    "scrolled": false,
    "tags": []
   },
   "outputs": [
    {
     "name": "stderr",
     "output_type": "stream",
     "text": [
      "\u001b[32m\u001b[1m  Activating\u001b[22m\u001b[39m project at `~/Documents/GitHub/biostat-m257-2024-spring/hw3/hw3`\n"
     ]
    },
    {
     "name": "stdout",
     "output_type": "stream",
     "text": [
      "\u001b[32m\u001b[1mStatus\u001b[22m\u001b[39m `~/Documents/GitHub/biostat-m257-2024-spring/hw3/hw3/Project.toml`\n",
      "  \u001b[90m[6e4b80f9] \u001b[39mBenchmarkTools v1.5.0\n",
      "  \u001b[90m[31c24e10] \u001b[39mDistributions v0.25.108\n",
      "  \u001b[90m[7522ee7d] \u001b[39mSweepOperator v0.3.4\n",
      "  \u001b[90m[37e2e46d] \u001b[39mLinearAlgebra\n",
      "  \u001b[90m[9a3f8284] \u001b[39mRandom\n"
     ]
    }
   ],
   "source": [
    "using Pkg\n",
    "\n",
    "Pkg.activate(pwd())\n",
    "Pkg.instantiate()\n",
    "Pkg.status()"
   ]
  },
  {
   "cell_type": "code",
   "execution_count": 3,
   "metadata": {
    "tags": []
   },
   "outputs": [],
   "source": [
    "using LinearAlgebra, Random\n",
    "using BenchmarkTools, Distributions"
   ]
  },
  {
   "cell_type": "markdown",
   "metadata": {},
   "source": [
    "Consider a linear mixed effects model\n",
    "$$\n",
    "    \\mathbf{Y}_i = \\mathbf{X}_i \\boldsymbol{\\beta} + \\mathbf{Z}_i \\boldsymbol{\\gamma} + \\boldsymbol{\\epsilon}_i, \\quad i=1,\\ldots,n,\n",
    "$$\n",
    "where   \n",
    "- $\\mathbf{Y}_i \\in \\mathbb{R}^{n_i}$ is the response vector of $i$-th individual,  \n",
    "- $\\mathbf{X}_i \\in \\mathbb{R}^{n_i \\times p}$ is the fixed effect predictor matrix of $i$-th individual,  \n",
    "- $\\mathbf{Z}_i \\in \\mathbb{R}^{n_i \\times q}$ is the random effect predictor matrix of $i$-th individual,  \n",
    "- $\\boldsymbol{\\epsilon}_i \\in \\mathbb{R}^{n_i}$ are multivariate normal $N(\\mathbf{0}_{n_i},\\sigma^2 \\mathbf{I}_{n_i})$,  \n",
    "- $\\boldsymbol{\\beta} \\in \\mathbb{R}^p$ are fixed effects, and  \n",
    "- $\\boldsymbol{\\gamma} \\in \\mathbb{R}^q$ are random effects assumed to be $N(\\mathbf{0}_q, \\boldsymbol{\\Sigma}_{q \\times q}$) independent of $\\boldsymbol{\\epsilon}_i$."
   ]
  },
  {
   "cell_type": "markdown",
   "metadata": {},
   "source": [
    "## Q1 Formula (10 pts)\n",
    "\n",
    "Write down the log-likelihood of the $i$-th datum $(\\mathbf{y}_i, \\mathbf{X}_i, \\mathbf{Z}_i)$ given parameters $(\\boldsymbol{\\beta}, \\boldsymbol{\\Sigma}, \\sigma^2)$. "
   ]
  },
  {
   "cell_type": "markdown",
   "metadata": {},
   "source": [
    "### Solution"
   ]
  },
  {
   "cell_type": "markdown",
   "metadata": {},
   "source": [
    "\\begin{align}\n",
    "    log-likelihood_i = -\\frac{n_i}{2}log(2\\pi) - \\frac{1}{2}log\\big[det(\\mathbf{Z}_i \\boldsymbol{\\Sigma} \\mathbf{Z}_i^T + \\sigma^2 I)\\big] - \\frac{1}{2}(\\mathbf{y}_i - \\mathbf{X}_i \\boldsymbol{\\beta})^T(\\mathbf{Z}_i \\boldsymbol{\\Sigma} \\mathbf{Z}_i^T + \\sigma^2 I)^{-1} (\\mathbf{y}_i - \\mathbf{X}_i \\boldsymbol{\\beta})\n",
    "\\end{align}"
   ]
  },
  {
   "cell_type": "markdown",
   "metadata": {},
   "source": [
    "## Q2 Start-up code\n",
    "\n",
    "Use the following template to define a type `LmmObs` that holds an LMM datum $(\\mathbf{y}_i, \\mathbf{X}_i, \\mathbf{Z}_i)$. "
   ]
  },
  {
   "cell_type": "code",
   "execution_count": 4,
   "metadata": {
    "tags": []
   },
   "outputs": [
    {
     "data": {
      "text/plain": [
       "LmmObs"
      ]
     },
     "execution_count": 4,
     "metadata": {},
     "output_type": "execute_result"
    }
   ],
   "source": [
    "# define a type that holds LMM datum\n",
    "struct LmmObs{T <: AbstractFloat}\n",
    "    # data\n",
    "    y :: Vector{T}\n",
    "    X :: Matrix{T}\n",
    "    Z :: Matrix{T}\n",
    "    # working arrays\n",
    "    # whatever intermediate vectors/arrays you may want to pre-allocate\n",
    "    storage_p  :: Vector{T}\n",
    "    xty        :: Vector{T}\n",
    "    storage_q  :: Vector{T}\n",
    "    zty        :: Vector{T}\n",
    "    xtx        :: Matrix{T}\n",
    "    ztx        :: Matrix{T}\n",
    "    ztz        :: Matrix{T}\n",
    "    yty        :: T\n",
    "    storage_qq :: Matrix{T}\n",
    "    storage_qq2 :: Matrix{T}\n",
    "end\n",
    "\n",
    "# constructor\n",
    "function LmmObs(\n",
    "        y::Vector{T}, \n",
    "        X::Matrix{T}, \n",
    "        Z::Matrix{T}\n",
    "        ) where T <: AbstractFloat\n",
    "    storage_p  = Vector{T}(undef, size(X, 2))\n",
    "    xty        = transpose(X) * y\n",
    "    storage_q  = Vector{T}(undef, size(Z, 2))\n",
    "    zty        = transpose(Z) * y\n",
    "    xtx        = transpose(X) * X\n",
    "    ztx        = transpose(Z) * X\n",
    "    ztz        = transpose(Z) * Z\n",
    "    yty        = transpose(y) * y\n",
    "    storage_qq = similar(ztz) #used to storage inverse(σ²I + L^T Z_i^T Z_i L)\n",
    "    storage_qq2 = similar(ztz) #used to storage inverse(σ²I + L^T Z_i^T Z_i L)\n",
    "    LmmObs(y, X, Z, storage_p, xty, storage_q, zty, xtx, ztx, ztz, yty, storage_qq, storage_qq2)\n",
    "end"
   ]
  },
  {
   "cell_type": "markdown",
   "metadata": {},
   "source": [
    "Write a function, with interface   \n",
    "```julia\n",
    "logl!(obs, β, L, σ²)\n",
    "```\n",
    "that evaluates the log-likelihood of the $i$-th datum. Here `L` is the lower triangular Cholesky factor from the Cholesky decomposition `Σ=LL'`. Make your code efficient in the $n_i \\gg q$ case. Think the intensive longitudinal measurement setting.  "
   ]
  },
  {
   "cell_type": "markdown",
   "metadata": {},
   "source": [
    "### Solution:"
   ]
  },
  {
   "cell_type": "markdown",
   "metadata": {},
   "source": [
    "Two formulas can be used to simplify the computations."
   ]
  },
  {
   "cell_type": "markdown",
   "metadata": {},
   "source": [
    "1."
   ]
  },
  {
   "cell_type": "markdown",
   "metadata": {},
   "source": [
    "$$\n",
    "(I + AB)^{-1} = I - A(I + BA)^{-1}B\n",
    "$$"
   ]
  },
  {
   "cell_type": "markdown",
   "metadata": {},
   "source": [
    "2."
   ]
  },
  {
   "cell_type": "markdown",
   "metadata": {},
   "source": [
    "$$\n",
    "det(I + AB) = det(I + BA)\n",
    "$$"
   ]
  },
  {
   "cell_type": "markdown",
   "metadata": {},
   "source": [
    "Mathematical proof:"
   ]
  },
  {
   "cell_type": "markdown",
   "metadata": {},
   "source": [
    "\\begin{align}\n",
    "l\\left(\\beta, \\Sigma, \\sigma^{2}\\right)\n",
    "& =-\\frac{n}{2} \\log (2 \\pi)-\\frac{1}{2} \\log |V|-\\frac{1}{2}(Y-X \\beta)^{T} V^{-1}(Y-X \\beta) \n",
    "\\\\\n",
    "& =-\\frac{n}{2} \\log (2 \\pi)-\\frac{1}{2} \\log \\left|Z LL^T Z^T+\\sigma^{2} I_{n}\\right|-\\frac{1}{2}\\left(Y-X(\\beta)^{T}\\left(Z LL^T Z^{T}+\\sigma^{2} I_{n}\\right)^{-1}(Y-x \\beta)\\right)\n",
    "\\\\\n",
    "& =-\\frac{n}{2} \\log (2 \\pi) - \\frac{n}{2} \\log  \\sigma^{2} - \\frac{1}{2} \\log \\left|I + L^TZ^{T}ZL / \\sigma^{2}\\right| -\\frac{1}{2 \\sigma^{2}}(Y-x \\beta)^{T}(Y-x \\beta)\n",
    "\\\\\n",
    "& \\quad +\\frac{1}{2 \\sigma^{2}}(Y-x \\beta)^{T} ZL\\big(I+ L^T Z^{T} Z L / \\sigma^{2}\\big)^{-1}L^T Z^{T}(Y-x \\beta) \n",
    "\\\\\n",
    "& =-\\frac{n}{2} \\log (2 \\pi\\sigma^{2}) -\\frac{1}{2} \\log \\left|I + L^TZ^{T}ZL / \\sigma^{2}\\right| -\\frac{1}{2 \\sigma^{2}}(Y-x \\beta)^{T}(Y-x \\beta)\n",
    "\\\\\n",
    "&\\quad+\\frac{1}{2 \\sigma^{4}}\\left(Z^{T} Y-Z^{T}x \\beta\\right)^{T}L\\left(I+ L^TZ^T ZL /\\sigma^{2}\\right)^{-1}L^T\\left(Z^{T}Y-Z^{T}x \\beta\\right)\n",
    "\\\\\n",
    "& =-\\frac{n}{2} \\log (2 \\pi\\sigma^{2}) -\\frac{1}{2} \\log \\left|L_2 L_2^T\\right| -\\frac{1}{2 \\sigma^{2}}(Y-x \\beta)^{T}(Y-x \\beta)\n",
    "\\\\\n",
    "&\\quad+\\frac{1}{2 \\sigma^{4}}\\left(Z^{T} Y-Z^{T}x \\beta\\right)^{T}L\\left(L_2 L_2^T\\right)^{-1}L^T\\left(Z^{T}Y-Z^{T}x \\beta\\right)\n",
    "\\\\\n",
    "& =-\\frac{n}{2} \\log (2 \\pi\\sigma^{2}) -\\frac{1}{2} \\log \\left|L_2 L_2^T\\right| -\\frac{1}{2 \\sigma^{2}}(Y-x \\beta)^{T}(Y-x \\beta)+\\frac{1}{2 \\sigma^{4}}\\left|L_2^{-1}\\left(L^TZ^{T} Y- L^TZ^{T}x \\beta\\right)\\right|^2_2\n",
    "\\\\\n",
    "& =-\\frac{n}{2} \\log (2 \\pi\\sigma^{2}) - \\log \\left|L_2\\right| -\\frac{1}{2 \\sigma^{2}}(Y-x \\beta)^{T}(Y-x \\beta)+\\frac{1}{2 \\sigma^{4}}\\left|L_2^{-1}\\left(L^TZ^{T} Y - L^TZ^{T}x \\beta\\right)\\right|^2_2\n",
    "\\end{align}"
   ]
  },
  {
   "cell_type": "markdown",
   "metadata": {},
   "source": [
    "where $L_2$ is the Cholesky decomposition result of $I + L^TZ^TZL/\\sigma^2$"
   ]
  },
  {
   "cell_type": "code",
   "execution_count": 5,
   "metadata": {},
   "outputs": [
    {
     "data": {
      "text/plain": [
       "logl1! (generic function with 1 method)"
      ]
     },
     "execution_count": 5,
     "metadata": {},
     "output_type": "execute_result"
    }
   ],
   "source": [
    "function logl1!(\n",
    "        obs :: LmmObs{T}, \n",
    "        β   :: Vector{T}, \n",
    "        L   :: Matrix{T}, \n",
    "        σ²  :: T) where T <: AbstractFloat\n",
    "    n, p, q = size(obs.X, 1), size(obs.X, 2), size(obs.Z, 2)    \n",
    "    BLAS.symm!('L', 'U', 1 / σ², obs.ztz, L, 0.0, obs.storage_qq)\n",
    "    BLAS.gemm!('T', 'N', 1.0, L, obs.storage_qq, 0.0, obs.storage_qq2)\n",
    "    obs.storage_qq .= Symmetric(obs.storage_qq2) + I(q)\n",
    "    #Prepare for the derterminant part\n",
    "    #BLAS.syrk!('U', 'T', 1.0, Linv, 1 / σ², obs.storage_qq)\n",
    "    #obs.storage_qq .= Symmetric(obs.storage_qq)\n",
    "    LAPACK.potrf!('L', obs.storage_qq)\n",
    "    obs.storage_qq .= LowerTriangular(obs.storage_qq)\n",
    "    #Prepare for Z^Ty - Z^TX * β\n",
    "    obs.storage_q .= obs.zty\n",
    "    BLAS.gemv!('N', -1.0, obs.ztx, β, 1.0, obs.storage_q)\n",
    "    obs.storage_q .= transpose(L) * obs.storage_q\n",
    "    #Prepare for the inverse \n",
    "    BLAS.trsv!('L', 'N', 'N', obs.storage_qq, obs.storage_q)\n",
    "    #Prepare for X^TX * β\n",
    "    BLAS.gemv!('N', 1.0, obs.xtx, β, 0.0, obs.storage_p)\n",
    "    return(- (n//2) * log(2π) - (n//2) * log(σ²) \n",
    "        - (sum(log.(diag(obs.storage_qq))))\n",
    "        - (1//2) * (1 / σ²) * (obs.yty - 2 * dot(obs.xty, β) + dot(β, obs.storage_p) \n",
    "            - dot(obs.storage_q, obs.storage_q) * (1/σ²)\n",
    "        )\n",
    "    )   \n",
    "end"
   ]
  },
  {
   "cell_type": "markdown",
   "metadata": {},
   "source": [
    "**If it is allowed to precompute the inverse of L, then the running speed and memory usage can be further promoted.**"
   ]
  },
  {
   "cell_type": "markdown",
   "metadata": {},
   "source": [
    "\\begin{align}\n",
    "l\\left(\\beta, \\Sigma, \\sigma^{2}\\right)\n",
    "& =-\\frac{n}{2} \\log (2 \\pi)-\\frac{1}{2} \\log |V|-\\frac{1}{2}(Y-X \\beta)^{T} V^{-1}(Y-X \\beta) \n",
    "\\\\\n",
    "& =-\\frac{n}{2} \\log (2 \\pi)-\\frac{1}{2} \\log \\left|Z LL^T Z^T+\\sigma^{2} I_{n}\\right|-\\frac{1}{2}\\left(Y-X(\\beta)^{T}\\left(Z LL^T Z^{T}+\\sigma^{2} I_{n}\\right)^{-1}(Y-x \\beta)\\right)\n",
    "\\\\\n",
    "& =-\\frac{n}{2} \\log (2 \\pi) - \\frac{n}{2} \\log  \\sigma^{2} - \\frac{1}{2} \\log |L^T| \\left|(LL^T)^{-1} + Z^{T}Z / \\sigma^{2}\\right| |L| \n",
    "\\\\\n",
    "& \\quad -\\frac{1}{2 \\sigma^{2}}(Y-x \\beta)^{T}(Y-x \\beta)+\\frac{1}{2 \\sigma^{2}}(Y-x \\beta)^{T} Z\\big((LL^T)^{-1}+Z^{T} Z / \\sigma^{2}\\big)^{-1} Z^{T}(Y-x \\beta) \n",
    "\\\\\n",
    "& =-\\frac{n}{2} \\log (2 \\pi\\sigma^{2}) -\\frac{1}{2} \\log |L^T| \\left|(LL^T)^{-1} + Z^{T}Z / \\sigma^{2}\\right| |L| -\\frac{1}{2 \\sigma^{2}}(Y-x \\beta)^{T}(Y-x \\beta)\n",
    "\\\\\n",
    "&\\quad+\\frac{1}{2 \\sigma^{4}}\\left(Z^{T} Y-Z^{T}x \\beta\\right)^{T}\\left((LL^T)^{-1}+Z^{T} Z /\\sigma^{2}\\right)^{-1}\\left(Z^{T}Y-Z^{T}x \\beta\\right)\n",
    "\\\\\n",
    "& =-\\frac{n}{2} \\log (2 \\pi\\sigma^{2}) -\\frac{1}{2} \\log |L^T| \\left|L_2 L_2^T\\right| |L| -\\frac{1}{2 \\sigma^{2}}(Y-x \\beta)^{T}(Y-x \\beta)\n",
    "\\\\\n",
    "&\\quad+\\frac{1}{2 \\sigma^{4}}\\left(Z^{T} Y-Z^{T}x \\beta\\right)^{T}\\left(L_2 L_2^T\\right)^{-1}\\left(Z^{T}Y-Z^{T}x \\beta\\right)\n",
    "\\\\\n",
    "& =-\\frac{n}{2} \\log (2 \\pi\\sigma^{2}) -\\frac{1}{2} \\log |L^T| \\left|L_2 L_2^T\\right| |L| -\\frac{1}{2 \\sigma^{2}}(Y-x \\beta)^{T}(Y-x \\beta)+\\frac{1}{2 \\sigma^{4}}\\left|L_2^{-1}\\left(Z^{T} Y-Z^{T}x \\beta\\right)\\right|^2_2\n",
    "\\\\\n",
    "& =-\\frac{n}{2} \\log (2 \\pi\\sigma^{2}) + \\log \\left|L^{-1}\\right| - \\log \\left|L_2\\right| -\\frac{1}{2 \\sigma^{2}}(Y-x \\beta)^{T}(Y-x \\beta)+\\frac{1}{2 \\sigma^{4}}\\left|L_2^{-1}\\left(Z^{T} Y-Z^{T}x \\beta\\right)\\right|^2_2\n",
    "\\end{align}"
   ]
  },
  {
   "cell_type": "markdown",
   "metadata": {},
   "source": [
    "where $L_2$ is the Cholesky decomposition result of $(LL^T)^{-1} + Z^TZ/\\sigma^2 = (L^{-1})^TL^{-1}+ Z^TZ/\\sigma^2$"
   ]
  },
  {
   "cell_type": "code",
   "execution_count": 6,
   "metadata": {
    "tags": []
   },
   "outputs": [
    {
     "data": {
      "text/plain": [
       "logl2! (generic function with 1 method)"
      ]
     },
     "execution_count": 6,
     "metadata": {},
     "output_type": "execute_result"
    }
   ],
   "source": [
    "function logl2!(\n",
    "        obs :: LmmObs{T}, \n",
    "        β   :: Vector{T}, \n",
    "        Linv:: Matrix{T}, \n",
    "        σ²  :: T) where T <: AbstractFloat\n",
    "    n, p, q = size(obs.X, 1), size(obs.X, 2), size(obs.Z, 2)    \n",
    "\n",
    "    obs.storage_qq .= obs.ztz\n",
    "    #Prepare for the derterminant part\n",
    "    BLAS.syrk!('U', 'T', 1.0, Linv, 1 / σ², obs.storage_qq)\n",
    "    obs.storage_qq .= Symmetric(obs.storage_qq)\n",
    "    LAPACK.potrf!('L', obs.storage_qq)\n",
    "    obs.storage_qq .= LowerTriangular(obs.storage_qq)\n",
    "    #Prepare for Z^Ty - Z^TX * β\n",
    "    obs.storage_q .= obs.zty\n",
    "    BLAS.gemv!('N', -1.0, obs.ztx, β, 1.0, obs.storage_q)\n",
    "    #Prepare for the inverse \n",
    "    BLAS.trsv!('L', 'N', 'N', obs.storage_qq, obs.storage_q)\n",
    "    #Prepare for X^TX * β\n",
    "    BLAS.gemv!('N', 1.0, obs.xtx, β, 0.0, obs.storage_p)\n",
    "    return(- (n//2) * log(2π) - (n//2) * log(σ²) \n",
    "        - (sum(log.(diag(obs.storage_qq))) - sum(log.(diag(Linv))))\n",
    "        - (1//2) * (1 / σ²) * (obs.yty - 2 * dot(obs.xty, β) + dot(β, obs.storage_p) \n",
    "            - dot(obs.storage_q, obs.storage_q) * (1/σ²)\n",
    "        )\n",
    "    )   \n",
    "end"
   ]
  },
  {
   "cell_type": "markdown",
   "metadata": {},
   "source": [
    "**Hint**: This function shouldn't be very long. Mine, obeying 92-character rule, is 30 lines. If you find yourself writing very long code, you're on the wrong track. Think about algorithm (flop count) first then use BLAS functions to reduce memory allocations."
   ]
  },
  {
   "cell_type": "markdown",
   "metadata": {},
   "source": [
    "## Q3 Correctness (15 pts)\n",
    "\n",
    "Compare your result (both accuracy and timing) to the [Distributions.jl](https://juliastats.org/Distributions.jl/stable/multivariate/#Distributions.AbstractMvNormal) package using following data."
   ]
  },
  {
   "cell_type": "markdown",
   "metadata": {},
   "source": [
    "### Solution"
   ]
  },
  {
   "cell_type": "code",
   "execution_count": 26,
   "metadata": {
    "scrolled": true,
    "tags": []
   },
   "outputs": [
    {
     "data": {
      "text/plain": [
       "LmmObs{Float64}([-0.954332745798538, 1.708628623631947, 6.158974576749139, 5.169631703045298, 0.6809423111307418, 2.959889369862154, 0.42003005461150134, 4.093957900991921, 5.948403040653879, 2.8053988068901172  …  4.21150686507263, -0.9916538074359607, -1.3881101188876772, -0.8404895572053244, 8.326165884151456, 4.050730156446721, 6.7987277486925235, 4.083908668925583, 1.1264587302316045, 6.230980152631514], [1.0 0.6790633442371218 … 0.5400611947971554 -0.632040682052606; 1.0 1.2456776800889142 … -0.4818455756130373 0.6467830314674976; … ; 1.0 0.0733124748775436 … 0.6125080259511859 0.4181258283983667; 1.0 -1.336609049786048 … -0.18567490803712938 1.0745977099307227], [1.0 -1.0193326822839996 -0.15855601254314888; 1.0 1.7462667837699666 -0.4584376230657152; … ; 1.0 1.4843185594903878 0.42458303115266854; 1.0 0.3791714762820068 0.25150666970865837], [8.094e-320, 1.0e-323, 2.8135696016e-314, 2.813569633e-314, 0.0], [4370.744591901516, -1741.6337781007833, 1263.9024057666916, 303.7688688481645, 1689.9317485233294], [-0.5493061443340547, -0.5487502799077095, -0.5482297176535044], [4370.744591901515, -843.7833589268819, -4984.105051588067], [2000.0 -16.870943820386746 … -4.678756487678486 -33.01394193208299; -16.870943820386746 1972.1480562703996 … 42.18373658967013 -18.842752802403005; … ; -4.678756487678486 42.18373658967013 … 1962.031706211974 31.9476748423444; -33.01394193208299 -18.842752802403005 … 31.9476748423444 1952.6108146037136], [2000.0 -16.870943820386746 … -4.678756487678486 -33.01394193208297; 3.207786785008377 51.535093570134116 … -5.599636592147196 -25.64263779027383; 5.8864999631191735 -108.82214158453627 … 84.16510226928119 -24.939700580608633], [2000.0 3.207786785008377 5.8864999631191735; 3.207786785008377 1988.894096853326 -57.3189115446946; 5.8864999631191735 -57.3189115446946 2009.451939652711], 30015.378146038038, [4010.843034262898 139.68749343298728 141.7625226791948; 139.6874934329873 3971.1580135123936 14.979766227455782; 141.76252267919483 14.979766227455805 4011.261075263905], [4010.843034262898 139.68749343298728 141.7625226791948; 139.6874934329873 3971.1580135123936 14.979766227455782; 141.76252267919483 14.979766227455805 4011.261075263905])"
      ]
     },
     "execution_count": 26,
     "metadata": {},
     "output_type": "execute_result"
    }
   ],
   "source": [
    "Random.seed!(257)\n",
    "\n",
    "# dimension\n",
    "n, p, q = 2000, 5, 3\n",
    "# predictors\n",
    "X  = [ones(n) randn(n, p - 1)]\n",
    "Z  = [ones(n) randn(n, q - 1)]\n",
    "# parameter values\n",
    "β  = [2.0; -1.0; rand(p - 2)]\n",
    "σ² = 1.5\n",
    "Σ  = fill(0.1, q, q) + 2.9I\n",
    "# generate y\n",
    "y  = X * β + Z * rand(MvNormal(Σ)) + sqrt(σ²) * randn(n)\n",
    "\n",
    "# form an LmmObs object\n",
    "obs = LmmObs(y, X, Z)"
   ]
  },
  {
   "cell_type": "markdown",
   "metadata": {},
   "source": [
    "This is the standard way to evaluate log-density of a multivariate normal, using the Distributions.jl package. Let's evaluate the log-likelihood of this datum."
   ]
  },
  {
   "cell_type": "code",
   "execution_count": 27,
   "metadata": {
    "scrolled": true,
    "tags": []
   },
   "outputs": [
    {
     "data": {
      "text/plain": [
       "-3257.87179442897"
      ]
     },
     "execution_count": 27,
     "metadata": {},
     "output_type": "execute_result"
    }
   ],
   "source": [
    "μ  = X * β\n",
    "Ω  = Z * Σ * transpose(Z) +  σ² * I\n",
    "mvn = MvNormal(μ, Symmetric(Ω)) # MVN(μ, Σ)\n",
    "logpdf(mvn, y)"
   ]
  },
  {
   "cell_type": "markdown",
   "metadata": {},
   "source": [
    "Check that your answer matches that from Distributions.jl"
   ]
  },
  {
   "cell_type": "code",
   "execution_count": 28,
   "metadata": {
    "scrolled": false,
    "tags": []
   },
   "outputs": [
    {
     "data": {
      "text/plain": [
       "-3257.8717944289647"
      ]
     },
     "execution_count": 28,
     "metadata": {},
     "output_type": "execute_result"
    }
   ],
   "source": [
    "L = Matrix(cholesky(Σ).L)\n",
    "logl1!(obs, β, L, σ²)"
   ]
  },
  {
   "cell_type": "code",
   "execution_count": 29,
   "metadata": {},
   "outputs": [
    {
     "data": {
      "text/plain": [
       "-3257.871794428965"
      ]
     },
     "execution_count": 29,
     "metadata": {},
     "output_type": "execute_result"
    }
   ],
   "source": [
    "L = Matrix(cholesky(Σ).L)\n",
    "Linv = inv(L)\n",
    "logl2!(obs, β, Linv, σ²)"
   ]
  },
  {
   "cell_type": "markdown",
   "metadata": {},
   "source": [
    "**You will lose all 15 + 30 + 30 = 75 points** if the following statement throws `AssertionError`."
   ]
  },
  {
   "cell_type": "code",
   "execution_count": 30,
   "metadata": {
    "scrolled": true,
    "tags": []
   },
   "outputs": [],
   "source": [
    "@assert logl1!(obs, β, L, σ²) ≈ logpdf(mvn, y)"
   ]
  },
  {
   "cell_type": "code",
   "execution_count": 31,
   "metadata": {},
   "outputs": [],
   "source": [
    "@assert logl2!(obs, β, Linv, σ²) ≈ logpdf(mvn, y)"
   ]
  },
  {
   "cell_type": "markdown",
   "metadata": {},
   "source": [
    "## Q4 Efficiency (30 pts)\n",
    "\n",
    "Benchmarking your code and compare to the Distributions.jl function `logpdf`."
   ]
  },
  {
   "cell_type": "markdown",
   "metadata": {},
   "source": [
    "### Solution:"
   ]
  },
  {
   "cell_type": "code",
   "execution_count": 13,
   "metadata": {
    "tags": []
   },
   "outputs": [
    {
     "data": {
      "text/plain": [
       "BenchmarkTools.Trial: 5992 samples with 1 evaluation.\n",
       " Range \u001b[90m(\u001b[39m\u001b[36m\u001b[1mmin\u001b[22m\u001b[39m … \u001b[35mmax\u001b[39m\u001b[90m):  \u001b[39m\u001b[36m\u001b[1m740.934 μs\u001b[22m\u001b[39m … \u001b[35m 11.537 ms\u001b[39m  \u001b[90m┊\u001b[39m GC \u001b[90m(\u001b[39mmin … max\u001b[90m): \u001b[39m0.00% … 91.84%\n",
       " Time  \u001b[90m(\u001b[39m\u001b[34m\u001b[1mmedian\u001b[22m\u001b[39m\u001b[90m):     \u001b[39m\u001b[34m\u001b[1m808.494 μs               \u001b[22m\u001b[39m\u001b[90m┊\u001b[39m GC \u001b[90m(\u001b[39mmedian\u001b[90m):    \u001b[39m0.00%\n",
       " Time  \u001b[90m(\u001b[39m\u001b[32m\u001b[1mmean\u001b[22m\u001b[39m ± \u001b[32mσ\u001b[39m\u001b[90m):   \u001b[39m\u001b[32m\u001b[1m827.357 μs\u001b[22m\u001b[39m ± \u001b[32m196.734 μs\u001b[39m  \u001b[90m┊\u001b[39m GC \u001b[90m(\u001b[39mmean ± σ\u001b[90m):  \u001b[39m0.40% ±  1.67%\n",
       "\n",
       "  \u001b[39m \u001b[39m \u001b[39m \u001b[39m \u001b[39m \u001b[39m█\u001b[39m▄\u001b[39m█\u001b[39m█\u001b[39m▆\u001b[39m▄\u001b[34m▅\u001b[39m\u001b[39m▅\u001b[39m▃\u001b[32m▁\u001b[39m\u001b[39m \u001b[39m \u001b[39m \u001b[39m \u001b[39m \u001b[39m \u001b[39m \u001b[39m \u001b[39m \u001b[39m \u001b[39m \u001b[39m \u001b[39m \u001b[39m \u001b[39m \u001b[39m \u001b[39m \u001b[39m \u001b[39m \u001b[39m \u001b[39m \u001b[39m \u001b[39m \u001b[39m \u001b[39m \u001b[39m \u001b[39m \u001b[39m \u001b[39m \u001b[39m \u001b[39m \u001b[39m \u001b[39m \u001b[39m \u001b[39m \u001b[39m \u001b[39m \u001b[39m \u001b[39m \u001b[39m \u001b[39m \u001b[39m \u001b[39m \u001b[39m \u001b[39m \u001b[39m \u001b[39m \u001b[39m \n",
       "  \u001b[39m▂\u001b[39m▃\u001b[39m▆\u001b[39m▅\u001b[39m▆\u001b[39m█\u001b[39m█\u001b[39m█\u001b[39m█\u001b[39m█\u001b[39m█\u001b[34m█\u001b[39m\u001b[39m█\u001b[39m█\u001b[32m█\u001b[39m\u001b[39m▇\u001b[39m▇\u001b[39m▆\u001b[39m▆\u001b[39m▅\u001b[39m▄\u001b[39m▄\u001b[39m▃\u001b[39m▄\u001b[39m▃\u001b[39m▃\u001b[39m▂\u001b[39m▂\u001b[39m▂\u001b[39m▂\u001b[39m▂\u001b[39m▂\u001b[39m▂\u001b[39m▂\u001b[39m▁\u001b[39m▁\u001b[39m▁\u001b[39m▁\u001b[39m▁\u001b[39m▁\u001b[39m▁\u001b[39m▁\u001b[39m▁\u001b[39m▁\u001b[39m▁\u001b[39m▁\u001b[39m▁\u001b[39m▁\u001b[39m▁\u001b[39m▁\u001b[39m▁\u001b[39m▁\u001b[39m▁\u001b[39m▁\u001b[39m▁\u001b[39m▁\u001b[39m▁\u001b[39m▁\u001b[39m▁\u001b[39m▁\u001b[39m▁\u001b[39m \u001b[39m▃\n",
       "  741 μs\u001b[90m           Histogram: frequency by time\u001b[39m         1.12 ms \u001b[0m\u001b[1m<\u001b[22m\n",
       "\n",
       " Memory estimate\u001b[90m: \u001b[39m\u001b[33m31.52 KiB\u001b[39m, allocs estimate\u001b[90m: \u001b[39m\u001b[33m3\u001b[39m."
      ]
     },
     "execution_count": 13,
     "metadata": {},
     "output_type": "execute_result"
    }
   ],
   "source": [
    "# benchmark the `logpdf` function in Distribution.jl\n",
    "bm1 = @benchmark logpdf($mvn, $y)"
   ]
  },
  {
   "cell_type": "code",
   "execution_count": 14,
   "metadata": {
    "tags": []
   },
   "outputs": [
    {
     "data": {
      "text/plain": [
       "BenchmarkTools.Trial: 10000 samples with 10 evaluations.\n",
       " Range \u001b[90m(\u001b[39m\u001b[36m\u001b[1mmin\u001b[22m\u001b[39m … \u001b[35mmax\u001b[39m\u001b[90m):  \u001b[39m\u001b[36m\u001b[1m1.055 μs\u001b[22m\u001b[39m … \u001b[35m  8.635 μs\u001b[39m  \u001b[90m┊\u001b[39m GC \u001b[90m(\u001b[39mmin … max\u001b[90m): \u001b[39m0.00% … 0.00%\n",
       " Time  \u001b[90m(\u001b[39m\u001b[34m\u001b[1mmedian\u001b[22m\u001b[39m\u001b[90m):     \u001b[39m\u001b[34m\u001b[1m1.160 μs               \u001b[22m\u001b[39m\u001b[90m┊\u001b[39m GC \u001b[90m(\u001b[39mmedian\u001b[90m):    \u001b[39m0.00%\n",
       " Time  \u001b[90m(\u001b[39m\u001b[32m\u001b[1mmean\u001b[22m\u001b[39m ± \u001b[32mσ\u001b[39m\u001b[90m):   \u001b[39m\u001b[32m\u001b[1m1.249 μs\u001b[22m\u001b[39m ± \u001b[32m241.354 ns\u001b[39m  \u001b[90m┊\u001b[39m GC \u001b[90m(\u001b[39mmean ± σ\u001b[90m):  \u001b[39m0.00% ± 0.00%\n",
       "\n",
       "  \u001b[39m \u001b[39m▂\u001b[39m▁\u001b[39m \u001b[39m▃\u001b[39m█\u001b[39m▄\u001b[39m \u001b[39m \u001b[39m \u001b[34m \u001b[39m\u001b[39m \u001b[39m \u001b[39m \u001b[39m \u001b[39m \u001b[39m \u001b[39m \u001b[39m \u001b[32m \u001b[39m\u001b[39m \u001b[39m \u001b[39m \u001b[39m \u001b[39m \u001b[39m \u001b[39m \u001b[39m \u001b[39m \u001b[39m \u001b[39m \u001b[39m \u001b[39m \u001b[39m \u001b[39m \u001b[39m \u001b[39m \u001b[39m \u001b[39m \u001b[39m \u001b[39m \u001b[39m \u001b[39m \u001b[39m \u001b[39m \u001b[39m \u001b[39m \u001b[39m \u001b[39m \u001b[39m \u001b[39m \u001b[39m \u001b[39m \u001b[39m \u001b[39m \u001b[39m \u001b[39m \u001b[39m \u001b[39m \u001b[39m \u001b[39m \n",
       "  \u001b[39m▅\u001b[39m█\u001b[39m█\u001b[39m▇\u001b[39m█\u001b[39m█\u001b[39m█\u001b[39m▇\u001b[39m█\u001b[39m▆\u001b[34m▄\u001b[39m\u001b[39m▂\u001b[39m▂\u001b[39m▂\u001b[39m▁\u001b[39m▁\u001b[39m▂\u001b[39m▁\u001b[39m▁\u001b[32m▄\u001b[39m\u001b[39m▆\u001b[39m▅\u001b[39m▄\u001b[39m▅\u001b[39m▄\u001b[39m▅\u001b[39m▄\u001b[39m▃\u001b[39m▃\u001b[39m▂\u001b[39m▂\u001b[39m▃\u001b[39m▅\u001b[39m▄\u001b[39m▄\u001b[39m▂\u001b[39m▃\u001b[39m▄\u001b[39m▃\u001b[39m▂\u001b[39m▂\u001b[39m▄\u001b[39m▆\u001b[39m▃\u001b[39m▂\u001b[39m▂\u001b[39m▂\u001b[39m▂\u001b[39m▁\u001b[39m▁\u001b[39m▁\u001b[39m▁\u001b[39m▁\u001b[39m▁\u001b[39m▁\u001b[39m▁\u001b[39m▁\u001b[39m▁\u001b[39m▁\u001b[39m \u001b[39m▃\n",
       "  1.06 μs\u001b[90m         Histogram: frequency by time\u001b[39m        1.67 μs \u001b[0m\u001b[1m<\u001b[22m\n",
       "\n",
       " Memory estimate\u001b[90m: \u001b[39m\u001b[33m432 bytes\u001b[39m, allocs estimate\u001b[90m: \u001b[39m\u001b[33m5\u001b[39m."
      ]
     },
     "execution_count": 14,
     "metadata": {},
     "output_type": "execute_result"
    }
   ],
   "source": [
    "# benchmark your implementation\n",
    "L = Matrix(cholesky(Σ).L)\n",
    "bm2 = @benchmark logl1!($obs, $β, $L, $σ²)"
   ]
  },
  {
   "cell_type": "code",
   "execution_count": 15,
   "metadata": {},
   "outputs": [
    {
     "data": {
      "text/plain": [
       "BenchmarkTools.Trial: 10000 samples with 77 evaluations.\n",
       " Range \u001b[90m(\u001b[39m\u001b[36m\u001b[1mmin\u001b[22m\u001b[39m … \u001b[35mmax\u001b[39m\u001b[90m):  \u001b[39m\u001b[36m\u001b[1m829.870 ns\u001b[22m\u001b[39m … \u001b[35m 39.307 μs\u001b[39m  \u001b[90m┊\u001b[39m GC \u001b[90m(\u001b[39mmin … max\u001b[90m): \u001b[39m0.00% … 97.11%\n",
       " Time  \u001b[90m(\u001b[39m\u001b[34m\u001b[1mmedian\u001b[22m\u001b[39m\u001b[90m):     \u001b[39m\u001b[34m\u001b[1m838.688 ns               \u001b[22m\u001b[39m\u001b[90m┊\u001b[39m GC \u001b[90m(\u001b[39mmedian\u001b[90m):    \u001b[39m0.00%\n",
       " Time  \u001b[90m(\u001b[39m\u001b[32m\u001b[1mmean\u001b[22m\u001b[39m ± \u001b[32mσ\u001b[39m\u001b[90m):   \u001b[39m\u001b[32m\u001b[1m876.369 ns\u001b[22m\u001b[39m ± \u001b[32m544.791 ns\u001b[39m  \u001b[90m┊\u001b[39m GC \u001b[90m(\u001b[39mmean ± σ\u001b[90m):  \u001b[39m0.86% ±  1.37%\n",
       "\n",
       "  \u001b[39m█\u001b[34m▆\u001b[39m\u001b[39m \u001b[39m▇\u001b[39m▇\u001b[39m \u001b[39m \u001b[32m▁\u001b[39m\u001b[39m \u001b[39m \u001b[39m \u001b[39m \u001b[39m \u001b[39m \u001b[39m \u001b[39m \u001b[39m \u001b[39m \u001b[39m \u001b[39m \u001b[39m \u001b[39m \u001b[39m \u001b[39m \u001b[39m \u001b[39m \u001b[39m \u001b[39m \u001b[39m \u001b[39m \u001b[39m \u001b[39m \u001b[39m▃\u001b[39m \u001b[39m \u001b[39m \u001b[39m \u001b[39m \u001b[39m \u001b[39m \u001b[39m \u001b[39m \u001b[39m \u001b[39m \u001b[39m \u001b[39m \u001b[39m \u001b[39m \u001b[39m▂\u001b[39m▁\u001b[39m \u001b[39m \u001b[39m \u001b[39m \u001b[39m▁\u001b[39m \u001b[39m \u001b[39m \u001b[39m \u001b[39m \u001b[39m \u001b[39m \u001b[39m▂\n",
       "  \u001b[39m█\u001b[34m█\u001b[39m\u001b[39m█\u001b[39m█\u001b[39m█\u001b[39m█\u001b[39m▇\u001b[32m█\u001b[39m\u001b[39m▇\u001b[39m▆\u001b[39m▆\u001b[39m▆\u001b[39m▁\u001b[39m▁\u001b[39m▅\u001b[39m▅\u001b[39m▃\u001b[39m▁\u001b[39m▆\u001b[39m▄\u001b[39m▁\u001b[39m▃\u001b[39m▅\u001b[39m▅\u001b[39m▃\u001b[39m▁\u001b[39m▁\u001b[39m▆\u001b[39m▅\u001b[39m▅\u001b[39m▅\u001b[39m█\u001b[39m█\u001b[39m▇\u001b[39m▄\u001b[39m▆\u001b[39m▃\u001b[39m▃\u001b[39m▄\u001b[39m▃\u001b[39m▅\u001b[39m▆\u001b[39m█\u001b[39m▇\u001b[39m▄\u001b[39m▅\u001b[39m▅\u001b[39m▆\u001b[39m█\u001b[39m█\u001b[39m▇\u001b[39m▅\u001b[39m▅\u001b[39m▆\u001b[39m█\u001b[39m█\u001b[39m▆\u001b[39m▅\u001b[39m▅\u001b[39m▆\u001b[39m▇\u001b[39m \u001b[39m█\n",
       "  830 ns\u001b[90m        \u001b[39m\u001b[90mHistogram: \u001b[39m\u001b[90m\u001b[1mlog(\u001b[22m\u001b[39m\u001b[90mfrequency\u001b[39m\u001b[90m\u001b[1m)\u001b[22m\u001b[39m\u001b[90m by time\u001b[39m       1.22 μs \u001b[0m\u001b[1m<\u001b[22m\n",
       "\n",
       " Memory estimate\u001b[90m: \u001b[39m\u001b[33m320 bytes\u001b[39m, allocs estimate\u001b[90m: \u001b[39m\u001b[33m4\u001b[39m."
      ]
     },
     "execution_count": 15,
     "metadata": {},
     "output_type": "execute_result"
    }
   ],
   "source": [
    "# benchmark your implementation\n",
    "L = Matrix(cholesky(Σ).L)\n",
    "Linv = inv(L)\n",
    "bm3 = @benchmark logl2!($obs, $β, $Linv, $σ²)"
   ]
  },
  {
   "cell_type": "markdown",
   "metadata": {},
   "source": [
    "The points you will get is\n",
    "$$\n",
    "\\frac{x}{1000} \\times 30,\n",
    "$$\n",
    "where $x$ is the speedup of your program against the standard method."
   ]
  },
  {
   "cell_type": "code",
   "execution_count": 16,
   "metadata": {
    "tags": []
   },
   "outputs": [
    {
     "data": {
      "text/plain": [
       "20.914736569802535"
      ]
     },
     "execution_count": 16,
     "metadata": {},
     "output_type": "execute_result"
    }
   ],
   "source": [
    "# this is the points you'll get\n",
    "clamp(median(bm1).time / median(bm2).time / 1000 * 30, 0, 30)"
   ]
  },
  {
   "cell_type": "code",
   "execution_count": 17,
   "metadata": {},
   "outputs": [
    {
     "data": {
      "text/plain": [
       "28.919945183418758"
      ]
     },
     "execution_count": 17,
     "metadata": {},
     "output_type": "execute_result"
    }
   ],
   "source": [
    "# this is the points you'll get\n",
    "clamp(median(bm1).time / median(bm3).time / 1000 * 30, 0, 30)"
   ]
  },
  {
   "cell_type": "markdown",
   "metadata": {},
   "source": [
    "**Hint**: Apparently I am using 1000 as denominator because I expect your code to be at least $1000 \\times$ faster than the standard method."
   ]
  },
  {
   "cell_type": "markdown",
   "metadata": {},
   "source": [
    "## Q5 Memory (30 pts)\n",
    "\n",
    "You want to avoid memory allocation in the \"hot\" function `logl!`. You will lose 1 point for each `1 KiB = 1024 bytes` memory allocation. In other words, the points you get for this question is"
   ]
  },
  {
   "cell_type": "markdown",
   "metadata": {},
   "source": [
    "### Solution"
   ]
  },
  {
   "cell_type": "code",
   "execution_count": 18,
   "metadata": {
    "tags": []
   },
   "outputs": [
    {
     "data": {
      "text/plain": [
       "29.578125"
      ]
     },
     "execution_count": 18,
     "metadata": {},
     "output_type": "execute_result"
    }
   ],
   "source": [
    "clamp(30 - median(bm2).memory / 1024, 0, 30)"
   ]
  },
  {
   "cell_type": "code",
   "execution_count": 19,
   "metadata": {},
   "outputs": [
    {
     "data": {
      "text/plain": [
       "29.6875"
      ]
     },
     "execution_count": 19,
     "metadata": {},
     "output_type": "execute_result"
    }
   ],
   "source": [
    "clamp(30 - median(bm3).memory / 1024, 0, 30)"
   ]
  },
  {
   "cell_type": "markdown",
   "metadata": {},
   "source": [
    "**Hint**: I am able to reduce the memory allocation to 0 bytes."
   ]
  },
  {
   "cell_type": "markdown",
   "metadata": {},
   "source": [
    "## Q6 Misc (15 pts)\n",
    "\n",
    "Coding style, Git workflow, etc. For reproducibity, make sure we (TA and myself) can run your Jupyter Notebook. That is how we grade Q4 and Q5. If we cannot run it, you will get zero points."
   ]
  }
 ],
 "metadata": {
  "@webio": {
   "lastCommId": null,
   "lastKernelId": null
  },
  "jupytext": {
   "formats": "ipynb,qmd"
  },
  "kernelspec": {
   "display_name": "Julia 1.10.2",
   "language": "julia",
   "name": "julia-1.10"
  },
  "language_info": {
   "file_extension": ".jl",
   "mimetype": "application/julia",
   "name": "julia",
   "version": "1.10.2"
  },
  "toc": {
   "colors": {
    "hover_highlight": "#DAA520",
    "running_highlight": "#FF0000",
    "selected_highlight": "#FFD700"
   },
   "moveMenuLeft": true,
   "nav_menu": {
    "height": "87px",
    "width": "252px"
   },
   "navigate_menu": true,
   "number_sections": true,
   "sideBar": true,
   "skip_h1_title": true,
   "threshold": 4,
   "toc_cell": false,
   "toc_section_display": "block",
   "toc_window_display": false,
   "widenNotebook": false
  }
 },
 "nbformat": 4,
 "nbformat_minor": 4
}
